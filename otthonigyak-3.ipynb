{
    "metadata": {
        "kernelspec": {
            "name": "SQL",
            "display_name": "SQL",
            "language": "sql"
        },
        "language_info": {
            "name": "sql",
            "version": ""
        },
        "extensions": {
            "azuredatastudio": {
                "version": 1,
                "views": []
            }
        }
    },
    "nbformat_minor": 2,
    "nbformat": 4,
    "cells": [
        {
            "cell_type": "markdown",
            "source": [
                "**Az első 5 feladat ismétlés (többtáblás lekérdezések) a tanulmányi adatbázisból**\n",
                "\n",
                "1. Készítsünk listát arról, hogy melyik óra melyik teremben van!\n",
                "    \n",
                "    1. Jelenítsük meg az óra azonosítóját és a terem nevét!\n",
                "    2. A listát szűrjük a 3 karakter hosszú, \\[100;199\\] zárt intervallumba eső termekre! Feltesszük, hogy a 3 karakter hosszú terem nevek csak számjegyeket tartalmaznak."
            ],
            "metadata": {
                "azdata_cell_guid": "77f2d5b3-38e9-41cc-893f-f5afd02b97ef"
            },
            "attachments": {}
        },
        {
            "cell_type": "code",
            "source": [
                "select  orak.ora_id,\r\n",
                "        termek.Terem\r\n",
                "from orak\r\n",
                "join termek on termek.Tkód = orak.terem\r\n",
                "where len(termek.terem) = 3 and termek.terem between 100 and 199"
            ],
            "metadata": {
                "azdata_cell_guid": "bd3cef1a-4e6e-4ece-9dc3-aaa9d2b5d66d",
                "language": "sql"
            },
            "outputs": [
                {
                    "output_type": "display_data",
                    "data": {
                        "text/html": "(30 rows affected)"
                    },
                    "metadata": {}
                },
                {
                    "output_type": "display_data",
                    "data": {
                        "text/html": "Total execution time: 00:00:00.007"
                    },
                    "metadata": {}
                },
                {
                    "output_type": "execute_result",
                    "metadata": {},
                    "execution_count": 9,
                    "data": {
                        "application/vnd.dataresource+json": {
                            "schema": {
                                "fields": [
                                    {
                                        "name": "ora_id"
                                    },
                                    {
                                        "name": "Terem"
                                    }
                                ]
                            },
                            "data": [
                                {
                                    "ora_id": "159",
                                    "Terem": "117"
                                },
                                {
                                    "ora_id": "160",
                                    "Terem": "118"
                                },
                                {
                                    "ora_id": "161",
                                    "Terem": "118"
                                },
                                {
                                    "ora_id": "162",
                                    "Terem": "119"
                                },
                                {
                                    "ora_id": "163",
                                    "Terem": "120"
                                },
                                {
                                    "ora_id": "164",
                                    "Terem": "119"
                                },
                                {
                                    "ora_id": "165",
                                    "Terem": "119"
                                },
                                {
                                    "ora_id": "166",
                                    "Terem": "119"
                                },
                                {
                                    "ora_id": "167",
                                    "Terem": "120"
                                },
                                {
                                    "ora_id": "170",
                                    "Terem": "120"
                                },
                                {
                                    "ora_id": "172",
                                    "Terem": "119"
                                },
                                {
                                    "ora_id": "173",
                                    "Terem": "119"
                                },
                                {
                                    "ora_id": "175",
                                    "Terem": "120"
                                },
                                {
                                    "ora_id": "176",
                                    "Terem": "118"
                                },
                                {
                                    "ora_id": "177",
                                    "Terem": "119"
                                },
                                {
                                    "ora_id": "179",
                                    "Terem": "120"
                                },
                                {
                                    "ora_id": "180",
                                    "Terem": "119"
                                },
                                {
                                    "ora_id": "181",
                                    "Terem": "118"
                                },
                                {
                                    "ora_id": "185",
                                    "Terem": "120"
                                },
                                {
                                    "ora_id": "192",
                                    "Terem": "119"
                                },
                                {
                                    "ora_id": "195",
                                    "Terem": "116"
                                },
                                {
                                    "ora_id": "197",
                                    "Terem": "116"
                                },
                                {
                                    "ora_id": "198",
                                    "Terem": "119"
                                },
                                {
                                    "ora_id": "204",
                                    "Terem": "120"
                                },
                                {
                                    "ora_id": "212",
                                    "Terem": "120"
                                },
                                {
                                    "ora_id": "218",
                                    "Terem": "118"
                                },
                                {
                                    "ora_id": "220",
                                    "Terem": "119"
                                },
                                {
                                    "ora_id": "222",
                                    "Terem": "116"
                                },
                                {
                                    "ora_id": "226",
                                    "Terem": "117"
                                },
                                {
                                    "ora_id": "227",
                                    "Terem": "116"
                                }
                            ]
                        },
                        "text/html": [
                            "<table>",
                            "<tr><th>ora_id</th><th>Terem</th></tr>",
                            "<tr><td>159</td><td>117</td></tr>",
                            "<tr><td>160</td><td>118</td></tr>",
                            "<tr><td>161</td><td>118</td></tr>",
                            "<tr><td>162</td><td>119</td></tr>",
                            "<tr><td>163</td><td>120</td></tr>",
                            "<tr><td>164</td><td>119</td></tr>",
                            "<tr><td>165</td><td>119</td></tr>",
                            "<tr><td>166</td><td>119</td></tr>",
                            "<tr><td>167</td><td>120</td></tr>",
                            "<tr><td>170</td><td>120</td></tr>",
                            "<tr><td>172</td><td>119</td></tr>",
                            "<tr><td>173</td><td>119</td></tr>",
                            "<tr><td>175</td><td>120</td></tr>",
                            "<tr><td>176</td><td>118</td></tr>",
                            "<tr><td>177</td><td>119</td></tr>",
                            "<tr><td>179</td><td>120</td></tr>",
                            "<tr><td>180</td><td>119</td></tr>",
                            "<tr><td>181</td><td>118</td></tr>",
                            "<tr><td>185</td><td>120</td></tr>",
                            "<tr><td>192</td><td>119</td></tr>",
                            "<tr><td>195</td><td>116</td></tr>",
                            "<tr><td>197</td><td>116</td></tr>",
                            "<tr><td>198</td><td>119</td></tr>",
                            "<tr><td>204</td><td>120</td></tr>",
                            "<tr><td>212</td><td>120</td></tr>",
                            "<tr><td>218</td><td>118</td></tr>",
                            "<tr><td>220</td><td>119</td></tr>",
                            "<tr><td>222</td><td>116</td></tr>",
                            "<tr><td>226</td><td>117</td></tr>",
                            "<tr><td>227</td><td>116</td></tr>",
                            "</table>"
                        ]
                    }
                }
            ],
            "execution_count": 9
        },
        {
            "cell_type": "markdown",
            "source": [
                "2. <span style=\"font-weight: 600; color: rgb(36, 41, 47); font-family: -apple-system, BlinkMacSystemFont, &quot;Segoe UI&quot;, Helvetica, Arial, sans-serif, &quot;Apple Color Emoji&quot;, &quot;Segoe UI Emoji&quot;; font-size: 16px;\">Hány óra van összesen az egyes napokon?</span>\n",
                "\n",
                "1. Jelenítsük meg a napok nevét és az órák számát az adott napon!\n",
                "2. Az oszlopokat nevezzük el értelemszerűen!\n",
                "3. A listát rendezzük óraszám szerint növekvő sorrendbe!"
            ],
            "metadata": {
                "azdata_cell_guid": "88f5b4bb-f4c1-4bad-a0c7-b2592687b422"
            },
            "attachments": {}
        },
        {
            "cell_type": "code",
            "source": [
                "select  count(orak.ora_id) as 'Darabszám',\r\n",
                "        napok.nap as 'Nap neve'\r\n",
                "from orak\r\n",
                "join napok on orak.nap = napok.nap_id\r\n",
                "group by napok.nap\r\n",
                "order by count(orak.ora_id)"
            ],
            "metadata": {
                "azdata_cell_guid": "e9de5726-f036-4fb9-8c33-a873955ed886",
                "language": "sql"
            },
            "outputs": [
                {
                    "output_type": "display_data",
                    "data": {
                        "text/html": "(5 rows affected)"
                    },
                    "metadata": {}
                },
                {
                    "output_type": "display_data",
                    "data": {
                        "text/html": "Total execution time: 00:00:00.013"
                    },
                    "metadata": {}
                },
                {
                    "output_type": "execute_result",
                    "metadata": {},
                    "execution_count": 18,
                    "data": {
                        "application/vnd.dataresource+json": {
                            "schema": {
                                "fields": [
                                    {
                                        "name": "Darabszám"
                                    },
                                    {
                                        "name": "Nap neve"
                                    }
                                ]
                            },
                            "data": [
                                {
                                    "Darabszám": "6",
                                    "Nap neve": "Péntek"
                                },
                                {
                                    "Darabszám": "6",
                                    "Nap neve": "Szerda"
                                },
                                {
                                    "Darabszám": "13",
                                    "Nap neve": "Kedd"
                                },
                                {
                                    "Darabszám": "19",
                                    "Nap neve": "Csütörtök"
                                },
                                {
                                    "Darabszám": "23",
                                    "Nap neve": "Hétfő"
                                }
                            ]
                        },
                        "text/html": [
                            "<table>",
                            "<tr><th>Darabszám</th><th>Nap neve</th></tr>",
                            "<tr><td>6</td><td>Péntek</td></tr>",
                            "<tr><td>6</td><td>Szerda</td></tr>",
                            "<tr><td>13</td><td>Kedd</td></tr>",
                            "<tr><td>19</td><td>Csütörtök</td></tr>",
                            "<tr><td>23</td><td>Hétfő</td></tr>",
                            "</table>"
                        ]
                    }
                }
            ],
            "execution_count": 18
        },
        {
            "cell_type": "markdown",
            "source": [
                "3. <span style=\"font-weight: 600; color: rgb(36, 41, 47); font-family: -apple-system, BlinkMacSystemFont, &quot;Segoe UI&quot;, Helvetica, Arial, sans-serif, &quot;Apple Color Emoji&quot;, &quot;Segoe UI Emoji&quot;; font-size: 16px;\">Készítsünk listát arról, hogy melyik oktatónak hány órája van az Órák táblában!</span>\n",
                "\n",
                "1. A lista jelenítse meg az oktatók nevét, és az órák számát!\n",
                "2. Az oszlopokat nevezzük el értelemszerűen!\n",
                "3. A listából hagyjuk ki az óraadókat!"
            ],
            "metadata": {
                "azdata_cell_guid": "9e7249de-1b59-43d8-84b1-26fa7d81fc5a"
            },
            "attachments": {}
        },
        {
            "cell_type": "code",
            "source": [
                "select  count(*) as 'Órák száma',\r\n",
                "        Oktatok.nev as 'Tanár neve'\r\n",
                "from orak\r\n",
                "join oktatok on orak.tanar = oktatok.oktato_id\r\n",
                "join beosztasok on oktatok.beosztás = beosztasok.beosztas_id\r\n",
                "where Beosztasok.beosztasnev != 'Óraadó'\r\n",
                "group by oktatok.nev, beosztasok.beosztasnev"
            ],
            "metadata": {
                "azdata_cell_guid": "6405d3e8-a9b1-45d7-aa76-3b1e785ef6cc",
                "language": "sql",
                "tags": []
            },
            "outputs": [
                {
                    "output_type": "display_data",
                    "data": {
                        "text/html": "(15 rows affected)"
                    },
                    "metadata": {}
                },
                {
                    "output_type": "display_data",
                    "data": {
                        "text/html": "Total execution time: 00:00:00.012"
                    },
                    "metadata": {}
                },
                {
                    "output_type": "execute_result",
                    "metadata": {},
                    "execution_count": 30,
                    "data": {
                        "application/vnd.dataresource+json": {
                            "schema": {
                                "fields": [
                                    {
                                        "name": "Órák száma"
                                    },
                                    {
                                        "name": "Tanár neve"
                                    }
                                ]
                            },
                            "data": [
                                {
                                    "Órák száma": "2",
                                    "Tanár neve": "Szénási ászló"
                                },
                                {
                                    "Órák száma": "8",
                                    "Tanár neve": "Szentágotai Istvás"
                                },
                                {
                                    "Órák száma": "4",
                                    "Tanár neve": "Szép llonka"
                                },
                                {
                                    "Órák száma": "3",
                                    "Tanár neve": "Balkán András"
                                },
                                {
                                    "Órák száma": "3",
                                    "Tanár neve": "Szerb László"
                                },
                                {
                                    "Órák száma": "4",
                                    "Tanár neve": "Varga Kata"
                                },
                                {
                                    "Órák száma": "2",
                                    "Tanár neve": "Jogrerős Pál"
                                },
                                {
                                    "Órák száma": "2",
                                    "Tanár neve": "Juhász András"
                                },
                                {
                                    "Órák száma": "4",
                                    "Tanár neve": "Kovács László"
                                },
                                {
                                    "Órák száma": "3",
                                    "Tanár neve": "Ujfalussi István"
                                },
                                {
                                    "Órák száma": "7",
                                    "Tanár neve": "Farkasos Piroska"
                                },
                                {
                                    "Órák száma": "4",
                                    "Tanár neve": "Kiss János"
                                },
                                {
                                    "Órák száma": "6",
                                    "Tanár neve": "Pelikán József"
                                },
                                {
                                    "Órák száma": "1",
                                    "Tanár neve": "Róbert Gida"
                                },
                                {
                                    "Órák száma": "4",
                                    "Tanár neve": "Vitéz János"
                                }
                            ]
                        },
                        "text/html": [
                            "<table>",
                            "<tr><th>Órák száma</th><th>Tanár neve</th></tr>",
                            "<tr><td>2</td><td>Szénási ászló</td></tr>",
                            "<tr><td>8</td><td>Szentágotai Istvás</td></tr>",
                            "<tr><td>4</td><td>Szép llonka</td></tr>",
                            "<tr><td>3</td><td>Balkán András</td></tr>",
                            "<tr><td>3</td><td>Szerb László</td></tr>",
                            "<tr><td>4</td><td>Varga Kata</td></tr>",
                            "<tr><td>2</td><td>Jogrerős Pál</td></tr>",
                            "<tr><td>2</td><td>Juhász András</td></tr>",
                            "<tr><td>4</td><td>Kovács László</td></tr>",
                            "<tr><td>3</td><td>Ujfalussi István</td></tr>",
                            "<tr><td>7</td><td>Farkasos Piroska</td></tr>",
                            "<tr><td>4</td><td>Kiss János</td></tr>",
                            "<tr><td>6</td><td>Pelikán József</td></tr>",
                            "<tr><td>1</td><td>Róbert Gida</td></tr>",
                            "<tr><td>4</td><td>Vitéz János</td></tr>",
                            "</table>"
                        ]
                    }
                }
            ],
            "execution_count": 30
        },
        {
            "cell_type": "markdown",
            "source": [
                "4. <span style=\"color: rgb(36, 41, 47); font-family: -apple-system, BlinkMacSystemFont, &quot;Segoe UI&quot;, Helvetica, Arial, sans-serif, &quot;Apple Color Emoji&quot;, &quot;Segoe UI Emoji&quot;; font-size: 16px;\">Van-e olyan tantárgy, amelyből nincs óra?</span>\n",
                "\n",
                "1. Jelentsük meg a tantárgy nevét és a tantárgyfelelős nevét!"
            ],
            "metadata": {
                "azdata_cell_guid": "6478e469-c094-472c-a772-ccd5b5c61516"
            },
            "attachments": {}
        },
        {
            "cell_type": "code",
            "source": [
                "select  tantárgyak.Tantárgynév,\r\n",
                "        oktatok.nev\r\n",
                "from Orak\r\n",
                "right join Tantárgyak on orak.targy = Tantárgyak.Tkód\r\n",
                "join oktatok on Tantárgyak.Tantárgyfelelős = oktatok.oktato_id\r\n",
                "where orak.ora_id is NULL"
            ],
            "metadata": {
                "azdata_cell_guid": "02031ea2-3838-458d-839c-228e3b362b61",
                "language": "sql"
            },
            "outputs": [
                {
                    "output_type": "display_data",
                    "data": {
                        "text/html": "(1 row affected)"
                    },
                    "metadata": {}
                },
                {
                    "output_type": "display_data",
                    "data": {
                        "text/html": "Total execution time: 00:00:00.013"
                    },
                    "metadata": {}
                },
                {
                    "output_type": "execute_result",
                    "metadata": {},
                    "execution_count": 38,
                    "data": {
                        "application/vnd.dataresource+json": {
                            "schema": {
                                "fields": [
                                    {
                                        "name": "Tantárgynév"
                                    },
                                    {
                                        "name": "nev"
                                    }
                                ]
                            },
                            "data": [
                                {
                                    "Tantárgynév": "Folyami gáttan",
                                    "nev": "Varga Kata"
                                }
                            ]
                        },
                        "text/html": [
                            "<table>",
                            "<tr><th>Tantárgynév</th><th>nev</th></tr>",
                            "<tr><td>Folyami gáttan</td><td>Varga Kata</td></tr>",
                            "</table>"
                        ]
                    }
                }
            ],
            "execution_count": 38
        },
        {
            "cell_type": "markdown",
            "source": [
                "5. <span style=\"background-color: rgb(255, 255, 255); color: rgb(36, 41, 47); font-family: -apple-system, BlinkMacSystemFont, &quot;Segoe UI&quot;, Helvetica, Arial, sans-serif, &quot;Apple Color Emoji&quot;, &quot;Segoe UI Emoji&quot;; font-size: 16px;\">Hány óra van összesen a 120-as teremben?</span>"
            ],
            "metadata": {
                "azdata_cell_guid": "9edbbaf9-c276-4898-9a01-e1b2993c089f"
            },
            "attachments": {}
        },
        {
            "cell_type": "code",
            "source": [
                "select  count(*) as 'Órák száma'\r\n",
                "from Orak\r\n",
                "join termek on termek.tkód = orak.terem\r\n",
                "where termek.terem = '120'"
            ],
            "metadata": {
                "azdata_cell_guid": "5ad5fdcb-2878-4111-861a-833bcd50e935",
                "language": "sql"
            },
            "outputs": [
                {
                    "output_type": "display_data",
                    "data": {
                        "text/html": "(1 row affected)"
                    },
                    "metadata": {}
                },
                {
                    "output_type": "display_data",
                    "data": {
                        "text/html": "Total execution time: 00:00:00.006"
                    },
                    "metadata": {}
                },
                {
                    "output_type": "execute_result",
                    "metadata": {},
                    "execution_count": 46,
                    "data": {
                        "application/vnd.dataresource+json": {
                            "schema": {
                                "fields": [
                                    {
                                        "name": "Órák száma"
                                    }
                                ]
                            },
                            "data": [
                                {
                                    "Órák száma": "8"
                                }
                            ]
                        },
                        "text/html": [
                            "<table>",
                            "<tr><th>Órák száma</th></tr>",
                            "<tr><td>8</td></tr>",
                            "</table>"
                        ]
                    }
                }
            ],
            "execution_count": 46
        },
        {
            "cell_type": "markdown",
            "source": [
                "**A 6-10 feladatokat halmazműveletek segítségével oldjuk meg, szintén a tanulmányi adatbázison**\n",
                "\n",
                "6. <span style=\"background-color:rgb(255, 255, 255);color:rgb(36, 41, 47);font-family:-apple-system, BlinkMacSystemFont, &quot;Segoe UI&quot;, Helvetica, Arial, sans-serif, &quot;Apple Color Emoji&quot;, &quot;Segoe UI Emoji&quot;;font-size:16px;font-weight:600;\">Jelenítsük meg azon tanárok azonosítóját és nevét, akik hétfői vagy keddi napokon tanítanak!</span>"
            ],
            "metadata": {
                "azdata_cell_guid": "5fe65c1c-2479-45ac-ad03-ec99d12eae21"
            },
            "attachments": {}
        },
        {
            "cell_type": "code",
            "source": [
                "select  distinct\r\n",
                "        oktatok.nev,\r\n",
                "        oktatok.oktato_id\r\n",
                "from orak\r\n",
                "join napok on orak.nap = napok.nap_id\r\n",
                "join oktatok on orak.tanar = oktatok.oktato_id\r\n",
                "where napok.nap = 'Hétfő'\r\n",
                "\r\n",
                "union all\r\n",
                "\r\n",
                "select  distinct\r\n",
                "        oktatok.nev,\r\n",
                "        oktatok.oktato_id\r\n",
                "from orak\r\n",
                "join napok on orak.nap = napok.nap_id\r\n",
                "join oktatok on orak.tanar = oktatok.oktato_id\r\n",
                "where napok.nap = 'Kedd'"
            ],
            "metadata": {
                "azdata_cell_guid": "924f2dde-f1c2-4def-a7f9-dbf4bace7735",
                "language": "sql"
            },
            "outputs": [
                {
                    "output_type": "display_data",
                    "data": {
                        "text/html": "(21 rows affected)"
                    },
                    "metadata": {}
                },
                {
                    "output_type": "display_data",
                    "data": {
                        "text/html": "Total execution time: 00:00:00.018"
                    },
                    "metadata": {}
                },
                {
                    "output_type": "execute_result",
                    "metadata": {},
                    "execution_count": 57,
                    "data": {
                        "application/vnd.dataresource+json": {
                            "schema": {
                                "fields": [
                                    {
                                        "name": "nev"
                                    },
                                    {
                                        "name": "oktato_id"
                                    }
                                ]
                            },
                            "data": [
                                {
                                    "nev": "Szentágotai Istvás",
                                    "oktato_id": "2"
                                },
                                {
                                    "nev": "Ujfalussi István",
                                    "oktato_id": "4"
                                },
                                {
                                    "nev": "Balkán András",
                                    "oktato_id": "5"
                                },
                                {
                                    "nev": "Szép llonka",
                                    "oktato_id": "6"
                                },
                                {
                                    "nev": "Kiss János",
                                    "oktato_id": "7"
                                },
                                {
                                    "nev": "Pelikán József",
                                    "oktato_id": "8"
                                },
                                {
                                    "nev": "Farkasos Piroska",
                                    "oktato_id": "9"
                                },
                                {
                                    "nev": "Jogrerős Pál",
                                    "oktato_id": "10"
                                },
                                {
                                    "nev": "Varga Kata",
                                    "oktato_id": "12"
                                },
                                {
                                    "nev": "Kovács András",
                                    "oktato_id": "20"
                                },
                                {
                                    "nev": "Ludas Mátyás",
                                    "oktato_id": "104"
                                },
                                {
                                    "nev": "Aranyi Mária",
                                    "oktato_id": "200"
                                },
                                {
                                    "nev": "Kovács László",
                                    "oktato_id": "1"
                                },
                                {
                                    "nev": "Szentágotai Istvás",
                                    "oktato_id": "2"
                                },
                                {
                                    "nev": "Szerb László",
                                    "oktato_id": "3"
                                },
                                {
                                    "nev": "Kiss János",
                                    "oktato_id": "7"
                                },
                                {
                                    "nev": "Pelikán József",
                                    "oktato_id": "8"
                                },
                                {
                                    "nev": "Varga Kata",
                                    "oktato_id": "12"
                                },
                                {
                                    "nev": "Szénási ászló",
                                    "oktato_id": "14"
                                },
                                {
                                    "nev": "Nógrádi Kata",
                                    "oktato_id": "18"
                                },
                                {
                                    "nev": "Róbert Gida",
                                    "oktato_id": "108"
                                }
                            ]
                        },
                        "text/html": [
                            "<table>",
                            "<tr><th>nev</th><th>oktato_id</th></tr>",
                            "<tr><td>Szentágotai Istvás</td><td>2</td></tr>",
                            "<tr><td>Ujfalussi István</td><td>4</td></tr>",
                            "<tr><td>Balkán András</td><td>5</td></tr>",
                            "<tr><td>Szép llonka</td><td>6</td></tr>",
                            "<tr><td>Kiss János</td><td>7</td></tr>",
                            "<tr><td>Pelikán József</td><td>8</td></tr>",
                            "<tr><td>Farkasos Piroska</td><td>9</td></tr>",
                            "<tr><td>Jogrerős Pál</td><td>10</td></tr>",
                            "<tr><td>Varga Kata</td><td>12</td></tr>",
                            "<tr><td>Kovács András</td><td>20</td></tr>",
                            "<tr><td>Ludas Mátyás</td><td>104</td></tr>",
                            "<tr><td>Aranyi Mária</td><td>200</td></tr>",
                            "<tr><td>Kovács László</td><td>1</td></tr>",
                            "<tr><td>Szentágotai Istvás</td><td>2</td></tr>",
                            "<tr><td>Szerb László</td><td>3</td></tr>",
                            "<tr><td>Kiss János</td><td>7</td></tr>",
                            "<tr><td>Pelikán József</td><td>8</td></tr>",
                            "<tr><td>Varga Kata</td><td>12</td></tr>",
                            "<tr><td>Szénási ászló</td><td>14</td></tr>",
                            "<tr><td>Nógrádi Kata</td><td>18</td></tr>",
                            "<tr><td>Róbert Gida</td><td>108</td></tr>",
                            "</table>"
                        ]
                    }
                }
            ],
            "execution_count": 57
        },
        {
            "cell_type": "markdown",
            "source": [
                "7. <span style=\"background-color: rgb(255, 255, 255); color: rgb(36, 41, 47); font-family: -apple-system, BlinkMacSystemFont, &quot;Segoe UI&quot;, Helvetica, Arial, sans-serif, &quot;Apple Color Emoji&quot;, &quot;Segoe UI Emoji&quot;; font-size: 16px; font-weight: 600;\">Melyek azok a tantárgyak, amelyek esetén van óra a 8.00-kor kezdődő sávban, de nincs a 12.30-kor kezdődő sávban?</span>"
            ],
            "metadata": {
                "azdata_cell_guid": "3aeb6bf5-b111-40d5-92b2-9712ce335696"
            },
            "attachments": {}
        },
        {
            "cell_type": "code",
            "source": [
                "select  tantárgyak.Tantárgynév\r\n",
                "from orak\r\n",
                "join savok on orak.sav = savok.Sav_id\r\n",
                "join Tantárgyak on orak.targy = tantárgyak.Tkód\r\n",
                "where savok.Időpont = '8.00' and orak.ora_id is not null\r\n",
                "\r\n",
                "EXCEPT\r\n",
                "\r\n",
                "select  tantárgyak.Tantárgynév\r\n",
                "from orak\r\n",
                "join savok on orak.sav = savok.Sav_id\r\n",
                "join Tantárgyak on orak.targy = tantárgyak.Tkód\r\n",
                "where savok.Időpont = '12.30'"
            ],
            "metadata": {
                "azdata_cell_guid": "3e89b651-f56f-4102-af52-30eb2bbe360d",
                "language": "sql"
            },
            "outputs": [
                {
                    "output_type": "display_data",
                    "data": {
                        "text/html": "(3 rows affected)"
                    },
                    "metadata": {}
                },
                {
                    "output_type": "display_data",
                    "data": {
                        "text/html": "Total execution time: 00:00:00.022"
                    },
                    "metadata": {}
                },
                {
                    "output_type": "execute_result",
                    "metadata": {},
                    "execution_count": 73,
                    "data": {
                        "application/vnd.dataresource+json": {
                            "schema": {
                                "fields": [
                                    {
                                        "name": "Tantárgynév"
                                    }
                                ]
                            },
                            "data": [
                                {
                                    "Tantárgynév": "Az ürgeöntés hydrológiai alapjai II."
                                },
                                {
                                    "Tantárgynév": "Fejezetek az ürgék jogaiból"
                                },
                                {
                                    "Tantárgynév": "Ürgevitel"
                                }
                            ]
                        },
                        "text/html": [
                            "<table>",
                            "<tr><th>Tantárgynév</th></tr>",
                            "<tr><td>Az ürgeöntés hydrológiai alapjai II.</td></tr>",
                            "<tr><td>Fejezetek az ürgék jogaiból</td></tr>",
                            "<tr><td>Ürgevitel</td></tr>",
                            "</table>"
                        ]
                    }
                }
            ],
            "execution_count": 73
        },
        {
            "cell_type": "markdown",
            "source": [
                "8. <span style=\"background-color: rgb(255, 255, 255); color: rgb(36, 41, 47); font-family: -apple-system, BlinkMacSystemFont, &quot;Segoe UI&quot;, Helvetica, Arial, sans-serif, &quot;Apple Color Emoji&quot;, &quot;Segoe UI Emoji&quot;; font-size: 16px; font-weight: 600;\">Listázzuk azokat a termeket, amelyekben oktat Kovács László és van olyan tanóra a teremben, ahol a tantárgy nevében nem szerepel az 'ürge' szó!</span>"
            ],
            "metadata": {
                "azdata_cell_guid": "26a504dc-ff6a-439f-94c0-4580eca3eacf"
            },
            "attachments": {}
        },
        {
            "cell_type": "code",
            "source": [
                "select  Termek.Terem\r\n",
                "from orak\r\n",
                "join oktatok on orak.tanar = oktatok.oktato_id\r\n",
                "join termek on orak.terem = termek.Tkód\r\n",
                "where oktatok.nev = 'Kovács László'\r\n",
                "\r\n",
                "UNION\r\n",
                "\r\n",
                "select  Termek.Terem\r\n",
                "from orak\r\n",
                "join tantárgyak on orak.targy = tantárgyak.Tkód\r\n",
                "join termek on orak.terem = termek.Tkód\r\n",
                "WHERE Tantárgyak.Tantárgynév not like '%ürge%'"
            ],
            "metadata": {
                "azdata_cell_guid": "1cbb8aeb-78b5-4350-aa45-e3202fdab85b",
                "language": "sql",
                "tags": []
            },
            "outputs": [
                {
                    "output_type": "display_data",
                    "data": {
                        "text/html": "(8 rows affected)"
                    },
                    "metadata": {}
                },
                {
                    "output_type": "display_data",
                    "data": {
                        "text/html": "Total execution time: 00:00:00.007"
                    },
                    "metadata": {}
                },
                {
                    "output_type": "execute_result",
                    "metadata": {},
                    "execution_count": 86,
                    "data": {
                        "application/vnd.dataresource+json": {
                            "schema": {
                                "fields": [
                                    {
                                        "name": "Terem"
                                    }
                                ]
                            },
                            "data": [
                                {
                                    "Terem": "116"
                                },
                                {
                                    "Terem": "119"
                                },
                                {
                                    "Terem": "219"
                                },
                                {
                                    "Terem": "220"
                                },
                                {
                                    "Terem": "E.2.238"
                                },
                                {
                                    "Terem": "E.3.332"
                                },
                                {
                                    "Terem": "S.Asor.S3"
                                },
                                {
                                    "Terem": "VP 203."
                                }
                            ]
                        },
                        "text/html": [
                            "<table>",
                            "<tr><th>Terem</th></tr>",
                            "<tr><td>116</td></tr>",
                            "<tr><td>119</td></tr>",
                            "<tr><td>219</td></tr>",
                            "<tr><td>220</td></tr>",
                            "<tr><td>E.2.238</td></tr>",
                            "<tr><td>E.3.332</td></tr>",
                            "<tr><td>S.Asor.S3</td></tr>",
                            "<tr><td>VP 203.</td></tr>",
                            "</table>"
                        ]
                    }
                }
            ],
            "execution_count": 86
        },
        {
            "cell_type": "markdown",
            "source": [
                "9. <span style=\"font-weight: 600; color: rgb(36, 41, 47); font-family: -apple-system, BlinkMacSystemFont, &quot;Segoe UI&quot;, Helvetica, Arial, sans-serif, &quot;Apple Color Emoji&quot;, &quot;Segoe UI Emoji&quot;; font-size: 16px;\">Készítsünk listát arról, hogy melyik tanárnak hány órája van a (munka) hét elején (hétfőn), hét közben (kedd, szerda és csütörtök), illetve a hét végén (péntek)!</span>\n",
                "\n",
                "1. Jelenítsük meg a tanár azonosítóját, nevét, az időszakot (hét eleje - hét közben - hét vége), valamint az óraszámot!\n",
                "2. A három megjelölt időszakot külön kérdezzük le, majd fűzzük össze a lekérdezések eredményeit!\n",
                "3. Rendezzük a listát az oktató neve, azon belül időszak szerint!"
            ],
            "metadata": {
                "azdata_cell_guid": "435e2860-2dd5-4877-90f4-34a43baeb53c"
            },
            "attachments": {}
        },
        {
            "cell_type": "code",
            "source": [
                "select  oktatok.nev as 'Oktató neve',\r\n",
                "        oktatok.oktato_id as 'Azon.',\r\n",
                "        iif(orak.nap = 1, count(*), null) as 'Hét eleje',\r\n",
                "        iif(orak.nap = 999, 1, null) as 'Hét közepén',\r\n",
                "        iif(orak.nap = 999, 1, null) as 'Hét végén'\r\n",
                "from orak\r\n",
                "join oktatok on orak.tanar = oktatok.oktato_id\r\n",
                "where orak.nap = 1\r\n",
                "group by oktatok.nev, oktatok.oktato_id, orak.nap\r\n",
                "\r\n",
                "UNION --###############\r\n",
                "\r\n",
                "select  oktatok.nev as 'Oktató neve',\r\n",
                "        oktatok.oktato_id as 'Azon.',\r\n",
                "        iif(orak.nap = 999, 1, null) as 'Hét eleje',\r\n",
                "        iif(orak.nap between 2 and 4, count(*), null) as 'Hét közepén',\r\n",
                "        iif(orak.nap = 999, 1, null) as 'Hét végén'\r\n",
                "from orak\r\n",
                "join oktatok on orak.tanar = oktatok.oktato_id\r\n",
                "where orak.nap between 2 and 4\r\n",
                "group by oktatok.nev, oktatok.oktato_id, orak.nap\r\n",
                "\r\n",
                "UNION --###############\r\n",
                "\r\n",
                "select  oktatok.nev as 'Oktató neve',\r\n",
                "        oktatok.oktato_id as 'Azon.',\r\n",
                "        iif(orak.nap = 999, 1, null) as 'Hét eleje',\r\n",
                "        iif(orak.nap = 999, 1, null) as 'Hét közepén',\r\n",
                "        iif(orak.nap = 5, count(*), null) as 'Hét végén'\r\n",
                "from orak\r\n",
                "join oktatok on orak.tanar = oktatok.oktato_id\r\n",
                "where orak.nap = 5\r\n",
                "group by oktatok.nev, oktatok.oktato_id, orak.nap\r\n",
                "\r\n",
                "order by oktatok.nev\r\n",
                "\r\n",
                "-- full nem jöttem volna rá hogy mit is szeretne a feladatleírás.. köszi az értelmes fogalmazást!\r\n",
                "-- csak azért sem csinálom meg másképpen! <3"
            ],
            "metadata": {
                "azdata_cell_guid": "ce846351-ddbe-4d8e-b8fb-2a92c73ac80b",
                "language": "sql",
                "tags": []
            },
            "outputs": [
                {
                    "output_type": "display_data",
                    "data": {
                        "text/html": "(36 rows affected)"
                    },
                    "metadata": {}
                },
                {
                    "output_type": "display_data",
                    "data": {
                        "text/html": "Total execution time: 00:00:00.010"
                    },
                    "metadata": {}
                },
                {
                    "output_type": "execute_result",
                    "metadata": {},
                    "execution_count": 153,
                    "data": {
                        "application/vnd.dataresource+json": {
                            "schema": {
                                "fields": [
                                    {
                                        "name": "Oktató neve"
                                    },
                                    {
                                        "name": "Azon."
                                    },
                                    {
                                        "name": "Hét eleje"
                                    },
                                    {
                                        "name": "Hét közepén"
                                    },
                                    {
                                        "name": "Hét végén"
                                    }
                                ]
                            },
                            "data": [
                                {
                                    "Oktató neve": "Aranyi Mária",
                                    "Azon.": "200",
                                    "Hét eleje": "1",
                                    "Hét közepén": "NULL",
                                    "Hét végén": "NULL"
                                },
                                {
                                    "Oktató neve": "Balkán András",
                                    "Azon.": "5",
                                    "Hét eleje": "NULL",
                                    "Hét közepén": "1",
                                    "Hét végén": "NULL"
                                },
                                {
                                    "Oktató neve": "Balkán András",
                                    "Azon.": "5",
                                    "Hét eleje": "2",
                                    "Hét közepén": "NULL",
                                    "Hét végén": "NULL"
                                },
                                {
                                    "Oktató neve": "Farkasos Piroska",
                                    "Azon.": "9",
                                    "Hét eleje": "NULL",
                                    "Hét közepén": "NULL",
                                    "Hét végén": "1"
                                },
                                {
                                    "Oktató neve": "Farkasos Piroska",
                                    "Azon.": "9",
                                    "Hét eleje": "NULL",
                                    "Hét közepén": "1",
                                    "Hét végén": "NULL"
                                },
                                {
                                    "Oktató neve": "Farkasos Piroska",
                                    "Azon.": "9",
                                    "Hét eleje": "NULL",
                                    "Hét közepén": "3",
                                    "Hét végén": "NULL"
                                },
                                {
                                    "Oktató neve": "Farkasos Piroska",
                                    "Azon.": "9",
                                    "Hét eleje": "2",
                                    "Hét közepén": "NULL",
                                    "Hét végén": "NULL"
                                },
                                {
                                    "Oktató neve": "Jogrerős Pál",
                                    "Azon.": "10",
                                    "Hét eleje": "2",
                                    "Hét közepén": "NULL",
                                    "Hét végén": "NULL"
                                },
                                {
                                    "Oktató neve": "Juhász András",
                                    "Azon.": "301",
                                    "Hét eleje": "NULL",
                                    "Hét közepén": "2",
                                    "Hét végén": "NULL"
                                },
                                {
                                    "Oktató neve": "Kiss János",
                                    "Azon.": "7",
                                    "Hét eleje": "NULL",
                                    "Hét közepén": "2",
                                    "Hét végén": "NULL"
                                },
                                {
                                    "Oktató neve": "Kiss János",
                                    "Azon.": "7",
                                    "Hét eleje": "2",
                                    "Hét közepén": "NULL",
                                    "Hét végén": "NULL"
                                },
                                {
                                    "Oktató neve": "Kovács András",
                                    "Azon.": "20",
                                    "Hét eleje": "NULL",
                                    "Hét közepén": "2",
                                    "Hét végén": "NULL"
                                },
                                {
                                    "Oktató neve": "Kovács András",
                                    "Azon.": "20",
                                    "Hét eleje": "2",
                                    "Hét közepén": "NULL",
                                    "Hét végén": "NULL"
                                },
                                {
                                    "Oktató neve": "Kovács László",
                                    "Azon.": "1",
                                    "Hét eleje": "NULL",
                                    "Hét közepén": "NULL",
                                    "Hét végén": "1"
                                },
                                {
                                    "Oktató neve": "Kovács László",
                                    "Azon.": "1",
                                    "Hét eleje": "NULL",
                                    "Hét közepén": "1",
                                    "Hét végén": "NULL"
                                },
                                {
                                    "Oktató neve": "Ludas Mátyás",
                                    "Azon.": "104",
                                    "Hét eleje": "NULL",
                                    "Hét közepén": "1",
                                    "Hét végén": "NULL"
                                },
                                {
                                    "Oktató neve": "Ludas Mátyás",
                                    "Azon.": "104",
                                    "Hét eleje": "1",
                                    "Hét közepén": "NULL",
                                    "Hét végén": "NULL"
                                },
                                {
                                    "Oktató neve": "Nógrádi Kata",
                                    "Azon.": "18",
                                    "Hét eleje": "NULL",
                                    "Hét közepén": "1",
                                    "Hét végén": "NULL"
                                },
                                {
                                    "Oktató neve": "Pelikán József",
                                    "Azon.": "8",
                                    "Hét eleje": "NULL",
                                    "Hét közepén": "3",
                                    "Hét végén": "NULL"
                                },
                                {
                                    "Oktató neve": "Pelikán József",
                                    "Azon.": "8",
                                    "Hét eleje": "3",
                                    "Hét közepén": "NULL",
                                    "Hét végén": "NULL"
                                },
                                {
                                    "Oktató neve": "Róbert Gida",
                                    "Azon.": "108",
                                    "Hét eleje": "NULL",
                                    "Hét közepén": "1",
                                    "Hét végén": "NULL"
                                },
                                {
                                    "Oktató neve": "Szabó Andrera",
                                    "Azon.": "300",
                                    "Hét eleje": "NULL",
                                    "Hét közepén": "2",
                                    "Hét végén": "NULL"
                                },
                                {
                                    "Oktató neve": "Szénási ászló",
                                    "Azon.": "14",
                                    "Hét eleje": "NULL",
                                    "Hét közepén": "1",
                                    "Hét végén": "NULL"
                                },
                                {
                                    "Oktató neve": "Szentágotai Istvás",
                                    "Azon.": "2",
                                    "Hét eleje": "NULL",
                                    "Hét közepén": "NULL",
                                    "Hét végén": "2"
                                },
                                {
                                    "Oktató neve": "Szentágotai Istvás",
                                    "Azon.": "2",
                                    "Hét eleje": "NULL",
                                    "Hét közepén": "1",
                                    "Hét végén": "NULL"
                                },
                                {
                                    "Oktató neve": "Szentágotai Istvás",
                                    "Azon.": "2",
                                    "Hét eleje": "NULL",
                                    "Hét közepén": "3",
                                    "Hét végén": "NULL"
                                },
                                {
                                    "Oktató neve": "Szentágotai Istvás",
                                    "Azon.": "2",
                                    "Hét eleje": "1",
                                    "Hét közepén": "NULL",
                                    "Hét végén": "NULL"
                                },
                                {
                                    "Oktató neve": "Szép llonka",
                                    "Azon.": "6",
                                    "Hét eleje": "4",
                                    "Hét közepén": "NULL",
                                    "Hét végén": "NULL"
                                },
                                {
                                    "Oktató neve": "Szerb László",
                                    "Azon.": "3",
                                    "Hét eleje": "NULL",
                                    "Hét közepén": "1",
                                    "Hét végén": "NULL"
                                },
                                {
                                    "Oktató neve": "Szerb László",
                                    "Azon.": "3",
                                    "Hét eleje": "NULL",
                                    "Hét közepén": "2",
                                    "Hét végén": "NULL"
                                },
                                {
                                    "Oktató neve": "Ujfalussi István",
                                    "Azon.": "4",
                                    "Hét eleje": "NULL",
                                    "Hét közepén": "1",
                                    "Hét végén": "NULL"
                                },
                                {
                                    "Oktató neve": "Ujfalussi István",
                                    "Azon.": "4",
                                    "Hét eleje": "1",
                                    "Hét közepén": "NULL",
                                    "Hét végén": "NULL"
                                },
                                {
                                    "Oktató neve": "Varga Kata",
                                    "Azon.": "12",
                                    "Hét eleje": "NULL",
                                    "Hét közepén": "1",
                                    "Hét végén": "NULL"
                                },
                                {
                                    "Oktató neve": "Varga Kata",
                                    "Azon.": "12",
                                    "Hét eleje": "2",
                                    "Hét közepén": "NULL",
                                    "Hét végén": "NULL"
                                },
                                {
                                    "Oktató neve": "Vitéz János",
                                    "Azon.": "111",
                                    "Hét eleje": "NULL",
                                    "Hét közepén": "NULL",
                                    "Hét végén": "2"
                                },
                                {
                                    "Oktató neve": "Vitéz János",
                                    "Azon.": "111",
                                    "Hét eleje": "NULL",
                                    "Hét közepén": "2",
                                    "Hét végén": "NULL"
                                }
                            ]
                        },
                        "text/html": [
                            "<table>",
                            "<tr><th>Oktató neve</th><th>Azon.</th><th>Hét eleje</th><th>Hét közepén</th><th>Hét végén</th></tr>",
                            "<tr><td>Aranyi Mária</td><td>200</td><td>1</td><td>NULL</td><td>NULL</td></tr>",
                            "<tr><td>Balkán András</td><td>5</td><td>NULL</td><td>1</td><td>NULL</td></tr>",
                            "<tr><td>Balkán András</td><td>5</td><td>2</td><td>NULL</td><td>NULL</td></tr>",
                            "<tr><td>Farkasos Piroska</td><td>9</td><td>NULL</td><td>NULL</td><td>1</td></tr>",
                            "<tr><td>Farkasos Piroska</td><td>9</td><td>NULL</td><td>1</td><td>NULL</td></tr>",
                            "<tr><td>Farkasos Piroska</td><td>9</td><td>NULL</td><td>3</td><td>NULL</td></tr>",
                            "<tr><td>Farkasos Piroska</td><td>9</td><td>2</td><td>NULL</td><td>NULL</td></tr>",
                            "<tr><td>Jogrerős Pál</td><td>10</td><td>2</td><td>NULL</td><td>NULL</td></tr>",
                            "<tr><td>Juhász András</td><td>301</td><td>NULL</td><td>2</td><td>NULL</td></tr>",
                            "<tr><td>Kiss János</td><td>7</td><td>NULL</td><td>2</td><td>NULL</td></tr>",
                            "<tr><td>Kiss János</td><td>7</td><td>2</td><td>NULL</td><td>NULL</td></tr>",
                            "<tr><td>Kovács András</td><td>20</td><td>NULL</td><td>2</td><td>NULL</td></tr>",
                            "<tr><td>Kovács András</td><td>20</td><td>2</td><td>NULL</td><td>NULL</td></tr>",
                            "<tr><td>Kovács László</td><td>1</td><td>NULL</td><td>NULL</td><td>1</td></tr>",
                            "<tr><td>Kovács László</td><td>1</td><td>NULL</td><td>1</td><td>NULL</td></tr>",
                            "<tr><td>Ludas Mátyás</td><td>104</td><td>NULL</td><td>1</td><td>NULL</td></tr>",
                            "<tr><td>Ludas Mátyás</td><td>104</td><td>1</td><td>NULL</td><td>NULL</td></tr>",
                            "<tr><td>Nógrádi Kata</td><td>18</td><td>NULL</td><td>1</td><td>NULL</td></tr>",
                            "<tr><td>Pelikán József</td><td>8</td><td>NULL</td><td>3</td><td>NULL</td></tr>",
                            "<tr><td>Pelikán József</td><td>8</td><td>3</td><td>NULL</td><td>NULL</td></tr>",
                            "<tr><td>Róbert Gida</td><td>108</td><td>NULL</td><td>1</td><td>NULL</td></tr>",
                            "<tr><td>Szabó Andrera</td><td>300</td><td>NULL</td><td>2</td><td>NULL</td></tr>",
                            "<tr><td>Szénási ászló</td><td>14</td><td>NULL</td><td>1</td><td>NULL</td></tr>",
                            "<tr><td>Szentágotai Istvás</td><td>2</td><td>NULL</td><td>NULL</td><td>2</td></tr>",
                            "<tr><td>Szentágotai Istvás</td><td>2</td><td>NULL</td><td>1</td><td>NULL</td></tr>",
                            "<tr><td>Szentágotai Istvás</td><td>2</td><td>NULL</td><td>3</td><td>NULL</td></tr>",
                            "<tr><td>Szentágotai Istvás</td><td>2</td><td>1</td><td>NULL</td><td>NULL</td></tr>",
                            "<tr><td>Szép llonka</td><td>6</td><td>4</td><td>NULL</td><td>NULL</td></tr>",
                            "<tr><td>Szerb László</td><td>3</td><td>NULL</td><td>1</td><td>NULL</td></tr>",
                            "<tr><td>Szerb László</td><td>3</td><td>NULL</td><td>2</td><td>NULL</td></tr>",
                            "<tr><td>Ujfalussi István</td><td>4</td><td>NULL</td><td>1</td><td>NULL</td></tr>",
                            "<tr><td>Ujfalussi István</td><td>4</td><td>1</td><td>NULL</td><td>NULL</td></tr>",
                            "<tr><td>Varga Kata</td><td>12</td><td>NULL</td><td>1</td><td>NULL</td></tr>",
                            "<tr><td>Varga Kata</td><td>12</td><td>2</td><td>NULL</td><td>NULL</td></tr>",
                            "<tr><td>Vitéz János</td><td>111</td><td>NULL</td><td>NULL</td><td>2</td></tr>",
                            "<tr><td>Vitéz János</td><td>111</td><td>NULL</td><td>2</td><td>NULL</td></tr>",
                            "</table>"
                        ]
                    }
                }
            ],
            "execution_count": 153
        },
        {
            "cell_type": "markdown",
            "source": [
                "10. <span style=\"background-color: rgb(255, 255, 255); color: rgb(36, 41, 47); font-family: -apple-system, BlinkMacSystemFont, &quot;Segoe UI&quot;, Helvetica, Arial, sans-serif, &quot;Apple Color Emoji&quot;, &quot;Segoe UI Emoji&quot;; font-size: 16px; font-weight: 600;\">Melyik napokon nincs órája Pelikán Józsefnek?</span>"
            ],
            "metadata": {
                "azdata_cell_guid": "217c5772-afe2-4a7c-b913-e3a3e09d6411"
            },
            "attachments": {}
        },
        {
            "cell_type": "code",
            "source": [
                "select  distinct nap\r\n",
                "\r\n",
                "from orak\r\n",
                "join oktatok on orak.tanar = oktatok.oktato_id\r\n",
                "\r\n",
                "-- lekérdezzük az összes napot ami létezik\r\n",
                "EXCEPT\r\n",
                "-- és aztán kivonjuk belőle azokat, amiken van órája Pelikán Józsefnek\r\n",
                "\r\n",
                "select distinct nap\r\n",
                "from orak\r\n",
                "join oktatok on orak.tanar = oktatok.oktato_id\r\n",
                "where oktatok.nev = 'Pelikán József'"
            ],
            "metadata": {
                "azdata_cell_guid": "a9cc0926-3dbd-4ed8-8179-1c39d64a0762",
                "language": "sql",
                "tags": []
            },
            "outputs": [
                {
                    "output_type": "display_data",
                    "data": {
                        "text/html": "(3 rows affected)"
                    },
                    "metadata": {}
                },
                {
                    "output_type": "display_data",
                    "data": {
                        "text/html": "Total execution time: 00:00:00.016"
                    },
                    "metadata": {}
                },
                {
                    "output_type": "execute_result",
                    "metadata": {},
                    "execution_count": 169,
                    "data": {
                        "application/vnd.dataresource+json": {
                            "schema": {
                                "fields": [
                                    {
                                        "name": "nap"
                                    }
                                ]
                            },
                            "data": [
                                {
                                    "nap": "3"
                                },
                                {
                                    "nap": "4"
                                },
                                {
                                    "nap": "5"
                                }
                            ]
                        },
                        "text/html": [
                            "<table>",
                            "<tr><th>nap</th></tr>",
                            "<tr><td>3</td></tr>",
                            "<tr><td>4</td></tr>",
                            "<tr><td>5</td></tr>",
                            "</table>"
                        ]
                    }
                }
            ],
            "execution_count": 169
        },
        {
            "cell_type": "markdown",
            "source": [
                "**A 11-15 feladatok gyakorlásra szolgálnak a közelgő zh-ra :-)**\n",
                "\n",
                "11. _Készítsünk listát az oktatók adatairól!_\n",
                "\n",
                "1. Az oktatók titulusa és neve összefűzve jelenjen meg, közöttük szóközzel!\n",
                "2. Ha valakinek nincs titulusa, akkor csak a neve jelenjen meg, szóköz nélkül!\n",
                "3. A listát rendezzük a beosztás kódja, azon belül a státusz kódja szerint növekvő sorrendbe!\n",
                "4. Az oszlopokat nevezzük el értelemszerűen!"
            ],
            "metadata": {
                "azdata_cell_guid": "d2340f5f-1614-473c-b937-85740d67f7c1"
            },
            "attachments": {}
        },
        {
            "cell_type": "code",
            "source": [
                "select  iif(oktatok.titulus is not null, oktatok.titulus+' '+oktatok.nev, oktatok.nev) as 'Oktató neve',\r\n",
                "        Beosztasok.beosztasnev as 'Beosztás', \r\n",
                "        statusok.[Status] as 'Státusz'\r\n",
                "from oktatok\r\n",
                "join beosztasok on oktatok.beosztás = beosztasok.beosztas_id\r\n",
                "join statusok on oktatok.[status] = statusok.Skod\r\n",
                "order by beosztasok.beosztas_id, statusok.Skod"
            ],
            "metadata": {
                "azdata_cell_guid": "e99c2c53-898f-4787-b0e6-182d106dc16f",
                "language": "sql"
            },
            "outputs": [
                {
                    "output_type": "display_data",
                    "data": {
                        "text/html": "(25 rows affected)"
                    },
                    "metadata": {}
                },
                {
                    "output_type": "display_data",
                    "data": {
                        "text/html": "Total execution time: 00:00:00.008"
                    },
                    "metadata": {}
                },
                {
                    "output_type": "execute_result",
                    "metadata": {},
                    "execution_count": 181,
                    "data": {
                        "application/vnd.dataresource+json": {
                            "schema": {
                                "fields": [
                                    {
                                        "name": "Oktató neve"
                                    },
                                    {
                                        "name": "Beosztás"
                                    },
                                    {
                                        "name": "Státusz"
                                    }
                                ]
                            },
                            "data": [
                                {
                                    "Oktató neve": "Nógrádi Kata",
                                    "Beosztás": "Óraadó",
                                    "Státusz": "Főállású"
                                },
                                {
                                    "Oktató neve": "Rácz András",
                                    "Beosztás": "Óraadó",
                                    "Státusz": "Főállású"
                                },
                                {
                                    "Oktató neve": "Kovács András",
                                    "Beosztás": "Óraadó",
                                    "Státusz": "Főállású"
                                },
                                {
                                    "Oktató neve": "Ludas Mátyás",
                                    "Beosztás": "Óraadó",
                                    "Státusz": "Főállású"
                                },
                                {
                                    "Oktató neve": "Aranyi Mária",
                                    "Beosztás": "Óraadó",
                                    "Státusz": "Főállású"
                                },
                                {
                                    "Oktató neve": "Szabó Andrera",
                                    "Beosztás": "Óraadó",
                                    "Státusz": "Főállású"
                                },
                                {
                                    "Oktató neve": "Kiss István",
                                    "Beosztás": "Óraadó",
                                    "Státusz": "Félállású"
                                },
                                {
                                    "Oktató neve": "Mészáros Kriszta",
                                    "Beosztás": "Óraadó",
                                    "Státusz": "Félállású"
                                },
                                {
                                    "Oktató neve": "Róbert Gida",
                                    "Beosztás": "Tanársegéd",
                                    "Státusz": "Főállású"
                                },
                                {
                                    "Oktató neve": "Vitéz János",
                                    "Beosztás": "Tanársegéd",
                                    "Státusz": "Főállású"
                                },
                                {
                                    "Oktató neve": "Kiss János",
                                    "Beosztás": "Tanársegéd",
                                    "Státusz": "Főállású"
                                },
                                {
                                    "Oktató neve": "Pelikán József",
                                    "Beosztás": "Tanársegéd",
                                    "Státusz": "Óraadó"
                                },
                                {
                                    "Oktató neve": "Farkasos Piroska",
                                    "Beosztás": "Tanársegéd",
                                    "Státusz": "Óraadó"
                                },
                                {
                                    "Oktató neve": "Dr. Szép llonka",
                                    "Beosztás": "Adjunktus",
                                    "Státusz": "Főállású"
                                },
                                {
                                    "Oktató neve": "Szénási ászló",
                                    "Beosztás": "Adjunktus",
                                    "Státusz": "Főállású"
                                },
                                {
                                    "Oktató neve": "Dr. Szentágotai Istvás",
                                    "Beosztás": "Adjunktus",
                                    "Státusz": "Félállású"
                                },
                                {
                                    "Oktató neve": "Szerb László",
                                    "Beosztás": "Docens",
                                    "Státusz": "Főállású"
                                },
                                {
                                    "Oktató neve": "Dr. Józsa Gábor",
                                    "Beosztás": "Docens",
                                    "Státusz": "Főállású"
                                },
                                {
                                    "Oktató neve": "Dr. Varga Kata",
                                    "Beosztás": "Docens",
                                    "Státusz": "Főállású"
                                },
                                {
                                    "Oktató neve": "Dr. Balkán András",
                                    "Beosztás": "Docens",
                                    "Státusz": "Félállású"
                                },
                                {
                                    "Oktató neve": "Dr. Kovacs Istvan",
                                    "Beosztás": "Professzor",
                                    "Státusz": "Főállású"
                                },
                                {
                                    "Oktató neve": "Dr. Juhász András",
                                    "Beosztás": "Egyetemi tanár",
                                    "Státusz": "Főállású"
                                },
                                {
                                    "Oktató neve": "Prof. Jogrerős Pál",
                                    "Beosztás": "Egyetemi tanár",
                                    "Státusz": "Főállású"
                                },
                                {
                                    "Oktató neve": "Dr. Kovács László",
                                    "Beosztás": "Egyetemi tanár",
                                    "Státusz": "Félállású"
                                },
                                {
                                    "Oktató neve": "Prof, tanszékvezető Ujfalussi István",
                                    "Beosztás": "Egyetemi tanár",
                                    "Státusz": "Félállású"
                                }
                            ]
                        },
                        "text/html": [
                            "<table>",
                            "<tr><th>Oktató neve</th><th>Beosztás</th><th>Státusz</th></tr>",
                            "<tr><td>Nógrádi Kata</td><td>Óraadó</td><td>Főállású</td></tr>",
                            "<tr><td>Rácz András</td><td>Óraadó</td><td>Főállású</td></tr>",
                            "<tr><td>Kovács András</td><td>Óraadó</td><td>Főállású</td></tr>",
                            "<tr><td>Ludas Mátyás</td><td>Óraadó</td><td>Főállású</td></tr>",
                            "<tr><td>Aranyi Mária</td><td>Óraadó</td><td>Főállású</td></tr>",
                            "<tr><td>Szabó Andrera</td><td>Óraadó</td><td>Főállású</td></tr>",
                            "<tr><td>Kiss István</td><td>Óraadó</td><td>Félállású</td></tr>",
                            "<tr><td>Mészáros Kriszta</td><td>Óraadó</td><td>Félállású</td></tr>",
                            "<tr><td>Róbert Gida</td><td>Tanársegéd</td><td>Főállású</td></tr>",
                            "<tr><td>Vitéz János</td><td>Tanársegéd</td><td>Főállású</td></tr>",
                            "<tr><td>Kiss János</td><td>Tanársegéd</td><td>Főállású</td></tr>",
                            "<tr><td>Pelikán József</td><td>Tanársegéd</td><td>Óraadó</td></tr>",
                            "<tr><td>Farkasos Piroska</td><td>Tanársegéd</td><td>Óraadó</td></tr>",
                            "<tr><td>Dr. Szép llonka</td><td>Adjunktus</td><td>Főállású</td></tr>",
                            "<tr><td>Szénási ászló</td><td>Adjunktus</td><td>Főállású</td></tr>",
                            "<tr><td>Dr. Szentágotai Istvás</td><td>Adjunktus</td><td>Félállású</td></tr>",
                            "<tr><td>Szerb László</td><td>Docens</td><td>Főállású</td></tr>",
                            "<tr><td>Dr. Józsa Gábor</td><td>Docens</td><td>Főállású</td></tr>",
                            "<tr><td>Dr. Varga Kata</td><td>Docens</td><td>Főállású</td></tr>",
                            "<tr><td>Dr. Balkán András</td><td>Docens</td><td>Félállású</td></tr>",
                            "<tr><td>Dr. Kovacs Istvan</td><td>Professzor</td><td>Főállású</td></tr>",
                            "<tr><td>Dr. Juhász András</td><td>Egyetemi tanár</td><td>Főállású</td></tr>",
                            "<tr><td>Prof. Jogrerős Pál</td><td>Egyetemi tanár</td><td>Főállású</td></tr>",
                            "<tr><td>Dr. Kovács László</td><td>Egyetemi tanár</td><td>Félállású</td></tr>",
                            "<tr><td>Prof, tanszékvezető Ujfalussi István</td><td>Egyetemi tanár</td><td>Félállású</td></tr>",
                            "</table>"
                        ]
                    }
                }
            ],
            "execution_count": 181
        },
        {
            "cell_type": "markdown",
            "source": [
                "<span style=\"color: #09885a;\">12</span>. Készítsünk listát, amely megmutatja, hogy összesen hány tantárgy van kreditenkénti csoportosításban!\n",
                "\n",
                "  \n",
                "\n",
                "A listából hagyjuk ki azokat a tételeket, ahol ez a darabszám <span style=\"color: #09885a;\">1</span>!\n",
                "\n",
                "A Folyami gáttan tantárgyat ne vegyük figyelembe!\n",
                "\n",
                "A listát rendezzük darabszám szerint csökkenő sorrendbe!\n",
                "\n",
                "Az oszlopokat nevezzük el értelemszerűen!"
            ],
            "metadata": {
                "azdata_cell_guid": "a765e9d6-58b3-4171-872a-78f3118fd6e3"
            },
            "attachments": {}
        },
        {
            "cell_type": "code",
            "source": [
                "select  kredit as 'Kreditszám',\r\n",
                "        count(*) as 'Darabszám'\r\n",
                "from Tantárgyak\r\n",
                "where tantárgynév != 'Folyami gáttan'\r\n",
                "group by kredit\r\n",
                "having count(*) !=1\r\n",
                "order by count(*) desc"
            ],
            "metadata": {
                "azdata_cell_guid": "422e8127-b652-4d3a-bfd7-9b1637b5781e",
                "language": "sql"
            },
            "outputs": [
                {
                    "output_type": "display_data",
                    "data": {
                        "text/html": "(4 rows affected)"
                    },
                    "metadata": {}
                },
                {
                    "output_type": "display_data",
                    "data": {
                        "text/html": "Total execution time: 00:00:00.009"
                    },
                    "metadata": {}
                },
                {
                    "output_type": "execute_result",
                    "metadata": {},
                    "execution_count": 190,
                    "data": {
                        "application/vnd.dataresource+json": {
                            "schema": {
                                "fields": [
                                    {
                                        "name": "Kreditszám"
                                    },
                                    {
                                        "name": "Darabszám"
                                    }
                                ]
                            },
                            "data": [
                                {
                                    "Kreditszám": "2",
                                    "Darabszám": "3"
                                },
                                {
                                    "Kreditszám": "3",
                                    "Darabszám": "3"
                                },
                                {
                                    "Kreditszám": "4",
                                    "Darabszám": "2"
                                },
                                {
                                    "Kreditszám": "1",
                                    "Darabszám": "2"
                                }
                            ]
                        },
                        "text/html": [
                            "<table>",
                            "<tr><th>Kreditszám</th><th>Darabszám</th></tr>",
                            "<tr><td>2</td><td>3</td></tr>",
                            "<tr><td>3</td><td>3</td></tr>",
                            "<tr><td>4</td><td>2</td></tr>",
                            "<tr><td>1</td><td>2</td></tr>",
                            "</table>"
                        ]
                    }
                }
            ],
            "execution_count": 190
        },
        {
            "cell_type": "markdown",
            "source": [
                "13. _Készítsünk listát az oktatók nevéről, a beosztásuk alapján elvárt és a tényleges óraszámukról!_\n",
                "\n",
                "1. Az oszlopok neve legyen 'Oktató neve', 'Elvárt óraszám' és 'Tényleges óraszám'\n",
                "2. Szűrjük a listát azokra az oktatókra, ahol az elvárt és a tényleges óraszám azonos"
            ],
            "metadata": {
                "azdata_cell_guid": "3f9237ae-f109-401c-acb9-31d75e73331b"
            },
            "attachments": {}
        },
        {
            "cell_type": "code",
            "source": [
                "select  oktatok.nev as 'Oktató neve',\r\n",
                "        beosztasok.elvart as 'Elvárt óraszám',\r\n",
                "        count(*) as 'Tényleges óraszám'\r\n",
                "from Oktatok\r\n",
                "join beosztasok on oktatok.beosztás = beosztasok.beosztas_id\r\n",
                "join orak on oktatok.oktato_id = orak.tanar\r\n",
                "group by oktatok.nev, beosztasok.elvart\r\n",
                "having beosztasok.elvart = count(*)"
            ],
            "metadata": {
                "azdata_cell_guid": "4b31bb89-cfbc-46b1-8639-85c462877786",
                "language": "sql"
            },
            "outputs": [
                {
                    "output_type": "display_data",
                    "data": {
                        "text/html": "(4 rows affected)"
                    },
                    "metadata": {}
                },
                {
                    "output_type": "display_data",
                    "data": {
                        "text/html": "Total execution time: 00:00:00.014"
                    },
                    "metadata": {}
                },
                {
                    "output_type": "execute_result",
                    "metadata": {},
                    "execution_count": 197,
                    "data": {
                        "application/vnd.dataresource+json": {
                            "schema": {
                                "fields": [
                                    {
                                        "name": "Oktató neve"
                                    },
                                    {
                                        "name": "Elvárt óraszám"
                                    },
                                    {
                                        "name": "Tényleges óraszám"
                                    }
                                ]
                            },
                            "data": [
                                {
                                    "Oktató neve": "Jogrerős Pál",
                                    "Elvárt óraszám": "2",
                                    "Tényleges óraszám": "2"
                                },
                                {
                                    "Oktató neve": "Juhász András",
                                    "Elvárt óraszám": "2",
                                    "Tényleges óraszám": "2"
                                },
                                {
                                    "Oktató neve": "Varga Kata",
                                    "Elvárt óraszám": "4",
                                    "Tényleges óraszám": "4"
                                },
                                {
                                    "Oktató neve": "Pelikán József",
                                    "Elvárt óraszám": "6",
                                    "Tényleges óraszám": "6"
                                }
                            ]
                        },
                        "text/html": [
                            "<table>",
                            "<tr><th>Oktató neve</th><th>Elvárt óraszám</th><th>Tényleges óraszám</th></tr>",
                            "<tr><td>Jogrerős Pál</td><td>2</td><td>2</td></tr>",
                            "<tr><td>Juhász András</td><td>2</td><td>2</td></tr>",
                            "<tr><td>Varga Kata</td><td>4</td><td>4</td></tr>",
                            "<tr><td>Pelikán József</td><td>6</td><td>6</td></tr>",
                            "</table>"
                        ]
                    }
                }
            ],
            "execution_count": 197
        },
        {
            "cell_type": "markdown",
            "source": [
                "14. _Készítsünk listát, amely megmutatja, hogy mely tantárgyból nincs óra egyáltalán!_\n",
                "\n",
                "1. Csak a tantárgy neve jelenjen meg!"
            ],
            "metadata": {
                "azdata_cell_guid": "f634e09a-85ef-4e70-8ec6-ef355dfddaa7"
            },
            "attachments": {}
        },
        {
            "cell_type": "code",
            "source": [
                "select distinct Tantárgynév\r\n",
                "from Orak\r\n",
                "full join Tantárgyak on orak.tanar = tantárgyak.Tkód\r\n",
                "where orak.ora_id is null"
            ],
            "metadata": {
                "azdata_cell_guid": "88abc55b-2c78-495b-a72f-3f8f4eb5fe70",
                "language": "sql"
            },
            "outputs": [
                {
                    "output_type": "display_data",
                    "data": {
                        "text/html": "(5 rows affected)"
                    },
                    "metadata": {}
                },
                {
                    "output_type": "display_data",
                    "data": {
                        "text/html": "Total execution time: 00:00:00.007"
                    },
                    "metadata": {}
                },
                {
                    "output_type": "execute_result",
                    "metadata": {},
                    "execution_count": 203,
                    "data": {
                        "application/vnd.dataresource+json": {
                            "schema": {
                                "fields": [
                                    {
                                        "name": "Tantárgynév"
                                    }
                                ]
                            },
                            "data": [
                                {
                                    "Tantárgynév": "Folyami gáttan"
                                },
                                {
                                    "Tantárgynév": "Öntési gyakorlat"
                                },
                                {
                                    "Tantárgynév": "ü-business"
                                },
                                {
                                    "Tantárgynév": "ürgefőzés"
                                },
                                {
                                    "Tantárgynév": "Ürgevitel"
                                }
                            ]
                        },
                        "text/html": [
                            "<table>",
                            "<tr><th>Tantárgynév</th></tr>",
                            "<tr><td>Folyami gáttan</td></tr>",
                            "<tr><td>Öntési gyakorlat</td></tr>",
                            "<tr><td>ü-business</td></tr>",
                            "<tr><td>ürgefőzés</td></tr>",
                            "<tr><td>Ürgevitel</td></tr>",
                            "</table>"
                        ]
                    }
                }
            ],
            "execution_count": 203
        },
        {
            "cell_type": "markdown",
            "source": [
                "15. _Hány órájuk van az óraadóknak napi bontásban?_\n",
                "\n",
                "1. Csak a napok nevét és az óraszámot jelenítsük meg!\n",
                "2. Rendezzük a listát óraszám szerint növekvő sorrendbe!"
            ],
            "metadata": {
                "azdata_cell_guid": "4cbf2f0d-a65d-480a-8186-ccdb24498443"
            },
            "attachments": {}
        },
        {
            "cell_type": "code",
            "source": [
                "select  oktatok.nev,\r\n",
                "        orak.nap,\r\n",
                "        count(*)\r\n",
                "from orak\r\n",
                "join oktatok on orak.tanar = oktatok.oktato_id\r\n",
                "group by oktatok.nev, orak.nap\r\n",
                "order by count(*)"
            ],
            "metadata": {
                "azdata_cell_guid": "c148aee8-bc85-40bf-b80a-a4898a6c05cb",
                "language": "sql"
            },
            "outputs": [
                {
                    "output_type": "display_data",
                    "data": {
                        "text/html": "(42 rows affected)"
                    },
                    "metadata": {}
                },
                {
                    "output_type": "display_data",
                    "data": {
                        "text/html": "Total execution time: 00:00:00.015"
                    },
                    "metadata": {}
                },
                {
                    "output_type": "execute_result",
                    "metadata": {},
                    "execution_count": 211,
                    "data": {
                        "application/vnd.dataresource+json": {
                            "schema": {
                                "fields": [
                                    {
                                        "name": "nev"
                                    },
                                    {
                                        "name": "nap"
                                    },
                                    {
                                        "name": "(No column name)"
                                    }
                                ]
                            },
                            "data": [
                                {
                                    "nev": "Aranyi Mária",
                                    "nap": "1",
                                    "(No column name)": "1"
                                },
                                {
                                    "nev": "Ludas Mátyás",
                                    "nap": "1",
                                    "(No column name)": "1"
                                },
                                {
                                    "nev": "Szentágotai Istvás",
                                    "nap": "1",
                                    "(No column name)": "1"
                                },
                                {
                                    "nev": "Ujfalussi István",
                                    "nap": "1",
                                    "(No column name)": "1"
                                },
                                {
                                    "nev": "Kovács László",
                                    "nap": "2",
                                    "(No column name)": "1"
                                },
                                {
                                    "nev": "Nógrádi Kata",
                                    "nap": "2",
                                    "(No column name)": "1"
                                },
                                {
                                    "nev": "Róbert Gida",
                                    "nap": "2",
                                    "(No column name)": "1"
                                },
                                {
                                    "nev": "Szénási ászló",
                                    "nap": "2",
                                    "(No column name)": "1"
                                },
                                {
                                    "nev": "Szentágotai Istvás",
                                    "nap": "2",
                                    "(No column name)": "1"
                                },
                                {
                                    "nev": "Varga Kata",
                                    "nap": "2",
                                    "(No column name)": "1"
                                },
                                {
                                    "nev": "Balkán András",
                                    "nap": "3",
                                    "(No column name)": "1"
                                },
                                {
                                    "nev": "Farkasos Piroska",
                                    "nap": "3",
                                    "(No column name)": "1"
                                },
                                {
                                    "nev": "Kovács László",
                                    "nap": "3",
                                    "(No column name)": "1"
                                },
                                {
                                    "nev": "Szentágotai Istvás",
                                    "nap": "3",
                                    "(No column name)": "1"
                                },
                                {
                                    "nev": "Szerb László",
                                    "nap": "3",
                                    "(No column name)": "1"
                                },
                                {
                                    "nev": "Ujfalussi István",
                                    "nap": "3",
                                    "(No column name)": "1"
                                },
                                {
                                    "nev": "Kovács László",
                                    "nap": "4",
                                    "(No column name)": "1"
                                },
                                {
                                    "nev": "Ludas Mátyás",
                                    "nap": "4",
                                    "(No column name)": "1"
                                },
                                {
                                    "nev": "Szénási ászló",
                                    "nap": "4",
                                    "(No column name)": "1"
                                },
                                {
                                    "nev": "Ujfalussi István",
                                    "nap": "4",
                                    "(No column name)": "1"
                                },
                                {
                                    "nev": "Varga Kata",
                                    "nap": "4",
                                    "(No column name)": "1"
                                },
                                {
                                    "nev": "Farkasos Piroska",
                                    "nap": "5",
                                    "(No column name)": "1"
                                },
                                {
                                    "nev": "Kovács László",
                                    "nap": "5",
                                    "(No column name)": "1"
                                },
                                {
                                    "nev": "Szentágotai Istvás",
                                    "nap": "5",
                                    "(No column name)": "2"
                                },
                                {
                                    "nev": "Vitéz János",
                                    "nap": "5",
                                    "(No column name)": "2"
                                },
                                {
                                    "nev": "Vitéz János",
                                    "nap": "4",
                                    "(No column name)": "2"
                                },
                                {
                                    "nev": "Szabó Andrera",
                                    "nap": "4",
                                    "(No column name)": "2"
                                },
                                {
                                    "nev": "Juhász András",
                                    "nap": "4",
                                    "(No column name)": "2"
                                },
                                {
                                    "nev": "Kovács András",
                                    "nap": "4",
                                    "(No column name)": "2"
                                },
                                {
                                    "nev": "Szerb László",
                                    "nap": "2",
                                    "(No column name)": "2"
                                },
                                {
                                    "nev": "Varga Kata",
                                    "nap": "1",
                                    "(No column name)": "2"
                                },
                                {
                                    "nev": "Kiss János",
                                    "nap": "2",
                                    "(No column name)": "2"
                                },
                                {
                                    "nev": "Balkán András",
                                    "nap": "1",
                                    "(No column name)": "2"
                                },
                                {
                                    "nev": "Farkasos Piroska",
                                    "nap": "1",
                                    "(No column name)": "2"
                                },
                                {
                                    "nev": "Jogrerős Pál",
                                    "nap": "1",
                                    "(No column name)": "2"
                                },
                                {
                                    "nev": "Kiss János",
                                    "nap": "1",
                                    "(No column name)": "2"
                                },
                                {
                                    "nev": "Kovács András",
                                    "nap": "1",
                                    "(No column name)": "2"
                                },
                                {
                                    "nev": "Pelikán József",
                                    "nap": "1",
                                    "(No column name)": "3"
                                },
                                {
                                    "nev": "Pelikán József",
                                    "nap": "2",
                                    "(No column name)": "3"
                                },
                                {
                                    "nev": "Szentágotai Istvás",
                                    "nap": "4",
                                    "(No column name)": "3"
                                },
                                {
                                    "nev": "Farkasos Piroska",
                                    "nap": "4",
                                    "(No column name)": "3"
                                },
                                {
                                    "nev": "Szép llonka",
                                    "nap": "1",
                                    "(No column name)": "4"
                                }
                            ]
                        },
                        "text/html": [
                            "<table>",
                            "<tr><th>nev</th><th>nap</th><th>(No column name)</th></tr>",
                            "<tr><td>Aranyi Mária</td><td>1</td><td>1</td></tr>",
                            "<tr><td>Ludas Mátyás</td><td>1</td><td>1</td></tr>",
                            "<tr><td>Szentágotai Istvás</td><td>1</td><td>1</td></tr>",
                            "<tr><td>Ujfalussi István</td><td>1</td><td>1</td></tr>",
                            "<tr><td>Kovács László</td><td>2</td><td>1</td></tr>",
                            "<tr><td>Nógrádi Kata</td><td>2</td><td>1</td></tr>",
                            "<tr><td>Róbert Gida</td><td>2</td><td>1</td></tr>",
                            "<tr><td>Szénási ászló</td><td>2</td><td>1</td></tr>",
                            "<tr><td>Szentágotai Istvás</td><td>2</td><td>1</td></tr>",
                            "<tr><td>Varga Kata</td><td>2</td><td>1</td></tr>",
                            "<tr><td>Balkán András</td><td>3</td><td>1</td></tr>",
                            "<tr><td>Farkasos Piroska</td><td>3</td><td>1</td></tr>",
                            "<tr><td>Kovács László</td><td>3</td><td>1</td></tr>",
                            "<tr><td>Szentágotai Istvás</td><td>3</td><td>1</td></tr>",
                            "<tr><td>Szerb László</td><td>3</td><td>1</td></tr>",
                            "<tr><td>Ujfalussi István</td><td>3</td><td>1</td></tr>",
                            "<tr><td>Kovács László</td><td>4</td><td>1</td></tr>",
                            "<tr><td>Ludas Mátyás</td><td>4</td><td>1</td></tr>",
                            "<tr><td>Szénási ászló</td><td>4</td><td>1</td></tr>",
                            "<tr><td>Ujfalussi István</td><td>4</td><td>1</td></tr>",
                            "<tr><td>Varga Kata</td><td>4</td><td>1</td></tr>",
                            "<tr><td>Farkasos Piroska</td><td>5</td><td>1</td></tr>",
                            "<tr><td>Kovács László</td><td>5</td><td>1</td></tr>",
                            "<tr><td>Szentágotai Istvás</td><td>5</td><td>2</td></tr>",
                            "<tr><td>Vitéz János</td><td>5</td><td>2</td></tr>",
                            "<tr><td>Vitéz János</td><td>4</td><td>2</td></tr>",
                            "<tr><td>Szabó Andrera</td><td>4</td><td>2</td></tr>",
                            "<tr><td>Juhász András</td><td>4</td><td>2</td></tr>",
                            "<tr><td>Kovács András</td><td>4</td><td>2</td></tr>",
                            "<tr><td>Szerb László</td><td>2</td><td>2</td></tr>",
                            "<tr><td>Varga Kata</td><td>1</td><td>2</td></tr>",
                            "<tr><td>Kiss János</td><td>2</td><td>2</td></tr>",
                            "<tr><td>Balkán András</td><td>1</td><td>2</td></tr>",
                            "<tr><td>Farkasos Piroska</td><td>1</td><td>2</td></tr>",
                            "<tr><td>Jogrerős Pál</td><td>1</td><td>2</td></tr>",
                            "<tr><td>Kiss János</td><td>1</td><td>2</td></tr>",
                            "<tr><td>Kovács András</td><td>1</td><td>2</td></tr>",
                            "<tr><td>Pelikán József</td><td>1</td><td>3</td></tr>",
                            "<tr><td>Pelikán József</td><td>2</td><td>3</td></tr>",
                            "<tr><td>Szentágotai Istvás</td><td>4</td><td>3</td></tr>",
                            "<tr><td>Farkasos Piroska</td><td>4</td><td>3</td></tr>",
                            "<tr><td>Szép llonka</td><td>1</td><td>4</td></tr>",
                            "</table>"
                        ]
                    }
                }
            ],
            "execution_count": 211
        }
    ]
}
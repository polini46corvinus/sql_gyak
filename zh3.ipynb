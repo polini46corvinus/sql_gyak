{
    "metadata": {
        "kernelspec": {
            "name": "SQL",
            "display_name": "SQL",
            "language": "sql"
        },
        "language_info": {
            "name": "sql",
            "version": ""
        }
    },
    "nbformat_minor": 2,
    "nbformat": 4,
    "cells": [
        {
            "cell_type": "markdown",
            "source": [
                "1\\. feladat\n",
                "\n",
                "A MongoDB Atlas-ban (vagy a Compass-ban) navigáljon a sample\\_mflix adatbázishoz, és kérdezze le a movies gyűjteményt az alábbiak szerint:  \n",
                "\n",
                "- A nyelvek közül a legelső English legyen ÉS\n",
                "- A film 2 alkalommal lett díjazva (awards.wins)\n",
                "- Csak a filmek címe, írói, rendezői és az év mezők jelenjenek meg\n",
                "- Rendezzük sorba a filmeket év szerint csökkenően\n",
                "\n",
                "Beadandó: a Filter, Project és a Sort részbe írt kódok\n",
                "\n",
                "Válaszszöveg 1 kérdés\n",
                "\n",
                "Rich text szerkesztő"
            ],
            "metadata": {
                "azdata_cell_guid": "edf08a25-c80f-4096-a9d0-4f5d82c2a224"
            },
            "attachments": {}
        },
        {
            "cell_type": "markdown",
            "source": [
                ""
            ],
            "metadata": {
                "azdata_cell_guid": "1cf98e8b-6066-4357-87fb-571853eafcef"
            }
        },
        {
            "cell_type": "code",
            "source": [
                "Filter: {\"languages.0\": \"English\", \"awards.wins\": 2}\r\n",
                "Project: {title: 1, writers:1, directors: 1, year: 1, _id: 0}\r\n",
                "Sort: {year: -1}"
            ],
            "metadata": {
                "azdata_cell_guid": "81113977-6d21-4b1a-8dc0-127c3bbe9ac2",
                "language": "sql",
                "tags": []
            },
            "outputs": [],
            "execution_count": null
        },
        {
            "cell_type": "markdown",
            "source": [
                "2\\. feladat\n",
                "\n",
                "A MongoDB shell-ben csatlakozzon a sample\\_mflix adatbázishoz, és kérdezze le a users gyűjteményt az alábbiak szerint:\n",
                "\n",
                "- <span style=\"box-sizing: border-box; font-size: 0.9375rem;\">Csak a felhasználók neve és email címe jelenjen meg</span>\n",
                "- Az email cím tartalmazza a .com karaktersorozatot.\n",
                "\n",
                "Beadandó: a megfelelő utasítás"
            ],
            "metadata": {
                "azdata_cell_guid": "dc9761a1-8cdc-4e51-8de1-f47e213844f8"
            },
            "attachments": {}
        },
        {
            "cell_type": "code",
            "source": [
                "use sample_mflix\r\n",
                "db.users.find({\"email\":{$regex:/.com/}},{name:1, email:1, _id:0})"
            ],
            "metadata": {
                "azdata_cell_guid": "daee8fed-211d-4e88-8c97-92487ffaf8a6",
                "language": "sql"
            },
            "outputs": [],
            "execution_count": null
        },
        {
            "cell_type": "markdown",
            "source": [
                "3\\. feladat\n",
                "\n",
                "A MongoDB shell-ben csatlakozzon a sample\\_mflix adatbázishoz, és kérdezze le a movies gyűjteményt az alábbiak szerint:\n",
                "\n",
                "<span style=\"box-sizing: border-box; font-size: 0.9375rem;\">A lekérdezés feleljen meg a következő SQL lekérdezésnek:</span>\n",
                "\n",
                "<span style=\"box-sizing: border-box; color: rgb(0, 0, 0); font-family: &quot;Open Sans&quot;, sans-serif; background-color: rgb(255, 255, 255); font-size: 0.9375rem;\">SELECT rated, AVG(runtime)<br style=\"box-sizing: border-box;\">FROM movies<br style=\"box-sizing: border-box;\"></span><span style=\"color: rgb(0, 0, 0); font-family: &quot;Open Sans&quot;, sans-serif; font-size: 14.44px; background-color: rgb(255, 255, 255);\">WHERE year &gt; 1950</span>  \n",
                "<span style=\"box-sizing: border-box; color: rgb(0, 0, 0); font-family: &quot;Open Sans&quot;, sans-serif; background-color: rgb(255, 255, 255); font-size: 0.9375rem;\">GROUP BY rated</span>  \n",
                "\n",
                "  \n",
                "\n",
                "Beadandó a lekérdező utasítás"
            ],
            "metadata": {
                "azdata_cell_guid": "c431569e-d024-4e45-a549-ff4807ddc889"
            },
            "attachments": {}
        },
        {
            "cell_type": "code",
            "source": [
                "use sample_mflix\r\n",
                "db.movies.aggregate([{$match:{\"year\":{$gt:1950}}},{$group:{_id:\"$rated\", atlag:{$avg:\"$runtime\"}}}])"
            ],
            "metadata": {
                "azdata_cell_guid": "27152aae-320f-434e-87be-230fe113c31b",
                "language": "sql"
            },
            "outputs": [],
            "execution_count": null
        },
        {
            "cell_type": "markdown",
            "source": [
                "4\\. feladat\n",
                "\n",
                "Csatlakozzon a Movies adatbázishoz a Neo4J Sandbox-ban (vagy a Desktop-ban), és kérdezze le a következőket:\n",
                "\n",
                "- Listázzuk a filmek szereplőit\n",
                "- A szereplő neve, a film címe és a film megjelenés éve jelenjen meg\n",
                "- Szűrjünk az 1960 utáni évekre\n",
                "- Nevezzük el a megjelenített mezőket\n",
                "- Rendezzük sorba az eredményt évszám szerint csökkenően\n",
                "\n",
                "Beadandó: a megfelelő utasítás"
            ],
            "metadata": {
                "azdata_cell_guid": "a9fa2961-f8d0-45b4-8a8c-c2e6bbf5ee0d"
            },
            "attachments": {}
        },
        {
            "cell_type": "code",
            "source": [
                "match (p:Person)-[:ACTED_IN]->(m:Movie)\r\n",
                "where m.released > 1960\r\n",
                "return p.name as SzereplőNeve, m.title as Cím, m.released as MegjelenésÉve\r\n",
                "order by m.released desc"
            ],
            "metadata": {
                "azdata_cell_guid": "b1bf03d7-c31d-4838-aa19-163a0d8dd1ce",
                "language": "sql"
            },
            "outputs": [],
            "execution_count": null
        },
        {
            "cell_type": "markdown",
            "source": [
                "5\\. feladat\n",
                "\n",
                "A neo4j Sandbox-ban (vagy a Desktop-ban) csatlakozzon a Movies adatbázishoz, és kérdezze le a következő SQL-lekérdezésnek megfelelő adatokat:\n",
                "\n",
                "<span style=\"color: rgb(0, 0, 0); font-family: &quot;Open Sans&quot;, sans-serif; font-size: 14.44px; background-color: rgb(255, 255, 255);\">SELECT p.name AS Actor, p.born AS BirthYear, COUNT(m.title) AS NumMoviesActedIn</span>  \n",
                "<span style=\"color: rgb(0, 0, 0); font-family: &quot;Open Sans&quot;, sans-serif; font-size: 14.44px; background-color: rgb(255, 255, 255);\">FROM Person p</span>  \n",
                "    <span style=\"color: rgb(0, 0, 0); font-family: &quot;Open Sans&quot;, sans-serif; font-size: 14.44px; background-color: rgb(255, 255, 255);\">&nbsp; &nbsp; JOIN ACTED_IN ai ON p.name = ai.actor_name</span>  \n",
                "    <span style=\"color: rgb(0, 0, 0); font-family: &quot;Open Sans&quot;, sans-serif; font-size: 14.44px; background-color: rgb(255, 255, 255);\">&nbsp; &nbsp; JOIN Movie m ON ai.movie_title = m.title</span>  \n",
                "<span style=\"color: rgb(0, 0, 0); font-family: &quot;Open Sans&quot;, sans-serif; font-size: 14.44px; background-color: rgb(255, 255, 255);\">WHERE p.born &gt; 1980</span>  \n",
                "<span style=\"color: rgb(0, 0, 0); font-family: &quot;Open Sans&quot;, sans-serif; font-size: 14.44px; background-color: rgb(255, 255, 255);\">GROUP BY p.name, p.born</span>"
            ],
            "metadata": {
                "azdata_cell_guid": "f63b8ee5-9567-4b0b-beb3-4bdac87de9bd"
            },
            "attachments": {}
        },
        {
            "cell_type": "code",
            "source": [
                "match (p:Person)-[:ACTED_IN]->(m:Movie)\r\n",
                "where p.born > 1980\r\n",
                "return p.name as Actor, p.born as BirthYear, count(m.title) as NumMoviesActedIn"
            ],
            "metadata": {
                "azdata_cell_guid": "dd093fef-feca-4e19-b533-71f219ece29f",
                "language": "sql"
            },
            "outputs": [],
            "execution_count": null
        }
    ]
}
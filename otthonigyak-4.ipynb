{
    "metadata": {
        "kernelspec": {
            "name": "SQL",
            "display_name": "SQL",
            "language": "sql"
        },
        "language_info": {
            "name": "sql",
            "version": ""
        }
    },
    "nbformat_minor": 2,
    "nbformat": 4,
    "cells": [
        {
            "cell_type": "markdown",
            "source": [
                "1. <span style=\"background-color: rgb(255, 255, 255); color: rgb(0, 0, 0); font-family: &quot;Open Sans&quot;, sans-serif; font-size: 14.44px;\">Készítsünk listát arról, hogy ügyfelenként (LOGIN), azon belül szállítási módonként hány megrendelés történt!&nbsp;</span> \n",
                "\n",
                "a. A lista tartalmazza a részösszegeket és a végösszeget is!  \n",
                "b. Használjuk a ROLLUP záradékot!"
            ],
            "metadata": {
                "azdata_cell_guid": "363cd270-6577-449b-9c89-d4b7c7972d52"
            },
            "attachments": {}
        },
        {
            "cell_type": "code",
            "source": [
                "select  ugyfel.login 'Felhasználónév',\r\n",
                "        Rendeles.SZALL_MOD 'Szállítási mód',\r\n",
                "        count(*) as 'Rendelések száma'\r\n",
                "from Ugyfel\r\n",
                "join rendeles on rendeles.[LOGIN] = ugyfel.[LOGIN]\r\n",
                "group by rollup(ugyfel.login, rendeles.SZALL_MOD)"
            ],
            "metadata": {
                "azdata_cell_guid": "6ab9f633-a3b5-48c9-a1dc-4fb8235ae85b",
                "language": "sql",
                "tags": []
            },
            "outputs": [
                {
                    "output_type": "display_data",
                    "data": {
                        "text/html": "(763 rows affected)"
                    },
                    "metadata": {}
                },
                {
                    "output_type": "display_data",
                    "data": {
                        "text/html": "Total execution time: 00:00:00.102"
                    },
                    "metadata": {}
                },
                {
                    "output_type": "execute_result",
                    "metadata": {},
                    "execution_count": 9,
                    "data": {
                        "application/vnd.dataresource+json": {
                            "schema": {
                                "fields": [
                                    {
                                        "name": "Felhasználónév"
                                    },
                                    {
                                        "name": "Szállítási mód"
                                    },
                                    {
                                        "name": "Rendelések száma"
                                    }
                                ]
                            },
                            "data": [
                                {
                                    "Felhasználónév": "adam1",
                                    "Szállítási mód": "GLS",
                                    "Rendelések száma": "129"
                                },
                                {
                                    "Felhasználónév": "adam1",
                                    "Szállítási mód": "Posta",
                                    "Rendelések száma": "132"
                                },
                                {
                                    "Felhasználónév": "adam1",
                                    "Szállítási mód": "Személyes átvétel",
                                    "Rendelések száma": "131"
                                },
                                {
                                    "Felhasználónév": "adam1",
                                    "Szállítási mód": "NULL",
                                    "Rendelések száma": "392"
                                },
                                {
                                    "Felhasználónév": "adam3",
                                    "Szállítási mód": "GLS",
                                    "Rendelések száma": "10"
                                },
                                {
                                    "Felhasználónév": "adam3",
                                    "Szállítási mód": "Posta",
                                    "Rendelések száma": "3"
                                },
                                {
                                    "Felhasználónév": "adam3",
                                    "Szállítási mód": "Személyes átvétel",
                                    "Rendelések száma": "2"
                                },
                                {
                                    "Felhasználónév": "adam3",
                                    "Szállítási mód": "NULL",
                                    "Rendelések száma": "15"
                                },
                                {
                                    "Felhasználónév": "adam4",
                                    "Szállítási mód": "GLS",
                                    "Rendelések száma": "12"
                                },
                                {
                                    "Felhasználónév": "adam4",
                                    "Szállítási mód": "Posta",
                                    "Rendelések száma": "6"
                                },
                                {
                                    "Felhasználónév": "adam4",
                                    "Szállítási mód": "Személyes átvétel",
                                    "Rendelések száma": "11"
                                },
                                {
                                    "Felhasználónév": "adam4",
                                    "Szállítási mód": "NULL",
                                    "Rendelések száma": "29"
                                },
                                {
                                    "Felhasználónév": "agnes",
                                    "Szállítási mód": "GLS",
                                    "Rendelések száma": "144"
                                },
                                {
                                    "Felhasználónév": "agnes",
                                    "Szállítási mód": "Posta",
                                    "Rendelések száma": "130"
                                },
                                {
                                    "Felhasználónév": "agnes",
                                    "Szállítási mód": "Személyes átvétel",
                                    "Rendelések száma": "144"
                                },
                                {
                                    "Felhasználónév": "agnes",
                                    "Szállítási mód": "NULL",
                                    "Rendelések száma": "418"
                                },
                                {
                                    "Felhasználónév": "agnes3",
                                    "Szállítási mód": "GLS",
                                    "Rendelések száma": "148"
                                },
                                {
                                    "Felhasználónév": "agnes3",
                                    "Szállítási mód": "Posta",
                                    "Rendelések száma": "146"
                                },
                                {
                                    "Felhasználónév": "agnes3",
                                    "Szállítási mód": "Személyes átvétel",
                                    "Rendelések száma": "136"
                                },
                                {
                                    "Felhasználónév": "agnes3",
                                    "Szállítási mód": "NULL",
                                    "Rendelések száma": "430"
                                },
                                {
                                    "Felhasználónév": "AGNESH",
                                    "Szállítási mód": "GLS",
                                    "Rendelések száma": "2"
                                },
                                {
                                    "Felhasználónév": "AGNESH",
                                    "Szállítási mód": "Posta",
                                    "Rendelések száma": "3"
                                },
                                {
                                    "Felhasználónév": "AGNESH",
                                    "Szállítási mód": "Személyes átvétel",
                                    "Rendelések száma": "6"
                                },
                                {
                                    "Felhasználónév": "AGNESH",
                                    "Szállítási mód": "NULL",
                                    "Rendelések száma": "11"
                                },
                                {
                                    "Felhasználónév": "AGNESK",
                                    "Szállítási mód": "GLS",
                                    "Rendelések száma": "1"
                                },
                                {
                                    "Felhasználónév": "AGNESK",
                                    "Szállítási mód": "Posta",
                                    "Rendelések száma": "7"
                                },
                                {
                                    "Felhasználónév": "AGNESK",
                                    "Szállítási mód": "Személyes átvétel",
                                    "Rendelések száma": "7"
                                },
                                {
                                    "Felhasználónév": "AGNESK",
                                    "Szállítási mód": "NULL",
                                    "Rendelések száma": "15"
                                },
                                {
                                    "Felhasználónév": "akos",
                                    "Szállítási mód": "GLS",
                                    "Rendelések száma": "146"
                                },
                                {
                                    "Felhasználónév": "akos",
                                    "Szállítási mód": "Posta",
                                    "Rendelések száma": "143"
                                },
                                {
                                    "Felhasználónév": "akos",
                                    "Szállítási mód": "Személyes átvétel",
                                    "Rendelések száma": "140"
                                },
                                {
                                    "Felhasználónév": "akos",
                                    "Szállítási mód": "NULL",
                                    "Rendelések száma": "429"
                                },
                                {
                                    "Felhasználónév": "aladar",
                                    "Szállítási mód": "GLS",
                                    "Rendelések száma": "156"
                                },
                                {
                                    "Felhasználónév": "aladar",
                                    "Szállítási mód": "Posta",
                                    "Rendelések száma": "134"
                                },
                                {
                                    "Felhasználónév": "aladar",
                                    "Szállítási mód": "Személyes átvétel",
                                    "Rendelések száma": "118"
                                },
                                {
                                    "Felhasználónév": "aladar",
                                    "Szállítási mód": "NULL",
                                    "Rendelések száma": "408"
                                },
                                {
                                    "Felhasználónév": "alexandra",
                                    "Szállítási mód": "GLS",
                                    "Rendelések száma": "5"
                                },
                                {
                                    "Felhasználónév": "alexandra",
                                    "Szállítási mód": "Posta",
                                    "Rendelések száma": "9"
                                },
                                {
                                    "Felhasználónév": "alexandra",
                                    "Szállítási mód": "Személyes átvétel",
                                    "Rendelések száma": "5"
                                },
                                {
                                    "Felhasználónév": "alexandra",
                                    "Szállítási mód": "NULL",
                                    "Rendelések száma": "19"
                                },
                                {
                                    "Felhasználónév": "andi",
                                    "Szállítási mód": "GLS",
                                    "Rendelések száma": "7"
                                },
                                {
                                    "Felhasználónév": "andi",
                                    "Szállítási mód": "Posta",
                                    "Rendelések száma": "4"
                                },
                                {
                                    "Felhasználónév": "andi",
                                    "Szállítási mód": "Személyes átvétel",
                                    "Rendelések száma": "7"
                                },
                                {
                                    "Felhasználónév": "andi",
                                    "Szállítási mód": "NULL",
                                    "Rendelések száma": "18"
                                },
                                {
                                    "Felhasználónév": "andras2",
                                    "Szállítási mód": "GLS",
                                    "Rendelések száma": "4"
                                },
                                {
                                    "Felhasználónév": "andras2",
                                    "Szállítási mód": "Posta",
                                    "Rendelések száma": "7"
                                },
                                {
                                    "Felhasználónév": "andras2",
                                    "Szállítási mód": "Személyes átvétel",
                                    "Rendelések száma": "11"
                                },
                                {
                                    "Felhasználónév": "andras2",
                                    "Szállítási mód": "NULL",
                                    "Rendelések száma": "22"
                                },
                                {
                                    "Felhasználónév": "andras21",
                                    "Szállítási mód": "GLS",
                                    "Rendelések száma": "140"
                                },
                                {
                                    "Felhasználónév": "andras21",
                                    "Szállítási mód": "Posta",
                                    "Rendelések száma": "124"
                                },
                                {
                                    "Felhasználónév": "andras21",
                                    "Szállítási mód": "Személyes átvétel",
                                    "Rendelések száma": "126"
                                },
                                {
                                    "Felhasználónév": "andras21",
                                    "Szállítási mód": "NULL",
                                    "Rendelések száma": "390"
                                },
                                {
                                    "Felhasználónév": "andras3",
                                    "Szállítási mód": "GLS",
                                    "Rendelések száma": "3"
                                },
                                {
                                    "Felhasználónév": "andras3",
                                    "Szállítási mód": "Posta",
                                    "Rendelések száma": "1"
                                },
                                {
                                    "Felhasználónév": "andras3",
                                    "Szállítási mód": "Személyes átvétel",
                                    "Rendelések száma": "5"
                                },
                                {
                                    "Felhasználónév": "andras3",
                                    "Szállítási mód": "NULL",
                                    "Rendelések száma": "9"
                                },
                                {
                                    "Felhasználónév": "andras4",
                                    "Szállítási mód": "GLS",
                                    "Rendelések száma": "4"
                                },
                                {
                                    "Felhasználónév": "andras4",
                                    "Szállítási mód": "Posta",
                                    "Rendelések száma": "4"
                                },
                                {
                                    "Felhasználónév": "andras4",
                                    "Szállítási mód": "Személyes átvétel",
                                    "Rendelések száma": "4"
                                },
                                {
                                    "Felhasználónév": "andras4",
                                    "Szállítási mód": "NULL",
                                    "Rendelések száma": "12"
                                },
                                {
                                    "Felhasználónév": "andras41",
                                    "Szállítási mód": "GLS",
                                    "Rendelések száma": "149"
                                },
                                {
                                    "Felhasználónév": "andras41",
                                    "Szállítási mód": "Posta",
                                    "Rendelések száma": "137"
                                },
                                {
                                    "Felhasználónév": "andras41",
                                    "Szállítási mód": "Személyes átvétel",
                                    "Rendelések száma": "133"
                                },
                                {
                                    "Felhasználónév": "andras41",
                                    "Szállítási mód": "NULL",
                                    "Rendelések száma": "419"
                                },
                                {
                                    "Felhasználónév": "ANDRASE",
                                    "Szállítási mód": "GLS",
                                    "Rendelések száma": "159"
                                },
                                {
                                    "Felhasználónév": "ANDRASE",
                                    "Szállítási mód": "Posta",
                                    "Rendelések száma": "141"
                                },
                                {
                                    "Felhasználónév": "ANDRASE",
                                    "Szállítási mód": "Személyes átvétel",
                                    "Rendelések száma": "136"
                                },
                                {
                                    "Felhasználónév": "ANDRASE",
                                    "Szállítási mód": "NULL",
                                    "Rendelések száma": "436"
                                },
                                {
                                    "Felhasználónév": "ANDRASN",
                                    "Szállítási mód": "GLS",
                                    "Rendelések száma": "10"
                                },
                                {
                                    "Felhasználónév": "ANDRASN",
                                    "Szállítási mód": "Posta",
                                    "Rendelések száma": "9"
                                },
                                {
                                    "Felhasználónév": "ANDRASN",
                                    "Szállítási mód": "Személyes átvétel",
                                    "Rendelések száma": "5"
                                },
                                {
                                    "Felhasználónév": "ANDRASN",
                                    "Szállítási mód": "NULL",
                                    "Rendelések száma": "24"
                                },
                                {
                                    "Felhasználónév": "andrea",
                                    "Szállítási mód": "GLS",
                                    "Rendelések száma": "12"
                                },
                                {
                                    "Felhasználónév": "andrea",
                                    "Szállítási mód": "Posta",
                                    "Rendelések száma": "4"
                                },
                                {
                                    "Felhasználónév": "andrea",
                                    "Szállítási mód": "Személyes átvétel",
                                    "Rendelések száma": "8"
                                },
                                {
                                    "Felhasználónév": "andrea",
                                    "Szállítási mód": "NULL",
                                    "Rendelések száma": "24"
                                },
                                {
                                    "Felhasználónév": "andrea3",
                                    "Szállítási mód": "GLS",
                                    "Rendelések száma": "131"
                                },
                                {
                                    "Felhasználónév": "andrea3",
                                    "Szállítási mód": "Posta",
                                    "Rendelések száma": "136"
                                },
                                {
                                    "Felhasználónév": "andrea3",
                                    "Szállítási mód": "Személyes átvétel",
                                    "Rendelések száma": "146"
                                },
                                {
                                    "Felhasználónév": "andrea3",
                                    "Szállítási mód": "NULL",
                                    "Rendelések száma": "413"
                                },
                                {
                                    "Felhasználónév": "andrea4",
                                    "Szállítási mód": "GLS",
                                    "Rendelések száma": "7"
                                },
                                {
                                    "Felhasználónév": "andrea4",
                                    "Szállítási mód": "Posta",
                                    "Rendelések száma": "4"
                                },
                                {
                                    "Felhasználónév": "andrea4",
                                    "Szállítási mód": "Személyes átvétel",
                                    "Rendelések száma": "7"
                                },
                                {
                                    "Felhasználónév": "andrea4",
                                    "Szállítási mód": "NULL",
                                    "Rendelések száma": "18"
                                },
                                {
                                    "Felhasználónév": "ANDREAT",
                                    "Szállítási mód": "GLS",
                                    "Rendelések száma": "3"
                                },
                                {
                                    "Felhasználónév": "ANDREAT",
                                    "Szállítási mód": "Posta",
                                    "Rendelések száma": "6"
                                },
                                {
                                    "Felhasználónév": "ANDREAT",
                                    "Szállítási mód": "Személyes átvétel",
                                    "Rendelések száma": "12"
                                },
                                {
                                    "Felhasználónév": "ANDREAT",
                                    "Szállítási mód": "NULL",
                                    "Rendelések száma": "21"
                                },
                                {
                                    "Felhasználónév": "anett3",
                                    "Szállítási mód": "GLS",
                                    "Rendelések száma": "3"
                                },
                                {
                                    "Felhasználónév": "anett3",
                                    "Szállítási mód": "Posta",
                                    "Rendelések száma": "6"
                                },
                                {
                                    "Felhasználónév": "anett3",
                                    "Szállítási mód": "Személyes átvétel",
                                    "Rendelések száma": "9"
                                },
                                {
                                    "Felhasználónév": "anett3",
                                    "Szállítási mód": "NULL",
                                    "Rendelések száma": "18"
                                },
                                {
                                    "Felhasználónév": "aniko",
                                    "Szállítási mód": "GLS",
                                    "Rendelések száma": "128"
                                },
                                {
                                    "Felhasználónév": "aniko",
                                    "Szállítási mód": "Posta",
                                    "Rendelések száma": "137"
                                },
                                {
                                    "Felhasználónév": "aniko",
                                    "Szállítási mód": "Személyes átvétel",
                                    "Rendelések száma": "138"
                                },
                                {
                                    "Felhasználónév": "aniko",
                                    "Szállítási mód": "NULL",
                                    "Rendelések száma": "403"
                                },
                                {
                                    "Felhasználónév": "aniko4",
                                    "Szállítási mód": "GLS",
                                    "Rendelések száma": "6"
                                },
                                {
                                    "Felhasználónév": "aniko4",
                                    "Szállítási mód": "Posta",
                                    "Rendelések száma": "6"
                                },
                                {
                                    "Felhasználónév": "aniko4",
                                    "Szállítási mód": "Személyes átvétel",
                                    "Rendelések száma": "3"
                                },
                                {
                                    "Felhasználónév": "aniko4",
                                    "Szállítási mód": "NULL",
                                    "Rendelések száma": "15"
                                },
                                {
                                    "Felhasználónév": "ANIKOS",
                                    "Szállítási mód": "GLS",
                                    "Rendelések száma": "128"
                                },
                                {
                                    "Felhasználónév": "ANIKOS",
                                    "Szállítási mód": "Posta",
                                    "Rendelések száma": "126"
                                },
                                {
                                    "Felhasználónév": "ANIKOS",
                                    "Szállítási mód": "Személyes átvétel",
                                    "Rendelések száma": "150"
                                },
                                {
                                    "Felhasználónév": "ANIKOS",
                                    "Szállítási mód": "NULL",
                                    "Rendelések száma": "404"
                                },
                                {
                                    "Felhasználónév": "anita",
                                    "Szállítási mód": "GLS",
                                    "Rendelések száma": "5"
                                },
                                {
                                    "Felhasználónév": "anita",
                                    "Szállítási mód": "Posta",
                                    "Rendelések száma": "2"
                                },
                                {
                                    "Felhasználónév": "anita",
                                    "Szállítási mód": "Személyes átvétel",
                                    "Rendelések száma": "5"
                                },
                                {
                                    "Felhasználónév": "anita",
                                    "Szállítási mód": "NULL",
                                    "Rendelések száma": "12"
                                },
                                {
                                    "Felhasználónév": "annamaria1",
                                    "Szállítási mód": "GLS",
                                    "Rendelések száma": "5"
                                },
                                {
                                    "Felhasználónév": "annamaria1",
                                    "Szállítási mód": "Posta",
                                    "Rendelések száma": "4"
                                },
                                {
                                    "Felhasználónév": "annamaria1",
                                    "Szállítási mód": "Személyes átvétel",
                                    "Rendelések száma": "7"
                                },
                                {
                                    "Felhasználónév": "annamaria1",
                                    "Szállítási mód": "NULL",
                                    "Rendelések száma": "16"
                                },
                                {
                                    "Felhasználónév": "ANNAMARIAR",
                                    "Szállítási mód": "GLS",
                                    "Rendelések száma": "8"
                                },
                                {
                                    "Felhasználónév": "ANNAMARIAR",
                                    "Szállítási mód": "Posta",
                                    "Rendelések száma": "2"
                                },
                                {
                                    "Felhasználónév": "ANNAMARIAR",
                                    "Szállítási mód": "Személyes átvétel",
                                    "Rendelések száma": "3"
                                },
                                {
                                    "Felhasználónév": "ANNAMARIAR",
                                    "Szállítási mód": "NULL",
                                    "Rendelések száma": "13"
                                },
                                {
                                    "Felhasználónév": "aron2",
                                    "Szállítási mód": "GLS",
                                    "Rendelések száma": "132"
                                },
                                {
                                    "Felhasználónév": "aron2",
                                    "Szállítási mód": "Posta",
                                    "Rendelések száma": "133"
                                },
                                {
                                    "Felhasználónév": "aron2",
                                    "Szállítási mód": "Személyes átvétel",
                                    "Rendelések száma": "144"
                                },
                                {
                                    "Felhasználónév": "aron2",
                                    "Szállítási mód": "NULL",
                                    "Rendelések száma": "409"
                                },
                                {
                                    "Felhasználónév": "ARONK",
                                    "Szállítási mód": "GLS",
                                    "Rendelések száma": "155"
                                },
                                {
                                    "Felhasználónév": "ARONK",
                                    "Szállítási mód": "Posta",
                                    "Rendelések száma": "120"
                                },
                                {
                                    "Felhasználónév": "ARONK",
                                    "Szállítási mód": "Személyes átvétel",
                                    "Rendelések száma": "155"
                                },
                                {
                                    "Felhasználónév": "ARONK",
                                    "Szállítási mód": "NULL",
                                    "Rendelések száma": "430"
                                },
                                {
                                    "Felhasználónév": "arpad2",
                                    "Szállítási mód": "GLS",
                                    "Rendelések száma": "6"
                                },
                                {
                                    "Felhasználónév": "arpad2",
                                    "Szállítási mód": "Posta",
                                    "Rendelések száma": "1"
                                },
                                {
                                    "Felhasználónév": "arpad2",
                                    "Szállítási mód": "Személyes átvétel",
                                    "Rendelések száma": "10"
                                },
                                {
                                    "Felhasználónév": "arpad2",
                                    "Szállítási mód": "NULL",
                                    "Rendelések száma": "17"
                                },
                                {
                                    "Felhasználónév": "ARPADH",
                                    "Szállítási mód": "GLS",
                                    "Rendelések száma": "6"
                                },
                                {
                                    "Felhasználónév": "ARPADH",
                                    "Szállítási mód": "Posta",
                                    "Rendelések száma": "3"
                                },
                                {
                                    "Felhasználónév": "ARPADH",
                                    "Szállítási mód": "Személyes átvétel",
                                    "Rendelések száma": "5"
                                },
                                {
                                    "Felhasználónév": "ARPADH",
                                    "Szállítási mód": "NULL",
                                    "Rendelések száma": "14"
                                },
                                {
                                    "Felhasználónév": "ARPADM",
                                    "Szállítási mód": "GLS",
                                    "Rendelések száma": "6"
                                },
                                {
                                    "Felhasználónév": "ARPADM",
                                    "Szállítási mód": "Posta",
                                    "Rendelések száma": "3"
                                },
                                {
                                    "Felhasználónév": "ARPADM",
                                    "Szállítási mód": "Személyes átvétel",
                                    "Rendelések száma": "7"
                                },
                                {
                                    "Felhasználónév": "ARPADM",
                                    "Szállítási mód": "NULL",
                                    "Rendelések száma": "16"
                                },
                                {
                                    "Felhasználónév": "attila1",
                                    "Szállítási mód": "GLS",
                                    "Rendelések száma": "5"
                                },
                                {
                                    "Felhasználónév": "attila1",
                                    "Szállítási mód": "Posta",
                                    "Rendelések száma": "7"
                                },
                                {
                                    "Felhasználónév": "attila1",
                                    "Szállítási mód": "Személyes átvétel",
                                    "Rendelések száma": "6"
                                },
                                {
                                    "Felhasználónév": "attila1",
                                    "Szállítási mód": "NULL",
                                    "Rendelések száma": "18"
                                },
                                {
                                    "Felhasználónév": "attila4",
                                    "Szállítási mód": "GLS",
                                    "Rendelések száma": "135"
                                },
                                {
                                    "Felhasználónév": "attila4",
                                    "Szállítási mód": "Posta",
                                    "Rendelések száma": "125"
                                },
                                {
                                    "Felhasználónév": "attila4",
                                    "Szállítási mód": "Személyes átvétel",
                                    "Rendelések száma": "141"
                                },
                                {
                                    "Felhasználónév": "attila4",
                                    "Szállítási mód": "NULL",
                                    "Rendelések száma": "401"
                                },
                                {
                                    "Felhasználónév": "ATTILAO",
                                    "Szállítási mód": "GLS",
                                    "Rendelések száma": "4"
                                },
                                {
                                    "Felhasználónév": "ATTILAO",
                                    "Szállítási mód": "Posta",
                                    "Rendelések száma": "4"
                                },
                                {
                                    "Felhasználónév": "ATTILAO",
                                    "Szállítási mód": "Személyes átvétel",
                                    "Rendelések száma": "6"
                                },
                                {
                                    "Felhasználónév": "ATTILAO",
                                    "Szállítási mód": "NULL",
                                    "Rendelések száma": "14"
                                },
                                {
                                    "Felhasználónév": "balazs1",
                                    "Szállítási mód": "GLS",
                                    "Rendelések száma": "128"
                                },
                                {
                                    "Felhasználónév": "balazs1",
                                    "Szállítási mód": "Posta",
                                    "Rendelések száma": "136"
                                },
                                {
                                    "Felhasználónév": "balazs1",
                                    "Szállítási mód": "Személyes átvétel",
                                    "Rendelések száma": "155"
                                },
                                {
                                    "Felhasználónév": "balazs1",
                                    "Szállítási mód": "NULL",
                                    "Rendelések száma": "419"
                                },
                                {
                                    "Felhasználónév": "balazs2",
                                    "Szállítási mód": "GLS",
                                    "Rendelések száma": "5"
                                },
                                {
                                    "Felhasználónév": "balazs2",
                                    "Szállítási mód": "Posta",
                                    "Rendelések száma": "7"
                                },
                                {
                                    "Felhasználónév": "balazs2",
                                    "Szállítási mód": "Személyes átvétel",
                                    "Rendelések száma": "5"
                                },
                                {
                                    "Felhasználónév": "balazs2",
                                    "Szállítási mód": "NULL",
                                    "Rendelések száma": "17"
                                },
                                {
                                    "Felhasználónév": "balazs3",
                                    "Szállítási mód": "GLS",
                                    "Rendelések száma": "6"
                                },
                                {
                                    "Felhasználónév": "balazs3",
                                    "Szállítási mód": "Posta",
                                    "Rendelések száma": "6"
                                },
                                {
                                    "Felhasználónév": "balazs3",
                                    "Szállítási mód": "Személyes átvétel",
                                    "Rendelések száma": "3"
                                },
                                {
                                    "Felhasználónév": "balazs3",
                                    "Szállítási mód": "NULL",
                                    "Rendelések száma": "15"
                                },
                                {
                                    "Felhasználónév": "balint",
                                    "Szállítási mód": "GLS",
                                    "Rendelések száma": "10"
                                },
                                {
                                    "Felhasználónév": "balint",
                                    "Szállítási mód": "Posta",
                                    "Rendelések száma": "4"
                                },
                                {
                                    "Felhasználónév": "balint",
                                    "Szállítási mód": "Személyes átvétel",
                                    "Rendelések száma": "2"
                                },
                                {
                                    "Felhasználónév": "balint",
                                    "Szállítási mód": "NULL",
                                    "Rendelések száma": "16"
                                },
                                {
                                    "Felhasználónév": "balint1",
                                    "Szállítási mód": "GLS",
                                    "Rendelések száma": "158"
                                },
                                {
                                    "Felhasználónév": "balint1",
                                    "Szállítási mód": "Posta",
                                    "Rendelések száma": "152"
                                },
                                {
                                    "Felhasználónév": "balint1",
                                    "Szállítási mód": "Személyes átvétel",
                                    "Rendelések száma": "152"
                                },
                                {
                                    "Felhasználónév": "balint1",
                                    "Szállítási mód": "NULL",
                                    "Rendelések száma": "462"
                                },
                                {
                                    "Felhasználónév": "balint2",
                                    "Szállítási mód": "GLS",
                                    "Rendelések száma": "8"
                                },
                                {
                                    "Felhasználónév": "balint2",
                                    "Szállítási mód": "Posta",
                                    "Rendelések száma": "6"
                                },
                                {
                                    "Felhasználónév": "balint2",
                                    "Szállítási mód": "Személyes átvétel",
                                    "Rendelések száma": "3"
                                },
                                {
                                    "Felhasználónév": "balint2",
                                    "Szállítási mód": "NULL",
                                    "Rendelések száma": "17"
                                },
                                {
                                    "Felhasználónév": "balu",
                                    "Szállítási mód": "GLS",
                                    "Rendelések száma": "127"
                                },
                                {
                                    "Felhasználónév": "balu",
                                    "Szállítási mód": "Posta",
                                    "Rendelések száma": "137"
                                },
                                {
                                    "Felhasználónév": "balu",
                                    "Szállítási mód": "Személyes átvétel",
                                    "Rendelések száma": "123"
                                },
                                {
                                    "Felhasználónév": "balu",
                                    "Szállítási mód": "NULL",
                                    "Rendelések száma": "387"
                                },
                                {
                                    "Felhasználónév": "BEATRIXK",
                                    "Szállítási mód": "GLS",
                                    "Rendelések száma": "135"
                                },
                                {
                                    "Felhasználónév": "BEATRIXK",
                                    "Szállítási mód": "Posta",
                                    "Rendelések száma": "155"
                                },
                                {
                                    "Felhasználónév": "BEATRIXK",
                                    "Szállítási mód": "Személyes átvétel",
                                    "Rendelések száma": "145"
                                },
                                {
                                    "Felhasználónév": "BEATRIXK",
                                    "Szállítási mód": "NULL",
                                    "Rendelések száma": "435"
                                },
                                {
                                    "Felhasználónév": "BEATRIXS",
                                    "Szállítási mód": "GLS",
                                    "Rendelések száma": "146"
                                },
                                {
                                    "Felhasználónév": "BEATRIXS",
                                    "Szállítási mód": "Posta",
                                    "Rendelések száma": "141"
                                },
                                {
                                    "Felhasználónév": "BEATRIXS",
                                    "Szállítási mód": "Személyes átvétel",
                                    "Rendelések száma": "133"
                                },
                                {
                                    "Felhasználónév": "BEATRIXS",
                                    "Szállítási mód": "NULL",
                                    "Rendelések száma": "420"
                                },
                                {
                                    "Felhasználónév": "BELAF",
                                    "Szállítási mód": "GLS",
                                    "Rendelések száma": "11"
                                },
                                {
                                    "Felhasználónév": "BELAF",
                                    "Szállítási mód": "Posta",
                                    "Rendelések száma": "2"
                                },
                                {
                                    "Felhasználónév": "BELAF",
                                    "Szállítási mód": "Személyes átvétel",
                                    "Rendelések száma": "5"
                                },
                                {
                                    "Felhasználónév": "BELAF",
                                    "Szállítási mód": "NULL",
                                    "Rendelések száma": "18"
                                },
                                {
                                    "Felhasználónév": "bence",
                                    "Szállítási mód": "GLS",
                                    "Rendelések száma": "4"
                                },
                                {
                                    "Felhasználónév": "bence",
                                    "Szállítási mód": "Posta",
                                    "Rendelések száma": "6"
                                },
                                {
                                    "Felhasználónév": "bence",
                                    "Szállítási mód": "Személyes átvétel",
                                    "Rendelések száma": "8"
                                },
                                {
                                    "Felhasználónév": "bence",
                                    "Szállítási mód": "NULL",
                                    "Rendelések száma": "18"
                                },
                                {
                                    "Felhasználónév": "BENCEB",
                                    "Szállítási mód": "GLS",
                                    "Rendelések száma": "5"
                                },
                                {
                                    "Felhasználónév": "BENCEB",
                                    "Szállítási mód": "Posta",
                                    "Rendelések száma": "7"
                                },
                                {
                                    "Felhasználónév": "BENCEB",
                                    "Szállítási mód": "Személyes átvétel",
                                    "Rendelések száma": "5"
                                },
                                {
                                    "Felhasználónév": "BENCEB",
                                    "Szállítási mód": "NULL",
                                    "Rendelések száma": "17"
                                },
                                {
                                    "Felhasználónév": "bernadett1",
                                    "Szállítási mód": "GLS",
                                    "Rendelések száma": "10"
                                },
                                {
                                    "Felhasználónév": "bernadett1",
                                    "Szállítási mód": "Posta",
                                    "Rendelések száma": "5"
                                },
                                {
                                    "Felhasználónév": "bernadett1",
                                    "Szállítási mód": "Személyes átvétel",
                                    "Rendelések száma": "5"
                                },
                                {
                                    "Felhasználónév": "bernadett1",
                                    "Szállítási mód": "NULL",
                                    "Rendelések száma": "20"
                                },
                                {
                                    "Felhasználónév": "bernadett2",
                                    "Szállítási mód": "GLS",
                                    "Rendelések száma": "6"
                                },
                                {
                                    "Felhasználónév": "bernadett2",
                                    "Szállítási mód": "Posta",
                                    "Rendelések száma": "2"
                                },
                                {
                                    "Felhasználónév": "bernadett2",
                                    "Szállítási mód": "Személyes átvétel",
                                    "Rendelések száma": "7"
                                },
                                {
                                    "Felhasználónév": "bernadett2",
                                    "Szállítási mód": "NULL",
                                    "Rendelések száma": "15"
                                },
                                {
                                    "Felhasználónév": "BERNADETTO",
                                    "Szállítási mód": "GLS",
                                    "Rendelések száma": "7"
                                },
                                {
                                    "Felhasználónév": "BERNADETTO",
                                    "Szállítási mód": "Posta",
                                    "Rendelések száma": "2"
                                },
                                {
                                    "Felhasználónév": "BERNADETTO",
                                    "Szállítási mód": "Személyes átvétel",
                                    "Rendelések száma": "7"
                                },
                                {
                                    "Felhasználónév": "BERNADETTO",
                                    "Szállítási mód": "NULL",
                                    "Rendelések száma": "16"
                                },
                                {
                                    "Felhasználónév": "bertalan",
                                    "Szállítási mód": "GLS",
                                    "Rendelések száma": "128"
                                },
                                {
                                    "Felhasználónév": "bertalan",
                                    "Szállítási mód": "Posta",
                                    "Rendelések száma": "124"
                                },
                                {
                                    "Felhasználónév": "bertalan",
                                    "Szállítási mód": "Személyes átvétel",
                                    "Rendelések száma": "101"
                                },
                                {
                                    "Felhasználónév": "bertalan",
                                    "Szállítási mód": "NULL",
                                    "Rendelések száma": "353"
                                },
                                {
                                    "Felhasználónév": "brigitta",
                                    "Szállítási mód": "GLS",
                                    "Rendelések száma": "137"
                                },
                                {
                                    "Felhasználónév": "brigitta",
                                    "Szállítási mód": "Posta",
                                    "Rendelések száma": "137"
                                },
                                {
                                    "Felhasználónév": "brigitta",
                                    "Szállítási mód": "Személyes átvétel",
                                    "Rendelések száma": "119"
                                },
                                {
                                    "Felhasználónév": "brigitta",
                                    "Szállítási mód": "NULL",
                                    "Rendelések száma": "393"
                                },
                                {
                                    "Felhasználónév": "brigitta3",
                                    "Szállítási mód": "GLS",
                                    "Rendelések száma": "144"
                                },
                                {
                                    "Felhasználónév": "brigitta3",
                                    "Szállítási mód": "Posta",
                                    "Rendelések száma": "130"
                                },
                                {
                                    "Felhasználónév": "brigitta3",
                                    "Szállítási mód": "Személyes átvétel",
                                    "Rendelések száma": "139"
                                },
                                {
                                    "Felhasználónév": "brigitta3",
                                    "Szállítási mód": "NULL",
                                    "Rendelések száma": "413"
                                },
                                {
                                    "Felhasználónév": "csongor3",
                                    "Szállítási mód": "GLS",
                                    "Rendelések száma": "5"
                                },
                                {
                                    "Felhasználónév": "csongor3",
                                    "Szállítási mód": "Posta",
                                    "Rendelések száma": "2"
                                },
                                {
                                    "Felhasználónév": "csongor3",
                                    "Szállítási mód": "Személyes átvétel",
                                    "Rendelések száma": "8"
                                },
                                {
                                    "Felhasználónév": "csongor3",
                                    "Szállítási mód": "NULL",
                                    "Rendelések száma": "15"
                                },
                                {
                                    "Felhasználónév": "dani",
                                    "Szállítási mód": "GLS",
                                    "Rendelések száma": "5"
                                },
                                {
                                    "Felhasználónév": "dani",
                                    "Szállítási mód": "Személyes átvétel",
                                    "Rendelések száma": "8"
                                },
                                {
                                    "Felhasználónév": "dani",
                                    "Szállítási mód": "NULL",
                                    "Rendelések száma": "13"
                                },
                                {
                                    "Felhasználónév": "daniel",
                                    "Szállítási mód": "GLS",
                                    "Rendelések száma": "7"
                                },
                                {
                                    "Felhasználónév": "daniel",
                                    "Szállítási mód": "Posta",
                                    "Rendelések száma": "2"
                                },
                                {
                                    "Felhasználónév": "daniel",
                                    "Szállítási mód": "Személyes átvétel",
                                    "Rendelések száma": "4"
                                },
                                {
                                    "Felhasználónév": "daniel",
                                    "Szállítási mód": "NULL",
                                    "Rendelések száma": "13"
                                },
                                {
                                    "Felhasználónév": "daniel1",
                                    "Szállítási mód": "GLS",
                                    "Rendelések száma": "156"
                                },
                                {
                                    "Felhasználónév": "daniel1",
                                    "Szállítási mód": "Posta",
                                    "Rendelések száma": "131"
                                },
                                {
                                    "Felhasználónév": "daniel1",
                                    "Szállítási mód": "Személyes átvétel",
                                    "Rendelések száma": "132"
                                },
                                {
                                    "Felhasználónév": "daniel1",
                                    "Szállítási mód": "NULL",
                                    "Rendelések száma": "419"
                                },
                                {
                                    "Felhasználónév": "david",
                                    "Szállítási mód": "GLS",
                                    "Rendelések száma": "161"
                                },
                                {
                                    "Felhasználónév": "david",
                                    "Szállítási mód": "Posta",
                                    "Rendelések száma": "144"
                                },
                                {
                                    "Felhasználónév": "david",
                                    "Szállítási mód": "Személyes átvétel",
                                    "Rendelések száma": "146"
                                },
                                {
                                    "Felhasználónév": "david",
                                    "Szállítási mód": "NULL",
                                    "Rendelések száma": "451"
                                },
                                {
                                    "Felhasználónév": "david1",
                                    "Szállítási mód": "GLS",
                                    "Rendelések száma": "8"
                                },
                                {
                                    "Felhasználónév": "david1",
                                    "Szállítási mód": "Posta",
                                    "Rendelések száma": "1"
                                },
                                {
                                    "Felhasználónév": "david1",
                                    "Szállítási mód": "Személyes átvétel",
                                    "Rendelések száma": "8"
                                },
                                {
                                    "Felhasználónév": "david1",
                                    "Szállítási mód": "NULL",
                                    "Rendelések száma": "17"
                                },
                                {
                                    "Felhasználónév": "david4",
                                    "Szállítási mód": "GLS",
                                    "Rendelések száma": "3"
                                },
                                {
                                    "Felhasználónév": "david4",
                                    "Szállítási mód": "Posta",
                                    "Rendelések száma": "8"
                                },
                                {
                                    "Felhasználónév": "david4",
                                    "Szállítási mód": "Személyes átvétel",
                                    "Rendelések száma": "10"
                                },
                                {
                                    "Felhasználónév": "david4",
                                    "Szállítási mód": "NULL",
                                    "Rendelések száma": "21"
                                },
                                {
                                    "Felhasználónév": "debora",
                                    "Szállítási mód": "GLS",
                                    "Rendelések száma": "7"
                                },
                                {
                                    "Felhasználónév": "debora",
                                    "Szállítási mód": "Posta",
                                    "Rendelések száma": "6"
                                },
                                {
                                    "Felhasználónév": "debora",
                                    "Szállítási mód": "Személyes átvétel",
                                    "Rendelések száma": "3"
                                },
                                {
                                    "Felhasználónév": "debora",
                                    "Szállítási mód": "NULL",
                                    "Rendelések száma": "16"
                                },
                                {
                                    "Felhasználónév": "denes",
                                    "Szállítási mód": "GLS",
                                    "Rendelések száma": "3"
                                },
                                {
                                    "Felhasználónév": "denes",
                                    "Szállítási mód": "Posta",
                                    "Rendelések száma": "2"
                                },
                                {
                                    "Felhasználónév": "denes",
                                    "Szállítási mód": "Személyes átvétel",
                                    "Rendelések száma": "4"
                                },
                                {
                                    "Felhasználónév": "denes",
                                    "Szállítási mód": "NULL",
                                    "Rendelések száma": "9"
                                },
                                {
                                    "Felhasználónév": "dora3",
                                    "Szállítási mód": "GLS",
                                    "Rendelések száma": "144"
                                },
                                {
                                    "Felhasználónév": "dora3",
                                    "Szállítási mód": "Posta",
                                    "Rendelések száma": "124"
                                },
                                {
                                    "Felhasználónév": "dora3",
                                    "Szállítási mód": "Személyes átvétel",
                                    "Rendelések száma": "164"
                                },
                                {
                                    "Felhasználónév": "dora3",
                                    "Szállítási mód": "NULL",
                                    "Rendelések száma": "432"
                                },
                                {
                                    "Felhasználónév": "edit",
                                    "Szállítási mód": "GLS",
                                    "Rendelések száma": "7"
                                },
                                {
                                    "Felhasználónév": "edit",
                                    "Szállítási mód": "Posta",
                                    "Rendelések száma": "2"
                                },
                                {
                                    "Felhasználónév": "edit",
                                    "Szállítási mód": "Személyes átvétel",
                                    "Rendelések száma": "4"
                                },
                                {
                                    "Felhasználónév": "edit",
                                    "Szállítási mód": "NULL",
                                    "Rendelések száma": "13"
                                },
                                {
                                    "Felhasználónév": "emese",
                                    "Szállítási mód": "GLS",
                                    "Rendelések száma": "128"
                                },
                                {
                                    "Felhasználónév": "emese",
                                    "Szállítási mód": "Posta",
                                    "Rendelések száma": "136"
                                },
                                {
                                    "Felhasználónév": "emese",
                                    "Szállítási mód": "Személyes átvétel",
                                    "Rendelések száma": "142"
                                },
                                {
                                    "Felhasználónév": "emese",
                                    "Szállítási mód": "NULL",
                                    "Rendelések száma": "406"
                                },
                                {
                                    "Felhasználónév": "eszter2",
                                    "Szállítási mód": "GLS",
                                    "Rendelések száma": "127"
                                },
                                {
                                    "Felhasználónév": "eszter2",
                                    "Szállítási mód": "Posta",
                                    "Rendelések száma": "136"
                                },
                                {
                                    "Felhasználónév": "eszter2",
                                    "Szállítási mód": "Személyes átvétel",
                                    "Rendelések száma": "152"
                                },
                                {
                                    "Felhasználónév": "eszter2",
                                    "Szállítási mód": "NULL",
                                    "Rendelések száma": "415"
                                },
                                {
                                    "Felhasználónév": "eszter4",
                                    "Szállítási mód": "GLS",
                                    "Rendelések száma": "141"
                                },
                                {
                                    "Felhasználónév": "eszter4",
                                    "Szállítási mód": "Posta",
                                    "Rendelések száma": "134"
                                },
                                {
                                    "Felhasználónév": "eszter4",
                                    "Szállítási mód": "Személyes átvétel",
                                    "Rendelések száma": "149"
                                },
                                {
                                    "Felhasználónév": "eszter4",
                                    "Szállítási mód": "NULL",
                                    "Rendelések száma": "424"
                                },
                                {
                                    "Felhasználónév": "ESZTERE",
                                    "Szállítási mód": "GLS",
                                    "Rendelések száma": "6"
                                },
                                {
                                    "Felhasználónév": "ESZTERE",
                                    "Szállítási mód": "Posta",
                                    "Rendelések száma": "9"
                                },
                                {
                                    "Felhasználónév": "ESZTERE",
                                    "Szállítási mód": "Személyes átvétel",
                                    "Rendelések száma": "7"
                                },
                                {
                                    "Felhasználónév": "ESZTERE",
                                    "Szállítási mód": "NULL",
                                    "Rendelések száma": "22"
                                },
                                {
                                    "Felhasználónév": "eva",
                                    "Szállítási mód": "GLS",
                                    "Rendelések száma": "125"
                                },
                                {
                                    "Felhasználónév": "eva",
                                    "Szállítási mód": "Posta",
                                    "Rendelések száma": "140"
                                },
                                {
                                    "Felhasználónév": "eva",
                                    "Szállítási mód": "Személyes átvétel",
                                    "Rendelések száma": "139"
                                },
                                {
                                    "Felhasználónév": "eva",
                                    "Szállítási mód": "NULL",
                                    "Rendelések száma": "404"
                                },
                                {
                                    "Felhasználónév": "eva2",
                                    "Szállítási mód": "GLS",
                                    "Rendelések száma": "154"
                                },
                                {
                                    "Felhasználónév": "eva2",
                                    "Szállítási mód": "Posta",
                                    "Rendelések száma": "138"
                                },
                                {
                                    "Felhasználónév": "eva2",
                                    "Szállítási mód": "Személyes átvétel",
                                    "Rendelések száma": "170"
                                },
                                {
                                    "Felhasználónév": "eva2",
                                    "Szállítási mód": "NULL",
                                    "Rendelések száma": "462"
                                },
                                {
                                    "Felhasználónév": "EVAV",
                                    "Szállítási mód": "GLS",
                                    "Rendelések száma": "2"
                                },
                                {
                                    "Felhasználónév": "EVAV",
                                    "Szállítási mód": "Posta",
                                    "Rendelések száma": "1"
                                },
                                {
                                    "Felhasználónév": "EVAV",
                                    "Szállítási mód": "Személyes átvétel",
                                    "Rendelések száma": "4"
                                },
                                {
                                    "Felhasználónév": "EVAV",
                                    "Szállítási mód": "NULL",
                                    "Rendelések száma": "7"
                                },
                                {
                                    "Felhasználónév": "ferenc1",
                                    "Szállítási mód": "GLS",
                                    "Rendelések száma": "144"
                                },
                                {
                                    "Felhasználónév": "ferenc1",
                                    "Szállítási mód": "Posta",
                                    "Rendelések száma": "158"
                                },
                                {
                                    "Felhasználónév": "ferenc1",
                                    "Szállítási mód": "Személyes átvétel",
                                    "Rendelések száma": "135"
                                },
                                {
                                    "Felhasználónév": "ferenc1",
                                    "Szállítási mód": "NULL",
                                    "Rendelések száma": "437"
                                },
                                {
                                    "Felhasználónév": "fruzsina4",
                                    "Szállítási mód": "GLS",
                                    "Rendelések száma": "8"
                                },
                                {
                                    "Felhasználónév": "fruzsina4",
                                    "Szállítási mód": "Posta",
                                    "Rendelések száma": "3"
                                },
                                {
                                    "Felhasználónév": "fruzsina4",
                                    "Szállítási mód": "Személyes átvétel",
                                    "Rendelések száma": "7"
                                },
                                {
                                    "Felhasználónév": "fruzsina4",
                                    "Szállítási mód": "NULL",
                                    "Rendelések száma": "18"
                                },
                                {
                                    "Felhasználónév": "gabor1",
                                    "Szállítási mód": "GLS",
                                    "Rendelések száma": "9"
                                },
                                {
                                    "Felhasználónév": "gabor1",
                                    "Szállítási mód": "Posta",
                                    "Rendelések száma": "5"
                                },
                                {
                                    "Felhasználónév": "gabor1",
                                    "Szállítási mód": "Személyes átvétel",
                                    "Rendelések száma": "5"
                                },
                                {
                                    "Felhasználónév": "gabor1",
                                    "Szállítási mód": "NULL",
                                    "Rendelések száma": "19"
                                },
                                {
                                    "Felhasználónév": "gabor4",
                                    "Szállítási mód": "GLS",
                                    "Rendelések száma": "7"
                                },
                                {
                                    "Felhasználónév": "gabor4",
                                    "Szállítási mód": "Posta",
                                    "Rendelések száma": "9"
                                },
                                {
                                    "Felhasználónév": "gabor4",
                                    "Szállítási mód": "Személyes átvétel",
                                    "Rendelések száma": "4"
                                },
                                {
                                    "Felhasználónév": "gabor4",
                                    "Szállítási mód": "NULL",
                                    "Rendelések száma": "20"
                                },
                                {
                                    "Felhasználónév": "GABORS",
                                    "Szállítási mód": "GLS",
                                    "Rendelések száma": "5"
                                },
                                {
                                    "Felhasználónév": "GABORS",
                                    "Szállítási mód": "Posta",
                                    "Rendelések száma": "6"
                                },
                                {
                                    "Felhasználónév": "GABORS",
                                    "Szállítási mód": "Személyes átvétel",
                                    "Rendelések száma": "4"
                                },
                                {
                                    "Felhasználónév": "GABORS",
                                    "Szállítási mód": "NULL",
                                    "Rendelések száma": "15"
                                },
                                {
                                    "Felhasználónév": "gabriella1",
                                    "Szállítási mód": "GLS",
                                    "Rendelések száma": "5"
                                },
                                {
                                    "Felhasználónév": "gabriella1",
                                    "Szállítási mód": "Posta",
                                    "Rendelések száma": "4"
                                },
                                {
                                    "Felhasználónév": "gabriella1",
                                    "Szállítási mód": "Személyes átvétel",
                                    "Rendelések száma": "5"
                                },
                                {
                                    "Felhasználónév": "gabriella1",
                                    "Szállítási mód": "NULL",
                                    "Rendelések száma": "14"
                                },
                                {
                                    "Felhasználónév": "gabriella10",
                                    "Szállítási mód": "GLS",
                                    "Rendelések száma": "4"
                                },
                                {
                                    "Felhasználónév": "gabriella10",
                                    "Szállítási mód": "Posta",
                                    "Rendelések száma": "5"
                                },
                                {
                                    "Felhasználónév": "gabriella10",
                                    "Szállítási mód": "Személyes átvétel",
                                    "Rendelések száma": "7"
                                },
                                {
                                    "Felhasználónév": "gabriella10",
                                    "Szállítási mód": "NULL",
                                    "Rendelések száma": "16"
                                },
                                {
                                    "Felhasználónév": "georgij",
                                    "Szállítási mód": "GLS",
                                    "Rendelések száma": "9"
                                },
                                {
                                    "Felhasználónév": "georgij",
                                    "Szállítási mód": "Posta",
                                    "Rendelések száma": "2"
                                },
                                {
                                    "Felhasználónév": "georgij",
                                    "Szállítási mód": "Személyes átvétel",
                                    "Rendelések száma": "10"
                                },
                                {
                                    "Felhasználónév": "georgij",
                                    "Szállítási mód": "NULL",
                                    "Rendelések száma": "21"
                                },
                                {
                                    "Felhasználónév": "gusztav",
                                    "Szállítási mód": "GLS",
                                    "Rendelések száma": "5"
                                },
                                {
                                    "Felhasználónév": "gusztav",
                                    "Szállítási mód": "Posta",
                                    "Rendelések száma": "4"
                                },
                                {
                                    "Felhasználónév": "gusztav",
                                    "Szállítási mód": "Személyes átvétel",
                                    "Rendelések száma": "5"
                                },
                                {
                                    "Felhasználónév": "gusztav",
                                    "Szállítási mód": "NULL",
                                    "Rendelések száma": "14"
                                },
                                {
                                    "Felhasználónév": "GYONGYIK",
                                    "Szállítási mód": "GLS",
                                    "Rendelések száma": "6"
                                },
                                {
                                    "Felhasználónév": "GYONGYIK",
                                    "Szállítási mód": "Posta",
                                    "Rendelések száma": "6"
                                },
                                {
                                    "Felhasználónév": "GYONGYIK",
                                    "Szállítási mód": "Személyes átvétel",
                                    "Rendelések száma": "3"
                                },
                                {
                                    "Felhasználónév": "GYONGYIK",
                                    "Szállítási mód": "NULL",
                                    "Rendelések száma": "15"
                                },
                                {
                                    "Felhasználónév": "GYORGYO",
                                    "Szállítási mód": "GLS",
                                    "Rendelések száma": "7"
                                },
                                {
                                    "Felhasználónév": "GYORGYO",
                                    "Szállítási mód": "Posta",
                                    "Rendelések száma": "4"
                                },
                                {
                                    "Felhasználónév": "GYORGYO",
                                    "Szállítási mód": "Személyes átvétel",
                                    "Rendelések száma": "5"
                                },
                                {
                                    "Felhasználónév": "GYORGYO",
                                    "Szállítási mód": "NULL",
                                    "Rendelések száma": "16"
                                },
                                {
                                    "Felhasználónév": "henrik3",
                                    "Szállítási mód": "GLS",
                                    "Rendelések száma": "7"
                                },
                                {
                                    "Felhasználónév": "henrik3",
                                    "Szállítási mód": "Posta",
                                    "Rendelések száma": "4"
                                },
                                {
                                    "Felhasználónév": "henrik3",
                                    "Szállítási mód": "Személyes átvétel",
                                    "Rendelések száma": "5"
                                },
                                {
                                    "Felhasználónév": "henrik3",
                                    "Szállítási mód": "NULL",
                                    "Rendelések száma": "16"
                                },
                                {
                                    "Felhasználónév": "IBOLYAA",
                                    "Szállítási mód": "GLS",
                                    "Rendelések száma": "140"
                                },
                                {
                                    "Felhasználónév": "IBOLYAA",
                                    "Szállítási mód": "Posta",
                                    "Rendelések száma": "125"
                                },
                                {
                                    "Felhasználónév": "IBOLYAA",
                                    "Szállítási mód": "Személyes átvétel",
                                    "Rendelések száma": "157"
                                },
                                {
                                    "Felhasználónév": "IBOLYAA",
                                    "Szállítási mód": "NULL",
                                    "Rendelések száma": "422"
                                },
                                {
                                    "Felhasználónév": "ilona3",
                                    "Szállítási mód": "GLS",
                                    "Rendelések száma": "9"
                                },
                                {
                                    "Felhasználónév": "ilona3",
                                    "Szállítási mód": "Posta",
                                    "Rendelések száma": "2"
                                },
                                {
                                    "Felhasználónév": "ilona3",
                                    "Szállítási mód": "Személyes átvétel",
                                    "Rendelések száma": "7"
                                },
                                {
                                    "Felhasználónév": "ilona3",
                                    "Szállítási mód": "NULL",
                                    "Rendelések száma": "18"
                                },
                                {
                                    "Felhasználónév": "imre",
                                    "Szállítási mód": "GLS",
                                    "Rendelések száma": "5"
                                },
                                {
                                    "Felhasználónév": "imre",
                                    "Szállítási mód": "Posta",
                                    "Rendelések száma": "4"
                                },
                                {
                                    "Felhasználónév": "imre",
                                    "Szállítási mód": "Személyes átvétel",
                                    "Rendelések száma": "6"
                                },
                                {
                                    "Felhasználónév": "imre",
                                    "Szállítási mód": "NULL",
                                    "Rendelések száma": "15"
                                },
                                {
                                    "Felhasználónév": "imre1",
                                    "Szállítási mód": "GLS",
                                    "Rendelések száma": "8"
                                },
                                {
                                    "Felhasználónév": "imre1",
                                    "Szállítási mód": "Posta",
                                    "Rendelések száma": "4"
                                },
                                {
                                    "Felhasználónév": "imre1",
                                    "Szállítási mód": "Személyes átvétel",
                                    "Rendelések száma": "3"
                                },
                                {
                                    "Felhasználónév": "imre1",
                                    "Szállítási mód": "NULL",
                                    "Rendelések száma": "15"
                                },
                                {
                                    "Felhasználónév": "istvan",
                                    "Szállítási mód": "GLS",
                                    "Rendelések száma": "3"
                                },
                                {
                                    "Felhasználónév": "istvan",
                                    "Szállítási mód": "Posta",
                                    "Rendelések száma": "4"
                                },
                                {
                                    "Felhasználónév": "istvan",
                                    "Szállítási mód": "Személyes átvétel",
                                    "Rendelések száma": "4"
                                },
                                {
                                    "Felhasználónév": "istvan",
                                    "Szállítási mód": "NULL",
                                    "Rendelések száma": "11"
                                },
                                {
                                    "Felhasználónév": "istvan1",
                                    "Szállítási mód": "GLS",
                                    "Rendelések száma": "8"
                                },
                                {
                                    "Felhasználónév": "istvan1",
                                    "Szállítási mód": "Posta",
                                    "Rendelések száma": "4"
                                },
                                {
                                    "Felhasználónév": "istvan1",
                                    "Szállítási mód": "Személyes átvétel",
                                    "Rendelések száma": "7"
                                },
                                {
                                    "Felhasználónév": "istvan1",
                                    "Szállítási mód": "NULL",
                                    "Rendelések száma": "19"
                                },
                                {
                                    "Felhasználónév": "ISTVANV",
                                    "Szállítási mód": "GLS",
                                    "Rendelések száma": "4"
                                },
                                {
                                    "Felhasználónév": "ISTVANV",
                                    "Szállítási mód": "Posta",
                                    "Rendelések száma": "9"
                                },
                                {
                                    "Felhasználónév": "ISTVANV",
                                    "Szállítási mód": "Személyes átvétel",
                                    "Rendelések száma": "8"
                                },
                                {
                                    "Felhasználónév": "ISTVANV",
                                    "Szállítási mód": "NULL",
                                    "Rendelések száma": "21"
                                },
                                {
                                    "Felhasználónév": "janos3",
                                    "Szállítási mód": "GLS",
                                    "Rendelések száma": "5"
                                },
                                {
                                    "Felhasználónév": "janos3",
                                    "Szállítási mód": "Posta",
                                    "Rendelések száma": "2"
                                },
                                {
                                    "Felhasználónév": "janos3",
                                    "Szállítási mód": "Személyes átvétel",
                                    "Rendelések száma": "6"
                                },
                                {
                                    "Felhasználónév": "janos3",
                                    "Szállítási mód": "NULL",
                                    "Rendelések száma": "13"
                                },
                                {
                                    "Felhasználónév": "JANOSG",
                                    "Szállítási mód": "GLS",
                                    "Rendelések száma": "3"
                                },
                                {
                                    "Felhasználónév": "JANOSG",
                                    "Szállítási mód": "Posta",
                                    "Rendelések száma": "3"
                                },
                                {
                                    "Felhasználónév": "JANOSG",
                                    "Szállítási mód": "Személyes átvétel",
                                    "Rendelések száma": "4"
                                },
                                {
                                    "Felhasználónév": "JANOSG",
                                    "Szállítási mód": "NULL",
                                    "Rendelések száma": "10"
                                },
                                {
                                    "Felhasználónév": "JANOSP",
                                    "Szállítási mód": "GLS",
                                    "Rendelések száma": "7"
                                },
                                {
                                    "Felhasználónév": "JANOSP",
                                    "Szállítási mód": "Posta",
                                    "Rendelések száma": "7"
                                },
                                {
                                    "Felhasználónév": "JANOSP",
                                    "Szállítási mód": "Személyes átvétel",
                                    "Rendelések száma": "3"
                                },
                                {
                                    "Felhasználónév": "JANOSP",
                                    "Szállítási mód": "NULL",
                                    "Rendelések száma": "17"
                                },
                                {
                                    "Felhasználónév": "jozsef",
                                    "Szállítási mód": "GLS",
                                    "Rendelések száma": "116"
                                },
                                {
                                    "Felhasználónév": "jozsef",
                                    "Szállítási mód": "Posta",
                                    "Rendelések száma": "132"
                                },
                                {
                                    "Felhasználónév": "jozsef",
                                    "Szállítási mód": "Személyes átvétel",
                                    "Rendelések száma": "134"
                                },
                                {
                                    "Felhasználónév": "jozsef",
                                    "Szállítási mód": "NULL",
                                    "Rendelések száma": "382"
                                },
                                {
                                    "Felhasználónév": "jozsef2",
                                    "Szállítási mód": "GLS",
                                    "Rendelések száma": "7"
                                },
                                {
                                    "Felhasználónév": "jozsef2",
                                    "Szállítási mód": "Posta",
                                    "Rendelések száma": "2"
                                },
                                {
                                    "Felhasználónév": "jozsef2",
                                    "Szállítási mód": "Személyes átvétel",
                                    "Rendelések száma": "4"
                                },
                                {
                                    "Felhasználónév": "jozsef2",
                                    "Szállítási mód": "NULL",
                                    "Rendelések száma": "13"
                                },
                                {
                                    "Felhasználónév": "JOZSEFG",
                                    "Szállítási mód": "GLS",
                                    "Rendelések száma": "11"
                                },
                                {
                                    "Felhasználónév": "JOZSEFG",
                                    "Szállítási mód": "Posta",
                                    "Rendelések száma": "1"
                                },
                                {
                                    "Felhasználónév": "JOZSEFG",
                                    "Szállítási mód": "Személyes átvétel",
                                    "Rendelések száma": "9"
                                },
                                {
                                    "Felhasználónév": "JOZSEFG",
                                    "Szállítási mód": "NULL",
                                    "Rendelések száma": "21"
                                },
                                {
                                    "Felhasználónév": "JUDITH",
                                    "Szállítási mód": "GLS",
                                    "Rendelések száma": "170"
                                },
                                {
                                    "Felhasználónév": "JUDITH",
                                    "Szállítási mód": "Posta",
                                    "Rendelések száma": "130"
                                },
                                {
                                    "Felhasználónév": "JUDITH",
                                    "Szállítási mód": "Személyes átvétel",
                                    "Rendelések száma": "150"
                                },
                                {
                                    "Felhasználónév": "JUDITH",
                                    "Szállítási mód": "NULL",
                                    "Rendelések száma": "450"
                                },
                                {
                                    "Felhasználónév": "julia",
                                    "Szállítási mód": "GLS",
                                    "Rendelések száma": "137"
                                },
                                {
                                    "Felhasználónév": "julia",
                                    "Szállítási mód": "Posta",
                                    "Rendelések száma": "160"
                                },
                                {
                                    "Felhasználónév": "julia",
                                    "Szállítási mód": "Személyes átvétel",
                                    "Rendelések száma": "138"
                                },
                                {
                                    "Felhasználónév": "julia",
                                    "Szállítási mód": "NULL",
                                    "Rendelések száma": "435"
                                },
                                {
                                    "Felhasználónév": "julia4",
                                    "Szállítási mód": "GLS",
                                    "Rendelések száma": "2"
                                },
                                {
                                    "Felhasználónév": "julia4",
                                    "Szállítási mód": "Posta",
                                    "Rendelések száma": "4"
                                },
                                {
                                    "Felhasználónév": "julia4",
                                    "Szállítási mód": "Személyes átvétel",
                                    "Rendelések száma": "8"
                                },
                                {
                                    "Felhasználónév": "julia4",
                                    "Szállítási mód": "NULL",
                                    "Rendelések száma": "14"
                                },
                                {
                                    "Felhasználónév": "julianna4",
                                    "Szállítási mód": "GLS",
                                    "Rendelések száma": "8"
                                },
                                {
                                    "Felhasználónév": "julianna4",
                                    "Szállítási mód": "Posta",
                                    "Rendelések száma": "12"
                                },
                                {
                                    "Felhasználónév": "julianna4",
                                    "Szállítási mód": "Személyes átvétel",
                                    "Rendelések száma": "7"
                                },
                                {
                                    "Felhasználónév": "julianna4",
                                    "Szállítási mód": "NULL",
                                    "Rendelések száma": "27"
                                },
                                {
                                    "Felhasználónév": "kata",
                                    "Szállítási mód": "GLS",
                                    "Rendelések száma": "5"
                                },
                                {
                                    "Felhasználónév": "kata",
                                    "Szállítási mód": "Posta",
                                    "Rendelések száma": "4"
                                },
                                {
                                    "Felhasználónév": "kata",
                                    "Szállítási mód": "Személyes átvétel",
                                    "Rendelések száma": "3"
                                },
                                {
                                    "Felhasználónév": "kata",
                                    "Szállítási mód": "NULL",
                                    "Rendelések száma": "12"
                                },
                                {
                                    "Felhasználónév": "katalin",
                                    "Szállítási mód": "GLS",
                                    "Rendelések száma": "7"
                                },
                                {
                                    "Felhasználónév": "katalin",
                                    "Szállítási mód": "Posta",
                                    "Rendelések száma": "7"
                                },
                                {
                                    "Felhasználónév": "katalin",
                                    "Szállítási mód": "Személyes átvétel",
                                    "Rendelések száma": "5"
                                },
                                {
                                    "Felhasználónév": "katalin",
                                    "Szállítási mód": "NULL",
                                    "Rendelések száma": "19"
                                },
                                {
                                    "Felhasználónév": "katalin4",
                                    "Szállítási mód": "GLS",
                                    "Rendelések száma": "7"
                                },
                                {
                                    "Felhasználónév": "katalin4",
                                    "Szállítási mód": "Posta",
                                    "Rendelések száma": "5"
                                },
                                {
                                    "Felhasználónév": "katalin4",
                                    "Szállítási mód": "Személyes átvétel",
                                    "Rendelések száma": "11"
                                },
                                {
                                    "Felhasználónév": "katalin4",
                                    "Szállítási mód": "NULL",
                                    "Rendelések száma": "23"
                                },
                                {
                                    "Felhasználónév": "kati",
                                    "Szállítási mód": "GLS",
                                    "Rendelések száma": "4"
                                },
                                {
                                    "Felhasználónév": "kati",
                                    "Szállítási mód": "Posta",
                                    "Rendelések száma": "5"
                                },
                                {
                                    "Felhasználónév": "kati",
                                    "Szállítási mód": "Személyes átvétel",
                                    "Rendelések száma": "4"
                                },
                                {
                                    "Felhasználónév": "kati",
                                    "Szállítási mód": "NULL",
                                    "Rendelések száma": "13"
                                },
                                {
                                    "Felhasználónév": "katka",
                                    "Szállítási mód": "GLS",
                                    "Rendelések száma": "6"
                                },
                                {
                                    "Felhasználónév": "katka",
                                    "Szállítási mód": "Posta",
                                    "Rendelések száma": "6"
                                },
                                {
                                    "Felhasználónév": "katka",
                                    "Szállítási mód": "Személyes átvétel",
                                    "Rendelések száma": "10"
                                },
                                {
                                    "Felhasználónév": "katka",
                                    "Szállítási mód": "NULL",
                                    "Rendelések száma": "22"
                                },
                                {
                                    "Felhasználónév": "klaudia2",
                                    "Szállítási mód": "GLS",
                                    "Rendelések száma": "3"
                                },
                                {
                                    "Felhasználónév": "klaudia2",
                                    "Szállítási mód": "Posta",
                                    "Rendelések száma": "9"
                                },
                                {
                                    "Felhasználónév": "klaudia2",
                                    "Szállítási mód": "Személyes átvétel",
                                    "Rendelések száma": "5"
                                },
                                {
                                    "Felhasználónév": "klaudia2",
                                    "Szállítási mód": "NULL",
                                    "Rendelések száma": "17"
                                },
                                {
                                    "Felhasználónév": "kornel4",
                                    "Szállítási mód": "GLS",
                                    "Rendelések száma": "3"
                                },
                                {
                                    "Felhasználónév": "kornel4",
                                    "Szállítási mód": "Posta",
                                    "Rendelések száma": "1"
                                },
                                {
                                    "Felhasználónév": "kornel4",
                                    "Szállítási mód": "Személyes átvétel",
                                    "Rendelések száma": "7"
                                },
                                {
                                    "Felhasználónév": "kornel4",
                                    "Szállítási mód": "NULL",
                                    "Rendelések száma": "11"
                                },
                                {
                                    "Felhasználónév": "kristof4",
                                    "Szállítási mód": "GLS",
                                    "Rendelések száma": "9"
                                },
                                {
                                    "Felhasználónév": "kristof4",
                                    "Szállítási mód": "Posta",
                                    "Rendelések száma": "4"
                                },
                                {
                                    "Felhasználónév": "kristof4",
                                    "Szállítási mód": "Személyes átvétel",
                                    "Rendelések száma": "8"
                                },
                                {
                                    "Felhasználónév": "kristof4",
                                    "Szállítási mód": "NULL",
                                    "Rendelések száma": "21"
                                },
                                {
                                    "Felhasználónév": "kriszti",
                                    "Szállítási mód": "GLS",
                                    "Rendelések száma": "3"
                                },
                                {
                                    "Felhasználónév": "kriszti",
                                    "Szállítási mód": "Posta",
                                    "Rendelések száma": "5"
                                },
                                {
                                    "Felhasználónév": "kriszti",
                                    "Szállítási mód": "Személyes átvétel",
                                    "Rendelések száma": "5"
                                },
                                {
                                    "Felhasználónév": "kriszti",
                                    "Szállítási mód": "NULL",
                                    "Rendelések száma": "13"
                                },
                                {
                                    "Felhasználónév": "krisztian4",
                                    "Szállítási mód": "GLS",
                                    "Rendelések száma": "5"
                                },
                                {
                                    "Felhasználónév": "krisztian4",
                                    "Szállítási mód": "Posta",
                                    "Rendelések száma": "6"
                                },
                                {
                                    "Felhasználónév": "krisztian4",
                                    "Szállítási mód": "Személyes átvétel",
                                    "Rendelések száma": "6"
                                },
                                {
                                    "Felhasználónév": "krisztian4",
                                    "Szállítási mód": "NULL",
                                    "Rendelések száma": "17"
                                },
                                {
                                    "Felhasználónév": "KRISZTIANM",
                                    "Szállítási mód": "GLS",
                                    "Rendelések száma": "118"
                                },
                                {
                                    "Felhasználónév": "KRISZTIANM",
                                    "Szállítási mód": "Posta",
                                    "Rendelések száma": "136"
                                },
                                {
                                    "Felhasználónév": "KRISZTIANM",
                                    "Szállítási mód": "Személyes átvétel",
                                    "Rendelések száma": "130"
                                },
                                {
                                    "Felhasználónév": "KRISZTIANM",
                                    "Szállítási mód": "NULL",
                                    "Rendelések száma": "384"
                                },
                                {
                                    "Felhasználónév": "krisztina",
                                    "Szállítási mód": "GLS",
                                    "Rendelések száma": "149"
                                },
                                {
                                    "Felhasználónév": "krisztina",
                                    "Szállítási mód": "Posta",
                                    "Rendelések száma": "150"
                                },
                                {
                                    "Felhasználónév": "krisztina",
                                    "Szállítási mód": "Személyes átvétel",
                                    "Rendelések száma": "157"
                                },
                                {
                                    "Felhasználónév": "krisztina",
                                    "Szállítási mód": "NULL",
                                    "Rendelések száma": "456"
                                },
                                {
                                    "Felhasználónév": "krisztina1",
                                    "Szállítási mód": "GLS",
                                    "Rendelések száma": "10"
                                },
                                {
                                    "Felhasználónév": "krisztina1",
                                    "Szállítási mód": "Posta",
                                    "Rendelések száma": "4"
                                },
                                {
                                    "Felhasználónév": "krisztina1",
                                    "Szállítási mód": "Személyes átvétel",
                                    "Rendelések száma": "8"
                                },
                                {
                                    "Felhasználónév": "krisztina1",
                                    "Szállítási mód": "NULL",
                                    "Rendelések száma": "22"
                                },
                                {
                                    "Felhasználónév": "KRISZTINAG",
                                    "Szállítási mód": "GLS",
                                    "Rendelések száma": "6"
                                },
                                {
                                    "Felhasználónév": "KRISZTINAG",
                                    "Szállítási mód": "Posta",
                                    "Rendelések száma": "6"
                                },
                                {
                                    "Felhasználónév": "KRISZTINAG",
                                    "Szállítási mód": "Személyes átvétel",
                                    "Rendelések száma": "10"
                                },
                                {
                                    "Felhasználónév": "KRISZTINAG",
                                    "Szállítási mód": "NULL",
                                    "Rendelések száma": "22"
                                },
                                {
                                    "Felhasználónév": "lajos",
                                    "Szállítási mód": "GLS",
                                    "Rendelések száma": "5"
                                },
                                {
                                    "Felhasználónév": "lajos",
                                    "Szállítási mód": "Posta",
                                    "Rendelések száma": "2"
                                },
                                {
                                    "Felhasználónév": "lajos",
                                    "Szállítási mód": "Személyes átvétel",
                                    "Rendelések száma": "9"
                                },
                                {
                                    "Felhasználónév": "lajos",
                                    "Szállítási mód": "NULL",
                                    "Rendelések száma": "16"
                                },
                                {
                                    "Felhasználónév": "lala",
                                    "Szállítási mód": "GLS",
                                    "Rendelések száma": "5"
                                },
                                {
                                    "Felhasználónév": "lala",
                                    "Szállítási mód": "Posta",
                                    "Rendelések száma": "3"
                                },
                                {
                                    "Felhasználónév": "lala",
                                    "Szállítási mód": "Személyes átvétel",
                                    "Rendelések száma": "9"
                                },
                                {
                                    "Felhasználónév": "lala",
                                    "Szállítási mód": "NULL",
                                    "Rendelések száma": "17"
                                },
                                {
                                    "Felhasználónév": "laszlo1",
                                    "Szállítási mód": "GLS",
                                    "Rendelések száma": "130"
                                },
                                {
                                    "Felhasználónév": "laszlo1",
                                    "Szállítási mód": "Posta",
                                    "Rendelések száma": "129"
                                },
                                {
                                    "Felhasználónév": "laszlo1",
                                    "Szállítási mód": "Személyes átvétel",
                                    "Rendelések száma": "135"
                                },
                                {
                                    "Felhasználónév": "laszlo1",
                                    "Szállítási mód": "NULL",
                                    "Rendelések száma": "394"
                                },
                                {
                                    "Felhasználónév": "laszlo2",
                                    "Szállítási mód": "GLS",
                                    "Rendelések száma": "12"
                                },
                                {
                                    "Felhasználónév": "laszlo2",
                                    "Szállítási mód": "Posta",
                                    "Rendelések száma": "6"
                                },
                                {
                                    "Felhasználónév": "laszlo2",
                                    "Szállítási mód": "Személyes átvétel",
                                    "Rendelések száma": "7"
                                },
                                {
                                    "Felhasználónév": "laszlo2",
                                    "Szállítási mód": "NULL",
                                    "Rendelések száma": "25"
                                },
                                {
                                    "Felhasználónév": "LASZLOA",
                                    "Szállítási mód": "GLS",
                                    "Rendelések száma": "156"
                                },
                                {
                                    "Felhasználónév": "LASZLOA",
                                    "Szállítási mód": "Posta",
                                    "Rendelések száma": "136"
                                },
                                {
                                    "Felhasználónév": "LASZLOA",
                                    "Szállítási mód": "Személyes átvétel",
                                    "Rendelések száma": "154"
                                },
                                {
                                    "Felhasználónév": "LASZLOA",
                                    "Szállítási mód": "NULL",
                                    "Rendelések száma": "446"
                                },
                                {
                                    "Felhasználónév": "LASZLON",
                                    "Szállítási mód": "GLS",
                                    "Rendelések száma": "126"
                                },
                                {
                                    "Felhasználónév": "LASZLON",
                                    "Szállítási mód": "Posta",
                                    "Rendelések száma": "131"
                                },
                                {
                                    "Felhasználónév": "LASZLON",
                                    "Szállítási mód": "Személyes átvétel",
                                    "Rendelések száma": "143"
                                },
                                {
                                    "Felhasználónév": "LASZLON",
                                    "Szállítási mód": "NULL",
                                    "Rendelések száma": "400"
                                },
                                {
                                    "Felhasználónév": "maria1",
                                    "Szállítási mód": "GLS",
                                    "Rendelések száma": "4"
                                },
                                {
                                    "Felhasználónév": "maria1",
                                    "Szállítási mód": "Posta",
                                    "Rendelések száma": "5"
                                },
                                {
                                    "Felhasználónév": "maria1",
                                    "Szállítási mód": "Személyes átvétel",
                                    "Rendelések száma": "1"
                                },
                                {
                                    "Felhasználónév": "maria1",
                                    "Szállítási mód": "NULL",
                                    "Rendelések száma": "10"
                                },
                                {
                                    "Felhasználónév": "MARKH",
                                    "Szállítási mód": "GLS",
                                    "Rendelések száma": "128"
                                },
                                {
                                    "Felhasználónév": "MARKH",
                                    "Szállítási mód": "Posta",
                                    "Rendelések száma": "142"
                                },
                                {
                                    "Felhasználónév": "MARKH",
                                    "Szállítási mód": "Személyes átvétel",
                                    "Rendelések száma": "142"
                                },
                                {
                                    "Felhasználónév": "MARKH",
                                    "Szállítási mód": "NULL",
                                    "Rendelések száma": "412"
                                },
                                {
                                    "Felhasználónév": "marton",
                                    "Szállítási mód": "GLS",
                                    "Rendelések száma": "5"
                                },
                                {
                                    "Felhasználónév": "marton",
                                    "Szállítási mód": "Posta",
                                    "Rendelések száma": "4"
                                },
                                {
                                    "Felhasználónév": "marton",
                                    "Szállítási mód": "Személyes átvétel",
                                    "Rendelések száma": "5"
                                },
                                {
                                    "Felhasználónév": "marton",
                                    "Szállítási mód": "NULL",
                                    "Rendelések száma": "14"
                                },
                                {
                                    "Felhasználónév": "MATEK",
                                    "Szállítási mód": "GLS",
                                    "Rendelések száma": "6"
                                },
                                {
                                    "Felhasználónév": "MATEK",
                                    "Szállítási mód": "Posta",
                                    "Rendelések száma": "10"
                                },
                                {
                                    "Felhasználónév": "MATEK",
                                    "Szállítási mód": "Személyes átvétel",
                                    "Rendelések száma": "9"
                                },
                                {
                                    "Felhasználónév": "MATEK",
                                    "Szállítási mód": "NULL",
                                    "Rendelések száma": "25"
                                },
                                {
                                    "Felhasználónév": "matyas2",
                                    "Szállítási mód": "GLS",
                                    "Rendelések száma": "138"
                                },
                                {
                                    "Felhasználónév": "matyas2",
                                    "Szállítási mód": "Posta",
                                    "Rendelések száma": "131"
                                },
                                {
                                    "Felhasználónév": "matyas2",
                                    "Szállítási mód": "Személyes átvétel",
                                    "Rendelések száma": "164"
                                },
                                {
                                    "Felhasználónév": "matyas2",
                                    "Szállítási mód": "NULL",
                                    "Rendelések száma": "433"
                                },
                                {
                                    "Felhasználónév": "MATYASS",
                                    "Szállítási mód": "GLS",
                                    "Rendelések száma": "4"
                                },
                                {
                                    "Felhasználónév": "MATYASS",
                                    "Szállítási mód": "Posta",
                                    "Rendelések száma": "5"
                                },
                                {
                                    "Felhasználónév": "MATYASS",
                                    "Szállítási mód": "Személyes átvétel",
                                    "Rendelések száma": "3"
                                },
                                {
                                    "Felhasználónév": "MATYASS",
                                    "Szállítási mód": "NULL",
                                    "Rendelések száma": "12"
                                },
                                {
                                    "Felhasználónév": "MIHALYJ",
                                    "Szállítási mód": "GLS",
                                    "Rendelések száma": "3"
                                },
                                {
                                    "Felhasználónév": "MIHALYJ",
                                    "Szállítási mód": "Posta",
                                    "Rendelések száma": "4"
                                },
                                {
                                    "Felhasználónév": "MIHALYJ",
                                    "Szállítási mód": "Személyes átvétel",
                                    "Rendelések száma": "6"
                                },
                                {
                                    "Felhasználónév": "MIHALYJ",
                                    "Szállítási mód": "NULL",
                                    "Rendelések száma": "13"
                                },
                                {
                                    "Felhasználónév": "miklos2",
                                    "Szállítási mód": "GLS",
                                    "Rendelések száma": "7"
                                },
                                {
                                    "Felhasználónév": "miklos2",
                                    "Szállítási mód": "Posta",
                                    "Rendelések száma": "4"
                                },
                                {
                                    "Felhasználónév": "miklos2",
                                    "Szállítási mód": "Személyes átvétel",
                                    "Rendelések száma": "2"
                                },
                                {
                                    "Felhasználónév": "miklos2",
                                    "Szállítási mód": "NULL",
                                    "Rendelések száma": "13"
                                },
                                {
                                    "Felhasználónév": "MIKLOSB",
                                    "Szállítási mód": "GLS",
                                    "Rendelések száma": "6"
                                },
                                {
                                    "Felhasználónév": "MIKLOSB",
                                    "Szállítási mód": "Posta",
                                    "Rendelések száma": "1"
                                },
                                {
                                    "Felhasználónév": "MIKLOSB",
                                    "Szállítási mód": "Személyes átvétel",
                                    "Rendelések száma": "8"
                                },
                                {
                                    "Felhasználónév": "MIKLOSB",
                                    "Szállítási mód": "NULL",
                                    "Rendelések száma": "15"
                                },
                                {
                                    "Felhasználónév": "MONIKAM",
                                    "Szállítási mód": "GLS",
                                    "Rendelések száma": "133"
                                },
                                {
                                    "Felhasználónév": "MONIKAM",
                                    "Szállítási mód": "Posta",
                                    "Rendelések száma": "151"
                                },
                                {
                                    "Felhasználónév": "MONIKAM",
                                    "Szállítási mód": "Személyes átvétel",
                                    "Rendelések száma": "123"
                                },
                                {
                                    "Felhasználónév": "MONIKAM",
                                    "Szállítási mód": "NULL",
                                    "Rendelések száma": "407"
                                },
                                {
                                    "Felhasználónév": "NANDORF",
                                    "Szállítási mód": "GLS",
                                    "Rendelések száma": "147"
                                },
                                {
                                    "Felhasználónév": "NANDORF",
                                    "Szállítási mód": "Posta",
                                    "Rendelések száma": "139"
                                },
                                {
                                    "Felhasználónév": "NANDORF",
                                    "Szállítási mód": "Személyes átvétel",
                                    "Rendelések száma": "134"
                                },
                                {
                                    "Felhasználónév": "NANDORF",
                                    "Szállítási mód": "NULL",
                                    "Rendelések száma": "420"
                                },
                                {
                                    "Felhasználónév": "nikolett3",
                                    "Szállítási mód": "GLS",
                                    "Rendelések száma": "4"
                                },
                                {
                                    "Felhasználónév": "nikolett3",
                                    "Szállítási mód": "Posta",
                                    "Rendelések száma": "3"
                                },
                                {
                                    "Felhasználónév": "nikolett3",
                                    "Szállítási mód": "Személyes átvétel",
                                    "Rendelések száma": "10"
                                },
                                {
                                    "Felhasználónév": "nikolett3",
                                    "Szállítási mód": "NULL",
                                    "Rendelések száma": "17"
                                },
                                {
                                    "Felhasználónév": "nikoletta4",
                                    "Szállítási mód": "GLS",
                                    "Rendelések száma": "137"
                                },
                                {
                                    "Felhasználónév": "nikoletta4",
                                    "Szállítási mód": "Posta",
                                    "Rendelések száma": "158"
                                },
                                {
                                    "Felhasználónév": "nikoletta4",
                                    "Szállítási mód": "Személyes átvétel",
                                    "Rendelések száma": "119"
                                },
                                {
                                    "Felhasználónév": "nikoletta4",
                                    "Szállítási mód": "NULL",
                                    "Rendelések száma": "414"
                                },
                                {
                                    "Felhasználónév": "NIKOLETTAT",
                                    "Szállítási mód": "GLS",
                                    "Rendelések száma": "13"
                                },
                                {
                                    "Felhasználónév": "NIKOLETTAT",
                                    "Szállítási mód": "Posta",
                                    "Rendelések száma": "7"
                                },
                                {
                                    "Felhasználónév": "NIKOLETTAT",
                                    "Szállítási mód": "Személyes átvétel",
                                    "Rendelések száma": "5"
                                },
                                {
                                    "Felhasználónév": "NIKOLETTAT",
                                    "Szállítási mód": "NULL",
                                    "Rendelések száma": "25"
                                },
                                {
                                    "Felhasználónév": "norbert2",
                                    "Szállítási mód": "GLS",
                                    "Rendelések száma": "7"
                                },
                                {
                                    "Felhasználónév": "norbert2",
                                    "Szállítási mód": "Posta",
                                    "Rendelések száma": "4"
                                },
                                {
                                    "Felhasználónév": "norbert2",
                                    "Szállítási mód": "NULL",
                                    "Rendelések száma": "11"
                                },
                                {
                                    "Felhasználónév": "norbert4",
                                    "Szállítási mód": "GLS",
                                    "Rendelések száma": "1"
                                },
                                {
                                    "Felhasználónév": "norbert4",
                                    "Szállítási mód": "Posta",
                                    "Rendelések száma": "3"
                                },
                                {
                                    "Felhasználónév": "norbert4",
                                    "Szállítási mód": "Személyes átvétel",
                                    "Rendelések száma": "9"
                                },
                                {
                                    "Felhasználónév": "norbert4",
                                    "Szállítási mód": "NULL",
                                    "Rendelések száma": "13"
                                },
                                {
                                    "Felhasználónév": "norbert5",
                                    "Szállítási mód": "GLS",
                                    "Rendelések száma": "1"
                                },
                                {
                                    "Felhasználónév": "norbert5",
                                    "Szállítási mód": "Posta",
                                    "Rendelések száma": "6"
                                },
                                {
                                    "Felhasználónév": "norbert5",
                                    "Szállítási mód": "Személyes átvétel",
                                    "Rendelések száma": "9"
                                },
                                {
                                    "Felhasználónév": "norbert5",
                                    "Szállítási mód": "NULL",
                                    "Rendelések száma": "16"
                                },
                                {
                                    "Felhasználónév": "pal",
                                    "Szállítási mód": "GLS",
                                    "Rendelések száma": "152"
                                },
                                {
                                    "Felhasználónév": "pal",
                                    "Szállítási mód": "Posta",
                                    "Rendelések száma": "132"
                                },
                                {
                                    "Felhasználónév": "pal",
                                    "Szállítási mód": "Személyes átvétel",
                                    "Rendelések száma": "154"
                                },
                                {
                                    "Felhasználónév": "pal",
                                    "Szállítási mód": "NULL",
                                    "Rendelések száma": "438"
                                },
                                {
                                    "Felhasználónév": "peter1",
                                    "Szállítási mód": "GLS",
                                    "Rendelések száma": "151"
                                },
                                {
                                    "Felhasználónév": "peter1",
                                    "Szállítási mód": "Posta",
                                    "Rendelések száma": "135"
                                },
                                {
                                    "Felhasználónév": "peter1",
                                    "Szállítási mód": "Személyes átvétel",
                                    "Rendelések száma": "126"
                                },
                                {
                                    "Felhasználónév": "peter1",
                                    "Szállítási mód": "NULL",
                                    "Rendelések száma": "412"
                                },
                                {
                                    "Felhasználónév": "peter2",
                                    "Szállítási mód": "GLS",
                                    "Rendelések száma": "7"
                                },
                                {
                                    "Felhasználónév": "peter2",
                                    "Szállítási mód": "Posta",
                                    "Rendelések száma": "4"
                                },
                                {
                                    "Felhasználónév": "peter2",
                                    "Szállítási mód": "Személyes átvétel",
                                    "Rendelések száma": "7"
                                },
                                {
                                    "Felhasználónév": "peter2",
                                    "Szállítási mód": "NULL",
                                    "Rendelések száma": "18"
                                },
                                {
                                    "Felhasználónév": "peter3",
                                    "Szállítási mód": "GLS",
                                    "Rendelések száma": "8"
                                },
                                {
                                    "Felhasználónév": "peter3",
                                    "Szállítási mód": "Posta",
                                    "Rendelések száma": "7"
                                },
                                {
                                    "Felhasználónév": "peter3",
                                    "Szállítási mód": "Személyes átvétel",
                                    "Rendelések száma": "10"
                                },
                                {
                                    "Felhasználónév": "peter3",
                                    "Szállítási mód": "NULL",
                                    "Rendelések száma": "25"
                                },
                                {
                                    "Felhasználónév": "peter4",
                                    "Szállítási mód": "GLS",
                                    "Rendelések száma": "266"
                                },
                                {
                                    "Felhasználónév": "peter4",
                                    "Szállítási mód": "Posta",
                                    "Rendelések száma": "293"
                                },
                                {
                                    "Felhasználónév": "peter4",
                                    "Szállítási mód": "Személyes átvétel",
                                    "Rendelések száma": "293"
                                },
                                {
                                    "Felhasználónév": "peter4",
                                    "Szállítási mód": "NULL",
                                    "Rendelések száma": "852"
                                },
                                {
                                    "Felhasználónév": "PETERB",
                                    "Szállítási mód": "GLS",
                                    "Rendelések száma": "2"
                                },
                                {
                                    "Felhasználónév": "PETERB",
                                    "Szállítási mód": "Posta",
                                    "Rendelések száma": "4"
                                },
                                {
                                    "Felhasználónév": "PETERB",
                                    "Szállítási mód": "Személyes átvétel",
                                    "Rendelések száma": "9"
                                },
                                {
                                    "Felhasználónév": "PETERB",
                                    "Szállítási mód": "NULL",
                                    "Rendelések száma": "15"
                                },
                                {
                                    "Felhasználónév": "polla",
                                    "Szállítási mód": "GLS",
                                    "Rendelések száma": "9"
                                },
                                {
                                    "Felhasználónév": "polla",
                                    "Szállítási mód": "Posta",
                                    "Rendelések száma": "6"
                                },
                                {
                                    "Felhasználónév": "polla",
                                    "Szállítási mód": "Személyes átvétel",
                                    "Rendelések száma": "7"
                                },
                                {
                                    "Felhasználónév": "polla",
                                    "Szállítási mód": "NULL",
                                    "Rendelések száma": "22"
                                },
                                {
                                    "Felhasználónév": "rajmond4",
                                    "Szállítási mód": "GLS",
                                    "Rendelések száma": "6"
                                },
                                {
                                    "Felhasználónév": "rajmond4",
                                    "Szállítási mód": "Posta",
                                    "Rendelések száma": "5"
                                },
                                {
                                    "Felhasználónév": "rajmond4",
                                    "Szállítási mód": "Személyes átvétel",
                                    "Rendelések száma": "6"
                                },
                                {
                                    "Felhasználónév": "rajmond4",
                                    "Szállítási mód": "NULL",
                                    "Rendelések száma": "17"
                                },
                                {
                                    "Felhasználónév": "reka4",
                                    "Szállítási mód": "GLS",
                                    "Rendelések száma": "5"
                                },
                                {
                                    "Felhasználónév": "reka4",
                                    "Szállítási mód": "Posta",
                                    "Rendelések száma": "4"
                                },
                                {
                                    "Felhasználónév": "reka4",
                                    "Szállítási mód": "Személyes átvétel",
                                    "Rendelések száma": "11"
                                },
                                {
                                    "Felhasználónév": "reka4",
                                    "Szállítási mód": "NULL",
                                    "Rendelések száma": "20"
                                },
                                {
                                    "Felhasználónév": "RENATAK",
                                    "Szállítási mód": "GLS",
                                    "Rendelések száma": "135"
                                },
                                {
                                    "Felhasználónév": "RENATAK",
                                    "Szállítási mód": "Posta",
                                    "Rendelések száma": "140"
                                },
                                {
                                    "Felhasználónév": "RENATAK",
                                    "Szállítási mód": "Személyes átvétel",
                                    "Rendelések száma": "147"
                                },
                                {
                                    "Felhasználónév": "RENATAK",
                                    "Szállítási mód": "NULL",
                                    "Rendelések száma": "422"
                                },
                                {
                                    "Felhasználónév": "RENATAS",
                                    "Szállítási mód": "GLS",
                                    "Rendelések száma": "6"
                                },
                                {
                                    "Felhasználónév": "RENATAS",
                                    "Szállítási mód": "Posta",
                                    "Rendelések száma": "5"
                                },
                                {
                                    "Felhasználónév": "RENATAS",
                                    "Szállítási mód": "Személyes átvétel",
                                    "Rendelések száma": "5"
                                },
                                {
                                    "Felhasználónév": "RENATAS",
                                    "Szállítási mód": "NULL",
                                    "Rendelések száma": "16"
                                },
                                {
                                    "Felhasználónév": "robert2",
                                    "Szállítási mód": "GLS",
                                    "Rendelések száma": "5"
                                },
                                {
                                    "Felhasználónév": "robert2",
                                    "Szállítási mód": "Posta",
                                    "Rendelések száma": "1"
                                },
                                {
                                    "Felhasználónév": "robert2",
                                    "Szállítási mód": "Személyes átvétel",
                                    "Rendelések száma": "7"
                                },
                                {
                                    "Felhasználónév": "robert2",
                                    "Szállítási mód": "NULL",
                                    "Rendelések száma": "13"
                                },
                                {
                                    "Felhasználónév": "ROBERTI",
                                    "Szállítási mód": "GLS",
                                    "Rendelések száma": "5"
                                },
                                {
                                    "Felhasználónév": "ROBERTI",
                                    "Szállítási mód": "Posta",
                                    "Rendelések száma": "3"
                                },
                                {
                                    "Felhasználónév": "ROBERTI",
                                    "Szállítási mód": "Személyes átvétel",
                                    "Rendelések száma": "5"
                                },
                                {
                                    "Felhasználónév": "ROBERTI",
                                    "Szállítási mód": "NULL",
                                    "Rendelések száma": "13"
                                },
                                {
                                    "Felhasználónév": "ROBERTP",
                                    "Szállítási mód": "GLS",
                                    "Rendelések száma": "8"
                                },
                                {
                                    "Felhasználónév": "ROBERTP",
                                    "Szállítási mód": "Posta",
                                    "Rendelések száma": "8"
                                },
                                {
                                    "Felhasználónév": "ROBERTP",
                                    "Szállítási mód": "Személyes átvétel",
                                    "Rendelések száma": "10"
                                },
                                {
                                    "Felhasználónév": "ROBERTP",
                                    "Szállítási mód": "NULL",
                                    "Rendelések száma": "26"
                                },
                                {
                                    "Felhasználónév": "roland",
                                    "Szállítási mód": "GLS",
                                    "Rendelések száma": "132"
                                },
                                {
                                    "Felhasználónév": "roland",
                                    "Szállítási mód": "Posta",
                                    "Rendelések száma": "157"
                                },
                                {
                                    "Felhasználónév": "roland",
                                    "Szállítási mód": "Személyes átvétel",
                                    "Rendelések száma": "125"
                                },
                                {
                                    "Felhasználónév": "roland",
                                    "Szállítási mód": "NULL",
                                    "Rendelések száma": "414"
                                },
                                {
                                    "Felhasználónév": "roland1",
                                    "Szállítási mód": "GLS",
                                    "Rendelések száma": "142"
                                },
                                {
                                    "Felhasználónév": "roland1",
                                    "Szállítási mód": "Posta",
                                    "Rendelések száma": "155"
                                },
                                {
                                    "Felhasználónév": "roland1",
                                    "Szállítási mód": "Személyes átvétel",
                                    "Rendelések száma": "135"
                                },
                                {
                                    "Felhasználónév": "roland1",
                                    "Szállítási mód": "NULL",
                                    "Rendelések száma": "432"
                                },
                                {
                                    "Felhasználónév": "roza2",
                                    "Szállítási mód": "GLS",
                                    "Rendelések száma": "3"
                                },
                                {
                                    "Felhasználónév": "roza2",
                                    "Szállítási mód": "Posta",
                                    "Rendelések száma": "2"
                                },
                                {
                                    "Felhasználónév": "roza2",
                                    "Szállítási mód": "Személyes átvétel",
                                    "Rendelések száma": "3"
                                },
                                {
                                    "Felhasználónév": "roza2",
                                    "Szállítási mód": "NULL",
                                    "Rendelések száma": "8"
                                },
                                {
                                    "Felhasználónév": "sandor",
                                    "Szállítási mód": "GLS",
                                    "Rendelések száma": "4"
                                },
                                {
                                    "Felhasználónév": "sandor",
                                    "Szállítási mód": "Posta",
                                    "Rendelések száma": "6"
                                },
                                {
                                    "Felhasználónév": "sandor",
                                    "Szállítási mód": "Személyes átvétel",
                                    "Rendelések száma": "7"
                                },
                                {
                                    "Felhasználónév": "sandor",
                                    "Szállítási mód": "NULL",
                                    "Rendelések száma": "17"
                                },
                                {
                                    "Felhasználónév": "sandor3",
                                    "Szállítási mód": "GLS",
                                    "Rendelések száma": "4"
                                },
                                {
                                    "Felhasználónév": "sandor3",
                                    "Szállítási mód": "Posta",
                                    "Rendelések száma": "4"
                                },
                                {
                                    "Felhasználónév": "sandor3",
                                    "Szállítási mód": "Személyes átvétel",
                                    "Rendelések száma": "6"
                                },
                                {
                                    "Felhasználónév": "sandor3",
                                    "Szállítási mód": "NULL",
                                    "Rendelések száma": "14"
                                },
                                {
                                    "Felhasználónév": "sandor4",
                                    "Szállítási mód": "GLS",
                                    "Rendelések száma": "4"
                                },
                                {
                                    "Felhasználónév": "sandor4",
                                    "Szállítási mód": "Posta",
                                    "Rendelések száma": "2"
                                },
                                {
                                    "Felhasználónév": "sandor4",
                                    "Szállítási mód": "Személyes átvétel",
                                    "Rendelések száma": "5"
                                },
                                {
                                    "Felhasználónév": "sandor4",
                                    "Szállítási mód": "NULL",
                                    "Rendelések száma": "11"
                                },
                                {
                                    "Felhasználónév": "sara",
                                    "Szállítási mód": "GLS",
                                    "Rendelések száma": "4"
                                },
                                {
                                    "Felhasználónév": "sara",
                                    "Szállítási mód": "Posta",
                                    "Rendelések száma": "7"
                                },
                                {
                                    "Felhasználónév": "sara",
                                    "Szállítási mód": "Személyes átvétel",
                                    "Rendelések száma": "9"
                                },
                                {
                                    "Felhasználónév": "sara",
                                    "Szállítási mód": "NULL",
                                    "Rendelések száma": "20"
                                },
                                {
                                    "Felhasználónév": "SEBASTIANF",
                                    "Szállítási mód": "GLS",
                                    "Rendelések száma": "6"
                                },
                                {
                                    "Felhasználónév": "SEBASTIANF",
                                    "Szállítási mód": "Posta",
                                    "Rendelések száma": "3"
                                },
                                {
                                    "Felhasználónév": "SEBASTIANF",
                                    "Szállítási mód": "Személyes átvétel",
                                    "Rendelések száma": "6"
                                },
                                {
                                    "Felhasználónév": "SEBASTIANF",
                                    "Szállítási mód": "NULL",
                                    "Rendelések száma": "15"
                                },
                                {
                                    "Felhasználónév": "sebestyen",
                                    "Szállítási mód": "GLS",
                                    "Rendelések száma": "4"
                                },
                                {
                                    "Felhasználónév": "sebestyen",
                                    "Szállítási mód": "Posta",
                                    "Rendelések száma": "6"
                                },
                                {
                                    "Felhasználónév": "sebestyen",
                                    "Szállítási mód": "Személyes átvétel",
                                    "Rendelések száma": "6"
                                },
                                {
                                    "Felhasználónév": "sebestyen",
                                    "Szállítási mód": "NULL",
                                    "Rendelések száma": "16"
                                },
                                {
                                    "Felhasználónév": "szabolcs",
                                    "Szállítási mód": "GLS",
                                    "Rendelések száma": "145"
                                },
                                {
                                    "Felhasználónév": "szabolcs",
                                    "Szállítási mód": "Posta",
                                    "Rendelések száma": "157"
                                },
                                {
                                    "Felhasználónév": "szabolcs",
                                    "Szállítási mód": "Személyes átvétel",
                                    "Rendelések száma": "169"
                                },
                                {
                                    "Felhasználónév": "szabolcs",
                                    "Szállítási mód": "NULL",
                                    "Rendelések száma": "471"
                                },
                                {
                                    "Felhasználónév": "SZABOLCSM",
                                    "Szállítási mód": "GLS",
                                    "Rendelések száma": "126"
                                },
                                {
                                    "Felhasználónév": "SZABOLCSM",
                                    "Szállítási mód": "Posta",
                                    "Rendelések száma": "153"
                                },
                                {
                                    "Felhasználónév": "SZABOLCSM",
                                    "Szállítási mód": "Személyes átvétel",
                                    "Rendelések száma": "129"
                                },
                                {
                                    "Felhasználónév": "SZABOLCSM",
                                    "Szállítási mód": "NULL",
                                    "Rendelések száma": "408"
                                },
                                {
                                    "Felhasználónév": "SZILARDS",
                                    "Szállítási mód": "GLS",
                                    "Rendelések száma": "144"
                                },
                                {
                                    "Felhasználónév": "SZILARDS",
                                    "Szállítási mód": "Posta",
                                    "Rendelések száma": "131"
                                },
                                {
                                    "Felhasználónév": "SZILARDS",
                                    "Szállítási mód": "Személyes átvétel",
                                    "Rendelések száma": "111"
                                },
                                {
                                    "Felhasználónév": "SZILARDS",
                                    "Szállítási mód": "NULL",
                                    "Rendelések száma": "386"
                                },
                                {
                                    "Felhasználónév": "szilvia1",
                                    "Szállítási mód": "GLS",
                                    "Rendelések száma": "156"
                                },
                                {
                                    "Felhasználónév": "szilvia1",
                                    "Szállítási mód": "Posta",
                                    "Rendelések száma": "151"
                                },
                                {
                                    "Felhasználónév": "szilvia1",
                                    "Szállítási mód": "Személyes átvétel",
                                    "Rendelések száma": "138"
                                },
                                {
                                    "Felhasználónév": "szilvia1",
                                    "Szállítási mód": "NULL",
                                    "Rendelések száma": "445"
                                },
                                {
                                    "Felhasználónév": "tamara2",
                                    "Szállítási mód": "GLS",
                                    "Rendelések száma": "6"
                                },
                                {
                                    "Felhasználónév": "tamara2",
                                    "Szállítási mód": "Posta",
                                    "Rendelések száma": "4"
                                },
                                {
                                    "Felhasználónév": "tamara2",
                                    "Szállítási mód": "Személyes átvétel",
                                    "Rendelések száma": "3"
                                },
                                {
                                    "Felhasználónév": "tamara2",
                                    "Szállítási mód": "NULL",
                                    "Rendelések száma": "13"
                                },
                                {
                                    "Felhasználónév": "tamas",
                                    "Szállítási mód": "GLS",
                                    "Rendelések száma": "143"
                                },
                                {
                                    "Felhasználónév": "tamas",
                                    "Szállítási mód": "Posta",
                                    "Rendelések száma": "156"
                                },
                                {
                                    "Felhasználónév": "tamas",
                                    "Szállítási mód": "Személyes átvétel",
                                    "Rendelések száma": "122"
                                },
                                {
                                    "Felhasználónév": "tamas",
                                    "Szállítási mód": "NULL",
                                    "Rendelések száma": "421"
                                },
                                {
                                    "Felhasználónév": "TAMASF",
                                    "Szállítási mód": "GLS",
                                    "Rendelések száma": "159"
                                },
                                {
                                    "Felhasználónév": "TAMASF",
                                    "Szállítási mód": "Posta",
                                    "Rendelések száma": "145"
                                },
                                {
                                    "Felhasználónév": "TAMASF",
                                    "Szállítási mód": "Személyes átvétel",
                                    "Rendelések száma": "129"
                                },
                                {
                                    "Felhasználónév": "TAMASF",
                                    "Szállítási mód": "NULL",
                                    "Rendelések száma": "433"
                                },
                                {
                                    "Felhasználónév": "tibor",
                                    "Szállítási mód": "GLS",
                                    "Rendelések száma": "115"
                                },
                                {
                                    "Felhasználónév": "tibor",
                                    "Szállítási mód": "Posta",
                                    "Rendelések száma": "129"
                                },
                                {
                                    "Felhasználónév": "tibor",
                                    "Szállítási mód": "Személyes átvétel",
                                    "Rendelések száma": "130"
                                },
                                {
                                    "Felhasználónév": "tibor",
                                    "Szállítási mód": "NULL",
                                    "Rendelések száma": "374"
                                },
                                {
                                    "Felhasználónév": "tibor2",
                                    "Szállítási mód": "GLS",
                                    "Rendelések száma": "7"
                                },
                                {
                                    "Felhasználónév": "tibor2",
                                    "Szállítási mód": "Posta",
                                    "Rendelések száma": "7"
                                },
                                {
                                    "Felhasználónév": "tibor2",
                                    "Szállítási mód": "Személyes átvétel",
                                    "Rendelések száma": "11"
                                },
                                {
                                    "Felhasználónév": "tibor2",
                                    "Szállítási mód": "NULL",
                                    "Rendelések száma": "25"
                                },
                                {
                                    "Felhasználónév": "tihamer",
                                    "Szállítási mód": "GLS",
                                    "Rendelések száma": "9"
                                },
                                {
                                    "Felhasználónév": "tihamer",
                                    "Szállítási mód": "Posta",
                                    "Rendelések száma": "6"
                                },
                                {
                                    "Felhasználónév": "tihamer",
                                    "Szállítási mód": "Személyes átvétel",
                                    "Rendelések száma": "5"
                                },
                                {
                                    "Felhasználónév": "tihamer",
                                    "Szállítási mód": "NULL",
                                    "Rendelések száma": "20"
                                },
                                {
                                    "Felhasználónév": "timea",
                                    "Szállítási mód": "GLS",
                                    "Rendelések száma": "14"
                                },
                                {
                                    "Felhasználónév": "timea",
                                    "Szállítási mód": "Posta",
                                    "Rendelések száma": "23"
                                },
                                {
                                    "Felhasználónév": "timea",
                                    "Szállítási mód": "Személyes átvétel",
                                    "Rendelések száma": "18"
                                },
                                {
                                    "Felhasználónév": "timea",
                                    "Szállítási mód": "NULL",
                                    "Rendelések száma": "55"
                                },
                                {
                                    "Felhasználónév": "timea2",
                                    "Szállítási mód": "GLS",
                                    "Rendelések száma": "1"
                                },
                                {
                                    "Felhasználónév": "timea2",
                                    "Szállítási mód": "Posta",
                                    "Rendelések száma": "5"
                                },
                                {
                                    "Felhasználónév": "timea2",
                                    "Szállítási mód": "Személyes átvétel",
                                    "Rendelések száma": "10"
                                },
                                {
                                    "Felhasználónév": "timea2",
                                    "Szállítási mód": "NULL",
                                    "Rendelések száma": "16"
                                },
                                {
                                    "Felhasználónév": "tunde",
                                    "Szállítási mód": "GLS",
                                    "Rendelések száma": "6"
                                },
                                {
                                    "Felhasználónév": "tunde",
                                    "Szállítási mód": "Posta",
                                    "Rendelések száma": "6"
                                },
                                {
                                    "Felhasználónév": "tunde",
                                    "Szállítási mód": "Személyes átvétel",
                                    "Rendelések száma": "4"
                                },
                                {
                                    "Felhasználónév": "tunde",
                                    "Szállítási mód": "NULL",
                                    "Rendelések száma": "16"
                                },
                                {
                                    "Felhasználónév": "valentin",
                                    "Szállítási mód": "GLS",
                                    "Rendelések száma": "5"
                                },
                                {
                                    "Felhasználónév": "valentin",
                                    "Szállítási mód": "Posta",
                                    "Rendelések száma": "5"
                                },
                                {
                                    "Felhasználónév": "valentin",
                                    "Szállítási mód": "Személyes átvétel",
                                    "Rendelések száma": "3"
                                },
                                {
                                    "Felhasználónév": "valentin",
                                    "Szállítási mód": "NULL",
                                    "Rendelések száma": "13"
                                },
                                {
                                    "Felhasználónév": "veronika4",
                                    "Szállítási mód": "GLS",
                                    "Rendelések száma": "5"
                                },
                                {
                                    "Felhasználónév": "veronika4",
                                    "Szállítási mód": "Posta",
                                    "Rendelések száma": "6"
                                },
                                {
                                    "Felhasználónév": "veronika4",
                                    "Szállítási mód": "Személyes átvétel",
                                    "Rendelések száma": "7"
                                },
                                {
                                    "Felhasználónév": "veronika4",
                                    "Szállítási mód": "NULL",
                                    "Rendelések száma": "18"
                                },
                                {
                                    "Felhasználónév": "VIKTORIAU",
                                    "Szállítási mód": "GLS",
                                    "Rendelések száma": "5"
                                },
                                {
                                    "Felhasználónév": "VIKTORIAU",
                                    "Szállítási mód": "Posta",
                                    "Rendelések száma": "4"
                                },
                                {
                                    "Felhasználónév": "VIKTORIAU",
                                    "Szállítási mód": "Személyes átvétel",
                                    "Rendelések száma": "5"
                                },
                                {
                                    "Felhasználónév": "VIKTORIAU",
                                    "Szállítási mód": "NULL",
                                    "Rendelések száma": "14"
                                },
                                {
                                    "Felhasználónév": "VIKTORK",
                                    "Szállítási mód": "GLS",
                                    "Rendelések száma": "8"
                                },
                                {
                                    "Felhasználónév": "VIKTORK",
                                    "Szállítási mód": "Posta",
                                    "Rendelések száma": "6"
                                },
                                {
                                    "Felhasználónév": "VIKTORK",
                                    "Szállítási mód": "Személyes átvétel",
                                    "Rendelések száma": "6"
                                },
                                {
                                    "Felhasználónév": "VIKTORK",
                                    "Szállítási mód": "NULL",
                                    "Rendelések száma": "20"
                                },
                                {
                                    "Felhasználónév": "vivien3",
                                    "Szállítási mód": "GLS",
                                    "Rendelések száma": "9"
                                },
                                {
                                    "Felhasználónév": "vivien3",
                                    "Szállítási mód": "Posta",
                                    "Rendelések száma": "6"
                                },
                                {
                                    "Felhasználónév": "vivien3",
                                    "Szállítási mód": "Személyes átvétel",
                                    "Rendelések száma": "7"
                                },
                                {
                                    "Felhasználónév": "vivien3",
                                    "Szállítási mód": "NULL",
                                    "Rendelések száma": "22"
                                },
                                {
                                    "Felhasználónév": "zoltan",
                                    "Szállítási mód": "GLS",
                                    "Rendelések száma": "5"
                                },
                                {
                                    "Felhasználónév": "zoltan",
                                    "Szállítási mód": "Posta",
                                    "Rendelések száma": "3"
                                },
                                {
                                    "Felhasználónév": "zoltan",
                                    "Szállítási mód": "Személyes átvétel",
                                    "Rendelések száma": "7"
                                },
                                {
                                    "Felhasználónév": "zoltan",
                                    "Szállítási mód": "NULL",
                                    "Rendelések száma": "15"
                                },
                                {
                                    "Felhasználónév": "zoltan4",
                                    "Szállítási mód": "GLS",
                                    "Rendelések száma": "129"
                                },
                                {
                                    "Felhasználónév": "zoltan4",
                                    "Szállítási mód": "Posta",
                                    "Rendelések száma": "124"
                                },
                                {
                                    "Felhasználónév": "zoltan4",
                                    "Szállítási mód": "Személyes átvétel",
                                    "Rendelések száma": "171"
                                },
                                {
                                    "Felhasználónév": "zoltan4",
                                    "Szállítási mód": "NULL",
                                    "Rendelések száma": "424"
                                },
                                {
                                    "Felhasználónév": "ZOLTANP",
                                    "Szállítási mód": "GLS",
                                    "Rendelések száma": "6"
                                },
                                {
                                    "Felhasználónév": "ZOLTANP",
                                    "Szállítási mód": "Posta",
                                    "Rendelések száma": "3"
                                },
                                {
                                    "Felhasználónév": "ZOLTANP",
                                    "Szállítási mód": "Személyes átvétel",
                                    "Rendelések száma": "4"
                                },
                                {
                                    "Felhasználónév": "ZOLTANP",
                                    "Szállítási mód": "NULL",
                                    "Rendelések száma": "13"
                                },
                                {
                                    "Felhasználónév": "ZOLTANT",
                                    "Szállítási mód": "GLS",
                                    "Rendelések száma": "127"
                                },
                                {
                                    "Felhasználónév": "ZOLTANT",
                                    "Szállítási mód": "Posta",
                                    "Rendelések száma": "107"
                                },
                                {
                                    "Felhasználónév": "ZOLTANT",
                                    "Szállítási mód": "Személyes átvétel",
                                    "Rendelések száma": "123"
                                },
                                {
                                    "Felhasználónév": "ZOLTANT",
                                    "Szállítási mód": "NULL",
                                    "Rendelések száma": "357"
                                },
                                {
                                    "Felhasználónév": "zsofi1",
                                    "Szállítási mód": "GLS",
                                    "Rendelések száma": "7"
                                },
                                {
                                    "Felhasználónév": "zsofi1",
                                    "Szállítási mód": "Posta",
                                    "Rendelések száma": "6"
                                },
                                {
                                    "Felhasználónév": "zsofi1",
                                    "Szállítási mód": "Személyes átvétel",
                                    "Rendelések száma": "6"
                                },
                                {
                                    "Felhasználónév": "zsofi1",
                                    "Szállítási mód": "NULL",
                                    "Rendelések száma": "19"
                                },
                                {
                                    "Felhasználónév": "zsolt1",
                                    "Szállítási mód": "GLS",
                                    "Rendelések száma": "11"
                                },
                                {
                                    "Felhasználónév": "zsolt1",
                                    "Szállítási mód": "Posta",
                                    "Rendelések száma": "6"
                                },
                                {
                                    "Felhasználónév": "zsolt1",
                                    "Szállítási mód": "Személyes átvétel",
                                    "Rendelések száma": "3"
                                },
                                {
                                    "Felhasználónév": "zsolt1",
                                    "Szállítási mód": "NULL",
                                    "Rendelések száma": "20"
                                },
                                {
                                    "Felhasználónév": "ZSOLTJ",
                                    "Szállítási mód": "GLS",
                                    "Rendelések száma": "1"
                                },
                                {
                                    "Felhasználónév": "ZSOLTJ",
                                    "Szállítási mód": "Posta",
                                    "Rendelések száma": "8"
                                },
                                {
                                    "Felhasználónév": "ZSOLTJ",
                                    "Szállítási mód": "Személyes átvétel",
                                    "Rendelések száma": "9"
                                },
                                {
                                    "Felhasználónév": "ZSOLTJ",
                                    "Szállítási mód": "NULL",
                                    "Rendelések száma": "18"
                                },
                                {
                                    "Felhasználónév": "zsuzsa",
                                    "Szállítási mód": "GLS",
                                    "Rendelések száma": "8"
                                },
                                {
                                    "Felhasználónév": "zsuzsa",
                                    "Szállítási mód": "Posta",
                                    "Rendelések száma": "5"
                                },
                                {
                                    "Felhasználónév": "zsuzsa",
                                    "Szállítási mód": "Személyes átvétel",
                                    "Rendelések száma": "3"
                                },
                                {
                                    "Felhasználónév": "zsuzsa",
                                    "Szállítási mód": "NULL",
                                    "Rendelések száma": "16"
                                },
                                {
                                    "Felhasználónév": "zsuzsa3",
                                    "Szállítási mód": "GLS",
                                    "Rendelések száma": "5"
                                },
                                {
                                    "Felhasználónév": "zsuzsa3",
                                    "Szállítási mód": "Posta",
                                    "Rendelések száma": "5"
                                },
                                {
                                    "Felhasználónév": "zsuzsa3",
                                    "Szállítási mód": "Személyes átvétel",
                                    "Rendelések száma": "6"
                                },
                                {
                                    "Felhasználónév": "zsuzsa3",
                                    "Szállítási mód": "NULL",
                                    "Rendelések száma": "16"
                                },
                                {
                                    "Felhasználónév": "zsuzsanna",
                                    "Szállítási mód": "GLS",
                                    "Rendelések száma": "7"
                                },
                                {
                                    "Felhasználónév": "zsuzsanna",
                                    "Szállítási mód": "Posta",
                                    "Rendelések száma": "5"
                                },
                                {
                                    "Felhasználónév": "zsuzsanna",
                                    "Szállítási mód": "Személyes átvétel",
                                    "Rendelések száma": "3"
                                },
                                {
                                    "Felhasználónév": "zsuzsanna",
                                    "Szállítási mód": "NULL",
                                    "Rendelések száma": "15"
                                },
                                {
                                    "Felhasználónév": "ZSUZSAV",
                                    "Szállítási mód": "GLS",
                                    "Rendelések száma": "139"
                                },
                                {
                                    "Felhasználónév": "ZSUZSAV",
                                    "Szállítási mód": "Posta",
                                    "Rendelések száma": "139"
                                },
                                {
                                    "Felhasználónév": "ZSUZSAV",
                                    "Szállítási mód": "Személyes átvétel",
                                    "Rendelések száma": "142"
                                },
                                {
                                    "Felhasználónév": "ZSUZSAV",
                                    "Szállítási mód": "NULL",
                                    "Rendelések száma": "420"
                                },
                                {
                                    "Felhasználónév": "NULL",
                                    "Szállítási mód": "NULL",
                                    "Rendelések száma": "28085"
                                }
                            ]
                        },
                        "text/html": [
                            "<table>",
                            "<tr><th>Felhasználónév</th><th>Szállítási mód</th><th>Rendelések száma</th></tr>",
                            "<tr><td>adam1</td><td>GLS</td><td>129</td></tr>",
                            "<tr><td>adam1</td><td>Posta</td><td>132</td></tr>",
                            "<tr><td>adam1</td><td>Személyes átvétel</td><td>131</td></tr>",
                            "<tr><td>adam1</td><td>NULL</td><td>392</td></tr>",
                            "<tr><td>adam3</td><td>GLS</td><td>10</td></tr>",
                            "<tr><td>adam3</td><td>Posta</td><td>3</td></tr>",
                            "<tr><td>adam3</td><td>Személyes átvétel</td><td>2</td></tr>",
                            "<tr><td>adam3</td><td>NULL</td><td>15</td></tr>",
                            "<tr><td>adam4</td><td>GLS</td><td>12</td></tr>",
                            "<tr><td>adam4</td><td>Posta</td><td>6</td></tr>",
                            "<tr><td>adam4</td><td>Személyes átvétel</td><td>11</td></tr>",
                            "<tr><td>adam4</td><td>NULL</td><td>29</td></tr>",
                            "<tr><td>agnes</td><td>GLS</td><td>144</td></tr>",
                            "<tr><td>agnes</td><td>Posta</td><td>130</td></tr>",
                            "<tr><td>agnes</td><td>Személyes átvétel</td><td>144</td></tr>",
                            "<tr><td>agnes</td><td>NULL</td><td>418</td></tr>",
                            "<tr><td>agnes3</td><td>GLS</td><td>148</td></tr>",
                            "<tr><td>agnes3</td><td>Posta</td><td>146</td></tr>",
                            "<tr><td>agnes3</td><td>Személyes átvétel</td><td>136</td></tr>",
                            "<tr><td>agnes3</td><td>NULL</td><td>430</td></tr>",
                            "<tr><td>AGNESH</td><td>GLS</td><td>2</td></tr>",
                            "<tr><td>AGNESH</td><td>Posta</td><td>3</td></tr>",
                            "<tr><td>AGNESH</td><td>Személyes átvétel</td><td>6</td></tr>",
                            "<tr><td>AGNESH</td><td>NULL</td><td>11</td></tr>",
                            "<tr><td>AGNESK</td><td>GLS</td><td>1</td></tr>",
                            "<tr><td>AGNESK</td><td>Posta</td><td>7</td></tr>",
                            "<tr><td>AGNESK</td><td>Személyes átvétel</td><td>7</td></tr>",
                            "<tr><td>AGNESK</td><td>NULL</td><td>15</td></tr>",
                            "<tr><td>akos</td><td>GLS</td><td>146</td></tr>",
                            "<tr><td>akos</td><td>Posta</td><td>143</td></tr>",
                            "<tr><td>akos</td><td>Személyes átvétel</td><td>140</td></tr>",
                            "<tr><td>akos</td><td>NULL</td><td>429</td></tr>",
                            "<tr><td>aladar</td><td>GLS</td><td>156</td></tr>",
                            "<tr><td>aladar</td><td>Posta</td><td>134</td></tr>",
                            "<tr><td>aladar</td><td>Személyes átvétel</td><td>118</td></tr>",
                            "<tr><td>aladar</td><td>NULL</td><td>408</td></tr>",
                            "<tr><td>alexandra</td><td>GLS</td><td>5</td></tr>",
                            "<tr><td>alexandra</td><td>Posta</td><td>9</td></tr>",
                            "<tr><td>alexandra</td><td>Személyes átvétel</td><td>5</td></tr>",
                            "<tr><td>alexandra</td><td>NULL</td><td>19</td></tr>",
                            "<tr><td>andi</td><td>GLS</td><td>7</td></tr>",
                            "<tr><td>andi</td><td>Posta</td><td>4</td></tr>",
                            "<tr><td>andi</td><td>Személyes átvétel</td><td>7</td></tr>",
                            "<tr><td>andi</td><td>NULL</td><td>18</td></tr>",
                            "<tr><td>andras2</td><td>GLS</td><td>4</td></tr>",
                            "<tr><td>andras2</td><td>Posta</td><td>7</td></tr>",
                            "<tr><td>andras2</td><td>Személyes átvétel</td><td>11</td></tr>",
                            "<tr><td>andras2</td><td>NULL</td><td>22</td></tr>",
                            "<tr><td>andras21</td><td>GLS</td><td>140</td></tr>",
                            "<tr><td>andras21</td><td>Posta</td><td>124</td></tr>",
                            "<tr><td>andras21</td><td>Személyes átvétel</td><td>126</td></tr>",
                            "<tr><td>andras21</td><td>NULL</td><td>390</td></tr>",
                            "<tr><td>andras3</td><td>GLS</td><td>3</td></tr>",
                            "<tr><td>andras3</td><td>Posta</td><td>1</td></tr>",
                            "<tr><td>andras3</td><td>Személyes átvétel</td><td>5</td></tr>",
                            "<tr><td>andras3</td><td>NULL</td><td>9</td></tr>",
                            "<tr><td>andras4</td><td>GLS</td><td>4</td></tr>",
                            "<tr><td>andras4</td><td>Posta</td><td>4</td></tr>",
                            "<tr><td>andras4</td><td>Személyes átvétel</td><td>4</td></tr>",
                            "<tr><td>andras4</td><td>NULL</td><td>12</td></tr>",
                            "<tr><td>andras41</td><td>GLS</td><td>149</td></tr>",
                            "<tr><td>andras41</td><td>Posta</td><td>137</td></tr>",
                            "<tr><td>andras41</td><td>Személyes átvétel</td><td>133</td></tr>",
                            "<tr><td>andras41</td><td>NULL</td><td>419</td></tr>",
                            "<tr><td>ANDRASE</td><td>GLS</td><td>159</td></tr>",
                            "<tr><td>ANDRASE</td><td>Posta</td><td>141</td></tr>",
                            "<tr><td>ANDRASE</td><td>Személyes átvétel</td><td>136</td></tr>",
                            "<tr><td>ANDRASE</td><td>NULL</td><td>436</td></tr>",
                            "<tr><td>ANDRASN</td><td>GLS</td><td>10</td></tr>",
                            "<tr><td>ANDRASN</td><td>Posta</td><td>9</td></tr>",
                            "<tr><td>ANDRASN</td><td>Személyes átvétel</td><td>5</td></tr>",
                            "<tr><td>ANDRASN</td><td>NULL</td><td>24</td></tr>",
                            "<tr><td>andrea</td><td>GLS</td><td>12</td></tr>",
                            "<tr><td>andrea</td><td>Posta</td><td>4</td></tr>",
                            "<tr><td>andrea</td><td>Személyes átvétel</td><td>8</td></tr>",
                            "<tr><td>andrea</td><td>NULL</td><td>24</td></tr>",
                            "<tr><td>andrea3</td><td>GLS</td><td>131</td></tr>",
                            "<tr><td>andrea3</td><td>Posta</td><td>136</td></tr>",
                            "<tr><td>andrea3</td><td>Személyes átvétel</td><td>146</td></tr>",
                            "<tr><td>andrea3</td><td>NULL</td><td>413</td></tr>",
                            "<tr><td>andrea4</td><td>GLS</td><td>7</td></tr>",
                            "<tr><td>andrea4</td><td>Posta</td><td>4</td></tr>",
                            "<tr><td>andrea4</td><td>Személyes átvétel</td><td>7</td></tr>",
                            "<tr><td>andrea4</td><td>NULL</td><td>18</td></tr>",
                            "<tr><td>ANDREAT</td><td>GLS</td><td>3</td></tr>",
                            "<tr><td>ANDREAT</td><td>Posta</td><td>6</td></tr>",
                            "<tr><td>ANDREAT</td><td>Személyes átvétel</td><td>12</td></tr>",
                            "<tr><td>ANDREAT</td><td>NULL</td><td>21</td></tr>",
                            "<tr><td>anett3</td><td>GLS</td><td>3</td></tr>",
                            "<tr><td>anett3</td><td>Posta</td><td>6</td></tr>",
                            "<tr><td>anett3</td><td>Személyes átvétel</td><td>9</td></tr>",
                            "<tr><td>anett3</td><td>NULL</td><td>18</td></tr>",
                            "<tr><td>aniko</td><td>GLS</td><td>128</td></tr>",
                            "<tr><td>aniko</td><td>Posta</td><td>137</td></tr>",
                            "<tr><td>aniko</td><td>Személyes átvétel</td><td>138</td></tr>",
                            "<tr><td>aniko</td><td>NULL</td><td>403</td></tr>",
                            "<tr><td>aniko4</td><td>GLS</td><td>6</td></tr>",
                            "<tr><td>aniko4</td><td>Posta</td><td>6</td></tr>",
                            "<tr><td>aniko4</td><td>Személyes átvétel</td><td>3</td></tr>",
                            "<tr><td>aniko4</td><td>NULL</td><td>15</td></tr>",
                            "<tr><td>ANIKOS</td><td>GLS</td><td>128</td></tr>",
                            "<tr><td>ANIKOS</td><td>Posta</td><td>126</td></tr>",
                            "<tr><td>ANIKOS</td><td>Személyes átvétel</td><td>150</td></tr>",
                            "<tr><td>ANIKOS</td><td>NULL</td><td>404</td></tr>",
                            "<tr><td>anita</td><td>GLS</td><td>5</td></tr>",
                            "<tr><td>anita</td><td>Posta</td><td>2</td></tr>",
                            "<tr><td>anita</td><td>Személyes átvétel</td><td>5</td></tr>",
                            "<tr><td>anita</td><td>NULL</td><td>12</td></tr>",
                            "<tr><td>annamaria1</td><td>GLS</td><td>5</td></tr>",
                            "<tr><td>annamaria1</td><td>Posta</td><td>4</td></tr>",
                            "<tr><td>annamaria1</td><td>Személyes átvétel</td><td>7</td></tr>",
                            "<tr><td>annamaria1</td><td>NULL</td><td>16</td></tr>",
                            "<tr><td>ANNAMARIAR</td><td>GLS</td><td>8</td></tr>",
                            "<tr><td>ANNAMARIAR</td><td>Posta</td><td>2</td></tr>",
                            "<tr><td>ANNAMARIAR</td><td>Személyes átvétel</td><td>3</td></tr>",
                            "<tr><td>ANNAMARIAR</td><td>NULL</td><td>13</td></tr>",
                            "<tr><td>aron2</td><td>GLS</td><td>132</td></tr>",
                            "<tr><td>aron2</td><td>Posta</td><td>133</td></tr>",
                            "<tr><td>aron2</td><td>Személyes átvétel</td><td>144</td></tr>",
                            "<tr><td>aron2</td><td>NULL</td><td>409</td></tr>",
                            "<tr><td>ARONK</td><td>GLS</td><td>155</td></tr>",
                            "<tr><td>ARONK</td><td>Posta</td><td>120</td></tr>",
                            "<tr><td>ARONK</td><td>Személyes átvétel</td><td>155</td></tr>",
                            "<tr><td>ARONK</td><td>NULL</td><td>430</td></tr>",
                            "<tr><td>arpad2</td><td>GLS</td><td>6</td></tr>",
                            "<tr><td>arpad2</td><td>Posta</td><td>1</td></tr>",
                            "<tr><td>arpad2</td><td>Személyes átvétel</td><td>10</td></tr>",
                            "<tr><td>arpad2</td><td>NULL</td><td>17</td></tr>",
                            "<tr><td>ARPADH</td><td>GLS</td><td>6</td></tr>",
                            "<tr><td>ARPADH</td><td>Posta</td><td>3</td></tr>",
                            "<tr><td>ARPADH</td><td>Személyes átvétel</td><td>5</td></tr>",
                            "<tr><td>ARPADH</td><td>NULL</td><td>14</td></tr>",
                            "<tr><td>ARPADM</td><td>GLS</td><td>6</td></tr>",
                            "<tr><td>ARPADM</td><td>Posta</td><td>3</td></tr>",
                            "<tr><td>ARPADM</td><td>Személyes átvétel</td><td>7</td></tr>",
                            "<tr><td>ARPADM</td><td>NULL</td><td>16</td></tr>",
                            "<tr><td>attila1</td><td>GLS</td><td>5</td></tr>",
                            "<tr><td>attila1</td><td>Posta</td><td>7</td></tr>",
                            "<tr><td>attila1</td><td>Személyes átvétel</td><td>6</td></tr>",
                            "<tr><td>attila1</td><td>NULL</td><td>18</td></tr>",
                            "<tr><td>attila4</td><td>GLS</td><td>135</td></tr>",
                            "<tr><td>attila4</td><td>Posta</td><td>125</td></tr>",
                            "<tr><td>attila4</td><td>Személyes átvétel</td><td>141</td></tr>",
                            "<tr><td>attila4</td><td>NULL</td><td>401</td></tr>",
                            "<tr><td>ATTILAO</td><td>GLS</td><td>4</td></tr>",
                            "<tr><td>ATTILAO</td><td>Posta</td><td>4</td></tr>",
                            "<tr><td>ATTILAO</td><td>Személyes átvétel</td><td>6</td></tr>",
                            "<tr><td>ATTILAO</td><td>NULL</td><td>14</td></tr>",
                            "<tr><td>balazs1</td><td>GLS</td><td>128</td></tr>",
                            "<tr><td>balazs1</td><td>Posta</td><td>136</td></tr>",
                            "<tr><td>balazs1</td><td>Személyes átvétel</td><td>155</td></tr>",
                            "<tr><td>balazs1</td><td>NULL</td><td>419</td></tr>",
                            "<tr><td>balazs2</td><td>GLS</td><td>5</td></tr>",
                            "<tr><td>balazs2</td><td>Posta</td><td>7</td></tr>",
                            "<tr><td>balazs2</td><td>Személyes átvétel</td><td>5</td></tr>",
                            "<tr><td>balazs2</td><td>NULL</td><td>17</td></tr>",
                            "<tr><td>balazs3</td><td>GLS</td><td>6</td></tr>",
                            "<tr><td>balazs3</td><td>Posta</td><td>6</td></tr>",
                            "<tr><td>balazs3</td><td>Személyes átvétel</td><td>3</td></tr>",
                            "<tr><td>balazs3</td><td>NULL</td><td>15</td></tr>",
                            "<tr><td>balint</td><td>GLS</td><td>10</td></tr>",
                            "<tr><td>balint</td><td>Posta</td><td>4</td></tr>",
                            "<tr><td>balint</td><td>Személyes átvétel</td><td>2</td></tr>",
                            "<tr><td>balint</td><td>NULL</td><td>16</td></tr>",
                            "<tr><td>balint1</td><td>GLS</td><td>158</td></tr>",
                            "<tr><td>balint1</td><td>Posta</td><td>152</td></tr>",
                            "<tr><td>balint1</td><td>Személyes átvétel</td><td>152</td></tr>",
                            "<tr><td>balint1</td><td>NULL</td><td>462</td></tr>",
                            "<tr><td>balint2</td><td>GLS</td><td>8</td></tr>",
                            "<tr><td>balint2</td><td>Posta</td><td>6</td></tr>",
                            "<tr><td>balint2</td><td>Személyes átvétel</td><td>3</td></tr>",
                            "<tr><td>balint2</td><td>NULL</td><td>17</td></tr>",
                            "<tr><td>balu</td><td>GLS</td><td>127</td></tr>",
                            "<tr><td>balu</td><td>Posta</td><td>137</td></tr>",
                            "<tr><td>balu</td><td>Személyes átvétel</td><td>123</td></tr>",
                            "<tr><td>balu</td><td>NULL</td><td>387</td></tr>",
                            "<tr><td>BEATRIXK</td><td>GLS</td><td>135</td></tr>",
                            "<tr><td>BEATRIXK</td><td>Posta</td><td>155</td></tr>",
                            "<tr><td>BEATRIXK</td><td>Személyes átvétel</td><td>145</td></tr>",
                            "<tr><td>BEATRIXK</td><td>NULL</td><td>435</td></tr>",
                            "<tr><td>BEATRIXS</td><td>GLS</td><td>146</td></tr>",
                            "<tr><td>BEATRIXS</td><td>Posta</td><td>141</td></tr>",
                            "<tr><td>BEATRIXS</td><td>Személyes átvétel</td><td>133</td></tr>",
                            "<tr><td>BEATRIXS</td><td>NULL</td><td>420</td></tr>",
                            "<tr><td>BELAF</td><td>GLS</td><td>11</td></tr>",
                            "<tr><td>BELAF</td><td>Posta</td><td>2</td></tr>",
                            "<tr><td>BELAF</td><td>Személyes átvétel</td><td>5</td></tr>",
                            "<tr><td>BELAF</td><td>NULL</td><td>18</td></tr>",
                            "<tr><td>bence</td><td>GLS</td><td>4</td></tr>",
                            "<tr><td>bence</td><td>Posta</td><td>6</td></tr>",
                            "<tr><td>bence</td><td>Személyes átvétel</td><td>8</td></tr>",
                            "<tr><td>bence</td><td>NULL</td><td>18</td></tr>",
                            "<tr><td>BENCEB</td><td>GLS</td><td>5</td></tr>",
                            "<tr><td>BENCEB</td><td>Posta</td><td>7</td></tr>",
                            "<tr><td>BENCEB</td><td>Személyes átvétel</td><td>5</td></tr>",
                            "<tr><td>BENCEB</td><td>NULL</td><td>17</td></tr>",
                            "<tr><td>bernadett1</td><td>GLS</td><td>10</td></tr>",
                            "<tr><td>bernadett1</td><td>Posta</td><td>5</td></tr>",
                            "<tr><td>bernadett1</td><td>Személyes átvétel</td><td>5</td></tr>",
                            "<tr><td>bernadett1</td><td>NULL</td><td>20</td></tr>",
                            "<tr><td>bernadett2</td><td>GLS</td><td>6</td></tr>",
                            "<tr><td>bernadett2</td><td>Posta</td><td>2</td></tr>",
                            "<tr><td>bernadett2</td><td>Személyes átvétel</td><td>7</td></tr>",
                            "<tr><td>bernadett2</td><td>NULL</td><td>15</td></tr>",
                            "<tr><td>BERNADETTO</td><td>GLS</td><td>7</td></tr>",
                            "<tr><td>BERNADETTO</td><td>Posta</td><td>2</td></tr>",
                            "<tr><td>BERNADETTO</td><td>Személyes átvétel</td><td>7</td></tr>",
                            "<tr><td>BERNADETTO</td><td>NULL</td><td>16</td></tr>",
                            "<tr><td>bertalan</td><td>GLS</td><td>128</td></tr>",
                            "<tr><td>bertalan</td><td>Posta</td><td>124</td></tr>",
                            "<tr><td>bertalan</td><td>Személyes átvétel</td><td>101</td></tr>",
                            "<tr><td>bertalan</td><td>NULL</td><td>353</td></tr>",
                            "<tr><td>brigitta</td><td>GLS</td><td>137</td></tr>",
                            "<tr><td>brigitta</td><td>Posta</td><td>137</td></tr>",
                            "<tr><td>brigitta</td><td>Személyes átvétel</td><td>119</td></tr>",
                            "<tr><td>brigitta</td><td>NULL</td><td>393</td></tr>",
                            "<tr><td>brigitta3</td><td>GLS</td><td>144</td></tr>",
                            "<tr><td>brigitta3</td><td>Posta</td><td>130</td></tr>",
                            "<tr><td>brigitta3</td><td>Személyes átvétel</td><td>139</td></tr>",
                            "<tr><td>brigitta3</td><td>NULL</td><td>413</td></tr>",
                            "<tr><td>csongor3</td><td>GLS</td><td>5</td></tr>",
                            "<tr><td>csongor3</td><td>Posta</td><td>2</td></tr>",
                            "<tr><td>csongor3</td><td>Személyes átvétel</td><td>8</td></tr>",
                            "<tr><td>csongor3</td><td>NULL</td><td>15</td></tr>",
                            "<tr><td>dani</td><td>GLS</td><td>5</td></tr>",
                            "<tr><td>dani</td><td>Személyes átvétel</td><td>8</td></tr>",
                            "<tr><td>dani</td><td>NULL</td><td>13</td></tr>",
                            "<tr><td>daniel</td><td>GLS</td><td>7</td></tr>",
                            "<tr><td>daniel</td><td>Posta</td><td>2</td></tr>",
                            "<tr><td>daniel</td><td>Személyes átvétel</td><td>4</td></tr>",
                            "<tr><td>daniel</td><td>NULL</td><td>13</td></tr>",
                            "<tr><td>daniel1</td><td>GLS</td><td>156</td></tr>",
                            "<tr><td>daniel1</td><td>Posta</td><td>131</td></tr>",
                            "<tr><td>daniel1</td><td>Személyes átvétel</td><td>132</td></tr>",
                            "<tr><td>daniel1</td><td>NULL</td><td>419</td></tr>",
                            "<tr><td>david</td><td>GLS</td><td>161</td></tr>",
                            "<tr><td>david</td><td>Posta</td><td>144</td></tr>",
                            "<tr><td>david</td><td>Személyes átvétel</td><td>146</td></tr>",
                            "<tr><td>david</td><td>NULL</td><td>451</td></tr>",
                            "<tr><td>david1</td><td>GLS</td><td>8</td></tr>",
                            "<tr><td>david1</td><td>Posta</td><td>1</td></tr>",
                            "<tr><td>david1</td><td>Személyes átvétel</td><td>8</td></tr>",
                            "<tr><td>david1</td><td>NULL</td><td>17</td></tr>",
                            "<tr><td>david4</td><td>GLS</td><td>3</td></tr>",
                            "<tr><td>david4</td><td>Posta</td><td>8</td></tr>",
                            "<tr><td>david4</td><td>Személyes átvétel</td><td>10</td></tr>",
                            "<tr><td>david4</td><td>NULL</td><td>21</td></tr>",
                            "<tr><td>debora</td><td>GLS</td><td>7</td></tr>",
                            "<tr><td>debora</td><td>Posta</td><td>6</td></tr>",
                            "<tr><td>debora</td><td>Személyes átvétel</td><td>3</td></tr>",
                            "<tr><td>debora</td><td>NULL</td><td>16</td></tr>",
                            "<tr><td>denes</td><td>GLS</td><td>3</td></tr>",
                            "<tr><td>denes</td><td>Posta</td><td>2</td></tr>",
                            "<tr><td>denes</td><td>Személyes átvétel</td><td>4</td></tr>",
                            "<tr><td>denes</td><td>NULL</td><td>9</td></tr>",
                            "<tr><td>dora3</td><td>GLS</td><td>144</td></tr>",
                            "<tr><td>dora3</td><td>Posta</td><td>124</td></tr>",
                            "<tr><td>dora3</td><td>Személyes átvétel</td><td>164</td></tr>",
                            "<tr><td>dora3</td><td>NULL</td><td>432</td></tr>",
                            "<tr><td>edit</td><td>GLS</td><td>7</td></tr>",
                            "<tr><td>edit</td><td>Posta</td><td>2</td></tr>",
                            "<tr><td>edit</td><td>Személyes átvétel</td><td>4</td></tr>",
                            "<tr><td>edit</td><td>NULL</td><td>13</td></tr>",
                            "<tr><td>emese</td><td>GLS</td><td>128</td></tr>",
                            "<tr><td>emese</td><td>Posta</td><td>136</td></tr>",
                            "<tr><td>emese</td><td>Személyes átvétel</td><td>142</td></tr>",
                            "<tr><td>emese</td><td>NULL</td><td>406</td></tr>",
                            "<tr><td>eszter2</td><td>GLS</td><td>127</td></tr>",
                            "<tr><td>eszter2</td><td>Posta</td><td>136</td></tr>",
                            "<tr><td>eszter2</td><td>Személyes átvétel</td><td>152</td></tr>",
                            "<tr><td>eszter2</td><td>NULL</td><td>415</td></tr>",
                            "<tr><td>eszter4</td><td>GLS</td><td>141</td></tr>",
                            "<tr><td>eszter4</td><td>Posta</td><td>134</td></tr>",
                            "<tr><td>eszter4</td><td>Személyes átvétel</td><td>149</td></tr>",
                            "<tr><td>eszter4</td><td>NULL</td><td>424</td></tr>",
                            "<tr><td>ESZTERE</td><td>GLS</td><td>6</td></tr>",
                            "<tr><td>ESZTERE</td><td>Posta</td><td>9</td></tr>",
                            "<tr><td>ESZTERE</td><td>Személyes átvétel</td><td>7</td></tr>",
                            "<tr><td>ESZTERE</td><td>NULL</td><td>22</td></tr>",
                            "<tr><td>eva</td><td>GLS</td><td>125</td></tr>",
                            "<tr><td>eva</td><td>Posta</td><td>140</td></tr>",
                            "<tr><td>eva</td><td>Személyes átvétel</td><td>139</td></tr>",
                            "<tr><td>eva</td><td>NULL</td><td>404</td></tr>",
                            "<tr><td>eva2</td><td>GLS</td><td>154</td></tr>",
                            "<tr><td>eva2</td><td>Posta</td><td>138</td></tr>",
                            "<tr><td>eva2</td><td>Személyes átvétel</td><td>170</td></tr>",
                            "<tr><td>eva2</td><td>NULL</td><td>462</td></tr>",
                            "<tr><td>EVAV</td><td>GLS</td><td>2</td></tr>",
                            "<tr><td>EVAV</td><td>Posta</td><td>1</td></tr>",
                            "<tr><td>EVAV</td><td>Személyes átvétel</td><td>4</td></tr>",
                            "<tr><td>EVAV</td><td>NULL</td><td>7</td></tr>",
                            "<tr><td>ferenc1</td><td>GLS</td><td>144</td></tr>",
                            "<tr><td>ferenc1</td><td>Posta</td><td>158</td></tr>",
                            "<tr><td>ferenc1</td><td>Személyes átvétel</td><td>135</td></tr>",
                            "<tr><td>ferenc1</td><td>NULL</td><td>437</td></tr>",
                            "<tr><td>fruzsina4</td><td>GLS</td><td>8</td></tr>",
                            "<tr><td>fruzsina4</td><td>Posta</td><td>3</td></tr>",
                            "<tr><td>fruzsina4</td><td>Személyes átvétel</td><td>7</td></tr>",
                            "<tr><td>fruzsina4</td><td>NULL</td><td>18</td></tr>",
                            "<tr><td>gabor1</td><td>GLS</td><td>9</td></tr>",
                            "<tr><td>gabor1</td><td>Posta</td><td>5</td></tr>",
                            "<tr><td>gabor1</td><td>Személyes átvétel</td><td>5</td></tr>",
                            "<tr><td>gabor1</td><td>NULL</td><td>19</td></tr>",
                            "<tr><td>gabor4</td><td>GLS</td><td>7</td></tr>",
                            "<tr><td>gabor4</td><td>Posta</td><td>9</td></tr>",
                            "<tr><td>gabor4</td><td>Személyes átvétel</td><td>4</td></tr>",
                            "<tr><td>gabor4</td><td>NULL</td><td>20</td></tr>",
                            "<tr><td>GABORS</td><td>GLS</td><td>5</td></tr>",
                            "<tr><td>GABORS</td><td>Posta</td><td>6</td></tr>",
                            "<tr><td>GABORS</td><td>Személyes átvétel</td><td>4</td></tr>",
                            "<tr><td>GABORS</td><td>NULL</td><td>15</td></tr>",
                            "<tr><td>gabriella1</td><td>GLS</td><td>5</td></tr>",
                            "<tr><td>gabriella1</td><td>Posta</td><td>4</td></tr>",
                            "<tr><td>gabriella1</td><td>Személyes átvétel</td><td>5</td></tr>",
                            "<tr><td>gabriella1</td><td>NULL</td><td>14</td></tr>",
                            "<tr><td>gabriella10</td><td>GLS</td><td>4</td></tr>",
                            "<tr><td>gabriella10</td><td>Posta</td><td>5</td></tr>",
                            "<tr><td>gabriella10</td><td>Személyes átvétel</td><td>7</td></tr>",
                            "<tr><td>gabriella10</td><td>NULL</td><td>16</td></tr>",
                            "<tr><td>georgij</td><td>GLS</td><td>9</td></tr>",
                            "<tr><td>georgij</td><td>Posta</td><td>2</td></tr>",
                            "<tr><td>georgij</td><td>Személyes átvétel</td><td>10</td></tr>",
                            "<tr><td>georgij</td><td>NULL</td><td>21</td></tr>",
                            "<tr><td>gusztav</td><td>GLS</td><td>5</td></tr>",
                            "<tr><td>gusztav</td><td>Posta</td><td>4</td></tr>",
                            "<tr><td>gusztav</td><td>Személyes átvétel</td><td>5</td></tr>",
                            "<tr><td>gusztav</td><td>NULL</td><td>14</td></tr>",
                            "<tr><td>GYONGYIK</td><td>GLS</td><td>6</td></tr>",
                            "<tr><td>GYONGYIK</td><td>Posta</td><td>6</td></tr>",
                            "<tr><td>GYONGYIK</td><td>Személyes átvétel</td><td>3</td></tr>",
                            "<tr><td>GYONGYIK</td><td>NULL</td><td>15</td></tr>",
                            "<tr><td>GYORGYO</td><td>GLS</td><td>7</td></tr>",
                            "<tr><td>GYORGYO</td><td>Posta</td><td>4</td></tr>",
                            "<tr><td>GYORGYO</td><td>Személyes átvétel</td><td>5</td></tr>",
                            "<tr><td>GYORGYO</td><td>NULL</td><td>16</td></tr>",
                            "<tr><td>henrik3</td><td>GLS</td><td>7</td></tr>",
                            "<tr><td>henrik3</td><td>Posta</td><td>4</td></tr>",
                            "<tr><td>henrik3</td><td>Személyes átvétel</td><td>5</td></tr>",
                            "<tr><td>henrik3</td><td>NULL</td><td>16</td></tr>",
                            "<tr><td>IBOLYAA</td><td>GLS</td><td>140</td></tr>",
                            "<tr><td>IBOLYAA</td><td>Posta</td><td>125</td></tr>",
                            "<tr><td>IBOLYAA</td><td>Személyes átvétel</td><td>157</td></tr>",
                            "<tr><td>IBOLYAA</td><td>NULL</td><td>422</td></tr>",
                            "<tr><td>ilona3</td><td>GLS</td><td>9</td></tr>",
                            "<tr><td>ilona3</td><td>Posta</td><td>2</td></tr>",
                            "<tr><td>ilona3</td><td>Személyes átvétel</td><td>7</td></tr>",
                            "<tr><td>ilona3</td><td>NULL</td><td>18</td></tr>",
                            "<tr><td>imre</td><td>GLS</td><td>5</td></tr>",
                            "<tr><td>imre</td><td>Posta</td><td>4</td></tr>",
                            "<tr><td>imre</td><td>Személyes átvétel</td><td>6</td></tr>",
                            "<tr><td>imre</td><td>NULL</td><td>15</td></tr>",
                            "<tr><td>imre1</td><td>GLS</td><td>8</td></tr>",
                            "<tr><td>imre1</td><td>Posta</td><td>4</td></tr>",
                            "<tr><td>imre1</td><td>Személyes átvétel</td><td>3</td></tr>",
                            "<tr><td>imre1</td><td>NULL</td><td>15</td></tr>",
                            "<tr><td>istvan</td><td>GLS</td><td>3</td></tr>",
                            "<tr><td>istvan</td><td>Posta</td><td>4</td></tr>",
                            "<tr><td>istvan</td><td>Személyes átvétel</td><td>4</td></tr>",
                            "<tr><td>istvan</td><td>NULL</td><td>11</td></tr>",
                            "<tr><td>istvan1</td><td>GLS</td><td>8</td></tr>",
                            "<tr><td>istvan1</td><td>Posta</td><td>4</td></tr>",
                            "<tr><td>istvan1</td><td>Személyes átvétel</td><td>7</td></tr>",
                            "<tr><td>istvan1</td><td>NULL</td><td>19</td></tr>",
                            "<tr><td>ISTVANV</td><td>GLS</td><td>4</td></tr>",
                            "<tr><td>ISTVANV</td><td>Posta</td><td>9</td></tr>",
                            "<tr><td>ISTVANV</td><td>Személyes átvétel</td><td>8</td></tr>",
                            "<tr><td>ISTVANV</td><td>NULL</td><td>21</td></tr>",
                            "<tr><td>janos3</td><td>GLS</td><td>5</td></tr>",
                            "<tr><td>janos3</td><td>Posta</td><td>2</td></tr>",
                            "<tr><td>janos3</td><td>Személyes átvétel</td><td>6</td></tr>",
                            "<tr><td>janos3</td><td>NULL</td><td>13</td></tr>",
                            "<tr><td>JANOSG</td><td>GLS</td><td>3</td></tr>",
                            "<tr><td>JANOSG</td><td>Posta</td><td>3</td></tr>",
                            "<tr><td>JANOSG</td><td>Személyes átvétel</td><td>4</td></tr>",
                            "<tr><td>JANOSG</td><td>NULL</td><td>10</td></tr>",
                            "<tr><td>JANOSP</td><td>GLS</td><td>7</td></tr>",
                            "<tr><td>JANOSP</td><td>Posta</td><td>7</td></tr>",
                            "<tr><td>JANOSP</td><td>Személyes átvétel</td><td>3</td></tr>",
                            "<tr><td>JANOSP</td><td>NULL</td><td>17</td></tr>",
                            "<tr><td>jozsef</td><td>GLS</td><td>116</td></tr>",
                            "<tr><td>jozsef</td><td>Posta</td><td>132</td></tr>",
                            "<tr><td>jozsef</td><td>Személyes átvétel</td><td>134</td></tr>",
                            "<tr><td>jozsef</td><td>NULL</td><td>382</td></tr>",
                            "<tr><td>jozsef2</td><td>GLS</td><td>7</td></tr>",
                            "<tr><td>jozsef2</td><td>Posta</td><td>2</td></tr>",
                            "<tr><td>jozsef2</td><td>Személyes átvétel</td><td>4</td></tr>",
                            "<tr><td>jozsef2</td><td>NULL</td><td>13</td></tr>",
                            "<tr><td>JOZSEFG</td><td>GLS</td><td>11</td></tr>",
                            "<tr><td>JOZSEFG</td><td>Posta</td><td>1</td></tr>",
                            "<tr><td>JOZSEFG</td><td>Személyes átvétel</td><td>9</td></tr>",
                            "<tr><td>JOZSEFG</td><td>NULL</td><td>21</td></tr>",
                            "<tr><td>JUDITH</td><td>GLS</td><td>170</td></tr>",
                            "<tr><td>JUDITH</td><td>Posta</td><td>130</td></tr>",
                            "<tr><td>JUDITH</td><td>Személyes átvétel</td><td>150</td></tr>",
                            "<tr><td>JUDITH</td><td>NULL</td><td>450</td></tr>",
                            "<tr><td>julia</td><td>GLS</td><td>137</td></tr>",
                            "<tr><td>julia</td><td>Posta</td><td>160</td></tr>",
                            "<tr><td>julia</td><td>Személyes átvétel</td><td>138</td></tr>",
                            "<tr><td>julia</td><td>NULL</td><td>435</td></tr>",
                            "<tr><td>julia4</td><td>GLS</td><td>2</td></tr>",
                            "<tr><td>julia4</td><td>Posta</td><td>4</td></tr>",
                            "<tr><td>julia4</td><td>Személyes átvétel</td><td>8</td></tr>",
                            "<tr><td>julia4</td><td>NULL</td><td>14</td></tr>",
                            "<tr><td>julianna4</td><td>GLS</td><td>8</td></tr>",
                            "<tr><td>julianna4</td><td>Posta</td><td>12</td></tr>",
                            "<tr><td>julianna4</td><td>Személyes átvétel</td><td>7</td></tr>",
                            "<tr><td>julianna4</td><td>NULL</td><td>27</td></tr>",
                            "<tr><td>kata</td><td>GLS</td><td>5</td></tr>",
                            "<tr><td>kata</td><td>Posta</td><td>4</td></tr>",
                            "<tr><td>kata</td><td>Személyes átvétel</td><td>3</td></tr>",
                            "<tr><td>kata</td><td>NULL</td><td>12</td></tr>",
                            "<tr><td>katalin</td><td>GLS</td><td>7</td></tr>",
                            "<tr><td>katalin</td><td>Posta</td><td>7</td></tr>",
                            "<tr><td>katalin</td><td>Személyes átvétel</td><td>5</td></tr>",
                            "<tr><td>katalin</td><td>NULL</td><td>19</td></tr>",
                            "<tr><td>katalin4</td><td>GLS</td><td>7</td></tr>",
                            "<tr><td>katalin4</td><td>Posta</td><td>5</td></tr>",
                            "<tr><td>katalin4</td><td>Személyes átvétel</td><td>11</td></tr>",
                            "<tr><td>katalin4</td><td>NULL</td><td>23</td></tr>",
                            "<tr><td>kati</td><td>GLS</td><td>4</td></tr>",
                            "<tr><td>kati</td><td>Posta</td><td>5</td></tr>",
                            "<tr><td>kati</td><td>Személyes átvétel</td><td>4</td></tr>",
                            "<tr><td>kati</td><td>NULL</td><td>13</td></tr>",
                            "<tr><td>katka</td><td>GLS</td><td>6</td></tr>",
                            "<tr><td>katka</td><td>Posta</td><td>6</td></tr>",
                            "<tr><td>katka</td><td>Személyes átvétel</td><td>10</td></tr>",
                            "<tr><td>katka</td><td>NULL</td><td>22</td></tr>",
                            "<tr><td>klaudia2</td><td>GLS</td><td>3</td></tr>",
                            "<tr><td>klaudia2</td><td>Posta</td><td>9</td></tr>",
                            "<tr><td>klaudia2</td><td>Személyes átvétel</td><td>5</td></tr>",
                            "<tr><td>klaudia2</td><td>NULL</td><td>17</td></tr>",
                            "<tr><td>kornel4</td><td>GLS</td><td>3</td></tr>",
                            "<tr><td>kornel4</td><td>Posta</td><td>1</td></tr>",
                            "<tr><td>kornel4</td><td>Személyes átvétel</td><td>7</td></tr>",
                            "<tr><td>kornel4</td><td>NULL</td><td>11</td></tr>",
                            "<tr><td>kristof4</td><td>GLS</td><td>9</td></tr>",
                            "<tr><td>kristof4</td><td>Posta</td><td>4</td></tr>",
                            "<tr><td>kristof4</td><td>Személyes átvétel</td><td>8</td></tr>",
                            "<tr><td>kristof4</td><td>NULL</td><td>21</td></tr>",
                            "<tr><td>kriszti</td><td>GLS</td><td>3</td></tr>",
                            "<tr><td>kriszti</td><td>Posta</td><td>5</td></tr>",
                            "<tr><td>kriszti</td><td>Személyes átvétel</td><td>5</td></tr>",
                            "<tr><td>kriszti</td><td>NULL</td><td>13</td></tr>",
                            "<tr><td>krisztian4</td><td>GLS</td><td>5</td></tr>",
                            "<tr><td>krisztian4</td><td>Posta</td><td>6</td></tr>",
                            "<tr><td>krisztian4</td><td>Személyes átvétel</td><td>6</td></tr>",
                            "<tr><td>krisztian4</td><td>NULL</td><td>17</td></tr>",
                            "<tr><td>KRISZTIANM</td><td>GLS</td><td>118</td></tr>",
                            "<tr><td>KRISZTIANM</td><td>Posta</td><td>136</td></tr>",
                            "<tr><td>KRISZTIANM</td><td>Személyes átvétel</td><td>130</td></tr>",
                            "<tr><td>KRISZTIANM</td><td>NULL</td><td>384</td></tr>",
                            "<tr><td>krisztina</td><td>GLS</td><td>149</td></tr>",
                            "<tr><td>krisztina</td><td>Posta</td><td>150</td></tr>",
                            "<tr><td>krisztina</td><td>Személyes átvétel</td><td>157</td></tr>",
                            "<tr><td>krisztina</td><td>NULL</td><td>456</td></tr>",
                            "<tr><td>krisztina1</td><td>GLS</td><td>10</td></tr>",
                            "<tr><td>krisztina1</td><td>Posta</td><td>4</td></tr>",
                            "<tr><td>krisztina1</td><td>Személyes átvétel</td><td>8</td></tr>",
                            "<tr><td>krisztina1</td><td>NULL</td><td>22</td></tr>",
                            "<tr><td>KRISZTINAG</td><td>GLS</td><td>6</td></tr>",
                            "<tr><td>KRISZTINAG</td><td>Posta</td><td>6</td></tr>",
                            "<tr><td>KRISZTINAG</td><td>Személyes átvétel</td><td>10</td></tr>",
                            "<tr><td>KRISZTINAG</td><td>NULL</td><td>22</td></tr>",
                            "<tr><td>lajos</td><td>GLS</td><td>5</td></tr>",
                            "<tr><td>lajos</td><td>Posta</td><td>2</td></tr>",
                            "<tr><td>lajos</td><td>Személyes átvétel</td><td>9</td></tr>",
                            "<tr><td>lajos</td><td>NULL</td><td>16</td></tr>",
                            "<tr><td>lala</td><td>GLS</td><td>5</td></tr>",
                            "<tr><td>lala</td><td>Posta</td><td>3</td></tr>",
                            "<tr><td>lala</td><td>Személyes átvétel</td><td>9</td></tr>",
                            "<tr><td>lala</td><td>NULL</td><td>17</td></tr>",
                            "<tr><td>laszlo1</td><td>GLS</td><td>130</td></tr>",
                            "<tr><td>laszlo1</td><td>Posta</td><td>129</td></tr>",
                            "<tr><td>laszlo1</td><td>Személyes átvétel</td><td>135</td></tr>",
                            "<tr><td>laszlo1</td><td>NULL</td><td>394</td></tr>",
                            "<tr><td>laszlo2</td><td>GLS</td><td>12</td></tr>",
                            "<tr><td>laszlo2</td><td>Posta</td><td>6</td></tr>",
                            "<tr><td>laszlo2</td><td>Személyes átvétel</td><td>7</td></tr>",
                            "<tr><td>laszlo2</td><td>NULL</td><td>25</td></tr>",
                            "<tr><td>LASZLOA</td><td>GLS</td><td>156</td></tr>",
                            "<tr><td>LASZLOA</td><td>Posta</td><td>136</td></tr>",
                            "<tr><td>LASZLOA</td><td>Személyes átvétel</td><td>154</td></tr>",
                            "<tr><td>LASZLOA</td><td>NULL</td><td>446</td></tr>",
                            "<tr><td>LASZLON</td><td>GLS</td><td>126</td></tr>",
                            "<tr><td>LASZLON</td><td>Posta</td><td>131</td></tr>",
                            "<tr><td>LASZLON</td><td>Személyes átvétel</td><td>143</td></tr>",
                            "<tr><td>LASZLON</td><td>NULL</td><td>400</td></tr>",
                            "<tr><td>maria1</td><td>GLS</td><td>4</td></tr>",
                            "<tr><td>maria1</td><td>Posta</td><td>5</td></tr>",
                            "<tr><td>maria1</td><td>Személyes átvétel</td><td>1</td></tr>",
                            "<tr><td>maria1</td><td>NULL</td><td>10</td></tr>",
                            "<tr><td>MARKH</td><td>GLS</td><td>128</td></tr>",
                            "<tr><td>MARKH</td><td>Posta</td><td>142</td></tr>",
                            "<tr><td>MARKH</td><td>Személyes átvétel</td><td>142</td></tr>",
                            "<tr><td>MARKH</td><td>NULL</td><td>412</td></tr>",
                            "<tr><td>marton</td><td>GLS</td><td>5</td></tr>",
                            "<tr><td>marton</td><td>Posta</td><td>4</td></tr>",
                            "<tr><td>marton</td><td>Személyes átvétel</td><td>5</td></tr>",
                            "<tr><td>marton</td><td>NULL</td><td>14</td></tr>",
                            "<tr><td>MATEK</td><td>GLS</td><td>6</td></tr>",
                            "<tr><td>MATEK</td><td>Posta</td><td>10</td></tr>",
                            "<tr><td>MATEK</td><td>Személyes átvétel</td><td>9</td></tr>",
                            "<tr><td>MATEK</td><td>NULL</td><td>25</td></tr>",
                            "<tr><td>matyas2</td><td>GLS</td><td>138</td></tr>",
                            "<tr><td>matyas2</td><td>Posta</td><td>131</td></tr>",
                            "<tr><td>matyas2</td><td>Személyes átvétel</td><td>164</td></tr>",
                            "<tr><td>matyas2</td><td>NULL</td><td>433</td></tr>",
                            "<tr><td>MATYASS</td><td>GLS</td><td>4</td></tr>",
                            "<tr><td>MATYASS</td><td>Posta</td><td>5</td></tr>",
                            "<tr><td>MATYASS</td><td>Személyes átvétel</td><td>3</td></tr>",
                            "<tr><td>MATYASS</td><td>NULL</td><td>12</td></tr>",
                            "<tr><td>MIHALYJ</td><td>GLS</td><td>3</td></tr>",
                            "<tr><td>MIHALYJ</td><td>Posta</td><td>4</td></tr>",
                            "<tr><td>MIHALYJ</td><td>Személyes átvétel</td><td>6</td></tr>",
                            "<tr><td>MIHALYJ</td><td>NULL</td><td>13</td></tr>",
                            "<tr><td>miklos2</td><td>GLS</td><td>7</td></tr>",
                            "<tr><td>miklos2</td><td>Posta</td><td>4</td></tr>",
                            "<tr><td>miklos2</td><td>Személyes átvétel</td><td>2</td></tr>",
                            "<tr><td>miklos2</td><td>NULL</td><td>13</td></tr>",
                            "<tr><td>MIKLOSB</td><td>GLS</td><td>6</td></tr>",
                            "<tr><td>MIKLOSB</td><td>Posta</td><td>1</td></tr>",
                            "<tr><td>MIKLOSB</td><td>Személyes átvétel</td><td>8</td></tr>",
                            "<tr><td>MIKLOSB</td><td>NULL</td><td>15</td></tr>",
                            "<tr><td>MONIKAM</td><td>GLS</td><td>133</td></tr>",
                            "<tr><td>MONIKAM</td><td>Posta</td><td>151</td></tr>",
                            "<tr><td>MONIKAM</td><td>Személyes átvétel</td><td>123</td></tr>",
                            "<tr><td>MONIKAM</td><td>NULL</td><td>407</td></tr>",
                            "<tr><td>NANDORF</td><td>GLS</td><td>147</td></tr>",
                            "<tr><td>NANDORF</td><td>Posta</td><td>139</td></tr>",
                            "<tr><td>NANDORF</td><td>Személyes átvétel</td><td>134</td></tr>",
                            "<tr><td>NANDORF</td><td>NULL</td><td>420</td></tr>",
                            "<tr><td>nikolett3</td><td>GLS</td><td>4</td></tr>",
                            "<tr><td>nikolett3</td><td>Posta</td><td>3</td></tr>",
                            "<tr><td>nikolett3</td><td>Személyes átvétel</td><td>10</td></tr>",
                            "<tr><td>nikolett3</td><td>NULL</td><td>17</td></tr>",
                            "<tr><td>nikoletta4</td><td>GLS</td><td>137</td></tr>",
                            "<tr><td>nikoletta4</td><td>Posta</td><td>158</td></tr>",
                            "<tr><td>nikoletta4</td><td>Személyes átvétel</td><td>119</td></tr>",
                            "<tr><td>nikoletta4</td><td>NULL</td><td>414</td></tr>",
                            "<tr><td>NIKOLETTAT</td><td>GLS</td><td>13</td></tr>",
                            "<tr><td>NIKOLETTAT</td><td>Posta</td><td>7</td></tr>",
                            "<tr><td>NIKOLETTAT</td><td>Személyes átvétel</td><td>5</td></tr>",
                            "<tr><td>NIKOLETTAT</td><td>NULL</td><td>25</td></tr>",
                            "<tr><td>norbert2</td><td>GLS</td><td>7</td></tr>",
                            "<tr><td>norbert2</td><td>Posta</td><td>4</td></tr>",
                            "<tr><td>norbert2</td><td>NULL</td><td>11</td></tr>",
                            "<tr><td>norbert4</td><td>GLS</td><td>1</td></tr>",
                            "<tr><td>norbert4</td><td>Posta</td><td>3</td></tr>",
                            "<tr><td>norbert4</td><td>Személyes átvétel</td><td>9</td></tr>",
                            "<tr><td>norbert4</td><td>NULL</td><td>13</td></tr>",
                            "<tr><td>norbert5</td><td>GLS</td><td>1</td></tr>",
                            "<tr><td>norbert5</td><td>Posta</td><td>6</td></tr>",
                            "<tr><td>norbert5</td><td>Személyes átvétel</td><td>9</td></tr>",
                            "<tr><td>norbert5</td><td>NULL</td><td>16</td></tr>",
                            "<tr><td>pal</td><td>GLS</td><td>152</td></tr>",
                            "<tr><td>pal</td><td>Posta</td><td>132</td></tr>",
                            "<tr><td>pal</td><td>Személyes átvétel</td><td>154</td></tr>",
                            "<tr><td>pal</td><td>NULL</td><td>438</td></tr>",
                            "<tr><td>peter1</td><td>GLS</td><td>151</td></tr>",
                            "<tr><td>peter1</td><td>Posta</td><td>135</td></tr>",
                            "<tr><td>peter1</td><td>Személyes átvétel</td><td>126</td></tr>",
                            "<tr><td>peter1</td><td>NULL</td><td>412</td></tr>",
                            "<tr><td>peter2</td><td>GLS</td><td>7</td></tr>",
                            "<tr><td>peter2</td><td>Posta</td><td>4</td></tr>",
                            "<tr><td>peter2</td><td>Személyes átvétel</td><td>7</td></tr>",
                            "<tr><td>peter2</td><td>NULL</td><td>18</td></tr>",
                            "<tr><td>peter3</td><td>GLS</td><td>8</td></tr>",
                            "<tr><td>peter3</td><td>Posta</td><td>7</td></tr>",
                            "<tr><td>peter3</td><td>Személyes átvétel</td><td>10</td></tr>",
                            "<tr><td>peter3</td><td>NULL</td><td>25</td></tr>",
                            "<tr><td>peter4</td><td>GLS</td><td>266</td></tr>",
                            "<tr><td>peter4</td><td>Posta</td><td>293</td></tr>",
                            "<tr><td>peter4</td><td>Személyes átvétel</td><td>293</td></tr>",
                            "<tr><td>peter4</td><td>NULL</td><td>852</td></tr>",
                            "<tr><td>PETERB</td><td>GLS</td><td>2</td></tr>",
                            "<tr><td>PETERB</td><td>Posta</td><td>4</td></tr>",
                            "<tr><td>PETERB</td><td>Személyes átvétel</td><td>9</td></tr>",
                            "<tr><td>PETERB</td><td>NULL</td><td>15</td></tr>",
                            "<tr><td>polla</td><td>GLS</td><td>9</td></tr>",
                            "<tr><td>polla</td><td>Posta</td><td>6</td></tr>",
                            "<tr><td>polla</td><td>Személyes átvétel</td><td>7</td></tr>",
                            "<tr><td>polla</td><td>NULL</td><td>22</td></tr>",
                            "<tr><td>rajmond4</td><td>GLS</td><td>6</td></tr>",
                            "<tr><td>rajmond4</td><td>Posta</td><td>5</td></tr>",
                            "<tr><td>rajmond4</td><td>Személyes átvétel</td><td>6</td></tr>",
                            "<tr><td>rajmond4</td><td>NULL</td><td>17</td></tr>",
                            "<tr><td>reka4</td><td>GLS</td><td>5</td></tr>",
                            "<tr><td>reka4</td><td>Posta</td><td>4</td></tr>",
                            "<tr><td>reka4</td><td>Személyes átvétel</td><td>11</td></tr>",
                            "<tr><td>reka4</td><td>NULL</td><td>20</td></tr>",
                            "<tr><td>RENATAK</td><td>GLS</td><td>135</td></tr>",
                            "<tr><td>RENATAK</td><td>Posta</td><td>140</td></tr>",
                            "<tr><td>RENATAK</td><td>Személyes átvétel</td><td>147</td></tr>",
                            "<tr><td>RENATAK</td><td>NULL</td><td>422</td></tr>",
                            "<tr><td>RENATAS</td><td>GLS</td><td>6</td></tr>",
                            "<tr><td>RENATAS</td><td>Posta</td><td>5</td></tr>",
                            "<tr><td>RENATAS</td><td>Személyes átvétel</td><td>5</td></tr>",
                            "<tr><td>RENATAS</td><td>NULL</td><td>16</td></tr>",
                            "<tr><td>robert2</td><td>GLS</td><td>5</td></tr>",
                            "<tr><td>robert2</td><td>Posta</td><td>1</td></tr>",
                            "<tr><td>robert2</td><td>Személyes átvétel</td><td>7</td></tr>",
                            "<tr><td>robert2</td><td>NULL</td><td>13</td></tr>",
                            "<tr><td>ROBERTI</td><td>GLS</td><td>5</td></tr>",
                            "<tr><td>ROBERTI</td><td>Posta</td><td>3</td></tr>",
                            "<tr><td>ROBERTI</td><td>Személyes átvétel</td><td>5</td></tr>",
                            "<tr><td>ROBERTI</td><td>NULL</td><td>13</td></tr>",
                            "<tr><td>ROBERTP</td><td>GLS</td><td>8</td></tr>",
                            "<tr><td>ROBERTP</td><td>Posta</td><td>8</td></tr>",
                            "<tr><td>ROBERTP</td><td>Személyes átvétel</td><td>10</td></tr>",
                            "<tr><td>ROBERTP</td><td>NULL</td><td>26</td></tr>",
                            "<tr><td>roland</td><td>GLS</td><td>132</td></tr>",
                            "<tr><td>roland</td><td>Posta</td><td>157</td></tr>",
                            "<tr><td>roland</td><td>Személyes átvétel</td><td>125</td></tr>",
                            "<tr><td>roland</td><td>NULL</td><td>414</td></tr>",
                            "<tr><td>roland1</td><td>GLS</td><td>142</td></tr>",
                            "<tr><td>roland1</td><td>Posta</td><td>155</td></tr>",
                            "<tr><td>roland1</td><td>Személyes átvétel</td><td>135</td></tr>",
                            "<tr><td>roland1</td><td>NULL</td><td>432</td></tr>",
                            "<tr><td>roza2</td><td>GLS</td><td>3</td></tr>",
                            "<tr><td>roza2</td><td>Posta</td><td>2</td></tr>",
                            "<tr><td>roza2</td><td>Személyes átvétel</td><td>3</td></tr>",
                            "<tr><td>roza2</td><td>NULL</td><td>8</td></tr>",
                            "<tr><td>sandor</td><td>GLS</td><td>4</td></tr>",
                            "<tr><td>sandor</td><td>Posta</td><td>6</td></tr>",
                            "<tr><td>sandor</td><td>Személyes átvétel</td><td>7</td></tr>",
                            "<tr><td>sandor</td><td>NULL</td><td>17</td></tr>",
                            "<tr><td>sandor3</td><td>GLS</td><td>4</td></tr>",
                            "<tr><td>sandor3</td><td>Posta</td><td>4</td></tr>",
                            "<tr><td>sandor3</td><td>Személyes átvétel</td><td>6</td></tr>",
                            "<tr><td>sandor3</td><td>NULL</td><td>14</td></tr>",
                            "<tr><td>sandor4</td><td>GLS</td><td>4</td></tr>",
                            "<tr><td>sandor4</td><td>Posta</td><td>2</td></tr>",
                            "<tr><td>sandor4</td><td>Személyes átvétel</td><td>5</td></tr>",
                            "<tr><td>sandor4</td><td>NULL</td><td>11</td></tr>",
                            "<tr><td>sara</td><td>GLS</td><td>4</td></tr>",
                            "<tr><td>sara</td><td>Posta</td><td>7</td></tr>",
                            "<tr><td>sara</td><td>Személyes átvétel</td><td>9</td></tr>",
                            "<tr><td>sara</td><td>NULL</td><td>20</td></tr>",
                            "<tr><td>SEBASTIANF</td><td>GLS</td><td>6</td></tr>",
                            "<tr><td>SEBASTIANF</td><td>Posta</td><td>3</td></tr>",
                            "<tr><td>SEBASTIANF</td><td>Személyes átvétel</td><td>6</td></tr>",
                            "<tr><td>SEBASTIANF</td><td>NULL</td><td>15</td></tr>",
                            "<tr><td>sebestyen</td><td>GLS</td><td>4</td></tr>",
                            "<tr><td>sebestyen</td><td>Posta</td><td>6</td></tr>",
                            "<tr><td>sebestyen</td><td>Személyes átvétel</td><td>6</td></tr>",
                            "<tr><td>sebestyen</td><td>NULL</td><td>16</td></tr>",
                            "<tr><td>szabolcs</td><td>GLS</td><td>145</td></tr>",
                            "<tr><td>szabolcs</td><td>Posta</td><td>157</td></tr>",
                            "<tr><td>szabolcs</td><td>Személyes átvétel</td><td>169</td></tr>",
                            "<tr><td>szabolcs</td><td>NULL</td><td>471</td></tr>",
                            "<tr><td>SZABOLCSM</td><td>GLS</td><td>126</td></tr>",
                            "<tr><td>SZABOLCSM</td><td>Posta</td><td>153</td></tr>",
                            "<tr><td>SZABOLCSM</td><td>Személyes átvétel</td><td>129</td></tr>",
                            "<tr><td>SZABOLCSM</td><td>NULL</td><td>408</td></tr>",
                            "<tr><td>SZILARDS</td><td>GLS</td><td>144</td></tr>",
                            "<tr><td>SZILARDS</td><td>Posta</td><td>131</td></tr>",
                            "<tr><td>SZILARDS</td><td>Személyes átvétel</td><td>111</td></tr>",
                            "<tr><td>SZILARDS</td><td>NULL</td><td>386</td></tr>",
                            "<tr><td>szilvia1</td><td>GLS</td><td>156</td></tr>",
                            "<tr><td>szilvia1</td><td>Posta</td><td>151</td></tr>",
                            "<tr><td>szilvia1</td><td>Személyes átvétel</td><td>138</td></tr>",
                            "<tr><td>szilvia1</td><td>NULL</td><td>445</td></tr>",
                            "<tr><td>tamara2</td><td>GLS</td><td>6</td></tr>",
                            "<tr><td>tamara2</td><td>Posta</td><td>4</td></tr>",
                            "<tr><td>tamara2</td><td>Személyes átvétel</td><td>3</td></tr>",
                            "<tr><td>tamara2</td><td>NULL</td><td>13</td></tr>",
                            "<tr><td>tamas</td><td>GLS</td><td>143</td></tr>",
                            "<tr><td>tamas</td><td>Posta</td><td>156</td></tr>",
                            "<tr><td>tamas</td><td>Személyes átvétel</td><td>122</td></tr>",
                            "<tr><td>tamas</td><td>NULL</td><td>421</td></tr>",
                            "<tr><td>TAMASF</td><td>GLS</td><td>159</td></tr>",
                            "<tr><td>TAMASF</td><td>Posta</td><td>145</td></tr>",
                            "<tr><td>TAMASF</td><td>Személyes átvétel</td><td>129</td></tr>",
                            "<tr><td>TAMASF</td><td>NULL</td><td>433</td></tr>",
                            "<tr><td>tibor</td><td>GLS</td><td>115</td></tr>",
                            "<tr><td>tibor</td><td>Posta</td><td>129</td></tr>",
                            "<tr><td>tibor</td><td>Személyes átvétel</td><td>130</td></tr>",
                            "<tr><td>tibor</td><td>NULL</td><td>374</td></tr>",
                            "<tr><td>tibor2</td><td>GLS</td><td>7</td></tr>",
                            "<tr><td>tibor2</td><td>Posta</td><td>7</td></tr>",
                            "<tr><td>tibor2</td><td>Személyes átvétel</td><td>11</td></tr>",
                            "<tr><td>tibor2</td><td>NULL</td><td>25</td></tr>",
                            "<tr><td>tihamer</td><td>GLS</td><td>9</td></tr>",
                            "<tr><td>tihamer</td><td>Posta</td><td>6</td></tr>",
                            "<tr><td>tihamer</td><td>Személyes átvétel</td><td>5</td></tr>",
                            "<tr><td>tihamer</td><td>NULL</td><td>20</td></tr>",
                            "<tr><td>timea</td><td>GLS</td><td>14</td></tr>",
                            "<tr><td>timea</td><td>Posta</td><td>23</td></tr>",
                            "<tr><td>timea</td><td>Személyes átvétel</td><td>18</td></tr>",
                            "<tr><td>timea</td><td>NULL</td><td>55</td></tr>",
                            "<tr><td>timea2</td><td>GLS</td><td>1</td></tr>",
                            "<tr><td>timea2</td><td>Posta</td><td>5</td></tr>",
                            "<tr><td>timea2</td><td>Személyes átvétel</td><td>10</td></tr>",
                            "<tr><td>timea2</td><td>NULL</td><td>16</td></tr>",
                            "<tr><td>tunde</td><td>GLS</td><td>6</td></tr>",
                            "<tr><td>tunde</td><td>Posta</td><td>6</td></tr>",
                            "<tr><td>tunde</td><td>Személyes átvétel</td><td>4</td></tr>",
                            "<tr><td>tunde</td><td>NULL</td><td>16</td></tr>",
                            "<tr><td>valentin</td><td>GLS</td><td>5</td></tr>",
                            "<tr><td>valentin</td><td>Posta</td><td>5</td></tr>",
                            "<tr><td>valentin</td><td>Személyes átvétel</td><td>3</td></tr>",
                            "<tr><td>valentin</td><td>NULL</td><td>13</td></tr>",
                            "<tr><td>veronika4</td><td>GLS</td><td>5</td></tr>",
                            "<tr><td>veronika4</td><td>Posta</td><td>6</td></tr>",
                            "<tr><td>veronika4</td><td>Személyes átvétel</td><td>7</td></tr>",
                            "<tr><td>veronika4</td><td>NULL</td><td>18</td></tr>",
                            "<tr><td>VIKTORIAU</td><td>GLS</td><td>5</td></tr>",
                            "<tr><td>VIKTORIAU</td><td>Posta</td><td>4</td></tr>",
                            "<tr><td>VIKTORIAU</td><td>Személyes átvétel</td><td>5</td></tr>",
                            "<tr><td>VIKTORIAU</td><td>NULL</td><td>14</td></tr>",
                            "<tr><td>VIKTORK</td><td>GLS</td><td>8</td></tr>",
                            "<tr><td>VIKTORK</td><td>Posta</td><td>6</td></tr>",
                            "<tr><td>VIKTORK</td><td>Személyes átvétel</td><td>6</td></tr>",
                            "<tr><td>VIKTORK</td><td>NULL</td><td>20</td></tr>",
                            "<tr><td>vivien3</td><td>GLS</td><td>9</td></tr>",
                            "<tr><td>vivien3</td><td>Posta</td><td>6</td></tr>",
                            "<tr><td>vivien3</td><td>Személyes átvétel</td><td>7</td></tr>",
                            "<tr><td>vivien3</td><td>NULL</td><td>22</td></tr>",
                            "<tr><td>zoltan</td><td>GLS</td><td>5</td></tr>",
                            "<tr><td>zoltan</td><td>Posta</td><td>3</td></tr>",
                            "<tr><td>zoltan</td><td>Személyes átvétel</td><td>7</td></tr>",
                            "<tr><td>zoltan</td><td>NULL</td><td>15</td></tr>",
                            "<tr><td>zoltan4</td><td>GLS</td><td>129</td></tr>",
                            "<tr><td>zoltan4</td><td>Posta</td><td>124</td></tr>",
                            "<tr><td>zoltan4</td><td>Személyes átvétel</td><td>171</td></tr>",
                            "<tr><td>zoltan4</td><td>NULL</td><td>424</td></tr>",
                            "<tr><td>ZOLTANP</td><td>GLS</td><td>6</td></tr>",
                            "<tr><td>ZOLTANP</td><td>Posta</td><td>3</td></tr>",
                            "<tr><td>ZOLTANP</td><td>Személyes átvétel</td><td>4</td></tr>",
                            "<tr><td>ZOLTANP</td><td>NULL</td><td>13</td></tr>",
                            "<tr><td>ZOLTANT</td><td>GLS</td><td>127</td></tr>",
                            "<tr><td>ZOLTANT</td><td>Posta</td><td>107</td></tr>",
                            "<tr><td>ZOLTANT</td><td>Személyes átvétel</td><td>123</td></tr>",
                            "<tr><td>ZOLTANT</td><td>NULL</td><td>357</td></tr>",
                            "<tr><td>zsofi1</td><td>GLS</td><td>7</td></tr>",
                            "<tr><td>zsofi1</td><td>Posta</td><td>6</td></tr>",
                            "<tr><td>zsofi1</td><td>Személyes átvétel</td><td>6</td></tr>",
                            "<tr><td>zsofi1</td><td>NULL</td><td>19</td></tr>",
                            "<tr><td>zsolt1</td><td>GLS</td><td>11</td></tr>",
                            "<tr><td>zsolt1</td><td>Posta</td><td>6</td></tr>",
                            "<tr><td>zsolt1</td><td>Személyes átvétel</td><td>3</td></tr>",
                            "<tr><td>zsolt1</td><td>NULL</td><td>20</td></tr>",
                            "<tr><td>ZSOLTJ</td><td>GLS</td><td>1</td></tr>",
                            "<tr><td>ZSOLTJ</td><td>Posta</td><td>8</td></tr>",
                            "<tr><td>ZSOLTJ</td><td>Személyes átvétel</td><td>9</td></tr>",
                            "<tr><td>ZSOLTJ</td><td>NULL</td><td>18</td></tr>",
                            "<tr><td>zsuzsa</td><td>GLS</td><td>8</td></tr>",
                            "<tr><td>zsuzsa</td><td>Posta</td><td>5</td></tr>",
                            "<tr><td>zsuzsa</td><td>Személyes átvétel</td><td>3</td></tr>",
                            "<tr><td>zsuzsa</td><td>NULL</td><td>16</td></tr>",
                            "<tr><td>zsuzsa3</td><td>GLS</td><td>5</td></tr>",
                            "<tr><td>zsuzsa3</td><td>Posta</td><td>5</td></tr>",
                            "<tr><td>zsuzsa3</td><td>Személyes átvétel</td><td>6</td></tr>",
                            "<tr><td>zsuzsa3</td><td>NULL</td><td>16</td></tr>",
                            "<tr><td>zsuzsanna</td><td>GLS</td><td>7</td></tr>",
                            "<tr><td>zsuzsanna</td><td>Posta</td><td>5</td></tr>",
                            "<tr><td>zsuzsanna</td><td>Személyes átvétel</td><td>3</td></tr>",
                            "<tr><td>zsuzsanna</td><td>NULL</td><td>15</td></tr>",
                            "<tr><td>ZSUZSAV</td><td>GLS</td><td>139</td></tr>",
                            "<tr><td>ZSUZSAV</td><td>Posta</td><td>139</td></tr>",
                            "<tr><td>ZSUZSAV</td><td>Személyes átvétel</td><td>142</td></tr>",
                            "<tr><td>ZSUZSAV</td><td>NULL</td><td>420</td></tr>",
                            "<tr><td>NULL</td><td>NULL</td><td>28085</td></tr>",
                            "</table>"
                        ]
                    }
                }
            ],
            "execution_count": 9
        },
        {
            "cell_type": "markdown",
            "source": [
                "2. <span style=\"background-color: rgb(255, 255, 255); color: rgb(0, 0, 0); font-family: &quot;Open Sans&quot;, sans-serif; font-size: 14.44px;\">Készítsünk listát a termékek számáról a következő csoportosítási szempontok szerint:<br>kategória azonosító, raktárkód, raktárkód+mennyiségi egység!</span>\n",
                "\n",
                "a. A listát szűrjük azokra a csoportokra, ahol a termékek száma legalább 6!"
            ],
            "metadata": {
                "azdata_cell_guid": "ea75c103-911f-41a3-a32c-3d40fb3e4e4a"
            },
            "attachments": {}
        },
        {
            "cell_type": "code",
            "source": [
                "select  iif(GROUPING_ID(kat_id)=0, cast(kat_id as nvarchar(10)), 'Összesen') as 'Kategóriaazon',\r\n",
                "        iif(GROUPING_ID(RAKTAR_KOD)=0, cast(RAKTAR_KOD as nvarchar(10)), 'Összesen') as 'Raktárkód',\r\n",
                "        iif(GROUPING_ID(cast(RAKTAR_KOD as nvarchar(10))+' '+MEGYS) = 0, cast(RAKTAR_KOD as nvarchar(10))+' '+MEGYS, 'Összesen' ) as 'Raktárkód + m.e.',\r\n",
                "        sum(keszlet) as 'Darabszám'\r\n",
                "from termek\r\n",
                "group by rollup(kat_id, RAKTAR_KOD, cast(RAKTAR_KOD as nvarchar(10))+' '+MEGYS)"
            ],
            "metadata": {
                "azdata_cell_guid": "222b9618-a8e8-42b4-a8e8-d002257122b7",
                "language": "sql"
            },
            "outputs": [
                {
                    "output_type": "display_data",
                    "data": {
                        "text/html": "(801 rows affected)"
                    },
                    "metadata": {}
                },
                {
                    "output_type": "display_data",
                    "data": {
                        "text/html": "Total execution time: 00:00:00.023"
                    },
                    "metadata": {}
                },
                {
                    "output_type": "execute_result",
                    "metadata": {},
                    "execution_count": 58,
                    "data": {
                        "application/vnd.dataresource+json": {
                            "schema": {
                                "fields": [
                                    {
                                        "name": "Kategóriaazon"
                                    },
                                    {
                                        "name": "Raktárkód"
                                    },
                                    {
                                        "name": "Raktárkód + m.e."
                                    },
                                    {
                                        "name": "Darabszám"
                                    }
                                ]
                            },
                            "data": [
                                {
                                    "Kategóriaazon": "4",
                                    "Raktárkód": "5",
                                    "Raktárkód + m.e.": "5 db",
                                    "Darabszám": "300"
                                },
                                {
                                    "Kategóriaazon": "4",
                                    "Raktárkód": "5",
                                    "Raktárkód + m.e.": "Összesen",
                                    "Darabszám": "300"
                                },
                                {
                                    "Kategóriaazon": "4",
                                    "Raktárkód": "6",
                                    "Raktárkód + m.e.": "6 db",
                                    "Darabszám": "800"
                                },
                                {
                                    "Kategóriaazon": "4",
                                    "Raktárkód": "6",
                                    "Raktárkód + m.e.": "Összesen",
                                    "Darabszám": "800"
                                },
                                {
                                    "Kategóriaazon": "4",
                                    "Raktárkód": "7",
                                    "Raktárkód + m.e.": "7 db",
                                    "Darabszám": "200"
                                },
                                {
                                    "Kategóriaazon": "4",
                                    "Raktárkód": "7",
                                    "Raktárkód + m.e.": "Összesen",
                                    "Darabszám": "200"
                                },
                                {
                                    "Kategóriaazon": "4",
                                    "Raktárkód": "8",
                                    "Raktárkód + m.e.": "8 db",
                                    "Darabszám": "11000"
                                },
                                {
                                    "Kategóriaazon": "4",
                                    "Raktárkód": "8",
                                    "Raktárkód + m.e.": "Összesen",
                                    "Darabszám": "11000"
                                },
                                {
                                    "Kategóriaazon": "4",
                                    "Raktárkód": "9",
                                    "Raktárkód + m.e.": "9 db",
                                    "Darabszám": "200"
                                },
                                {
                                    "Kategóriaazon": "4",
                                    "Raktárkód": "9",
                                    "Raktárkód + m.e.": "Összesen",
                                    "Darabszám": "200"
                                },
                                {
                                    "Kategóriaazon": "4",
                                    "Raktárkód": "Összesen",
                                    "Raktárkód + m.e.": "Összesen",
                                    "Darabszám": "12500"
                                },
                                {
                                    "Kategóriaazon": "5",
                                    "Raktárkód": "5",
                                    "Raktárkód + m.e.": "5 db",
                                    "Darabszám": "3500"
                                },
                                {
                                    "Kategóriaazon": "5",
                                    "Raktárkód": "5",
                                    "Raktárkód + m.e.": "Összesen",
                                    "Darabszám": "3500"
                                },
                                {
                                    "Kategóriaazon": "5",
                                    "Raktárkód": "9",
                                    "Raktárkód + m.e.": "9 db",
                                    "Darabszám": "1000"
                                },
                                {
                                    "Kategóriaazon": "5",
                                    "Raktárkód": "9",
                                    "Raktárkód + m.e.": "Összesen",
                                    "Darabszám": "1000"
                                },
                                {
                                    "Kategóriaazon": "5",
                                    "Raktárkód": "Összesen",
                                    "Raktárkód + m.e.": "Összesen",
                                    "Darabszám": "4500"
                                },
                                {
                                    "Kategóriaazon": "6",
                                    "Raktárkód": "6",
                                    "Raktárkód + m.e.": "6 db",
                                    "Darabszám": "53500"
                                },
                                {
                                    "Kategóriaazon": "6",
                                    "Raktárkód": "6",
                                    "Raktárkód + m.e.": "Összesen",
                                    "Darabszám": "53500"
                                },
                                {
                                    "Kategóriaazon": "6",
                                    "Raktárkód": "7",
                                    "Raktárkód + m.e.": "7 db",
                                    "Darabszám": "9700"
                                },
                                {
                                    "Kategóriaazon": "6",
                                    "Raktárkód": "7",
                                    "Raktárkód + m.e.": "7 tekercs",
                                    "Darabszám": "8000"
                                },
                                {
                                    "Kategóriaazon": "6",
                                    "Raktárkód": "7",
                                    "Raktárkód + m.e.": "Összesen",
                                    "Darabszám": "17700"
                                },
                                {
                                    "Kategóriaazon": "6",
                                    "Raktárkód": "8",
                                    "Raktárkód + m.e.": "8 db",
                                    "Darabszám": "8600"
                                },
                                {
                                    "Kategóriaazon": "6",
                                    "Raktárkód": "8",
                                    "Raktárkód + m.e.": "Összesen",
                                    "Darabszám": "8600"
                                },
                                {
                                    "Kategóriaazon": "6",
                                    "Raktárkód": "9",
                                    "Raktárkód + m.e.": "9 db",
                                    "Darabszám": "5200"
                                },
                                {
                                    "Kategóriaazon": "6",
                                    "Raktárkód": "9",
                                    "Raktárkód + m.e.": "Összesen",
                                    "Darabszám": "5200"
                                },
                                {
                                    "Kategóriaazon": "6",
                                    "Raktárkód": "Összesen",
                                    "Raktárkód + m.e.": "Összesen",
                                    "Darabszám": "85000"
                                },
                                {
                                    "Kategóriaazon": "7",
                                    "Raktárkód": "7",
                                    "Raktárkód + m.e.": "7 db",
                                    "Darabszám": "1000"
                                },
                                {
                                    "Kategóriaazon": "7",
                                    "Raktárkód": "7",
                                    "Raktárkód + m.e.": "Összesen",
                                    "Darabszám": "1000"
                                },
                                {
                                    "Kategóriaazon": "7",
                                    "Raktárkód": "8",
                                    "Raktárkód + m.e.": "8 db",
                                    "Darabszám": "1500"
                                },
                                {
                                    "Kategóriaazon": "7",
                                    "Raktárkód": "8",
                                    "Raktárkód + m.e.": "Összesen",
                                    "Darabszám": "1500"
                                },
                                {
                                    "Kategóriaazon": "7",
                                    "Raktárkód": "Összesen",
                                    "Raktárkód + m.e.": "Összesen",
                                    "Darabszám": "2500"
                                },
                                {
                                    "Kategóriaazon": "8",
                                    "Raktárkód": "3",
                                    "Raktárkód + m.e.": "3 db",
                                    "Darabszám": "325"
                                },
                                {
                                    "Kategóriaazon": "8",
                                    "Raktárkód": "3",
                                    "Raktárkód + m.e.": "Összesen",
                                    "Darabszám": "325"
                                },
                                {
                                    "Kategóriaazon": "8",
                                    "Raktárkód": "4",
                                    "Raktárkód + m.e.": "4 db",
                                    "Darabszám": "580"
                                },
                                {
                                    "Kategóriaazon": "8",
                                    "Raktárkód": "4",
                                    "Raktárkód + m.e.": "Összesen",
                                    "Darabszám": "580"
                                },
                                {
                                    "Kategóriaazon": "8",
                                    "Raktárkód": "Összesen",
                                    "Raktárkód + m.e.": "Összesen",
                                    "Darabszám": "905"
                                },
                                {
                                    "Kategóriaazon": "9",
                                    "Raktárkód": "6",
                                    "Raktárkód + m.e.": "6 db",
                                    "Darabszám": "5900"
                                },
                                {
                                    "Kategóriaazon": "9",
                                    "Raktárkód": "6",
                                    "Raktárkód + m.e.": "Összesen",
                                    "Darabszám": "5900"
                                },
                                {
                                    "Kategóriaazon": "9",
                                    "Raktárkód": "9",
                                    "Raktárkód + m.e.": "9 db",
                                    "Darabszám": "100"
                                },
                                {
                                    "Kategóriaazon": "9",
                                    "Raktárkód": "9",
                                    "Raktárkód + m.e.": "Összesen",
                                    "Darabszám": "100"
                                },
                                {
                                    "Kategóriaazon": "9",
                                    "Raktárkód": "Összesen",
                                    "Raktárkód + m.e.": "Összesen",
                                    "Darabszám": "6000"
                                },
                                {
                                    "Kategóriaazon": "10",
                                    "Raktárkód": "9",
                                    "Raktárkód + m.e.": "9 db",
                                    "Darabszám": "100"
                                },
                                {
                                    "Kategóriaazon": "10",
                                    "Raktárkód": "9",
                                    "Raktárkód + m.e.": "Összesen",
                                    "Darabszám": "100"
                                },
                                {
                                    "Kategóriaazon": "10",
                                    "Raktárkód": "Összesen",
                                    "Raktárkód + m.e.": "Összesen",
                                    "Darabszám": "100"
                                },
                                {
                                    "Kategóriaazon": "11",
                                    "Raktárkód": "8",
                                    "Raktárkód + m.e.": "8 db",
                                    "Darabszám": "200"
                                },
                                {
                                    "Kategóriaazon": "11",
                                    "Raktárkód": "8",
                                    "Raktárkód + m.e.": "Összesen",
                                    "Darabszám": "200"
                                },
                                {
                                    "Kategóriaazon": "11",
                                    "Raktárkód": "Összesen",
                                    "Raktárkód + m.e.": "Összesen",
                                    "Darabszám": "200"
                                },
                                {
                                    "Kategóriaazon": "12",
                                    "Raktárkód": "5",
                                    "Raktárkód + m.e.": "5 db",
                                    "Darabszám": "200"
                                },
                                {
                                    "Kategóriaazon": "12",
                                    "Raktárkód": "5",
                                    "Raktárkód + m.e.": "Összesen",
                                    "Darabszám": "200"
                                },
                                {
                                    "Kategóriaazon": "12",
                                    "Raktárkód": "Összesen",
                                    "Raktárkód + m.e.": "Összesen",
                                    "Darabszám": "200"
                                },
                                {
                                    "Kategóriaazon": "13",
                                    "Raktárkód": "5",
                                    "Raktárkód + m.e.": "5 db",
                                    "Darabszám": "100"
                                },
                                {
                                    "Kategóriaazon": "13",
                                    "Raktárkód": "5",
                                    "Raktárkód + m.e.": "Összesen",
                                    "Darabszám": "100"
                                },
                                {
                                    "Kategóriaazon": "13",
                                    "Raktárkód": "8",
                                    "Raktárkód + m.e.": "8 db",
                                    "Darabszám": "200"
                                },
                                {
                                    "Kategóriaazon": "13",
                                    "Raktárkód": "8",
                                    "Raktárkód + m.e.": "Összesen",
                                    "Darabszám": "200"
                                },
                                {
                                    "Kategóriaazon": "13",
                                    "Raktárkód": "Összesen",
                                    "Raktárkód + m.e.": "Összesen",
                                    "Darabszám": "300"
                                },
                                {
                                    "Kategóriaazon": "14",
                                    "Raktárkód": "6",
                                    "Raktárkód + m.e.": "6 db",
                                    "Darabszám": "1000"
                                },
                                {
                                    "Kategóriaazon": "14",
                                    "Raktárkód": "6",
                                    "Raktárkód + m.e.": "Összesen",
                                    "Darabszám": "1000"
                                },
                                {
                                    "Kategóriaazon": "14",
                                    "Raktárkód": "7",
                                    "Raktárkód + m.e.": "7 db",
                                    "Darabszám": "1200"
                                },
                                {
                                    "Kategóriaazon": "14",
                                    "Raktárkód": "7",
                                    "Raktárkód + m.e.": "Összesen",
                                    "Darabszám": "1200"
                                },
                                {
                                    "Kategóriaazon": "14",
                                    "Raktárkód": "8",
                                    "Raktárkód + m.e.": "8 db",
                                    "Darabszám": "100"
                                },
                                {
                                    "Kategóriaazon": "14",
                                    "Raktárkód": "8",
                                    "Raktárkód + m.e.": "Összesen",
                                    "Darabszám": "100"
                                },
                                {
                                    "Kategóriaazon": "14",
                                    "Raktárkód": "Összesen",
                                    "Raktárkód + m.e.": "Összesen",
                                    "Darabszám": "2300"
                                },
                                {
                                    "Kategóriaazon": "15",
                                    "Raktárkód": "9",
                                    "Raktárkód + m.e.": "9 db",
                                    "Darabszám": "700"
                                },
                                {
                                    "Kategóriaazon": "15",
                                    "Raktárkód": "9",
                                    "Raktárkód + m.e.": "Összesen",
                                    "Darabszám": "700"
                                },
                                {
                                    "Kategóriaazon": "15",
                                    "Raktárkód": "Összesen",
                                    "Raktárkód + m.e.": "Összesen",
                                    "Darabszám": "700"
                                },
                                {
                                    "Kategóriaazon": "16",
                                    "Raktárkód": "5",
                                    "Raktárkód + m.e.": "5 db",
                                    "Darabszám": "200"
                                },
                                {
                                    "Kategóriaazon": "16",
                                    "Raktárkód": "5",
                                    "Raktárkód + m.e.": "Összesen",
                                    "Darabszám": "200"
                                },
                                {
                                    "Kategóriaazon": "16",
                                    "Raktárkód": "6",
                                    "Raktárkód + m.e.": "6 db",
                                    "Darabszám": "12100"
                                },
                                {
                                    "Kategóriaazon": "16",
                                    "Raktárkód": "6",
                                    "Raktárkód + m.e.": "Összesen",
                                    "Darabszám": "12100"
                                },
                                {
                                    "Kategóriaazon": "16",
                                    "Raktárkód": "7",
                                    "Raktárkód + m.e.": "7 db",
                                    "Darabszám": "2500"
                                },
                                {
                                    "Kategóriaazon": "16",
                                    "Raktárkód": "7",
                                    "Raktárkód + m.e.": "Összesen",
                                    "Darabszám": "2500"
                                },
                                {
                                    "Kategóriaazon": "16",
                                    "Raktárkód": "8",
                                    "Raktárkód + m.e.": "8 db",
                                    "Darabszám": "100"
                                },
                                {
                                    "Kategóriaazon": "16",
                                    "Raktárkód": "8",
                                    "Raktárkód + m.e.": "Összesen",
                                    "Darabszám": "100"
                                },
                                {
                                    "Kategóriaazon": "16",
                                    "Raktárkód": "9",
                                    "Raktárkód + m.e.": "9 db",
                                    "Darabszám": "2000"
                                },
                                {
                                    "Kategóriaazon": "16",
                                    "Raktárkód": "9",
                                    "Raktárkód + m.e.": "Összesen",
                                    "Darabszám": "2000"
                                },
                                {
                                    "Kategóriaazon": "16",
                                    "Raktárkód": "Összesen",
                                    "Raktárkód + m.e.": "Összesen",
                                    "Darabszám": "16900"
                                },
                                {
                                    "Kategóriaazon": "17",
                                    "Raktárkód": "8",
                                    "Raktárkód + m.e.": "8 db",
                                    "Darabszám": "400"
                                },
                                {
                                    "Kategóriaazon": "17",
                                    "Raktárkód": "8",
                                    "Raktárkód + m.e.": "Összesen",
                                    "Darabszám": "400"
                                },
                                {
                                    "Kategóriaazon": "17",
                                    "Raktárkód": "Összesen",
                                    "Raktárkód + m.e.": "Összesen",
                                    "Darabszám": "400"
                                },
                                {
                                    "Kategóriaazon": "18",
                                    "Raktárkód": "8",
                                    "Raktárkód + m.e.": "8 csomag",
                                    "Darabszám": "200"
                                },
                                {
                                    "Kategóriaazon": "18",
                                    "Raktárkód": "8",
                                    "Raktárkód + m.e.": "8 db",
                                    "Darabszám": "100"
                                },
                                {
                                    "Kategóriaazon": "18",
                                    "Raktárkód": "8",
                                    "Raktárkód + m.e.": "Összesen",
                                    "Darabszám": "300"
                                },
                                {
                                    "Kategóriaazon": "18",
                                    "Raktárkód": "Összesen",
                                    "Raktárkód + m.e.": "Összesen",
                                    "Darabszám": "300"
                                },
                                {
                                    "Kategóriaazon": "19",
                                    "Raktárkód": "5",
                                    "Raktárkód + m.e.": "5 db",
                                    "Darabszám": "700"
                                },
                                {
                                    "Kategóriaazon": "19",
                                    "Raktárkód": "5",
                                    "Raktárkód + m.e.": "Összesen",
                                    "Darabszám": "700"
                                },
                                {
                                    "Kategóriaazon": "19",
                                    "Raktárkód": "6",
                                    "Raktárkód + m.e.": "6 db",
                                    "Darabszám": "2900"
                                },
                                {
                                    "Kategóriaazon": "19",
                                    "Raktárkód": "6",
                                    "Raktárkód + m.e.": "Összesen",
                                    "Darabszám": "2900"
                                },
                                {
                                    "Kategóriaazon": "19",
                                    "Raktárkód": "7",
                                    "Raktárkód + m.e.": "7 db",
                                    "Darabszám": "1000"
                                },
                                {
                                    "Kategóriaazon": "19",
                                    "Raktárkód": "7",
                                    "Raktárkód + m.e.": "Összesen",
                                    "Darabszám": "1000"
                                },
                                {
                                    "Kategóriaazon": "19",
                                    "Raktárkód": "8",
                                    "Raktárkód + m.e.": "8 db",
                                    "Darabszám": "100"
                                },
                                {
                                    "Kategóriaazon": "19",
                                    "Raktárkód": "8",
                                    "Raktárkód + m.e.": "Összesen",
                                    "Darabszám": "100"
                                },
                                {
                                    "Kategóriaazon": "19",
                                    "Raktárkód": "9",
                                    "Raktárkód + m.e.": "9 db",
                                    "Darabszám": "900"
                                },
                                {
                                    "Kategóriaazon": "19",
                                    "Raktárkód": "9",
                                    "Raktárkód + m.e.": "Összesen",
                                    "Darabszám": "900"
                                },
                                {
                                    "Kategóriaazon": "19",
                                    "Raktárkód": "Összesen",
                                    "Raktárkód + m.e.": "Összesen",
                                    "Darabszám": "5600"
                                },
                                {
                                    "Kategóriaazon": "20",
                                    "Raktárkód": "7",
                                    "Raktárkód + m.e.": "7 db",
                                    "Darabszám": "1000"
                                },
                                {
                                    "Kategóriaazon": "20",
                                    "Raktárkód": "7",
                                    "Raktárkód + m.e.": "Összesen",
                                    "Darabszám": "1000"
                                },
                                {
                                    "Kategóriaazon": "20",
                                    "Raktárkód": "9",
                                    "Raktárkód + m.e.": "9 db",
                                    "Darabszám": "200"
                                },
                                {
                                    "Kategóriaazon": "20",
                                    "Raktárkód": "9",
                                    "Raktárkód + m.e.": "Összesen",
                                    "Darabszám": "200"
                                },
                                {
                                    "Kategóriaazon": "20",
                                    "Raktárkód": "Összesen",
                                    "Raktárkód + m.e.": "Összesen",
                                    "Darabszám": "1200"
                                },
                                {
                                    "Kategóriaazon": "21",
                                    "Raktárkód": "5",
                                    "Raktárkód + m.e.": "5 csomag",
                                    "Darabszám": "300"
                                },
                                {
                                    "Kategóriaazon": "21",
                                    "Raktárkód": "5",
                                    "Raktárkód + m.e.": "5 ív",
                                    "Darabszám": "100"
                                },
                                {
                                    "Kategóriaazon": "21",
                                    "Raktárkód": "5",
                                    "Raktárkód + m.e.": "Összesen",
                                    "Darabszám": "400"
                                },
                                {
                                    "Kategóriaazon": "21",
                                    "Raktárkód": "6",
                                    "Raktárkód + m.e.": "6 ív",
                                    "Darabszám": "2400"
                                },
                                {
                                    "Kategóriaazon": "21",
                                    "Raktárkód": "6",
                                    "Raktárkód + m.e.": "Összesen",
                                    "Darabszám": "2400"
                                },
                                {
                                    "Kategóriaazon": "21",
                                    "Raktárkód": "9",
                                    "Raktárkód + m.e.": "9 Ív",
                                    "Darabszám": "100"
                                },
                                {
                                    "Kategóriaazon": "21",
                                    "Raktárkód": "9",
                                    "Raktárkód + m.e.": "Összesen",
                                    "Darabszám": "100"
                                },
                                {
                                    "Kategóriaazon": "21",
                                    "Raktárkód": "Összesen",
                                    "Raktárkód + m.e.": "Összesen",
                                    "Darabszám": "2900"
                                },
                                {
                                    "Kategóriaazon": "22",
                                    "Raktárkód": "7",
                                    "Raktárkód + m.e.": "7 db",
                                    "Darabszám": "100"
                                },
                                {
                                    "Kategóriaazon": "22",
                                    "Raktárkód": "7",
                                    "Raktárkód + m.e.": "Összesen",
                                    "Darabszám": "100"
                                },
                                {
                                    "Kategóriaazon": "22",
                                    "Raktárkód": "8",
                                    "Raktárkód + m.e.": "8 csomag",
                                    "Darabszám": "200"
                                },
                                {
                                    "Kategóriaazon": "22",
                                    "Raktárkód": "8",
                                    "Raktárkód + m.e.": "Összesen",
                                    "Darabszám": "200"
                                },
                                {
                                    "Kategóriaazon": "22",
                                    "Raktárkód": "Összesen",
                                    "Raktárkód + m.e.": "Összesen",
                                    "Darabszám": "300"
                                },
                                {
                                    "Kategóriaazon": "24",
                                    "Raktárkód": "5",
                                    "Raktárkód + m.e.": "5 db",
                                    "Darabszám": "600"
                                },
                                {
                                    "Kategóriaazon": "24",
                                    "Raktárkód": "5",
                                    "Raktárkód + m.e.": "5 ív",
                                    "Darabszám": "2600"
                                },
                                {
                                    "Kategóriaazon": "24",
                                    "Raktárkód": "5",
                                    "Raktárkód + m.e.": "Összesen",
                                    "Darabszám": "3200"
                                },
                                {
                                    "Kategóriaazon": "24",
                                    "Raktárkód": "6",
                                    "Raktárkód + m.e.": "6 db",
                                    "Darabszám": "2100"
                                },
                                {
                                    "Kategóriaazon": "24",
                                    "Raktárkód": "6",
                                    "Raktárkód + m.e.": "Összesen",
                                    "Darabszám": "2100"
                                },
                                {
                                    "Kategóriaazon": "24",
                                    "Raktárkód": "7",
                                    "Raktárkód + m.e.": "7 db",
                                    "Darabszám": "1000"
                                },
                                {
                                    "Kategóriaazon": "24",
                                    "Raktárkód": "7",
                                    "Raktárkód + m.e.": "Összesen",
                                    "Darabszám": "1000"
                                },
                                {
                                    "Kategóriaazon": "24",
                                    "Raktárkód": "9",
                                    "Raktárkód + m.e.": "9 db",
                                    "Darabszám": "100"
                                },
                                {
                                    "Kategóriaazon": "24",
                                    "Raktárkód": "9",
                                    "Raktárkód + m.e.": "9 ív",
                                    "Darabszám": "800"
                                },
                                {
                                    "Kategóriaazon": "24",
                                    "Raktárkód": "9",
                                    "Raktárkód + m.e.": "Összesen",
                                    "Darabszám": "900"
                                },
                                {
                                    "Kategóriaazon": "24",
                                    "Raktárkód": "Összesen",
                                    "Raktárkód + m.e.": "Összesen",
                                    "Darabszám": "7200"
                                },
                                {
                                    "Kategóriaazon": "25",
                                    "Raktárkód": "5",
                                    "Raktárkód + m.e.": "5 db",
                                    "Darabszám": "300"
                                },
                                {
                                    "Kategóriaazon": "25",
                                    "Raktárkód": "5",
                                    "Raktárkód + m.e.": "Összesen",
                                    "Darabszám": "300"
                                },
                                {
                                    "Kategóriaazon": "25",
                                    "Raktárkód": "6",
                                    "Raktárkód + m.e.": "6 db",
                                    "Darabszám": "2400"
                                },
                                {
                                    "Kategóriaazon": "25",
                                    "Raktárkód": "6",
                                    "Raktárkód + m.e.": "Összesen",
                                    "Darabszám": "2400"
                                },
                                {
                                    "Kategóriaazon": "25",
                                    "Raktárkód": "7",
                                    "Raktárkód + m.e.": "7 db",
                                    "Darabszám": "100"
                                },
                                {
                                    "Kategóriaazon": "25",
                                    "Raktárkód": "7",
                                    "Raktárkód + m.e.": "Összesen",
                                    "Darabszám": "100"
                                },
                                {
                                    "Kategóriaazon": "25",
                                    "Raktárkód": "8",
                                    "Raktárkód + m.e.": "8 db",
                                    "Darabszám": "5100"
                                },
                                {
                                    "Kategóriaazon": "25",
                                    "Raktárkód": "8",
                                    "Raktárkód + m.e.": "Összesen",
                                    "Darabszám": "5100"
                                },
                                {
                                    "Kategóriaazon": "25",
                                    "Raktárkód": "Összesen",
                                    "Raktárkód + m.e.": "Összesen",
                                    "Darabszám": "7900"
                                },
                                {
                                    "Kategóriaazon": "26",
                                    "Raktárkód": "9",
                                    "Raktárkód + m.e.": "9 ív",
                                    "Darabszám": "400"
                                },
                                {
                                    "Kategóriaazon": "26",
                                    "Raktárkód": "9",
                                    "Raktárkód + m.e.": "Összesen",
                                    "Darabszám": "400"
                                },
                                {
                                    "Kategóriaazon": "26",
                                    "Raktárkód": "Összesen",
                                    "Raktárkód + m.e.": "Összesen",
                                    "Darabszám": "400"
                                },
                                {
                                    "Kategóriaazon": "27",
                                    "Raktárkód": "5",
                                    "Raktárkód + m.e.": "5 db",
                                    "Darabszám": "100"
                                },
                                {
                                    "Kategóriaazon": "27",
                                    "Raktárkód": "5",
                                    "Raktárkód + m.e.": "Összesen",
                                    "Darabszám": "100"
                                },
                                {
                                    "Kategóriaazon": "27",
                                    "Raktárkód": "7",
                                    "Raktárkód + m.e.": "7 db",
                                    "Darabszám": "100"
                                },
                                {
                                    "Kategóriaazon": "27",
                                    "Raktárkód": "7",
                                    "Raktárkód + m.e.": "Összesen",
                                    "Darabszám": "100"
                                },
                                {
                                    "Kategóriaazon": "27",
                                    "Raktárkód": "9",
                                    "Raktárkód + m.e.": "9 db",
                                    "Darabszám": "300"
                                },
                                {
                                    "Kategóriaazon": "27",
                                    "Raktárkód": "9",
                                    "Raktárkód + m.e.": "Összesen",
                                    "Darabszám": "300"
                                },
                                {
                                    "Kategóriaazon": "27",
                                    "Raktárkód": "Összesen",
                                    "Raktárkód + m.e.": "Összesen",
                                    "Darabszám": "500"
                                },
                                {
                                    "Kategóriaazon": "28",
                                    "Raktárkód": "6",
                                    "Raktárkód + m.e.": "6 db",
                                    "Darabszám": "26000"
                                },
                                {
                                    "Kategóriaazon": "28",
                                    "Raktárkód": "6",
                                    "Raktárkód + m.e.": "Összesen",
                                    "Darabszám": "26000"
                                },
                                {
                                    "Kategóriaazon": "28",
                                    "Raktárkód": "8",
                                    "Raktárkód + m.e.": "8 db",
                                    "Darabszám": "41000"
                                },
                                {
                                    "Kategóriaazon": "28",
                                    "Raktárkód": "8",
                                    "Raktárkód + m.e.": "Összesen",
                                    "Darabszám": "41000"
                                },
                                {
                                    "Kategóriaazon": "28",
                                    "Raktárkód": "Összesen",
                                    "Raktárkód + m.e.": "Összesen",
                                    "Darabszám": "67000"
                                },
                                {
                                    "Kategóriaazon": "29",
                                    "Raktárkód": "9",
                                    "Raktárkód + m.e.": "9 db",
                                    "Darabszám": "1300"
                                },
                                {
                                    "Kategóriaazon": "29",
                                    "Raktárkód": "9",
                                    "Raktárkód + m.e.": "Összesen",
                                    "Darabszám": "1300"
                                },
                                {
                                    "Kategóriaazon": "29",
                                    "Raktárkód": "Összesen",
                                    "Raktárkód + m.e.": "Összesen",
                                    "Darabszám": "1300"
                                },
                                {
                                    "Kategóriaazon": "30",
                                    "Raktárkód": "5",
                                    "Raktárkód + m.e.": "5 db",
                                    "Darabszám": "200"
                                },
                                {
                                    "Kategóriaazon": "30",
                                    "Raktárkód": "5",
                                    "Raktárkód + m.e.": "Összesen",
                                    "Darabszám": "200"
                                },
                                {
                                    "Kategóriaazon": "30",
                                    "Raktárkód": "6",
                                    "Raktárkód + m.e.": "6 db",
                                    "Darabszám": "900"
                                },
                                {
                                    "Kategóriaazon": "30",
                                    "Raktárkód": "6",
                                    "Raktárkód + m.e.": "Összesen",
                                    "Darabszám": "900"
                                },
                                {
                                    "Kategóriaazon": "30",
                                    "Raktárkód": "7",
                                    "Raktárkód + m.e.": "7 db",
                                    "Darabszám": "4000"
                                },
                                {
                                    "Kategóriaazon": "30",
                                    "Raktárkód": "7",
                                    "Raktárkód + m.e.": "Összesen",
                                    "Darabszám": "4000"
                                },
                                {
                                    "Kategóriaazon": "30",
                                    "Raktárkód": "8",
                                    "Raktárkód + m.e.": "8 db",
                                    "Darabszám": "4300"
                                },
                                {
                                    "Kategóriaazon": "30",
                                    "Raktárkód": "8",
                                    "Raktárkód + m.e.": "Összesen",
                                    "Darabszám": "4300"
                                },
                                {
                                    "Kategóriaazon": "30",
                                    "Raktárkód": "9",
                                    "Raktárkód + m.e.": "9 db",
                                    "Darabszám": "200"
                                },
                                {
                                    "Kategóriaazon": "30",
                                    "Raktárkód": "9",
                                    "Raktárkód + m.e.": "Összesen",
                                    "Darabszám": "200"
                                },
                                {
                                    "Kategóriaazon": "30",
                                    "Raktárkód": "Összesen",
                                    "Raktárkód + m.e.": "Összesen",
                                    "Darabszám": "9600"
                                },
                                {
                                    "Kategóriaazon": "31",
                                    "Raktárkód": "5",
                                    "Raktárkód + m.e.": "5 db",
                                    "Darabszám": "100"
                                },
                                {
                                    "Kategóriaazon": "31",
                                    "Raktárkód": "5",
                                    "Raktárkód + m.e.": "Összesen",
                                    "Darabszám": "100"
                                },
                                {
                                    "Kategóriaazon": "31",
                                    "Raktárkód": "Összesen",
                                    "Raktárkód + m.e.": "Összesen",
                                    "Darabszám": "100"
                                },
                                {
                                    "Kategóriaazon": "32",
                                    "Raktárkód": "6",
                                    "Raktárkód + m.e.": "6 db",
                                    "Darabszám": "7700"
                                },
                                {
                                    "Kategóriaazon": "32",
                                    "Raktárkód": "6",
                                    "Raktárkód + m.e.": "Összesen",
                                    "Darabszám": "7700"
                                },
                                {
                                    "Kategóriaazon": "32",
                                    "Raktárkód": "7",
                                    "Raktárkód + m.e.": "7 db",
                                    "Darabszám": "4000"
                                },
                                {
                                    "Kategóriaazon": "32",
                                    "Raktárkód": "7",
                                    "Raktárkód + m.e.": "Összesen",
                                    "Darabszám": "4000"
                                },
                                {
                                    "Kategóriaazon": "32",
                                    "Raktárkód": "Összesen",
                                    "Raktárkód + m.e.": "Összesen",
                                    "Darabszám": "11700"
                                },
                                {
                                    "Kategóriaazon": "33",
                                    "Raktárkód": "7",
                                    "Raktárkód + m.e.": "7 db",
                                    "Darabszám": "200"
                                },
                                {
                                    "Kategóriaazon": "33",
                                    "Raktárkód": "7",
                                    "Raktárkód + m.e.": "Összesen",
                                    "Darabszám": "200"
                                },
                                {
                                    "Kategóriaazon": "33",
                                    "Raktárkód": "Összesen",
                                    "Raktárkód + m.e.": "Összesen",
                                    "Darabszám": "200"
                                },
                                {
                                    "Kategóriaazon": "34",
                                    "Raktárkód": "9",
                                    "Raktárkód + m.e.": "9 db",
                                    "Darabszám": "300"
                                },
                                {
                                    "Kategóriaazon": "34",
                                    "Raktárkód": "9",
                                    "Raktárkód + m.e.": "Összesen",
                                    "Darabszám": "300"
                                },
                                {
                                    "Kategóriaazon": "34",
                                    "Raktárkód": "Összesen",
                                    "Raktárkód + m.e.": "Összesen",
                                    "Darabszám": "300"
                                },
                                {
                                    "Kategóriaazon": "35",
                                    "Raktárkód": "1",
                                    "Raktárkód + m.e.": "1 db",
                                    "Darabszám": "369"
                                },
                                {
                                    "Kategóriaazon": "35",
                                    "Raktárkód": "1",
                                    "Raktárkód + m.e.": "Összesen",
                                    "Darabszám": "369"
                                },
                                {
                                    "Kategóriaazon": "35",
                                    "Raktárkód": "2",
                                    "Raktárkód + m.e.": "2 db",
                                    "Darabszám": "53"
                                },
                                {
                                    "Kategóriaazon": "35",
                                    "Raktárkód": "2",
                                    "Raktárkód + m.e.": "Összesen",
                                    "Darabszám": "53"
                                },
                                {
                                    "Kategóriaazon": "35",
                                    "Raktárkód": "3",
                                    "Raktárkód + m.e.": "3 db",
                                    "Darabszám": "906"
                                },
                                {
                                    "Kategóriaazon": "35",
                                    "Raktárkód": "3",
                                    "Raktárkód + m.e.": "Összesen",
                                    "Darabszám": "906"
                                },
                                {
                                    "Kategóriaazon": "35",
                                    "Raktárkód": "4",
                                    "Raktárkód + m.e.": "4 db",
                                    "Darabszám": "938"
                                },
                                {
                                    "Kategóriaazon": "35",
                                    "Raktárkód": "4",
                                    "Raktárkód + m.e.": "Összesen",
                                    "Darabszám": "938"
                                },
                                {
                                    "Kategóriaazon": "35",
                                    "Raktárkód": "Összesen",
                                    "Raktárkód + m.e.": "Összesen",
                                    "Darabszám": "2266"
                                },
                                {
                                    "Kategóriaazon": "36",
                                    "Raktárkód": "5",
                                    "Raktárkód + m.e.": "5 csomag",
                                    "Darabszám": "500"
                                },
                                {
                                    "Kategóriaazon": "36",
                                    "Raktárkód": "5",
                                    "Raktárkód + m.e.": "Összesen",
                                    "Darabszám": "500"
                                },
                                {
                                    "Kategóriaazon": "36",
                                    "Raktárkód": "6",
                                    "Raktárkód + m.e.": "6 csomag",
                                    "Darabszám": "1200"
                                },
                                {
                                    "Kategóriaazon": "36",
                                    "Raktárkód": "6",
                                    "Raktárkód + m.e.": "Összesen",
                                    "Darabszám": "1200"
                                },
                                {
                                    "Kategóriaazon": "36",
                                    "Raktárkód": "9",
                                    "Raktárkód + m.e.": "9 csomag",
                                    "Darabszám": "500"
                                },
                                {
                                    "Kategóriaazon": "36",
                                    "Raktárkód": "9",
                                    "Raktárkód + m.e.": "Összesen",
                                    "Darabszám": "500"
                                },
                                {
                                    "Kategóriaazon": "36",
                                    "Raktárkód": "Összesen",
                                    "Raktárkód + m.e.": "Összesen",
                                    "Darabszám": "2200"
                                },
                                {
                                    "Kategóriaazon": "37",
                                    "Raktárkód": "1",
                                    "Raktárkód + m.e.": "1 db",
                                    "Darabszám": "381"
                                },
                                {
                                    "Kategóriaazon": "37",
                                    "Raktárkód": "1",
                                    "Raktárkód + m.e.": "Összesen",
                                    "Darabszám": "381"
                                },
                                {
                                    "Kategóriaazon": "37",
                                    "Raktárkód": "Összesen",
                                    "Raktárkód + m.e.": "Összesen",
                                    "Darabszám": "381"
                                },
                                {
                                    "Kategóriaazon": "38",
                                    "Raktárkód": "1",
                                    "Raktárkód + m.e.": "1 db",
                                    "Darabszám": "173"
                                },
                                {
                                    "Kategóriaazon": "38",
                                    "Raktárkód": "1",
                                    "Raktárkód + m.e.": "Összesen",
                                    "Darabszám": "173"
                                },
                                {
                                    "Kategóriaazon": "38",
                                    "Raktárkód": "Összesen",
                                    "Raktárkód + m.e.": "Összesen",
                                    "Darabszám": "173"
                                },
                                {
                                    "Kategóriaazon": "39",
                                    "Raktárkód": "1",
                                    "Raktárkód + m.e.": "1 db",
                                    "Darabszám": "389"
                                },
                                {
                                    "Kategóriaazon": "39",
                                    "Raktárkód": "1",
                                    "Raktárkód + m.e.": "Összesen",
                                    "Darabszám": "389"
                                },
                                {
                                    "Kategóriaazon": "39",
                                    "Raktárkód": "3",
                                    "Raktárkód + m.e.": "3 db",
                                    "Darabszám": "105"
                                },
                                {
                                    "Kategóriaazon": "39",
                                    "Raktárkód": "3",
                                    "Raktárkód + m.e.": "Összesen",
                                    "Darabszám": "105"
                                },
                                {
                                    "Kategóriaazon": "39",
                                    "Raktárkód": "Összesen",
                                    "Raktárkód + m.e.": "Összesen",
                                    "Darabszám": "494"
                                },
                                {
                                    "Kategóriaazon": "40",
                                    "Raktárkód": "6",
                                    "Raktárkód + m.e.": "6 db",
                                    "Darabszám": "900"
                                },
                                {
                                    "Kategóriaazon": "40",
                                    "Raktárkód": "6",
                                    "Raktárkód + m.e.": "Összesen",
                                    "Darabszám": "900"
                                },
                                {
                                    "Kategóriaazon": "40",
                                    "Raktárkód": "Összesen",
                                    "Raktárkód + m.e.": "Összesen",
                                    "Darabszám": "900"
                                },
                                {
                                    "Kategóriaazon": "41",
                                    "Raktárkód": "5",
                                    "Raktárkód + m.e.": "5 db",
                                    "Darabszám": "2000"
                                },
                                {
                                    "Kategóriaazon": "41",
                                    "Raktárkód": "5",
                                    "Raktárkód + m.e.": "Összesen",
                                    "Darabszám": "2000"
                                },
                                {
                                    "Kategóriaazon": "41",
                                    "Raktárkód": "7",
                                    "Raktárkód + m.e.": "7 db",
                                    "Darabszám": "100"
                                },
                                {
                                    "Kategóriaazon": "41",
                                    "Raktárkód": "7",
                                    "Raktárkód + m.e.": "Összesen",
                                    "Darabszám": "100"
                                },
                                {
                                    "Kategóriaazon": "41",
                                    "Raktárkód": "8",
                                    "Raktárkód + m.e.": "8 db",
                                    "Darabszám": "900"
                                },
                                {
                                    "Kategóriaazon": "41",
                                    "Raktárkód": "8",
                                    "Raktárkód + m.e.": "Összesen",
                                    "Darabszám": "900"
                                },
                                {
                                    "Kategóriaazon": "41",
                                    "Raktárkód": "9",
                                    "Raktárkód + m.e.": "9 csomag",
                                    "Darabszám": "200"
                                },
                                {
                                    "Kategóriaazon": "41",
                                    "Raktárkód": "9",
                                    "Raktárkód + m.e.": "9 db",
                                    "Darabszám": "1400"
                                },
                                {
                                    "Kategóriaazon": "41",
                                    "Raktárkód": "9",
                                    "Raktárkód + m.e.": "Összesen",
                                    "Darabszám": "1600"
                                },
                                {
                                    "Kategóriaazon": "41",
                                    "Raktárkód": "Összesen",
                                    "Raktárkód + m.e.": "Összesen",
                                    "Darabszám": "4600"
                                },
                                {
                                    "Kategóriaazon": "42",
                                    "Raktárkód": "7",
                                    "Raktárkód + m.e.": "7 db",
                                    "Darabszám": "500"
                                },
                                {
                                    "Kategóriaazon": "42",
                                    "Raktárkód": "7",
                                    "Raktárkód + m.e.": "Összesen",
                                    "Darabszám": "500"
                                },
                                {
                                    "Kategóriaazon": "42",
                                    "Raktárkód": "Összesen",
                                    "Raktárkód + m.e.": "Összesen",
                                    "Darabszám": "500"
                                },
                                {
                                    "Kategóriaazon": "43",
                                    "Raktárkód": "8",
                                    "Raktárkód + m.e.": "8 ív",
                                    "Darabszám": "200"
                                },
                                {
                                    "Kategóriaazon": "43",
                                    "Raktárkód": "8",
                                    "Raktárkód + m.e.": "Összesen",
                                    "Darabszám": "200"
                                },
                                {
                                    "Kategóriaazon": "43",
                                    "Raktárkód": "9",
                                    "Raktárkód + m.e.": "9 ív",
                                    "Darabszám": "100"
                                },
                                {
                                    "Kategóriaazon": "43",
                                    "Raktárkód": "9",
                                    "Raktárkód + m.e.": "Összesen",
                                    "Darabszám": "100"
                                },
                                {
                                    "Kategóriaazon": "43",
                                    "Raktárkód": "Összesen",
                                    "Raktárkód + m.e.": "Összesen",
                                    "Darabszám": "300"
                                },
                                {
                                    "Kategóriaazon": "44",
                                    "Raktárkód": "9",
                                    "Raktárkód + m.e.": "9 db",
                                    "Darabszám": "200"
                                },
                                {
                                    "Kategóriaazon": "44",
                                    "Raktárkód": "9",
                                    "Raktárkód + m.e.": "Összesen",
                                    "Darabszám": "200"
                                },
                                {
                                    "Kategóriaazon": "44",
                                    "Raktárkód": "Összesen",
                                    "Raktárkód + m.e.": "Összesen",
                                    "Darabszám": "200"
                                },
                                {
                                    "Kategóriaazon": "45",
                                    "Raktárkód": "5",
                                    "Raktárkód + m.e.": "5 db",
                                    "Darabszám": "800"
                                },
                                {
                                    "Kategóriaazon": "45",
                                    "Raktárkód": "5",
                                    "Raktárkód + m.e.": "Összesen",
                                    "Darabszám": "800"
                                },
                                {
                                    "Kategóriaazon": "45",
                                    "Raktárkód": "6",
                                    "Raktárkód + m.e.": "6 db",
                                    "Darabszám": "5200"
                                },
                                {
                                    "Kategóriaazon": "45",
                                    "Raktárkód": "6",
                                    "Raktárkód + m.e.": "Összesen",
                                    "Darabszám": "5200"
                                },
                                {
                                    "Kategóriaazon": "45",
                                    "Raktárkód": "7",
                                    "Raktárkód + m.e.": "7 db",
                                    "Darabszám": "500"
                                },
                                {
                                    "Kategóriaazon": "45",
                                    "Raktárkód": "7",
                                    "Raktárkód + m.e.": "Összesen",
                                    "Darabszám": "500"
                                },
                                {
                                    "Kategóriaazon": "45",
                                    "Raktárkód": "8",
                                    "Raktárkód + m.e.": "8 db",
                                    "Darabszám": "5200"
                                },
                                {
                                    "Kategóriaazon": "45",
                                    "Raktárkód": "8",
                                    "Raktárkód + m.e.": "Összesen",
                                    "Darabszám": "5200"
                                },
                                {
                                    "Kategóriaazon": "45",
                                    "Raktárkód": "9",
                                    "Raktárkód + m.e.": "9 db",
                                    "Darabszám": "2200"
                                },
                                {
                                    "Kategóriaazon": "45",
                                    "Raktárkód": "9",
                                    "Raktárkód + m.e.": "Összesen",
                                    "Darabszám": "2200"
                                },
                                {
                                    "Kategóriaazon": "45",
                                    "Raktárkód": "Összesen",
                                    "Raktárkód + m.e.": "Összesen",
                                    "Darabszám": "13900"
                                },
                                {
                                    "Kategóriaazon": "46",
                                    "Raktárkód": "2",
                                    "Raktárkód + m.e.": "2 db",
                                    "Darabszám": "100"
                                },
                                {
                                    "Kategóriaazon": "46",
                                    "Raktárkód": "2",
                                    "Raktárkód + m.e.": "Összesen",
                                    "Darabszám": "100"
                                },
                                {
                                    "Kategóriaazon": "46",
                                    "Raktárkód": "6",
                                    "Raktárkód + m.e.": "6 db",
                                    "Darabszám": "900"
                                },
                                {
                                    "Kategóriaazon": "46",
                                    "Raktárkód": "6",
                                    "Raktárkód + m.e.": "Összesen",
                                    "Darabszám": "900"
                                },
                                {
                                    "Kategóriaazon": "46",
                                    "Raktárkód": "7",
                                    "Raktárkód + m.e.": "7 csomag",
                                    "Darabszám": "300"
                                },
                                {
                                    "Kategóriaazon": "46",
                                    "Raktárkód": "7",
                                    "Raktárkód + m.e.": "7 db",
                                    "Darabszám": "300"
                                },
                                {
                                    "Kategóriaazon": "46",
                                    "Raktárkód": "7",
                                    "Raktárkód + m.e.": "Összesen",
                                    "Darabszám": "600"
                                },
                                {
                                    "Kategóriaazon": "46",
                                    "Raktárkód": "9",
                                    "Raktárkód + m.e.": "9 db",
                                    "Darabszám": "600"
                                },
                                {
                                    "Kategóriaazon": "46",
                                    "Raktárkód": "9",
                                    "Raktárkód + m.e.": "Összesen",
                                    "Darabszám": "600"
                                },
                                {
                                    "Kategóriaazon": "46",
                                    "Raktárkód": "Összesen",
                                    "Raktárkód + m.e.": "Összesen",
                                    "Darabszám": "2200"
                                },
                                {
                                    "Kategóriaazon": "47",
                                    "Raktárkód": "6",
                                    "Raktárkód + m.e.": "6 db",
                                    "Darabszám": "2900"
                                },
                                {
                                    "Kategóriaazon": "47",
                                    "Raktárkód": "6",
                                    "Raktárkód + m.e.": "Összesen",
                                    "Darabszám": "2900"
                                },
                                {
                                    "Kategóriaazon": "47",
                                    "Raktárkód": "7",
                                    "Raktárkód + m.e.": "7 db",
                                    "Darabszám": "400"
                                },
                                {
                                    "Kategóriaazon": "47",
                                    "Raktárkód": "7",
                                    "Raktárkód + m.e.": "Összesen",
                                    "Darabszám": "400"
                                },
                                {
                                    "Kategóriaazon": "47",
                                    "Raktárkód": "9",
                                    "Raktárkód + m.e.": "9 db",
                                    "Darabszám": "1500"
                                },
                                {
                                    "Kategóriaazon": "47",
                                    "Raktárkód": "9",
                                    "Raktárkód + m.e.": "Összesen",
                                    "Darabszám": "1500"
                                },
                                {
                                    "Kategóriaazon": "47",
                                    "Raktárkód": "Összesen",
                                    "Raktárkód + m.e.": "Összesen",
                                    "Darabszám": "4800"
                                },
                                {
                                    "Kategóriaazon": "48",
                                    "Raktárkód": "7",
                                    "Raktárkód + m.e.": "7 db",
                                    "Darabszám": "3200"
                                },
                                {
                                    "Kategóriaazon": "48",
                                    "Raktárkód": "7",
                                    "Raktárkód + m.e.": "Összesen",
                                    "Darabszám": "3200"
                                },
                                {
                                    "Kategóriaazon": "48",
                                    "Raktárkód": "8",
                                    "Raktárkód + m.e.": "8 db",
                                    "Darabszám": "400"
                                },
                                {
                                    "Kategóriaazon": "48",
                                    "Raktárkód": "8",
                                    "Raktárkód + m.e.": "Összesen",
                                    "Darabszám": "400"
                                },
                                {
                                    "Kategóriaazon": "48",
                                    "Raktárkód": "Összesen",
                                    "Raktárkód + m.e.": "Összesen",
                                    "Darabszám": "3600"
                                },
                                {
                                    "Kategóriaazon": "49",
                                    "Raktárkód": "5",
                                    "Raktárkód + m.e.": "5 csomag",
                                    "Darabszám": "100"
                                },
                                {
                                    "Kategóriaazon": "49",
                                    "Raktárkód": "5",
                                    "Raktárkód + m.e.": "Összesen",
                                    "Darabszám": "100"
                                },
                                {
                                    "Kategóriaazon": "49",
                                    "Raktárkód": "8",
                                    "Raktárkód + m.e.": "8 csomag",
                                    "Darabszám": "200"
                                },
                                {
                                    "Kategóriaazon": "49",
                                    "Raktárkód": "8",
                                    "Raktárkód + m.e.": "Összesen",
                                    "Darabszám": "200"
                                },
                                {
                                    "Kategóriaazon": "49",
                                    "Raktárkód": "Összesen",
                                    "Raktárkód + m.e.": "Összesen",
                                    "Darabszám": "300"
                                },
                                {
                                    "Kategóriaazon": "50",
                                    "Raktárkód": "7",
                                    "Raktárkód + m.e.": "7 csomag",
                                    "Darabszám": "500"
                                },
                                {
                                    "Kategóriaazon": "50",
                                    "Raktárkód": "7",
                                    "Raktárkód + m.e.": "Összesen",
                                    "Darabszám": "500"
                                },
                                {
                                    "Kategóriaazon": "50",
                                    "Raktárkód": "Összesen",
                                    "Raktárkód + m.e.": "Összesen",
                                    "Darabszám": "500"
                                },
                                {
                                    "Kategóriaazon": "51",
                                    "Raktárkód": "7",
                                    "Raktárkód + m.e.": "7 csomag",
                                    "Darabszám": "4700"
                                },
                                {
                                    "Kategóriaazon": "51",
                                    "Raktárkód": "7",
                                    "Raktárkód + m.e.": "Összesen",
                                    "Darabszám": "4700"
                                },
                                {
                                    "Kategóriaazon": "51",
                                    "Raktárkód": "8",
                                    "Raktárkód + m.e.": "8 db",
                                    "Darabszám": "1500"
                                },
                                {
                                    "Kategóriaazon": "51",
                                    "Raktárkód": "8",
                                    "Raktárkód + m.e.": "Összesen",
                                    "Darabszám": "1500"
                                },
                                {
                                    "Kategóriaazon": "51",
                                    "Raktárkód": "9",
                                    "Raktárkód + m.e.": "9 csomag",
                                    "Darabszám": "200"
                                },
                                {
                                    "Kategóriaazon": "51",
                                    "Raktárkód": "9",
                                    "Raktárkód + m.e.": "Összesen",
                                    "Darabszám": "200"
                                },
                                {
                                    "Kategóriaazon": "51",
                                    "Raktárkód": "Összesen",
                                    "Raktárkód + m.e.": "Összesen",
                                    "Darabszám": "6400"
                                },
                                {
                                    "Kategóriaazon": "52",
                                    "Raktárkód": "5",
                                    "Raktárkód + m.e.": "5 db",
                                    "Darabszám": "8500"
                                },
                                {
                                    "Kategóriaazon": "52",
                                    "Raktárkód": "5",
                                    "Raktárkód + m.e.": "Összesen",
                                    "Darabszám": "8500"
                                },
                                {
                                    "Kategóriaazon": "52",
                                    "Raktárkód": "6",
                                    "Raktárkód + m.e.": "6 db",
                                    "Darabszám": "38300"
                                },
                                {
                                    "Kategóriaazon": "52",
                                    "Raktárkód": "6",
                                    "Raktárkód + m.e.": "Összesen",
                                    "Darabszám": "38300"
                                },
                                {
                                    "Kategóriaazon": "52",
                                    "Raktárkód": "7",
                                    "Raktárkód + m.e.": "7 db",
                                    "Darabszám": "65700"
                                },
                                {
                                    "Kategóriaazon": "52",
                                    "Raktárkód": "7",
                                    "Raktárkód + m.e.": "Összesen",
                                    "Darabszám": "65700"
                                },
                                {
                                    "Kategóriaazon": "52",
                                    "Raktárkód": "8",
                                    "Raktárkód + m.e.": "8 db",
                                    "Darabszám": "47200"
                                },
                                {
                                    "Kategóriaazon": "52",
                                    "Raktárkód": "8",
                                    "Raktárkód + m.e.": "Összesen",
                                    "Darabszám": "47200"
                                },
                                {
                                    "Kategóriaazon": "52",
                                    "Raktárkód": "9",
                                    "Raktárkód + m.e.": "9 db",
                                    "Darabszám": "1800"
                                },
                                {
                                    "Kategóriaazon": "52",
                                    "Raktárkód": "9",
                                    "Raktárkód + m.e.": "Összesen",
                                    "Darabszám": "1800"
                                },
                                {
                                    "Kategóriaazon": "52",
                                    "Raktárkód": "Összesen",
                                    "Raktárkód + m.e.": "Összesen",
                                    "Darabszám": "161500"
                                },
                                {
                                    "Kategóriaazon": "53",
                                    "Raktárkód": "9",
                                    "Raktárkód + m.e.": "9 csomag",
                                    "Darabszám": "400"
                                },
                                {
                                    "Kategóriaazon": "53",
                                    "Raktárkód": "9",
                                    "Raktárkód + m.e.": "Összesen",
                                    "Darabszám": "400"
                                },
                                {
                                    "Kategóriaazon": "53",
                                    "Raktárkód": "Összesen",
                                    "Raktárkód + m.e.": "Összesen",
                                    "Darabszám": "400"
                                },
                                {
                                    "Kategóriaazon": "54",
                                    "Raktárkód": "1",
                                    "Raktárkód + m.e.": "1 db",
                                    "Darabszám": "640"
                                },
                                {
                                    "Kategóriaazon": "54",
                                    "Raktárkód": "1",
                                    "Raktárkód + m.e.": "Összesen",
                                    "Darabszám": "640"
                                },
                                {
                                    "Kategóriaazon": "54",
                                    "Raktárkód": "2",
                                    "Raktárkód + m.e.": "2 db",
                                    "Darabszám": "406"
                                },
                                {
                                    "Kategóriaazon": "54",
                                    "Raktárkód": "2",
                                    "Raktárkód + m.e.": "Összesen",
                                    "Darabszám": "406"
                                },
                                {
                                    "Kategóriaazon": "54",
                                    "Raktárkód": "3",
                                    "Raktárkód + m.e.": "3 db",
                                    "Darabszám": "671"
                                },
                                {
                                    "Kategóriaazon": "54",
                                    "Raktárkód": "3",
                                    "Raktárkód + m.e.": "Összesen",
                                    "Darabszám": "671"
                                },
                                {
                                    "Kategóriaazon": "54",
                                    "Raktárkód": "Összesen",
                                    "Raktárkód + m.e.": "Összesen",
                                    "Darabszám": "1717"
                                },
                                {
                                    "Kategóriaazon": "55",
                                    "Raktárkód": "1",
                                    "Raktárkód + m.e.": "1 db",
                                    "Darabszám": "474"
                                },
                                {
                                    "Kategóriaazon": "55",
                                    "Raktárkód": "1",
                                    "Raktárkód + m.e.": "Összesen",
                                    "Darabszám": "474"
                                },
                                {
                                    "Kategóriaazon": "55",
                                    "Raktárkód": "Összesen",
                                    "Raktárkód + m.e.": "Összesen",
                                    "Darabszám": "474"
                                },
                                {
                                    "Kategóriaazon": "56",
                                    "Raktárkód": "1",
                                    "Raktárkód + m.e.": "1 db",
                                    "Darabszám": "162"
                                },
                                {
                                    "Kategóriaazon": "56",
                                    "Raktárkód": "1",
                                    "Raktárkód + m.e.": "Összesen",
                                    "Darabszám": "162"
                                },
                                {
                                    "Kategóriaazon": "56",
                                    "Raktárkód": "3",
                                    "Raktárkód + m.e.": "3 db",
                                    "Darabszám": "831"
                                },
                                {
                                    "Kategóriaazon": "56",
                                    "Raktárkód": "3",
                                    "Raktárkód + m.e.": "Összesen",
                                    "Darabszám": "831"
                                },
                                {
                                    "Kategóriaazon": "56",
                                    "Raktárkód": "Összesen",
                                    "Raktárkód + m.e.": "Összesen",
                                    "Darabszám": "993"
                                },
                                {
                                    "Kategóriaazon": "57",
                                    "Raktárkód": "3",
                                    "Raktárkód + m.e.": "3 db",
                                    "Darabszám": "468"
                                },
                                {
                                    "Kategóriaazon": "57",
                                    "Raktárkód": "3",
                                    "Raktárkód + m.e.": "Összesen",
                                    "Darabszám": "468"
                                },
                                {
                                    "Kategóriaazon": "57",
                                    "Raktárkód": "Összesen",
                                    "Raktárkód + m.e.": "Összesen",
                                    "Darabszám": "468"
                                },
                                {
                                    "Kategóriaazon": "58",
                                    "Raktárkód": "5",
                                    "Raktárkód + m.e.": "5 db",
                                    "Darabszám": "200"
                                },
                                {
                                    "Kategóriaazon": "58",
                                    "Raktárkód": "5",
                                    "Raktárkód + m.e.": "Összesen",
                                    "Darabszám": "200"
                                },
                                {
                                    "Kategóriaazon": "58",
                                    "Raktárkód": "7",
                                    "Raktárkód + m.e.": "7 db",
                                    "Darabszám": "1200"
                                },
                                {
                                    "Kategóriaazon": "58",
                                    "Raktárkód": "7",
                                    "Raktárkód + m.e.": "Összesen",
                                    "Darabszám": "1200"
                                },
                                {
                                    "Kategóriaazon": "58",
                                    "Raktárkód": "8",
                                    "Raktárkód + m.e.": "8 db",
                                    "Darabszám": "1000"
                                },
                                {
                                    "Kategóriaazon": "58",
                                    "Raktárkód": "8",
                                    "Raktárkód + m.e.": "Összesen",
                                    "Darabszám": "1000"
                                },
                                {
                                    "Kategóriaazon": "58",
                                    "Raktárkód": "Összesen",
                                    "Raktárkód + m.e.": "Összesen",
                                    "Darabszám": "2400"
                                },
                                {
                                    "Kategóriaazon": "59",
                                    "Raktárkód": "5",
                                    "Raktárkód + m.e.": "5 csomag",
                                    "Darabszám": "1900"
                                },
                                {
                                    "Kategóriaazon": "59",
                                    "Raktárkód": "5",
                                    "Raktárkód + m.e.": "Összesen",
                                    "Darabszám": "1900"
                                },
                                {
                                    "Kategóriaazon": "59",
                                    "Raktárkód": "6",
                                    "Raktárkód + m.e.": "6 db",
                                    "Darabszám": "100"
                                },
                                {
                                    "Kategóriaazon": "59",
                                    "Raktárkód": "6",
                                    "Raktárkód + m.e.": "Összesen",
                                    "Darabszám": "100"
                                },
                                {
                                    "Kategóriaazon": "59",
                                    "Raktárkód": "8",
                                    "Raktárkód + m.e.": "8 db",
                                    "Darabszám": "400"
                                },
                                {
                                    "Kategóriaazon": "59",
                                    "Raktárkód": "8",
                                    "Raktárkód + m.e.": "Összesen",
                                    "Darabszám": "400"
                                },
                                {
                                    "Kategóriaazon": "59",
                                    "Raktárkód": "9",
                                    "Raktárkód + m.e.": "9 csomag",
                                    "Darabszám": "300"
                                },
                                {
                                    "Kategóriaazon": "59",
                                    "Raktárkód": "9",
                                    "Raktárkód + m.e.": "Összesen",
                                    "Darabszám": "300"
                                },
                                {
                                    "Kategóriaazon": "59",
                                    "Raktárkód": "Összesen",
                                    "Raktárkód + m.e.": "Összesen",
                                    "Darabszám": "2700"
                                },
                                {
                                    "Kategóriaazon": "60",
                                    "Raktárkód": "6",
                                    "Raktárkód + m.e.": "6 db",
                                    "Darabszám": "700"
                                },
                                {
                                    "Kategóriaazon": "60",
                                    "Raktárkód": "6",
                                    "Raktárkód + m.e.": "Összesen",
                                    "Darabszám": "700"
                                },
                                {
                                    "Kategóriaazon": "60",
                                    "Raktárkód": "7",
                                    "Raktárkód + m.e.": "7 db",
                                    "Darabszám": "2600"
                                },
                                {
                                    "Kategóriaazon": "60",
                                    "Raktárkód": "7",
                                    "Raktárkód + m.e.": "Összesen",
                                    "Darabszám": "2600"
                                },
                                {
                                    "Kategóriaazon": "60",
                                    "Raktárkód": "9",
                                    "Raktárkód + m.e.": "9 db",
                                    "Darabszám": "2100"
                                },
                                {
                                    "Kategóriaazon": "60",
                                    "Raktárkód": "9",
                                    "Raktárkód + m.e.": "Összesen",
                                    "Darabszám": "2100"
                                },
                                {
                                    "Kategóriaazon": "60",
                                    "Raktárkód": "Összesen",
                                    "Raktárkód + m.e.": "Összesen",
                                    "Darabszám": "5400"
                                },
                                {
                                    "Kategóriaazon": "61",
                                    "Raktárkód": "8",
                                    "Raktárkód + m.e.": "8 db",
                                    "Darabszám": "700"
                                },
                                {
                                    "Kategóriaazon": "61",
                                    "Raktárkód": "8",
                                    "Raktárkód + m.e.": "Összesen",
                                    "Darabszám": "700"
                                },
                                {
                                    "Kategóriaazon": "61",
                                    "Raktárkód": "Összesen",
                                    "Raktárkód + m.e.": "Összesen",
                                    "Darabszám": "700"
                                },
                                {
                                    "Kategóriaazon": "62",
                                    "Raktárkód": "9",
                                    "Raktárkód + m.e.": "9 db",
                                    "Darabszám": "3300"
                                },
                                {
                                    "Kategóriaazon": "62",
                                    "Raktárkód": "9",
                                    "Raktárkód + m.e.": "Összesen",
                                    "Darabszám": "3300"
                                },
                                {
                                    "Kategóriaazon": "62",
                                    "Raktárkód": "Összesen",
                                    "Raktárkód + m.e.": "Összesen",
                                    "Darabszám": "3300"
                                },
                                {
                                    "Kategóriaazon": "64",
                                    "Raktárkód": "6",
                                    "Raktárkód + m.e.": "6 db",
                                    "Darabszám": "1500"
                                },
                                {
                                    "Kategóriaazon": "64",
                                    "Raktárkód": "6",
                                    "Raktárkód + m.e.": "Összesen",
                                    "Darabszám": "1500"
                                },
                                {
                                    "Kategóriaazon": "64",
                                    "Raktárkód": "8",
                                    "Raktárkód + m.e.": "8 db",
                                    "Darabszám": "1200"
                                },
                                {
                                    "Kategóriaazon": "64",
                                    "Raktárkód": "8",
                                    "Raktárkód + m.e.": "Összesen",
                                    "Darabszám": "1200"
                                },
                                {
                                    "Kategóriaazon": "64",
                                    "Raktárkód": "Összesen",
                                    "Raktárkód + m.e.": "Összesen",
                                    "Darabszám": "2700"
                                },
                                {
                                    "Kategóriaazon": "65",
                                    "Raktárkód": "7",
                                    "Raktárkód + m.e.": "7 db",
                                    "Darabszám": "100"
                                },
                                {
                                    "Kategóriaazon": "65",
                                    "Raktárkód": "7",
                                    "Raktárkód + m.e.": "Összesen",
                                    "Darabszám": "100"
                                },
                                {
                                    "Kategóriaazon": "65",
                                    "Raktárkód": "9",
                                    "Raktárkód + m.e.": "9 db",
                                    "Darabszám": "200"
                                },
                                {
                                    "Kategóriaazon": "65",
                                    "Raktárkód": "9",
                                    "Raktárkód + m.e.": "Összesen",
                                    "Darabszám": "200"
                                },
                                {
                                    "Kategóriaazon": "65",
                                    "Raktárkód": "Összesen",
                                    "Raktárkód + m.e.": "Összesen",
                                    "Darabszám": "300"
                                },
                                {
                                    "Kategóriaazon": "66",
                                    "Raktárkód": "5",
                                    "Raktárkód + m.e.": "5 db",
                                    "Darabszám": "400"
                                },
                                {
                                    "Kategóriaazon": "66",
                                    "Raktárkód": "5",
                                    "Raktárkód + m.e.": "Összesen",
                                    "Darabszám": "400"
                                },
                                {
                                    "Kategóriaazon": "66",
                                    "Raktárkód": "6",
                                    "Raktárkód + m.e.": "6 db",
                                    "Darabszám": "300"
                                },
                                {
                                    "Kategóriaazon": "66",
                                    "Raktárkód": "6",
                                    "Raktárkód + m.e.": "Összesen",
                                    "Darabszám": "300"
                                },
                                {
                                    "Kategóriaazon": "66",
                                    "Raktárkód": "7",
                                    "Raktárkód + m.e.": "7 db",
                                    "Darabszám": "600"
                                },
                                {
                                    "Kategóriaazon": "66",
                                    "Raktárkód": "7",
                                    "Raktárkód + m.e.": "Összesen",
                                    "Darabszám": "600"
                                },
                                {
                                    "Kategóriaazon": "66",
                                    "Raktárkód": "8",
                                    "Raktárkód + m.e.": "8 db",
                                    "Darabszám": "500"
                                },
                                {
                                    "Kategóriaazon": "66",
                                    "Raktárkód": "8",
                                    "Raktárkód + m.e.": "Összesen",
                                    "Darabszám": "500"
                                },
                                {
                                    "Kategóriaazon": "66",
                                    "Raktárkód": "9",
                                    "Raktárkód + m.e.": "9 db",
                                    "Darabszám": "100"
                                },
                                {
                                    "Kategóriaazon": "66",
                                    "Raktárkód": "9",
                                    "Raktárkód + m.e.": "Összesen",
                                    "Darabszám": "100"
                                },
                                {
                                    "Kategóriaazon": "66",
                                    "Raktárkód": "Összesen",
                                    "Raktárkód + m.e.": "Összesen",
                                    "Darabszám": "1900"
                                },
                                {
                                    "Kategóriaazon": "67",
                                    "Raktárkód": "7",
                                    "Raktárkód + m.e.": "7 db",
                                    "Darabszám": "300"
                                },
                                {
                                    "Kategóriaazon": "67",
                                    "Raktárkód": "7",
                                    "Raktárkód + m.e.": "Összesen",
                                    "Darabszám": "300"
                                },
                                {
                                    "Kategóriaazon": "67",
                                    "Raktárkód": "8",
                                    "Raktárkód + m.e.": "8 db",
                                    "Darabszám": "300"
                                },
                                {
                                    "Kategóriaazon": "67",
                                    "Raktárkód": "8",
                                    "Raktárkód + m.e.": "Összesen",
                                    "Darabszám": "300"
                                },
                                {
                                    "Kategóriaazon": "67",
                                    "Raktárkód": "Összesen",
                                    "Raktárkód + m.e.": "Összesen",
                                    "Darabszám": "600"
                                },
                                {
                                    "Kategóriaazon": "68",
                                    "Raktárkód": "5",
                                    "Raktárkód + m.e.": "5 db",
                                    "Darabszám": "300"
                                },
                                {
                                    "Kategóriaazon": "68",
                                    "Raktárkód": "5",
                                    "Raktárkód + m.e.": "Összesen",
                                    "Darabszám": "300"
                                },
                                {
                                    "Kategóriaazon": "68",
                                    "Raktárkód": "Összesen",
                                    "Raktárkód + m.e.": "Összesen",
                                    "Darabszám": "300"
                                },
                                {
                                    "Kategóriaazon": "70",
                                    "Raktárkód": "6",
                                    "Raktárkód + m.e.": "6 db",
                                    "Darabszám": "1500"
                                },
                                {
                                    "Kategóriaazon": "70",
                                    "Raktárkód": "6",
                                    "Raktárkód + m.e.": "Összesen",
                                    "Darabszám": "1500"
                                },
                                {
                                    "Kategóriaazon": "70",
                                    "Raktárkód": "8",
                                    "Raktárkód + m.e.": "8 db",
                                    "Darabszám": "600"
                                },
                                {
                                    "Kategóriaazon": "70",
                                    "Raktárkód": "8",
                                    "Raktárkód + m.e.": "Összesen",
                                    "Darabszám": "600"
                                },
                                {
                                    "Kategóriaazon": "70",
                                    "Raktárkód": "Összesen",
                                    "Raktárkód + m.e.": "Összesen",
                                    "Darabszám": "2100"
                                },
                                {
                                    "Kategóriaazon": "71",
                                    "Raktárkód": "5",
                                    "Raktárkód + m.e.": "5 db",
                                    "Darabszám": "1100"
                                },
                                {
                                    "Kategóriaazon": "71",
                                    "Raktárkód": "5",
                                    "Raktárkód + m.e.": "Összesen",
                                    "Darabszám": "1100"
                                },
                                {
                                    "Kategóriaazon": "71",
                                    "Raktárkód": "9",
                                    "Raktárkód + m.e.": "9 db",
                                    "Darabszám": "700"
                                },
                                {
                                    "Kategóriaazon": "71",
                                    "Raktárkód": "9",
                                    "Raktárkód + m.e.": "Összesen",
                                    "Darabszám": "700"
                                },
                                {
                                    "Kategóriaazon": "71",
                                    "Raktárkód": "Összesen",
                                    "Raktárkód + m.e.": "Összesen",
                                    "Darabszám": "1800"
                                },
                                {
                                    "Kategóriaazon": "72",
                                    "Raktárkód": "6",
                                    "Raktárkód + m.e.": "6 db",
                                    "Darabszám": "2500"
                                },
                                {
                                    "Kategóriaazon": "72",
                                    "Raktárkód": "6",
                                    "Raktárkód + m.e.": "Összesen",
                                    "Darabszám": "2500"
                                },
                                {
                                    "Kategóriaazon": "72",
                                    "Raktárkód": "7",
                                    "Raktárkód + m.e.": "7 db",
                                    "Darabszám": "600"
                                },
                                {
                                    "Kategóriaazon": "72",
                                    "Raktárkód": "7",
                                    "Raktárkód + m.e.": "Összesen",
                                    "Darabszám": "600"
                                },
                                {
                                    "Kategóriaazon": "72",
                                    "Raktárkód": "Összesen",
                                    "Raktárkód + m.e.": "Összesen",
                                    "Darabszám": "3100"
                                },
                                {
                                    "Kategóriaazon": "73",
                                    "Raktárkód": "7",
                                    "Raktárkód + m.e.": "7 db",
                                    "Darabszám": "800"
                                },
                                {
                                    "Kategóriaazon": "73",
                                    "Raktárkód": "7",
                                    "Raktárkód + m.e.": "Összesen",
                                    "Darabszám": "800"
                                },
                                {
                                    "Kategóriaazon": "73",
                                    "Raktárkód": "8",
                                    "Raktárkód + m.e.": "8 db",
                                    "Darabszám": "200"
                                },
                                {
                                    "Kategóriaazon": "73",
                                    "Raktárkód": "8",
                                    "Raktárkód + m.e.": "Összesen",
                                    "Darabszám": "200"
                                },
                                {
                                    "Kategóriaazon": "73",
                                    "Raktárkód": "Összesen",
                                    "Raktárkód + m.e.": "Összesen",
                                    "Darabszám": "1000"
                                },
                                {
                                    "Kategóriaazon": "74",
                                    "Raktárkód": "5",
                                    "Raktárkód + m.e.": "5 db",
                                    "Darabszám": "300"
                                },
                                {
                                    "Kategóriaazon": "74",
                                    "Raktárkód": "5",
                                    "Raktárkód + m.e.": "Összesen",
                                    "Darabszám": "300"
                                },
                                {
                                    "Kategóriaazon": "74",
                                    "Raktárkód": "Összesen",
                                    "Raktárkód + m.e.": "Összesen",
                                    "Darabszám": "300"
                                },
                                {
                                    "Kategóriaazon": "75",
                                    "Raktárkód": "8",
                                    "Raktárkód + m.e.": "8 db",
                                    "Darabszám": "500"
                                },
                                {
                                    "Kategóriaazon": "75",
                                    "Raktárkód": "8",
                                    "Raktárkód + m.e.": "Összesen",
                                    "Darabszám": "500"
                                },
                                {
                                    "Kategóriaazon": "75",
                                    "Raktárkód": "Összesen",
                                    "Raktárkód + m.e.": "Összesen",
                                    "Darabszám": "500"
                                },
                                {
                                    "Kategóriaazon": "76",
                                    "Raktárkód": "5",
                                    "Raktárkód + m.e.": "5 db",
                                    "Darabszám": "400"
                                },
                                {
                                    "Kategóriaazon": "76",
                                    "Raktárkód": "5",
                                    "Raktárkód + m.e.": "Összesen",
                                    "Darabszám": "400"
                                },
                                {
                                    "Kategóriaazon": "76",
                                    "Raktárkód": "6",
                                    "Raktárkód + m.e.": "6 db",
                                    "Darabszám": "500"
                                },
                                {
                                    "Kategóriaazon": "76",
                                    "Raktárkód": "6",
                                    "Raktárkód + m.e.": "Összesen",
                                    "Darabszám": "500"
                                },
                                {
                                    "Kategóriaazon": "76",
                                    "Raktárkód": "7",
                                    "Raktárkód + m.e.": "7 db",
                                    "Darabszám": "200"
                                },
                                {
                                    "Kategóriaazon": "76",
                                    "Raktárkód": "7",
                                    "Raktárkód + m.e.": "Összesen",
                                    "Darabszám": "200"
                                },
                                {
                                    "Kategóriaazon": "76",
                                    "Raktárkód": "Összesen",
                                    "Raktárkód + m.e.": "Összesen",
                                    "Darabszám": "1100"
                                },
                                {
                                    "Kategóriaazon": "78",
                                    "Raktárkód": "5",
                                    "Raktárkód + m.e.": "5 csomag",
                                    "Darabszám": "900"
                                },
                                {
                                    "Kategóriaazon": "78",
                                    "Raktárkód": "5",
                                    "Raktárkód + m.e.": "5 db",
                                    "Darabszám": "1600"
                                },
                                {
                                    "Kategóriaazon": "78",
                                    "Raktárkód": "5",
                                    "Raktárkód + m.e.": "Összesen",
                                    "Darabszám": "2500"
                                },
                                {
                                    "Kategóriaazon": "78",
                                    "Raktárkód": "6",
                                    "Raktárkód + m.e.": "6 csomag",
                                    "Darabszám": "450"
                                },
                                {
                                    "Kategóriaazon": "78",
                                    "Raktárkód": "6",
                                    "Raktárkód + m.e.": "6 db",
                                    "Darabszám": "4400"
                                },
                                {
                                    "Kategóriaazon": "78",
                                    "Raktárkód": "6",
                                    "Raktárkód + m.e.": "Összesen",
                                    "Darabszám": "4850"
                                },
                                {
                                    "Kategóriaazon": "78",
                                    "Raktárkód": "7",
                                    "Raktárkód + m.e.": "7 csomag",
                                    "Darabszám": "900"
                                },
                                {
                                    "Kategóriaazon": "78",
                                    "Raktárkód": "7",
                                    "Raktárkód + m.e.": "7 db",
                                    "Darabszám": "5200"
                                },
                                {
                                    "Kategóriaazon": "78",
                                    "Raktárkód": "7",
                                    "Raktárkód + m.e.": "Összesen",
                                    "Darabszám": "6100"
                                },
                                {
                                    "Kategóriaazon": "78",
                                    "Raktárkód": "8",
                                    "Raktárkód + m.e.": "8 db",
                                    "Darabszám": "5600"
                                },
                                {
                                    "Kategóriaazon": "78",
                                    "Raktárkód": "8",
                                    "Raktárkód + m.e.": "Összesen",
                                    "Darabszám": "5600"
                                },
                                {
                                    "Kategóriaazon": "78",
                                    "Raktárkód": "9",
                                    "Raktárkód + m.e.": "9 db",
                                    "Darabszám": "200"
                                },
                                {
                                    "Kategóriaazon": "78",
                                    "Raktárkód": "9",
                                    "Raktárkód + m.e.": "Összesen",
                                    "Darabszám": "200"
                                },
                                {
                                    "Kategóriaazon": "78",
                                    "Raktárkód": "Összesen",
                                    "Raktárkód + m.e.": "Összesen",
                                    "Darabszám": "19250"
                                },
                                {
                                    "Kategóriaazon": "79",
                                    "Raktárkód": "7",
                                    "Raktárkód + m.e.": "7 db",
                                    "Darabszám": "1400"
                                },
                                {
                                    "Kategóriaazon": "79",
                                    "Raktárkód": "7",
                                    "Raktárkód + m.e.": "Összesen",
                                    "Darabszám": "1400"
                                },
                                {
                                    "Kategóriaazon": "79",
                                    "Raktárkód": "Összesen",
                                    "Raktárkód + m.e.": "Összesen",
                                    "Darabszám": "1400"
                                },
                                {
                                    "Kategóriaazon": "80",
                                    "Raktárkód": "5",
                                    "Raktárkód + m.e.": "5 db",
                                    "Darabszám": "800"
                                },
                                {
                                    "Kategóriaazon": "80",
                                    "Raktárkód": "5",
                                    "Raktárkód + m.e.": "Összesen",
                                    "Darabszám": "800"
                                },
                                {
                                    "Kategóriaazon": "80",
                                    "Raktárkód": "Összesen",
                                    "Raktárkód + m.e.": "Összesen",
                                    "Darabszám": "800"
                                },
                                {
                                    "Kategóriaazon": "82",
                                    "Raktárkód": "8",
                                    "Raktárkód + m.e.": "8 db",
                                    "Darabszám": "1300"
                                },
                                {
                                    "Kategóriaazon": "82",
                                    "Raktárkód": "8",
                                    "Raktárkód + m.e.": "Összesen",
                                    "Darabszám": "1300"
                                },
                                {
                                    "Kategóriaazon": "82",
                                    "Raktárkód": "Összesen",
                                    "Raktárkód + m.e.": "Összesen",
                                    "Darabszám": "1300"
                                },
                                {
                                    "Kategóriaazon": "83",
                                    "Raktárkód": "5",
                                    "Raktárkód + m.e.": "5 ív",
                                    "Darabszám": "1000"
                                },
                                {
                                    "Kategóriaazon": "83",
                                    "Raktárkód": "5",
                                    "Raktárkód + m.e.": "Összesen",
                                    "Darabszám": "1000"
                                },
                                {
                                    "Kategóriaazon": "83",
                                    "Raktárkód": "6",
                                    "Raktárkód + m.e.": "6 ív",
                                    "Darabszám": "100"
                                },
                                {
                                    "Kategóriaazon": "83",
                                    "Raktárkód": "6",
                                    "Raktárkód + m.e.": "Összesen",
                                    "Darabszám": "100"
                                },
                                {
                                    "Kategóriaazon": "83",
                                    "Raktárkód": "7",
                                    "Raktárkód + m.e.": "7 ív",
                                    "Darabszám": "3100"
                                },
                                {
                                    "Kategóriaazon": "83",
                                    "Raktárkód": "7",
                                    "Raktárkód + m.e.": "Összesen",
                                    "Darabszám": "3100"
                                },
                                {
                                    "Kategóriaazon": "83",
                                    "Raktárkód": "8",
                                    "Raktárkód + m.e.": "8 ív",
                                    "Darabszám": "100"
                                },
                                {
                                    "Kategóriaazon": "83",
                                    "Raktárkód": "8",
                                    "Raktárkód + m.e.": "Összesen",
                                    "Darabszám": "100"
                                },
                                {
                                    "Kategóriaazon": "83",
                                    "Raktárkód": "9",
                                    "Raktárkód + m.e.": "9 ív",
                                    "Darabszám": "1000"
                                },
                                {
                                    "Kategóriaazon": "83",
                                    "Raktárkód": "9",
                                    "Raktárkód + m.e.": "Összesen",
                                    "Darabszám": "1000"
                                },
                                {
                                    "Kategóriaazon": "83",
                                    "Raktárkód": "Összesen",
                                    "Raktárkód + m.e.": "Összesen",
                                    "Darabszám": "5300"
                                },
                                {
                                    "Kategóriaazon": "84",
                                    "Raktárkód": "6",
                                    "Raktárkód + m.e.": "6 db",
                                    "Darabszám": "2800"
                                },
                                {
                                    "Kategóriaazon": "84",
                                    "Raktárkód": "6",
                                    "Raktárkód + m.e.": "Összesen",
                                    "Darabszám": "2800"
                                },
                                {
                                    "Kategóriaazon": "84",
                                    "Raktárkód": "Összesen",
                                    "Raktárkód + m.e.": "Összesen",
                                    "Darabszám": "2800"
                                },
                                {
                                    "Kategóriaazon": "85",
                                    "Raktárkód": "5",
                                    "Raktárkód + m.e.": "5 db",
                                    "Darabszám": "4000"
                                },
                                {
                                    "Kategóriaazon": "85",
                                    "Raktárkód": "5",
                                    "Raktárkód + m.e.": "Összesen",
                                    "Darabszám": "4000"
                                },
                                {
                                    "Kategóriaazon": "85",
                                    "Raktárkód": "6",
                                    "Raktárkód + m.e.": "6 db",
                                    "Darabszám": "11100"
                                },
                                {
                                    "Kategóriaazon": "85",
                                    "Raktárkód": "6",
                                    "Raktárkód + m.e.": "Összesen",
                                    "Darabszám": "11100"
                                },
                                {
                                    "Kategóriaazon": "85",
                                    "Raktárkód": "7",
                                    "Raktárkód + m.e.": "7 db",
                                    "Darabszám": "2500"
                                },
                                {
                                    "Kategóriaazon": "85",
                                    "Raktárkód": "7",
                                    "Raktárkód + m.e.": "Összesen",
                                    "Darabszám": "2500"
                                },
                                {
                                    "Kategóriaazon": "85",
                                    "Raktárkód": "8",
                                    "Raktárkód + m.e.": "8 db",
                                    "Darabszám": "5500"
                                },
                                {
                                    "Kategóriaazon": "85",
                                    "Raktárkód": "8",
                                    "Raktárkód + m.e.": "Összesen",
                                    "Darabszám": "5500"
                                },
                                {
                                    "Kategóriaazon": "85",
                                    "Raktárkód": "9",
                                    "Raktárkód + m.e.": "9 db",
                                    "Darabszám": "1400"
                                },
                                {
                                    "Kategóriaazon": "85",
                                    "Raktárkód": "9",
                                    "Raktárkód + m.e.": "Összesen",
                                    "Darabszám": "1400"
                                },
                                {
                                    "Kategóriaazon": "85",
                                    "Raktárkód": "Összesen",
                                    "Raktárkód + m.e.": "Összesen",
                                    "Darabszám": "24500"
                                },
                                {
                                    "Kategóriaazon": "86",
                                    "Raktárkód": "7",
                                    "Raktárkód + m.e.": "7 db",
                                    "Darabszám": "1000"
                                },
                                {
                                    "Kategóriaazon": "86",
                                    "Raktárkód": "7",
                                    "Raktárkód + m.e.": "Összesen",
                                    "Darabszám": "1000"
                                },
                                {
                                    "Kategóriaazon": "86",
                                    "Raktárkód": "Összesen",
                                    "Raktárkód + m.e.": "Összesen",
                                    "Darabszám": "1000"
                                },
                                {
                                    "Kategóriaazon": "88",
                                    "Raktárkód": "2",
                                    "Raktárkód + m.e.": "2 db",
                                    "Darabszám": "238"
                                },
                                {
                                    "Kategóriaazon": "88",
                                    "Raktárkód": "2",
                                    "Raktárkód + m.e.": "Összesen",
                                    "Darabszám": "238"
                                },
                                {
                                    "Kategóriaazon": "88",
                                    "Raktárkód": "3",
                                    "Raktárkód + m.e.": "3 db",
                                    "Darabszám": "369"
                                },
                                {
                                    "Kategóriaazon": "88",
                                    "Raktárkód": "3",
                                    "Raktárkód + m.e.": "Összesen",
                                    "Darabszám": "369"
                                },
                                {
                                    "Kategóriaazon": "88",
                                    "Raktárkód": "Összesen",
                                    "Raktárkód + m.e.": "Összesen",
                                    "Darabszám": "607"
                                },
                                {
                                    "Kategóriaazon": "89",
                                    "Raktárkód": "5",
                                    "Raktárkód + m.e.": "5 db",
                                    "Darabszám": "100"
                                },
                                {
                                    "Kategóriaazon": "89",
                                    "Raktárkód": "5",
                                    "Raktárkód + m.e.": "Összesen",
                                    "Darabszám": "100"
                                },
                                {
                                    "Kategóriaazon": "89",
                                    "Raktárkód": "6",
                                    "Raktárkód + m.e.": "6 db",
                                    "Darabszám": "300"
                                },
                                {
                                    "Kategóriaazon": "89",
                                    "Raktárkód": "6",
                                    "Raktárkód + m.e.": "Összesen",
                                    "Darabszám": "300"
                                },
                                {
                                    "Kategóriaazon": "89",
                                    "Raktárkód": "8",
                                    "Raktárkód + m.e.": "8 db",
                                    "Darabszám": "2200"
                                },
                                {
                                    "Kategóriaazon": "89",
                                    "Raktárkód": "8",
                                    "Raktárkód + m.e.": "Összesen",
                                    "Darabszám": "2200"
                                },
                                {
                                    "Kategóriaazon": "89",
                                    "Raktárkód": "Összesen",
                                    "Raktárkód + m.e.": "Összesen",
                                    "Darabszám": "2600"
                                },
                                {
                                    "Kategóriaazon": "90",
                                    "Raktárkód": "5",
                                    "Raktárkód + m.e.": "5 ív",
                                    "Darabszám": "200"
                                },
                                {
                                    "Kategóriaazon": "90",
                                    "Raktárkód": "5",
                                    "Raktárkód + m.e.": "Összesen",
                                    "Darabszám": "200"
                                },
                                {
                                    "Kategóriaazon": "90",
                                    "Raktárkód": "8",
                                    "Raktárkód + m.e.": "8 Ív",
                                    "Darabszám": "100"
                                },
                                {
                                    "Kategóriaazon": "90",
                                    "Raktárkód": "8",
                                    "Raktárkód + m.e.": "Összesen",
                                    "Darabszám": "100"
                                },
                                {
                                    "Kategóriaazon": "90",
                                    "Raktárkód": "Összesen",
                                    "Raktárkód + m.e.": "Összesen",
                                    "Darabszám": "300"
                                },
                                {
                                    "Kategóriaazon": "91",
                                    "Raktárkód": "8",
                                    "Raktárkód + m.e.": "8 db",
                                    "Darabszám": "9400"
                                },
                                {
                                    "Kategóriaazon": "91",
                                    "Raktárkód": "8",
                                    "Raktárkód + m.e.": "Összesen",
                                    "Darabszám": "9400"
                                },
                                {
                                    "Kategóriaazon": "91",
                                    "Raktárkód": "9",
                                    "Raktárkód + m.e.": "9 db",
                                    "Darabszám": "5310"
                                },
                                {
                                    "Kategóriaazon": "91",
                                    "Raktárkód": "9",
                                    "Raktárkód + m.e.": "Összesen",
                                    "Darabszám": "5310"
                                },
                                {
                                    "Kategóriaazon": "91",
                                    "Raktárkód": "Összesen",
                                    "Raktárkód + m.e.": "Összesen",
                                    "Darabszám": "14710"
                                },
                                {
                                    "Kategóriaazon": "92",
                                    "Raktárkód": "7",
                                    "Raktárkód + m.e.": "7 db",
                                    "Darabszám": "500"
                                },
                                {
                                    "Kategóriaazon": "92",
                                    "Raktárkód": "7",
                                    "Raktárkód + m.e.": "Összesen",
                                    "Darabszám": "500"
                                },
                                {
                                    "Kategóriaazon": "92",
                                    "Raktárkód": "8",
                                    "Raktárkód + m.e.": "8 db",
                                    "Darabszám": "600"
                                },
                                {
                                    "Kategóriaazon": "92",
                                    "Raktárkód": "8",
                                    "Raktárkód + m.e.": "Összesen",
                                    "Darabszám": "600"
                                },
                                {
                                    "Kategóriaazon": "92",
                                    "Raktárkód": "Összesen",
                                    "Raktárkód + m.e.": "Összesen",
                                    "Darabszám": "1100"
                                },
                                {
                                    "Kategóriaazon": "93",
                                    "Raktárkód": "6",
                                    "Raktárkód + m.e.": "6 csomag",
                                    "Darabszám": "1600"
                                },
                                {
                                    "Kategóriaazon": "93",
                                    "Raktárkód": "6",
                                    "Raktárkód + m.e.": "6 db",
                                    "Darabszám": "2100"
                                },
                                {
                                    "Kategóriaazon": "93",
                                    "Raktárkód": "6",
                                    "Raktárkód + m.e.": "Összesen",
                                    "Darabszám": "3700"
                                },
                                {
                                    "Kategóriaazon": "93",
                                    "Raktárkód": "7",
                                    "Raktárkód + m.e.": "7 db",
                                    "Darabszám": "1800"
                                },
                                {
                                    "Kategóriaazon": "93",
                                    "Raktárkód": "7",
                                    "Raktárkód + m.e.": "Összesen",
                                    "Darabszám": "1800"
                                },
                                {
                                    "Kategóriaazon": "93",
                                    "Raktárkód": "Összesen",
                                    "Raktárkód + m.e.": "Összesen",
                                    "Darabszám": "5500"
                                },
                                {
                                    "Kategóriaazon": "94",
                                    "Raktárkód": "6",
                                    "Raktárkód + m.e.": "6 db",
                                    "Darabszám": "1300"
                                },
                                {
                                    "Kategóriaazon": "94",
                                    "Raktárkód": "6",
                                    "Raktárkód + m.e.": "Összesen",
                                    "Darabszám": "1300"
                                },
                                {
                                    "Kategóriaazon": "94",
                                    "Raktárkód": "7",
                                    "Raktárkód + m.e.": "7 db",
                                    "Darabszám": "3000"
                                },
                                {
                                    "Kategóriaazon": "94",
                                    "Raktárkód": "7",
                                    "Raktárkód + m.e.": "Összesen",
                                    "Darabszám": "3000"
                                },
                                {
                                    "Kategóriaazon": "94",
                                    "Raktárkód": "Összesen",
                                    "Raktárkód + m.e.": "Összesen",
                                    "Darabszám": "4300"
                                },
                                {
                                    "Kategóriaazon": "95",
                                    "Raktárkód": "7",
                                    "Raktárkód + m.e.": "7 db",
                                    "Darabszám": "600"
                                },
                                {
                                    "Kategóriaazon": "95",
                                    "Raktárkód": "7",
                                    "Raktárkód + m.e.": "Összesen",
                                    "Darabszám": "600"
                                },
                                {
                                    "Kategóriaazon": "95",
                                    "Raktárkód": "9",
                                    "Raktárkód + m.e.": "9 db",
                                    "Darabszám": "400"
                                },
                                {
                                    "Kategóriaazon": "95",
                                    "Raktárkód": "9",
                                    "Raktárkód + m.e.": "Összesen",
                                    "Darabszám": "400"
                                },
                                {
                                    "Kategóriaazon": "95",
                                    "Raktárkód": "Összesen",
                                    "Raktárkód + m.e.": "Összesen",
                                    "Darabszám": "1000"
                                },
                                {
                                    "Kategóriaazon": "96",
                                    "Raktárkód": "6",
                                    "Raktárkód + m.e.": "6 db",
                                    "Darabszám": "7200"
                                },
                                {
                                    "Kategóriaazon": "96",
                                    "Raktárkód": "6",
                                    "Raktárkód + m.e.": "Összesen",
                                    "Darabszám": "7200"
                                },
                                {
                                    "Kategóriaazon": "96",
                                    "Raktárkód": "7",
                                    "Raktárkód + m.e.": "7 db",
                                    "Darabszám": "3800"
                                },
                                {
                                    "Kategóriaazon": "96",
                                    "Raktárkód": "7",
                                    "Raktárkód + m.e.": "Összesen",
                                    "Darabszám": "3800"
                                },
                                {
                                    "Kategóriaazon": "96",
                                    "Raktárkód": "8",
                                    "Raktárkód + m.e.": "8 db",
                                    "Darabszám": "1100"
                                },
                                {
                                    "Kategóriaazon": "96",
                                    "Raktárkód": "8",
                                    "Raktárkód + m.e.": "Összesen",
                                    "Darabszám": "1100"
                                },
                                {
                                    "Kategóriaazon": "96",
                                    "Raktárkód": "9",
                                    "Raktárkód + m.e.": "9 db",
                                    "Darabszám": "11000"
                                },
                                {
                                    "Kategóriaazon": "96",
                                    "Raktárkód": "9",
                                    "Raktárkód + m.e.": "Összesen",
                                    "Darabszám": "11000"
                                },
                                {
                                    "Kategóriaazon": "96",
                                    "Raktárkód": "Összesen",
                                    "Raktárkód + m.e.": "Összesen",
                                    "Darabszám": "23100"
                                },
                                {
                                    "Kategóriaazon": "97",
                                    "Raktárkód": "5",
                                    "Raktárkód + m.e.": "5 db",
                                    "Darabszám": "6800"
                                },
                                {
                                    "Kategóriaazon": "97",
                                    "Raktárkód": "5",
                                    "Raktárkód + m.e.": "Összesen",
                                    "Darabszám": "6800"
                                },
                                {
                                    "Kategóriaazon": "97",
                                    "Raktárkód": "6",
                                    "Raktárkód + m.e.": "6 db",
                                    "Darabszám": "900"
                                },
                                {
                                    "Kategóriaazon": "97",
                                    "Raktárkód": "6",
                                    "Raktárkód + m.e.": "Összesen",
                                    "Darabszám": "900"
                                },
                                {
                                    "Kategóriaazon": "97",
                                    "Raktárkód": "7",
                                    "Raktárkód + m.e.": "7 db",
                                    "Darabszám": "700"
                                },
                                {
                                    "Kategóriaazon": "97",
                                    "Raktárkód": "7",
                                    "Raktárkód + m.e.": "Összesen",
                                    "Darabszám": "700"
                                },
                                {
                                    "Kategóriaazon": "97",
                                    "Raktárkód": "8",
                                    "Raktárkód + m.e.": "8 db",
                                    "Darabszám": "500"
                                },
                                {
                                    "Kategóriaazon": "97",
                                    "Raktárkód": "8",
                                    "Raktárkód + m.e.": "Összesen",
                                    "Darabszám": "500"
                                },
                                {
                                    "Kategóriaazon": "97",
                                    "Raktárkód": "9",
                                    "Raktárkód + m.e.": "9 db",
                                    "Darabszám": "1000"
                                },
                                {
                                    "Kategóriaazon": "97",
                                    "Raktárkód": "9",
                                    "Raktárkód + m.e.": "Összesen",
                                    "Darabszám": "1000"
                                },
                                {
                                    "Kategóriaazon": "97",
                                    "Raktárkód": "Összesen",
                                    "Raktárkód + m.e.": "Összesen",
                                    "Darabszám": "9900"
                                },
                                {
                                    "Kategóriaazon": "98",
                                    "Raktárkód": "5",
                                    "Raktárkód + m.e.": "5 db",
                                    "Darabszám": "200"
                                },
                                {
                                    "Kategóriaazon": "98",
                                    "Raktárkód": "5",
                                    "Raktárkód + m.e.": "Összesen",
                                    "Darabszám": "200"
                                },
                                {
                                    "Kategóriaazon": "98",
                                    "Raktárkód": "6",
                                    "Raktárkód + m.e.": "6 db",
                                    "Darabszám": "400"
                                },
                                {
                                    "Kategóriaazon": "98",
                                    "Raktárkód": "6",
                                    "Raktárkód + m.e.": "Összesen",
                                    "Darabszám": "400"
                                },
                                {
                                    "Kategóriaazon": "98",
                                    "Raktárkód": "9",
                                    "Raktárkód + m.e.": "9 db",
                                    "Darabszám": "100"
                                },
                                {
                                    "Kategóriaazon": "98",
                                    "Raktárkód": "9",
                                    "Raktárkód + m.e.": "Összesen",
                                    "Darabszám": "100"
                                },
                                {
                                    "Kategóriaazon": "98",
                                    "Raktárkód": "Összesen",
                                    "Raktárkód + m.e.": "Összesen",
                                    "Darabszám": "700"
                                },
                                {
                                    "Kategóriaazon": "99",
                                    "Raktárkód": "6",
                                    "Raktárkód + m.e.": "6 db",
                                    "Darabszám": "400"
                                },
                                {
                                    "Kategóriaazon": "99",
                                    "Raktárkód": "6",
                                    "Raktárkód + m.e.": "Összesen",
                                    "Darabszám": "400"
                                },
                                {
                                    "Kategóriaazon": "99",
                                    "Raktárkód": "Összesen",
                                    "Raktárkód + m.e.": "Összesen",
                                    "Darabszám": "400"
                                },
                                {
                                    "Kategóriaazon": "100",
                                    "Raktárkód": "5",
                                    "Raktárkód + m.e.": "5 db",
                                    "Darabszám": "9500"
                                },
                                {
                                    "Kategóriaazon": "100",
                                    "Raktárkód": "5",
                                    "Raktárkód + m.e.": "Összesen",
                                    "Darabszám": "9500"
                                },
                                {
                                    "Kategóriaazon": "100",
                                    "Raktárkód": "6",
                                    "Raktárkód + m.e.": "6 db",
                                    "Darabszám": "5600"
                                },
                                {
                                    "Kategóriaazon": "100",
                                    "Raktárkód": "6",
                                    "Raktárkód + m.e.": "Összesen",
                                    "Darabszám": "5600"
                                },
                                {
                                    "Kategóriaazon": "100",
                                    "Raktárkód": "7",
                                    "Raktárkód + m.e.": "7 db",
                                    "Darabszám": "500"
                                },
                                {
                                    "Kategóriaazon": "100",
                                    "Raktárkód": "7",
                                    "Raktárkód + m.e.": "Összesen",
                                    "Darabszám": "500"
                                },
                                {
                                    "Kategóriaazon": "100",
                                    "Raktárkód": "8",
                                    "Raktárkód + m.e.": "8 db",
                                    "Darabszám": "900"
                                },
                                {
                                    "Kategóriaazon": "100",
                                    "Raktárkód": "8",
                                    "Raktárkód + m.e.": "Összesen",
                                    "Darabszám": "900"
                                },
                                {
                                    "Kategóriaazon": "100",
                                    "Raktárkód": "9",
                                    "Raktárkód + m.e.": "9 db",
                                    "Darabszám": "2000"
                                },
                                {
                                    "Kategóriaazon": "100",
                                    "Raktárkód": "9",
                                    "Raktárkód + m.e.": "Összesen",
                                    "Darabszám": "2000"
                                },
                                {
                                    "Kategóriaazon": "100",
                                    "Raktárkód": "Összesen",
                                    "Raktárkód + m.e.": "Összesen",
                                    "Darabszám": "18500"
                                },
                                {
                                    "Kategóriaazon": "101",
                                    "Raktárkód": "8",
                                    "Raktárkód + m.e.": "8 ív",
                                    "Darabszám": "1800"
                                },
                                {
                                    "Kategóriaazon": "101",
                                    "Raktárkód": "8",
                                    "Raktárkód + m.e.": "Összesen",
                                    "Darabszám": "1800"
                                },
                                {
                                    "Kategóriaazon": "101",
                                    "Raktárkód": "Összesen",
                                    "Raktárkód + m.e.": "Összesen",
                                    "Darabszám": "1800"
                                },
                                {
                                    "Kategóriaazon": "103",
                                    "Raktárkód": "8",
                                    "Raktárkód + m.e.": "8 db",
                                    "Darabszám": "300"
                                },
                                {
                                    "Kategóriaazon": "103",
                                    "Raktárkód": "8",
                                    "Raktárkód + m.e.": "Összesen",
                                    "Darabszám": "300"
                                },
                                {
                                    "Kategóriaazon": "103",
                                    "Raktárkód": "Összesen",
                                    "Raktárkód + m.e.": "Összesen",
                                    "Darabszám": "300"
                                },
                                {
                                    "Kategóriaazon": "104",
                                    "Raktárkód": "8",
                                    "Raktárkód + m.e.": "8 db",
                                    "Darabszám": "1400"
                                },
                                {
                                    "Kategóriaazon": "104",
                                    "Raktárkód": "8",
                                    "Raktárkód + m.e.": "Összesen",
                                    "Darabszám": "1400"
                                },
                                {
                                    "Kategóriaazon": "104",
                                    "Raktárkód": "9",
                                    "Raktárkód + m.e.": "9 db",
                                    "Darabszám": "6900"
                                },
                                {
                                    "Kategóriaazon": "104",
                                    "Raktárkód": "9",
                                    "Raktárkód + m.e.": "Összesen",
                                    "Darabszám": "6900"
                                },
                                {
                                    "Kategóriaazon": "104",
                                    "Raktárkód": "Összesen",
                                    "Raktárkód + m.e.": "Összesen",
                                    "Darabszám": "8300"
                                },
                                {
                                    "Kategóriaazon": "105",
                                    "Raktárkód": "9",
                                    "Raktárkód + m.e.": "9 db",
                                    "Darabszám": "9000"
                                },
                                {
                                    "Kategóriaazon": "105",
                                    "Raktárkód": "9",
                                    "Raktárkód + m.e.": "Összesen",
                                    "Darabszám": "9000"
                                },
                                {
                                    "Kategóriaazon": "105",
                                    "Raktárkód": "Összesen",
                                    "Raktárkód + m.e.": "Összesen",
                                    "Darabszám": "9000"
                                },
                                {
                                    "Kategóriaazon": "106",
                                    "Raktárkód": "5",
                                    "Raktárkód + m.e.": "5 db",
                                    "Darabszám": "300"
                                },
                                {
                                    "Kategóriaazon": "106",
                                    "Raktárkód": "5",
                                    "Raktárkód + m.e.": "Összesen",
                                    "Darabszám": "300"
                                },
                                {
                                    "Kategóriaazon": "106",
                                    "Raktárkód": "6",
                                    "Raktárkód + m.e.": "6 db",
                                    "Darabszám": "2300"
                                },
                                {
                                    "Kategóriaazon": "106",
                                    "Raktárkód": "6",
                                    "Raktárkód + m.e.": "Összesen",
                                    "Darabszám": "2300"
                                },
                                {
                                    "Kategóriaazon": "106",
                                    "Raktárkód": "9",
                                    "Raktárkód + m.e.": "9 db",
                                    "Darabszám": "6000"
                                },
                                {
                                    "Kategóriaazon": "106",
                                    "Raktárkód": "9",
                                    "Raktárkód + m.e.": "Összesen",
                                    "Darabszám": "6000"
                                },
                                {
                                    "Kategóriaazon": "106",
                                    "Raktárkód": "Összesen",
                                    "Raktárkód + m.e.": "Összesen",
                                    "Darabszám": "8600"
                                },
                                {
                                    "Kategóriaazon": "107",
                                    "Raktárkód": "1",
                                    "Raktárkód + m.e.": "1 db",
                                    "Darabszám": "77"
                                },
                                {
                                    "Kategóriaazon": "107",
                                    "Raktárkód": "1",
                                    "Raktárkód + m.e.": "Összesen",
                                    "Darabszám": "77"
                                },
                                {
                                    "Kategóriaazon": "107",
                                    "Raktárkód": "Összesen",
                                    "Raktárkód + m.e.": "Összesen",
                                    "Darabszám": "77"
                                },
                                {
                                    "Kategóriaazon": "108",
                                    "Raktárkód": "2",
                                    "Raktárkód + m.e.": "2 db",
                                    "Darabszám": "289"
                                },
                                {
                                    "Kategóriaazon": "108",
                                    "Raktárkód": "2",
                                    "Raktárkód + m.e.": "Összesen",
                                    "Darabszám": "289"
                                },
                                {
                                    "Kategóriaazon": "108",
                                    "Raktárkód": "Összesen",
                                    "Raktárkód + m.e.": "Összesen",
                                    "Darabszám": "289"
                                },
                                {
                                    "Kategóriaazon": "109",
                                    "Raktárkód": "7",
                                    "Raktárkód + m.e.": "7 ív",
                                    "Darabszám": "1000"
                                },
                                {
                                    "Kategóriaazon": "109",
                                    "Raktárkód": "7",
                                    "Raktárkód + m.e.": "Összesen",
                                    "Darabszám": "1000"
                                },
                                {
                                    "Kategóriaazon": "109",
                                    "Raktárkód": "Összesen",
                                    "Raktárkód + m.e.": "Összesen",
                                    "Darabszám": "1000"
                                },
                                {
                                    "Kategóriaazon": "110",
                                    "Raktárkód": "9",
                                    "Raktárkód + m.e.": "9 db",
                                    "Darabszám": "6800"
                                },
                                {
                                    "Kategóriaazon": "110",
                                    "Raktárkód": "9",
                                    "Raktárkód + m.e.": "Összesen",
                                    "Darabszám": "6800"
                                },
                                {
                                    "Kategóriaazon": "110",
                                    "Raktárkód": "Összesen",
                                    "Raktárkód + m.e.": "Összesen",
                                    "Darabszám": "6800"
                                },
                                {
                                    "Kategóriaazon": "111",
                                    "Raktárkód": "5",
                                    "Raktárkód + m.e.": "5 db",
                                    "Darabszám": "400"
                                },
                                {
                                    "Kategóriaazon": "111",
                                    "Raktárkód": "5",
                                    "Raktárkód + m.e.": "Összesen",
                                    "Darabszám": "400"
                                },
                                {
                                    "Kategóriaazon": "111",
                                    "Raktárkód": "7",
                                    "Raktárkód + m.e.": "7 db",
                                    "Darabszám": "100"
                                },
                                {
                                    "Kategóriaazon": "111",
                                    "Raktárkód": "7",
                                    "Raktárkód + m.e.": "Összesen",
                                    "Darabszám": "100"
                                },
                                {
                                    "Kategóriaazon": "111",
                                    "Raktárkód": "8",
                                    "Raktárkód + m.e.": "8 db",
                                    "Darabszám": "100"
                                },
                                {
                                    "Kategóriaazon": "111",
                                    "Raktárkód": "8",
                                    "Raktárkód + m.e.": "Összesen",
                                    "Darabszám": "100"
                                },
                                {
                                    "Kategóriaazon": "111",
                                    "Raktárkód": "Összesen",
                                    "Raktárkód + m.e.": "Összesen",
                                    "Darabszám": "600"
                                },
                                {
                                    "Kategóriaazon": "112",
                                    "Raktárkód": "5",
                                    "Raktárkód + m.e.": "5 doboz",
                                    "Darabszám": "100"
                                },
                                {
                                    "Kategóriaazon": "112",
                                    "Raktárkód": "5",
                                    "Raktárkód + m.e.": "Összesen",
                                    "Darabszám": "100"
                                },
                                {
                                    "Kategóriaazon": "112",
                                    "Raktárkód": "8",
                                    "Raktárkód + m.e.": "8 db",
                                    "Darabszám": "1100"
                                },
                                {
                                    "Kategóriaazon": "112",
                                    "Raktárkód": "8",
                                    "Raktárkód + m.e.": "Összesen",
                                    "Darabszám": "1100"
                                },
                                {
                                    "Kategóriaazon": "112",
                                    "Raktárkód": "Összesen",
                                    "Raktárkód + m.e.": "Összesen",
                                    "Darabszám": "1200"
                                },
                                {
                                    "Kategóriaazon": "114",
                                    "Raktárkód": "8",
                                    "Raktárkód + m.e.": "8 csomag",
                                    "Darabszám": "5000"
                                },
                                {
                                    "Kategóriaazon": "114",
                                    "Raktárkód": "8",
                                    "Raktárkód + m.e.": "Összesen",
                                    "Darabszám": "5000"
                                },
                                {
                                    "Kategóriaazon": "114",
                                    "Raktárkód": "Összesen",
                                    "Raktárkód + m.e.": "Összesen",
                                    "Darabszám": "5000"
                                },
                                {
                                    "Kategóriaazon": "115",
                                    "Raktárkód": "8",
                                    "Raktárkód + m.e.": "8 ív",
                                    "Darabszám": "200"
                                },
                                {
                                    "Kategóriaazon": "115",
                                    "Raktárkód": "8",
                                    "Raktárkód + m.e.": "Összesen",
                                    "Darabszám": "200"
                                },
                                {
                                    "Kategóriaazon": "115",
                                    "Raktárkód": "Összesen",
                                    "Raktárkód + m.e.": "Összesen",
                                    "Darabszám": "200"
                                },
                                {
                                    "Kategóriaazon": "116",
                                    "Raktárkód": "6",
                                    "Raktárkód + m.e.": "6 db",
                                    "Darabszám": "300"
                                },
                                {
                                    "Kategóriaazon": "116",
                                    "Raktárkód": "6",
                                    "Raktárkód + m.e.": "Összesen",
                                    "Darabszám": "300"
                                },
                                {
                                    "Kategóriaazon": "116",
                                    "Raktárkód": "7",
                                    "Raktárkód + m.e.": "7 db",
                                    "Darabszám": "400"
                                },
                                {
                                    "Kategóriaazon": "116",
                                    "Raktárkód": "7",
                                    "Raktárkód + m.e.": "Összesen",
                                    "Darabszám": "400"
                                },
                                {
                                    "Kategóriaazon": "116",
                                    "Raktárkód": "Összesen",
                                    "Raktárkód + m.e.": "Összesen",
                                    "Darabszám": "700"
                                },
                                {
                                    "Kategóriaazon": "117",
                                    "Raktárkód": "6",
                                    "Raktárkód + m.e.": "6 db",
                                    "Darabszám": "100"
                                },
                                {
                                    "Kategóriaazon": "117",
                                    "Raktárkód": "6",
                                    "Raktárkód + m.e.": "Összesen",
                                    "Darabszám": "100"
                                },
                                {
                                    "Kategóriaazon": "117",
                                    "Raktárkód": "9",
                                    "Raktárkód + m.e.": "9 db",
                                    "Darabszám": "300"
                                },
                                {
                                    "Kategóriaazon": "117",
                                    "Raktárkód": "9",
                                    "Raktárkód + m.e.": "Összesen",
                                    "Darabszám": "300"
                                },
                                {
                                    "Kategóriaazon": "117",
                                    "Raktárkód": "Összesen",
                                    "Raktárkód + m.e.": "Összesen",
                                    "Darabszám": "400"
                                },
                                {
                                    "Kategóriaazon": "118",
                                    "Raktárkód": "5",
                                    "Raktárkód + m.e.": "5 db",
                                    "Darabszám": "12000"
                                },
                                {
                                    "Kategóriaazon": "118",
                                    "Raktárkód": "5",
                                    "Raktárkód + m.e.": "Összesen",
                                    "Darabszám": "12000"
                                },
                                {
                                    "Kategóriaazon": "118",
                                    "Raktárkód": "7",
                                    "Raktárkód + m.e.": "7 db",
                                    "Darabszám": "4000"
                                },
                                {
                                    "Kategóriaazon": "118",
                                    "Raktárkód": "7",
                                    "Raktárkód + m.e.": "Összesen",
                                    "Darabszám": "4000"
                                },
                                {
                                    "Kategóriaazon": "118",
                                    "Raktárkód": "8",
                                    "Raktárkód + m.e.": "8 db",
                                    "Darabszám": "59700"
                                },
                                {
                                    "Kategóriaazon": "118",
                                    "Raktárkód": "8",
                                    "Raktárkód + m.e.": "Összesen",
                                    "Darabszám": "59700"
                                },
                                {
                                    "Kategóriaazon": "118",
                                    "Raktárkód": "9",
                                    "Raktárkód + m.e.": "9 db",
                                    "Darabszám": "12500"
                                },
                                {
                                    "Kategóriaazon": "118",
                                    "Raktárkód": "9",
                                    "Raktárkód + m.e.": "Összesen",
                                    "Darabszám": "12500"
                                },
                                {
                                    "Kategóriaazon": "118",
                                    "Raktárkód": "Összesen",
                                    "Raktárkód + m.e.": "Összesen",
                                    "Darabszám": "88200"
                                },
                                {
                                    "Kategóriaazon": "119",
                                    "Raktárkód": "5",
                                    "Raktárkód + m.e.": "5 db",
                                    "Darabszám": "100"
                                },
                                {
                                    "Kategóriaazon": "119",
                                    "Raktárkód": "5",
                                    "Raktárkód + m.e.": "Összesen",
                                    "Darabszám": "100"
                                },
                                {
                                    "Kategóriaazon": "119",
                                    "Raktárkód": "7",
                                    "Raktárkód + m.e.": "7 db",
                                    "Darabszám": "2000"
                                },
                                {
                                    "Kategóriaazon": "119",
                                    "Raktárkód": "7",
                                    "Raktárkód + m.e.": "Összesen",
                                    "Darabszám": "2000"
                                },
                                {
                                    "Kategóriaazon": "119",
                                    "Raktárkód": "9",
                                    "Raktárkód + m.e.": "9 db",
                                    "Darabszám": "500"
                                },
                                {
                                    "Kategóriaazon": "119",
                                    "Raktárkód": "9",
                                    "Raktárkód + m.e.": "Összesen",
                                    "Darabszám": "500"
                                },
                                {
                                    "Kategóriaazon": "119",
                                    "Raktárkód": "Összesen",
                                    "Raktárkód + m.e.": "Összesen",
                                    "Darabszám": "2600"
                                },
                                {
                                    "Kategóriaazon": "121",
                                    "Raktárkód": "7",
                                    "Raktárkód + m.e.": "7 db",
                                    "Darabszám": "1500"
                                },
                                {
                                    "Kategóriaazon": "121",
                                    "Raktárkód": "7",
                                    "Raktárkód + m.e.": "Összesen",
                                    "Darabszám": "1500"
                                },
                                {
                                    "Kategóriaazon": "121",
                                    "Raktárkód": "8",
                                    "Raktárkód + m.e.": "8 db",
                                    "Darabszám": "200"
                                },
                                {
                                    "Kategóriaazon": "121",
                                    "Raktárkód": "8",
                                    "Raktárkód + m.e.": "Összesen",
                                    "Darabszám": "200"
                                },
                                {
                                    "Kategóriaazon": "121",
                                    "Raktárkód": "Összesen",
                                    "Raktárkód + m.e.": "Összesen",
                                    "Darabszám": "1700"
                                },
                                {
                                    "Kategóriaazon": "122",
                                    "Raktárkód": "6",
                                    "Raktárkód + m.e.": "6 db",
                                    "Darabszám": "1700"
                                },
                                {
                                    "Kategóriaazon": "122",
                                    "Raktárkód": "6",
                                    "Raktárkód + m.e.": "Összesen",
                                    "Darabszám": "1700"
                                },
                                {
                                    "Kategóriaazon": "122",
                                    "Raktárkód": "7",
                                    "Raktárkód + m.e.": "7 db",
                                    "Darabszám": "1100"
                                },
                                {
                                    "Kategóriaazon": "122",
                                    "Raktárkód": "7",
                                    "Raktárkód + m.e.": "Összesen",
                                    "Darabszám": "1100"
                                },
                                {
                                    "Kategóriaazon": "122",
                                    "Raktárkód": "8",
                                    "Raktárkód + m.e.": "8 db",
                                    "Darabszám": "2700"
                                },
                                {
                                    "Kategóriaazon": "122",
                                    "Raktárkód": "8",
                                    "Raktárkód + m.e.": "Összesen",
                                    "Darabszám": "2700"
                                },
                                {
                                    "Kategóriaazon": "122",
                                    "Raktárkód": "9",
                                    "Raktárkód + m.e.": "9 db",
                                    "Darabszám": "4800"
                                },
                                {
                                    "Kategóriaazon": "122",
                                    "Raktárkód": "9",
                                    "Raktárkód + m.e.": "Összesen",
                                    "Darabszám": "4800"
                                },
                                {
                                    "Kategóriaazon": "122",
                                    "Raktárkód": "Összesen",
                                    "Raktárkód + m.e.": "Összesen",
                                    "Darabszám": "10300"
                                },
                                {
                                    "Kategóriaazon": "123",
                                    "Raktárkód": "5",
                                    "Raktárkód + m.e.": "5 db",
                                    "Darabszám": "1500"
                                },
                                {
                                    "Kategóriaazon": "123",
                                    "Raktárkód": "5",
                                    "Raktárkód + m.e.": "Összesen",
                                    "Darabszám": "1500"
                                },
                                {
                                    "Kategóriaazon": "123",
                                    "Raktárkód": "7",
                                    "Raktárkód + m.e.": "7 db",
                                    "Darabszám": "500"
                                },
                                {
                                    "Kategóriaazon": "123",
                                    "Raktárkód": "7",
                                    "Raktárkód + m.e.": "Összesen",
                                    "Darabszám": "500"
                                },
                                {
                                    "Kategóriaazon": "123",
                                    "Raktárkód": "Összesen",
                                    "Raktárkód + m.e.": "Összesen",
                                    "Darabszám": "2000"
                                },
                                {
                                    "Kategóriaazon": "124",
                                    "Raktárkód": "5",
                                    "Raktárkód + m.e.": "5 db",
                                    "Darabszám": "3900"
                                },
                                {
                                    "Kategóriaazon": "124",
                                    "Raktárkód": "5",
                                    "Raktárkód + m.e.": "Összesen",
                                    "Darabszám": "3900"
                                },
                                {
                                    "Kategóriaazon": "124",
                                    "Raktárkód": "6",
                                    "Raktárkód + m.e.": "6 db",
                                    "Darabszám": "2700"
                                },
                                {
                                    "Kategóriaazon": "124",
                                    "Raktárkód": "6",
                                    "Raktárkód + m.e.": "Összesen",
                                    "Darabszám": "2700"
                                },
                                {
                                    "Kategóriaazon": "124",
                                    "Raktárkód": "7",
                                    "Raktárkód + m.e.": "7 db",
                                    "Darabszám": "100"
                                },
                                {
                                    "Kategóriaazon": "124",
                                    "Raktárkód": "7",
                                    "Raktárkód + m.e.": "Összesen",
                                    "Darabszám": "100"
                                },
                                {
                                    "Kategóriaazon": "124",
                                    "Raktárkód": "8",
                                    "Raktárkód + m.e.": "8 db",
                                    "Darabszám": "4100"
                                },
                                {
                                    "Kategóriaazon": "124",
                                    "Raktárkód": "8",
                                    "Raktárkód + m.e.": "Összesen",
                                    "Darabszám": "4100"
                                },
                                {
                                    "Kategóriaazon": "124",
                                    "Raktárkód": "9",
                                    "Raktárkód + m.e.": "9 db",
                                    "Darabszám": "5100"
                                },
                                {
                                    "Kategóriaazon": "124",
                                    "Raktárkód": "9",
                                    "Raktárkód + m.e.": "Összesen",
                                    "Darabszám": "5100"
                                },
                                {
                                    "Kategóriaazon": "124",
                                    "Raktárkód": "Összesen",
                                    "Raktárkód + m.e.": "Összesen",
                                    "Darabszám": "15900"
                                },
                                {
                                    "Kategóriaazon": "125",
                                    "Raktárkód": "6",
                                    "Raktárkód + m.e.": "6 db",
                                    "Darabszám": "500"
                                },
                                {
                                    "Kategóriaazon": "125",
                                    "Raktárkód": "6",
                                    "Raktárkód + m.e.": "Összesen",
                                    "Darabszám": "500"
                                },
                                {
                                    "Kategóriaazon": "125",
                                    "Raktárkód": "7",
                                    "Raktárkód + m.e.": "7 db",
                                    "Darabszám": "1100"
                                },
                                {
                                    "Kategóriaazon": "125",
                                    "Raktárkód": "7",
                                    "Raktárkód + m.e.": "Összesen",
                                    "Darabszám": "1100"
                                },
                                {
                                    "Kategóriaazon": "125",
                                    "Raktárkód": "9",
                                    "Raktárkód + m.e.": "9 db",
                                    "Darabszám": "300"
                                },
                                {
                                    "Kategóriaazon": "125",
                                    "Raktárkód": "9",
                                    "Raktárkód + m.e.": "Összesen",
                                    "Darabszám": "300"
                                },
                                {
                                    "Kategóriaazon": "125",
                                    "Raktárkód": "Összesen",
                                    "Raktárkód + m.e.": "Összesen",
                                    "Darabszám": "1900"
                                },
                                {
                                    "Kategóriaazon": "126",
                                    "Raktárkód": "9",
                                    "Raktárkód + m.e.": "9 csomag",
                                    "Darabszám": "400"
                                },
                                {
                                    "Kategóriaazon": "126",
                                    "Raktárkód": "9",
                                    "Raktárkód + m.e.": "Összesen",
                                    "Darabszám": "400"
                                },
                                {
                                    "Kategóriaazon": "126",
                                    "Raktárkód": "Összesen",
                                    "Raktárkód + m.e.": "Összesen",
                                    "Darabszám": "400"
                                },
                                {
                                    "Kategóriaazon": "127",
                                    "Raktárkód": "5",
                                    "Raktárkód + m.e.": "5 csomag",
                                    "Darabszám": "200"
                                },
                                {
                                    "Kategóriaazon": "127",
                                    "Raktárkód": "5",
                                    "Raktárkód + m.e.": "Összesen",
                                    "Darabszám": "200"
                                },
                                {
                                    "Kategóriaazon": "127",
                                    "Raktárkód": "9",
                                    "Raktárkód + m.e.": "9 csomag",
                                    "Darabszám": "3000"
                                },
                                {
                                    "Kategóriaazon": "127",
                                    "Raktárkód": "9",
                                    "Raktárkód + m.e.": "Összesen",
                                    "Darabszám": "3000"
                                },
                                {
                                    "Kategóriaazon": "127",
                                    "Raktárkód": "Összesen",
                                    "Raktárkód + m.e.": "Összesen",
                                    "Darabszám": "3200"
                                },
                                {
                                    "Kategóriaazon": "128",
                                    "Raktárkód": "6",
                                    "Raktárkód + m.e.": "6 db",
                                    "Darabszám": "600"
                                },
                                {
                                    "Kategóriaazon": "128",
                                    "Raktárkód": "6",
                                    "Raktárkód + m.e.": "Összesen",
                                    "Darabszám": "600"
                                },
                                {
                                    "Kategóriaazon": "128",
                                    "Raktárkód": "8",
                                    "Raktárkód + m.e.": "8 csomag",
                                    "Darabszám": "200"
                                },
                                {
                                    "Kategóriaazon": "128",
                                    "Raktárkód": "8",
                                    "Raktárkód + m.e.": "Összesen",
                                    "Darabszám": "200"
                                },
                                {
                                    "Kategóriaazon": "128",
                                    "Raktárkód": "Összesen",
                                    "Raktárkód + m.e.": "Összesen",
                                    "Darabszám": "800"
                                },
                                {
                                    "Kategóriaazon": "129",
                                    "Raktárkód": "5",
                                    "Raktárkód + m.e.": "5 db",
                                    "Darabszám": "200"
                                },
                                {
                                    "Kategóriaazon": "129",
                                    "Raktárkód": "5",
                                    "Raktárkód + m.e.": "Összesen",
                                    "Darabszám": "200"
                                },
                                {
                                    "Kategóriaazon": "129",
                                    "Raktárkód": "9",
                                    "Raktárkód + m.e.": "9 db",
                                    "Darabszám": "500"
                                },
                                {
                                    "Kategóriaazon": "129",
                                    "Raktárkód": "9",
                                    "Raktárkód + m.e.": "Összesen",
                                    "Darabszám": "500"
                                },
                                {
                                    "Kategóriaazon": "129",
                                    "Raktárkód": "Összesen",
                                    "Raktárkód + m.e.": "Összesen",
                                    "Darabszám": "700"
                                },
                                {
                                    "Kategóriaazon": "130",
                                    "Raktárkód": "1",
                                    "Raktárkód + m.e.": "1 db",
                                    "Darabszám": "77"
                                },
                                {
                                    "Kategóriaazon": "130",
                                    "Raktárkód": "1",
                                    "Raktárkód + m.e.": "Összesen",
                                    "Darabszám": "77"
                                },
                                {
                                    "Kategóriaazon": "130",
                                    "Raktárkód": "Összesen",
                                    "Raktárkód + m.e.": "Összesen",
                                    "Darabszám": "77"
                                },
                                {
                                    "Kategóriaazon": "131",
                                    "Raktárkód": "9",
                                    "Raktárkód + m.e.": "9 db",
                                    "Darabszám": "300"
                                },
                                {
                                    "Kategóriaazon": "131",
                                    "Raktárkód": "9",
                                    "Raktárkód + m.e.": "Összesen",
                                    "Darabszám": "300"
                                },
                                {
                                    "Kategóriaazon": "131",
                                    "Raktárkód": "Összesen",
                                    "Raktárkód + m.e.": "Összesen",
                                    "Darabszám": "300"
                                },
                                {
                                    "Kategóriaazon": "132",
                                    "Raktárkód": "8",
                                    "Raktárkód + m.e.": "8 db",
                                    "Darabszám": "100"
                                },
                                {
                                    "Kategóriaazon": "132",
                                    "Raktárkód": "8",
                                    "Raktárkód + m.e.": "Összesen",
                                    "Darabszám": "100"
                                },
                                {
                                    "Kategóriaazon": "132",
                                    "Raktárkód": "Összesen",
                                    "Raktárkód + m.e.": "Összesen",
                                    "Darabszám": "100"
                                },
                                {
                                    "Kategóriaazon": "133",
                                    "Raktárkód": "5",
                                    "Raktárkód + m.e.": "5 csomag",
                                    "Darabszám": "1200"
                                },
                                {
                                    "Kategóriaazon": "133",
                                    "Raktárkód": "5",
                                    "Raktárkód + m.e.": "Összesen",
                                    "Darabszám": "1200"
                                },
                                {
                                    "Kategóriaazon": "133",
                                    "Raktárkód": "6",
                                    "Raktárkód + m.e.": "6 csomag",
                                    "Darabszám": "1000"
                                },
                                {
                                    "Kategóriaazon": "133",
                                    "Raktárkód": "6",
                                    "Raktárkód + m.e.": "Összesen",
                                    "Darabszám": "1000"
                                },
                                {
                                    "Kategóriaazon": "133",
                                    "Raktárkód": "7",
                                    "Raktárkód + m.e.": "7 csomag",
                                    "Darabszám": "1500"
                                },
                                {
                                    "Kategóriaazon": "133",
                                    "Raktárkód": "7",
                                    "Raktárkód + m.e.": "Összesen",
                                    "Darabszám": "1500"
                                },
                                {
                                    "Kategóriaazon": "133",
                                    "Raktárkód": "8",
                                    "Raktárkód + m.e.": "8 csomag",
                                    "Darabszám": "400"
                                },
                                {
                                    "Kategóriaazon": "133",
                                    "Raktárkód": "8",
                                    "Raktárkód + m.e.": "Összesen",
                                    "Darabszám": "400"
                                },
                                {
                                    "Kategóriaazon": "133",
                                    "Raktárkód": "9",
                                    "Raktárkód + m.e.": "9 csomag",
                                    "Darabszám": "100"
                                },
                                {
                                    "Kategóriaazon": "133",
                                    "Raktárkód": "9",
                                    "Raktárkód + m.e.": "Összesen",
                                    "Darabszám": "100"
                                },
                                {
                                    "Kategóriaazon": "133",
                                    "Raktárkód": "Összesen",
                                    "Raktárkód + m.e.": "Összesen",
                                    "Darabszám": "4200"
                                },
                                {
                                    "Kategóriaazon": "134",
                                    "Raktárkód": "5",
                                    "Raktárkód + m.e.": "5 db",
                                    "Darabszám": "200"
                                },
                                {
                                    "Kategóriaazon": "134",
                                    "Raktárkód": "5",
                                    "Raktárkód + m.e.": "Összesen",
                                    "Darabszám": "200"
                                },
                                {
                                    "Kategóriaazon": "134",
                                    "Raktárkód": "6",
                                    "Raktárkód + m.e.": "6 db",
                                    "Darabszám": "300"
                                },
                                {
                                    "Kategóriaazon": "134",
                                    "Raktárkód": "6",
                                    "Raktárkód + m.e.": "Összesen",
                                    "Darabszám": "300"
                                },
                                {
                                    "Kategóriaazon": "134",
                                    "Raktárkód": "Összesen",
                                    "Raktárkód + m.e.": "Összesen",
                                    "Darabszám": "500"
                                },
                                {
                                    "Kategóriaazon": "135",
                                    "Raktárkód": "7",
                                    "Raktárkód + m.e.": "7 csomag",
                                    "Darabszám": "300"
                                },
                                {
                                    "Kategóriaazon": "135",
                                    "Raktárkód": "7",
                                    "Raktárkód + m.e.": "Összesen",
                                    "Darabszám": "300"
                                },
                                {
                                    "Kategóriaazon": "135",
                                    "Raktárkód": "Összesen",
                                    "Raktárkód + m.e.": "Összesen",
                                    "Darabszám": "300"
                                },
                                {
                                    "Kategóriaazon": "136",
                                    "Raktárkód": "7",
                                    "Raktárkód + m.e.": "7 db",
                                    "Darabszám": "3000"
                                },
                                {
                                    "Kategóriaazon": "136",
                                    "Raktárkód": "7",
                                    "Raktárkód + m.e.": "Összesen",
                                    "Darabszám": "3000"
                                },
                                {
                                    "Kategóriaazon": "136",
                                    "Raktárkód": "8",
                                    "Raktárkód + m.e.": "8 db",
                                    "Darabszám": "2200"
                                },
                                {
                                    "Kategóriaazon": "136",
                                    "Raktárkód": "8",
                                    "Raktárkód + m.e.": "Összesen",
                                    "Darabszám": "2200"
                                },
                                {
                                    "Kategóriaazon": "136",
                                    "Raktárkód": "Összesen",
                                    "Raktárkód + m.e.": "Összesen",
                                    "Darabszám": "5200"
                                },
                                {
                                    "Kategóriaazon": "137",
                                    "Raktárkód": "6",
                                    "Raktárkód + m.e.": "6 db",
                                    "Darabszám": "300"
                                },
                                {
                                    "Kategóriaazon": "137",
                                    "Raktárkód": "6",
                                    "Raktárkód + m.e.": "Összesen",
                                    "Darabszám": "300"
                                },
                                {
                                    "Kategóriaazon": "137",
                                    "Raktárkód": "9",
                                    "Raktárkód + m.e.": "9 db",
                                    "Darabszám": "200"
                                },
                                {
                                    "Kategóriaazon": "137",
                                    "Raktárkód": "9",
                                    "Raktárkód + m.e.": "Összesen",
                                    "Darabszám": "200"
                                },
                                {
                                    "Kategóriaazon": "137",
                                    "Raktárkód": "Összesen",
                                    "Raktárkód + m.e.": "Összesen",
                                    "Darabszám": "500"
                                },
                                {
                                    "Kategóriaazon": "138",
                                    "Raktárkód": "5",
                                    "Raktárkód + m.e.": "5 db",
                                    "Darabszám": "500"
                                },
                                {
                                    "Kategóriaazon": "138",
                                    "Raktárkód": "5",
                                    "Raktárkód + m.e.": "Összesen",
                                    "Darabszám": "500"
                                },
                                {
                                    "Kategóriaazon": "138",
                                    "Raktárkód": "6",
                                    "Raktárkód + m.e.": "6 csomag",
                                    "Darabszám": "100"
                                },
                                {
                                    "Kategóriaazon": "138",
                                    "Raktárkód": "6",
                                    "Raktárkód + m.e.": "Összesen",
                                    "Darabszám": "100"
                                },
                                {
                                    "Kategóriaazon": "138",
                                    "Raktárkód": "7",
                                    "Raktárkód + m.e.": "7 db",
                                    "Darabszám": "900"
                                },
                                {
                                    "Kategóriaazon": "138",
                                    "Raktárkód": "7",
                                    "Raktárkód + m.e.": "Összesen",
                                    "Darabszám": "900"
                                },
                                {
                                    "Kategóriaazon": "138",
                                    "Raktárkód": "8",
                                    "Raktárkód + m.e.": "8 db",
                                    "Darabszám": "100"
                                },
                                {
                                    "Kategóriaazon": "138",
                                    "Raktárkód": "8",
                                    "Raktárkód + m.e.": "Összesen",
                                    "Darabszám": "100"
                                },
                                {
                                    "Kategóriaazon": "138",
                                    "Raktárkód": "9",
                                    "Raktárkód + m.e.": "9 db",
                                    "Darabszám": "200"
                                },
                                {
                                    "Kategóriaazon": "138",
                                    "Raktárkód": "9",
                                    "Raktárkód + m.e.": "Összesen",
                                    "Darabszám": "200"
                                },
                                {
                                    "Kategóriaazon": "138",
                                    "Raktárkód": "Összesen",
                                    "Raktárkód + m.e.": "Összesen",
                                    "Darabszám": "1800"
                                },
                                {
                                    "Kategóriaazon": "139",
                                    "Raktárkód": "9",
                                    "Raktárkód + m.e.": "9 csomag",
                                    "Darabszám": "500"
                                },
                                {
                                    "Kategóriaazon": "139",
                                    "Raktárkód": "9",
                                    "Raktárkód + m.e.": "Összesen",
                                    "Darabszám": "500"
                                },
                                {
                                    "Kategóriaazon": "139",
                                    "Raktárkód": "Összesen",
                                    "Raktárkód + m.e.": "Összesen",
                                    "Darabszám": "500"
                                },
                                {
                                    "Kategóriaazon": "140",
                                    "Raktárkód": "6",
                                    "Raktárkód + m.e.": "6 db",
                                    "Darabszám": "1600"
                                },
                                {
                                    "Kategóriaazon": "140",
                                    "Raktárkód": "6",
                                    "Raktárkód + m.e.": "Összesen",
                                    "Darabszám": "1600"
                                },
                                {
                                    "Kategóriaazon": "140",
                                    "Raktárkód": "Összesen",
                                    "Raktárkód + m.e.": "Összesen",
                                    "Darabszám": "1600"
                                },
                                {
                                    "Kategóriaazon": "141",
                                    "Raktárkód": "8",
                                    "Raktárkód + m.e.": "8 db",
                                    "Darabszám": "200"
                                },
                                {
                                    "Kategóriaazon": "141",
                                    "Raktárkód": "8",
                                    "Raktárkód + m.e.": "Összesen",
                                    "Darabszám": "200"
                                },
                                {
                                    "Kategóriaazon": "141",
                                    "Raktárkód": "Összesen",
                                    "Raktárkód + m.e.": "Összesen",
                                    "Darabszám": "200"
                                },
                                {
                                    "Kategóriaazon": "142",
                                    "Raktárkód": "6",
                                    "Raktárkód + m.e.": "6 csomag",
                                    "Darabszám": "100"
                                },
                                {
                                    "Kategóriaazon": "142",
                                    "Raktárkód": "6",
                                    "Raktárkód + m.e.": "Összesen",
                                    "Darabszám": "100"
                                },
                                {
                                    "Kategóriaazon": "142",
                                    "Raktárkód": "Összesen",
                                    "Raktárkód + m.e.": "Összesen",
                                    "Darabszám": "100"
                                },
                                {
                                    "Kategóriaazon": "143",
                                    "Raktárkód": "7",
                                    "Raktárkód + m.e.": "7 csomag",
                                    "Darabszám": "200"
                                },
                                {
                                    "Kategóriaazon": "143",
                                    "Raktárkód": "7",
                                    "Raktárkód + m.e.": "7 db",
                                    "Darabszám": "200"
                                },
                                {
                                    "Kategóriaazon": "143",
                                    "Raktárkód": "7",
                                    "Raktárkód + m.e.": "Összesen",
                                    "Darabszám": "400"
                                },
                                {
                                    "Kategóriaazon": "143",
                                    "Raktárkód": "9",
                                    "Raktárkód + m.e.": "9 db",
                                    "Darabszám": "200"
                                },
                                {
                                    "Kategóriaazon": "143",
                                    "Raktárkód": "9",
                                    "Raktárkód + m.e.": "Összesen",
                                    "Darabszám": "200"
                                },
                                {
                                    "Kategóriaazon": "143",
                                    "Raktárkód": "Összesen",
                                    "Raktárkód + m.e.": "Összesen",
                                    "Darabszám": "600"
                                },
                                {
                                    "Kategóriaazon": "144",
                                    "Raktárkód": "5",
                                    "Raktárkód + m.e.": "5 db",
                                    "Darabszám": "200"
                                },
                                {
                                    "Kategóriaazon": "144",
                                    "Raktárkód": "5",
                                    "Raktárkód + m.e.": "Összesen",
                                    "Darabszám": "200"
                                },
                                {
                                    "Kategóriaazon": "144",
                                    "Raktárkód": "9",
                                    "Raktárkód + m.e.": "9 db",
                                    "Darabszám": "200"
                                },
                                {
                                    "Kategóriaazon": "144",
                                    "Raktárkód": "9",
                                    "Raktárkód + m.e.": "Összesen",
                                    "Darabszám": "200"
                                },
                                {
                                    "Kategóriaazon": "144",
                                    "Raktárkód": "Összesen",
                                    "Raktárkód + m.e.": "Összesen",
                                    "Darabszám": "400"
                                },
                                {
                                    "Kategóriaazon": "145",
                                    "Raktárkód": "5",
                                    "Raktárkód + m.e.": "5 db",
                                    "Darabszám": "1700"
                                },
                                {
                                    "Kategóriaazon": "145",
                                    "Raktárkód": "5",
                                    "Raktárkód + m.e.": "Összesen",
                                    "Darabszám": "1700"
                                },
                                {
                                    "Kategóriaazon": "145",
                                    "Raktárkód": "6",
                                    "Raktárkód + m.e.": "6 db",
                                    "Darabszám": "8000"
                                },
                                {
                                    "Kategóriaazon": "145",
                                    "Raktárkód": "6",
                                    "Raktárkód + m.e.": "Összesen",
                                    "Darabszám": "8000"
                                },
                                {
                                    "Kategóriaazon": "145",
                                    "Raktárkód": "7",
                                    "Raktárkód + m.e.": "7 db",
                                    "Darabszám": "4300"
                                },
                                {
                                    "Kategóriaazon": "145",
                                    "Raktárkód": "7",
                                    "Raktárkód + m.e.": "Összesen",
                                    "Darabszám": "4300"
                                },
                                {
                                    "Kategóriaazon": "145",
                                    "Raktárkód": "8",
                                    "Raktárkód + m.e.": "8 db",
                                    "Darabszám": "2200"
                                },
                                {
                                    "Kategóriaazon": "145",
                                    "Raktárkód": "8",
                                    "Raktárkód + m.e.": "Összesen",
                                    "Darabszám": "2200"
                                },
                                {
                                    "Kategóriaazon": "145",
                                    "Raktárkód": "9",
                                    "Raktárkód + m.e.": "9 db",
                                    "Darabszám": "2200"
                                },
                                {
                                    "Kategóriaazon": "145",
                                    "Raktárkód": "9",
                                    "Raktárkód + m.e.": "Összesen",
                                    "Darabszám": "2200"
                                },
                                {
                                    "Kategóriaazon": "145",
                                    "Raktárkód": "Összesen",
                                    "Raktárkód + m.e.": "Összesen",
                                    "Darabszám": "18400"
                                },
                                {
                                    "Kategóriaazon": "146",
                                    "Raktárkód": "5",
                                    "Raktárkód + m.e.": "5 db",
                                    "Darabszám": "200"
                                },
                                {
                                    "Kategóriaazon": "146",
                                    "Raktárkód": "5",
                                    "Raktárkód + m.e.": "Összesen",
                                    "Darabszám": "200"
                                },
                                {
                                    "Kategóriaazon": "146",
                                    "Raktárkód": "7",
                                    "Raktárkód + m.e.": "7 db",
                                    "Darabszám": "4000"
                                },
                                {
                                    "Kategóriaazon": "146",
                                    "Raktárkód": "7",
                                    "Raktárkód + m.e.": "Összesen",
                                    "Darabszám": "4000"
                                },
                                {
                                    "Kategóriaazon": "146",
                                    "Raktárkód": "8",
                                    "Raktárkód + m.e.": "8 csomag",
                                    "Darabszám": "700"
                                },
                                {
                                    "Kategóriaazon": "146",
                                    "Raktárkód": "8",
                                    "Raktárkód + m.e.": "Összesen",
                                    "Darabszám": "700"
                                },
                                {
                                    "Kategóriaazon": "146",
                                    "Raktárkód": "9",
                                    "Raktárkód + m.e.": "9 db",
                                    "Darabszám": "1000"
                                },
                                {
                                    "Kategóriaazon": "146",
                                    "Raktárkód": "9",
                                    "Raktárkód + m.e.": "Összesen",
                                    "Darabszám": "1000"
                                },
                                {
                                    "Kategóriaazon": "146",
                                    "Raktárkód": "Összesen",
                                    "Raktárkód + m.e.": "Összesen",
                                    "Darabszám": "5900"
                                },
                                {
                                    "Kategóriaazon": "147",
                                    "Raktárkód": "8",
                                    "Raktárkód + m.e.": "8 db",
                                    "Darabszám": "100"
                                },
                                {
                                    "Kategóriaazon": "147",
                                    "Raktárkód": "8",
                                    "Raktárkód + m.e.": "Összesen",
                                    "Darabszám": "100"
                                },
                                {
                                    "Kategóriaazon": "147",
                                    "Raktárkód": "Összesen",
                                    "Raktárkód + m.e.": "Összesen",
                                    "Darabszám": "100"
                                },
                                {
                                    "Kategóriaazon": "148",
                                    "Raktárkód": "5",
                                    "Raktárkód + m.e.": "5 üveg",
                                    "Darabszám": "300"
                                },
                                {
                                    "Kategóriaazon": "148",
                                    "Raktárkód": "5",
                                    "Raktárkód + m.e.": "Összesen",
                                    "Darabszám": "300"
                                },
                                {
                                    "Kategóriaazon": "148",
                                    "Raktárkód": "Összesen",
                                    "Raktárkód + m.e.": "Összesen",
                                    "Darabszám": "300"
                                },
                                {
                                    "Kategóriaazon": "149",
                                    "Raktárkód": "5",
                                    "Raktárkód + m.e.": "5 db",
                                    "Darabszám": "2000"
                                },
                                {
                                    "Kategóriaazon": "149",
                                    "Raktárkód": "5",
                                    "Raktárkód + m.e.": "Összesen",
                                    "Darabszám": "2000"
                                },
                                {
                                    "Kategóriaazon": "149",
                                    "Raktárkód": "6",
                                    "Raktárkód + m.e.": "6 db",
                                    "Darabszám": "10200"
                                },
                                {
                                    "Kategóriaazon": "149",
                                    "Raktárkód": "6",
                                    "Raktárkód + m.e.": "Összesen",
                                    "Darabszám": "10200"
                                },
                                {
                                    "Kategóriaazon": "149",
                                    "Raktárkód": "8",
                                    "Raktárkód + m.e.": "8 db",
                                    "Darabszám": "600"
                                },
                                {
                                    "Kategóriaazon": "149",
                                    "Raktárkód": "8",
                                    "Raktárkód + m.e.": "Összesen",
                                    "Darabszám": "600"
                                },
                                {
                                    "Kategóriaazon": "149",
                                    "Raktárkód": "Összesen",
                                    "Raktárkód + m.e.": "Összesen",
                                    "Darabszám": "12800"
                                },
                                {
                                    "Kategóriaazon": "150",
                                    "Raktárkód": "7",
                                    "Raktárkód + m.e.": "7 csomag",
                                    "Darabszám": "300"
                                },
                                {
                                    "Kategóriaazon": "150",
                                    "Raktárkód": "7",
                                    "Raktárkód + m.e.": "Összesen",
                                    "Darabszám": "300"
                                },
                                {
                                    "Kategóriaazon": "150",
                                    "Raktárkód": "9",
                                    "Raktárkód + m.e.": "9 csomag",
                                    "Darabszám": "4200"
                                },
                                {
                                    "Kategóriaazon": "150",
                                    "Raktárkód": "9",
                                    "Raktárkód + m.e.": "Összesen",
                                    "Darabszám": "4200"
                                },
                                {
                                    "Kategóriaazon": "150",
                                    "Raktárkód": "Összesen",
                                    "Raktárkód + m.e.": "Összesen",
                                    "Darabszám": "4500"
                                },
                                {
                                    "Kategóriaazon": "151",
                                    "Raktárkód": "6",
                                    "Raktárkód + m.e.": "6 db",
                                    "Darabszám": "200"
                                },
                                {
                                    "Kategóriaazon": "151",
                                    "Raktárkód": "6",
                                    "Raktárkód + m.e.": "Összesen",
                                    "Darabszám": "200"
                                },
                                {
                                    "Kategóriaazon": "151",
                                    "Raktárkód": "7",
                                    "Raktárkód + m.e.": "7 db",
                                    "Darabszám": "200"
                                },
                                {
                                    "Kategóriaazon": "151",
                                    "Raktárkód": "7",
                                    "Raktárkód + m.e.": "Összesen",
                                    "Darabszám": "200"
                                },
                                {
                                    "Kategóriaazon": "151",
                                    "Raktárkód": "Összesen",
                                    "Raktárkód + m.e.": "Összesen",
                                    "Darabszám": "400"
                                },
                                {
                                    "Kategóriaazon": "152",
                                    "Raktárkód": "6",
                                    "Raktárkód + m.e.": "6 db",
                                    "Darabszám": "100"
                                },
                                {
                                    "Kategóriaazon": "152",
                                    "Raktárkód": "6",
                                    "Raktárkód + m.e.": "Összesen",
                                    "Darabszám": "100"
                                },
                                {
                                    "Kategóriaazon": "152",
                                    "Raktárkód": "7",
                                    "Raktárkód + m.e.": "7 db",
                                    "Darabszám": "100"
                                },
                                {
                                    "Kategóriaazon": "152",
                                    "Raktárkód": "7",
                                    "Raktárkód + m.e.": "Összesen",
                                    "Darabszám": "100"
                                },
                                {
                                    "Kategóriaazon": "152",
                                    "Raktárkód": "8",
                                    "Raktárkód + m.e.": "8 db",
                                    "Darabszám": "2800"
                                },
                                {
                                    "Kategóriaazon": "152",
                                    "Raktárkód": "8",
                                    "Raktárkód + m.e.": "Összesen",
                                    "Darabszám": "2800"
                                },
                                {
                                    "Kategóriaazon": "152",
                                    "Raktárkód": "9",
                                    "Raktárkód + m.e.": "9 db",
                                    "Darabszám": "200"
                                },
                                {
                                    "Kategóriaazon": "152",
                                    "Raktárkód": "9",
                                    "Raktárkód + m.e.": "Összesen",
                                    "Darabszám": "200"
                                },
                                {
                                    "Kategóriaazon": "152",
                                    "Raktárkód": "Összesen",
                                    "Raktárkód + m.e.": "Összesen",
                                    "Darabszám": "3200"
                                },
                                {
                                    "Kategóriaazon": "153",
                                    "Raktárkód": "5",
                                    "Raktárkód + m.e.": "5 db",
                                    "Darabszám": "200"
                                },
                                {
                                    "Kategóriaazon": "153",
                                    "Raktárkód": "5",
                                    "Raktárkód + m.e.": "Összesen",
                                    "Darabszám": "200"
                                },
                                {
                                    "Kategóriaazon": "153",
                                    "Raktárkód": "Összesen",
                                    "Raktárkód + m.e.": "Összesen",
                                    "Darabszám": "200"
                                },
                                {
                                    "Kategóriaazon": "154",
                                    "Raktárkód": "7",
                                    "Raktárkód + m.e.": "7 csomag",
                                    "Darabszám": "100"
                                },
                                {
                                    "Kategóriaazon": "154",
                                    "Raktárkód": "7",
                                    "Raktárkód + m.e.": "7 db",
                                    "Darabszám": "6000"
                                },
                                {
                                    "Kategóriaazon": "154",
                                    "Raktárkód": "7",
                                    "Raktárkód + m.e.": "Összesen",
                                    "Darabszám": "6100"
                                },
                                {
                                    "Kategóriaazon": "154",
                                    "Raktárkód": "9",
                                    "Raktárkód + m.e.": "9 db",
                                    "Darabszám": "6000"
                                },
                                {
                                    "Kategóriaazon": "154",
                                    "Raktárkód": "9",
                                    "Raktárkód + m.e.": "Összesen",
                                    "Darabszám": "6000"
                                },
                                {
                                    "Kategóriaazon": "154",
                                    "Raktárkód": "Összesen",
                                    "Raktárkód + m.e.": "Összesen",
                                    "Darabszám": "12100"
                                },
                                {
                                    "Kategóriaazon": "155",
                                    "Raktárkód": "8",
                                    "Raktárkód + m.e.": "8 db",
                                    "Darabszám": "100"
                                },
                                {
                                    "Kategóriaazon": "155",
                                    "Raktárkód": "8",
                                    "Raktárkód + m.e.": "Összesen",
                                    "Darabszám": "100"
                                },
                                {
                                    "Kategóriaazon": "155",
                                    "Raktárkód": "Összesen",
                                    "Raktárkód + m.e.": "Összesen",
                                    "Darabszám": "100"
                                },
                                {
                                    "Kategóriaazon": "Összesen",
                                    "Raktárkód": "Összesen",
                                    "Raktárkód + m.e.": "Összesen",
                                    "Darabszám": "873881"
                                }
                            ]
                        },
                        "text/html": [
                            "<table>",
                            "<tr><th>Kategóriaazon</th><th>Raktárkód</th><th>Raktárkód + m.e.</th><th>Darabszám</th></tr>",
                            "<tr><td>4</td><td>5</td><td>5 db</td><td>300</td></tr>",
                            "<tr><td>4</td><td>5</td><td>Összesen</td><td>300</td></tr>",
                            "<tr><td>4</td><td>6</td><td>6 db</td><td>800</td></tr>",
                            "<tr><td>4</td><td>6</td><td>Összesen</td><td>800</td></tr>",
                            "<tr><td>4</td><td>7</td><td>7 db</td><td>200</td></tr>",
                            "<tr><td>4</td><td>7</td><td>Összesen</td><td>200</td></tr>",
                            "<tr><td>4</td><td>8</td><td>8 db</td><td>11000</td></tr>",
                            "<tr><td>4</td><td>8</td><td>Összesen</td><td>11000</td></tr>",
                            "<tr><td>4</td><td>9</td><td>9 db</td><td>200</td></tr>",
                            "<tr><td>4</td><td>9</td><td>Összesen</td><td>200</td></tr>",
                            "<tr><td>4</td><td>Összesen</td><td>Összesen</td><td>12500</td></tr>",
                            "<tr><td>5</td><td>5</td><td>5 db</td><td>3500</td></tr>",
                            "<tr><td>5</td><td>5</td><td>Összesen</td><td>3500</td></tr>",
                            "<tr><td>5</td><td>9</td><td>9 db</td><td>1000</td></tr>",
                            "<tr><td>5</td><td>9</td><td>Összesen</td><td>1000</td></tr>",
                            "<tr><td>5</td><td>Összesen</td><td>Összesen</td><td>4500</td></tr>",
                            "<tr><td>6</td><td>6</td><td>6 db</td><td>53500</td></tr>",
                            "<tr><td>6</td><td>6</td><td>Összesen</td><td>53500</td></tr>",
                            "<tr><td>6</td><td>7</td><td>7 db</td><td>9700</td></tr>",
                            "<tr><td>6</td><td>7</td><td>7 tekercs</td><td>8000</td></tr>",
                            "<tr><td>6</td><td>7</td><td>Összesen</td><td>17700</td></tr>",
                            "<tr><td>6</td><td>8</td><td>8 db</td><td>8600</td></tr>",
                            "<tr><td>6</td><td>8</td><td>Összesen</td><td>8600</td></tr>",
                            "<tr><td>6</td><td>9</td><td>9 db</td><td>5200</td></tr>",
                            "<tr><td>6</td><td>9</td><td>Összesen</td><td>5200</td></tr>",
                            "<tr><td>6</td><td>Összesen</td><td>Összesen</td><td>85000</td></tr>",
                            "<tr><td>7</td><td>7</td><td>7 db</td><td>1000</td></tr>",
                            "<tr><td>7</td><td>7</td><td>Összesen</td><td>1000</td></tr>",
                            "<tr><td>7</td><td>8</td><td>8 db</td><td>1500</td></tr>",
                            "<tr><td>7</td><td>8</td><td>Összesen</td><td>1500</td></tr>",
                            "<tr><td>7</td><td>Összesen</td><td>Összesen</td><td>2500</td></tr>",
                            "<tr><td>8</td><td>3</td><td>3 db</td><td>325</td></tr>",
                            "<tr><td>8</td><td>3</td><td>Összesen</td><td>325</td></tr>",
                            "<tr><td>8</td><td>4</td><td>4 db</td><td>580</td></tr>",
                            "<tr><td>8</td><td>4</td><td>Összesen</td><td>580</td></tr>",
                            "<tr><td>8</td><td>Összesen</td><td>Összesen</td><td>905</td></tr>",
                            "<tr><td>9</td><td>6</td><td>6 db</td><td>5900</td></tr>",
                            "<tr><td>9</td><td>6</td><td>Összesen</td><td>5900</td></tr>",
                            "<tr><td>9</td><td>9</td><td>9 db</td><td>100</td></tr>",
                            "<tr><td>9</td><td>9</td><td>Összesen</td><td>100</td></tr>",
                            "<tr><td>9</td><td>Összesen</td><td>Összesen</td><td>6000</td></tr>",
                            "<tr><td>10</td><td>9</td><td>9 db</td><td>100</td></tr>",
                            "<tr><td>10</td><td>9</td><td>Összesen</td><td>100</td></tr>",
                            "<tr><td>10</td><td>Összesen</td><td>Összesen</td><td>100</td></tr>",
                            "<tr><td>11</td><td>8</td><td>8 db</td><td>200</td></tr>",
                            "<tr><td>11</td><td>8</td><td>Összesen</td><td>200</td></tr>",
                            "<tr><td>11</td><td>Összesen</td><td>Összesen</td><td>200</td></tr>",
                            "<tr><td>12</td><td>5</td><td>5 db</td><td>200</td></tr>",
                            "<tr><td>12</td><td>5</td><td>Összesen</td><td>200</td></tr>",
                            "<tr><td>12</td><td>Összesen</td><td>Összesen</td><td>200</td></tr>",
                            "<tr><td>13</td><td>5</td><td>5 db</td><td>100</td></tr>",
                            "<tr><td>13</td><td>5</td><td>Összesen</td><td>100</td></tr>",
                            "<tr><td>13</td><td>8</td><td>8 db</td><td>200</td></tr>",
                            "<tr><td>13</td><td>8</td><td>Összesen</td><td>200</td></tr>",
                            "<tr><td>13</td><td>Összesen</td><td>Összesen</td><td>300</td></tr>",
                            "<tr><td>14</td><td>6</td><td>6 db</td><td>1000</td></tr>",
                            "<tr><td>14</td><td>6</td><td>Összesen</td><td>1000</td></tr>",
                            "<tr><td>14</td><td>7</td><td>7 db</td><td>1200</td></tr>",
                            "<tr><td>14</td><td>7</td><td>Összesen</td><td>1200</td></tr>",
                            "<tr><td>14</td><td>8</td><td>8 db</td><td>100</td></tr>",
                            "<tr><td>14</td><td>8</td><td>Összesen</td><td>100</td></tr>",
                            "<tr><td>14</td><td>Összesen</td><td>Összesen</td><td>2300</td></tr>",
                            "<tr><td>15</td><td>9</td><td>9 db</td><td>700</td></tr>",
                            "<tr><td>15</td><td>9</td><td>Összesen</td><td>700</td></tr>",
                            "<tr><td>15</td><td>Összesen</td><td>Összesen</td><td>700</td></tr>",
                            "<tr><td>16</td><td>5</td><td>5 db</td><td>200</td></tr>",
                            "<tr><td>16</td><td>5</td><td>Összesen</td><td>200</td></tr>",
                            "<tr><td>16</td><td>6</td><td>6 db</td><td>12100</td></tr>",
                            "<tr><td>16</td><td>6</td><td>Összesen</td><td>12100</td></tr>",
                            "<tr><td>16</td><td>7</td><td>7 db</td><td>2500</td></tr>",
                            "<tr><td>16</td><td>7</td><td>Összesen</td><td>2500</td></tr>",
                            "<tr><td>16</td><td>8</td><td>8 db</td><td>100</td></tr>",
                            "<tr><td>16</td><td>8</td><td>Összesen</td><td>100</td></tr>",
                            "<tr><td>16</td><td>9</td><td>9 db</td><td>2000</td></tr>",
                            "<tr><td>16</td><td>9</td><td>Összesen</td><td>2000</td></tr>",
                            "<tr><td>16</td><td>Összesen</td><td>Összesen</td><td>16900</td></tr>",
                            "<tr><td>17</td><td>8</td><td>8 db</td><td>400</td></tr>",
                            "<tr><td>17</td><td>8</td><td>Összesen</td><td>400</td></tr>",
                            "<tr><td>17</td><td>Összesen</td><td>Összesen</td><td>400</td></tr>",
                            "<tr><td>18</td><td>8</td><td>8 csomag</td><td>200</td></tr>",
                            "<tr><td>18</td><td>8</td><td>8 db</td><td>100</td></tr>",
                            "<tr><td>18</td><td>8</td><td>Összesen</td><td>300</td></tr>",
                            "<tr><td>18</td><td>Összesen</td><td>Összesen</td><td>300</td></tr>",
                            "<tr><td>19</td><td>5</td><td>5 db</td><td>700</td></tr>",
                            "<tr><td>19</td><td>5</td><td>Összesen</td><td>700</td></tr>",
                            "<tr><td>19</td><td>6</td><td>6 db</td><td>2900</td></tr>",
                            "<tr><td>19</td><td>6</td><td>Összesen</td><td>2900</td></tr>",
                            "<tr><td>19</td><td>7</td><td>7 db</td><td>1000</td></tr>",
                            "<tr><td>19</td><td>7</td><td>Összesen</td><td>1000</td></tr>",
                            "<tr><td>19</td><td>8</td><td>8 db</td><td>100</td></tr>",
                            "<tr><td>19</td><td>8</td><td>Összesen</td><td>100</td></tr>",
                            "<tr><td>19</td><td>9</td><td>9 db</td><td>900</td></tr>",
                            "<tr><td>19</td><td>9</td><td>Összesen</td><td>900</td></tr>",
                            "<tr><td>19</td><td>Összesen</td><td>Összesen</td><td>5600</td></tr>",
                            "<tr><td>20</td><td>7</td><td>7 db</td><td>1000</td></tr>",
                            "<tr><td>20</td><td>7</td><td>Összesen</td><td>1000</td></tr>",
                            "<tr><td>20</td><td>9</td><td>9 db</td><td>200</td></tr>",
                            "<tr><td>20</td><td>9</td><td>Összesen</td><td>200</td></tr>",
                            "<tr><td>20</td><td>Összesen</td><td>Összesen</td><td>1200</td></tr>",
                            "<tr><td>21</td><td>5</td><td>5 csomag</td><td>300</td></tr>",
                            "<tr><td>21</td><td>5</td><td>5 ív</td><td>100</td></tr>",
                            "<tr><td>21</td><td>5</td><td>Összesen</td><td>400</td></tr>",
                            "<tr><td>21</td><td>6</td><td>6 ív</td><td>2400</td></tr>",
                            "<tr><td>21</td><td>6</td><td>Összesen</td><td>2400</td></tr>",
                            "<tr><td>21</td><td>9</td><td>9 Ív</td><td>100</td></tr>",
                            "<tr><td>21</td><td>9</td><td>Összesen</td><td>100</td></tr>",
                            "<tr><td>21</td><td>Összesen</td><td>Összesen</td><td>2900</td></tr>",
                            "<tr><td>22</td><td>7</td><td>7 db</td><td>100</td></tr>",
                            "<tr><td>22</td><td>7</td><td>Összesen</td><td>100</td></tr>",
                            "<tr><td>22</td><td>8</td><td>8 csomag</td><td>200</td></tr>",
                            "<tr><td>22</td><td>8</td><td>Összesen</td><td>200</td></tr>",
                            "<tr><td>22</td><td>Összesen</td><td>Összesen</td><td>300</td></tr>",
                            "<tr><td>24</td><td>5</td><td>5 db</td><td>600</td></tr>",
                            "<tr><td>24</td><td>5</td><td>5 ív</td><td>2600</td></tr>",
                            "<tr><td>24</td><td>5</td><td>Összesen</td><td>3200</td></tr>",
                            "<tr><td>24</td><td>6</td><td>6 db</td><td>2100</td></tr>",
                            "<tr><td>24</td><td>6</td><td>Összesen</td><td>2100</td></tr>",
                            "<tr><td>24</td><td>7</td><td>7 db</td><td>1000</td></tr>",
                            "<tr><td>24</td><td>7</td><td>Összesen</td><td>1000</td></tr>",
                            "<tr><td>24</td><td>9</td><td>9 db</td><td>100</td></tr>",
                            "<tr><td>24</td><td>9</td><td>9 ív</td><td>800</td></tr>",
                            "<tr><td>24</td><td>9</td><td>Összesen</td><td>900</td></tr>",
                            "<tr><td>24</td><td>Összesen</td><td>Összesen</td><td>7200</td></tr>",
                            "<tr><td>25</td><td>5</td><td>5 db</td><td>300</td></tr>",
                            "<tr><td>25</td><td>5</td><td>Összesen</td><td>300</td></tr>",
                            "<tr><td>25</td><td>6</td><td>6 db</td><td>2400</td></tr>",
                            "<tr><td>25</td><td>6</td><td>Összesen</td><td>2400</td></tr>",
                            "<tr><td>25</td><td>7</td><td>7 db</td><td>100</td></tr>",
                            "<tr><td>25</td><td>7</td><td>Összesen</td><td>100</td></tr>",
                            "<tr><td>25</td><td>8</td><td>8 db</td><td>5100</td></tr>",
                            "<tr><td>25</td><td>8</td><td>Összesen</td><td>5100</td></tr>",
                            "<tr><td>25</td><td>Összesen</td><td>Összesen</td><td>7900</td></tr>",
                            "<tr><td>26</td><td>9</td><td>9 ív</td><td>400</td></tr>",
                            "<tr><td>26</td><td>9</td><td>Összesen</td><td>400</td></tr>",
                            "<tr><td>26</td><td>Összesen</td><td>Összesen</td><td>400</td></tr>",
                            "<tr><td>27</td><td>5</td><td>5 db</td><td>100</td></tr>",
                            "<tr><td>27</td><td>5</td><td>Összesen</td><td>100</td></tr>",
                            "<tr><td>27</td><td>7</td><td>7 db</td><td>100</td></tr>",
                            "<tr><td>27</td><td>7</td><td>Összesen</td><td>100</td></tr>",
                            "<tr><td>27</td><td>9</td><td>9 db</td><td>300</td></tr>",
                            "<tr><td>27</td><td>9</td><td>Összesen</td><td>300</td></tr>",
                            "<tr><td>27</td><td>Összesen</td><td>Összesen</td><td>500</td></tr>",
                            "<tr><td>28</td><td>6</td><td>6 db</td><td>26000</td></tr>",
                            "<tr><td>28</td><td>6</td><td>Összesen</td><td>26000</td></tr>",
                            "<tr><td>28</td><td>8</td><td>8 db</td><td>41000</td></tr>",
                            "<tr><td>28</td><td>8</td><td>Összesen</td><td>41000</td></tr>",
                            "<tr><td>28</td><td>Összesen</td><td>Összesen</td><td>67000</td></tr>",
                            "<tr><td>29</td><td>9</td><td>9 db</td><td>1300</td></tr>",
                            "<tr><td>29</td><td>9</td><td>Összesen</td><td>1300</td></tr>",
                            "<tr><td>29</td><td>Összesen</td><td>Összesen</td><td>1300</td></tr>",
                            "<tr><td>30</td><td>5</td><td>5 db</td><td>200</td></tr>",
                            "<tr><td>30</td><td>5</td><td>Összesen</td><td>200</td></tr>",
                            "<tr><td>30</td><td>6</td><td>6 db</td><td>900</td></tr>",
                            "<tr><td>30</td><td>6</td><td>Összesen</td><td>900</td></tr>",
                            "<tr><td>30</td><td>7</td><td>7 db</td><td>4000</td></tr>",
                            "<tr><td>30</td><td>7</td><td>Összesen</td><td>4000</td></tr>",
                            "<tr><td>30</td><td>8</td><td>8 db</td><td>4300</td></tr>",
                            "<tr><td>30</td><td>8</td><td>Összesen</td><td>4300</td></tr>",
                            "<tr><td>30</td><td>9</td><td>9 db</td><td>200</td></tr>",
                            "<tr><td>30</td><td>9</td><td>Összesen</td><td>200</td></tr>",
                            "<tr><td>30</td><td>Összesen</td><td>Összesen</td><td>9600</td></tr>",
                            "<tr><td>31</td><td>5</td><td>5 db</td><td>100</td></tr>",
                            "<tr><td>31</td><td>5</td><td>Összesen</td><td>100</td></tr>",
                            "<tr><td>31</td><td>Összesen</td><td>Összesen</td><td>100</td></tr>",
                            "<tr><td>32</td><td>6</td><td>6 db</td><td>7700</td></tr>",
                            "<tr><td>32</td><td>6</td><td>Összesen</td><td>7700</td></tr>",
                            "<tr><td>32</td><td>7</td><td>7 db</td><td>4000</td></tr>",
                            "<tr><td>32</td><td>7</td><td>Összesen</td><td>4000</td></tr>",
                            "<tr><td>32</td><td>Összesen</td><td>Összesen</td><td>11700</td></tr>",
                            "<tr><td>33</td><td>7</td><td>7 db</td><td>200</td></tr>",
                            "<tr><td>33</td><td>7</td><td>Összesen</td><td>200</td></tr>",
                            "<tr><td>33</td><td>Összesen</td><td>Összesen</td><td>200</td></tr>",
                            "<tr><td>34</td><td>9</td><td>9 db</td><td>300</td></tr>",
                            "<tr><td>34</td><td>9</td><td>Összesen</td><td>300</td></tr>",
                            "<tr><td>34</td><td>Összesen</td><td>Összesen</td><td>300</td></tr>",
                            "<tr><td>35</td><td>1</td><td>1 db</td><td>369</td></tr>",
                            "<tr><td>35</td><td>1</td><td>Összesen</td><td>369</td></tr>",
                            "<tr><td>35</td><td>2</td><td>2 db</td><td>53</td></tr>",
                            "<tr><td>35</td><td>2</td><td>Összesen</td><td>53</td></tr>",
                            "<tr><td>35</td><td>3</td><td>3 db</td><td>906</td></tr>",
                            "<tr><td>35</td><td>3</td><td>Összesen</td><td>906</td></tr>",
                            "<tr><td>35</td><td>4</td><td>4 db</td><td>938</td></tr>",
                            "<tr><td>35</td><td>4</td><td>Összesen</td><td>938</td></tr>",
                            "<tr><td>35</td><td>Összesen</td><td>Összesen</td><td>2266</td></tr>",
                            "<tr><td>36</td><td>5</td><td>5 csomag</td><td>500</td></tr>",
                            "<tr><td>36</td><td>5</td><td>Összesen</td><td>500</td></tr>",
                            "<tr><td>36</td><td>6</td><td>6 csomag</td><td>1200</td></tr>",
                            "<tr><td>36</td><td>6</td><td>Összesen</td><td>1200</td></tr>",
                            "<tr><td>36</td><td>9</td><td>9 csomag</td><td>500</td></tr>",
                            "<tr><td>36</td><td>9</td><td>Összesen</td><td>500</td></tr>",
                            "<tr><td>36</td><td>Összesen</td><td>Összesen</td><td>2200</td></tr>",
                            "<tr><td>37</td><td>1</td><td>1 db</td><td>381</td></tr>",
                            "<tr><td>37</td><td>1</td><td>Összesen</td><td>381</td></tr>",
                            "<tr><td>37</td><td>Összesen</td><td>Összesen</td><td>381</td></tr>",
                            "<tr><td>38</td><td>1</td><td>1 db</td><td>173</td></tr>",
                            "<tr><td>38</td><td>1</td><td>Összesen</td><td>173</td></tr>",
                            "<tr><td>38</td><td>Összesen</td><td>Összesen</td><td>173</td></tr>",
                            "<tr><td>39</td><td>1</td><td>1 db</td><td>389</td></tr>",
                            "<tr><td>39</td><td>1</td><td>Összesen</td><td>389</td></tr>",
                            "<tr><td>39</td><td>3</td><td>3 db</td><td>105</td></tr>",
                            "<tr><td>39</td><td>3</td><td>Összesen</td><td>105</td></tr>",
                            "<tr><td>39</td><td>Összesen</td><td>Összesen</td><td>494</td></tr>",
                            "<tr><td>40</td><td>6</td><td>6 db</td><td>900</td></tr>",
                            "<tr><td>40</td><td>6</td><td>Összesen</td><td>900</td></tr>",
                            "<tr><td>40</td><td>Összesen</td><td>Összesen</td><td>900</td></tr>",
                            "<tr><td>41</td><td>5</td><td>5 db</td><td>2000</td></tr>",
                            "<tr><td>41</td><td>5</td><td>Összesen</td><td>2000</td></tr>",
                            "<tr><td>41</td><td>7</td><td>7 db</td><td>100</td></tr>",
                            "<tr><td>41</td><td>7</td><td>Összesen</td><td>100</td></tr>",
                            "<tr><td>41</td><td>8</td><td>8 db</td><td>900</td></tr>",
                            "<tr><td>41</td><td>8</td><td>Összesen</td><td>900</td></tr>",
                            "<tr><td>41</td><td>9</td><td>9 csomag</td><td>200</td></tr>",
                            "<tr><td>41</td><td>9</td><td>9 db</td><td>1400</td></tr>",
                            "<tr><td>41</td><td>9</td><td>Összesen</td><td>1600</td></tr>",
                            "<tr><td>41</td><td>Összesen</td><td>Összesen</td><td>4600</td></tr>",
                            "<tr><td>42</td><td>7</td><td>7 db</td><td>500</td></tr>",
                            "<tr><td>42</td><td>7</td><td>Összesen</td><td>500</td></tr>",
                            "<tr><td>42</td><td>Összesen</td><td>Összesen</td><td>500</td></tr>",
                            "<tr><td>43</td><td>8</td><td>8 ív</td><td>200</td></tr>",
                            "<tr><td>43</td><td>8</td><td>Összesen</td><td>200</td></tr>",
                            "<tr><td>43</td><td>9</td><td>9 ív</td><td>100</td></tr>",
                            "<tr><td>43</td><td>9</td><td>Összesen</td><td>100</td></tr>",
                            "<tr><td>43</td><td>Összesen</td><td>Összesen</td><td>300</td></tr>",
                            "<tr><td>44</td><td>9</td><td>9 db</td><td>200</td></tr>",
                            "<tr><td>44</td><td>9</td><td>Összesen</td><td>200</td></tr>",
                            "<tr><td>44</td><td>Összesen</td><td>Összesen</td><td>200</td></tr>",
                            "<tr><td>45</td><td>5</td><td>5 db</td><td>800</td></tr>",
                            "<tr><td>45</td><td>5</td><td>Összesen</td><td>800</td></tr>",
                            "<tr><td>45</td><td>6</td><td>6 db</td><td>5200</td></tr>",
                            "<tr><td>45</td><td>6</td><td>Összesen</td><td>5200</td></tr>",
                            "<tr><td>45</td><td>7</td><td>7 db</td><td>500</td></tr>",
                            "<tr><td>45</td><td>7</td><td>Összesen</td><td>500</td></tr>",
                            "<tr><td>45</td><td>8</td><td>8 db</td><td>5200</td></tr>",
                            "<tr><td>45</td><td>8</td><td>Összesen</td><td>5200</td></tr>",
                            "<tr><td>45</td><td>9</td><td>9 db</td><td>2200</td></tr>",
                            "<tr><td>45</td><td>9</td><td>Összesen</td><td>2200</td></tr>",
                            "<tr><td>45</td><td>Összesen</td><td>Összesen</td><td>13900</td></tr>",
                            "<tr><td>46</td><td>2</td><td>2 db</td><td>100</td></tr>",
                            "<tr><td>46</td><td>2</td><td>Összesen</td><td>100</td></tr>",
                            "<tr><td>46</td><td>6</td><td>6 db</td><td>900</td></tr>",
                            "<tr><td>46</td><td>6</td><td>Összesen</td><td>900</td></tr>",
                            "<tr><td>46</td><td>7</td><td>7 csomag</td><td>300</td></tr>",
                            "<tr><td>46</td><td>7</td><td>7 db</td><td>300</td></tr>",
                            "<tr><td>46</td><td>7</td><td>Összesen</td><td>600</td></tr>",
                            "<tr><td>46</td><td>9</td><td>9 db</td><td>600</td></tr>",
                            "<tr><td>46</td><td>9</td><td>Összesen</td><td>600</td></tr>",
                            "<tr><td>46</td><td>Összesen</td><td>Összesen</td><td>2200</td></tr>",
                            "<tr><td>47</td><td>6</td><td>6 db</td><td>2900</td></tr>",
                            "<tr><td>47</td><td>6</td><td>Összesen</td><td>2900</td></tr>",
                            "<tr><td>47</td><td>7</td><td>7 db</td><td>400</td></tr>",
                            "<tr><td>47</td><td>7</td><td>Összesen</td><td>400</td></tr>",
                            "<tr><td>47</td><td>9</td><td>9 db</td><td>1500</td></tr>",
                            "<tr><td>47</td><td>9</td><td>Összesen</td><td>1500</td></tr>",
                            "<tr><td>47</td><td>Összesen</td><td>Összesen</td><td>4800</td></tr>",
                            "<tr><td>48</td><td>7</td><td>7 db</td><td>3200</td></tr>",
                            "<tr><td>48</td><td>7</td><td>Összesen</td><td>3200</td></tr>",
                            "<tr><td>48</td><td>8</td><td>8 db</td><td>400</td></tr>",
                            "<tr><td>48</td><td>8</td><td>Összesen</td><td>400</td></tr>",
                            "<tr><td>48</td><td>Összesen</td><td>Összesen</td><td>3600</td></tr>",
                            "<tr><td>49</td><td>5</td><td>5 csomag</td><td>100</td></tr>",
                            "<tr><td>49</td><td>5</td><td>Összesen</td><td>100</td></tr>",
                            "<tr><td>49</td><td>8</td><td>8 csomag</td><td>200</td></tr>",
                            "<tr><td>49</td><td>8</td><td>Összesen</td><td>200</td></tr>",
                            "<tr><td>49</td><td>Összesen</td><td>Összesen</td><td>300</td></tr>",
                            "<tr><td>50</td><td>7</td><td>7 csomag</td><td>500</td></tr>",
                            "<tr><td>50</td><td>7</td><td>Összesen</td><td>500</td></tr>",
                            "<tr><td>50</td><td>Összesen</td><td>Összesen</td><td>500</td></tr>",
                            "<tr><td>51</td><td>7</td><td>7 csomag</td><td>4700</td></tr>",
                            "<tr><td>51</td><td>7</td><td>Összesen</td><td>4700</td></tr>",
                            "<tr><td>51</td><td>8</td><td>8 db</td><td>1500</td></tr>",
                            "<tr><td>51</td><td>8</td><td>Összesen</td><td>1500</td></tr>",
                            "<tr><td>51</td><td>9</td><td>9 csomag</td><td>200</td></tr>",
                            "<tr><td>51</td><td>9</td><td>Összesen</td><td>200</td></tr>",
                            "<tr><td>51</td><td>Összesen</td><td>Összesen</td><td>6400</td></tr>",
                            "<tr><td>52</td><td>5</td><td>5 db</td><td>8500</td></tr>",
                            "<tr><td>52</td><td>5</td><td>Összesen</td><td>8500</td></tr>",
                            "<tr><td>52</td><td>6</td><td>6 db</td><td>38300</td></tr>",
                            "<tr><td>52</td><td>6</td><td>Összesen</td><td>38300</td></tr>",
                            "<tr><td>52</td><td>7</td><td>7 db</td><td>65700</td></tr>",
                            "<tr><td>52</td><td>7</td><td>Összesen</td><td>65700</td></tr>",
                            "<tr><td>52</td><td>8</td><td>8 db</td><td>47200</td></tr>",
                            "<tr><td>52</td><td>8</td><td>Összesen</td><td>47200</td></tr>",
                            "<tr><td>52</td><td>9</td><td>9 db</td><td>1800</td></tr>",
                            "<tr><td>52</td><td>9</td><td>Összesen</td><td>1800</td></tr>",
                            "<tr><td>52</td><td>Összesen</td><td>Összesen</td><td>161500</td></tr>",
                            "<tr><td>53</td><td>9</td><td>9 csomag</td><td>400</td></tr>",
                            "<tr><td>53</td><td>9</td><td>Összesen</td><td>400</td></tr>",
                            "<tr><td>53</td><td>Összesen</td><td>Összesen</td><td>400</td></tr>",
                            "<tr><td>54</td><td>1</td><td>1 db</td><td>640</td></tr>",
                            "<tr><td>54</td><td>1</td><td>Összesen</td><td>640</td></tr>",
                            "<tr><td>54</td><td>2</td><td>2 db</td><td>406</td></tr>",
                            "<tr><td>54</td><td>2</td><td>Összesen</td><td>406</td></tr>",
                            "<tr><td>54</td><td>3</td><td>3 db</td><td>671</td></tr>",
                            "<tr><td>54</td><td>3</td><td>Összesen</td><td>671</td></tr>",
                            "<tr><td>54</td><td>Összesen</td><td>Összesen</td><td>1717</td></tr>",
                            "<tr><td>55</td><td>1</td><td>1 db</td><td>474</td></tr>",
                            "<tr><td>55</td><td>1</td><td>Összesen</td><td>474</td></tr>",
                            "<tr><td>55</td><td>Összesen</td><td>Összesen</td><td>474</td></tr>",
                            "<tr><td>56</td><td>1</td><td>1 db</td><td>162</td></tr>",
                            "<tr><td>56</td><td>1</td><td>Összesen</td><td>162</td></tr>",
                            "<tr><td>56</td><td>3</td><td>3 db</td><td>831</td></tr>",
                            "<tr><td>56</td><td>3</td><td>Összesen</td><td>831</td></tr>",
                            "<tr><td>56</td><td>Összesen</td><td>Összesen</td><td>993</td></tr>",
                            "<tr><td>57</td><td>3</td><td>3 db</td><td>468</td></tr>",
                            "<tr><td>57</td><td>3</td><td>Összesen</td><td>468</td></tr>",
                            "<tr><td>57</td><td>Összesen</td><td>Összesen</td><td>468</td></tr>",
                            "<tr><td>58</td><td>5</td><td>5 db</td><td>200</td></tr>",
                            "<tr><td>58</td><td>5</td><td>Összesen</td><td>200</td></tr>",
                            "<tr><td>58</td><td>7</td><td>7 db</td><td>1200</td></tr>",
                            "<tr><td>58</td><td>7</td><td>Összesen</td><td>1200</td></tr>",
                            "<tr><td>58</td><td>8</td><td>8 db</td><td>1000</td></tr>",
                            "<tr><td>58</td><td>8</td><td>Összesen</td><td>1000</td></tr>",
                            "<tr><td>58</td><td>Összesen</td><td>Összesen</td><td>2400</td></tr>",
                            "<tr><td>59</td><td>5</td><td>5 csomag</td><td>1900</td></tr>",
                            "<tr><td>59</td><td>5</td><td>Összesen</td><td>1900</td></tr>",
                            "<tr><td>59</td><td>6</td><td>6 db</td><td>100</td></tr>",
                            "<tr><td>59</td><td>6</td><td>Összesen</td><td>100</td></tr>",
                            "<tr><td>59</td><td>8</td><td>8 db</td><td>400</td></tr>",
                            "<tr><td>59</td><td>8</td><td>Összesen</td><td>400</td></tr>",
                            "<tr><td>59</td><td>9</td><td>9 csomag</td><td>300</td></tr>",
                            "<tr><td>59</td><td>9</td><td>Összesen</td><td>300</td></tr>",
                            "<tr><td>59</td><td>Összesen</td><td>Összesen</td><td>2700</td></tr>",
                            "<tr><td>60</td><td>6</td><td>6 db</td><td>700</td></tr>",
                            "<tr><td>60</td><td>6</td><td>Összesen</td><td>700</td></tr>",
                            "<tr><td>60</td><td>7</td><td>7 db</td><td>2600</td></tr>",
                            "<tr><td>60</td><td>7</td><td>Összesen</td><td>2600</td></tr>",
                            "<tr><td>60</td><td>9</td><td>9 db</td><td>2100</td></tr>",
                            "<tr><td>60</td><td>9</td><td>Összesen</td><td>2100</td></tr>",
                            "<tr><td>60</td><td>Összesen</td><td>Összesen</td><td>5400</td></tr>",
                            "<tr><td>61</td><td>8</td><td>8 db</td><td>700</td></tr>",
                            "<tr><td>61</td><td>8</td><td>Összesen</td><td>700</td></tr>",
                            "<tr><td>61</td><td>Összesen</td><td>Összesen</td><td>700</td></tr>",
                            "<tr><td>62</td><td>9</td><td>9 db</td><td>3300</td></tr>",
                            "<tr><td>62</td><td>9</td><td>Összesen</td><td>3300</td></tr>",
                            "<tr><td>62</td><td>Összesen</td><td>Összesen</td><td>3300</td></tr>",
                            "<tr><td>64</td><td>6</td><td>6 db</td><td>1500</td></tr>",
                            "<tr><td>64</td><td>6</td><td>Összesen</td><td>1500</td></tr>",
                            "<tr><td>64</td><td>8</td><td>8 db</td><td>1200</td></tr>",
                            "<tr><td>64</td><td>8</td><td>Összesen</td><td>1200</td></tr>",
                            "<tr><td>64</td><td>Összesen</td><td>Összesen</td><td>2700</td></tr>",
                            "<tr><td>65</td><td>7</td><td>7 db</td><td>100</td></tr>",
                            "<tr><td>65</td><td>7</td><td>Összesen</td><td>100</td></tr>",
                            "<tr><td>65</td><td>9</td><td>9 db</td><td>200</td></tr>",
                            "<tr><td>65</td><td>9</td><td>Összesen</td><td>200</td></tr>",
                            "<tr><td>65</td><td>Összesen</td><td>Összesen</td><td>300</td></tr>",
                            "<tr><td>66</td><td>5</td><td>5 db</td><td>400</td></tr>",
                            "<tr><td>66</td><td>5</td><td>Összesen</td><td>400</td></tr>",
                            "<tr><td>66</td><td>6</td><td>6 db</td><td>300</td></tr>",
                            "<tr><td>66</td><td>6</td><td>Összesen</td><td>300</td></tr>",
                            "<tr><td>66</td><td>7</td><td>7 db</td><td>600</td></tr>",
                            "<tr><td>66</td><td>7</td><td>Összesen</td><td>600</td></tr>",
                            "<tr><td>66</td><td>8</td><td>8 db</td><td>500</td></tr>",
                            "<tr><td>66</td><td>8</td><td>Összesen</td><td>500</td></tr>",
                            "<tr><td>66</td><td>9</td><td>9 db</td><td>100</td></tr>",
                            "<tr><td>66</td><td>9</td><td>Összesen</td><td>100</td></tr>",
                            "<tr><td>66</td><td>Összesen</td><td>Összesen</td><td>1900</td></tr>",
                            "<tr><td>67</td><td>7</td><td>7 db</td><td>300</td></tr>",
                            "<tr><td>67</td><td>7</td><td>Összesen</td><td>300</td></tr>",
                            "<tr><td>67</td><td>8</td><td>8 db</td><td>300</td></tr>",
                            "<tr><td>67</td><td>8</td><td>Összesen</td><td>300</td></tr>",
                            "<tr><td>67</td><td>Összesen</td><td>Összesen</td><td>600</td></tr>",
                            "<tr><td>68</td><td>5</td><td>5 db</td><td>300</td></tr>",
                            "<tr><td>68</td><td>5</td><td>Összesen</td><td>300</td></tr>",
                            "<tr><td>68</td><td>Összesen</td><td>Összesen</td><td>300</td></tr>",
                            "<tr><td>70</td><td>6</td><td>6 db</td><td>1500</td></tr>",
                            "<tr><td>70</td><td>6</td><td>Összesen</td><td>1500</td></tr>",
                            "<tr><td>70</td><td>8</td><td>8 db</td><td>600</td></tr>",
                            "<tr><td>70</td><td>8</td><td>Összesen</td><td>600</td></tr>",
                            "<tr><td>70</td><td>Összesen</td><td>Összesen</td><td>2100</td></tr>",
                            "<tr><td>71</td><td>5</td><td>5 db</td><td>1100</td></tr>",
                            "<tr><td>71</td><td>5</td><td>Összesen</td><td>1100</td></tr>",
                            "<tr><td>71</td><td>9</td><td>9 db</td><td>700</td></tr>",
                            "<tr><td>71</td><td>9</td><td>Összesen</td><td>700</td></tr>",
                            "<tr><td>71</td><td>Összesen</td><td>Összesen</td><td>1800</td></tr>",
                            "<tr><td>72</td><td>6</td><td>6 db</td><td>2500</td></tr>",
                            "<tr><td>72</td><td>6</td><td>Összesen</td><td>2500</td></tr>",
                            "<tr><td>72</td><td>7</td><td>7 db</td><td>600</td></tr>",
                            "<tr><td>72</td><td>7</td><td>Összesen</td><td>600</td></tr>",
                            "<tr><td>72</td><td>Összesen</td><td>Összesen</td><td>3100</td></tr>",
                            "<tr><td>73</td><td>7</td><td>7 db</td><td>800</td></tr>",
                            "<tr><td>73</td><td>7</td><td>Összesen</td><td>800</td></tr>",
                            "<tr><td>73</td><td>8</td><td>8 db</td><td>200</td></tr>",
                            "<tr><td>73</td><td>8</td><td>Összesen</td><td>200</td></tr>",
                            "<tr><td>73</td><td>Összesen</td><td>Összesen</td><td>1000</td></tr>",
                            "<tr><td>74</td><td>5</td><td>5 db</td><td>300</td></tr>",
                            "<tr><td>74</td><td>5</td><td>Összesen</td><td>300</td></tr>",
                            "<tr><td>74</td><td>Összesen</td><td>Összesen</td><td>300</td></tr>",
                            "<tr><td>75</td><td>8</td><td>8 db</td><td>500</td></tr>",
                            "<tr><td>75</td><td>8</td><td>Összesen</td><td>500</td></tr>",
                            "<tr><td>75</td><td>Összesen</td><td>Összesen</td><td>500</td></tr>",
                            "<tr><td>76</td><td>5</td><td>5 db</td><td>400</td></tr>",
                            "<tr><td>76</td><td>5</td><td>Összesen</td><td>400</td></tr>",
                            "<tr><td>76</td><td>6</td><td>6 db</td><td>500</td></tr>",
                            "<tr><td>76</td><td>6</td><td>Összesen</td><td>500</td></tr>",
                            "<tr><td>76</td><td>7</td><td>7 db</td><td>200</td></tr>",
                            "<tr><td>76</td><td>7</td><td>Összesen</td><td>200</td></tr>",
                            "<tr><td>76</td><td>Összesen</td><td>Összesen</td><td>1100</td></tr>",
                            "<tr><td>78</td><td>5</td><td>5 csomag</td><td>900</td></tr>",
                            "<tr><td>78</td><td>5</td><td>5 db</td><td>1600</td></tr>",
                            "<tr><td>78</td><td>5</td><td>Összesen</td><td>2500</td></tr>",
                            "<tr><td>78</td><td>6</td><td>6 csomag</td><td>450</td></tr>",
                            "<tr><td>78</td><td>6</td><td>6 db</td><td>4400</td></tr>",
                            "<tr><td>78</td><td>6</td><td>Összesen</td><td>4850</td></tr>",
                            "<tr><td>78</td><td>7</td><td>7 csomag</td><td>900</td></tr>",
                            "<tr><td>78</td><td>7</td><td>7 db</td><td>5200</td></tr>",
                            "<tr><td>78</td><td>7</td><td>Összesen</td><td>6100</td></tr>",
                            "<tr><td>78</td><td>8</td><td>8 db</td><td>5600</td></tr>",
                            "<tr><td>78</td><td>8</td><td>Összesen</td><td>5600</td></tr>",
                            "<tr><td>78</td><td>9</td><td>9 db</td><td>200</td></tr>",
                            "<tr><td>78</td><td>9</td><td>Összesen</td><td>200</td></tr>",
                            "<tr><td>78</td><td>Összesen</td><td>Összesen</td><td>19250</td></tr>",
                            "<tr><td>79</td><td>7</td><td>7 db</td><td>1400</td></tr>",
                            "<tr><td>79</td><td>7</td><td>Összesen</td><td>1400</td></tr>",
                            "<tr><td>79</td><td>Összesen</td><td>Összesen</td><td>1400</td></tr>",
                            "<tr><td>80</td><td>5</td><td>5 db</td><td>800</td></tr>",
                            "<tr><td>80</td><td>5</td><td>Összesen</td><td>800</td></tr>",
                            "<tr><td>80</td><td>Összesen</td><td>Összesen</td><td>800</td></tr>",
                            "<tr><td>82</td><td>8</td><td>8 db</td><td>1300</td></tr>",
                            "<tr><td>82</td><td>8</td><td>Összesen</td><td>1300</td></tr>",
                            "<tr><td>82</td><td>Összesen</td><td>Összesen</td><td>1300</td></tr>",
                            "<tr><td>83</td><td>5</td><td>5 ív</td><td>1000</td></tr>",
                            "<tr><td>83</td><td>5</td><td>Összesen</td><td>1000</td></tr>",
                            "<tr><td>83</td><td>6</td><td>6 ív</td><td>100</td></tr>",
                            "<tr><td>83</td><td>6</td><td>Összesen</td><td>100</td></tr>",
                            "<tr><td>83</td><td>7</td><td>7 ív</td><td>3100</td></tr>",
                            "<tr><td>83</td><td>7</td><td>Összesen</td><td>3100</td></tr>",
                            "<tr><td>83</td><td>8</td><td>8 ív</td><td>100</td></tr>",
                            "<tr><td>83</td><td>8</td><td>Összesen</td><td>100</td></tr>",
                            "<tr><td>83</td><td>9</td><td>9 ív</td><td>1000</td></tr>",
                            "<tr><td>83</td><td>9</td><td>Összesen</td><td>1000</td></tr>",
                            "<tr><td>83</td><td>Összesen</td><td>Összesen</td><td>5300</td></tr>",
                            "<tr><td>84</td><td>6</td><td>6 db</td><td>2800</td></tr>",
                            "<tr><td>84</td><td>6</td><td>Összesen</td><td>2800</td></tr>",
                            "<tr><td>84</td><td>Összesen</td><td>Összesen</td><td>2800</td></tr>",
                            "<tr><td>85</td><td>5</td><td>5 db</td><td>4000</td></tr>",
                            "<tr><td>85</td><td>5</td><td>Összesen</td><td>4000</td></tr>",
                            "<tr><td>85</td><td>6</td><td>6 db</td><td>11100</td></tr>",
                            "<tr><td>85</td><td>6</td><td>Összesen</td><td>11100</td></tr>",
                            "<tr><td>85</td><td>7</td><td>7 db</td><td>2500</td></tr>",
                            "<tr><td>85</td><td>7</td><td>Összesen</td><td>2500</td></tr>",
                            "<tr><td>85</td><td>8</td><td>8 db</td><td>5500</td></tr>",
                            "<tr><td>85</td><td>8</td><td>Összesen</td><td>5500</td></tr>",
                            "<tr><td>85</td><td>9</td><td>9 db</td><td>1400</td></tr>",
                            "<tr><td>85</td><td>9</td><td>Összesen</td><td>1400</td></tr>",
                            "<tr><td>85</td><td>Összesen</td><td>Összesen</td><td>24500</td></tr>",
                            "<tr><td>86</td><td>7</td><td>7 db</td><td>1000</td></tr>",
                            "<tr><td>86</td><td>7</td><td>Összesen</td><td>1000</td></tr>",
                            "<tr><td>86</td><td>Összesen</td><td>Összesen</td><td>1000</td></tr>",
                            "<tr><td>88</td><td>2</td><td>2 db</td><td>238</td></tr>",
                            "<tr><td>88</td><td>2</td><td>Összesen</td><td>238</td></tr>",
                            "<tr><td>88</td><td>3</td><td>3 db</td><td>369</td></tr>",
                            "<tr><td>88</td><td>3</td><td>Összesen</td><td>369</td></tr>",
                            "<tr><td>88</td><td>Összesen</td><td>Összesen</td><td>607</td></tr>",
                            "<tr><td>89</td><td>5</td><td>5 db</td><td>100</td></tr>",
                            "<tr><td>89</td><td>5</td><td>Összesen</td><td>100</td></tr>",
                            "<tr><td>89</td><td>6</td><td>6 db</td><td>300</td></tr>",
                            "<tr><td>89</td><td>6</td><td>Összesen</td><td>300</td></tr>",
                            "<tr><td>89</td><td>8</td><td>8 db</td><td>2200</td></tr>",
                            "<tr><td>89</td><td>8</td><td>Összesen</td><td>2200</td></tr>",
                            "<tr><td>89</td><td>Összesen</td><td>Összesen</td><td>2600</td></tr>",
                            "<tr><td>90</td><td>5</td><td>5 ív</td><td>200</td></tr>",
                            "<tr><td>90</td><td>5</td><td>Összesen</td><td>200</td></tr>",
                            "<tr><td>90</td><td>8</td><td>8 Ív</td><td>100</td></tr>",
                            "<tr><td>90</td><td>8</td><td>Összesen</td><td>100</td></tr>",
                            "<tr><td>90</td><td>Összesen</td><td>Összesen</td><td>300</td></tr>",
                            "<tr><td>91</td><td>8</td><td>8 db</td><td>9400</td></tr>",
                            "<tr><td>91</td><td>8</td><td>Összesen</td><td>9400</td></tr>",
                            "<tr><td>91</td><td>9</td><td>9 db</td><td>5310</td></tr>",
                            "<tr><td>91</td><td>9</td><td>Összesen</td><td>5310</td></tr>",
                            "<tr><td>91</td><td>Összesen</td><td>Összesen</td><td>14710</td></tr>",
                            "<tr><td>92</td><td>7</td><td>7 db</td><td>500</td></tr>",
                            "<tr><td>92</td><td>7</td><td>Összesen</td><td>500</td></tr>",
                            "<tr><td>92</td><td>8</td><td>8 db</td><td>600</td></tr>",
                            "<tr><td>92</td><td>8</td><td>Összesen</td><td>600</td></tr>",
                            "<tr><td>92</td><td>Összesen</td><td>Összesen</td><td>1100</td></tr>",
                            "<tr><td>93</td><td>6</td><td>6 csomag</td><td>1600</td></tr>",
                            "<tr><td>93</td><td>6</td><td>6 db</td><td>2100</td></tr>",
                            "<tr><td>93</td><td>6</td><td>Összesen</td><td>3700</td></tr>",
                            "<tr><td>93</td><td>7</td><td>7 db</td><td>1800</td></tr>",
                            "<tr><td>93</td><td>7</td><td>Összesen</td><td>1800</td></tr>",
                            "<tr><td>93</td><td>Összesen</td><td>Összesen</td><td>5500</td></tr>",
                            "<tr><td>94</td><td>6</td><td>6 db</td><td>1300</td></tr>",
                            "<tr><td>94</td><td>6</td><td>Összesen</td><td>1300</td></tr>",
                            "<tr><td>94</td><td>7</td><td>7 db</td><td>3000</td></tr>",
                            "<tr><td>94</td><td>7</td><td>Összesen</td><td>3000</td></tr>",
                            "<tr><td>94</td><td>Összesen</td><td>Összesen</td><td>4300</td></tr>",
                            "<tr><td>95</td><td>7</td><td>7 db</td><td>600</td></tr>",
                            "<tr><td>95</td><td>7</td><td>Összesen</td><td>600</td></tr>",
                            "<tr><td>95</td><td>9</td><td>9 db</td><td>400</td></tr>",
                            "<tr><td>95</td><td>9</td><td>Összesen</td><td>400</td></tr>",
                            "<tr><td>95</td><td>Összesen</td><td>Összesen</td><td>1000</td></tr>",
                            "<tr><td>96</td><td>6</td><td>6 db</td><td>7200</td></tr>",
                            "<tr><td>96</td><td>6</td><td>Összesen</td><td>7200</td></tr>",
                            "<tr><td>96</td><td>7</td><td>7 db</td><td>3800</td></tr>",
                            "<tr><td>96</td><td>7</td><td>Összesen</td><td>3800</td></tr>",
                            "<tr><td>96</td><td>8</td><td>8 db</td><td>1100</td></tr>",
                            "<tr><td>96</td><td>8</td><td>Összesen</td><td>1100</td></tr>",
                            "<tr><td>96</td><td>9</td><td>9 db</td><td>11000</td></tr>",
                            "<tr><td>96</td><td>9</td><td>Összesen</td><td>11000</td></tr>",
                            "<tr><td>96</td><td>Összesen</td><td>Összesen</td><td>23100</td></tr>",
                            "<tr><td>97</td><td>5</td><td>5 db</td><td>6800</td></tr>",
                            "<tr><td>97</td><td>5</td><td>Összesen</td><td>6800</td></tr>",
                            "<tr><td>97</td><td>6</td><td>6 db</td><td>900</td></tr>",
                            "<tr><td>97</td><td>6</td><td>Összesen</td><td>900</td></tr>",
                            "<tr><td>97</td><td>7</td><td>7 db</td><td>700</td></tr>",
                            "<tr><td>97</td><td>7</td><td>Összesen</td><td>700</td></tr>",
                            "<tr><td>97</td><td>8</td><td>8 db</td><td>500</td></tr>",
                            "<tr><td>97</td><td>8</td><td>Összesen</td><td>500</td></tr>",
                            "<tr><td>97</td><td>9</td><td>9 db</td><td>1000</td></tr>",
                            "<tr><td>97</td><td>9</td><td>Összesen</td><td>1000</td></tr>",
                            "<tr><td>97</td><td>Összesen</td><td>Összesen</td><td>9900</td></tr>",
                            "<tr><td>98</td><td>5</td><td>5 db</td><td>200</td></tr>",
                            "<tr><td>98</td><td>5</td><td>Összesen</td><td>200</td></tr>",
                            "<tr><td>98</td><td>6</td><td>6 db</td><td>400</td></tr>",
                            "<tr><td>98</td><td>6</td><td>Összesen</td><td>400</td></tr>",
                            "<tr><td>98</td><td>9</td><td>9 db</td><td>100</td></tr>",
                            "<tr><td>98</td><td>9</td><td>Összesen</td><td>100</td></tr>",
                            "<tr><td>98</td><td>Összesen</td><td>Összesen</td><td>700</td></tr>",
                            "<tr><td>99</td><td>6</td><td>6 db</td><td>400</td></tr>",
                            "<tr><td>99</td><td>6</td><td>Összesen</td><td>400</td></tr>",
                            "<tr><td>99</td><td>Összesen</td><td>Összesen</td><td>400</td></tr>",
                            "<tr><td>100</td><td>5</td><td>5 db</td><td>9500</td></tr>",
                            "<tr><td>100</td><td>5</td><td>Összesen</td><td>9500</td></tr>",
                            "<tr><td>100</td><td>6</td><td>6 db</td><td>5600</td></tr>",
                            "<tr><td>100</td><td>6</td><td>Összesen</td><td>5600</td></tr>",
                            "<tr><td>100</td><td>7</td><td>7 db</td><td>500</td></tr>",
                            "<tr><td>100</td><td>7</td><td>Összesen</td><td>500</td></tr>",
                            "<tr><td>100</td><td>8</td><td>8 db</td><td>900</td></tr>",
                            "<tr><td>100</td><td>8</td><td>Összesen</td><td>900</td></tr>",
                            "<tr><td>100</td><td>9</td><td>9 db</td><td>2000</td></tr>",
                            "<tr><td>100</td><td>9</td><td>Összesen</td><td>2000</td></tr>",
                            "<tr><td>100</td><td>Összesen</td><td>Összesen</td><td>18500</td></tr>",
                            "<tr><td>101</td><td>8</td><td>8 ív</td><td>1800</td></tr>",
                            "<tr><td>101</td><td>8</td><td>Összesen</td><td>1800</td></tr>",
                            "<tr><td>101</td><td>Összesen</td><td>Összesen</td><td>1800</td></tr>",
                            "<tr><td>103</td><td>8</td><td>8 db</td><td>300</td></tr>",
                            "<tr><td>103</td><td>8</td><td>Összesen</td><td>300</td></tr>",
                            "<tr><td>103</td><td>Összesen</td><td>Összesen</td><td>300</td></tr>",
                            "<tr><td>104</td><td>8</td><td>8 db</td><td>1400</td></tr>",
                            "<tr><td>104</td><td>8</td><td>Összesen</td><td>1400</td></tr>",
                            "<tr><td>104</td><td>9</td><td>9 db</td><td>6900</td></tr>",
                            "<tr><td>104</td><td>9</td><td>Összesen</td><td>6900</td></tr>",
                            "<tr><td>104</td><td>Összesen</td><td>Összesen</td><td>8300</td></tr>",
                            "<tr><td>105</td><td>9</td><td>9 db</td><td>9000</td></tr>",
                            "<tr><td>105</td><td>9</td><td>Összesen</td><td>9000</td></tr>",
                            "<tr><td>105</td><td>Összesen</td><td>Összesen</td><td>9000</td></tr>",
                            "<tr><td>106</td><td>5</td><td>5 db</td><td>300</td></tr>",
                            "<tr><td>106</td><td>5</td><td>Összesen</td><td>300</td></tr>",
                            "<tr><td>106</td><td>6</td><td>6 db</td><td>2300</td></tr>",
                            "<tr><td>106</td><td>6</td><td>Összesen</td><td>2300</td></tr>",
                            "<tr><td>106</td><td>9</td><td>9 db</td><td>6000</td></tr>",
                            "<tr><td>106</td><td>9</td><td>Összesen</td><td>6000</td></tr>",
                            "<tr><td>106</td><td>Összesen</td><td>Összesen</td><td>8600</td></tr>",
                            "<tr><td>107</td><td>1</td><td>1 db</td><td>77</td></tr>",
                            "<tr><td>107</td><td>1</td><td>Összesen</td><td>77</td></tr>",
                            "<tr><td>107</td><td>Összesen</td><td>Összesen</td><td>77</td></tr>",
                            "<tr><td>108</td><td>2</td><td>2 db</td><td>289</td></tr>",
                            "<tr><td>108</td><td>2</td><td>Összesen</td><td>289</td></tr>",
                            "<tr><td>108</td><td>Összesen</td><td>Összesen</td><td>289</td></tr>",
                            "<tr><td>109</td><td>7</td><td>7 ív</td><td>1000</td></tr>",
                            "<tr><td>109</td><td>7</td><td>Összesen</td><td>1000</td></tr>",
                            "<tr><td>109</td><td>Összesen</td><td>Összesen</td><td>1000</td></tr>",
                            "<tr><td>110</td><td>9</td><td>9 db</td><td>6800</td></tr>",
                            "<tr><td>110</td><td>9</td><td>Összesen</td><td>6800</td></tr>",
                            "<tr><td>110</td><td>Összesen</td><td>Összesen</td><td>6800</td></tr>",
                            "<tr><td>111</td><td>5</td><td>5 db</td><td>400</td></tr>",
                            "<tr><td>111</td><td>5</td><td>Összesen</td><td>400</td></tr>",
                            "<tr><td>111</td><td>7</td><td>7 db</td><td>100</td></tr>",
                            "<tr><td>111</td><td>7</td><td>Összesen</td><td>100</td></tr>",
                            "<tr><td>111</td><td>8</td><td>8 db</td><td>100</td></tr>",
                            "<tr><td>111</td><td>8</td><td>Összesen</td><td>100</td></tr>",
                            "<tr><td>111</td><td>Összesen</td><td>Összesen</td><td>600</td></tr>",
                            "<tr><td>112</td><td>5</td><td>5 doboz</td><td>100</td></tr>",
                            "<tr><td>112</td><td>5</td><td>Összesen</td><td>100</td></tr>",
                            "<tr><td>112</td><td>8</td><td>8 db</td><td>1100</td></tr>",
                            "<tr><td>112</td><td>8</td><td>Összesen</td><td>1100</td></tr>",
                            "<tr><td>112</td><td>Összesen</td><td>Összesen</td><td>1200</td></tr>",
                            "<tr><td>114</td><td>8</td><td>8 csomag</td><td>5000</td></tr>",
                            "<tr><td>114</td><td>8</td><td>Összesen</td><td>5000</td></tr>",
                            "<tr><td>114</td><td>Összesen</td><td>Összesen</td><td>5000</td></tr>",
                            "<tr><td>115</td><td>8</td><td>8 ív</td><td>200</td></tr>",
                            "<tr><td>115</td><td>8</td><td>Összesen</td><td>200</td></tr>",
                            "<tr><td>115</td><td>Összesen</td><td>Összesen</td><td>200</td></tr>",
                            "<tr><td>116</td><td>6</td><td>6 db</td><td>300</td></tr>",
                            "<tr><td>116</td><td>6</td><td>Összesen</td><td>300</td></tr>",
                            "<tr><td>116</td><td>7</td><td>7 db</td><td>400</td></tr>",
                            "<tr><td>116</td><td>7</td><td>Összesen</td><td>400</td></tr>",
                            "<tr><td>116</td><td>Összesen</td><td>Összesen</td><td>700</td></tr>",
                            "<tr><td>117</td><td>6</td><td>6 db</td><td>100</td></tr>",
                            "<tr><td>117</td><td>6</td><td>Összesen</td><td>100</td></tr>",
                            "<tr><td>117</td><td>9</td><td>9 db</td><td>300</td></tr>",
                            "<tr><td>117</td><td>9</td><td>Összesen</td><td>300</td></tr>",
                            "<tr><td>117</td><td>Összesen</td><td>Összesen</td><td>400</td></tr>",
                            "<tr><td>118</td><td>5</td><td>5 db</td><td>12000</td></tr>",
                            "<tr><td>118</td><td>5</td><td>Összesen</td><td>12000</td></tr>",
                            "<tr><td>118</td><td>7</td><td>7 db</td><td>4000</td></tr>",
                            "<tr><td>118</td><td>7</td><td>Összesen</td><td>4000</td></tr>",
                            "<tr><td>118</td><td>8</td><td>8 db</td><td>59700</td></tr>",
                            "<tr><td>118</td><td>8</td><td>Összesen</td><td>59700</td></tr>",
                            "<tr><td>118</td><td>9</td><td>9 db</td><td>12500</td></tr>",
                            "<tr><td>118</td><td>9</td><td>Összesen</td><td>12500</td></tr>",
                            "<tr><td>118</td><td>Összesen</td><td>Összesen</td><td>88200</td></tr>",
                            "<tr><td>119</td><td>5</td><td>5 db</td><td>100</td></tr>",
                            "<tr><td>119</td><td>5</td><td>Összesen</td><td>100</td></tr>",
                            "<tr><td>119</td><td>7</td><td>7 db</td><td>2000</td></tr>",
                            "<tr><td>119</td><td>7</td><td>Összesen</td><td>2000</td></tr>",
                            "<tr><td>119</td><td>9</td><td>9 db</td><td>500</td></tr>",
                            "<tr><td>119</td><td>9</td><td>Összesen</td><td>500</td></tr>",
                            "<tr><td>119</td><td>Összesen</td><td>Összesen</td><td>2600</td></tr>",
                            "<tr><td>121</td><td>7</td><td>7 db</td><td>1500</td></tr>",
                            "<tr><td>121</td><td>7</td><td>Összesen</td><td>1500</td></tr>",
                            "<tr><td>121</td><td>8</td><td>8 db</td><td>200</td></tr>",
                            "<tr><td>121</td><td>8</td><td>Összesen</td><td>200</td></tr>",
                            "<tr><td>121</td><td>Összesen</td><td>Összesen</td><td>1700</td></tr>",
                            "<tr><td>122</td><td>6</td><td>6 db</td><td>1700</td></tr>",
                            "<tr><td>122</td><td>6</td><td>Összesen</td><td>1700</td></tr>",
                            "<tr><td>122</td><td>7</td><td>7 db</td><td>1100</td></tr>",
                            "<tr><td>122</td><td>7</td><td>Összesen</td><td>1100</td></tr>",
                            "<tr><td>122</td><td>8</td><td>8 db</td><td>2700</td></tr>",
                            "<tr><td>122</td><td>8</td><td>Összesen</td><td>2700</td></tr>",
                            "<tr><td>122</td><td>9</td><td>9 db</td><td>4800</td></tr>",
                            "<tr><td>122</td><td>9</td><td>Összesen</td><td>4800</td></tr>",
                            "<tr><td>122</td><td>Összesen</td><td>Összesen</td><td>10300</td></tr>",
                            "<tr><td>123</td><td>5</td><td>5 db</td><td>1500</td></tr>",
                            "<tr><td>123</td><td>5</td><td>Összesen</td><td>1500</td></tr>",
                            "<tr><td>123</td><td>7</td><td>7 db</td><td>500</td></tr>",
                            "<tr><td>123</td><td>7</td><td>Összesen</td><td>500</td></tr>",
                            "<tr><td>123</td><td>Összesen</td><td>Összesen</td><td>2000</td></tr>",
                            "<tr><td>124</td><td>5</td><td>5 db</td><td>3900</td></tr>",
                            "<tr><td>124</td><td>5</td><td>Összesen</td><td>3900</td></tr>",
                            "<tr><td>124</td><td>6</td><td>6 db</td><td>2700</td></tr>",
                            "<tr><td>124</td><td>6</td><td>Összesen</td><td>2700</td></tr>",
                            "<tr><td>124</td><td>7</td><td>7 db</td><td>100</td></tr>",
                            "<tr><td>124</td><td>7</td><td>Összesen</td><td>100</td></tr>",
                            "<tr><td>124</td><td>8</td><td>8 db</td><td>4100</td></tr>",
                            "<tr><td>124</td><td>8</td><td>Összesen</td><td>4100</td></tr>",
                            "<tr><td>124</td><td>9</td><td>9 db</td><td>5100</td></tr>",
                            "<tr><td>124</td><td>9</td><td>Összesen</td><td>5100</td></tr>",
                            "<tr><td>124</td><td>Összesen</td><td>Összesen</td><td>15900</td></tr>",
                            "<tr><td>125</td><td>6</td><td>6 db</td><td>500</td></tr>",
                            "<tr><td>125</td><td>6</td><td>Összesen</td><td>500</td></tr>",
                            "<tr><td>125</td><td>7</td><td>7 db</td><td>1100</td></tr>",
                            "<tr><td>125</td><td>7</td><td>Összesen</td><td>1100</td></tr>",
                            "<tr><td>125</td><td>9</td><td>9 db</td><td>300</td></tr>",
                            "<tr><td>125</td><td>9</td><td>Összesen</td><td>300</td></tr>",
                            "<tr><td>125</td><td>Összesen</td><td>Összesen</td><td>1900</td></tr>",
                            "<tr><td>126</td><td>9</td><td>9 csomag</td><td>400</td></tr>",
                            "<tr><td>126</td><td>9</td><td>Összesen</td><td>400</td></tr>",
                            "<tr><td>126</td><td>Összesen</td><td>Összesen</td><td>400</td></tr>",
                            "<tr><td>127</td><td>5</td><td>5 csomag</td><td>200</td></tr>",
                            "<tr><td>127</td><td>5</td><td>Összesen</td><td>200</td></tr>",
                            "<tr><td>127</td><td>9</td><td>9 csomag</td><td>3000</td></tr>",
                            "<tr><td>127</td><td>9</td><td>Összesen</td><td>3000</td></tr>",
                            "<tr><td>127</td><td>Összesen</td><td>Összesen</td><td>3200</td></tr>",
                            "<tr><td>128</td><td>6</td><td>6 db</td><td>600</td></tr>",
                            "<tr><td>128</td><td>6</td><td>Összesen</td><td>600</td></tr>",
                            "<tr><td>128</td><td>8</td><td>8 csomag</td><td>200</td></tr>",
                            "<tr><td>128</td><td>8</td><td>Összesen</td><td>200</td></tr>",
                            "<tr><td>128</td><td>Összesen</td><td>Összesen</td><td>800</td></tr>",
                            "<tr><td>129</td><td>5</td><td>5 db</td><td>200</td></tr>",
                            "<tr><td>129</td><td>5</td><td>Összesen</td><td>200</td></tr>",
                            "<tr><td>129</td><td>9</td><td>9 db</td><td>500</td></tr>",
                            "<tr><td>129</td><td>9</td><td>Összesen</td><td>500</td></tr>",
                            "<tr><td>129</td><td>Összesen</td><td>Összesen</td><td>700</td></tr>",
                            "<tr><td>130</td><td>1</td><td>1 db</td><td>77</td></tr>",
                            "<tr><td>130</td><td>1</td><td>Összesen</td><td>77</td></tr>",
                            "<tr><td>130</td><td>Összesen</td><td>Összesen</td><td>77</td></tr>",
                            "<tr><td>131</td><td>9</td><td>9 db</td><td>300</td></tr>",
                            "<tr><td>131</td><td>9</td><td>Összesen</td><td>300</td></tr>",
                            "<tr><td>131</td><td>Összesen</td><td>Összesen</td><td>300</td></tr>",
                            "<tr><td>132</td><td>8</td><td>8 db</td><td>100</td></tr>",
                            "<tr><td>132</td><td>8</td><td>Összesen</td><td>100</td></tr>",
                            "<tr><td>132</td><td>Összesen</td><td>Összesen</td><td>100</td></tr>",
                            "<tr><td>133</td><td>5</td><td>5 csomag</td><td>1200</td></tr>",
                            "<tr><td>133</td><td>5</td><td>Összesen</td><td>1200</td></tr>",
                            "<tr><td>133</td><td>6</td><td>6 csomag</td><td>1000</td></tr>",
                            "<tr><td>133</td><td>6</td><td>Összesen</td><td>1000</td></tr>",
                            "<tr><td>133</td><td>7</td><td>7 csomag</td><td>1500</td></tr>",
                            "<tr><td>133</td><td>7</td><td>Összesen</td><td>1500</td></tr>",
                            "<tr><td>133</td><td>8</td><td>8 csomag</td><td>400</td></tr>",
                            "<tr><td>133</td><td>8</td><td>Összesen</td><td>400</td></tr>",
                            "<tr><td>133</td><td>9</td><td>9 csomag</td><td>100</td></tr>",
                            "<tr><td>133</td><td>9</td><td>Összesen</td><td>100</td></tr>",
                            "<tr><td>133</td><td>Összesen</td><td>Összesen</td><td>4200</td></tr>",
                            "<tr><td>134</td><td>5</td><td>5 db</td><td>200</td></tr>",
                            "<tr><td>134</td><td>5</td><td>Összesen</td><td>200</td></tr>",
                            "<tr><td>134</td><td>6</td><td>6 db</td><td>300</td></tr>",
                            "<tr><td>134</td><td>6</td><td>Összesen</td><td>300</td></tr>",
                            "<tr><td>134</td><td>Összesen</td><td>Összesen</td><td>500</td></tr>",
                            "<tr><td>135</td><td>7</td><td>7 csomag</td><td>300</td></tr>",
                            "<tr><td>135</td><td>7</td><td>Összesen</td><td>300</td></tr>",
                            "<tr><td>135</td><td>Összesen</td><td>Összesen</td><td>300</td></tr>",
                            "<tr><td>136</td><td>7</td><td>7 db</td><td>3000</td></tr>",
                            "<tr><td>136</td><td>7</td><td>Összesen</td><td>3000</td></tr>",
                            "<tr><td>136</td><td>8</td><td>8 db</td><td>2200</td></tr>",
                            "<tr><td>136</td><td>8</td><td>Összesen</td><td>2200</td></tr>",
                            "<tr><td>136</td><td>Összesen</td><td>Összesen</td><td>5200</td></tr>",
                            "<tr><td>137</td><td>6</td><td>6 db</td><td>300</td></tr>",
                            "<tr><td>137</td><td>6</td><td>Összesen</td><td>300</td></tr>",
                            "<tr><td>137</td><td>9</td><td>9 db</td><td>200</td></tr>",
                            "<tr><td>137</td><td>9</td><td>Összesen</td><td>200</td></tr>",
                            "<tr><td>137</td><td>Összesen</td><td>Összesen</td><td>500</td></tr>",
                            "<tr><td>138</td><td>5</td><td>5 db</td><td>500</td></tr>",
                            "<tr><td>138</td><td>5</td><td>Összesen</td><td>500</td></tr>",
                            "<tr><td>138</td><td>6</td><td>6 csomag</td><td>100</td></tr>",
                            "<tr><td>138</td><td>6</td><td>Összesen</td><td>100</td></tr>",
                            "<tr><td>138</td><td>7</td><td>7 db</td><td>900</td></tr>",
                            "<tr><td>138</td><td>7</td><td>Összesen</td><td>900</td></tr>",
                            "<tr><td>138</td><td>8</td><td>8 db</td><td>100</td></tr>",
                            "<tr><td>138</td><td>8</td><td>Összesen</td><td>100</td></tr>",
                            "<tr><td>138</td><td>9</td><td>9 db</td><td>200</td></tr>",
                            "<tr><td>138</td><td>9</td><td>Összesen</td><td>200</td></tr>",
                            "<tr><td>138</td><td>Összesen</td><td>Összesen</td><td>1800</td></tr>",
                            "<tr><td>139</td><td>9</td><td>9 csomag</td><td>500</td></tr>",
                            "<tr><td>139</td><td>9</td><td>Összesen</td><td>500</td></tr>",
                            "<tr><td>139</td><td>Összesen</td><td>Összesen</td><td>500</td></tr>",
                            "<tr><td>140</td><td>6</td><td>6 db</td><td>1600</td></tr>",
                            "<tr><td>140</td><td>6</td><td>Összesen</td><td>1600</td></tr>",
                            "<tr><td>140</td><td>Összesen</td><td>Összesen</td><td>1600</td></tr>",
                            "<tr><td>141</td><td>8</td><td>8 db</td><td>200</td></tr>",
                            "<tr><td>141</td><td>8</td><td>Összesen</td><td>200</td></tr>",
                            "<tr><td>141</td><td>Összesen</td><td>Összesen</td><td>200</td></tr>",
                            "<tr><td>142</td><td>6</td><td>6 csomag</td><td>100</td></tr>",
                            "<tr><td>142</td><td>6</td><td>Összesen</td><td>100</td></tr>",
                            "<tr><td>142</td><td>Összesen</td><td>Összesen</td><td>100</td></tr>",
                            "<tr><td>143</td><td>7</td><td>7 csomag</td><td>200</td></tr>",
                            "<tr><td>143</td><td>7</td><td>7 db</td><td>200</td></tr>",
                            "<tr><td>143</td><td>7</td><td>Összesen</td><td>400</td></tr>",
                            "<tr><td>143</td><td>9</td><td>9 db</td><td>200</td></tr>",
                            "<tr><td>143</td><td>9</td><td>Összesen</td><td>200</td></tr>",
                            "<tr><td>143</td><td>Összesen</td><td>Összesen</td><td>600</td></tr>",
                            "<tr><td>144</td><td>5</td><td>5 db</td><td>200</td></tr>",
                            "<tr><td>144</td><td>5</td><td>Összesen</td><td>200</td></tr>",
                            "<tr><td>144</td><td>9</td><td>9 db</td><td>200</td></tr>",
                            "<tr><td>144</td><td>9</td><td>Összesen</td><td>200</td></tr>",
                            "<tr><td>144</td><td>Összesen</td><td>Összesen</td><td>400</td></tr>",
                            "<tr><td>145</td><td>5</td><td>5 db</td><td>1700</td></tr>",
                            "<tr><td>145</td><td>5</td><td>Összesen</td><td>1700</td></tr>",
                            "<tr><td>145</td><td>6</td><td>6 db</td><td>8000</td></tr>",
                            "<tr><td>145</td><td>6</td><td>Összesen</td><td>8000</td></tr>",
                            "<tr><td>145</td><td>7</td><td>7 db</td><td>4300</td></tr>",
                            "<tr><td>145</td><td>7</td><td>Összesen</td><td>4300</td></tr>",
                            "<tr><td>145</td><td>8</td><td>8 db</td><td>2200</td></tr>",
                            "<tr><td>145</td><td>8</td><td>Összesen</td><td>2200</td></tr>",
                            "<tr><td>145</td><td>9</td><td>9 db</td><td>2200</td></tr>",
                            "<tr><td>145</td><td>9</td><td>Összesen</td><td>2200</td></tr>",
                            "<tr><td>145</td><td>Összesen</td><td>Összesen</td><td>18400</td></tr>",
                            "<tr><td>146</td><td>5</td><td>5 db</td><td>200</td></tr>",
                            "<tr><td>146</td><td>5</td><td>Összesen</td><td>200</td></tr>",
                            "<tr><td>146</td><td>7</td><td>7 db</td><td>4000</td></tr>",
                            "<tr><td>146</td><td>7</td><td>Összesen</td><td>4000</td></tr>",
                            "<tr><td>146</td><td>8</td><td>8 csomag</td><td>700</td></tr>",
                            "<tr><td>146</td><td>8</td><td>Összesen</td><td>700</td></tr>",
                            "<tr><td>146</td><td>9</td><td>9 db</td><td>1000</td></tr>",
                            "<tr><td>146</td><td>9</td><td>Összesen</td><td>1000</td></tr>",
                            "<tr><td>146</td><td>Összesen</td><td>Összesen</td><td>5900</td></tr>",
                            "<tr><td>147</td><td>8</td><td>8 db</td><td>100</td></tr>",
                            "<tr><td>147</td><td>8</td><td>Összesen</td><td>100</td></tr>",
                            "<tr><td>147</td><td>Összesen</td><td>Összesen</td><td>100</td></tr>",
                            "<tr><td>148</td><td>5</td><td>5 üveg</td><td>300</td></tr>",
                            "<tr><td>148</td><td>5</td><td>Összesen</td><td>300</td></tr>",
                            "<tr><td>148</td><td>Összesen</td><td>Összesen</td><td>300</td></tr>",
                            "<tr><td>149</td><td>5</td><td>5 db</td><td>2000</td></tr>",
                            "<tr><td>149</td><td>5</td><td>Összesen</td><td>2000</td></tr>",
                            "<tr><td>149</td><td>6</td><td>6 db</td><td>10200</td></tr>",
                            "<tr><td>149</td><td>6</td><td>Összesen</td><td>10200</td></tr>",
                            "<tr><td>149</td><td>8</td><td>8 db</td><td>600</td></tr>",
                            "<tr><td>149</td><td>8</td><td>Összesen</td><td>600</td></tr>",
                            "<tr><td>149</td><td>Összesen</td><td>Összesen</td><td>12800</td></tr>",
                            "<tr><td>150</td><td>7</td><td>7 csomag</td><td>300</td></tr>",
                            "<tr><td>150</td><td>7</td><td>Összesen</td><td>300</td></tr>",
                            "<tr><td>150</td><td>9</td><td>9 csomag</td><td>4200</td></tr>",
                            "<tr><td>150</td><td>9</td><td>Összesen</td><td>4200</td></tr>",
                            "<tr><td>150</td><td>Összesen</td><td>Összesen</td><td>4500</td></tr>",
                            "<tr><td>151</td><td>6</td><td>6 db</td><td>200</td></tr>",
                            "<tr><td>151</td><td>6</td><td>Összesen</td><td>200</td></tr>",
                            "<tr><td>151</td><td>7</td><td>7 db</td><td>200</td></tr>",
                            "<tr><td>151</td><td>7</td><td>Összesen</td><td>200</td></tr>",
                            "<tr><td>151</td><td>Összesen</td><td>Összesen</td><td>400</td></tr>",
                            "<tr><td>152</td><td>6</td><td>6 db</td><td>100</td></tr>",
                            "<tr><td>152</td><td>6</td><td>Összesen</td><td>100</td></tr>",
                            "<tr><td>152</td><td>7</td><td>7 db</td><td>100</td></tr>",
                            "<tr><td>152</td><td>7</td><td>Összesen</td><td>100</td></tr>",
                            "<tr><td>152</td><td>8</td><td>8 db</td><td>2800</td></tr>",
                            "<tr><td>152</td><td>8</td><td>Összesen</td><td>2800</td></tr>",
                            "<tr><td>152</td><td>9</td><td>9 db</td><td>200</td></tr>",
                            "<tr><td>152</td><td>9</td><td>Összesen</td><td>200</td></tr>",
                            "<tr><td>152</td><td>Összesen</td><td>Összesen</td><td>3200</td></tr>",
                            "<tr><td>153</td><td>5</td><td>5 db</td><td>200</td></tr>",
                            "<tr><td>153</td><td>5</td><td>Összesen</td><td>200</td></tr>",
                            "<tr><td>153</td><td>Összesen</td><td>Összesen</td><td>200</td></tr>",
                            "<tr><td>154</td><td>7</td><td>7 csomag</td><td>100</td></tr>",
                            "<tr><td>154</td><td>7</td><td>7 db</td><td>6000</td></tr>",
                            "<tr><td>154</td><td>7</td><td>Összesen</td><td>6100</td></tr>",
                            "<tr><td>154</td><td>9</td><td>9 db</td><td>6000</td></tr>",
                            "<tr><td>154</td><td>9</td><td>Összesen</td><td>6000</td></tr>",
                            "<tr><td>154</td><td>Összesen</td><td>Összesen</td><td>12100</td></tr>",
                            "<tr><td>155</td><td>8</td><td>8 db</td><td>100</td></tr>",
                            "<tr><td>155</td><td>8</td><td>Összesen</td><td>100</td></tr>",
                            "<tr><td>155</td><td>Összesen</td><td>Összesen</td><td>100</td></tr>",
                            "<tr><td>Összesen</td><td>Összesen</td><td>Összesen</td><td>873881</td></tr>",
                            "</table>"
                        ]
                    }
                }
            ],
            "execution_count": 58
        },
        {
            "cell_type": "markdown",
            "source": [
                "```\n",
                "3. Készítsünk listát az egyes termékkategóriákban lévő termékek számáról! \n",
                "\n",
                "```\n",
                "\n",
                "a. Elég megjeleníteni a kategóriák azonosítóit és a darabszámokat!   \n",
                "<span style=\"color: var(--vscode-foreground);\">b. A lista megfelelően jelölve tartalmazza a végösszeget is!&nbsp;<br></span> <span style=\"color: var(--vscode-foreground);\">c. Az oszlopokat nevezzük el értelemszerűen!&nbsp;<br></span> <span style=\"color: var(--vscode-foreground);\">d. A listát rendezzük a darabszám szerint növekvő sorrendbe!</span>\n",
                "\n",
                "  \n",
                "\n",
                "![](https://moodle.uni-corvinus.hu/theme/image.php/adaptable/atto_h5p/1709548862/icon)"
            ],
            "metadata": {
                "azdata_cell_guid": "d7876bb9-76d0-4d07-baed-3cb17b2f96c3"
            },
            "attachments": {}
        },
        {
            "cell_type": "code",
            "source": [
                "select  iif(GROUPING_ID(kat_id)=0, cast(KAT_ID as NVARCHAR(10)), 'Összesen') as 'Kategóriaazon.',\r\n",
                "        sum(keszlet) as 'Készlet'\r\n",
                "from Termek\r\n",
                "group by rollup(KAT_ID)"
            ],
            "metadata": {
                "azdata_cell_guid": "56ec19ce-e249-4551-b2a8-f17569765acc",
                "language": "sql",
                "tags": []
            },
            "outputs": [
                {
                    "output_type": "display_data",
                    "data": {
                        "text/html": "(144 rows affected)"
                    },
                    "metadata": {}
                },
                {
                    "output_type": "display_data",
                    "data": {
                        "text/html": "Total execution time: 00:00:00.012"
                    },
                    "metadata": {}
                },
                {
                    "output_type": "execute_result",
                    "metadata": {},
                    "execution_count": 71,
                    "data": {
                        "application/vnd.dataresource+json": {
                            "schema": {
                                "fields": [
                                    {
                                        "name": "Kategóriaazon."
                                    },
                                    {
                                        "name": "Készlet"
                                    }
                                ]
                            },
                            "data": [
                                {
                                    "Kategóriaazon.": "4",
                                    "Készlet": "12500"
                                },
                                {
                                    "Kategóriaazon.": "5",
                                    "Készlet": "4500"
                                },
                                {
                                    "Kategóriaazon.": "6",
                                    "Készlet": "85000"
                                },
                                {
                                    "Kategóriaazon.": "7",
                                    "Készlet": "2500"
                                },
                                {
                                    "Kategóriaazon.": "8",
                                    "Készlet": "905"
                                },
                                {
                                    "Kategóriaazon.": "9",
                                    "Készlet": "6000"
                                },
                                {
                                    "Kategóriaazon.": "10",
                                    "Készlet": "100"
                                },
                                {
                                    "Kategóriaazon.": "11",
                                    "Készlet": "200"
                                },
                                {
                                    "Kategóriaazon.": "12",
                                    "Készlet": "200"
                                },
                                {
                                    "Kategóriaazon.": "13",
                                    "Készlet": "300"
                                },
                                {
                                    "Kategóriaazon.": "14",
                                    "Készlet": "2300"
                                },
                                {
                                    "Kategóriaazon.": "15",
                                    "Készlet": "700"
                                },
                                {
                                    "Kategóriaazon.": "16",
                                    "Készlet": "16900"
                                },
                                {
                                    "Kategóriaazon.": "17",
                                    "Készlet": "400"
                                },
                                {
                                    "Kategóriaazon.": "18",
                                    "Készlet": "300"
                                },
                                {
                                    "Kategóriaazon.": "19",
                                    "Készlet": "5600"
                                },
                                {
                                    "Kategóriaazon.": "20",
                                    "Készlet": "1200"
                                },
                                {
                                    "Kategóriaazon.": "21",
                                    "Készlet": "2900"
                                },
                                {
                                    "Kategóriaazon.": "22",
                                    "Készlet": "300"
                                },
                                {
                                    "Kategóriaazon.": "24",
                                    "Készlet": "7200"
                                },
                                {
                                    "Kategóriaazon.": "25",
                                    "Készlet": "7900"
                                },
                                {
                                    "Kategóriaazon.": "26",
                                    "Készlet": "400"
                                },
                                {
                                    "Kategóriaazon.": "27",
                                    "Készlet": "500"
                                },
                                {
                                    "Kategóriaazon.": "28",
                                    "Készlet": "67000"
                                },
                                {
                                    "Kategóriaazon.": "29",
                                    "Készlet": "1300"
                                },
                                {
                                    "Kategóriaazon.": "30",
                                    "Készlet": "9600"
                                },
                                {
                                    "Kategóriaazon.": "31",
                                    "Készlet": "100"
                                },
                                {
                                    "Kategóriaazon.": "32",
                                    "Készlet": "11700"
                                },
                                {
                                    "Kategóriaazon.": "33",
                                    "Készlet": "200"
                                },
                                {
                                    "Kategóriaazon.": "34",
                                    "Készlet": "300"
                                },
                                {
                                    "Kategóriaazon.": "35",
                                    "Készlet": "2266"
                                },
                                {
                                    "Kategóriaazon.": "36",
                                    "Készlet": "2200"
                                },
                                {
                                    "Kategóriaazon.": "37",
                                    "Készlet": "381"
                                },
                                {
                                    "Kategóriaazon.": "38",
                                    "Készlet": "173"
                                },
                                {
                                    "Kategóriaazon.": "39",
                                    "Készlet": "494"
                                },
                                {
                                    "Kategóriaazon.": "40",
                                    "Készlet": "900"
                                },
                                {
                                    "Kategóriaazon.": "41",
                                    "Készlet": "4600"
                                },
                                {
                                    "Kategóriaazon.": "42",
                                    "Készlet": "500"
                                },
                                {
                                    "Kategóriaazon.": "43",
                                    "Készlet": "300"
                                },
                                {
                                    "Kategóriaazon.": "44",
                                    "Készlet": "200"
                                },
                                {
                                    "Kategóriaazon.": "45",
                                    "Készlet": "13900"
                                },
                                {
                                    "Kategóriaazon.": "46",
                                    "Készlet": "2200"
                                },
                                {
                                    "Kategóriaazon.": "47",
                                    "Készlet": "4800"
                                },
                                {
                                    "Kategóriaazon.": "48",
                                    "Készlet": "3600"
                                },
                                {
                                    "Kategóriaazon.": "49",
                                    "Készlet": "300"
                                },
                                {
                                    "Kategóriaazon.": "50",
                                    "Készlet": "500"
                                },
                                {
                                    "Kategóriaazon.": "51",
                                    "Készlet": "6400"
                                },
                                {
                                    "Kategóriaazon.": "52",
                                    "Készlet": "161500"
                                },
                                {
                                    "Kategóriaazon.": "53",
                                    "Készlet": "400"
                                },
                                {
                                    "Kategóriaazon.": "54",
                                    "Készlet": "1717"
                                },
                                {
                                    "Kategóriaazon.": "55",
                                    "Készlet": "474"
                                },
                                {
                                    "Kategóriaazon.": "56",
                                    "Készlet": "993"
                                },
                                {
                                    "Kategóriaazon.": "57",
                                    "Készlet": "468"
                                },
                                {
                                    "Kategóriaazon.": "58",
                                    "Készlet": "2400"
                                },
                                {
                                    "Kategóriaazon.": "59",
                                    "Készlet": "2700"
                                },
                                {
                                    "Kategóriaazon.": "60",
                                    "Készlet": "5400"
                                },
                                {
                                    "Kategóriaazon.": "61",
                                    "Készlet": "700"
                                },
                                {
                                    "Kategóriaazon.": "62",
                                    "Készlet": "3300"
                                },
                                {
                                    "Kategóriaazon.": "64",
                                    "Készlet": "2700"
                                },
                                {
                                    "Kategóriaazon.": "65",
                                    "Készlet": "300"
                                },
                                {
                                    "Kategóriaazon.": "66",
                                    "Készlet": "1900"
                                },
                                {
                                    "Kategóriaazon.": "67",
                                    "Készlet": "600"
                                },
                                {
                                    "Kategóriaazon.": "68",
                                    "Készlet": "300"
                                },
                                {
                                    "Kategóriaazon.": "70",
                                    "Készlet": "2100"
                                },
                                {
                                    "Kategóriaazon.": "71",
                                    "Készlet": "1800"
                                },
                                {
                                    "Kategóriaazon.": "72",
                                    "Készlet": "3100"
                                },
                                {
                                    "Kategóriaazon.": "73",
                                    "Készlet": "1000"
                                },
                                {
                                    "Kategóriaazon.": "74",
                                    "Készlet": "300"
                                },
                                {
                                    "Kategóriaazon.": "75",
                                    "Készlet": "500"
                                },
                                {
                                    "Kategóriaazon.": "76",
                                    "Készlet": "1100"
                                },
                                {
                                    "Kategóriaazon.": "78",
                                    "Készlet": "19250"
                                },
                                {
                                    "Kategóriaazon.": "79",
                                    "Készlet": "1400"
                                },
                                {
                                    "Kategóriaazon.": "80",
                                    "Készlet": "800"
                                },
                                {
                                    "Kategóriaazon.": "82",
                                    "Készlet": "1300"
                                },
                                {
                                    "Kategóriaazon.": "83",
                                    "Készlet": "5300"
                                },
                                {
                                    "Kategóriaazon.": "84",
                                    "Készlet": "2800"
                                },
                                {
                                    "Kategóriaazon.": "85",
                                    "Készlet": "24500"
                                },
                                {
                                    "Kategóriaazon.": "86",
                                    "Készlet": "1000"
                                },
                                {
                                    "Kategóriaazon.": "88",
                                    "Készlet": "607"
                                },
                                {
                                    "Kategóriaazon.": "89",
                                    "Készlet": "2600"
                                },
                                {
                                    "Kategóriaazon.": "90",
                                    "Készlet": "300"
                                },
                                {
                                    "Kategóriaazon.": "91",
                                    "Készlet": "14710"
                                },
                                {
                                    "Kategóriaazon.": "92",
                                    "Készlet": "1100"
                                },
                                {
                                    "Kategóriaazon.": "93",
                                    "Készlet": "5500"
                                },
                                {
                                    "Kategóriaazon.": "94",
                                    "Készlet": "4300"
                                },
                                {
                                    "Kategóriaazon.": "95",
                                    "Készlet": "1000"
                                },
                                {
                                    "Kategóriaazon.": "96",
                                    "Készlet": "23100"
                                },
                                {
                                    "Kategóriaazon.": "97",
                                    "Készlet": "9900"
                                },
                                {
                                    "Kategóriaazon.": "98",
                                    "Készlet": "700"
                                },
                                {
                                    "Kategóriaazon.": "99",
                                    "Készlet": "400"
                                },
                                {
                                    "Kategóriaazon.": "100",
                                    "Készlet": "18500"
                                },
                                {
                                    "Kategóriaazon.": "101",
                                    "Készlet": "1800"
                                },
                                {
                                    "Kategóriaazon.": "103",
                                    "Készlet": "300"
                                },
                                {
                                    "Kategóriaazon.": "104",
                                    "Készlet": "8300"
                                },
                                {
                                    "Kategóriaazon.": "105",
                                    "Készlet": "9000"
                                },
                                {
                                    "Kategóriaazon.": "106",
                                    "Készlet": "8600"
                                },
                                {
                                    "Kategóriaazon.": "107",
                                    "Készlet": "77"
                                },
                                {
                                    "Kategóriaazon.": "108",
                                    "Készlet": "289"
                                },
                                {
                                    "Kategóriaazon.": "109",
                                    "Készlet": "1000"
                                },
                                {
                                    "Kategóriaazon.": "110",
                                    "Készlet": "6800"
                                },
                                {
                                    "Kategóriaazon.": "111",
                                    "Készlet": "600"
                                },
                                {
                                    "Kategóriaazon.": "112",
                                    "Készlet": "1200"
                                },
                                {
                                    "Kategóriaazon.": "114",
                                    "Készlet": "5000"
                                },
                                {
                                    "Kategóriaazon.": "115",
                                    "Készlet": "200"
                                },
                                {
                                    "Kategóriaazon.": "116",
                                    "Készlet": "700"
                                },
                                {
                                    "Kategóriaazon.": "117",
                                    "Készlet": "400"
                                },
                                {
                                    "Kategóriaazon.": "118",
                                    "Készlet": "88200"
                                },
                                {
                                    "Kategóriaazon.": "119",
                                    "Készlet": "2600"
                                },
                                {
                                    "Kategóriaazon.": "121",
                                    "Készlet": "1700"
                                },
                                {
                                    "Kategóriaazon.": "122",
                                    "Készlet": "10300"
                                },
                                {
                                    "Kategóriaazon.": "123",
                                    "Készlet": "2000"
                                },
                                {
                                    "Kategóriaazon.": "124",
                                    "Készlet": "15900"
                                },
                                {
                                    "Kategóriaazon.": "125",
                                    "Készlet": "1900"
                                },
                                {
                                    "Kategóriaazon.": "126",
                                    "Készlet": "400"
                                },
                                {
                                    "Kategóriaazon.": "127",
                                    "Készlet": "3200"
                                },
                                {
                                    "Kategóriaazon.": "128",
                                    "Készlet": "800"
                                },
                                {
                                    "Kategóriaazon.": "129",
                                    "Készlet": "700"
                                },
                                {
                                    "Kategóriaazon.": "130",
                                    "Készlet": "77"
                                },
                                {
                                    "Kategóriaazon.": "131",
                                    "Készlet": "300"
                                },
                                {
                                    "Kategóriaazon.": "132",
                                    "Készlet": "100"
                                },
                                {
                                    "Kategóriaazon.": "133",
                                    "Készlet": "4200"
                                },
                                {
                                    "Kategóriaazon.": "134",
                                    "Készlet": "500"
                                },
                                {
                                    "Kategóriaazon.": "135",
                                    "Készlet": "300"
                                },
                                {
                                    "Kategóriaazon.": "136",
                                    "Készlet": "5200"
                                },
                                {
                                    "Kategóriaazon.": "137",
                                    "Készlet": "500"
                                },
                                {
                                    "Kategóriaazon.": "138",
                                    "Készlet": "1800"
                                },
                                {
                                    "Kategóriaazon.": "139",
                                    "Készlet": "500"
                                },
                                {
                                    "Kategóriaazon.": "140",
                                    "Készlet": "1600"
                                },
                                {
                                    "Kategóriaazon.": "141",
                                    "Készlet": "200"
                                },
                                {
                                    "Kategóriaazon.": "142",
                                    "Készlet": "100"
                                },
                                {
                                    "Kategóriaazon.": "143",
                                    "Készlet": "600"
                                },
                                {
                                    "Kategóriaazon.": "144",
                                    "Készlet": "400"
                                },
                                {
                                    "Kategóriaazon.": "145",
                                    "Készlet": "18400"
                                },
                                {
                                    "Kategóriaazon.": "146",
                                    "Készlet": "5900"
                                },
                                {
                                    "Kategóriaazon.": "147",
                                    "Készlet": "100"
                                },
                                {
                                    "Kategóriaazon.": "148",
                                    "Készlet": "300"
                                },
                                {
                                    "Kategóriaazon.": "149",
                                    "Készlet": "12800"
                                },
                                {
                                    "Kategóriaazon.": "150",
                                    "Készlet": "4500"
                                },
                                {
                                    "Kategóriaazon.": "151",
                                    "Készlet": "400"
                                },
                                {
                                    "Kategóriaazon.": "152",
                                    "Készlet": "3200"
                                },
                                {
                                    "Kategóriaazon.": "153",
                                    "Készlet": "200"
                                },
                                {
                                    "Kategóriaazon.": "154",
                                    "Készlet": "12100"
                                },
                                {
                                    "Kategóriaazon.": "155",
                                    "Készlet": "100"
                                },
                                {
                                    "Kategóriaazon.": "Összesen",
                                    "Készlet": "873881"
                                }
                            ]
                        },
                        "text/html": [
                            "<table>",
                            "<tr><th>Kategóriaazon.</th><th>Készlet</th></tr>",
                            "<tr><td>4</td><td>12500</td></tr>",
                            "<tr><td>5</td><td>4500</td></tr>",
                            "<tr><td>6</td><td>85000</td></tr>",
                            "<tr><td>7</td><td>2500</td></tr>",
                            "<tr><td>8</td><td>905</td></tr>",
                            "<tr><td>9</td><td>6000</td></tr>",
                            "<tr><td>10</td><td>100</td></tr>",
                            "<tr><td>11</td><td>200</td></tr>",
                            "<tr><td>12</td><td>200</td></tr>",
                            "<tr><td>13</td><td>300</td></tr>",
                            "<tr><td>14</td><td>2300</td></tr>",
                            "<tr><td>15</td><td>700</td></tr>",
                            "<tr><td>16</td><td>16900</td></tr>",
                            "<tr><td>17</td><td>400</td></tr>",
                            "<tr><td>18</td><td>300</td></tr>",
                            "<tr><td>19</td><td>5600</td></tr>",
                            "<tr><td>20</td><td>1200</td></tr>",
                            "<tr><td>21</td><td>2900</td></tr>",
                            "<tr><td>22</td><td>300</td></tr>",
                            "<tr><td>24</td><td>7200</td></tr>",
                            "<tr><td>25</td><td>7900</td></tr>",
                            "<tr><td>26</td><td>400</td></tr>",
                            "<tr><td>27</td><td>500</td></tr>",
                            "<tr><td>28</td><td>67000</td></tr>",
                            "<tr><td>29</td><td>1300</td></tr>",
                            "<tr><td>30</td><td>9600</td></tr>",
                            "<tr><td>31</td><td>100</td></tr>",
                            "<tr><td>32</td><td>11700</td></tr>",
                            "<tr><td>33</td><td>200</td></tr>",
                            "<tr><td>34</td><td>300</td></tr>",
                            "<tr><td>35</td><td>2266</td></tr>",
                            "<tr><td>36</td><td>2200</td></tr>",
                            "<tr><td>37</td><td>381</td></tr>",
                            "<tr><td>38</td><td>173</td></tr>",
                            "<tr><td>39</td><td>494</td></tr>",
                            "<tr><td>40</td><td>900</td></tr>",
                            "<tr><td>41</td><td>4600</td></tr>",
                            "<tr><td>42</td><td>500</td></tr>",
                            "<tr><td>43</td><td>300</td></tr>",
                            "<tr><td>44</td><td>200</td></tr>",
                            "<tr><td>45</td><td>13900</td></tr>",
                            "<tr><td>46</td><td>2200</td></tr>",
                            "<tr><td>47</td><td>4800</td></tr>",
                            "<tr><td>48</td><td>3600</td></tr>",
                            "<tr><td>49</td><td>300</td></tr>",
                            "<tr><td>50</td><td>500</td></tr>",
                            "<tr><td>51</td><td>6400</td></tr>",
                            "<tr><td>52</td><td>161500</td></tr>",
                            "<tr><td>53</td><td>400</td></tr>",
                            "<tr><td>54</td><td>1717</td></tr>",
                            "<tr><td>55</td><td>474</td></tr>",
                            "<tr><td>56</td><td>993</td></tr>",
                            "<tr><td>57</td><td>468</td></tr>",
                            "<tr><td>58</td><td>2400</td></tr>",
                            "<tr><td>59</td><td>2700</td></tr>",
                            "<tr><td>60</td><td>5400</td></tr>",
                            "<tr><td>61</td><td>700</td></tr>",
                            "<tr><td>62</td><td>3300</td></tr>",
                            "<tr><td>64</td><td>2700</td></tr>",
                            "<tr><td>65</td><td>300</td></tr>",
                            "<tr><td>66</td><td>1900</td></tr>",
                            "<tr><td>67</td><td>600</td></tr>",
                            "<tr><td>68</td><td>300</td></tr>",
                            "<tr><td>70</td><td>2100</td></tr>",
                            "<tr><td>71</td><td>1800</td></tr>",
                            "<tr><td>72</td><td>3100</td></tr>",
                            "<tr><td>73</td><td>1000</td></tr>",
                            "<tr><td>74</td><td>300</td></tr>",
                            "<tr><td>75</td><td>500</td></tr>",
                            "<tr><td>76</td><td>1100</td></tr>",
                            "<tr><td>78</td><td>19250</td></tr>",
                            "<tr><td>79</td><td>1400</td></tr>",
                            "<tr><td>80</td><td>800</td></tr>",
                            "<tr><td>82</td><td>1300</td></tr>",
                            "<tr><td>83</td><td>5300</td></tr>",
                            "<tr><td>84</td><td>2800</td></tr>",
                            "<tr><td>85</td><td>24500</td></tr>",
                            "<tr><td>86</td><td>1000</td></tr>",
                            "<tr><td>88</td><td>607</td></tr>",
                            "<tr><td>89</td><td>2600</td></tr>",
                            "<tr><td>90</td><td>300</td></tr>",
                            "<tr><td>91</td><td>14710</td></tr>",
                            "<tr><td>92</td><td>1100</td></tr>",
                            "<tr><td>93</td><td>5500</td></tr>",
                            "<tr><td>94</td><td>4300</td></tr>",
                            "<tr><td>95</td><td>1000</td></tr>",
                            "<tr><td>96</td><td>23100</td></tr>",
                            "<tr><td>97</td><td>9900</td></tr>",
                            "<tr><td>98</td><td>700</td></tr>",
                            "<tr><td>99</td><td>400</td></tr>",
                            "<tr><td>100</td><td>18500</td></tr>",
                            "<tr><td>101</td><td>1800</td></tr>",
                            "<tr><td>103</td><td>300</td></tr>",
                            "<tr><td>104</td><td>8300</td></tr>",
                            "<tr><td>105</td><td>9000</td></tr>",
                            "<tr><td>106</td><td>8600</td></tr>",
                            "<tr><td>107</td><td>77</td></tr>",
                            "<tr><td>108</td><td>289</td></tr>",
                            "<tr><td>109</td><td>1000</td></tr>",
                            "<tr><td>110</td><td>6800</td></tr>",
                            "<tr><td>111</td><td>600</td></tr>",
                            "<tr><td>112</td><td>1200</td></tr>",
                            "<tr><td>114</td><td>5000</td></tr>",
                            "<tr><td>115</td><td>200</td></tr>",
                            "<tr><td>116</td><td>700</td></tr>",
                            "<tr><td>117</td><td>400</td></tr>",
                            "<tr><td>118</td><td>88200</td></tr>",
                            "<tr><td>119</td><td>2600</td></tr>",
                            "<tr><td>121</td><td>1700</td></tr>",
                            "<tr><td>122</td><td>10300</td></tr>",
                            "<tr><td>123</td><td>2000</td></tr>",
                            "<tr><td>124</td><td>15900</td></tr>",
                            "<tr><td>125</td><td>1900</td></tr>",
                            "<tr><td>126</td><td>400</td></tr>",
                            "<tr><td>127</td><td>3200</td></tr>",
                            "<tr><td>128</td><td>800</td></tr>",
                            "<tr><td>129</td><td>700</td></tr>",
                            "<tr><td>130</td><td>77</td></tr>",
                            "<tr><td>131</td><td>300</td></tr>",
                            "<tr><td>132</td><td>100</td></tr>",
                            "<tr><td>133</td><td>4200</td></tr>",
                            "<tr><td>134</td><td>500</td></tr>",
                            "<tr><td>135</td><td>300</td></tr>",
                            "<tr><td>136</td><td>5200</td></tr>",
                            "<tr><td>137</td><td>500</td></tr>",
                            "<tr><td>138</td><td>1800</td></tr>",
                            "<tr><td>139</td><td>500</td></tr>",
                            "<tr><td>140</td><td>1600</td></tr>",
                            "<tr><td>141</td><td>200</td></tr>",
                            "<tr><td>142</td><td>100</td></tr>",
                            "<tr><td>143</td><td>600</td></tr>",
                            "<tr><td>144</td><td>400</td></tr>",
                            "<tr><td>145</td><td>18400</td></tr>",
                            "<tr><td>146</td><td>5900</td></tr>",
                            "<tr><td>147</td><td>100</td></tr>",
                            "<tr><td>148</td><td>300</td></tr>",
                            "<tr><td>149</td><td>12800</td></tr>",
                            "<tr><td>150</td><td>4500</td></tr>",
                            "<tr><td>151</td><td>400</td></tr>",
                            "<tr><td>152</td><td>3200</td></tr>",
                            "<tr><td>153</td><td>200</td></tr>",
                            "<tr><td>154</td><td>12100</td></tr>",
                            "<tr><td>155</td><td>100</td></tr>",
                            "<tr><td>Összesen</td><td>873881</td></tr>",
                            "</table>"
                        ]
                    }
                }
            ],
            "execution_count": 71
        },
        {
            "cell_type": "markdown",
            "source": [
                "4. <span style=\"background-color: rgb(255, 255, 255); color: rgb(0, 0, 0); font-family: &quot;Open Sans&quot;, sans-serif; font-size: 14.44px;\">Készítsünk listát az ügyfelek számáról születési év szerint, azon belül nem szerinti bontásban!&nbsp;</span> \n",
                "\n",
                "a. A lista megfelelően jelölve tartalmazza a részösszegeket és a végösszeget is!  \n",
                "b. Az oszlopoknak adjunk nevet értelemszerűen!"
            ],
            "metadata": {
                "azdata_cell_guid": "8e7fef82-8022-49a0-8255-fc2846c2134b"
            },
            "attachments": {}
        },
        {
            "cell_type": "code",
            "source": [
                "select  iif (grouping_id(szulev)=1, 'Összesen', cast(szulev as NVARCHAR(10))) as 'Születési év',\r\n",
                "        iif (grouping_id(nem)=1, 'Összesen', nem) as 'Nem',\r\n",
                "        count(*) as 'Ügyfelek száma'\r\n",
                "from ugyfel\r\n",
                "group by rollup(szulev, nem)"
            ],
            "metadata": {
                "azdata_cell_guid": "36f7b396-4a1f-45e5-8720-2302537c91bc",
                "language": "sql"
            },
            "outputs": [
                {
                    "output_type": "display_data",
                    "data": {
                        "text/html": "(96 rows affected)"
                    },
                    "metadata": {}
                },
                {
                    "output_type": "display_data",
                    "data": {
                        "text/html": "Total execution time: 00:00:00.018"
                    },
                    "metadata": {}
                },
                {
                    "output_type": "execute_result",
                    "metadata": {},
                    "execution_count": 70,
                    "data": {
                        "application/vnd.dataresource+json": {
                            "schema": {
                                "fields": [
                                    {
                                        "name": "Születési év"
                                    },
                                    {
                                        "name": "Nem"
                                    },
                                    {
                                        "name": "Ügyfelek száma"
                                    }
                                ]
                            },
                            "data": [
                                {
                                    "Születési év": "1967",
                                    "Nem": "F",
                                    "Ügyfelek száma": "5"
                                },
                                {
                                    "Születési év": "1967",
                                    "Nem": "N",
                                    "Ügyfelek száma": "3"
                                },
                                {
                                    "Születési év": "1967",
                                    "Nem": "Összesen",
                                    "Ügyfelek száma": "8"
                                },
                                {
                                    "Születési év": "1968",
                                    "Nem": "F",
                                    "Ügyfelek száma": "5"
                                },
                                {
                                    "Születési év": "1968",
                                    "Nem": "N",
                                    "Ügyfelek száma": "3"
                                },
                                {
                                    "Születési év": "1968",
                                    "Nem": "Összesen",
                                    "Ügyfelek száma": "8"
                                },
                                {
                                    "Születési év": "1969",
                                    "Nem": "F",
                                    "Ügyfelek száma": "5"
                                },
                                {
                                    "Születési év": "1969",
                                    "Nem": "N",
                                    "Ügyfelek száma": "3"
                                },
                                {
                                    "Születési év": "1969",
                                    "Nem": "Összesen",
                                    "Ügyfelek száma": "8"
                                },
                                {
                                    "Születési év": "1970",
                                    "Nem": "F",
                                    "Ügyfelek száma": "4"
                                },
                                {
                                    "Születési év": "1970",
                                    "Nem": "Összesen",
                                    "Ügyfelek száma": "4"
                                },
                                {
                                    "Születési év": "1971",
                                    "Nem": "F",
                                    "Ügyfelek száma": "2"
                                },
                                {
                                    "Születési év": "1971",
                                    "Nem": "N",
                                    "Ügyfelek száma": "3"
                                },
                                {
                                    "Születési év": "1971",
                                    "Nem": "Összesen",
                                    "Ügyfelek száma": "5"
                                },
                                {
                                    "Születési év": "1972",
                                    "Nem": "F",
                                    "Ügyfelek száma": "2"
                                },
                                {
                                    "Születési év": "1972",
                                    "Nem": "N",
                                    "Ügyfelek száma": "2"
                                },
                                {
                                    "Születési év": "1972",
                                    "Nem": "Összesen",
                                    "Ügyfelek száma": "4"
                                },
                                {
                                    "Születési év": "1973",
                                    "Nem": "F",
                                    "Ügyfelek száma": "2"
                                },
                                {
                                    "Születési év": "1973",
                                    "Nem": "N",
                                    "Ügyfelek száma": "2"
                                },
                                {
                                    "Születési év": "1973",
                                    "Nem": "Összesen",
                                    "Ügyfelek száma": "4"
                                },
                                {
                                    "Születési év": "1974",
                                    "Nem": "F",
                                    "Ügyfelek száma": "1"
                                },
                                {
                                    "Születési év": "1974",
                                    "Nem": "N",
                                    "Ügyfelek száma": "3"
                                },
                                {
                                    "Születési év": "1974",
                                    "Nem": "Összesen",
                                    "Ügyfelek száma": "4"
                                },
                                {
                                    "Születési év": "1975",
                                    "Nem": "F",
                                    "Ügyfelek száma": "8"
                                },
                                {
                                    "Születési év": "1975",
                                    "Nem": "N",
                                    "Ügyfelek száma": "3"
                                },
                                {
                                    "Születési év": "1975",
                                    "Nem": "Összesen",
                                    "Ügyfelek száma": "11"
                                },
                                {
                                    "Születési év": "1976",
                                    "Nem": "F",
                                    "Ügyfelek száma": "5"
                                },
                                {
                                    "Születési év": "1976",
                                    "Nem": "N",
                                    "Ügyfelek száma": "2"
                                },
                                {
                                    "Születési év": "1976",
                                    "Nem": "Összesen",
                                    "Ügyfelek száma": "7"
                                },
                                {
                                    "Születési év": "1977",
                                    "Nem": "F",
                                    "Ügyfelek száma": "4"
                                },
                                {
                                    "Születési év": "1977",
                                    "Nem": "N",
                                    "Ügyfelek száma": "1"
                                },
                                {
                                    "Születési év": "1977",
                                    "Nem": "Összesen",
                                    "Ügyfelek száma": "5"
                                },
                                {
                                    "Születési év": "1978",
                                    "Nem": "F",
                                    "Ügyfelek száma": "3"
                                },
                                {
                                    "Születési év": "1978",
                                    "Nem": "N",
                                    "Ügyfelek száma": "4"
                                },
                                {
                                    "Születési év": "1978",
                                    "Nem": "Összesen",
                                    "Ügyfelek száma": "7"
                                },
                                {
                                    "Születési év": "1979",
                                    "Nem": "F",
                                    "Ügyfelek száma": "4"
                                },
                                {
                                    "Születési év": "1979",
                                    "Nem": "N",
                                    "Ügyfelek száma": "3"
                                },
                                {
                                    "Születési év": "1979",
                                    "Nem": "Összesen",
                                    "Ügyfelek száma": "7"
                                },
                                {
                                    "Születési év": "1980",
                                    "Nem": "F",
                                    "Ügyfelek száma": "4"
                                },
                                {
                                    "Születési év": "1980",
                                    "Nem": "N",
                                    "Ügyfelek száma": "3"
                                },
                                {
                                    "Születési év": "1980",
                                    "Nem": "Összesen",
                                    "Ügyfelek száma": "7"
                                },
                                {
                                    "Születési év": "1981",
                                    "Nem": "N",
                                    "Ügyfelek száma": "4"
                                },
                                {
                                    "Születési év": "1981",
                                    "Nem": "Összesen",
                                    "Ügyfelek száma": "4"
                                },
                                {
                                    "Születési év": "1982",
                                    "Nem": "F",
                                    "Ügyfelek száma": "2"
                                },
                                {
                                    "Születési év": "1982",
                                    "Nem": "N",
                                    "Ügyfelek száma": "2"
                                },
                                {
                                    "Születési év": "1982",
                                    "Nem": "Összesen",
                                    "Ügyfelek száma": "4"
                                },
                                {
                                    "Születési év": "1983",
                                    "Nem": "F",
                                    "Ügyfelek száma": "5"
                                },
                                {
                                    "Születési év": "1983",
                                    "Nem": "N",
                                    "Ügyfelek száma": "3"
                                },
                                {
                                    "Születési év": "1983",
                                    "Nem": "Összesen",
                                    "Ügyfelek száma": "8"
                                },
                                {
                                    "Születési év": "1984",
                                    "Nem": "F",
                                    "Ügyfelek száma": "6"
                                },
                                {
                                    "Születési év": "1984",
                                    "Nem": "N",
                                    "Ügyfelek száma": "2"
                                },
                                {
                                    "Születési év": "1984",
                                    "Nem": "Összesen",
                                    "Ügyfelek száma": "8"
                                },
                                {
                                    "Születési év": "1985",
                                    "Nem": "F",
                                    "Ügyfelek száma": "5"
                                },
                                {
                                    "Születési év": "1985",
                                    "Nem": "N",
                                    "Ügyfelek száma": "1"
                                },
                                {
                                    "Születési év": "1985",
                                    "Nem": "Összesen",
                                    "Ügyfelek száma": "6"
                                },
                                {
                                    "Születési év": "1986",
                                    "Nem": "F",
                                    "Ügyfelek száma": "7"
                                },
                                {
                                    "Születési év": "1986",
                                    "Nem": "N",
                                    "Ügyfelek száma": "2"
                                },
                                {
                                    "Születési év": "1986",
                                    "Nem": "Összesen",
                                    "Ügyfelek száma": "9"
                                },
                                {
                                    "Születési év": "1987",
                                    "Nem": "F",
                                    "Ügyfelek száma": "2"
                                },
                                {
                                    "Születési év": "1987",
                                    "Nem": "N",
                                    "Ügyfelek száma": "3"
                                },
                                {
                                    "Születési év": "1987",
                                    "Nem": "Összesen",
                                    "Ügyfelek száma": "5"
                                },
                                {
                                    "Születési év": "1988",
                                    "Nem": "F",
                                    "Ügyfelek száma": "2"
                                },
                                {
                                    "Születési év": "1988",
                                    "Nem": "N",
                                    "Ügyfelek száma": "4"
                                },
                                {
                                    "Születési év": "1988",
                                    "Nem": "Összesen",
                                    "Ügyfelek száma": "6"
                                },
                                {
                                    "Születési év": "1989",
                                    "Nem": "F",
                                    "Ügyfelek száma": "6"
                                },
                                {
                                    "Születési év": "1989",
                                    "Nem": "N",
                                    "Ügyfelek száma": "1"
                                },
                                {
                                    "Születési év": "1989",
                                    "Nem": "Összesen",
                                    "Ügyfelek száma": "7"
                                },
                                {
                                    "Születési év": "1990",
                                    "Nem": "F",
                                    "Ügyfelek száma": "5"
                                },
                                {
                                    "Születési év": "1990",
                                    "Nem": "N",
                                    "Ügyfelek száma": "3"
                                },
                                {
                                    "Születési év": "1990",
                                    "Nem": "Összesen",
                                    "Ügyfelek száma": "8"
                                },
                                {
                                    "Születési év": "1991",
                                    "Nem": "F",
                                    "Ügyfelek száma": "3"
                                },
                                {
                                    "Születési év": "1991",
                                    "Nem": "N",
                                    "Ügyfelek száma": "3"
                                },
                                {
                                    "Születési év": "1991",
                                    "Nem": "Összesen",
                                    "Ügyfelek száma": "6"
                                },
                                {
                                    "Születési év": "1992",
                                    "Nem": "F",
                                    "Ügyfelek száma": "3"
                                },
                                {
                                    "Születési év": "1992",
                                    "Nem": "N",
                                    "Ügyfelek száma": "1"
                                },
                                {
                                    "Születési év": "1992",
                                    "Nem": "Összesen",
                                    "Ügyfelek száma": "4"
                                },
                                {
                                    "Születési év": "1993",
                                    "Nem": "F",
                                    "Ügyfelek száma": "2"
                                },
                                {
                                    "Születési év": "1993",
                                    "Nem": "N",
                                    "Ügyfelek száma": "3"
                                },
                                {
                                    "Születési év": "1993",
                                    "Nem": "Összesen",
                                    "Ügyfelek száma": "5"
                                },
                                {
                                    "Születési év": "1994",
                                    "Nem": "N",
                                    "Ügyfelek száma": "3"
                                },
                                {
                                    "Születési év": "1994",
                                    "Nem": "Összesen",
                                    "Ügyfelek száma": "3"
                                },
                                {
                                    "Születési év": "1995",
                                    "Nem": "F",
                                    "Ügyfelek száma": "3"
                                },
                                {
                                    "Születési év": "1995",
                                    "Nem": "N",
                                    "Ügyfelek száma": "3"
                                },
                                {
                                    "Születési év": "1995",
                                    "Nem": "Összesen",
                                    "Ügyfelek száma": "6"
                                },
                                {
                                    "Születési év": "1996",
                                    "Nem": "F",
                                    "Ügyfelek száma": "2"
                                },
                                {
                                    "Születési év": "1996",
                                    "Nem": "N",
                                    "Ügyfelek száma": "5"
                                },
                                {
                                    "Születési év": "1996",
                                    "Nem": "Összesen",
                                    "Ügyfelek száma": "7"
                                },
                                {
                                    "Születési év": "1997",
                                    "Nem": "F",
                                    "Ügyfelek száma": "10"
                                },
                                {
                                    "Születési év": "1997",
                                    "Nem": "N",
                                    "Ügyfelek száma": "2"
                                },
                                {
                                    "Születési év": "1997",
                                    "Nem": "Összesen",
                                    "Ügyfelek száma": "12"
                                },
                                {
                                    "Születési év": "1998",
                                    "Nem": "F",
                                    "Ügyfelek száma": "1"
                                },
                                {
                                    "Születési év": "1998",
                                    "Nem": "N",
                                    "Ügyfelek száma": "1"
                                },
                                {
                                    "Születési év": "1998",
                                    "Nem": "Összesen",
                                    "Ügyfelek száma": "2"
                                },
                                {
                                    "Születési év": "2000",
                                    "Nem": "F",
                                    "Ügyfelek száma": "1"
                                },
                                {
                                    "Születési év": "2000",
                                    "Nem": "Összesen",
                                    "Ügyfelek száma": "1"
                                },
                                {
                                    "Születési év": "Összesen",
                                    "Nem": "Összesen",
                                    "Ügyfelek száma": "200"
                                }
                            ]
                        },
                        "text/html": [
                            "<table>",
                            "<tr><th>Születési év</th><th>Nem</th><th>Ügyfelek száma</th></tr>",
                            "<tr><td>1967</td><td>F</td><td>5</td></tr>",
                            "<tr><td>1967</td><td>N</td><td>3</td></tr>",
                            "<tr><td>1967</td><td>Összesen</td><td>8</td></tr>",
                            "<tr><td>1968</td><td>F</td><td>5</td></tr>",
                            "<tr><td>1968</td><td>N</td><td>3</td></tr>",
                            "<tr><td>1968</td><td>Összesen</td><td>8</td></tr>",
                            "<tr><td>1969</td><td>F</td><td>5</td></tr>",
                            "<tr><td>1969</td><td>N</td><td>3</td></tr>",
                            "<tr><td>1969</td><td>Összesen</td><td>8</td></tr>",
                            "<tr><td>1970</td><td>F</td><td>4</td></tr>",
                            "<tr><td>1970</td><td>Összesen</td><td>4</td></tr>",
                            "<tr><td>1971</td><td>F</td><td>2</td></tr>",
                            "<tr><td>1971</td><td>N</td><td>3</td></tr>",
                            "<tr><td>1971</td><td>Összesen</td><td>5</td></tr>",
                            "<tr><td>1972</td><td>F</td><td>2</td></tr>",
                            "<tr><td>1972</td><td>N</td><td>2</td></tr>",
                            "<tr><td>1972</td><td>Összesen</td><td>4</td></tr>",
                            "<tr><td>1973</td><td>F</td><td>2</td></tr>",
                            "<tr><td>1973</td><td>N</td><td>2</td></tr>",
                            "<tr><td>1973</td><td>Összesen</td><td>4</td></tr>",
                            "<tr><td>1974</td><td>F</td><td>1</td></tr>",
                            "<tr><td>1974</td><td>N</td><td>3</td></tr>",
                            "<tr><td>1974</td><td>Összesen</td><td>4</td></tr>",
                            "<tr><td>1975</td><td>F</td><td>8</td></tr>",
                            "<tr><td>1975</td><td>N</td><td>3</td></tr>",
                            "<tr><td>1975</td><td>Összesen</td><td>11</td></tr>",
                            "<tr><td>1976</td><td>F</td><td>5</td></tr>",
                            "<tr><td>1976</td><td>N</td><td>2</td></tr>",
                            "<tr><td>1976</td><td>Összesen</td><td>7</td></tr>",
                            "<tr><td>1977</td><td>F</td><td>4</td></tr>",
                            "<tr><td>1977</td><td>N</td><td>1</td></tr>",
                            "<tr><td>1977</td><td>Összesen</td><td>5</td></tr>",
                            "<tr><td>1978</td><td>F</td><td>3</td></tr>",
                            "<tr><td>1978</td><td>N</td><td>4</td></tr>",
                            "<tr><td>1978</td><td>Összesen</td><td>7</td></tr>",
                            "<tr><td>1979</td><td>F</td><td>4</td></tr>",
                            "<tr><td>1979</td><td>N</td><td>3</td></tr>",
                            "<tr><td>1979</td><td>Összesen</td><td>7</td></tr>",
                            "<tr><td>1980</td><td>F</td><td>4</td></tr>",
                            "<tr><td>1980</td><td>N</td><td>3</td></tr>",
                            "<tr><td>1980</td><td>Összesen</td><td>7</td></tr>",
                            "<tr><td>1981</td><td>N</td><td>4</td></tr>",
                            "<tr><td>1981</td><td>Összesen</td><td>4</td></tr>",
                            "<tr><td>1982</td><td>F</td><td>2</td></tr>",
                            "<tr><td>1982</td><td>N</td><td>2</td></tr>",
                            "<tr><td>1982</td><td>Összesen</td><td>4</td></tr>",
                            "<tr><td>1983</td><td>F</td><td>5</td></tr>",
                            "<tr><td>1983</td><td>N</td><td>3</td></tr>",
                            "<tr><td>1983</td><td>Összesen</td><td>8</td></tr>",
                            "<tr><td>1984</td><td>F</td><td>6</td></tr>",
                            "<tr><td>1984</td><td>N</td><td>2</td></tr>",
                            "<tr><td>1984</td><td>Összesen</td><td>8</td></tr>",
                            "<tr><td>1985</td><td>F</td><td>5</td></tr>",
                            "<tr><td>1985</td><td>N</td><td>1</td></tr>",
                            "<tr><td>1985</td><td>Összesen</td><td>6</td></tr>",
                            "<tr><td>1986</td><td>F</td><td>7</td></tr>",
                            "<tr><td>1986</td><td>N</td><td>2</td></tr>",
                            "<tr><td>1986</td><td>Összesen</td><td>9</td></tr>",
                            "<tr><td>1987</td><td>F</td><td>2</td></tr>",
                            "<tr><td>1987</td><td>N</td><td>3</td></tr>",
                            "<tr><td>1987</td><td>Összesen</td><td>5</td></tr>",
                            "<tr><td>1988</td><td>F</td><td>2</td></tr>",
                            "<tr><td>1988</td><td>N</td><td>4</td></tr>",
                            "<tr><td>1988</td><td>Összesen</td><td>6</td></tr>",
                            "<tr><td>1989</td><td>F</td><td>6</td></tr>",
                            "<tr><td>1989</td><td>N</td><td>1</td></tr>",
                            "<tr><td>1989</td><td>Összesen</td><td>7</td></tr>",
                            "<tr><td>1990</td><td>F</td><td>5</td></tr>",
                            "<tr><td>1990</td><td>N</td><td>3</td></tr>",
                            "<tr><td>1990</td><td>Összesen</td><td>8</td></tr>",
                            "<tr><td>1991</td><td>F</td><td>3</td></tr>",
                            "<tr><td>1991</td><td>N</td><td>3</td></tr>",
                            "<tr><td>1991</td><td>Összesen</td><td>6</td></tr>",
                            "<tr><td>1992</td><td>F</td><td>3</td></tr>",
                            "<tr><td>1992</td><td>N</td><td>1</td></tr>",
                            "<tr><td>1992</td><td>Összesen</td><td>4</td></tr>",
                            "<tr><td>1993</td><td>F</td><td>2</td></tr>",
                            "<tr><td>1993</td><td>N</td><td>3</td></tr>",
                            "<tr><td>1993</td><td>Összesen</td><td>5</td></tr>",
                            "<tr><td>1994</td><td>N</td><td>3</td></tr>",
                            "<tr><td>1994</td><td>Összesen</td><td>3</td></tr>",
                            "<tr><td>1995</td><td>F</td><td>3</td></tr>",
                            "<tr><td>1995</td><td>N</td><td>3</td></tr>",
                            "<tr><td>1995</td><td>Összesen</td><td>6</td></tr>",
                            "<tr><td>1996</td><td>F</td><td>2</td></tr>",
                            "<tr><td>1996</td><td>N</td><td>5</td></tr>",
                            "<tr><td>1996</td><td>Összesen</td><td>7</td></tr>",
                            "<tr><td>1997</td><td>F</td><td>10</td></tr>",
                            "<tr><td>1997</td><td>N</td><td>2</td></tr>",
                            "<tr><td>1997</td><td>Összesen</td><td>12</td></tr>",
                            "<tr><td>1998</td><td>F</td><td>1</td></tr>",
                            "<tr><td>1998</td><td>N</td><td>1</td></tr>",
                            "<tr><td>1998</td><td>Összesen</td><td>2</td></tr>",
                            "<tr><td>2000</td><td>F</td><td>1</td></tr>",
                            "<tr><td>2000</td><td>Összesen</td><td>1</td></tr>",
                            "<tr><td>Összesen</td><td>Összesen</td><td>200</td></tr>",
                            "</table>"
                        ]
                    }
                }
            ],
            "execution_count": 70
        },
        {
            "cell_type": "markdown",
            "source": [
                "5. <span style=\"background-color: rgb(255, 255, 255); color: rgb(0, 0, 0); font-family: &quot;Open Sans&quot;, sans-serif; font-size: 14.44px;\">Készítsünk listát a termékek számáról a felvitel hónapja, azon belül napja szerint csoportosítva.&nbsp;</span> \n",
                "\n",
                "a. A lista csak a részösszegeket és a végösszeget tartalmazza!  \n",
                "b. Az oszlopoknak adjunk megfelelő nevet!  \n",
                "c. Ötlet: HAVING + GROUPING\\_ID fv együttes használata"
            ],
            "metadata": {
                "azdata_cell_guid": "84239ca2-6b5e-49f5-9860-d44c11d6de32"
            },
            "attachments": {}
        },
        {
            "cell_type": "code",
            "source": [
                "select  iif(grouping_id(month(FELVITEL))=1, 'Összesen', cast(month(felvitel) as nvarchar(10))) as 'Hónap',\r\n",
                "        iif(grouping_id(day(felvitel))=1, 'Összesen', cast(day(felvitel) as nvarchar(10))) as 'Nap',\r\n",
                "        count(*) as 'Termékek száma'\r\n",
                "\r\n",
                "from termek\r\n",
                "group by rollup(month(felvitel), day(felvitel))\r\n",
                "having month(felvitel) is null or day(felvitel) is null"
            ],
            "metadata": {
                "azdata_cell_guid": "06d9a62b-9430-424b-a135-d80e675f0eb3",
                "language": "sql",
                "tags": []
            },
            "outputs": [
                {
                    "output_type": "display_data",
                    "data": {
                        "text/html": "(5 rows affected)"
                    },
                    "metadata": {}
                },
                {
                    "output_type": "display_data",
                    "data": {
                        "text/html": "Total execution time: 00:00:00.950"
                    },
                    "metadata": {}
                },
                {
                    "output_type": "execute_result",
                    "execution_count": 31,
                    "data": {
                        "application/vnd.dataresource+json": {
                            "schema": {
                                "fields": [
                                    {
                                        "name": "Hónap"
                                    },
                                    {
                                        "name": "Nap"
                                    },
                                    {
                                        "name": "Termékek száma"
                                    }
                                ]
                            },
                            "data": [
                                {
                                    "Hónap": "7",
                                    "Nap": "Összesen",
                                    "Termékek száma": "355"
                                },
                                {
                                    "Hónap": "8",
                                    "Nap": "Összesen",
                                    "Termékek száma": "194"
                                },
                                {
                                    "Hónap": "9",
                                    "Nap": "Összesen",
                                    "Termékek száma": "1"
                                },
                                {
                                    "Hónap": "12",
                                    "Nap": "Összesen",
                                    "Termékek száma": "1"
                                },
                                {
                                    "Hónap": "Összesen",
                                    "Nap": "Összesen",
                                    "Termékek száma": "551"
                                }
                            ]
                        },
                        "text/html": "<table><tr><th>Hónap</th><th>Nap</th><th>Termékek száma</th></tr><tr><td>7</td><td>Összesen</td><td>355</td></tr><tr><td>8</td><td>Összesen</td><td>194</td></tr><tr><td>9</td><td>Összesen</td><td>1</td></tr><tr><td>12</td><td>Összesen</td><td>1</td></tr><tr><td>Összesen</td><td>Összesen</td><td>551</td></tr></table>"
                    },
                    "metadata": {}
                }
            ],
            "execution_count": 31
        }
    ]
}
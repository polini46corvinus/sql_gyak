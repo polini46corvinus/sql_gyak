{
    "metadata": {
        "kernelspec": {
            "name": "SQL",
            "display_name": "SQL",
            "language": "sql"
        },
        "language_info": {
            "name": "sql",
            "version": ""
        }
    },
    "nbformat_minor": 2,
    "nbformat": 4,
    "cells": [
        {
            "cell_type": "markdown",
            "source": [
                "Készítsen lekérdezést, amely megjeleníti, hogy szobánként (SZOBA\\_FK) hány olyan foglalás történt, ahol a felnőttek száma nagyobb volt a gyermekek számánál!\n",
                "\n",
                "a. A lekérdezés jelenítse meg a végösszeget is megfelelően jelölve!"
            ],
            "metadata": {
                "azdata_cell_guid": "2bea2ad8-2c60-45a8-8f79-53119a0f63fe"
            },
            "attachments": {}
        },
        {
            "cell_type": "code",
            "source": [
                "-- 1. feladat\r\n",
                "\r\n",
                "select  iif(grouping_id(f.SZOBA_FK)=0,\r\n",
                "        cast(f.SZOBA_FK as nvarchar(10)),\r\n",
                "        'Összesen') as 'Szoba száma',\r\n",
                "        count(*) as 'Foglalások száma'\r\n",
                "FROM szallashely szh\r\n",
                "join szoba sz on szh.szallas_id = sz.szallas_fk\r\n",
                "join foglalas f on sz.SZOBA_ID = f.SZOBA_FK\r\n",
                "where f.FELNOTT_SZAM > f.GYERMEK_SZAM\r\n",
                "group by rollup(f.SZOBA_FK)"
            ],
            "metadata": {
                "azdata_cell_guid": "8cc26ec5-fc27-40f3-be22-25470a599e05",
                "language": "sql"
            },
            "outputs": [
                {
                    "output_type": "display_data",
                    "data": {
                        "text/html": "(190 rows affected)"
                    },
                    "metadata": {}
                },
                {
                    "output_type": "display_data",
                    "data": {
                        "text/html": "Total execution time: 00:00:00.036"
                    },
                    "metadata": {}
                },
                {
                    "output_type": "execute_result",
                    "metadata": {},
                    "execution_count": 14,
                    "data": {
                        "application/vnd.dataresource+json": {
                            "schema": {
                                "fields": [
                                    {
                                        "name": "Szoba száma"
                                    },
                                    {
                                        "name": "Foglalások száma"
                                    }
                                ]
                            },
                            "data": [
                                {
                                    "Szoba száma": "1",
                                    "Foglalások száma": "7"
                                },
                                {
                                    "Szoba száma": "2",
                                    "Foglalások száma": "2"
                                },
                                {
                                    "Szoba száma": "3",
                                    "Foglalások száma": "3"
                                },
                                {
                                    "Szoba száma": "4",
                                    "Foglalások száma": "5"
                                },
                                {
                                    "Szoba száma": "5",
                                    "Foglalások száma": "2"
                                },
                                {
                                    "Szoba száma": "6",
                                    "Foglalások száma": "5"
                                },
                                {
                                    "Szoba száma": "7",
                                    "Foglalások száma": "6"
                                },
                                {
                                    "Szoba száma": "8",
                                    "Foglalások száma": "5"
                                },
                                {
                                    "Szoba száma": "9",
                                    "Foglalások száma": "4"
                                },
                                {
                                    "Szoba száma": "10",
                                    "Foglalások száma": "4"
                                },
                                {
                                    "Szoba száma": "11",
                                    "Foglalások száma": "4"
                                },
                                {
                                    "Szoba száma": "12",
                                    "Foglalások száma": "7"
                                },
                                {
                                    "Szoba száma": "13",
                                    "Foglalások száma": "4"
                                },
                                {
                                    "Szoba száma": "14",
                                    "Foglalások száma": "3"
                                },
                                {
                                    "Szoba száma": "15",
                                    "Foglalások száma": "4"
                                },
                                {
                                    "Szoba száma": "16",
                                    "Foglalások száma": "1"
                                },
                                {
                                    "Szoba száma": "17",
                                    "Foglalások száma": "2"
                                },
                                {
                                    "Szoba száma": "18",
                                    "Foglalások száma": "3"
                                },
                                {
                                    "Szoba száma": "19",
                                    "Foglalások száma": "4"
                                },
                                {
                                    "Szoba száma": "20",
                                    "Foglalások száma": "5"
                                },
                                {
                                    "Szoba száma": "21",
                                    "Foglalások száma": "1"
                                },
                                {
                                    "Szoba száma": "22",
                                    "Foglalások száma": "2"
                                },
                                {
                                    "Szoba száma": "23",
                                    "Foglalások száma": "3"
                                },
                                {
                                    "Szoba száma": "24",
                                    "Foglalások száma": "3"
                                },
                                {
                                    "Szoba száma": "25",
                                    "Foglalások száma": "1"
                                },
                                {
                                    "Szoba száma": "27",
                                    "Foglalások száma": "5"
                                },
                                {
                                    "Szoba száma": "28",
                                    "Foglalások száma": "5"
                                },
                                {
                                    "Szoba száma": "29",
                                    "Foglalások száma": "3"
                                },
                                {
                                    "Szoba száma": "30",
                                    "Foglalások száma": "2"
                                },
                                {
                                    "Szoba száma": "31",
                                    "Foglalások száma": "1"
                                },
                                {
                                    "Szoba száma": "32",
                                    "Foglalások száma": "1"
                                },
                                {
                                    "Szoba száma": "33",
                                    "Foglalások száma": "3"
                                },
                                {
                                    "Szoba száma": "34",
                                    "Foglalások száma": "3"
                                },
                                {
                                    "Szoba száma": "35",
                                    "Foglalások száma": "6"
                                },
                                {
                                    "Szoba száma": "36",
                                    "Foglalások száma": "4"
                                },
                                {
                                    "Szoba száma": "37",
                                    "Foglalások száma": "2"
                                },
                                {
                                    "Szoba száma": "38",
                                    "Foglalások száma": "5"
                                },
                                {
                                    "Szoba száma": "39",
                                    "Foglalások száma": "4"
                                },
                                {
                                    "Szoba száma": "40",
                                    "Foglalások száma": "3"
                                },
                                {
                                    "Szoba száma": "41",
                                    "Foglalások száma": "1"
                                },
                                {
                                    "Szoba száma": "42",
                                    "Foglalások száma": "5"
                                },
                                {
                                    "Szoba száma": "43",
                                    "Foglalások száma": "4"
                                },
                                {
                                    "Szoba száma": "44",
                                    "Foglalások száma": "6"
                                },
                                {
                                    "Szoba száma": "45",
                                    "Foglalások száma": "4"
                                },
                                {
                                    "Szoba száma": "46",
                                    "Foglalások száma": "3"
                                },
                                {
                                    "Szoba száma": "47",
                                    "Foglalások száma": "2"
                                },
                                {
                                    "Szoba száma": "48",
                                    "Foglalások száma": "6"
                                },
                                {
                                    "Szoba száma": "49",
                                    "Foglalások száma": "5"
                                },
                                {
                                    "Szoba száma": "50",
                                    "Foglalások száma": "3"
                                },
                                {
                                    "Szoba száma": "51",
                                    "Foglalások száma": "3"
                                },
                                {
                                    "Szoba száma": "52",
                                    "Foglalások száma": "5"
                                },
                                {
                                    "Szoba száma": "54",
                                    "Foglalások száma": "4"
                                },
                                {
                                    "Szoba száma": "55",
                                    "Foglalások száma": "3"
                                },
                                {
                                    "Szoba száma": "56",
                                    "Foglalások száma": "1"
                                },
                                {
                                    "Szoba száma": "57",
                                    "Foglalások száma": "3"
                                },
                                {
                                    "Szoba száma": "58",
                                    "Foglalások száma": "8"
                                },
                                {
                                    "Szoba száma": "59",
                                    "Foglalások száma": "4"
                                },
                                {
                                    "Szoba száma": "60",
                                    "Foglalások száma": "1"
                                },
                                {
                                    "Szoba száma": "61",
                                    "Foglalások száma": "4"
                                },
                                {
                                    "Szoba száma": "62",
                                    "Foglalások száma": "3"
                                },
                                {
                                    "Szoba száma": "63",
                                    "Foglalások száma": "3"
                                },
                                {
                                    "Szoba száma": "64",
                                    "Foglalások száma": "5"
                                },
                                {
                                    "Szoba száma": "66",
                                    "Foglalások száma": "3"
                                },
                                {
                                    "Szoba száma": "67",
                                    "Foglalások száma": "2"
                                },
                                {
                                    "Szoba száma": "69",
                                    "Foglalások száma": "2"
                                },
                                {
                                    "Szoba száma": "70",
                                    "Foglalások száma": "8"
                                },
                                {
                                    "Szoba száma": "71",
                                    "Foglalások száma": "2"
                                },
                                {
                                    "Szoba száma": "72",
                                    "Foglalások száma": "2"
                                },
                                {
                                    "Szoba száma": "73",
                                    "Foglalások száma": "4"
                                },
                                {
                                    "Szoba száma": "74",
                                    "Foglalások száma": "8"
                                },
                                {
                                    "Szoba száma": "75",
                                    "Foglalások száma": "2"
                                },
                                {
                                    "Szoba száma": "76",
                                    "Foglalások száma": "2"
                                },
                                {
                                    "Szoba száma": "77",
                                    "Foglalások száma": "3"
                                },
                                {
                                    "Szoba száma": "78",
                                    "Foglalások száma": "3"
                                },
                                {
                                    "Szoba száma": "79",
                                    "Foglalások száma": "4"
                                },
                                {
                                    "Szoba száma": "80",
                                    "Foglalások száma": "5"
                                },
                                {
                                    "Szoba száma": "81",
                                    "Foglalások száma": "3"
                                },
                                {
                                    "Szoba száma": "82",
                                    "Foglalások száma": "5"
                                },
                                {
                                    "Szoba száma": "83",
                                    "Foglalások száma": "5"
                                },
                                {
                                    "Szoba száma": "84",
                                    "Foglalások száma": "3"
                                },
                                {
                                    "Szoba száma": "85",
                                    "Foglalások száma": "2"
                                },
                                {
                                    "Szoba száma": "86",
                                    "Foglalások száma": "4"
                                },
                                {
                                    "Szoba száma": "87",
                                    "Foglalások száma": "5"
                                },
                                {
                                    "Szoba száma": "88",
                                    "Foglalások száma": "5"
                                },
                                {
                                    "Szoba száma": "89",
                                    "Foglalások száma": "8"
                                },
                                {
                                    "Szoba száma": "90",
                                    "Foglalások száma": "3"
                                },
                                {
                                    "Szoba száma": "91",
                                    "Foglalások száma": "2"
                                },
                                {
                                    "Szoba száma": "92",
                                    "Foglalások száma": "5"
                                },
                                {
                                    "Szoba száma": "93",
                                    "Foglalások száma": "3"
                                },
                                {
                                    "Szoba száma": "94",
                                    "Foglalások száma": "6"
                                },
                                {
                                    "Szoba száma": "95",
                                    "Foglalások száma": "3"
                                },
                                {
                                    "Szoba száma": "96",
                                    "Foglalások száma": "6"
                                },
                                {
                                    "Szoba száma": "97",
                                    "Foglalások száma": "5"
                                },
                                {
                                    "Szoba száma": "98",
                                    "Foglalások száma": "4"
                                },
                                {
                                    "Szoba száma": "99",
                                    "Foglalások száma": "4"
                                },
                                {
                                    "Szoba száma": "100",
                                    "Foglalások száma": "2"
                                },
                                {
                                    "Szoba száma": "101",
                                    "Foglalások száma": "1"
                                },
                                {
                                    "Szoba száma": "102",
                                    "Foglalások száma": "1"
                                },
                                {
                                    "Szoba száma": "103",
                                    "Foglalások száma": "1"
                                },
                                {
                                    "Szoba száma": "104",
                                    "Foglalások száma": "3"
                                },
                                {
                                    "Szoba száma": "106",
                                    "Foglalások száma": "4"
                                },
                                {
                                    "Szoba száma": "107",
                                    "Foglalások száma": "4"
                                },
                                {
                                    "Szoba száma": "108",
                                    "Foglalások száma": "1"
                                },
                                {
                                    "Szoba száma": "109",
                                    "Foglalások száma": "2"
                                },
                                {
                                    "Szoba száma": "110",
                                    "Foglalások száma": "5"
                                },
                                {
                                    "Szoba száma": "111",
                                    "Foglalások száma": "1"
                                },
                                {
                                    "Szoba száma": "112",
                                    "Foglalások száma": "4"
                                },
                                {
                                    "Szoba száma": "113",
                                    "Foglalások száma": "2"
                                },
                                {
                                    "Szoba száma": "114",
                                    "Foglalások száma": "1"
                                },
                                {
                                    "Szoba száma": "115",
                                    "Foglalások száma": "5"
                                },
                                {
                                    "Szoba száma": "117",
                                    "Foglalások száma": "4"
                                },
                                {
                                    "Szoba száma": "118",
                                    "Foglalások száma": "2"
                                },
                                {
                                    "Szoba száma": "119",
                                    "Foglalások száma": "4"
                                },
                                {
                                    "Szoba száma": "120",
                                    "Foglalások száma": "2"
                                },
                                {
                                    "Szoba száma": "121",
                                    "Foglalások száma": "5"
                                },
                                {
                                    "Szoba száma": "122",
                                    "Foglalások száma": "3"
                                },
                                {
                                    "Szoba száma": "123",
                                    "Foglalások száma": "5"
                                },
                                {
                                    "Szoba száma": "124",
                                    "Foglalások száma": "4"
                                },
                                {
                                    "Szoba száma": "126",
                                    "Foglalások száma": "4"
                                },
                                {
                                    "Szoba száma": "127",
                                    "Foglalások száma": "5"
                                },
                                {
                                    "Szoba száma": "129",
                                    "Foglalások száma": "3"
                                },
                                {
                                    "Szoba száma": "130",
                                    "Foglalások száma": "5"
                                },
                                {
                                    "Szoba száma": "131",
                                    "Foglalások száma": "4"
                                },
                                {
                                    "Szoba száma": "132",
                                    "Foglalások száma": "4"
                                },
                                {
                                    "Szoba száma": "133",
                                    "Foglalások száma": "4"
                                },
                                {
                                    "Szoba száma": "134",
                                    "Foglalások száma": "4"
                                },
                                {
                                    "Szoba száma": "135",
                                    "Foglalások száma": "3"
                                },
                                {
                                    "Szoba száma": "136",
                                    "Foglalások száma": "2"
                                },
                                {
                                    "Szoba száma": "137",
                                    "Foglalások száma": "2"
                                },
                                {
                                    "Szoba száma": "138",
                                    "Foglalások száma": "5"
                                },
                                {
                                    "Szoba száma": "139",
                                    "Foglalások száma": "6"
                                },
                                {
                                    "Szoba száma": "140",
                                    "Foglalások száma": "5"
                                },
                                {
                                    "Szoba száma": "141",
                                    "Foglalások száma": "4"
                                },
                                {
                                    "Szoba száma": "142",
                                    "Foglalások száma": "1"
                                },
                                {
                                    "Szoba száma": "143",
                                    "Foglalások száma": "5"
                                },
                                {
                                    "Szoba száma": "144",
                                    "Foglalások száma": "2"
                                },
                                {
                                    "Szoba száma": "145",
                                    "Foglalások száma": "2"
                                },
                                {
                                    "Szoba száma": "146",
                                    "Foglalások száma": "3"
                                },
                                {
                                    "Szoba száma": "147",
                                    "Foglalások száma": "1"
                                },
                                {
                                    "Szoba száma": "148",
                                    "Foglalások száma": "5"
                                },
                                {
                                    "Szoba száma": "149",
                                    "Foglalások száma": "5"
                                },
                                {
                                    "Szoba száma": "150",
                                    "Foglalások száma": "6"
                                },
                                {
                                    "Szoba száma": "151",
                                    "Foglalások száma": "2"
                                },
                                {
                                    "Szoba száma": "152",
                                    "Foglalások száma": "3"
                                },
                                {
                                    "Szoba száma": "153",
                                    "Foglalások száma": "4"
                                },
                                {
                                    "Szoba száma": "154",
                                    "Foglalások száma": "3"
                                },
                                {
                                    "Szoba száma": "155",
                                    "Foglalások száma": "3"
                                },
                                {
                                    "Szoba száma": "156",
                                    "Foglalások száma": "2"
                                },
                                {
                                    "Szoba száma": "157",
                                    "Foglalások száma": "2"
                                },
                                {
                                    "Szoba száma": "158",
                                    "Foglalások száma": "3"
                                },
                                {
                                    "Szoba száma": "160",
                                    "Foglalások száma": "2"
                                },
                                {
                                    "Szoba száma": "161",
                                    "Foglalások száma": "3"
                                },
                                {
                                    "Szoba száma": "162",
                                    "Foglalások száma": "2"
                                },
                                {
                                    "Szoba száma": "163",
                                    "Foglalások száma": "5"
                                },
                                {
                                    "Szoba száma": "164",
                                    "Foglalások száma": "4"
                                },
                                {
                                    "Szoba száma": "165",
                                    "Foglalások száma": "5"
                                },
                                {
                                    "Szoba száma": "166",
                                    "Foglalások száma": "3"
                                },
                                {
                                    "Szoba száma": "167",
                                    "Foglalások száma": "2"
                                },
                                {
                                    "Szoba száma": "168",
                                    "Foglalások száma": "1"
                                },
                                {
                                    "Szoba száma": "169",
                                    "Foglalások száma": "3"
                                },
                                {
                                    "Szoba száma": "170",
                                    "Foglalások száma": "3"
                                },
                                {
                                    "Szoba száma": "171",
                                    "Foglalások száma": "5"
                                },
                                {
                                    "Szoba száma": "172",
                                    "Foglalások száma": "6"
                                },
                                {
                                    "Szoba száma": "173",
                                    "Foglalások száma": "3"
                                },
                                {
                                    "Szoba száma": "174",
                                    "Foglalások száma": "4"
                                },
                                {
                                    "Szoba száma": "175",
                                    "Foglalások száma": "3"
                                },
                                {
                                    "Szoba száma": "176",
                                    "Foglalások száma": "2"
                                },
                                {
                                    "Szoba száma": "177",
                                    "Foglalások száma": "1"
                                },
                                {
                                    "Szoba száma": "178",
                                    "Foglalások száma": "1"
                                },
                                {
                                    "Szoba száma": "179",
                                    "Foglalások száma": "2"
                                },
                                {
                                    "Szoba száma": "180",
                                    "Foglalások száma": "1"
                                },
                                {
                                    "Szoba száma": "181",
                                    "Foglalások száma": "5"
                                },
                                {
                                    "Szoba száma": "182",
                                    "Foglalások száma": "11"
                                },
                                {
                                    "Szoba száma": "183",
                                    "Foglalások száma": "3"
                                },
                                {
                                    "Szoba száma": "184",
                                    "Foglalások száma": "4"
                                },
                                {
                                    "Szoba száma": "185",
                                    "Foglalások száma": "10"
                                },
                                {
                                    "Szoba száma": "186",
                                    "Foglalások száma": "1"
                                },
                                {
                                    "Szoba száma": "187",
                                    "Foglalások száma": "6"
                                },
                                {
                                    "Szoba száma": "188",
                                    "Foglalások száma": "2"
                                },
                                {
                                    "Szoba száma": "189",
                                    "Foglalások száma": "1"
                                },
                                {
                                    "Szoba száma": "190",
                                    "Foglalások száma": "5"
                                },
                                {
                                    "Szoba száma": "191",
                                    "Foglalások száma": "3"
                                },
                                {
                                    "Szoba száma": "192",
                                    "Foglalások száma": "1"
                                },
                                {
                                    "Szoba száma": "193",
                                    "Foglalások száma": "2"
                                },
                                {
                                    "Szoba száma": "194",
                                    "Foglalások száma": "1"
                                },
                                {
                                    "Szoba száma": "195",
                                    "Foglalások száma": "5"
                                },
                                {
                                    "Szoba száma": "196",
                                    "Foglalások száma": "2"
                                },
                                {
                                    "Szoba száma": "197",
                                    "Foglalások száma": "6"
                                },
                                {
                                    "Szoba száma": "198",
                                    "Foglalások száma": "7"
                                },
                                {
                                    "Szoba száma": "Összesen",
                                    "Foglalások száma": "668"
                                }
                            ]
                        },
                        "text/html": [
                            "<table>",
                            "<tr><th>Szoba száma</th><th>Foglalások száma</th></tr>",
                            "<tr><td>1</td><td>7</td></tr>",
                            "<tr><td>2</td><td>2</td></tr>",
                            "<tr><td>3</td><td>3</td></tr>",
                            "<tr><td>4</td><td>5</td></tr>",
                            "<tr><td>5</td><td>2</td></tr>",
                            "<tr><td>6</td><td>5</td></tr>",
                            "<tr><td>7</td><td>6</td></tr>",
                            "<tr><td>8</td><td>5</td></tr>",
                            "<tr><td>9</td><td>4</td></tr>",
                            "<tr><td>10</td><td>4</td></tr>",
                            "<tr><td>11</td><td>4</td></tr>",
                            "<tr><td>12</td><td>7</td></tr>",
                            "<tr><td>13</td><td>4</td></tr>",
                            "<tr><td>14</td><td>3</td></tr>",
                            "<tr><td>15</td><td>4</td></tr>",
                            "<tr><td>16</td><td>1</td></tr>",
                            "<tr><td>17</td><td>2</td></tr>",
                            "<tr><td>18</td><td>3</td></tr>",
                            "<tr><td>19</td><td>4</td></tr>",
                            "<tr><td>20</td><td>5</td></tr>",
                            "<tr><td>21</td><td>1</td></tr>",
                            "<tr><td>22</td><td>2</td></tr>",
                            "<tr><td>23</td><td>3</td></tr>",
                            "<tr><td>24</td><td>3</td></tr>",
                            "<tr><td>25</td><td>1</td></tr>",
                            "<tr><td>27</td><td>5</td></tr>",
                            "<tr><td>28</td><td>5</td></tr>",
                            "<tr><td>29</td><td>3</td></tr>",
                            "<tr><td>30</td><td>2</td></tr>",
                            "<tr><td>31</td><td>1</td></tr>",
                            "<tr><td>32</td><td>1</td></tr>",
                            "<tr><td>33</td><td>3</td></tr>",
                            "<tr><td>34</td><td>3</td></tr>",
                            "<tr><td>35</td><td>6</td></tr>",
                            "<tr><td>36</td><td>4</td></tr>",
                            "<tr><td>37</td><td>2</td></tr>",
                            "<tr><td>38</td><td>5</td></tr>",
                            "<tr><td>39</td><td>4</td></tr>",
                            "<tr><td>40</td><td>3</td></tr>",
                            "<tr><td>41</td><td>1</td></tr>",
                            "<tr><td>42</td><td>5</td></tr>",
                            "<tr><td>43</td><td>4</td></tr>",
                            "<tr><td>44</td><td>6</td></tr>",
                            "<tr><td>45</td><td>4</td></tr>",
                            "<tr><td>46</td><td>3</td></tr>",
                            "<tr><td>47</td><td>2</td></tr>",
                            "<tr><td>48</td><td>6</td></tr>",
                            "<tr><td>49</td><td>5</td></tr>",
                            "<tr><td>50</td><td>3</td></tr>",
                            "<tr><td>51</td><td>3</td></tr>",
                            "<tr><td>52</td><td>5</td></tr>",
                            "<tr><td>54</td><td>4</td></tr>",
                            "<tr><td>55</td><td>3</td></tr>",
                            "<tr><td>56</td><td>1</td></tr>",
                            "<tr><td>57</td><td>3</td></tr>",
                            "<tr><td>58</td><td>8</td></tr>",
                            "<tr><td>59</td><td>4</td></tr>",
                            "<tr><td>60</td><td>1</td></tr>",
                            "<tr><td>61</td><td>4</td></tr>",
                            "<tr><td>62</td><td>3</td></tr>",
                            "<tr><td>63</td><td>3</td></tr>",
                            "<tr><td>64</td><td>5</td></tr>",
                            "<tr><td>66</td><td>3</td></tr>",
                            "<tr><td>67</td><td>2</td></tr>",
                            "<tr><td>69</td><td>2</td></tr>",
                            "<tr><td>70</td><td>8</td></tr>",
                            "<tr><td>71</td><td>2</td></tr>",
                            "<tr><td>72</td><td>2</td></tr>",
                            "<tr><td>73</td><td>4</td></tr>",
                            "<tr><td>74</td><td>8</td></tr>",
                            "<tr><td>75</td><td>2</td></tr>",
                            "<tr><td>76</td><td>2</td></tr>",
                            "<tr><td>77</td><td>3</td></tr>",
                            "<tr><td>78</td><td>3</td></tr>",
                            "<tr><td>79</td><td>4</td></tr>",
                            "<tr><td>80</td><td>5</td></tr>",
                            "<tr><td>81</td><td>3</td></tr>",
                            "<tr><td>82</td><td>5</td></tr>",
                            "<tr><td>83</td><td>5</td></tr>",
                            "<tr><td>84</td><td>3</td></tr>",
                            "<tr><td>85</td><td>2</td></tr>",
                            "<tr><td>86</td><td>4</td></tr>",
                            "<tr><td>87</td><td>5</td></tr>",
                            "<tr><td>88</td><td>5</td></tr>",
                            "<tr><td>89</td><td>8</td></tr>",
                            "<tr><td>90</td><td>3</td></tr>",
                            "<tr><td>91</td><td>2</td></tr>",
                            "<tr><td>92</td><td>5</td></tr>",
                            "<tr><td>93</td><td>3</td></tr>",
                            "<tr><td>94</td><td>6</td></tr>",
                            "<tr><td>95</td><td>3</td></tr>",
                            "<tr><td>96</td><td>6</td></tr>",
                            "<tr><td>97</td><td>5</td></tr>",
                            "<tr><td>98</td><td>4</td></tr>",
                            "<tr><td>99</td><td>4</td></tr>",
                            "<tr><td>100</td><td>2</td></tr>",
                            "<tr><td>101</td><td>1</td></tr>",
                            "<tr><td>102</td><td>1</td></tr>",
                            "<tr><td>103</td><td>1</td></tr>",
                            "<tr><td>104</td><td>3</td></tr>",
                            "<tr><td>106</td><td>4</td></tr>",
                            "<tr><td>107</td><td>4</td></tr>",
                            "<tr><td>108</td><td>1</td></tr>",
                            "<tr><td>109</td><td>2</td></tr>",
                            "<tr><td>110</td><td>5</td></tr>",
                            "<tr><td>111</td><td>1</td></tr>",
                            "<tr><td>112</td><td>4</td></tr>",
                            "<tr><td>113</td><td>2</td></tr>",
                            "<tr><td>114</td><td>1</td></tr>",
                            "<tr><td>115</td><td>5</td></tr>",
                            "<tr><td>117</td><td>4</td></tr>",
                            "<tr><td>118</td><td>2</td></tr>",
                            "<tr><td>119</td><td>4</td></tr>",
                            "<tr><td>120</td><td>2</td></tr>",
                            "<tr><td>121</td><td>5</td></tr>",
                            "<tr><td>122</td><td>3</td></tr>",
                            "<tr><td>123</td><td>5</td></tr>",
                            "<tr><td>124</td><td>4</td></tr>",
                            "<tr><td>126</td><td>4</td></tr>",
                            "<tr><td>127</td><td>5</td></tr>",
                            "<tr><td>129</td><td>3</td></tr>",
                            "<tr><td>130</td><td>5</td></tr>",
                            "<tr><td>131</td><td>4</td></tr>",
                            "<tr><td>132</td><td>4</td></tr>",
                            "<tr><td>133</td><td>4</td></tr>",
                            "<tr><td>134</td><td>4</td></tr>",
                            "<tr><td>135</td><td>3</td></tr>",
                            "<tr><td>136</td><td>2</td></tr>",
                            "<tr><td>137</td><td>2</td></tr>",
                            "<tr><td>138</td><td>5</td></tr>",
                            "<tr><td>139</td><td>6</td></tr>",
                            "<tr><td>140</td><td>5</td></tr>",
                            "<tr><td>141</td><td>4</td></tr>",
                            "<tr><td>142</td><td>1</td></tr>",
                            "<tr><td>143</td><td>5</td></tr>",
                            "<tr><td>144</td><td>2</td></tr>",
                            "<tr><td>145</td><td>2</td></tr>",
                            "<tr><td>146</td><td>3</td></tr>",
                            "<tr><td>147</td><td>1</td></tr>",
                            "<tr><td>148</td><td>5</td></tr>",
                            "<tr><td>149</td><td>5</td></tr>",
                            "<tr><td>150</td><td>6</td></tr>",
                            "<tr><td>151</td><td>2</td></tr>",
                            "<tr><td>152</td><td>3</td></tr>",
                            "<tr><td>153</td><td>4</td></tr>",
                            "<tr><td>154</td><td>3</td></tr>",
                            "<tr><td>155</td><td>3</td></tr>",
                            "<tr><td>156</td><td>2</td></tr>",
                            "<tr><td>157</td><td>2</td></tr>",
                            "<tr><td>158</td><td>3</td></tr>",
                            "<tr><td>160</td><td>2</td></tr>",
                            "<tr><td>161</td><td>3</td></tr>",
                            "<tr><td>162</td><td>2</td></tr>",
                            "<tr><td>163</td><td>5</td></tr>",
                            "<tr><td>164</td><td>4</td></tr>",
                            "<tr><td>165</td><td>5</td></tr>",
                            "<tr><td>166</td><td>3</td></tr>",
                            "<tr><td>167</td><td>2</td></tr>",
                            "<tr><td>168</td><td>1</td></tr>",
                            "<tr><td>169</td><td>3</td></tr>",
                            "<tr><td>170</td><td>3</td></tr>",
                            "<tr><td>171</td><td>5</td></tr>",
                            "<tr><td>172</td><td>6</td></tr>",
                            "<tr><td>173</td><td>3</td></tr>",
                            "<tr><td>174</td><td>4</td></tr>",
                            "<tr><td>175</td><td>3</td></tr>",
                            "<tr><td>176</td><td>2</td></tr>",
                            "<tr><td>177</td><td>1</td></tr>",
                            "<tr><td>178</td><td>1</td></tr>",
                            "<tr><td>179</td><td>2</td></tr>",
                            "<tr><td>180</td><td>1</td></tr>",
                            "<tr><td>181</td><td>5</td></tr>",
                            "<tr><td>182</td><td>11</td></tr>",
                            "<tr><td>183</td><td>3</td></tr>",
                            "<tr><td>184</td><td>4</td></tr>",
                            "<tr><td>185</td><td>10</td></tr>",
                            "<tr><td>186</td><td>1</td></tr>",
                            "<tr><td>187</td><td>6</td></tr>",
                            "<tr><td>188</td><td>2</td></tr>",
                            "<tr><td>189</td><td>1</td></tr>",
                            "<tr><td>190</td><td>5</td></tr>",
                            "<tr><td>191</td><td>3</td></tr>",
                            "<tr><td>192</td><td>1</td></tr>",
                            "<tr><td>193</td><td>2</td></tr>",
                            "<tr><td>194</td><td>1</td></tr>",
                            "<tr><td>195</td><td>5</td></tr>",
                            "<tr><td>196</td><td>2</td></tr>",
                            "<tr><td>197</td><td>6</td></tr>",
                            "<tr><td>198</td><td>7</td></tr>",
                            "<tr><td>Összesen</td><td>668</td></tr>",
                            "</table>"
                        ]
                    }
                }
            ],
            "execution_count": 14
        },
        {
            "cell_type": "markdown",
            "source": [
                "Rangsoroljuk az egyes szobákat a foglalások száma, azon belül férőhely szerint!\n",
                "\n",
                "- Holtverseny esetén a sorszámok sűrűn kövessék egymást\n",
                "- Az 1-es számot a legtöbbet foglalt, azon belül legkevesebb férőhelyű szoba kapja\n",
                "- Csak a szoba azonosítója, a férőhely és a helyezés jelenjen meg"
            ],
            "metadata": {
                "azdata_cell_guid": "969966bc-c5a9-489f-b762-429f5b2668a2"
            },
            "attachments": {}
        },
        {
            "cell_type": "code",
            "source": [
                "-- 2. feladat\r\n",
                "\r\n",
                "select  sz.SZOBA_ID as 'Szoba azon.',\r\n",
                "        sz.FEROHELY as 'Férőhely',\r\n",
                "        dense_rank() over(order by count(*) desc, sz.FEROHELY)\r\n",
                "        as 'Helyezés'\r\n",
                "from szoba sz\r\n",
                "join foglalas f on f.SZOBA_FK = sz.SZOBA_ID\r\n",
                "group by sz.SZOBA_ID, sz.FEROHELY"
            ],
            "metadata": {
                "azdata_cell_guid": "a223541f-df10-4c6c-82a6-c726b60c7578",
                "language": "sql"
            },
            "outputs": [
                {
                    "output_type": "display_data",
                    "data": {
                        "text/html": "(197 rows affected)"
                    },
                    "metadata": {}
                },
                {
                    "output_type": "display_data",
                    "data": {
                        "text/html": "Total execution time: 00:00:00.048"
                    },
                    "metadata": {}
                },
                {
                    "output_type": "execute_result",
                    "metadata": {},
                    "execution_count": 18,
                    "data": {
                        "application/vnd.dataresource+json": {
                            "schema": {
                                "fields": [
                                    {
                                        "name": "Szoba azon."
                                    },
                                    {
                                        "name": "Férőhely"
                                    },
                                    {
                                        "name": "Helyezés"
                                    }
                                ]
                            },
                            "data": [
                                {
                                    "Szoba azon.": "58",
                                    "Férőhely": "2",
                                    "Helyezés": "1"
                                },
                                {
                                    "Szoba azon.": "182",
                                    "Férőhely": "2",
                                    "Helyezés": "2"
                                },
                                {
                                    "Szoba azon.": "185",
                                    "Férőhely": "3",
                                    "Helyezés": "3"
                                },
                                {
                                    "Szoba azon.": "70",
                                    "Férőhely": "2",
                                    "Helyezés": "4"
                                },
                                {
                                    "Szoba azon.": "94",
                                    "Férőhely": "2",
                                    "Helyezés": "5"
                                },
                                {
                                    "Szoba azon.": "12",
                                    "Férőhely": "2",
                                    "Helyezés": "6"
                                },
                                {
                                    "Szoba azon.": "172",
                                    "Férőhely": "2",
                                    "Helyezés": "6"
                                },
                                {
                                    "Szoba azon.": "35",
                                    "Férőhely": "3",
                                    "Helyezés": "7"
                                },
                                {
                                    "Szoba azon.": "48",
                                    "Férőhely": "3",
                                    "Helyezés": "7"
                                },
                                {
                                    "Szoba azon.": "74",
                                    "Férőhely": "3",
                                    "Helyezés": "7"
                                },
                                {
                                    "Szoba azon.": "122",
                                    "Férőhely": "3",
                                    "Helyezés": "7"
                                },
                                {
                                    "Szoba azon.": "121",
                                    "Férőhely": "2",
                                    "Helyezés": "8"
                                },
                                {
                                    "Szoba azon.": "140",
                                    "Férőhely": "2",
                                    "Helyezés": "8"
                                },
                                {
                                    "Szoba azon.": "110",
                                    "Férőhely": "2",
                                    "Helyezés": "8"
                                },
                                {
                                    "Szoba azon.": "55",
                                    "Férőhely": "2",
                                    "Helyezés": "8"
                                },
                                {
                                    "Szoba azon.": "38",
                                    "Férőhely": "2",
                                    "Helyezés": "8"
                                },
                                {
                                    "Szoba azon.": "1",
                                    "Férőhely": "3",
                                    "Helyezés": "9"
                                },
                                {
                                    "Szoba azon.": "3",
                                    "Férőhely": "3",
                                    "Helyezés": "9"
                                },
                                {
                                    "Szoba azon.": "43",
                                    "Férőhely": "3",
                                    "Helyezés": "9"
                                },
                                {
                                    "Szoba azon.": "83",
                                    "Férőhely": "3",
                                    "Helyezés": "9"
                                },
                                {
                                    "Szoba azon.": "88",
                                    "Férőhely": "3",
                                    "Helyezés": "9"
                                },
                                {
                                    "Szoba azon.": "89",
                                    "Férőhely": "3",
                                    "Helyezés": "9"
                                },
                                {
                                    "Szoba azon.": "117",
                                    "Férőhely": "3",
                                    "Helyezés": "9"
                                },
                                {
                                    "Szoba azon.": "198",
                                    "Férőhely": "3",
                                    "Helyezés": "9"
                                },
                                {
                                    "Szoba azon.": "149",
                                    "Férőhely": "2",
                                    "Helyezés": "10"
                                },
                                {
                                    "Szoba azon.": "156",
                                    "Férőhely": "2",
                                    "Helyezés": "10"
                                },
                                {
                                    "Szoba azon.": "163",
                                    "Férőhely": "2",
                                    "Helyezés": "10"
                                },
                                {
                                    "Szoba azon.": "165",
                                    "Férőhely": "2",
                                    "Helyezés": "10"
                                },
                                {
                                    "Szoba azon.": "118",
                                    "Férőhely": "2",
                                    "Helyezés": "10"
                                },
                                {
                                    "Szoba azon.": "109",
                                    "Férőhely": "2",
                                    "Helyezés": "10"
                                },
                                {
                                    "Szoba azon.": "127",
                                    "Férőhely": "2",
                                    "Helyezés": "10"
                                },
                                {
                                    "Szoba azon.": "139",
                                    "Férőhely": "2",
                                    "Helyezés": "10"
                                },
                                {
                                    "Szoba azon.": "80",
                                    "Férőhely": "2",
                                    "Helyezés": "10"
                                },
                                {
                                    "Szoba azon.": "59",
                                    "Férőhely": "2",
                                    "Helyezés": "10"
                                },
                                {
                                    "Szoba azon.": "39",
                                    "Férőhely": "2",
                                    "Helyezés": "10"
                                },
                                {
                                    "Szoba azon.": "27",
                                    "Férőhely": "3",
                                    "Helyezés": "11"
                                },
                                {
                                    "Szoba azon.": "49",
                                    "Férőhely": "3",
                                    "Helyezés": "11"
                                },
                                {
                                    "Szoba azon.": "96",
                                    "Férőhely": "3",
                                    "Helyezés": "11"
                                },
                                {
                                    "Szoba azon.": "97",
                                    "Férőhely": "3",
                                    "Helyezés": "11"
                                },
                                {
                                    "Szoba azon.": "138",
                                    "Férőhely": "3",
                                    "Helyezés": "11"
                                },
                                {
                                    "Szoba azon.": "143",
                                    "Férőhely": "3",
                                    "Helyezés": "11"
                                },
                                {
                                    "Szoba azon.": "115",
                                    "Férőhely": "3",
                                    "Helyezés": "11"
                                },
                                {
                                    "Szoba azon.": "187",
                                    "Férőhely": "3",
                                    "Helyezés": "11"
                                },
                                {
                                    "Szoba azon.": "193",
                                    "Férőhely": "3",
                                    "Helyezés": "11"
                                },
                                {
                                    "Szoba azon.": "195",
                                    "Férőhely": "2",
                                    "Helyezés": "12"
                                },
                                {
                                    "Szoba azon.": "161",
                                    "Férőhely": "2",
                                    "Helyezés": "12"
                                },
                                {
                                    "Szoba azon.": "150",
                                    "Férőhely": "2",
                                    "Helyezés": "12"
                                },
                                {
                                    "Szoba azon.": "148",
                                    "Férőhely": "2",
                                    "Helyezés": "12"
                                },
                                {
                                    "Szoba azon.": "169",
                                    "Férőhely": "2",
                                    "Helyezés": "12"
                                },
                                {
                                    "Szoba azon.": "106",
                                    "Férőhely": "2",
                                    "Helyezés": "12"
                                },
                                {
                                    "Szoba azon.": "126",
                                    "Férőhely": "2",
                                    "Helyezés": "12"
                                },
                                {
                                    "Szoba azon.": "145",
                                    "Férőhely": "2",
                                    "Helyezés": "12"
                                },
                                {
                                    "Szoba azon.": "141",
                                    "Férőhely": "2",
                                    "Helyezés": "12"
                                },
                                {
                                    "Szoba azon.": "130",
                                    "Férőhely": "2",
                                    "Helyezés": "12"
                                },
                                {
                                    "Szoba azon.": "137",
                                    "Férőhely": "2",
                                    "Helyezés": "12"
                                },
                                {
                                    "Szoba azon.": "78",
                                    "Férőhely": "2",
                                    "Helyezés": "12"
                                },
                                {
                                    "Szoba azon.": "42",
                                    "Férőhely": "2",
                                    "Helyezés": "12"
                                },
                                {
                                    "Szoba azon.": "64",
                                    "Férőhely": "2",
                                    "Helyezés": "12"
                                },
                                {
                                    "Szoba azon.": "67",
                                    "Férőhely": "2",
                                    "Helyezés": "12"
                                },
                                {
                                    "Szoba azon.": "28",
                                    "Férőhely": "2",
                                    "Helyezés": "12"
                                },
                                {
                                    "Szoba azon.": "29",
                                    "Férőhely": "2",
                                    "Helyezés": "12"
                                },
                                {
                                    "Szoba azon.": "19",
                                    "Férőhely": "2",
                                    "Helyezés": "12"
                                },
                                {
                                    "Szoba azon.": "33",
                                    "Férőhely": "2",
                                    "Helyezés": "12"
                                },
                                {
                                    "Szoba azon.": "4",
                                    "Férőhely": "2",
                                    "Helyezés": "12"
                                },
                                {
                                    "Szoba azon.": "7",
                                    "Férőhely": "2",
                                    "Helyezés": "12"
                                },
                                {
                                    "Szoba azon.": "15",
                                    "Férőhely": "2",
                                    "Helyezés": "12"
                                },
                                {
                                    "Szoba azon.": "17",
                                    "Férőhely": "3",
                                    "Helyezés": "13"
                                },
                                {
                                    "Szoba azon.": "18",
                                    "Férőhely": "3",
                                    "Helyezés": "13"
                                },
                                {
                                    "Szoba azon.": "6",
                                    "Férőhely": "3",
                                    "Helyezés": "13"
                                },
                                {
                                    "Szoba azon.": "9",
                                    "Férőhely": "3",
                                    "Helyezés": "13"
                                },
                                {
                                    "Szoba azon.": "22",
                                    "Férőhely": "3",
                                    "Helyezés": "13"
                                },
                                {
                                    "Szoba azon.": "36",
                                    "Férőhely": "3",
                                    "Helyezés": "13"
                                },
                                {
                                    "Szoba azon.": "44",
                                    "Férőhely": "3",
                                    "Helyezés": "13"
                                },
                                {
                                    "Szoba azon.": "54",
                                    "Férőhely": "3",
                                    "Helyezés": "13"
                                },
                                {
                                    "Szoba azon.": "77",
                                    "Férőhely": "3",
                                    "Helyezés": "13"
                                },
                                {
                                    "Szoba azon.": "82",
                                    "Férőhely": "3",
                                    "Helyezés": "13"
                                },
                                {
                                    "Szoba azon.": "92",
                                    "Férőhely": "3",
                                    "Helyezés": "13"
                                },
                                {
                                    "Szoba azon.": "132",
                                    "Férőhely": "3",
                                    "Helyezés": "13"
                                },
                                {
                                    "Szoba azon.": "133",
                                    "Férőhely": "3",
                                    "Helyezés": "13"
                                },
                                {
                                    "Szoba azon.": "134",
                                    "Férőhely": "3",
                                    "Helyezés": "13"
                                },
                                {
                                    "Szoba azon.": "146",
                                    "Férőhely": "3",
                                    "Helyezés": "13"
                                },
                                {
                                    "Szoba azon.": "124",
                                    "Férőhely": "3",
                                    "Helyezés": "13"
                                },
                                {
                                    "Szoba azon.": "120",
                                    "Férőhely": "3",
                                    "Helyezés": "13"
                                },
                                {
                                    "Szoba azon.": "176",
                                    "Férőhely": "3",
                                    "Helyezés": "13"
                                },
                                {
                                    "Szoba azon.": "181",
                                    "Férőhely": "3",
                                    "Helyezés": "13"
                                },
                                {
                                    "Szoba azon.": "188",
                                    "Férőhely": "3",
                                    "Helyezés": "13"
                                },
                                {
                                    "Szoba azon.": "197",
                                    "Férőhely": "3",
                                    "Helyezés": "13"
                                },
                                {
                                    "Szoba azon.": "189",
                                    "Férőhely": "2",
                                    "Helyezés": "14"
                                },
                                {
                                    "Szoba azon.": "190",
                                    "Férőhely": "2",
                                    "Helyezés": "14"
                                },
                                {
                                    "Szoba azon.": "191",
                                    "Férőhely": "2",
                                    "Helyezés": "14"
                                },
                                {
                                    "Szoba azon.": "168",
                                    "Férőhely": "2",
                                    "Helyezés": "14"
                                },
                                {
                                    "Szoba azon.": "175",
                                    "Férőhely": "2",
                                    "Helyezés": "14"
                                },
                                {
                                    "Szoba azon.": "170",
                                    "Férőhely": "2",
                                    "Helyezés": "14"
                                },
                                {
                                    "Szoba azon.": "171",
                                    "Férőhely": "2",
                                    "Helyezés": "14"
                                },
                                {
                                    "Szoba azon.": "157",
                                    "Férőhely": "2",
                                    "Helyezés": "14"
                                },
                                {
                                    "Szoba azon.": "154",
                                    "Férőhely": "2",
                                    "Helyezés": "14"
                                },
                                {
                                    "Szoba azon.": "164",
                                    "Férőhely": "2",
                                    "Helyezés": "14"
                                },
                                {
                                    "Szoba azon.": "119",
                                    "Férőhely": "2",
                                    "Helyezés": "14"
                                },
                                {
                                    "Szoba azon.": "107",
                                    "Férőhely": "2",
                                    "Helyezés": "14"
                                },
                                {
                                    "Szoba azon.": "128",
                                    "Férőhely": "2",
                                    "Helyezés": "14"
                                },
                                {
                                    "Szoba azon.": "131",
                                    "Férőhely": "2",
                                    "Helyezés": "14"
                                },
                                {
                                    "Szoba azon.": "99",
                                    "Férőhely": "2",
                                    "Helyezés": "14"
                                },
                                {
                                    "Szoba azon.": "111",
                                    "Férőhely": "2",
                                    "Helyezés": "14"
                                },
                                {
                                    "Szoba azon.": "81",
                                    "Férőhely": "2",
                                    "Helyezés": "14"
                                },
                                {
                                    "Szoba azon.": "86",
                                    "Férőhely": "2",
                                    "Helyezés": "14"
                                },
                                {
                                    "Szoba azon.": "52",
                                    "Férőhely": "2",
                                    "Helyezés": "14"
                                },
                                {
                                    "Szoba azon.": "45",
                                    "Férőhely": "2",
                                    "Helyezés": "14"
                                },
                                {
                                    "Szoba azon.": "62",
                                    "Férőhely": "2",
                                    "Helyezés": "14"
                                },
                                {
                                    "Szoba azon.": "61",
                                    "Férőhely": "3",
                                    "Helyezés": "15"
                                },
                                {
                                    "Szoba azon.": "51",
                                    "Férőhely": "3",
                                    "Helyezés": "15"
                                },
                                {
                                    "Szoba azon.": "20",
                                    "Férőhely": "3",
                                    "Helyezés": "15"
                                },
                                {
                                    "Szoba azon.": "8",
                                    "Férőhely": "3",
                                    "Helyezés": "15"
                                },
                                {
                                    "Szoba azon.": "16",
                                    "Férőhely": "3",
                                    "Helyezés": "15"
                                },
                                {
                                    "Szoba azon.": "87",
                                    "Férőhely": "3",
                                    "Helyezés": "15"
                                },
                                {
                                    "Szoba azon.": "79",
                                    "Férőhely": "3",
                                    "Helyezés": "15"
                                },
                                {
                                    "Szoba azon.": "112",
                                    "Férőhely": "3",
                                    "Helyezés": "15"
                                },
                                {
                                    "Szoba azon.": "113",
                                    "Férőhely": "3",
                                    "Helyezés": "15"
                                },
                                {
                                    "Szoba azon.": "93",
                                    "Férőhely": "3",
                                    "Helyezés": "15"
                                },
                                {
                                    "Szoba azon.": "144",
                                    "Férőhely": "3",
                                    "Helyezés": "15"
                                },
                                {
                                    "Szoba azon.": "123",
                                    "Férőhely": "3",
                                    "Helyezés": "15"
                                },
                                {
                                    "Szoba azon.": "153",
                                    "Férőhely": "3",
                                    "Helyezés": "15"
                                },
                                {
                                    "Szoba azon.": "160",
                                    "Férőhely": "3",
                                    "Helyezés": "15"
                                },
                                {
                                    "Szoba azon.": "155",
                                    "Férőhely": "3",
                                    "Helyezés": "15"
                                },
                                {
                                    "Szoba azon.": "152",
                                    "Férőhely": "2",
                                    "Helyezés": "16"
                                },
                                {
                                    "Szoba azon.": "173",
                                    "Férőhely": "2",
                                    "Helyezés": "16"
                                },
                                {
                                    "Szoba azon.": "174",
                                    "Férőhely": "2",
                                    "Helyezés": "16"
                                },
                                {
                                    "Szoba azon.": "186",
                                    "Férőhely": "2",
                                    "Helyezés": "16"
                                },
                                {
                                    "Szoba azon.": "196",
                                    "Férőhely": "2",
                                    "Helyezés": "16"
                                },
                                {
                                    "Szoba azon.": "184",
                                    "Férőhely": "2",
                                    "Helyezés": "16"
                                },
                                {
                                    "Szoba azon.": "129",
                                    "Férőhely": "2",
                                    "Helyezés": "16"
                                },
                                {
                                    "Szoba azon.": "100",
                                    "Férőhely": "2",
                                    "Helyezés": "16"
                                },
                                {
                                    "Szoba azon.": "114",
                                    "Férőhely": "2",
                                    "Helyezés": "16"
                                },
                                {
                                    "Szoba azon.": "98",
                                    "Férőhely": "2",
                                    "Helyezés": "16"
                                },
                                {
                                    "Szoba azon.": "103",
                                    "Férőhely": "2",
                                    "Helyezés": "16"
                                },
                                {
                                    "Szoba azon.": "85",
                                    "Férőhely": "2",
                                    "Helyezés": "16"
                                },
                                {
                                    "Szoba azon.": "91",
                                    "Férőhely": "2",
                                    "Helyezés": "16"
                                },
                                {
                                    "Szoba azon.": "11",
                                    "Férőhely": "2",
                                    "Helyezés": "16"
                                },
                                {
                                    "Szoba azon.": "5",
                                    "Férőhely": "2",
                                    "Helyezés": "16"
                                },
                                {
                                    "Szoba azon.": "21",
                                    "Férőhely": "2",
                                    "Helyezés": "16"
                                },
                                {
                                    "Szoba azon.": "50",
                                    "Férőhely": "2",
                                    "Helyezés": "16"
                                },
                                {
                                    "Szoba azon.": "57",
                                    "Férőhely": "2",
                                    "Helyezés": "16"
                                },
                                {
                                    "Szoba azon.": "63",
                                    "Férőhely": "2",
                                    "Helyezés": "16"
                                },
                                {
                                    "Szoba azon.": "72",
                                    "Férőhely": "2",
                                    "Helyezés": "16"
                                },
                                {
                                    "Szoba azon.": "73",
                                    "Férőhely": "2",
                                    "Helyezés": "16"
                                },
                                {
                                    "Szoba azon.": "66",
                                    "Férőhely": "3",
                                    "Helyezés": "17"
                                },
                                {
                                    "Szoba azon.": "69",
                                    "Férőhely": "3",
                                    "Helyezés": "17"
                                },
                                {
                                    "Szoba azon.": "46",
                                    "Férőhely": "3",
                                    "Helyezés": "17"
                                },
                                {
                                    "Szoba azon.": "34",
                                    "Férőhely": "3",
                                    "Helyezés": "17"
                                },
                                {
                                    "Szoba azon.": "40",
                                    "Férőhely": "3",
                                    "Helyezés": "17"
                                },
                                {
                                    "Szoba azon.": "2",
                                    "Férőhely": "3",
                                    "Helyezés": "17"
                                },
                                {
                                    "Szoba azon.": "10",
                                    "Férőhely": "3",
                                    "Helyezés": "17"
                                },
                                {
                                    "Szoba azon.": "13",
                                    "Férőhely": "3",
                                    "Helyezés": "17"
                                },
                                {
                                    "Szoba azon.": "90",
                                    "Férőhely": "3",
                                    "Helyezés": "17"
                                },
                                {
                                    "Szoba azon.": "84",
                                    "Férőhely": "3",
                                    "Helyezés": "17"
                                },
                                {
                                    "Szoba azon.": "104",
                                    "Férőhely": "3",
                                    "Helyezés": "17"
                                },
                                {
                                    "Szoba azon.": "95",
                                    "Férőhely": "3",
                                    "Helyezés": "17"
                                },
                                {
                                    "Szoba azon.": "183",
                                    "Férőhely": "3",
                                    "Helyezés": "17"
                                },
                                {
                                    "Szoba azon.": "177",
                                    "Férőhely": "3",
                                    "Helyezés": "17"
                                },
                                {
                                    "Szoba azon.": "178",
                                    "Férőhely": "3",
                                    "Helyezés": "17"
                                },
                                {
                                    "Szoba azon.": "180",
                                    "Férőhely": "2",
                                    "Helyezés": "18"
                                },
                                {
                                    "Szoba azon.": "151",
                                    "Férőhely": "2",
                                    "Helyezés": "18"
                                },
                                {
                                    "Szoba azon.": "158",
                                    "Férőhely": "2",
                                    "Helyezés": "18"
                                },
                                {
                                    "Szoba azon.": "166",
                                    "Férőhely": "2",
                                    "Helyezés": "18"
                                },
                                {
                                    "Szoba azon.": "101",
                                    "Férőhely": "2",
                                    "Helyezés": "18"
                                },
                                {
                                    "Szoba azon.": "75",
                                    "Férőhely": "2",
                                    "Helyezés": "18"
                                },
                                {
                                    "Szoba azon.": "76",
                                    "Férőhely": "2",
                                    "Helyezés": "18"
                                },
                                {
                                    "Szoba azon.": "136",
                                    "Férőhely": "2",
                                    "Helyezés": "18"
                                },
                                {
                                    "Szoba azon.": "23",
                                    "Férőhely": "2",
                                    "Helyezés": "18"
                                },
                                {
                                    "Szoba azon.": "37",
                                    "Férőhely": "2",
                                    "Helyezés": "18"
                                },
                                {
                                    "Szoba azon.": "68",
                                    "Férőhely": "2",
                                    "Helyezés": "18"
                                },
                                {
                                    "Szoba azon.": "71",
                                    "Férőhely": "3",
                                    "Helyezés": "19"
                                },
                                {
                                    "Szoba azon.": "30",
                                    "Férőhely": "3",
                                    "Helyezés": "19"
                                },
                                {
                                    "Szoba azon.": "31",
                                    "Férőhely": "3",
                                    "Helyezés": "19"
                                },
                                {
                                    "Szoba azon.": "14",
                                    "Férőhely": "3",
                                    "Helyezés": "19"
                                },
                                {
                                    "Szoba azon.": "135",
                                    "Férőhely": "3",
                                    "Helyezés": "19"
                                },
                                {
                                    "Szoba azon.": "162",
                                    "Férőhely": "3",
                                    "Helyezés": "19"
                                },
                                {
                                    "Szoba azon.": "179",
                                    "Férőhely": "3",
                                    "Helyezés": "19"
                                },
                                {
                                    "Szoba azon.": "24",
                                    "Férőhely": "4",
                                    "Helyezés": "20"
                                },
                                {
                                    "Szoba azon.": "26",
                                    "Férőhely": "2",
                                    "Helyezés": "21"
                                },
                                {
                                    "Szoba azon.": "47",
                                    "Férőhely": "2",
                                    "Helyezés": "21"
                                },
                                {
                                    "Szoba azon.": "53",
                                    "Férőhely": "2",
                                    "Helyezés": "21"
                                },
                                {
                                    "Szoba azon.": "56",
                                    "Férőhely": "2",
                                    "Helyezés": "21"
                                },
                                {
                                    "Szoba azon.": "108",
                                    "Férőhely": "2",
                                    "Helyezés": "21"
                                },
                                {
                                    "Szoba azon.": "102",
                                    "Férőhely": "2",
                                    "Helyezés": "21"
                                },
                                {
                                    "Szoba azon.": "105",
                                    "Férőhely": "2",
                                    "Helyezés": "21"
                                },
                                {
                                    "Szoba azon.": "192",
                                    "Férőhely": "2",
                                    "Helyezés": "21"
                                },
                                {
                                    "Szoba azon.": "167",
                                    "Férőhely": "3",
                                    "Helyezés": "22"
                                },
                                {
                                    "Szoba azon.": "116",
                                    "Férőhely": "3",
                                    "Helyezés": "22"
                                },
                                {
                                    "Szoba azon.": "142",
                                    "Férőhely": "3",
                                    "Helyezés": "22"
                                },
                                {
                                    "Szoba azon.": "25",
                                    "Férőhely": "3",
                                    "Helyezés": "22"
                                },
                                {
                                    "Szoba azon.": "41",
                                    "Férőhely": "3",
                                    "Helyezés": "22"
                                },
                                {
                                    "Szoba azon.": "32",
                                    "Férőhely": "2",
                                    "Helyezés": "23"
                                },
                                {
                                    "Szoba azon.": "65",
                                    "Férőhely": "2",
                                    "Helyezés": "23"
                                },
                                {
                                    "Szoba azon.": "147",
                                    "Férőhely": "2",
                                    "Helyezés": "23"
                                },
                                {
                                    "Szoba azon.": "125",
                                    "Férőhely": "2",
                                    "Helyezés": "23"
                                },
                                {
                                    "Szoba azon.": "194",
                                    "Férőhely": "2",
                                    "Helyezés": "23"
                                },
                                {
                                    "Szoba azon.": "60",
                                    "Férőhely": "3",
                                    "Helyezés": "24"
                                }
                            ]
                        },
                        "text/html": [
                            "<table>",
                            "<tr><th>Szoba azon.</th><th>Férőhely</th><th>Helyezés</th></tr>",
                            "<tr><td>58</td><td>2</td><td>1</td></tr>",
                            "<tr><td>182</td><td>2</td><td>2</td></tr>",
                            "<tr><td>185</td><td>3</td><td>3</td></tr>",
                            "<tr><td>70</td><td>2</td><td>4</td></tr>",
                            "<tr><td>94</td><td>2</td><td>5</td></tr>",
                            "<tr><td>12</td><td>2</td><td>6</td></tr>",
                            "<tr><td>172</td><td>2</td><td>6</td></tr>",
                            "<tr><td>35</td><td>3</td><td>7</td></tr>",
                            "<tr><td>48</td><td>3</td><td>7</td></tr>",
                            "<tr><td>74</td><td>3</td><td>7</td></tr>",
                            "<tr><td>122</td><td>3</td><td>7</td></tr>",
                            "<tr><td>121</td><td>2</td><td>8</td></tr>",
                            "<tr><td>140</td><td>2</td><td>8</td></tr>",
                            "<tr><td>110</td><td>2</td><td>8</td></tr>",
                            "<tr><td>55</td><td>2</td><td>8</td></tr>",
                            "<tr><td>38</td><td>2</td><td>8</td></tr>",
                            "<tr><td>1</td><td>3</td><td>9</td></tr>",
                            "<tr><td>3</td><td>3</td><td>9</td></tr>",
                            "<tr><td>43</td><td>3</td><td>9</td></tr>",
                            "<tr><td>83</td><td>3</td><td>9</td></tr>",
                            "<tr><td>88</td><td>3</td><td>9</td></tr>",
                            "<tr><td>89</td><td>3</td><td>9</td></tr>",
                            "<tr><td>117</td><td>3</td><td>9</td></tr>",
                            "<tr><td>198</td><td>3</td><td>9</td></tr>",
                            "<tr><td>149</td><td>2</td><td>10</td></tr>",
                            "<tr><td>156</td><td>2</td><td>10</td></tr>",
                            "<tr><td>163</td><td>2</td><td>10</td></tr>",
                            "<tr><td>165</td><td>2</td><td>10</td></tr>",
                            "<tr><td>118</td><td>2</td><td>10</td></tr>",
                            "<tr><td>109</td><td>2</td><td>10</td></tr>",
                            "<tr><td>127</td><td>2</td><td>10</td></tr>",
                            "<tr><td>139</td><td>2</td><td>10</td></tr>",
                            "<tr><td>80</td><td>2</td><td>10</td></tr>",
                            "<tr><td>59</td><td>2</td><td>10</td></tr>",
                            "<tr><td>39</td><td>2</td><td>10</td></tr>",
                            "<tr><td>27</td><td>3</td><td>11</td></tr>",
                            "<tr><td>49</td><td>3</td><td>11</td></tr>",
                            "<tr><td>96</td><td>3</td><td>11</td></tr>",
                            "<tr><td>97</td><td>3</td><td>11</td></tr>",
                            "<tr><td>138</td><td>3</td><td>11</td></tr>",
                            "<tr><td>143</td><td>3</td><td>11</td></tr>",
                            "<tr><td>115</td><td>3</td><td>11</td></tr>",
                            "<tr><td>187</td><td>3</td><td>11</td></tr>",
                            "<tr><td>193</td><td>3</td><td>11</td></tr>",
                            "<tr><td>195</td><td>2</td><td>12</td></tr>",
                            "<tr><td>161</td><td>2</td><td>12</td></tr>",
                            "<tr><td>150</td><td>2</td><td>12</td></tr>",
                            "<tr><td>148</td><td>2</td><td>12</td></tr>",
                            "<tr><td>169</td><td>2</td><td>12</td></tr>",
                            "<tr><td>106</td><td>2</td><td>12</td></tr>",
                            "<tr><td>126</td><td>2</td><td>12</td></tr>",
                            "<tr><td>145</td><td>2</td><td>12</td></tr>",
                            "<tr><td>141</td><td>2</td><td>12</td></tr>",
                            "<tr><td>130</td><td>2</td><td>12</td></tr>",
                            "<tr><td>137</td><td>2</td><td>12</td></tr>",
                            "<tr><td>78</td><td>2</td><td>12</td></tr>",
                            "<tr><td>42</td><td>2</td><td>12</td></tr>",
                            "<tr><td>64</td><td>2</td><td>12</td></tr>",
                            "<tr><td>67</td><td>2</td><td>12</td></tr>",
                            "<tr><td>28</td><td>2</td><td>12</td></tr>",
                            "<tr><td>29</td><td>2</td><td>12</td></tr>",
                            "<tr><td>19</td><td>2</td><td>12</td></tr>",
                            "<tr><td>33</td><td>2</td><td>12</td></tr>",
                            "<tr><td>4</td><td>2</td><td>12</td></tr>",
                            "<tr><td>7</td><td>2</td><td>12</td></tr>",
                            "<tr><td>15</td><td>2</td><td>12</td></tr>",
                            "<tr><td>17</td><td>3</td><td>13</td></tr>",
                            "<tr><td>18</td><td>3</td><td>13</td></tr>",
                            "<tr><td>6</td><td>3</td><td>13</td></tr>",
                            "<tr><td>9</td><td>3</td><td>13</td></tr>",
                            "<tr><td>22</td><td>3</td><td>13</td></tr>",
                            "<tr><td>36</td><td>3</td><td>13</td></tr>",
                            "<tr><td>44</td><td>3</td><td>13</td></tr>",
                            "<tr><td>54</td><td>3</td><td>13</td></tr>",
                            "<tr><td>77</td><td>3</td><td>13</td></tr>",
                            "<tr><td>82</td><td>3</td><td>13</td></tr>",
                            "<tr><td>92</td><td>3</td><td>13</td></tr>",
                            "<tr><td>132</td><td>3</td><td>13</td></tr>",
                            "<tr><td>133</td><td>3</td><td>13</td></tr>",
                            "<tr><td>134</td><td>3</td><td>13</td></tr>",
                            "<tr><td>146</td><td>3</td><td>13</td></tr>",
                            "<tr><td>124</td><td>3</td><td>13</td></tr>",
                            "<tr><td>120</td><td>3</td><td>13</td></tr>",
                            "<tr><td>176</td><td>3</td><td>13</td></tr>",
                            "<tr><td>181</td><td>3</td><td>13</td></tr>",
                            "<tr><td>188</td><td>3</td><td>13</td></tr>",
                            "<tr><td>197</td><td>3</td><td>13</td></tr>",
                            "<tr><td>189</td><td>2</td><td>14</td></tr>",
                            "<tr><td>190</td><td>2</td><td>14</td></tr>",
                            "<tr><td>191</td><td>2</td><td>14</td></tr>",
                            "<tr><td>168</td><td>2</td><td>14</td></tr>",
                            "<tr><td>175</td><td>2</td><td>14</td></tr>",
                            "<tr><td>170</td><td>2</td><td>14</td></tr>",
                            "<tr><td>171</td><td>2</td><td>14</td></tr>",
                            "<tr><td>157</td><td>2</td><td>14</td></tr>",
                            "<tr><td>154</td><td>2</td><td>14</td></tr>",
                            "<tr><td>164</td><td>2</td><td>14</td></tr>",
                            "<tr><td>119</td><td>2</td><td>14</td></tr>",
                            "<tr><td>107</td><td>2</td><td>14</td></tr>",
                            "<tr><td>128</td><td>2</td><td>14</td></tr>",
                            "<tr><td>131</td><td>2</td><td>14</td></tr>",
                            "<tr><td>99</td><td>2</td><td>14</td></tr>",
                            "<tr><td>111</td><td>2</td><td>14</td></tr>",
                            "<tr><td>81</td><td>2</td><td>14</td></tr>",
                            "<tr><td>86</td><td>2</td><td>14</td></tr>",
                            "<tr><td>52</td><td>2</td><td>14</td></tr>",
                            "<tr><td>45</td><td>2</td><td>14</td></tr>",
                            "<tr><td>62</td><td>2</td><td>14</td></tr>",
                            "<tr><td>61</td><td>3</td><td>15</td></tr>",
                            "<tr><td>51</td><td>3</td><td>15</td></tr>",
                            "<tr><td>20</td><td>3</td><td>15</td></tr>",
                            "<tr><td>8</td><td>3</td><td>15</td></tr>",
                            "<tr><td>16</td><td>3</td><td>15</td></tr>",
                            "<tr><td>87</td><td>3</td><td>15</td></tr>",
                            "<tr><td>79</td><td>3</td><td>15</td></tr>",
                            "<tr><td>112</td><td>3</td><td>15</td></tr>",
                            "<tr><td>113</td><td>3</td><td>15</td></tr>",
                            "<tr><td>93</td><td>3</td><td>15</td></tr>",
                            "<tr><td>144</td><td>3</td><td>15</td></tr>",
                            "<tr><td>123</td><td>3</td><td>15</td></tr>",
                            "<tr><td>153</td><td>3</td><td>15</td></tr>",
                            "<tr><td>160</td><td>3</td><td>15</td></tr>",
                            "<tr><td>155</td><td>3</td><td>15</td></tr>",
                            "<tr><td>152</td><td>2</td><td>16</td></tr>",
                            "<tr><td>173</td><td>2</td><td>16</td></tr>",
                            "<tr><td>174</td><td>2</td><td>16</td></tr>",
                            "<tr><td>186</td><td>2</td><td>16</td></tr>",
                            "<tr><td>196</td><td>2</td><td>16</td></tr>",
                            "<tr><td>184</td><td>2</td><td>16</td></tr>",
                            "<tr><td>129</td><td>2</td><td>16</td></tr>",
                            "<tr><td>100</td><td>2</td><td>16</td></tr>",
                            "<tr><td>114</td><td>2</td><td>16</td></tr>",
                            "<tr><td>98</td><td>2</td><td>16</td></tr>",
                            "<tr><td>103</td><td>2</td><td>16</td></tr>",
                            "<tr><td>85</td><td>2</td><td>16</td></tr>",
                            "<tr><td>91</td><td>2</td><td>16</td></tr>",
                            "<tr><td>11</td><td>2</td><td>16</td></tr>",
                            "<tr><td>5</td><td>2</td><td>16</td></tr>",
                            "<tr><td>21</td><td>2</td><td>16</td></tr>",
                            "<tr><td>50</td><td>2</td><td>16</td></tr>",
                            "<tr><td>57</td><td>2</td><td>16</td></tr>",
                            "<tr><td>63</td><td>2</td><td>16</td></tr>",
                            "<tr><td>72</td><td>2</td><td>16</td></tr>",
                            "<tr><td>73</td><td>2</td><td>16</td></tr>",
                            "<tr><td>66</td><td>3</td><td>17</td></tr>",
                            "<tr><td>69</td><td>3</td><td>17</td></tr>",
                            "<tr><td>46</td><td>3</td><td>17</td></tr>",
                            "<tr><td>34</td><td>3</td><td>17</td></tr>",
                            "<tr><td>40</td><td>3</td><td>17</td></tr>",
                            "<tr><td>2</td><td>3</td><td>17</td></tr>",
                            "<tr><td>10</td><td>3</td><td>17</td></tr>",
                            "<tr><td>13</td><td>3</td><td>17</td></tr>",
                            "<tr><td>90</td><td>3</td><td>17</td></tr>",
                            "<tr><td>84</td><td>3</td><td>17</td></tr>",
                            "<tr><td>104</td><td>3</td><td>17</td></tr>",
                            "<tr><td>95</td><td>3</td><td>17</td></tr>",
                            "<tr><td>183</td><td>3</td><td>17</td></tr>",
                            "<tr><td>177</td><td>3</td><td>17</td></tr>",
                            "<tr><td>178</td><td>3</td><td>17</td></tr>",
                            "<tr><td>180</td><td>2</td><td>18</td></tr>",
                            "<tr><td>151</td><td>2</td><td>18</td></tr>",
                            "<tr><td>158</td><td>2</td><td>18</td></tr>",
                            "<tr><td>166</td><td>2</td><td>18</td></tr>",
                            "<tr><td>101</td><td>2</td><td>18</td></tr>",
                            "<tr><td>75</td><td>2</td><td>18</td></tr>",
                            "<tr><td>76</td><td>2</td><td>18</td></tr>",
                            "<tr><td>136</td><td>2</td><td>18</td></tr>",
                            "<tr><td>23</td><td>2</td><td>18</td></tr>",
                            "<tr><td>37</td><td>2</td><td>18</td></tr>",
                            "<tr><td>68</td><td>2</td><td>18</td></tr>",
                            "<tr><td>71</td><td>3</td><td>19</td></tr>",
                            "<tr><td>30</td><td>3</td><td>19</td></tr>",
                            "<tr><td>31</td><td>3</td><td>19</td></tr>",
                            "<tr><td>14</td><td>3</td><td>19</td></tr>",
                            "<tr><td>135</td><td>3</td><td>19</td></tr>",
                            "<tr><td>162</td><td>3</td><td>19</td></tr>",
                            "<tr><td>179</td><td>3</td><td>19</td></tr>",
                            "<tr><td>24</td><td>4</td><td>20</td></tr>",
                            "<tr><td>26</td><td>2</td><td>21</td></tr>",
                            "<tr><td>47</td><td>2</td><td>21</td></tr>",
                            "<tr><td>53</td><td>2</td><td>21</td></tr>",
                            "<tr><td>56</td><td>2</td><td>21</td></tr>",
                            "<tr><td>108</td><td>2</td><td>21</td></tr>",
                            "<tr><td>102</td><td>2</td><td>21</td></tr>",
                            "<tr><td>105</td><td>2</td><td>21</td></tr>",
                            "<tr><td>192</td><td>2</td><td>21</td></tr>",
                            "<tr><td>167</td><td>3</td><td>22</td></tr>",
                            "<tr><td>116</td><td>3</td><td>22</td></tr>",
                            "<tr><td>142</td><td>3</td><td>22</td></tr>",
                            "<tr><td>25</td><td>3</td><td>22</td></tr>",
                            "<tr><td>41</td><td>3</td><td>22</td></tr>",
                            "<tr><td>32</td><td>2</td><td>23</td></tr>",
                            "<tr><td>65</td><td>2</td><td>23</td></tr>",
                            "<tr><td>147</td><td>2</td><td>23</td></tr>",
                            "<tr><td>125</td><td>2</td><td>23</td></tr>",
                            "<tr><td>194</td><td>2</td><td>23</td></tr>",
                            "<tr><td>60</td><td>3</td><td>24</td></tr>",
                            "</table>"
                        ]
                    }
                }
            ],
            "execution_count": 18
        },
        {
            "cell_type": "markdown",
            "source": [
                "Egészítse ki a megkezdett lekérdezést, amely megjeleníti a második legfiatalabb foglaló ügyfél foglalási adatait!"
            ],
            "metadata": {
                "azdata_cell_guid": "48df455e-6978-4861-8e01-9945808c9f17"
            },
            "attachments": {}
        },
        {
            "cell_type": "code",
            "source": [
                "-- 3. feladat\r\n",
                "\r\n",
                "select top 1 f.*\r\n",
                "FROM foglalas f\r\n",
                "join Vendeg v ON f.UGYFEL_FK = v.USERNEV\r\n",
                "where EXISTS (\r\n",
                "    select v.*\r\n",
                "    from vendeg\r\n",
                "    where szul_dat < ANY\r\n",
                "    (\r\n",
                "        SELECT MAX(szul_dat) \r\n",
                "        FROM Vendeg\r\n",
                "    )\r\n",
                ")"
            ],
            "metadata": {
                "azdata_cell_guid": "3a989f57-2029-4c5d-88b9-4501e910ee99",
                "language": "sql"
            },
            "outputs": [
{
    "output_type": "display_data",
    "data": {
        "text/html": "(1 row affected)"
    },
    "metadata": {}
}, {
    "output_type": "display_data",
    "data": {
        "text/html": "Total execution time: 00:00:00.003"
    },
    "metadata": {}
}, {
    "output_type": "execute_result",
    "metadata": {},
    "execution_count": 57,
    "data": {
        "application/vnd.dataresource+json": {
            "schema": {
                "fields": [
                    {
                        "name": "FOGLALAS_PK"
                    },
                    {
                        "name": "UGYFEL_FK"
                    },
                    {
                        "name": "SZOBA_FK"
                    },
                    {
                        "name": "METTOL"
                    },
                    {
                        "name": "MEDDIG"
                    },
                    {
                        "name": "FELNOTT_SZAM"
                    },
                    {
                        "name": "GYERMEK_SZAM"
                    }
                ]
            },
            "data": [
                {
                    "FOGLALAS_PK": "558",
                    "UGYFEL_FK": "NANDORF",
                    "SZOBA_FK": "87",
                    "METTOL": "2016-04-06",
                    "MEDDIG": "2016-04-10",
                    "FELNOTT_SZAM": "2",
                    "GYERMEK_SZAM": "1"
                }
            ]
        },
        "text/html": [
            "<table>",
            "<tr><th>FOGLALAS_PK</th><th>UGYFEL_FK</th><th>SZOBA_FK</th><th>METTOL</th><th>MEDDIG</th><th>FELNOTT_SZAM</th><th>GYERMEK_SZAM</th></tr>",
            "<tr><td>558</td><td>NANDORF</td><td>87</td><td>2016-04-06</td><td>2016-04-10</td><td>2</td><td>1</td></tr>",
            "</table>"
        ]
    }
}
],
            "execution_count": 57
        }
    ]
}
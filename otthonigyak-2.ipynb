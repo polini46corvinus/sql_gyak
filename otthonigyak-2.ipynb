{
    "metadata": {
        "kernelspec": {
            "name": "SQL",
            "display_name": "SQL",
            "language": "sql"
        },
        "language_info": {
            "name": "sql",
            "version": ""
        },
        "extensions": {
            "azuredatastudio": {
                "version": 1,
                "views": []
            }
        }
    },
    "nbformat_minor": 2,
    "nbformat": 4,
    "cells": [
        {
            "cell_type": "markdown",
            "source": [
                "1. <span style=\"color:rgb(36, 41, 47);font-family:-apple-system, BlinkMacSystemFont, &quot;Segoe UI&quot;, Helvetica, Arial, sans-serif, &quot;Apple Color Emoji&quot;, &quot;Segoe UI Emoji&quot;;font-size:16px;\">Készítsünk lekérdezést, amely listázza, hogy mely napokon hány db kölcsönzés történt!</span>\n",
                "\n",
                "<span style=\"font-size: 16px;\">a.&nbsp;</span> Az oszlopok neve legyen 'Dátum' és 'Kölcsönzések száma'  \n",
                "b. A listát rendezzük a kölcsönzés dátuma szerint csökkenő sorrendbe!"
            ],
            "metadata": {
                "azdata_cell_guid": "77f2d5b3-38e9-41cc-893f-f5afd02b97ef"
            },
            "attachments": {}
        },
        {
            "cell_type": "code",
            "source": [
                "select ki_datum, count(*) as 'Kölcsönzések száma' from kolcsonzesek\r\n",
                "group by ki_datum\r\n",
                "order by ki_datum desc"
            ],
            "metadata": {
                "azdata_cell_guid": "bd3cef1a-4e6e-4ece-9dc3-aaa9d2b5d66d",
                "language": "sql",
                "tags": []
            },
            "outputs": [
                {
                    "output_type": "display_data",
                    "data": {
                        "text/html": "(3 rows affected)"
                    },
                    "metadata": {}
                },
                {
                    "output_type": "display_data",
                    "data": {
                        "text/html": "Total execution time: 00:00:00.014"
                    },
                    "metadata": {}
                },
                {
                    "output_type": "execute_result",
                    "execution_count": 3,
                    "data": {
                        "application/vnd.dataresource+json": {
                            "schema": {
                                "fields": [
                                    {
                                        "name": "ki_datum"
                                    },
                                    {
                                        "name": "Kölcsönzések száma"
                                    }
                                ]
                            },
                            "data": [
                                {
                                    "ki_datum": "2006-10-02",
                                    "Kölcsönzések száma": "1"
                                },
                                {
                                    "ki_datum": "2006-10-01",
                                    "Kölcsönzések száma": "1"
                                },
                                {
                                    "ki_datum": "2003-12-11",
                                    "Kölcsönzések száma": "3"
                                }
                            ]
                        },
                        "text/html": "<table><tr><th>ki_datum</th><th>Kölcsönzések száma</th></tr><tr><td>2006-10-02</td><td>1</td></tr><tr><td>2006-10-01</td><td>1</td></tr><tr><td>2003-12-11</td><td>3</td></tr></table>"
                    },
                    "metadata": {}
                }
            ],
            "execution_count": 3
        },
        {
            "cell_type": "markdown",
            "source": [
                "2. <span style=\"font-weight: 600; color: rgb(36, 41, 47); font-family: -apple-system, BlinkMacSystemFont, &quot;Segoe UI&quot;, Helvetica, Arial, sans-serif, &quot;Apple Color Emoji&quot;, &quot;Segoe UI Emoji&quot;; font-size: 16px;\">Mennyi a dvd-k átlagos ára stílusonkénti bontásban?</span>\n",
                "\n",
                "1. Csak azokat a stílusokat vegyük figyelembe, ahol az átlagos ár 4500 Ft feletti!\n",
                "2. Az oszlopokat nevezzük el értelemszerűen!\n",
                "3. A listát rendezzük átlagos ár szerint csökkenő sorrendbe!"
            ],
            "metadata": {
                "azdata_cell_guid": "88f5b4bb-f4c1-4bad-a0c7-b2592687b422"
            },
            "attachments": {}
        },
        {
            "cell_type": "code",
            "source": [
                "select stilus as 'Stílus', avg(nettoar) as 'Átlagos nettó ár'\r\n",
                "from dvd\r\n",
                "group by stilus\r\n",
                "having avg(nettoar)>4500\r\n",
                "order by avg(nettoar) desc"
            ],
            "metadata": {
                "azdata_cell_guid": "e9de5726-f036-4fb9-8c33-a873955ed886",
                "language": "sql"
            },
            "outputs": [
                {
                    "output_type": "display_data",
                    "data": {
                        "text/html": "(30 rows affected)"
                    },
                    "metadata": {}
                },
                {
                    "output_type": "display_data",
                    "data": {
                        "text/html": "Total execution time: 00:00:00.013"
                    },
                    "metadata": {}
                },
                {
                    "output_type": "execute_result",
                    "execution_count": 10,
                    "data": {
                        "application/vnd.dataresource+json": {
                            "schema": {
                                "fields": [
                                    {
                                        "name": "Stílus"
                                    },
                                    {
                                        "name": "Átlagos nettó ár"
                                    }
                                ]
                            },
                            "data": [
                                {
                                    "Stílus": "ásványtan",
                                    "Átlagos nettó ár": "5624"
                                },
                                {
                                    "Stílus": "játék (rodeó)",
                                    "Átlagos nettó ár": "5591"
                                },
                                {
                                    "Stílus": "humor",
                                    "Átlagos nettó ár": "5573"
                                },
                                {
                                    "Stílus": "környezetvédelem",
                                    "Átlagos nettó ár": "5508"
                                },
                                {
                                    "Stílus": "kresz",
                                    "Átlagos nettó ár": "5476"
                                },
                                {
                                    "Stílus": "játék (jégkorong)",
                                    "Átlagos nettó ár": "5242"
                                },
                                {
                                    "Stílus": "színház",
                                    "Átlagos nettó ár": "5158"
                                },
                                {
                                    "Stílus": "múvészet",
                                    "Átlagos nettó ár": "5118"
                                },
                                {
                                    "Stílus": "kémia",
                                    "Átlagos nettó ár": "5094"
                                },
                                {
                                    "Stílus": "fordító program",
                                    "Átlagos nettó ár": "5036"
                                },
                                {
                                    "Stílus": "kerttervező",
                                    "Átlagos nettó ár": "4951"
                                },
                                {
                                    "Stílus": "művészet",
                                    "Átlagos nettó ár": "4939,25"
                                },
                                {
                                    "Stílus": "festészet",
                                    "Átlagos nettó ár": "4901"
                                },
                                {
                                    "Stílus": "zene",
                                    "Átlagos nettó ár": "4855,333333333333"
                                },
                                {
                                    "Stílus": "játék",
                                    "Átlagos nettó ár": "4850,466666666666"
                                },
                                {
                                    "Stílus": "játék (labdarúgás)",
                                    "Átlagos nettó ár": "4817,333333333333"
                                },
                                {
                                    "Stílus": "állattan",
                                    "Átlagos nettó ár": "4783,666666666667"
                                },
                                {
                                    "Stílus": "nyelvtan",
                                    "Átlagos nettó ár": "4770,666666666667"
                                },
                                {
                                    "Stílus": "fizika",
                                    "Átlagos nettó ár": "4769"
                                },
                                {
                                    "Stílus": "nyelvtanító",
                                    "Átlagos nettó ár": "4759,476190476191"
                                },
                                {
                                    "Stílus": "csillagászat",
                                    "Átlagos nettó ár": "4733,571428571428"
                                },
                                {
                                    "Stílus": "ismeretterjesztő",
                                    "Átlagos nettó ár": "4726,673913043478"
                                },
                                {
                                    "Stílus": "irodalom, nyelv",
                                    "Átlagos nettó ár": "4704"
                                },
                                {
                                    "Stílus": "gasztronómia",
                                    "Átlagos nettó ár": "4691"
                                },
                                {
                                    "Stílus": "történelem",
                                    "Átlagos nettó ár": "4655,731707317073"
                                },
                                {
                                    "Stílus": "szótár",
                                    "Átlagos nettó ár": "4624,428571428572"
                                },
                                {
                                    "Stílus": "sport",
                                    "Átlagos nettó ár": "4607"
                                },
                                {
                                    "Stílus": "földrajz",
                                    "Átlagos nettó ár": "4580,0625"
                                },
                                {
                                    "Stílus": "matematika",
                                    "Átlagos nettó ár": "4520,777777777777"
                                },
                                {
                                    "Stílus": "felvételi",
                                    "Átlagos nettó ár": "4501,333333333333"
                                }
                            ]
                        },
                        "text/html": "<table><tr><th>Stílus</th><th>Átlagos nettó ár</th></tr><tr><td>ásványtan</td><td>5624</td></tr><tr><td>játék (rodeó)</td><td>5591</td></tr><tr><td>humor</td><td>5573</td></tr><tr><td>környezetvédelem</td><td>5508</td></tr><tr><td>kresz</td><td>5476</td></tr><tr><td>játék (jégkorong)</td><td>5242</td></tr><tr><td>színház</td><td>5158</td></tr><tr><td>múvészet</td><td>5118</td></tr><tr><td>kémia</td><td>5094</td></tr><tr><td>fordító program</td><td>5036</td></tr><tr><td>kerttervező</td><td>4951</td></tr><tr><td>művészet</td><td>4939,25</td></tr><tr><td>festészet</td><td>4901</td></tr><tr><td>zene</td><td>4855,333333333333</td></tr><tr><td>játék</td><td>4850,466666666666</td></tr><tr><td>játék (labdarúgás)</td><td>4817,333333333333</td></tr><tr><td>állattan</td><td>4783,666666666667</td></tr><tr><td>nyelvtan</td><td>4770,666666666667</td></tr><tr><td>fizika</td><td>4769</td></tr><tr><td>nyelvtanító</td><td>4759,476190476191</td></tr><tr><td>csillagászat</td><td>4733,571428571428</td></tr><tr><td>ismeretterjesztő</td><td>4726,673913043478</td></tr><tr><td>irodalom, nyelv</td><td>4704</td></tr><tr><td>gasztronómia</td><td>4691</td></tr><tr><td>történelem</td><td>4655,731707317073</td></tr><tr><td>szótár</td><td>4624,428571428572</td></tr><tr><td>sport</td><td>4607</td></tr><tr><td>földrajz</td><td>4580,0625</td></tr><tr><td>matematika</td><td>4520,777777777777</td></tr><tr><td>felvételi</td><td>4501,333333333333</td></tr></table>"
                    },
                    "metadata": {}
                }
            ],
            "execution_count": 10
        },
        {
            "cell_type": "markdown",
            "source": [
                "3. <span style=\"color:rgb(36, 41, 47);font-family:-apple-system, BlinkMacSystemFont, &quot;Segoe UI&quot;, Helvetica, Arial, sans-serif, &quot;Apple Color Emoji&quot;, &quot;Segoe UI Emoji&quot;;font-size:16px;\">Listázzuk nyelvenkénti, azon belül stílusonkénti bontásban, hogy mennyi a dvd-k legkisebb és legnagyobb ára!&nbsp;</span> \n",
                "\n",
                "<span style=\"font-size: 16px;\">a. Az oszlopok neve legyen 'Nyelv', 'Stílus', 'MinÁr' és 'MaxÁr'!<br>b.&nbsp;</span> A listából hagyjuk ki azokat a sorokat, ahol a nyelv vagy a stílus nincs megadva!  \n",
                "c. Szintén hagyjuk ki azokat a csoportokat, ahol a csoport elemszáma 3-nál kisebb!"
            ],
            "metadata": {
                "azdata_cell_guid": "9e7249de-1b59-43d8-84b1-26fa7d81fc5a"
            },
            "attachments": {}
        },
        {
            "cell_type": "code",
            "source": [
                "select  nyelvek.lang as 'Nyelv',\r\n",
                "        dvd.stilus as 'Stílus',\r\n",
                "        min(dvd.nettoar) as 'MinÁr',\r\n",
                "        max(nettoar) as 'MaxÁr'\r\n",
                "        --count(*) as 'Darab'\r\n",
                "from dvd\r\n",
                "join nyelvek\r\n",
                "on dvd.lang = nyelvek.id\r\n",
                "--where dvd.stilus is not null or dvd.lang is not null\r\n",
                "where dvd.stilus <> '' or dvd.lang <> ''\r\n",
                "group by nyelvek.lang, dvd.stilus\r\n",
                "having count(*) >=3"
            ],
            "metadata": {
                "azdata_cell_guid": "6405d3e8-a9b1-45d7-aa76-3b1e785ef6cc",
                "language": "sql"
            },
            "outputs": [
                {
                    "output_type": "display_data",
                    "data": {
                        "text/html": "(25 rows affected)"
                    },
                    "metadata": {}
                },
                {
                    "output_type": "display_data",
                    "data": {
                        "text/html": "Total execution time: 00:00:00.047"
                    },
                    "metadata": {}
                },
                {
                    "output_type": "execute_result",
                    "execution_count": 35,
                    "data": {
                        "application/vnd.dataresource+json": {
                            "schema": {
                                "fields": [
                                    {
                                        "name": "Nyelv"
                                    },
                                    {
                                        "name": "Stílus"
                                    },
                                    {
                                        "name": "MinÁr"
                                    },
                                    {
                                        "name": "MaxÁr"
                                    }
                                ]
                            },
                            "data": [
                                {
                                    "Nyelv": "magyar",
                                    "Stílus": "állattan",
                                    "MinÁr": "4153",
                                    "MaxÁr": "5235"
                                },
                                {
                                    "Nyelv": "magyar",
                                    "Stílus": "biológia",
                                    "MinÁr": "3482",
                                    "MaxÁr": "5543"
                                },
                                {
                                    "Nyelv": "magyar",
                                    "Stílus": "csillagászat",
                                    "MinÁr": "3582",
                                    "MaxÁr": "5992"
                                },
                                {
                                    "Nyelv": "magyar",
                                    "Stílus": "felvételi",
                                    "MinÁr": "3215",
                                    "MaxÁr": "5955"
                                },
                                {
                                    "Nyelv": "magyar",
                                    "Stílus": "fizika",
                                    "MinÁr": "3734",
                                    "MaxÁr": "5763"
                                },
                                {
                                    "Nyelv": "magyar",
                                    "Stílus": "földrajz",
                                    "MinÁr": "3123",
                                    "MaxÁr": "6065"
                                },
                                {
                                    "Nyelv": "magyar",
                                    "Stílus": "gasztronómia",
                                    "MinÁr": "3258",
                                    "MaxÁr": "5706"
                                },
                                {
                                    "Nyelv": "magyar",
                                    "Stílus": "irodalom",
                                    "MinÁr": "3391",
                                    "MaxÁr": "5654"
                                },
                                {
                                    "Nyelv": "angol",
                                    "Stílus": "ismeretterjesztő",
                                    "MinÁr": "5334",
                                    "MaxÁr": "5900"
                                },
                                {
                                    "Nyelv": "magyar",
                                    "Stílus": "ismeretterjesztő",
                                    "MinÁr": "3256",
                                    "MaxÁr": "6072"
                                },
                                {
                                    "Nyelv": "angol",
                                    "Stílus": "játék",
                                    "MinÁr": "3144",
                                    "MaxÁr": "6062"
                                },
                                {
                                    "Nyelv": "magyar",
                                    "Stílus": "játék",
                                    "MinÁr": "3110",
                                    "MaxÁr": "6078"
                                },
                                {
                                    "Nyelv": "angol",
                                    "Stílus": "játék (autóverseny)",
                                    "MinÁr": "3106",
                                    "MaxÁr": "5005"
                                },
                                {
                                    "Nyelv": "magyar",
                                    "Stílus": "matematika",
                                    "MinÁr": "3105",
                                    "MaxÁr": "5995"
                                },
                                {
                                    "Nyelv": "magyar",
                                    "Stílus": "művészet",
                                    "MinÁr": "3490",
                                    "MaxÁr": "6098"
                                },
                                {
                                    "Nyelv": "magyar",
                                    "Stílus": "nyelvtan",
                                    "MinÁr": "3688",
                                    "MaxÁr": "5845"
                                },
                                {
                                    "Nyelv": "angol",
                                    "Stílus": "nyelvtanító",
                                    "MinÁr": "3115",
                                    "MaxÁr": "6068"
                                },
                                {
                                    "Nyelv": "angol/német",
                                    "Stílus": "nyelvtanító",
                                    "MinÁr": "3775",
                                    "MaxÁr": "5882"
                                },
                                {
                                    "Nyelv": "francia",
                                    "Stílus": "nyelvtanító",
                                    "MinÁr": "3770",
                                    "MaxÁr": "5619"
                                },
                                {
                                    "Nyelv": "német",
                                    "Stílus": "nyelvtanító",
                                    "MinÁr": "3313",
                                    "MaxÁr": "5990"
                                },
                                {
                                    "Nyelv": "olasz",
                                    "Stílus": "nyelvtanító",
                                    "MinÁr": "3419",
                                    "MaxÁr": "6082"
                                },
                                {
                                    "Nyelv": "magyar",
                                    "Stílus": "számítástechnika",
                                    "MinÁr": "3277",
                                    "MaxÁr": "5260"
                                },
                                {
                                    "Nyelv": "angol",
                                    "Stílus": "szótár",
                                    "MinÁr": "3509",
                                    "MaxÁr": "5638"
                                },
                                {
                                    "Nyelv": "magyar",
                                    "Stílus": "történelem",
                                    "MinÁr": "3122",
                                    "MaxÁr": "6084"
                                },
                                {
                                    "Nyelv": "magyar",
                                    "Stílus": "zene",
                                    "MinÁr": "3391",
                                    "MaxÁr": "5730"
                                }
                            ]
                        },
                        "text/html": "<table><tr><th>Nyelv</th><th>Stílus</th><th>MinÁr</th><th>MaxÁr</th></tr><tr><td>magyar</td><td>állattan</td><td>4153</td><td>5235</td></tr><tr><td>magyar</td><td>biológia</td><td>3482</td><td>5543</td></tr><tr><td>magyar</td><td>csillagászat</td><td>3582</td><td>5992</td></tr><tr><td>magyar</td><td>felvételi</td><td>3215</td><td>5955</td></tr><tr><td>magyar</td><td>fizika</td><td>3734</td><td>5763</td></tr><tr><td>magyar</td><td>földrajz</td><td>3123</td><td>6065</td></tr><tr><td>magyar</td><td>gasztronómia</td><td>3258</td><td>5706</td></tr><tr><td>magyar</td><td>irodalom</td><td>3391</td><td>5654</td></tr><tr><td>angol</td><td>ismeretterjesztő</td><td>5334</td><td>5900</td></tr><tr><td>magyar</td><td>ismeretterjesztő</td><td>3256</td><td>6072</td></tr><tr><td>angol</td><td>játék</td><td>3144</td><td>6062</td></tr><tr><td>magyar</td><td>játék</td><td>3110</td><td>6078</td></tr><tr><td>angol</td><td>játék (autóverseny)</td><td>3106</td><td>5005</td></tr><tr><td>magyar</td><td>matematika</td><td>3105</td><td>5995</td></tr><tr><td>magyar</td><td>művészet</td><td>3490</td><td>6098</td></tr><tr><td>magyar</td><td>nyelvtan</td><td>3688</td><td>5845</td></tr><tr><td>angol</td><td>nyelvtanító</td><td>3115</td><td>6068</td></tr><tr><td>angol/német</td><td>nyelvtanító</td><td>3775</td><td>5882</td></tr><tr><td>francia</td><td>nyelvtanító</td><td>3770</td><td>5619</td></tr><tr><td>német</td><td>nyelvtanító</td><td>3313</td><td>5990</td></tr><tr><td>olasz</td><td>nyelvtanító</td><td>3419</td><td>6082</td></tr><tr><td>magyar</td><td>számítástechnika</td><td>3277</td><td>5260</td></tr><tr><td>angol</td><td>szótár</td><td>3509</td><td>5638</td></tr><tr><td>magyar</td><td>történelem</td><td>3122</td><td>6084</td></tr><tr><td>magyar</td><td>zene</td><td>3391</td><td>5730</td></tr></table>"
                    },
                    "metadata": {}
                }
            ],
            "execution_count": 35
        },
        {
            "cell_type": "markdown",
            "source": [
                "4. <span style=\"color: rgb(36, 41, 47); font-family: -apple-system, BlinkMacSystemFont, &quot;Segoe UI&quot;, Helvetica, Arial, sans-serif, &quot;Apple Color Emoji&quot;, &quot;Segoe UI Emoji&quot;; font-size: 16px;\">Készítsünk listát, amely a csoportokat hoz létre aszerint, hogy a mai naptól számítva hány nap telt el a kölcsönzés kezdete óta. A lista jelenítse meg csoportonkénti bontásban a kikölcsönzött dvd-k számát!</span>\n",
                "\n",
                "1. Az oszlopokat nevezzük el értelemszerűen!\n",
                "2. A listát rendezzük az eltelt napok száma szerint csökkenő sorrendbe!"
            ],
            "metadata": {
                "azdata_cell_guid": "6478e469-c094-472c-a772-ccd5b5c61516"
            },
            "attachments": {}
        },
        {
            "cell_type": "code",
            "source": [
                "select count(*) as 'Kikölcsönzött darab', datediff(day, ki_datum, getdate()) as 'Kölcsönzés óta eltelt napok'\r\n",
                "from kolcsonzesek\r\n",
                "group by datediff(day, ki_datum, getdate())\r\n",
                "order by datediff(day, ki_datum, getdate()) desc"
            ],
            "metadata": {
                "azdata_cell_guid": "02031ea2-3838-458d-839c-228e3b362b61",
                "language": "sql"
            },
            "outputs": [
                {
                    "output_type": "display_data",
                    "data": {
                        "text/html": "(3 rows affected)"
                    },
                    "metadata": {}
                },
                {
                    "output_type": "display_data",
                    "data": {
                        "text/html": "Total execution time: 00:00:00.018"
                    },
                    "metadata": {}
                },
                {
                    "output_type": "execute_result",
                    "execution_count": 44,
                    "data": {
                        "application/vnd.dataresource+json": {
                            "schema": {
                                "fields": [
                                    {
                                        "name": "Kikölcsönzött darab"
                                    },
                                    {
                                        "name": "Kölcsönzés óta eltelt napok"
                                    }
                                ]
                            },
                            "data": [
                                {
                                    "Kikölcsönzött darab": "3",
                                    "Kölcsönzés óta eltelt napok": "7382"
                                },
                                {
                                    "Kikölcsönzött darab": "1",
                                    "Kölcsönzés óta eltelt napok": "6357"
                                },
                                {
                                    "Kikölcsönzött darab": "1",
                                    "Kölcsönzés óta eltelt napok": "6356"
                                }
                            ]
                        },
                        "text/html": "<table><tr><th>Kikölcsönzött darab</th><th>Kölcsönzés óta eltelt napok</th></tr><tr><td>3</td><td>7382</td></tr><tr><td>1</td><td>6357</td></tr><tr><td>1</td><td>6356</td></tr></table>"
                    },
                    "metadata": {}
                }
            ],
            "execution_count": 44
        },
        {
            "cell_type": "markdown",
            "source": [
                "5. <span style=\"color: rgb(36, 41, 47); font-family: -apple-system, BlinkMacSystemFont, &quot;Segoe UI&quot;, Helvetica, Arial, sans-serif, &quot;Apple Color Emoji&quot;, &quot;Segoe UI Emoji&quot;; font-size: 16px;\">A kölcsönző tulajdonosa elhatározza, hogy ezentúl kerekebb árakat alkalmaz. Ezért minden dvd árát 1000 Ft-ra kerekíti. Készítsünk lekérdezést, amely megmutatja, hogy melyik 1000 Ft-ra kerekített ár szerint, azon belül stílus szerint hány db dvd összesen raktáron! **</span>\n",
                "\n",
                "1. Csak olyan csoportokat listázzunk, ahol a raktárkészlet legalább 30!\n",
                "2. A listát rendezzük kerekített ár szerint, azon belül raktárkészlet szerint növekvő sorrendbe!"
            ],
            "metadata": {
                "azdata_cell_guid": "9edbbaf9-c276-4898-9a01-e1b2993c089f"
            },
            "attachments": {}
        },
        {
            "cell_type": "code",
            "source": [
                "select  round(nettoar,-3) as 'Ár',\r\n",
                "        stilus,\r\n",
                "        sum([raktár készlet]) as 'Össz db'\r\n",
                "from dvd\r\n",
                "group by round(nettoar,-3), stilus\r\n",
                "having sum([raktár készlet])>=30\r\n",
                "order by round(nettoar,-3), sum([raktár készlet])"
            ],
            "metadata": {
                "azdata_cell_guid": "5ad5fdcb-2878-4111-861a-833bcd50e935",
                "language": "sql",
                "tags": []
            },
            "outputs": [
                {
                    "output_type": "display_data",
                    "data": {
                        "text/html": "(27 rows affected)"
                    },
                    "metadata": {}
                },
                {
                    "output_type": "display_data",
                    "data": {
                        "text/html": "Total execution time: 00:00:00.862"
                    },
                    "metadata": {}
                },
                {
                    "output_type": "execute_result",
                    "execution_count": 16,
                    "data": {
                        "application/vnd.dataresource+json": {
                            "schema": {
                                "fields": [
                                    {
                                        "name": "Ár"
                                    },
                                    {
                                        "name": "stilus"
                                    },
                                    {
                                        "name": "Össz db"
                                    }
                                ]
                            },
                            "data": [
                                {
                                    "Ár": "3000",
                                    "stilus": "földrajz",
                                    "Össz db": "30"
                                },
                                {
                                    "Ár": "3000",
                                    "stilus": "nyelvtanító",
                                    "Össz db": "30"
                                },
                                {
                                    "Ár": "3000",
                                    "stilus": "játék",
                                    "Össz db": "40"
                                },
                                {
                                    "Ár": "3000",
                                    "stilus": "történelem",
                                    "Össz db": "40"
                                },
                                {
                                    "Ár": "3000",
                                    "stilus": "ismeretterjesztő",
                                    "Össz db": "70"
                                },
                                {
                                    "Ár": "4000",
                                    "stilus": "szótár",
                                    "Össz db": "30"
                                },
                                {
                                    "Ár": "4000",
                                    "stilus": "csillagászat",
                                    "Össz db": "40"
                                },
                                {
                                    "Ár": "4000",
                                    "stilus": "földrajz",
                                    "Össz db": "50"
                                },
                                {
                                    "Ár": "4000",
                                    "stilus": "irodalom",
                                    "Össz db": "90"
                                },
                                {
                                    "Ár": "4000",
                                    "stilus": "ismeretterjesztő",
                                    "Össz db": "130"
                                },
                                {
                                    "Ár": "4000",
                                    "stilus": "nyelvtanító",
                                    "Össz db": "140"
                                },
                                {
                                    "Ár": "4000",
                                    "stilus": "történelem",
                                    "Össz db": "160"
                                },
                                {
                                    "Ár": "4000",
                                    "stilus": "játék",
                                    "Össz db": "180"
                                },
                                {
                                    "Ár": "5000",
                                    "stilus": "irodalom",
                                    "Össz db": "30"
                                },
                                {
                                    "Ár": "5000",
                                    "stilus": "matematika",
                                    "Össz db": "30"
                                },
                                {
                                    "Ár": "5000",
                                    "stilus": "zene",
                                    "Össz db": "30"
                                },
                                {
                                    "Ár": "5000",
                                    "stilus": "földrajz",
                                    "Össz db": "60"
                                },
                                {
                                    "Ár": "5000",
                                    "stilus": "történelem",
                                    "Össz db": "120"
                                },
                                {
                                    "Ár": "5000",
                                    "stilus": "nyelvtanító",
                                    "Össz db": "140"
                                },
                                {
                                    "Ár": "5000",
                                    "stilus": "ismeretterjesztő",
                                    "Össz db": "170"
                                },
                                {
                                    "Ár": "5000",
                                    "stilus": "játék",
                                    "Össz db": "210"
                                },
                                {
                                    "Ár": "6000",
                                    "stilus": "csillagászat",
                                    "Össz db": "30"
                                },
                                {
                                    "Ár": "6000",
                                    "stilus": "irodalom",
                                    "Össz db": "30"
                                },
                                {
                                    "Ár": "6000",
                                    "stilus": "történelem",
                                    "Össz db": "88"
                                },
                                {
                                    "Ár": "6000",
                                    "stilus": "ismeretterjesztő",
                                    "Össz db": "90"
                                },
                                {
                                    "Ár": "6000",
                                    "stilus": "nyelvtanító",
                                    "Össz db": "110"
                                },
                                {
                                    "Ár": "6000",
                                    "stilus": "játék",
                                    "Össz db": "170"
                                }
                            ]
                        },
                        "text/html": "<table><tr><th>Ár</th><th>stilus</th><th>Össz db</th></tr><tr><td>3000</td><td>földrajz</td><td>30</td></tr><tr><td>3000</td><td>nyelvtanító</td><td>30</td></tr><tr><td>3000</td><td>játék</td><td>40</td></tr><tr><td>3000</td><td>történelem</td><td>40</td></tr><tr><td>3000</td><td>ismeretterjesztő</td><td>70</td></tr><tr><td>4000</td><td>szótár</td><td>30</td></tr><tr><td>4000</td><td>csillagászat</td><td>40</td></tr><tr><td>4000</td><td>földrajz</td><td>50</td></tr><tr><td>4000</td><td>irodalom</td><td>90</td></tr><tr><td>4000</td><td>ismeretterjesztő</td><td>130</td></tr><tr><td>4000</td><td>nyelvtanító</td><td>140</td></tr><tr><td>4000</td><td>történelem</td><td>160</td></tr><tr><td>4000</td><td>játék</td><td>180</td></tr><tr><td>5000</td><td>irodalom</td><td>30</td></tr><tr><td>5000</td><td>matematika</td><td>30</td></tr><tr><td>5000</td><td>zene</td><td>30</td></tr><tr><td>5000</td><td>földrajz</td><td>60</td></tr><tr><td>5000</td><td>történelem</td><td>120</td></tr><tr><td>5000</td><td>nyelvtanító</td><td>140</td></tr><tr><td>5000</td><td>ismeretterjesztő</td><td>170</td></tr><tr><td>5000</td><td>játék</td><td>210</td></tr><tr><td>6000</td><td>csillagászat</td><td>30</td></tr><tr><td>6000</td><td>irodalom</td><td>30</td></tr><tr><td>6000</td><td>történelem</td><td>88</td></tr><tr><td>6000</td><td>ismeretterjesztő</td><td>90</td></tr><tr><td>6000</td><td>nyelvtanító</td><td>110</td></tr><tr><td>6000</td><td>játék</td><td>170</td></tr></table>"
                    },
                    "metadata": {}
                }
            ],
            "execution_count": 16
        },
        {
            "cell_type": "markdown",
            "source": [
                "6. <span style=\"font-weight: 600; color: rgb(36, 41, 47); font-family: -apple-system, BlinkMacSystemFont, &quot;Segoe UI&quot;, Helvetica, Arial, sans-serif, &quot;Apple Color Emoji&quot;, &quot;Segoe UI Emoji&quot;; font-size: 16px;\">A dvd-ket csoportosíthatjuk aszerint, hogy milyen hosszú a címük. Amelyiknél a cím hosszúsága 10 karakter alatt van, az legyen Rövid, 10-20-ig Átlagos, 20 felett Hosszú. Hány Rövid, Átlagos, illetve Hosszú dvd-van összesen raktáron?</span>\n",
                "\n",
                "1. Az oszlopok neve legyen 'Cím hosszúság' és 'Darabszám"
            ],
            "metadata": {
                "azdata_cell_guid": "5fe65c1c-2479-45ac-ad03-ec99d12eae21"
            },
            "attachments": {}
        },
        {
            "cell_type": "code",
            "source": [
                "select count(*) as 'Darabszám',\r\n",
                "case when \r\n",
                "LEN(cim) < 10 then 'Rövid'\r\n",
                "when LEN(cim) >= 10 and LEN(cim) <= 20 then 'Átlagos'\r\n",
                "ELSE 'Hosszú'\r\n",
                "END as 'Cím hosszúság'\r\n",
                "from dvd\r\n",
                "\r\n",
                "GROUP BY case when \r\n",
                "LEN(cim) < 10 then 'Rövid'\r\n",
                "when LEN(cim) >= 10 and LEN(cim) <= 20 then 'Átlagos'\r\n",
                "ELSE 'Hosszú'\r\n",
                "END"
            ],
            "metadata": {
                "azdata_cell_guid": "924f2dde-f1c2-4def-a7f9-dbf4bace7735",
                "language": "sql"
            },
            "outputs": [
                {
                    "output_type": "display_data",
                    "data": {
                        "text/html": "(3 rows affected)"
                    },
                    "metadata": {}
                },
                {
                    "output_type": "display_data",
                    "data": {
                        "text/html": "Total execution time: 00:00:00.058"
                    },
                    "metadata": {}
                },
                {
                    "output_type": "execute_result",
                    "execution_count": 34,
                    "data": {
                        "application/vnd.dataresource+json": {
                            "schema": {
                                "fields": [
                                    {
                                        "name": "Darabszám"
                                    },
                                    {
                                        "name": "Cím hosszúság"
                                    }
                                ]
                            },
                            "data": [
                                {
                                    "Darabszám": "93",
                                    "Cím hosszúság": "Átlagos"
                                },
                                {
                                    "Darabszám": "213",
                                    "Cím hosszúság": "Hosszú"
                                },
                                {
                                    "Darabszám": "12",
                                    "Cím hosszúság": "Rövid"
                                }
                            ]
                        },
                        "text/html": "<table><tr><th>Darabszám</th><th>Cím hosszúság</th></tr><tr><td>93</td><td>Átlagos</td></tr><tr><td>213</td><td>Hosszú</td></tr><tr><td>12</td><td>Rövid</td></tr></table>"
                    },
                    "metadata": {}
                }
            ],
            "execution_count": 34
        },
        {
            "cell_type": "markdown",
            "source": [
                "7. <span style=\"color: rgb(36, 41, 47); font-family: -apple-system, BlinkMacSystemFont, &quot;Segoe UI&quot;, Helvetica, Arial, sans-serif, &quot;Apple Color Emoji&quot;, &quot;Segoe UI Emoji&quot;; font-size: 16px;\">Készítsünk listát arról, hogy melyik teremben hány óra van!</span>\n",
                "\n",
                "1. Jelenítsük meg a termek azonosítóit és a teremben tartott órák számát!\n",
                "2. Az oszlopokat nevezzük el értelemszerűen!\n",
                "3. Szűrjünk azokra a termekre, ahol az órák száma legalább 3!"
            ],
            "metadata": {
                "azdata_cell_guid": "3aeb6bf5-b111-40d5-92b2-9712ce335696"
            },
            "attachments": {}
        },
        {
            "cell_type": "code",
            "source": [
                "select  termek.terem as 'Terem száma',\r\n",
                "        count(*) as 'Órák száma'\r\n",
                "from orak\r\n",
                "join termek\r\n",
                "on orak.terem = termek.tkód\r\n",
                "group by termek.terem\r\n",
                "having count(*)>=3"
            ],
            "metadata": {
                "azdata_cell_guid": "3e89b651-f56f-4102-af52-30eb2bbe360d",
                "language": "sql"
            },
            "outputs": [
                {
                    "output_type": "display_data",
                    "data": {
                        "text/html": "(11 rows affected)"
                    },
                    "metadata": {}
                },
                {
                    "output_type": "display_data",
                    "data": {
                        "text/html": "Total execution time: 00:00:00.103"
                    },
                    "metadata": {}
                },
                {
                    "output_type": "execute_result",
                    "execution_count": 54,
                    "data": {
                        "application/vnd.dataresource+json": {
                            "schema": {
                                "fields": [
                                    {
                                        "name": "Terem száma"
                                    },
                                    {
                                        "name": "Órák száma"
                                    }
                                ]
                            },
                            "data": [
                                {
                                    "Terem száma": "116",
                                    "Órák száma": "4"
                                },
                                {
                                    "Terem száma": "118",
                                    "Órák száma": "5"
                                },
                                {
                                    "Terem száma": "119",
                                    "Órák száma": "11"
                                },
                                {
                                    "Terem száma": "120",
                                    "Órák száma": "8"
                                },
                                {
                                    "Terem száma": "217",
                                    "Órák száma": "5"
                                },
                                {
                                    "Terem száma": "218",
                                    "Órák száma": "6"
                                },
                                {
                                    "Terem száma": "219",
                                    "Órák száma": "6"
                                },
                                {
                                    "Terem száma": "220",
                                    "Órák száma": "6"
                                },
                                {
                                    "Terem száma": "E.2.238",
                                    "Órák száma": "3"
                                },
                                {
                                    "Terem száma": "S.Asor.S3",
                                    "Órák száma": "3"
                                },
                                {
                                    "Terem száma": "VP 203.",
                                    "Órák száma": "5"
                                }
                            ]
                        },
                        "text/html": "<table><tr><th>Terem száma</th><th>Órák száma</th></tr><tr><td>116</td><td>4</td></tr><tr><td>118</td><td>5</td></tr><tr><td>119</td><td>11</td></tr><tr><td>120</td><td>8</td></tr><tr><td>217</td><td>5</td></tr><tr><td>218</td><td>6</td></tr><tr><td>219</td><td>6</td></tr><tr><td>220</td><td>6</td></tr><tr><td>E.2.238</td><td>3</td></tr><tr><td>S.Asor.S3</td><td>3</td></tr><tr><td>VP 203.</td><td>5</td></tr></table>"
                    },
                    "metadata": {}
                }
            ],
            "execution_count": 54
        },
        {
            "cell_type": "markdown",
            "source": [
                "8. <span style=\"color: rgb(36, 41, 47); font-family: -apple-system, BlinkMacSystemFont, &quot;Segoe UI&quot;, Helvetica, Arial, sans-serif, &quot;Apple Color Emoji&quot;, &quot;Segoe UI Emoji&quot;; font-size: 16px;\">Készítsünk lekérdezést, amely megadja, hogy minimálian és maximálisan hány kreditet ér egy tantárgy!</span>\n",
                "\n",
                "1. Az oszlopokat nevezzük el értelemszerűen!\n",
                "2. Ne vegyük figyelembe azokat a tantárgyakat, amelyek nevében az „alapjai” szó szerepel, vagy a tantárgy neve 10 karakternél rövidebb!"
            ],
            "metadata": {
                "azdata_cell_guid": "26a504dc-ff6a-439f-94c0-4580eca3eacf"
            },
            "attachments": {}
        },
        {
            "cell_type": "code",
            "source": [
                "select  --tantárgynév,\r\n",
                "        min(kredit) as 'Min. kredit',\r\n",
                "        max(kredit) as 'Max. kredit'\r\n",
                "from Tantárgyak\r\n",
                "where tantárgynév not like '%alapjai%' or len(Tantárgynév)<10"
            ],
            "metadata": {
                "azdata_cell_guid": "1cbb8aeb-78b5-4350-aa45-e3202fdab85b",
                "language": "sql",
                "tags": []
            },
            "outputs": [
                {
                    "output_type": "display_data",
                    "data": {
                        "text/html": "(1 row affected)"
                    },
                    "metadata": {}
                },
                {
                    "output_type": "display_data",
                    "data": {
                        "text/html": "Total execution time: 00:00:00.428"
                    },
                    "metadata": {}
                },
                {
                    "output_type": "execute_result",
                    "execution_count": 68,
                    "data": {
                        "application/vnd.dataresource+json": {
                            "schema": {
                                "fields": [
                                    {
                                        "name": "Min. kredit"
                                    },
                                    {
                                        "name": "Max. kredit"
                                    }
                                ]
                            },
                            "data": [
                                {
                                    "Min. kredit": "1",
                                    "Max. kredit": "6"
                                }
                            ]
                        },
                        "text/html": "<table><tr><th>Min. kredit</th><th>Max. kredit</th></tr><tr><td>1</td><td>6</td></tr></table>"
                    },
                    "metadata": {}
                }
            ],
            "execution_count": 68
        },
        {
            "cell_type": "markdown",
            "source": [
                "9. <span style=\"color: rgb(36, 41, 47); font-family: -apple-system, BlinkMacSystemFont, &quot;Segoe UI&quot;, Helvetica, Arial, sans-serif, &quot;Apple Color Emoji&quot;, &quot;Segoe UI Emoji&quot;; font-size: 16px;\">A tapasztalat alapján a tanársegédeknek 8, az óraadóknak 10 órájuk van egy héten. A többiek annyi órát tartanak, amennyi az elvárt óraszámuk. Készítsünk lekérdezést, amely minden beosztáshoz megjeleníti, hogy hetente hány túlóra tartozik hozzá!</span>\n",
                "\n",
                "1. A lekérdezés csak a beosztások nevét és a heti túlórák számát jelenítse meg!"
            ],
            "metadata": {
                "azdata_cell_guid": "435e2860-2dd5-4877-90f4-34a43baeb53c"
            },
            "attachments": {}
        },
        {
            "cell_type": "code",
            "source": [
                "select beosztasok.beosztasnev, count(*)-beosztasok.elvart as 'Túlóra'\r\n",
                "FROM oktatok\r\n",
                "\r\n",
                "join orak\r\n",
                "on oktatok.oktato_id = orak.tanar\r\n",
                "\r\n",
                "join beosztasok\r\n",
                "on oktatok.beosztás = beosztasok.beosztas_id\r\n",
                "\r\n",
                "group by beosztasok.beosztasnev, beosztasok.elvart\r\n",
                "\r\n",
                "\r\n",
                "----- HOGY LEHET ÍGY MEGFOGALMAZNI EGY KIBASZOTT FELADATOT. OH MY GOD.\r\n",
                "----- ÉS AKKOR ÉN ÉRZEM MAGAM HÜLYÉNEK."
            ],
            "metadata": {
                "azdata_cell_guid": "ce846351-ddbe-4d8e-b8fb-2a92c73ac80b",
                "language": "sql"
            },
            "outputs": [
                {
                    "output_type": "display_data",
                    "data": {
                        "text/html": "(5 rows affected)"
                    },
                    "metadata": {}
                },
                {
                    "output_type": "display_data",
                    "data": {
                        "text/html": "Total execution time: 00:00:00.015"
                    },
                    "metadata": {}
                },
                {
                    "output_type": "execute_result",
                    "metadata": {},
                    "execution_count": 32,
                    "data": {
                        "application/vnd.dataresource+json": {
                            "schema": {
                                "fields": [
                                    {
                                        "name": "beosztasnev"
                                    },
                                    {
                                        "name": "Túlóra"
                                    }
                                ]
                            },
                            "data": [
                                {
                                    "beosztasnev": "Egyetemi tanár",
                                    "Túlóra": "9"
                                },
                                {
                                    "beosztasnev": "Docens",
                                    "Túlóra": "6"
                                },
                                {
                                    "beosztasnev": "Adjunktus",
                                    "Túlóra": "9"
                                },
                                {
                                    "beosztasnev": "Óraadó",
                                    "Túlóra": "4"
                                },
                                {
                                    "beosztasnev": "Tanársegéd",
                                    "Túlóra": "16"
                                }
                            ]
                        },
                        "text/html": [
                            "<table>",
                            "<tr><th>beosztasnev</th><th>Túlóra</th></tr>",
                            "<tr><td>Egyetemi tanár</td><td>9</td></tr>",
                            "<tr><td>Docens</td><td>6</td></tr>",
                            "<tr><td>Adjunktus</td><td>9</td></tr>",
                            "<tr><td>Óraadó</td><td>4</td></tr>",
                            "<tr><td>Tanársegéd</td><td>16</td></tr>",
                            "</table>"
                        ]
                    }
                }
            ],
            "execution_count": 32
        },
        {
            "cell_type": "markdown",
            "source": [
                "10. <span style=\"font-weight: 600; color: rgb(36, 41, 47); font-family: -apple-system, BlinkMacSystemFont, &quot;Segoe UI&quot;, Helvetica, Arial, sans-serif, &quot;Apple Color Emoji&quot;, &quot;Segoe UI Emoji&quot;; font-size: 16px;\">Melyek azok az oktatók, akiknek nincs órájuk?</span>\n",
                "\n",
                "1. Csak az oktatók neve jelenjen meg!\n",
                "2. ÖTLET: használjunk LEFT JOIN-t, és szűrjünk azokra a rekordokra, ahol NULL érték van a JOIN utáni feltétel jobb oldalán!"
            ],
            "metadata": {
                "azdata_cell_guid": "217c5772-afe2-4a7c-b913-e3a3e09d6411"
            },
            "attachments": {}
        },
        {
            "cell_type": "code",
            "source": [
                "select distinct oktatok.nev\r\n",
                "from Oktatok\r\n",
                "\r\n",
                "left join Orak\r\n",
                "on oktatok.oktato_id = orak.tanar\r\n",
                "\r\n",
                "where orak.ora_id is null"
            ],
            "metadata": {
                "azdata_cell_guid": "a9cc0926-3dbd-4ed8-8179-1c39d64a0762",
                "language": "sql"
            },
            "outputs": [
                {
                    "output_type": "display_data",
                    "data": {
                        "text/html": "(5 rows affected)"
                    },
                    "metadata": {}
                },
                {
                    "output_type": "display_data",
                    "data": {
                        "text/html": "Total execution time: 00:00:00.008"
                    },
                    "metadata": {}
                },
                {
                    "output_type": "execute_result",
                    "metadata": {},
                    "execution_count": 44,
                    "data": {
                        "application/vnd.dataresource+json": {
                            "schema": {
                                "fields": [
                                    {
                                        "name": "nev"
                                    }
                                ]
                            },
                            "data": [
                                {
                                    "nev": "Józsa Gábor"
                                },
                                {
                                    "nev": "Kiss István"
                                },
                                {
                                    "nev": "Kovacs Istvan"
                                },
                                {
                                    "nev": "Mészáros Kriszta"
                                },
                                {
                                    "nev": "Rácz András"
                                }
                            ]
                        },
                        "text/html": [
                            "<table>",
                            "<tr><th>nev</th></tr>",
                            "<tr><td>Józsa Gábor</td></tr>",
                            "<tr><td>Kiss István</td></tr>",
                            "<tr><td>Kovacs Istvan</td></tr>",
                            "<tr><td>Mészáros Kriszta</td></tr>",
                            "<tr><td>Rácz András</td></tr>",
                            "</table>"
                        ]
                    }
                }
            ],
            "execution_count": 44
        },
        {
            "cell_type": "markdown",
            "source": [
                "11. <span style=\"font-weight: 600; color: rgb(36, 41, 47); font-family: -apple-system, BlinkMacSystemFont, &quot;Segoe UI&quot;, Helvetica, Arial, sans-serif, &quot;Apple Color Emoji&quot;, &quot;Segoe UI Emoji&quot;; font-size: 16px;\">Készítsünk lekérdezést, amely részletesen megjeleníti az egyes órák fontosabb adatait, azaz</span>\n",
                "\n",
                "1. Az órák azonosítóit, a tanár nevét, a tantárgy nevét, a terem nevét és a kezdési időpontot!\n",
                "2. Az oszlopokat nevezzük el értelemszerűen!"
            ],
            "metadata": {
                "azdata_cell_guid": "d2340f5f-1614-473c-b937-85740d67f7c1"
            },
            "attachments": {}
        },
        {
            "cell_type": "code",
            "source": [
                "select  orak.ora_id as 'Óra azonosító',\r\n",
                "        oktatok.nev as 'Tanár neve',\r\n",
                "        Tantárgyak.Tantárgynév as 'Tantárgy neve',\r\n",
                "        termek.terem as 'Terem neve',\r\n",
                "        savok.Időpont as 'Kezdési idő'\r\n",
                "from Orak\r\n",
                "\r\n",
                "join Oktatok on orak.tanar = oktatok.oktato_id\r\n",
                "join Tantárgyak on orak.targy = tantárgyak.Tkód\r\n",
                "join Termek on orak.terem = termek.Tkód\r\n",
                "join Savok on orak.Sav = savok.Sav_id"
            ],
            "metadata": {
                "azdata_cell_guid": "e99c2c53-898f-4787-b0e6-182d106dc16f",
                "language": "sql"
            },
            "outputs": [
                {
                    "output_type": "display_data",
                    "data": {
                        "text/html": "(67 rows affected)"
                    },
                    "metadata": {}
                },
                {
                    "output_type": "display_data",
                    "data": {
                        "text/html": "Total execution time: 00:00:00.015"
                    },
                    "metadata": {}
                },
                {
                    "output_type": "execute_result",
                    "metadata": {},
                    "execution_count": 56,
                    "data": {
                        "application/vnd.dataresource+json": {
                            "schema": {
                                "fields": [
                                    {
                                        "name": "Óra azonosító"
                                    },
                                    {
                                        "name": "Tanár neve"
                                    },
                                    {
                                        "name": "Tantárgy neve"
                                    },
                                    {
                                        "name": "Terem neve"
                                    },
                                    {
                                        "name": "Kezdési idő"
                                    }
                                ]
                            },
                            "data": [
                                {
                                    "Óra azonosító": "159",
                                    "Tanár neve": "Ujfalussi István",
                                    "Tantárgy neve": "Az ürgeöntés alapjai",
                                    "Terem neve": "117",
                                    "Kezdési idő": "8.00"
                                },
                                {
                                    "Óra azonosító": "160",
                                    "Tanár neve": "Pelikán József",
                                    "Tantárgy neve": "Az ürgeöntés alapjai",
                                    "Terem neve": "118",
                                    "Kezdési idő": "14.00"
                                },
                                {
                                    "Óra azonosító": "161",
                                    "Tanár neve": "Pelikán József",
                                    "Tantárgy neve": "Az ürgeöntés alapjai",
                                    "Terem neve": "118",
                                    "Kezdési idő": "9.30"
                                },
                                {
                                    "Óra azonosító": "162",
                                    "Tanár neve": "Kovács András",
                                    "Tantárgy neve": "Az ürgeöntés alapjai",
                                    "Terem neve": "119",
                                    "Kezdési idő": "12.30"
                                },
                                {
                                    "Óra azonosító": "163",
                                    "Tanár neve": "Szerb László",
                                    "Tantárgy neve": "Az ürgeöntés alapjai",
                                    "Terem neve": "120",
                                    "Kezdési idő": "9.30"
                                },
                                {
                                    "Óra azonosító": "164",
                                    "Tanár neve": "Kiss János",
                                    "Tantárgy neve": "Az ürgeöntés alapjai",
                                    "Terem neve": "119",
                                    "Kezdési idő": "11.00"
                                },
                                {
                                    "Óra azonosító": "165",
                                    "Tanár neve": "Szerb László",
                                    "Tantárgy neve": "Az ürgeöntés alapjai",
                                    "Terem neve": "119",
                                    "Kezdési idő": "11.00"
                                },
                                {
                                    "Óra azonosító": "166",
                                    "Tanár neve": "Szerb László",
                                    "Tantárgy neve": "Az ürgeöntés alapjai",
                                    "Terem neve": "119",
                                    "Kezdési idő": "12.30"
                                },
                                {
                                    "Óra azonosító": "167",
                                    "Tanár neve": "Szentágotai Istvás",
                                    "Tantárgy neve": "Az ürgeöntés alapjai",
                                    "Terem neve": "120",
                                    "Kezdési idő": "12.30"
                                },
                                {
                                    "Óra azonosító": "168",
                                    "Tanár neve": "Ujfalussi István",
                                    "Tantárgy neve": "Az ürgeöntés alapjai",
                                    "Terem neve": "217",
                                    "Kezdési idő": "11.00"
                                },
                                {
                                    "Óra azonosító": "169",
                                    "Tanár neve": "Kovács András",
                                    "Tantárgy neve": "Az ürgeöntés alapjai",
                                    "Terem neve": "218",
                                    "Kezdési idő": "9.30"
                                },
                                {
                                    "Óra azonosító": "170",
                                    "Tanár neve": "Ludas Mátyás",
                                    "Tantárgy neve": "Az ürgeöntés alapjai",
                                    "Terem neve": "120",
                                    "Kezdési idő": "9.30"
                                },
                                {
                                    "Óra azonosító": "171",
                                    "Tanár neve": "Szénási ászló",
                                    "Tantárgy neve": "Az ürgeöntés alapjai",
                                    "Terem neve": "220",
                                    "Kezdési idő": "9.30"
                                },
                                {
                                    "Óra azonosító": "172",
                                    "Tanár neve": "Kiss János",
                                    "Tantárgy neve": "Az ürgeöntés alapjai",
                                    "Terem neve": "119",
                                    "Kezdési idő": "9.30"
                                },
                                {
                                    "Óra azonosító": "173",
                                    "Tanár neve": "Kovács András",
                                    "Tantárgy neve": "Az ürgeöntés alapjai",
                                    "Terem neve": "119",
                                    "Kezdési idő": "11.00"
                                },
                                {
                                    "Óra azonosító": "174",
                                    "Tanár neve": "Ludas Mátyás",
                                    "Tantárgy neve": "Az ürgeöntés alapjai",
                                    "Terem neve": "219",
                                    "Kezdési idő": "11.00"
                                },
                                {
                                    "Óra azonosító": "175",
                                    "Tanár neve": "Szénási ászló",
                                    "Tantárgy neve": "Az ürgeöntés alapjai",
                                    "Terem neve": "120",
                                    "Kezdési idő": "12.30"
                                },
                                {
                                    "Óra azonosító": "176",
                                    "Tanár neve": "Kovács András",
                                    "Tantárgy neve": "Az ürgeöntés alapjai",
                                    "Terem neve": "118",
                                    "Kezdési idő": "12.30"
                                },
                                {
                                    "Óra azonosító": "177",
                                    "Tanár neve": "Szentágotai Istvás",
                                    "Tantárgy neve": "Az ürgeöntés alapjai",
                                    "Terem neve": "119",
                                    "Kezdési idő": "14.00"
                                },
                                {
                                    "Óra azonosító": "178",
                                    "Tanár neve": "Vitéz János",
                                    "Tantárgy neve": "Az ürgeöntés alapjai",
                                    "Terem neve": "220",
                                    "Kezdési idő": "14.00"
                                },
                                {
                                    "Óra azonosító": "179",
                                    "Tanár neve": "Szentágotai Istvás",
                                    "Tantárgy neve": "Az ürgeöntés alapjai",
                                    "Terem neve": "120",
                                    "Kezdési idő": "15.30"
                                },
                                {
                                    "Óra azonosító": "180",
                                    "Tanár neve": "Vitéz János",
                                    "Tantárgy neve": "Az ürgeöntés alapjai",
                                    "Terem neve": "119",
                                    "Kezdési idő": "15.30"
                                },
                                {
                                    "Óra azonosító": "181",
                                    "Tanár neve": "Szentágotai Istvás",
                                    "Tantárgy neve": "Az ürgeöntés alapjai",
                                    "Terem neve": "118",
                                    "Kezdési idő": "8.00"
                                },
                                {
                                    "Óra azonosító": "182",
                                    "Tanár neve": "Vitéz János",
                                    "Tantárgy neve": "Az ürgeöntés alapjai",
                                    "Terem neve": "219",
                                    "Kezdési idő": "8.00"
                                },
                                {
                                    "Óra azonosító": "183",
                                    "Tanár neve": "Szentágotai Istvás",
                                    "Tantárgy neve": "Az ürgeöntés alapjai",
                                    "Terem neve": "220",
                                    "Kezdési idő": "9.30"
                                },
                                {
                                    "Óra azonosító": "184",
                                    "Tanár neve": "Vitéz János",
                                    "Tantárgy neve": "Az ürgeöntés alapjai",
                                    "Terem neve": "218",
                                    "Kezdési idő": "9.30"
                                },
                                {
                                    "Óra azonosító": "185",
                                    "Tanár neve": "Szentágotai Istvás",
                                    "Tantárgy neve": "Az ürgeöntés alapjai",
                                    "Terem neve": "120",
                                    "Kezdési idő": "11.00"
                                },
                                {
                                    "Óra azonosító": "186",
                                    "Tanár neve": "Nógrádi Kata",
                                    "Tantárgy neve": "ü-business",
                                    "Terem neve": "219",
                                    "Kezdési idő": "12.30"
                                },
                                {
                                    "Óra azonosító": "187",
                                    "Tanár neve": "Balkán András",
                                    "Tantárgy neve": "Bevezetés az ürgeöntésbe",
                                    "Terem neve": "217",
                                    "Kezdési idő": "9.30"
                                },
                                {
                                    "Óra azonosító": "188",
                                    "Tanár neve": "Farkasos Piroska",
                                    "Tantárgy neve": "Bevezetés az ürgeöntésbe",
                                    "Terem neve": "VP 203.",
                                    "Kezdési idő": "15.30"
                                },
                                {
                                    "Óra azonosító": "189",
                                    "Tanár neve": "Farkasos Piroska",
                                    "Tantárgy neve": "Bevezetés az ürgeöntésbe",
                                    "Terem neve": "VP 203.",
                                    "Kezdési idő": "9.30"
                                },
                                {
                                    "Óra azonosító": "190",
                                    "Tanár neve": "Farkasos Piroska",
                                    "Tantárgy neve": "Bevezetés az ürgeöntésbe",
                                    "Terem neve": "E.2.238",
                                    "Kezdési idő": "11.00"
                                },
                                {
                                    "Óra azonosító": "191",
                                    "Tanár neve": "Varga Kata",
                                    "Tantárgy neve": "Az ürgeöntés hydrológiai alapjai II.",
                                    "Terem neve": "220",
                                    "Kezdési idő": "14.00"
                                },
                                {
                                    "Óra azonosító": "192",
                                    "Tanár neve": "Varga Kata",
                                    "Tantárgy neve": "Az ürgeöntés hydrológiai alapjai II.",
                                    "Terem neve": "119",
                                    "Kezdési idő": "15.30"
                                },
                                {
                                    "Óra azonosító": "193",
                                    "Tanár neve": "Farkasos Piroska",
                                    "Tantárgy neve": "Az ürgeöntés hydrológiai alapjai II.",
                                    "Terem neve": "217",
                                    "Kezdési idő": "14.00"
                                },
                                {
                                    "Óra azonosító": "194",
                                    "Tanár neve": "Farkasos Piroska",
                                    "Tantárgy neve": "Az ürgeöntés hydrológiai alapjai II.",
                                    "Terem neve": "E.fsz.I",
                                    "Kezdési idő": "15.30"
                                },
                                {
                                    "Óra azonosító": "195",
                                    "Tanár neve": "Balkán András",
                                    "Tantárgy neve": "Az ürgeöntés hydrológiai alapjai II.",
                                    "Terem neve": "116",
                                    "Kezdési idő": "14.00"
                                },
                                {
                                    "Óra azonosító": "196",
                                    "Tanár neve": "Balkán András",
                                    "Tantárgy neve": "Az ürgeöntés hydrológiai alapjai II.",
                                    "Terem neve": "218",
                                    "Kezdési idő": "15.30"
                                },
                                {
                                    "Óra azonosító": "197",
                                    "Tanár neve": "Farkasos Piroska",
                                    "Tantárgy neve": "Az ürgeöntés hydrológiai alapjai II.",
                                    "Terem neve": "116",
                                    "Kezdési idő": "8.00"
                                },
                                {
                                    "Óra azonosító": "198",
                                    "Tanár neve": "Farkasos Piroska",
                                    "Tantárgy neve": "Az ürgeöntés hydrológiai alapjai II.",
                                    "Terem neve": "119",
                                    "Kezdési idő": "9.30"
                                },
                                {
                                    "Óra azonosító": "199",
                                    "Tanár neve": "Szabó Andrera",
                                    "Tantárgy neve": "Az ürgeöntés hydrológiai alapjai II.",
                                    "Terem neve": "218",
                                    "Kezdési idő": "8.00"
                                },
                                {
                                    "Óra azonosító": "200",
                                    "Tanár neve": "Szabó Andrera",
                                    "Tantárgy neve": "Az ürgeöntés hydrológiai alapjai II.",
                                    "Terem neve": "220",
                                    "Kezdési idő": "9.30"
                                },
                                {
                                    "Óra azonosító": "201",
                                    "Tanár neve": "Juhász András",
                                    "Tantárgy neve": "Öntési gyakorlat",
                                    "Terem neve": "E.2.238",
                                    "Kezdési idő": "12.30"
                                },
                                {
                                    "Óra azonosító": "202",
                                    "Tanár neve": "Juhász András",
                                    "Tantárgy neve": "Öntési gyakorlat",
                                    "Terem neve": "E.3.332",
                                    "Kezdési idő": "14.00"
                                },
                                {
                                    "Óra azonosító": "203",
                                    "Tanár neve": "Aranyi Mária",
                                    "Tantárgy neve": "Az ürgeöntés hydrológiai alapjai I.",
                                    "Terem neve": "S.Asor.S3",
                                    "Kezdési idő": "12.30"
                                },
                                {
                                    "Óra azonosító": "204",
                                    "Tanár neve": "Róbert Gida",
                                    "Tantárgy neve": "Az ürgeöntés hydrológiai alapjai I.",
                                    "Terem neve": "120",
                                    "Kezdési idő": "14.00"
                                },
                                {
                                    "Óra azonosító": "205",
                                    "Tanár neve": "Ujfalussi István",
                                    "Tantárgy neve": "Az öntés elmélete",
                                    "Terem neve": "220",
                                    "Kezdési idő": "12.30"
                                },
                                {
                                    "Óra azonosító": "206",
                                    "Tanár neve": "Varga Kata",
                                    "Tantárgy neve": "Az öntés elmélete",
                                    "Terem neve": "S.Asor.S3",
                                    "Kezdési idő": "8.00"
                                },
                                {
                                    "Óra azonosító": "207",
                                    "Tanár neve": "Varga Kata",
                                    "Tantárgy neve": "Az öntés elmélete",
                                    "Terem neve": "219",
                                    "Kezdési idő": "12.30"
                                },
                                {
                                    "Óra azonosító": "208",
                                    "Tanár neve": "Jogrerős Pál",
                                    "Tantárgy neve": "Ürgevitel",
                                    "Terem neve": "VP 203.",
                                    "Kezdési idő": "8.00"
                                },
                                {
                                    "Óra azonosító": "209",
                                    "Tanár neve": "Jogrerős Pál",
                                    "Tantárgy neve": "Ürgevitel",
                                    "Terem neve": "VP 203.",
                                    "Kezdési idő": "9.30"
                                },
                                {
                                    "Óra azonosító": "210",
                                    "Tanár neve": "Szép llonka",
                                    "Tantárgy neve": "Ürgeöntés az EU-ban",
                                    "Terem neve": "E.2.238",
                                    "Kezdési idő": "15.30"
                                },
                                {
                                    "Óra azonosító": "211",
                                    "Tanár neve": "Szép llonka",
                                    "Tantárgy neve": "Ürgeöntés az EU-ban",
                                    "Terem neve": "217",
                                    "Kezdési idő": "17.00"
                                },
                                {
                                    "Óra azonosító": "212",
                                    "Tanár neve": "Kiss János",
                                    "Tantárgy neve": "Ürgeöntés az EU-ban",
                                    "Terem neve": "120",
                                    "Kezdési idő": "18.30"
                                },
                                {
                                    "Óra azonosító": "213",
                                    "Tanár neve": "Kiss János",
                                    "Tantárgy neve": "Ürgeöntés az EU-ban",
                                    "Terem neve": "218",
                                    "Kezdési idő": "20.00"
                                },
                                {
                                    "Óra azonosító": "214",
                                    "Tanár neve": "Pelikán József",
                                    "Tantárgy neve": "Az ürge anatómiája",
                                    "Terem neve": "219",
                                    "Kezdési idő": "11.00"
                                },
                                {
                                    "Óra azonosító": "215",
                                    "Tanár neve": "Pelikán József",
                                    "Tantárgy neve": "Az ürge anatómiája",
                                    "Terem neve": "E.fsz.IV.",
                                    "Kezdési idő": "12.30"
                                },
                                {
                                    "Óra azonosító": "216",
                                    "Tanár neve": "Szép llonka",
                                    "Tantárgy neve": "Az ürge anatómiája",
                                    "Terem neve": "218",
                                    "Kezdési idő": "11.00"
                                },
                                {
                                    "Óra azonosító": "217",
                                    "Tanár neve": "Szép llonka",
                                    "Tantárgy neve": "Az ürge anatómiája",
                                    "Terem neve": "217",
                                    "Kezdési idő": "12.30"
                                },
                                {
                                    "Óra azonosító": "218",
                                    "Tanár neve": "Pelikán József",
                                    "Tantárgy neve": "Az ürge anatómiája",
                                    "Terem neve": "118",
                                    "Kezdési idő": "15.30"
                                },
                                {
                                    "Óra azonosító": "219",
                                    "Tanár neve": "Pelikán József",
                                    "Tantárgy neve": "Az ürge anatómiája",
                                    "Terem neve": "219",
                                    "Kezdési idő": "17.00"
                                },
                                {
                                    "Óra azonosító": "220",
                                    "Tanár neve": "Kovács László",
                                    "Tantárgy neve": "Fejezetek az ürgék jogaiból",
                                    "Terem neve": "119",
                                    "Kezdési idő": "11.00"
                                },
                                {
                                    "Óra azonosító": "221",
                                    "Tanár neve": "Kovács László",
                                    "Tantárgy neve": "Fejezetek az ürgék jogaiból",
                                    "Terem neve": "VP 203.",
                                    "Kezdési idő": "11.00"
                                },
                                {
                                    "Óra azonosító": "222",
                                    "Tanár neve": "Kovács László",
                                    "Tantárgy neve": "Fejezetek az ürgék jogaiból",
                                    "Terem neve": "116",
                                    "Kezdési idő": "14.00"
                                },
                                {
                                    "Óra azonosító": "223",
                                    "Tanár neve": "Kovács László",
                                    "Tantárgy neve": "Fejezetek az ürgék jogaiból",
                                    "Terem neve": "S.Asor.S3",
                                    "Kezdési idő": "8.00"
                                },
                                {
                                    "Óra azonosító": "226",
                                    "Tanár neve": "Szentágotai Istvás",
                                    "Tantárgy neve": "ürgefőzés",
                                    "Terem neve": "117",
                                    "Kezdési idő": "11.00"
                                },
                                {
                                    "Óra azonosító": "227",
                                    "Tanár neve": "Szentágotai Istvás",
                                    "Tantárgy neve": "Az ürgeöntés hydrológiai alapjai I.",
                                    "Terem neve": "116",
                                    "Kezdési idő": "14.00"
                                }
                            ]
                        },
                        "text/html": [
                            "<table>",
                            "<tr><th>Óra azonosító</th><th>Tanár neve</th><th>Tantárgy neve</th><th>Terem neve</th><th>Kezdési idő</th></tr>",
                            "<tr><td>159</td><td>Ujfalussi István</td><td>Az ürgeöntés alapjai</td><td>117</td><td>8.00</td></tr>",
                            "<tr><td>160</td><td>Pelikán József</td><td>Az ürgeöntés alapjai</td><td>118</td><td>14.00</td></tr>",
                            "<tr><td>161</td><td>Pelikán József</td><td>Az ürgeöntés alapjai</td><td>118</td><td>9.30</td></tr>",
                            "<tr><td>162</td><td>Kovács András</td><td>Az ürgeöntés alapjai</td><td>119</td><td>12.30</td></tr>",
                            "<tr><td>163</td><td>Szerb László</td><td>Az ürgeöntés alapjai</td><td>120</td><td>9.30</td></tr>",
                            "<tr><td>164</td><td>Kiss János</td><td>Az ürgeöntés alapjai</td><td>119</td><td>11.00</td></tr>",
                            "<tr><td>165</td><td>Szerb László</td><td>Az ürgeöntés alapjai</td><td>119</td><td>11.00</td></tr>",
                            "<tr><td>166</td><td>Szerb László</td><td>Az ürgeöntés alapjai</td><td>119</td><td>12.30</td></tr>",
                            "<tr><td>167</td><td>Szentágotai Istvás</td><td>Az ürgeöntés alapjai</td><td>120</td><td>12.30</td></tr>",
                            "<tr><td>168</td><td>Ujfalussi István</td><td>Az ürgeöntés alapjai</td><td>217</td><td>11.00</td></tr>",
                            "<tr><td>169</td><td>Kovács András</td><td>Az ürgeöntés alapjai</td><td>218</td><td>9.30</td></tr>",
                            "<tr><td>170</td><td>Ludas Mátyás</td><td>Az ürgeöntés alapjai</td><td>120</td><td>9.30</td></tr>",
                            "<tr><td>171</td><td>Szénási ászló</td><td>Az ürgeöntés alapjai</td><td>220</td><td>9.30</td></tr>",
                            "<tr><td>172</td><td>Kiss János</td><td>Az ürgeöntés alapjai</td><td>119</td><td>9.30</td></tr>",
                            "<tr><td>173</td><td>Kovács András</td><td>Az ürgeöntés alapjai</td><td>119</td><td>11.00</td></tr>",
                            "<tr><td>174</td><td>Ludas Mátyás</td><td>Az ürgeöntés alapjai</td><td>219</td><td>11.00</td></tr>",
                            "<tr><td>175</td><td>Szénási ászló</td><td>Az ürgeöntés alapjai</td><td>120</td><td>12.30</td></tr>",
                            "<tr><td>176</td><td>Kovács András</td><td>Az ürgeöntés alapjai</td><td>118</td><td>12.30</td></tr>",
                            "<tr><td>177</td><td>Szentágotai Istvás</td><td>Az ürgeöntés alapjai</td><td>119</td><td>14.00</td></tr>",
                            "<tr><td>178</td><td>Vitéz János</td><td>Az ürgeöntés alapjai</td><td>220</td><td>14.00</td></tr>",
                            "<tr><td>179</td><td>Szentágotai Istvás</td><td>Az ürgeöntés alapjai</td><td>120</td><td>15.30</td></tr>",
                            "<tr><td>180</td><td>Vitéz János</td><td>Az ürgeöntés alapjai</td><td>119</td><td>15.30</td></tr>",
                            "<tr><td>181</td><td>Szentágotai Istvás</td><td>Az ürgeöntés alapjai</td><td>118</td><td>8.00</td></tr>",
                            "<tr><td>182</td><td>Vitéz János</td><td>Az ürgeöntés alapjai</td><td>219</td><td>8.00</td></tr>",
                            "<tr><td>183</td><td>Szentágotai Istvás</td><td>Az ürgeöntés alapjai</td><td>220</td><td>9.30</td></tr>",
                            "<tr><td>184</td><td>Vitéz János</td><td>Az ürgeöntés alapjai</td><td>218</td><td>9.30</td></tr>",
                            "<tr><td>185</td><td>Szentágotai Istvás</td><td>Az ürgeöntés alapjai</td><td>120</td><td>11.00</td></tr>",
                            "<tr><td>186</td><td>Nógrádi Kata</td><td>ü-business</td><td>219</td><td>12.30</td></tr>",
                            "<tr><td>187</td><td>Balkán András</td><td>Bevezetés az ürgeöntésbe</td><td>217</td><td>9.30</td></tr>",
                            "<tr><td>188</td><td>Farkasos Piroska</td><td>Bevezetés az ürgeöntésbe</td><td>VP 203.</td><td>15.30</td></tr>",
                            "<tr><td>189</td><td>Farkasos Piroska</td><td>Bevezetés az ürgeöntésbe</td><td>VP 203.</td><td>9.30</td></tr>",
                            "<tr><td>190</td><td>Farkasos Piroska</td><td>Bevezetés az ürgeöntésbe</td><td>E.2.238</td><td>11.00</td></tr>",
                            "<tr><td>191</td><td>Varga Kata</td><td>Az ürgeöntés hydrológiai alapjai II.</td><td>220</td><td>14.00</td></tr>",
                            "<tr><td>192</td><td>Varga Kata</td><td>Az ürgeöntés hydrológiai alapjai II.</td><td>119</td><td>15.30</td></tr>",
                            "<tr><td>193</td><td>Farkasos Piroska</td><td>Az ürgeöntés hydrológiai alapjai II.</td><td>217</td><td>14.00</td></tr>",
                            "<tr><td>194</td><td>Farkasos Piroska</td><td>Az ürgeöntés hydrológiai alapjai II.</td><td>E.fsz.I</td><td>15.30</td></tr>",
                            "<tr><td>195</td><td>Balkán András</td><td>Az ürgeöntés hydrológiai alapjai II.</td><td>116</td><td>14.00</td></tr>",
                            "<tr><td>196</td><td>Balkán András</td><td>Az ürgeöntés hydrológiai alapjai II.</td><td>218</td><td>15.30</td></tr>",
                            "<tr><td>197</td><td>Farkasos Piroska</td><td>Az ürgeöntés hydrológiai alapjai II.</td><td>116</td><td>8.00</td></tr>",
                            "<tr><td>198</td><td>Farkasos Piroska</td><td>Az ürgeöntés hydrológiai alapjai II.</td><td>119</td><td>9.30</td></tr>",
                            "<tr><td>199</td><td>Szabó Andrera</td><td>Az ürgeöntés hydrológiai alapjai II.</td><td>218</td><td>8.00</td></tr>",
                            "<tr><td>200</td><td>Szabó Andrera</td><td>Az ürgeöntés hydrológiai alapjai II.</td><td>220</td><td>9.30</td></tr>",
                            "<tr><td>201</td><td>Juhász András</td><td>Öntési gyakorlat</td><td>E.2.238</td><td>12.30</td></tr>",
                            "<tr><td>202</td><td>Juhász András</td><td>Öntési gyakorlat</td><td>E.3.332</td><td>14.00</td></tr>",
                            "<tr><td>203</td><td>Aranyi Mária</td><td>Az ürgeöntés hydrológiai alapjai I.</td><td>S.Asor.S3</td><td>12.30</td></tr>",
                            "<tr><td>204</td><td>Róbert Gida</td><td>Az ürgeöntés hydrológiai alapjai I.</td><td>120</td><td>14.00</td></tr>",
                            "<tr><td>205</td><td>Ujfalussi István</td><td>Az öntés elmélete</td><td>220</td><td>12.30</td></tr>",
                            "<tr><td>206</td><td>Varga Kata</td><td>Az öntés elmélete</td><td>S.Asor.S3</td><td>8.00</td></tr>",
                            "<tr><td>207</td><td>Varga Kata</td><td>Az öntés elmélete</td><td>219</td><td>12.30</td></tr>",
                            "<tr><td>208</td><td>Jogrerős Pál</td><td>Ürgevitel</td><td>VP 203.</td><td>8.00</td></tr>",
                            "<tr><td>209</td><td>Jogrerős Pál</td><td>Ürgevitel</td><td>VP 203.</td><td>9.30</td></tr>",
                            "<tr><td>210</td><td>Szép llonka</td><td>Ürgeöntés az EU-ban</td><td>E.2.238</td><td>15.30</td></tr>",
                            "<tr><td>211</td><td>Szép llonka</td><td>Ürgeöntés az EU-ban</td><td>217</td><td>17.00</td></tr>",
                            "<tr><td>212</td><td>Kiss János</td><td>Ürgeöntés az EU-ban</td><td>120</td><td>18.30</td></tr>",
                            "<tr><td>213</td><td>Kiss János</td><td>Ürgeöntés az EU-ban</td><td>218</td><td>20.00</td></tr>",
                            "<tr><td>214</td><td>Pelikán József</td><td>Az ürge anatómiája</td><td>219</td><td>11.00</td></tr>",
                            "<tr><td>215</td><td>Pelikán József</td><td>Az ürge anatómiája</td><td>E.fsz.IV.</td><td>12.30</td></tr>",
                            "<tr><td>216</td><td>Szép llonka</td><td>Az ürge anatómiája</td><td>218</td><td>11.00</td></tr>",
                            "<tr><td>217</td><td>Szép llonka</td><td>Az ürge anatómiája</td><td>217</td><td>12.30</td></tr>",
                            "<tr><td>218</td><td>Pelikán József</td><td>Az ürge anatómiája</td><td>118</td><td>15.30</td></tr>",
                            "<tr><td>219</td><td>Pelikán József</td><td>Az ürge anatómiája</td><td>219</td><td>17.00</td></tr>",
                            "<tr><td>220</td><td>Kovács László</td><td>Fejezetek az ürgék jogaiból</td><td>119</td><td>11.00</td></tr>",
                            "<tr><td>221</td><td>Kovács László</td><td>Fejezetek az ürgék jogaiból</td><td>VP 203.</td><td>11.00</td></tr>",
                            "<tr><td>222</td><td>Kovács László</td><td>Fejezetek az ürgék jogaiból</td><td>116</td><td>14.00</td></tr>",
                            "<tr><td>223</td><td>Kovács László</td><td>Fejezetek az ürgék jogaiból</td><td>S.Asor.S3</td><td>8.00</td></tr>",
                            "<tr><td>226</td><td>Szentágotai Istvás</td><td>ürgefőzés</td><td>117</td><td>11.00</td></tr>",
                            "<tr><td>227</td><td>Szentágotai Istvás</td><td>Az ürgeöntés hydrológiai alapjai I.</td><td>116</td><td>14.00</td></tr>",
                            "</table>"
                        ]
                    }
                }
            ],
            "execution_count": 56
        },
        {
            "cell_type": "markdown",
            "source": [
                "12. <span style=\"color: rgb(36, 41, 47); font-family: -apple-system, BlinkMacSystemFont, &quot;Segoe UI&quot;, Helvetica, Arial, sans-serif, &quot;Apple Color Emoji&quot;, &quot;Segoe UI Emoji&quot;; font-size: 16px;\">Készítsünk listát, amely tartalmazza az egyes órák azonosítóit, és az órán oktatott tantárgy felelősének nevét!</span>\n",
                "\n",
                "1. Rendezzük a listát a tantárgyfelelős neve szerint csökkenő sorrendbe!"
            ],
            "metadata": {
                "azdata_cell_guid": "a765e9d6-58b3-4171-872a-78f3118fd6e3"
            },
            "attachments": {}
        },
        {
            "cell_type": "code",
            "source": [
                "select  orak.ora_id as 'Óra azonosító',\r\n",
                "        oktatok.nev\r\n",
                "from orak\r\n",
                "\r\n",
                "join Tantárgyak on orak.targy = Tantárgyak.Tkód\r\n",
                "join oktatok on tantárgyak.Tantárgyfelelős = oktatok.oktato_id\r\n",
                "order by oktatok.nev desc"
            ],
            "metadata": {
                "azdata_cell_guid": "422e8127-b652-4d3a-bfd7-9b1637b5781e",
                "language": "sql"
            },
            "outputs": [
                {
                    "output_type": "display_data",
                    "data": {
                        "text/html": "(67 rows affected)"
                    },
                    "metadata": {}
                },
                {
                    "output_type": "display_data",
                    "data": {
                        "text/html": "Total execution time: 00:00:00.018"
                    },
                    "metadata": {}
                },
                {
                    "output_type": "execute_result",
                    "metadata": {},
                    "execution_count": 72,
                    "data": {
                        "application/vnd.dataresource+json": {
                            "schema": {
                                "fields": [
                                    {
                                        "name": "Óra azonosító"
                                    },
                                    {
                                        "name": "nev"
                                    }
                                ]
                            },
                            "data": [
                                {
                                    "Óra azonosító": "203",
                                    "nev": "Ujfalussi István"
                                },
                                {
                                    "Óra azonosító": "204",
                                    "nev": "Ujfalussi István"
                                },
                                {
                                    "Óra azonosító": "227",
                                    "nev": "Ujfalussi István"
                                },
                                {
                                    "Óra azonosító": "210",
                                    "nev": "Pelikán József"
                                },
                                {
                                    "Óra azonosító": "211",
                                    "nev": "Pelikán József"
                                },
                                {
                                    "Óra azonosító": "212",
                                    "nev": "Pelikán József"
                                },
                                {
                                    "Óra azonosító": "213",
                                    "nev": "Pelikán József"
                                },
                                {
                                    "Óra azonosító": "214",
                                    "nev": "Pelikán József"
                                },
                                {
                                    "Óra azonosító": "215",
                                    "nev": "Pelikán József"
                                },
                                {
                                    "Óra azonosító": "216",
                                    "nev": "Pelikán József"
                                },
                                {
                                    "Óra azonosító": "217",
                                    "nev": "Pelikán József"
                                },
                                {
                                    "Óra azonosító": "218",
                                    "nev": "Pelikán József"
                                },
                                {
                                    "Óra azonosító": "219",
                                    "nev": "Pelikán József"
                                },
                                {
                                    "Óra azonosító": "201",
                                    "nev": "Pelikán József"
                                },
                                {
                                    "Óra azonosító": "202",
                                    "nev": "Pelikán József"
                                },
                                {
                                    "Óra azonosító": "205",
                                    "nev": "Kovács László"
                                },
                                {
                                    "Óra azonosító": "206",
                                    "nev": "Kovács László"
                                },
                                {
                                    "Óra azonosító": "207",
                                    "nev": "Kovács László"
                                },
                                {
                                    "Óra azonosító": "226",
                                    "nev": "Kovács László"
                                },
                                {
                                    "Óra azonosító": "186",
                                    "nev": "Kovács László"
                                },
                                {
                                    "Óra azonosító": "220",
                                    "nev": "Kovács László"
                                },
                                {
                                    "Óra azonosító": "221",
                                    "nev": "Kovács László"
                                },
                                {
                                    "Óra azonosító": "222",
                                    "nev": "Kovács László"
                                },
                                {
                                    "Óra azonosító": "223",
                                    "nev": "Kovács László"
                                },
                                {
                                    "Óra azonosító": "208",
                                    "nev": "Jogrerős Pál"
                                },
                                {
                                    "Óra azonosító": "209",
                                    "nev": "Jogrerős Pál"
                                },
                                {
                                    "Óra azonosító": "191",
                                    "nev": "Balkán András"
                                },
                                {
                                    "Óra azonosító": "192",
                                    "nev": "Balkán András"
                                },
                                {
                                    "Óra azonosító": "193",
                                    "nev": "Balkán András"
                                },
                                {
                                    "Óra azonosító": "194",
                                    "nev": "Balkán András"
                                },
                                {
                                    "Óra azonosító": "195",
                                    "nev": "Balkán András"
                                },
                                {
                                    "Óra azonosító": "196",
                                    "nev": "Balkán András"
                                },
                                {
                                    "Óra azonosító": "197",
                                    "nev": "Balkán András"
                                },
                                {
                                    "Óra azonosító": "198",
                                    "nev": "Balkán András"
                                },
                                {
                                    "Óra azonosító": "199",
                                    "nev": "Balkán András"
                                },
                                {
                                    "Óra azonosító": "200",
                                    "nev": "Balkán András"
                                },
                                {
                                    "Óra azonosító": "159",
                                    "nev": "Balkán András"
                                },
                                {
                                    "Óra azonosító": "160",
                                    "nev": "Balkán András"
                                },
                                {
                                    "Óra azonosító": "161",
                                    "nev": "Balkán András"
                                },
                                {
                                    "Óra azonosító": "162",
                                    "nev": "Balkán András"
                                },
                                {
                                    "Óra azonosító": "163",
                                    "nev": "Balkán András"
                                },
                                {
                                    "Óra azonosító": "164",
                                    "nev": "Balkán András"
                                },
                                {
                                    "Óra azonosító": "165",
                                    "nev": "Balkán András"
                                },
                                {
                                    "Óra azonosító": "166",
                                    "nev": "Balkán András"
                                },
                                {
                                    "Óra azonosító": "167",
                                    "nev": "Balkán András"
                                },
                                {
                                    "Óra azonosító": "168",
                                    "nev": "Balkán András"
                                },
                                {
                                    "Óra azonosító": "169",
                                    "nev": "Balkán András"
                                },
                                {
                                    "Óra azonosító": "170",
                                    "nev": "Balkán András"
                                },
                                {
                                    "Óra azonosító": "171",
                                    "nev": "Balkán András"
                                },
                                {
                                    "Óra azonosító": "172",
                                    "nev": "Balkán András"
                                },
                                {
                                    "Óra azonosító": "173",
                                    "nev": "Balkán András"
                                },
                                {
                                    "Óra azonosító": "174",
                                    "nev": "Balkán András"
                                },
                                {
                                    "Óra azonosító": "175",
                                    "nev": "Balkán András"
                                },
                                {
                                    "Óra azonosító": "176",
                                    "nev": "Balkán András"
                                },
                                {
                                    "Óra azonosító": "177",
                                    "nev": "Balkán András"
                                },
                                {
                                    "Óra azonosító": "178",
                                    "nev": "Balkán András"
                                },
                                {
                                    "Óra azonosító": "179",
                                    "nev": "Balkán András"
                                },
                                {
                                    "Óra azonosító": "180",
                                    "nev": "Balkán András"
                                },
                                {
                                    "Óra azonosító": "181",
                                    "nev": "Balkán András"
                                },
                                {
                                    "Óra azonosító": "182",
                                    "nev": "Balkán András"
                                },
                                {
                                    "Óra azonosító": "183",
                                    "nev": "Balkán András"
                                },
                                {
                                    "Óra azonosító": "184",
                                    "nev": "Balkán András"
                                },
                                {
                                    "Óra azonosító": "185",
                                    "nev": "Balkán András"
                                },
                                {
                                    "Óra azonosító": "187",
                                    "nev": "Balkán András"
                                },
                                {
                                    "Óra azonosító": "188",
                                    "nev": "Balkán András"
                                },
                                {
                                    "Óra azonosító": "189",
                                    "nev": "Balkán András"
                                },
                                {
                                    "Óra azonosító": "190",
                                    "nev": "Balkán András"
                                }
                            ]
                        },
                        "text/html": [
                            "<table>",
                            "<tr><th>Óra azonosító</th><th>nev</th></tr>",
                            "<tr><td>203</td><td>Ujfalussi István</td></tr>",
                            "<tr><td>204</td><td>Ujfalussi István</td></tr>",
                            "<tr><td>227</td><td>Ujfalussi István</td></tr>",
                            "<tr><td>210</td><td>Pelikán József</td></tr>",
                            "<tr><td>211</td><td>Pelikán József</td></tr>",
                            "<tr><td>212</td><td>Pelikán József</td></tr>",
                            "<tr><td>213</td><td>Pelikán József</td></tr>",
                            "<tr><td>214</td><td>Pelikán József</td></tr>",
                            "<tr><td>215</td><td>Pelikán József</td></tr>",
                            "<tr><td>216</td><td>Pelikán József</td></tr>",
                            "<tr><td>217</td><td>Pelikán József</td></tr>",
                            "<tr><td>218</td><td>Pelikán József</td></tr>",
                            "<tr><td>219</td><td>Pelikán József</td></tr>",
                            "<tr><td>201</td><td>Pelikán József</td></tr>",
                            "<tr><td>202</td><td>Pelikán József</td></tr>",
                            "<tr><td>205</td><td>Kovács László</td></tr>",
                            "<tr><td>206</td><td>Kovács László</td></tr>",
                            "<tr><td>207</td><td>Kovács László</td></tr>",
                            "<tr><td>226</td><td>Kovács László</td></tr>",
                            "<tr><td>186</td><td>Kovács László</td></tr>",
                            "<tr><td>220</td><td>Kovács László</td></tr>",
                            "<tr><td>221</td><td>Kovács László</td></tr>",
                            "<tr><td>222</td><td>Kovács László</td></tr>",
                            "<tr><td>223</td><td>Kovács László</td></tr>",
                            "<tr><td>208</td><td>Jogrerős Pál</td></tr>",
                            "<tr><td>209</td><td>Jogrerős Pál</td></tr>",
                            "<tr><td>191</td><td>Balkán András</td></tr>",
                            "<tr><td>192</td><td>Balkán András</td></tr>",
                            "<tr><td>193</td><td>Balkán András</td></tr>",
                            "<tr><td>194</td><td>Balkán András</td></tr>",
                            "<tr><td>195</td><td>Balkán András</td></tr>",
                            "<tr><td>196</td><td>Balkán András</td></tr>",
                            "<tr><td>197</td><td>Balkán András</td></tr>",
                            "<tr><td>198</td><td>Balkán András</td></tr>",
                            "<tr><td>199</td><td>Balkán András</td></tr>",
                            "<tr><td>200</td><td>Balkán András</td></tr>",
                            "<tr><td>159</td><td>Balkán András</td></tr>",
                            "<tr><td>160</td><td>Balkán András</td></tr>",
                            "<tr><td>161</td><td>Balkán András</td></tr>",
                            "<tr><td>162</td><td>Balkán András</td></tr>",
                            "<tr><td>163</td><td>Balkán András</td></tr>",
                            "<tr><td>164</td><td>Balkán András</td></tr>",
                            "<tr><td>165</td><td>Balkán András</td></tr>",
                            "<tr><td>166</td><td>Balkán András</td></tr>",
                            "<tr><td>167</td><td>Balkán András</td></tr>",
                            "<tr><td>168</td><td>Balkán András</td></tr>",
                            "<tr><td>169</td><td>Balkán András</td></tr>",
                            "<tr><td>170</td><td>Balkán András</td></tr>",
                            "<tr><td>171</td><td>Balkán András</td></tr>",
                            "<tr><td>172</td><td>Balkán András</td></tr>",
                            "<tr><td>173</td><td>Balkán András</td></tr>",
                            "<tr><td>174</td><td>Balkán András</td></tr>",
                            "<tr><td>175</td><td>Balkán András</td></tr>",
                            "<tr><td>176</td><td>Balkán András</td></tr>",
                            "<tr><td>177</td><td>Balkán András</td></tr>",
                            "<tr><td>178</td><td>Balkán András</td></tr>",
                            "<tr><td>179</td><td>Balkán András</td></tr>",
                            "<tr><td>180</td><td>Balkán András</td></tr>",
                            "<tr><td>181</td><td>Balkán András</td></tr>",
                            "<tr><td>182</td><td>Balkán András</td></tr>",
                            "<tr><td>183</td><td>Balkán András</td></tr>",
                            "<tr><td>184</td><td>Balkán András</td></tr>",
                            "<tr><td>185</td><td>Balkán András</td></tr>",
                            "<tr><td>187</td><td>Balkán András</td></tr>",
                            "<tr><td>188</td><td>Balkán András</td></tr>",
                            "<tr><td>189</td><td>Balkán András</td></tr>",
                            "<tr><td>190</td><td>Balkán András</td></tr>",
                            "</table>"
                        ]
                    }
                }
            ],
            "execution_count": 72
        },
        {
            "cell_type": "markdown",
            "source": [
                "13. <span style=\"color: rgb(36, 41, 47); font-family: -apple-system, BlinkMacSystemFont, &quot;Segoe UI&quot;, Helvetica, Arial, sans-serif, &quot;Apple Color Emoji&quot;, &quot;Segoe UI Emoji&quot;; font-size: 16px;\">Készítsünk listát, amely megjeleníti, hogy az Orak táblában lévő órák közül hányat tart Dr., illetve nem Dr. titulusú tanár!</span>\n",
                "\n",
                "1. Az oszlopokat nevezzük el értelemszerűen!"
            ],
            "metadata": {
                "azdata_cell_guid": "3f9237ae-f109-401c-acb9-31d75e73331b"
            },
            "attachments": {}
        },
        {
            "cell_type": "code",
            "source": [
                "select  count(*) as 'Darab',\r\n",
                "        case    when Oktatok.titulus = 'Dr.' THEN 'Dr.'\r\n",
                "                else 'Nem Dr.'\r\n",
                "        END as 'Titulus'\r\n",
                "from orak\r\n",
                "\r\n",
                "join oktatok on orak.tanar = oktatok.oktato_id\r\n",
                "group by    case    when Oktatok.titulus = 'Dr.' THEN 'Dr.'\r\n",
                "                    else 'Nem Dr.'\r\n",
                "            END"
            ],
            "metadata": {
                "azdata_cell_guid": "4b31bb89-cfbc-46b1-8639-85c462877786",
                "language": "sql"
            },
            "outputs": [
                {
                    "output_type": "display_data",
                    "data": {
                        "text/html": "(2 rows affected)"
                    },
                    "metadata": {}
                },
                {
                    "output_type": "display_data",
                    "data": {
                        "text/html": "Total execution time: 00:00:00.014"
                    },
                    "metadata": {}
                },
                {
                    "output_type": "execute_result",
                    "metadata": {},
                    "execution_count": 90,
                    "data": {
                        "application/vnd.dataresource+json": {
                            "schema": {
                                "fields": [
                                    {
                                        "name": "Darab"
                                    },
                                    {
                                        "name": "Titulus"
                                    }
                                ]
                            },
                            "data": [
                                {
                                    "Darab": "25",
                                    "Titulus": "Dr."
                                },
                                {
                                    "Darab": "42",
                                    "Titulus": "Nem Dr."
                                }
                            ]
                        },
                        "text/html": [
                            "<table>",
                            "<tr><th>Darab</th><th>Titulus</th></tr>",
                            "<tr><td>25</td><td>Dr.</td></tr>",
                            "<tr><td>42</td><td>Nem Dr.</td></tr>",
                            "</table>"
                        ]
                    }
                }
            ],
            "execution_count": 90
        },
        {
            "cell_type": "markdown",
            "source": [
                "14. <span style=\"color: rgb(36, 41, 47); font-family: -apple-system, BlinkMacSystemFont, &quot;Segoe UI&quot;, Helvetica, Arial, sans-serif, &quot;Apple Color Emoji&quot;, &quot;Segoe UI Emoji&quot;; font-size: 16px;\">Készítsünk listát arról, hogy beosztásonként hány óra szerepel az Orak táblában!</span>\n",
                "\n",
                "1. Jelenítsük meg a beosztások nevét és az órák számát!\n",
                "2. A listát szűrjük azokra a beosztásokra, ahol ez az óraszám 10 feletti!"
            ],
            "metadata": {
                "azdata_cell_guid": "f634e09a-85ef-4e70-8ec6-ef355dfddaa7"
            },
            "attachments": {}
        },
        {
            "cell_type": "code",
            "source": [
                "select  count(*) as 'Órák száma',\r\n",
                "        beosztasnev as 'Beosztás név'\r\n",
                "from orak\r\n",
                "\r\n",
                "join Oktatok on orak.tanar = oktatok.oktato_id\r\n",
                "join beosztasok on oktatok.beosztás = beosztasok.beosztas_id\r\n",
                "\r\n",
                "group by beosztasnev\r\n",
                "having count(*)>10"
            ],
            "metadata": {
                "azdata_cell_guid": "88abc55b-2c78-495b-a72f-3f8f4eb5fe70",
                "language": "sql",
                "tags": []
            },
            "outputs": [
                {
                    "output_type": "display_data",
                    "data": {
                        "text/html": "(3 rows affected)"
                    },
                    "metadata": {}
                },
                {
                    "output_type": "display_data",
                    "data": {
                        "text/html": "Total execution time: 00:00:00.010"
                    },
                    "metadata": {}
                },
                {
                    "output_type": "execute_result",
                    "metadata": {},
                    "execution_count": 103,
                    "data": {
                        "application/vnd.dataresource+json": {
                            "schema": {
                                "fields": [
                                    {
                                        "name": "Órák száma"
                                    },
                                    {
                                        "name": "Beosztás név"
                                    }
                                ]
                            },
                            "data": [
                                {
                                    "Órák száma": "14",
                                    "Beosztás név": "Adjunktus"
                                },
                                {
                                    "Órák száma": "11",
                                    "Beosztás név": "Egyetemi tanár"
                                },
                                {
                                    "Órák száma": "22",
                                    "Beosztás név": "Tanársegéd"
                                }
                            ]
                        },
                        "text/html": [
                            "<table>",
                            "<tr><th>Órák száma</th><th>Beosztás név</th></tr>",
                            "<tr><td>14</td><td>Adjunktus</td></tr>",
                            "<tr><td>11</td><td>Egyetemi tanár</td></tr>",
                            "<tr><td>22</td><td>Tanársegéd</td></tr>",
                            "</table>"
                        ]
                    }
                }
            ],
            "execution_count": 103
        },
        {
            "cell_type": "markdown",
            "source": [
                "15. <span style=\"color: rgb(36, 41, 47); font-family: -apple-system, BlinkMacSystemFont, &quot;Segoe UI&quot;, Helvetica, Arial, sans-serif, &quot;Apple Color Emoji&quot;, &quot;Segoe UI Emoji&quot;; font-size: 16px;\">Melyek azok az órák, amelyek kezdési időpontja olyan sávba esik, amely a mostani időpont (óra:perc) után van?</span>\n",
                "\n",
                "1. Listázzuk az órák azonosítóit, valamint az órakezdés napját és időpontját!\n",
                "2. A listát rendezzük az időpont szerint növekvő sorrendbe!"
            ],
            "metadata": {
                "azdata_cell_guid": "4cbf2f0d-a65d-480a-8186-ccdb24498443"
            },
            "attachments": {}
        },
        {
            "cell_type": "code",
            "source": [
                "select  orak.ora_id,\r\n",
                "        --left(időpont,CHARINDEX('.',Időpont)-1) as 'Óra',\r\n",
                "        --right(időpont,2) as 'Perc',\r\n",
                "        TIMEFROMPARTS(left(időpont,CHARINDEX('.',Időpont)-1),right(időpont,2),0,0,0) as 'Kezdési idő',\r\n",
                "        TIMEFROMPARTS(datepart(hour,getdate()),datepart(minute,getdate()),0,0,0) as 'Jelenlegi idő',\r\n",
                "        getdate()\r\n",
                "from savok\r\n",
                "join Orak on savok.Sav_id = orak.Sav\r\n",
                "\r\n",
                "WHERE   TIMEFROMPARTS(left(időpont,CHARINDEX('.',Időpont)-1),right(időpont,2),0,0,0)\r\n",
                "        >\r\n",
                "        TIMEFROMPARTS(datepart(hour,getdate()),datepart(minute,getdate()),0,0,0)"
            ],
            "metadata": {
                "azdata_cell_guid": "c148aee8-bc85-40bf-b80a-a4898a6c05cb",
                "language": "sql"
            },
            "outputs": [
{
    "output_type": "display_data",
    "data": {
        "text/html": "(0 rows affected)"
    },
    "metadata": {}
}, {
    "output_type": "display_data",
    "data": {
        "text/html": "Total execution time: 00:00:00.021"
    },
    "metadata": {}
}, {
    "output_type": "execute_result",
    "metadata": {},
    "execution_count": 148,
    "data": {
        "application/vnd.dataresource+json": {
            "schema": {
                "fields": [
                    {
                        "name": "ora_id"
                    },
                    {
                        "name": "Kezdési idő"
                    },
                    {
                        "name": "Jelenlegi idő"
                    },
                    {
                        "name": "(No column name)"
                    }
                ]
            },
            "data": []
        },
        "text/html": [
            "<table>",
            "<tr><th>ora_id</th><th>Kezdési idő</th><th>Jelenlegi idő</th><th>(No column name)</th></tr>",
            "</table>"
        ]
    }
}
],
            "execution_count": 148
        }
    ]
}
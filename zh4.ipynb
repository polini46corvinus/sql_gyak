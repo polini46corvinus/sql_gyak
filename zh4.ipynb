{
    "metadata": {
        "kernelspec": {
            "name": "SQL",
            "display_name": "SQL",
            "language": "sql"
        },
        "language_info": {
            "name": "sql",
            "version": ""
        }
    },
    "nbformat_minor": 2,
    "nbformat": 4,
    "cells": [
        {
            "cell_type": "markdown",
            "source": [
                "Listázzuk azon vendégek nevét, email-címét és felhasználói nevét, akik egynél többször foglaltak!\n",
                "\n",
                "- Hagyjuk ki azokat a vendégeket, akik május hónapban születtek!"
            ],
            "metadata": {
                "azdata_cell_guid": "0d99bd9a-0e89-490b-a610-2a4b767e60a7"
            },
            "attachments": {}
        },
        {
            "cell_type": "code",
            "source": [
                "select  v.NEV as 'Név',\r\n",
                "        v.EMAIL as 'Email',\r\n",
                "        v.USERNEV as 'Felhasználónév'\r\n",
                "from Vendeg v\r\n",
                "join Foglalas f on v.USERNEV = f.UGYFEL_FK\r\n",
                "where MONTH(v.SZUL_DAT) != 5\r\n",
                "group by v.NEV, v.EMAIL, v.USERNEV\r\n",
                "having COUNT(f.FOGLALAS_PK) > 1;"
            ],
            "metadata": {
                "azdata_cell_guid": "f5ca08e8-b1be-4812-9975-1ab69707b5c4",
                "language": "sql"
            },
            "outputs": [
                {
                    "output_type": "display_data",
                    "data": {
                        "text/html": "(169 rows affected)"
                    },
                    "metadata": {}
                },
                {
                    "output_type": "display_data",
                    "data": {
                        "text/html": "Total execution time: 00:00:00.011"
                    },
                    "metadata": {}
                },
                {
                    "output_type": "execute_result",
                    "metadata": {},
                    "execution_count": 5,
                    "data": {
                        "application/vnd.dataresource+json": {
                            "schema": {
                                "fields": [
                                    {
                                        "name": "Név"
                                    },
                                    {
                                        "name": "Email"
                                    },
                                    {
                                        "name": "Felhasználónév"
                                    }
                                ]
                            },
                            "data": [
                                {
                                    "Név": "Kiss Ádám",
                                    "Email": "ádám.kiss@mail.hu",
                                    "Felhasználónév": "adam1"
                                },
                                {
                                    "Név": "Barkóci Ádám",
                                    "Email": "adam3@gmail.com",
                                    "Felhasználónév": "adam3"
                                },
                                {
                                    "Név": "Bieniek Ádám",
                                    "Email": "ádám.bieniek@mail.hu",
                                    "Felhasználónév": "adam4"
                                },
                                {
                                    "Név": "Lengyel Ágnes",
                                    "Email": "agnes@gmail.com",
                                    "Felhasználónév": "agnes"
                                },
                                {
                                    "Név": "Hartyánszky Ágnes",
                                    "Email": "agnes3@gmail.com",
                                    "Felhasználónév": "agnes3"
                                },
                                {
                                    "Név": "Horváth Ágnes",
                                    "Email": "AGNESH@gmail.com",
                                    "Felhasználónév": "AGNESH"
                                },
                                {
                                    "Név": "Kovács Ágnes",
                                    "Email": "AGNESK@gmail.com",
                                    "Felhasználónév": "AGNESK"
                                },
                                {
                                    "Név": "Bíró Ákos",
                                    "Email": "ákos.bíró@mail.hu",
                                    "Felhasználónév": "akos"
                                },
                                {
                                    "Név": "Dunai Aladár",
                                    "Email": "aladár.dunai@mail.hu",
                                    "Felhasználónév": "aladar"
                                },
                                {
                                    "Név": "Bagóczki Alexandra",
                                    "Email": "alexandra.bagóczki@mail.hu",
                                    "Felhasználónév": "alexandra"
                                },
                                {
                                    "Név": "Tóth András",
                                    "Email": "andrás.tóth@mail.hu",
                                    "Felhasználónév": "andras2"
                                },
                                {
                                    "Név": "Molnár András",
                                    "Email": "andrás.molnár@mail.hu",
                                    "Felhasználónév": "andras21"
                                },
                                {
                                    "Név": "Vígh András",
                                    "Email": "andrás.vígh@mail.hu",
                                    "Felhasználónév": "andras3"
                                },
                                {
                                    "Név": "Back András",
                                    "Email": "andras4@gmail.com",
                                    "Felhasználónév": "andras4"
                                },
                                {
                                    "Név": "Komjáti András",
                                    "Email": "andras41@gmail.com",
                                    "Felhasználónév": "andras41"
                                },
                                {
                                    "Név": "Kiss Andrea",
                                    "Email": "andrea.kiss@mail.hu",
                                    "Felhasználónév": "andrea"
                                },
                                {
                                    "Név": "Tornyos Andrea",
                                    "Email": "ANDREAT@gmail.com",
                                    "Felhasználónév": "ANDREAT"
                                },
                                {
                                    "Név": "Pivarcsi Anett",
                                    "Email": "anett.pivarcsi@mail.hu",
                                    "Felhasználónév": "anett3"
                                },
                                {
                                    "Név": "Tóth Anikó",
                                    "Email": "aniko@gmail.com",
                                    "Felhasználónév": "aniko"
                                },
                                {
                                    "Név": "Böröcz Anikó",
                                    "Email": "aniko4@gmail.com",
                                    "Felhasználónév": "aniko4"
                                },
                                {
                                    "Név": "Simon Anikó",
                                    "Email": "ANIKOS@gmail.com",
                                    "Felhasználónév": "ANIKOS"
                                },
                                {
                                    "Név": "Hamvay-Kovács Anita",
                                    "Email": "anita.hamvay-kovács@mail.hu",
                                    "Felhasználónév": "anita"
                                },
                                {
                                    "Név": "Szűcs Annamária",
                                    "Email": "annamária.szűcs@mail.hu",
                                    "Felhasználónév": "annamaria1"
                                },
                                {
                                    "Név": "Regős Annamária",
                                    "Email": "ANNAMARIAR@gmail.com",
                                    "Felhasználónév": "ANNAMARIAR"
                                },
                                {
                                    "Név": "Jakab Áron",
                                    "Email": "aron2@gmail.com",
                                    "Felhasználónév": "aron2"
                                },
                                {
                                    "Név": "Kelemen Áron",
                                    "Email": "áron.kelemen@mail.hu",
                                    "Felhasználónév": "ARONK"
                                },
                                {
                                    "Név": "Ötvös Árpád",
                                    "Email": "árpád.ötvös@mail.hu",
                                    "Felhasználónév": "arpad2"
                                },
                                {
                                    "Név": "Móricz Árpád",
                                    "Email": "árpád.móricz@mail.hu",
                                    "Felhasználónév": "ARPADM"
                                },
                                {
                                    "Név": "Csóti Attila",
                                    "Email": "attila@gmail.com",
                                    "Felhasználónév": "attila"
                                },
                                {
                                    "Név": "Gulyás Attila",
                                    "Email": "attila.gulyás@mail.hu",
                                    "Felhasználónév": "attila1"
                                },
                                {
                                    "Név": "Baróti Attila",
                                    "Email": "attila.baróti@mail.hu",
                                    "Felhasználónév": "attila4"
                                },
                                {
                                    "Név": "Bozsik Balázs",
                                    "Email": "balázs.bozsik@mail.hu",
                                    "Felhasználónév": "balazs1"
                                },
                                {
                                    "Név": "Szűcs Balázs",
                                    "Email": "balázs.szűcs@mail.hu",
                                    "Felhasználónév": "balazs2"
                                },
                                {
                                    "Név": "Bakódy Balázs",
                                    "Email": "balazs3@gmail.com",
                                    "Felhasználónév": "balazs3"
                                },
                                {
                                    "Név": "Horváth Bálint",
                                    "Email": "balint@gmail.com",
                                    "Felhasználónév": "balint"
                                },
                                {
                                    "Név": "Molnár Bálint",
                                    "Email": "balint1@gmail.com",
                                    "Felhasználónév": "balint1"
                                },
                                {
                                    "Név": "Vukasinovity Bálint",
                                    "Email": "balint2@gmail.com",
                                    "Felhasználónév": "balint2"
                                },
                                {
                                    "Név": "Endresz Bálint",
                                    "Email": "bálint.endresz@mail.hu",
                                    "Felhasználónév": "balu"
                                },
                                {
                                    "Név": "Bagi Beáta",
                                    "Email": "beáta.bagi@mail.hu",
                                    "Felhasználónév": "beata4"
                                },
                                {
                                    "Név": "Kerényi Beatrix",
                                    "Email": "beatrix.kerényi@mail.hu",
                                    "Felhasználónév": "BEATRIXK"
                                },
                                {
                                    "Név": "Szekendi Beatrix",
                                    "Email": "beatrix.szekendi@mail.hu",
                                    "Felhasználónév": "BEATRIXS"
                                },
                                {
                                    "Név": "Farkas Béla",
                                    "Email": "BELAF@gmail.com",
                                    "Felhasználónév": "BELAF"
                                },
                                {
                                    "Név": "Győrffy Bence",
                                    "Email": "bence@gmail.com",
                                    "Felhasználónév": "bence"
                                },
                                {
                                    "Név": "Bajusz Bence",
                                    "Email": "bence.bajusz@mail.hu",
                                    "Felhasználónév": "BENCEB"
                                },
                                {
                                    "Név": "Simon Bernadett",
                                    "Email": "bernadett1@gmail.com",
                                    "Felhasználónév": "bernadett1"
                                },
                                {
                                    "Név": "Kovács Bernadett",
                                    "Email": "bernadett.kovács@mail.hu",
                                    "Felhasználónév": "bernadett2"
                                },
                                {
                                    "Név": "Orbán Bernadett",
                                    "Email": "bernadett.orbán@mail.hu",
                                    "Felhasználónév": "BERNADETTO"
                                },
                                {
                                    "Név": "Csiger Bertalan",
                                    "Email": "bertalan@gmail.com",
                                    "Felhasználónév": "bertalan"
                                },
                                {
                                    "Név": "Székely Brigitta",
                                    "Email": "brigitta.székely@mail.hu",
                                    "Felhasználónév": "brigitta"
                                },
                                {
                                    "Név": "Nagymihály Csongor",
                                    "Email": "csongor.nagymihály@mail.hu",
                                    "Felhasználónév": "csongor3"
                                },
                                {
                                    "Név": "Vörös Dániel",
                                    "Email": "daniel@gmail.com",
                                    "Felhasználónév": "dani"
                                },
                                {
                                    "Név": "Rácz Dániel",
                                    "Email": "dániel.rácz@mail.hu",
                                    "Felhasználónév": "daniel"
                                },
                                {
                                    "Név": "Keszler Dániel",
                                    "Email": "dániel.keszler@mail.hu",
                                    "Felhasználónév": "daniel1"
                                },
                                {
                                    "Név": "Ambrus Dávid",
                                    "Email": "david@gmail.com",
                                    "Felhasználónév": "david"
                                },
                                {
                                    "Név": "Sobják Dávid",
                                    "Email": "david1@gmail.com",
                                    "Felhasználónév": "david1"
                                },
                                {
                                    "Név": "Barna Debóra",
                                    "Email": "debóra.barna@mail.hu",
                                    "Felhasználónév": "debora"
                                },
                                {
                                    "Név": "Tömböly Dénes",
                                    "Email": "denes@gmail.com",
                                    "Felhasználónév": "denes"
                                },
                                {
                                    "Név": "Bittmann Edit",
                                    "Email": "edit.bittmann@mail.hu",
                                    "Felhasználónév": "edit"
                                },
                                {
                                    "Név": "Kuruc Emese",
                                    "Email": "emese.kuruc@mail.hu",
                                    "Felhasználónév": "emese"
                                },
                                {
                                    "Név": "Balogh Eszter",
                                    "Email": "eszter.balogh@mail.hu",
                                    "Felhasználónév": "eszter2"
                                },
                                {
                                    "Név": "Fülöp Eszter",
                                    "Email": "eszter.fülöp@mail.hu",
                                    "Felhasználónév": "eszter4"
                                },
                                {
                                    "Név": "Érsek Eszter",
                                    "Email": "eszter.érsek@mail.hu",
                                    "Felhasználónév": "ESZTERE"
                                },
                                {
                                    "Név": "Enyedi Éva",
                                    "Email": "eva@gmail.com",
                                    "Felhasználónév": "eva"
                                },
                                {
                                    "Név": "Perlinger Éva",
                                    "Email": "eva2@gmail.com",
                                    "Felhasználónév": "eva2"
                                },
                                {
                                    "Név": "Viktor Éva",
                                    "Email": "EVAV@gmail.com",
                                    "Felhasználónév": "EVAV"
                                },
                                {
                                    "Név": "Orosz Ferenc",
                                    "Email": "ferenc.orosz@mail.hu",
                                    "Felhasználónév": "ferenc1"
                                },
                                {
                                    "Név": "Frank Fruzsina",
                                    "Email": "fruzsina4@gmail.com",
                                    "Felhasználónév": "fruzsina4"
                                },
                                {
                                    "Név": "Köves Gábor",
                                    "Email": "gabor1@gmail.com",
                                    "Felhasználónév": "gabor1"
                                },
                                {
                                    "Név": "Telek Gábor",
                                    "Email": "gábor.telek@mail.hu",
                                    "Felhasználónév": "gabor4"
                                },
                                {
                                    "Név": "Nagy Gabriella",
                                    "Email": "gabriella1@gmail.com",
                                    "Felhasználónév": "gabriella1"
                                },
                                {
                                    "Név": "Nyíri Georgij",
                                    "Email": "georgij.nyíri@mail.hu",
                                    "Felhasználónév": "georgij"
                                },
                                {
                                    "Név": "Bárci Gusztáv",
                                    "Email": "gusztav@gmail.com",
                                    "Felhasználónév": "gusztav"
                                },
                                {
                                    "Név": "Kornseé Gyöngyi",
                                    "Email": "gyöngyi.kornseé@mail.hu",
                                    "Felhasználónév": "GYONGYIK"
                                },
                                {
                                    "Név": "Oroszi György",
                                    "Email": "GYORGYO@gmail.com",
                                    "Felhasználónév": "GYORGYO"
                                },
                                {
                                    "Név": "Nádudvari Henrik",
                                    "Email": "henrik.nádudvari@mail.hu",
                                    "Felhasználónév": "henrik3"
                                },
                                {
                                    "Név": "Andor Ibolya",
                                    "Email": "ibolya.andor@mail.hu",
                                    "Felhasználónév": "IBOLYAA"
                                },
                                {
                                    "Név": "Bosnyák Ilona",
                                    "Email": "ilona3@gmail.com",
                                    "Felhasználónév": "ilona3"
                                },
                                {
                                    "Név": "Búza Imre",
                                    "Email": "imre.búza@mail.hu",
                                    "Felhasználónév": "imre"
                                },
                                {
                                    "Név": "Papp Imre",
                                    "Email": "imre.papp@mail.hu",
                                    "Felhasználónév": "imre1"
                                },
                                {
                                    "Név": "Soós István",
                                    "Email": "istvan@gmail.com",
                                    "Felhasználónév": "istvan"
                                },
                                {
                                    "Név": "Vizi István",
                                    "Email": "istván.vizi@mail.hu",
                                    "Felhasználónév": "istvan1"
                                },
                                {
                                    "Név": "Varga István",
                                    "Email": "ISTVANV@gmail.com",
                                    "Felhasználónév": "ISTVANV"
                                },
                                {
                                    "Név": "Harangozó János",
                                    "Email": "janos3@gmail.com",
                                    "Felhasználónév": "janos3"
                                },
                                {
                                    "Név": "Giliga János",
                                    "Email": "JANOSG@gmail.com",
                                    "Felhasználónév": "JANOSG"
                                },
                                {
                                    "Név": "Pálinkás János",
                                    "Email": "JANOSP@gmail.com",
                                    "Felhasználónév": "JANOSP"
                                },
                                {
                                    "Név": "Gergely József",
                                    "Email": "jozsef@gmail.com",
                                    "Felhasználónév": "jozsef"
                                },
                                {
                                    "Név": "Vajda József",
                                    "Email": "józsef.vajda@mail.hu",
                                    "Felhasználónév": "jozsef2"
                                },
                                {
                                    "Név": "Hídasi Judit",
                                    "Email": "JUDITH@gmail.com",
                                    "Felhasználónév": "JUDITH"
                                },
                                {
                                    "Név": "Tóth Júlia",
                                    "Email": "julia@gmail.com",
                                    "Felhasználónév": "julia"
                                },
                                {
                                    "Név": "Nagy Júlia",
                                    "Email": "julia4@gmail.com",
                                    "Felhasználónév": "julia4"
                                },
                                {
                                    "Név": "Szabó Julianna",
                                    "Email": "julianna4@gmail.com",
                                    "Felhasználónév": "julianna4"
                                },
                                {
                                    "Név": "Gondos Katalin",
                                    "Email": "katalin.gondos@mail.hu",
                                    "Felhasználónév": "kata"
                                },
                                {
                                    "Név": "Horváth Katalin",
                                    "Email": "katalin.horváth@mail.hu",
                                    "Felhasználónév": "katalin"
                                },
                                {
                                    "Név": "Kertész Katalin",
                                    "Email": "katalin4@gmail.com",
                                    "Felhasználónév": "katalin4"
                                },
                                {
                                    "Név": "Kovács Katalin",
                                    "Email": "katalin.kovács@mail.hu",
                                    "Felhasználónév": "katka"
                                },
                                {
                                    "Név": "Bakó Klaudia",
                                    "Email": "klaudia.bakó@mail.hu",
                                    "Felhasználónév": "klaudia2"
                                },
                                {
                                    "Név": "Lukács Kornél",
                                    "Email": "kornél.lukács@mail.hu",
                                    "Felhasználónév": "kornel4"
                                },
                                {
                                    "Név": "Poprádi Kristóf",
                                    "Email": "kristof4@gmail.com",
                                    "Felhasználónév": "kristof4"
                                },
                                {
                                    "Név": "Horváth Krisztina",
                                    "Email": "kriszti@gmail.com",
                                    "Felhasználónév": "kriszti"
                                },
                                {
                                    "Név": "Czérna Krisztián",
                                    "Email": "krisztián.czérna@mail.hu",
                                    "Felhasználónév": "krisztian4"
                                },
                                {
                                    "Név": "Bori Krisztina",
                                    "Email": "krisztina.bori@mail.hu",
                                    "Felhasználónév": "krisztina1"
                                },
                                {
                                    "Név": "Gyárfás Krisztina",
                                    "Email": "KRISZTINAG@gmail.com",
                                    "Felhasználónév": "KRISZTINAG"
                                },
                                {
                                    "Név": "Kiss Lajos",
                                    "Email": "lajos.kiss@mail.hu",
                                    "Felhasználónév": "lajos"
                                },
                                {
                                    "Név": "Nagymihály Lajos",
                                    "Email": "lajos.nagymihály@mail.hu",
                                    "Felhasználónév": "lala"
                                },
                                {
                                    "Név": "Móra László",
                                    "Email": "lászló.móra@mail.hu",
                                    "Felhasználónév": "laszlo2"
                                },
                                {
                                    "Név": "Antal László",
                                    "Email": "lászló.antal@mail.hu",
                                    "Felhasználónév": "LASZLOA"
                                },
                                {
                                    "Név": "Nagy László",
                                    "Email": "lászló.nagy@mail.hu",
                                    "Felhasználónév": "LASZLON"
                                },
                                {
                                    "Név": "Baráth Mária",
                                    "Email": "mária.baráth@mail.hu",
                                    "Felhasználónév": "maria1"
                                },
                                {
                                    "Név": "Kispál Márk",
                                    "Email": "márk.kispál@mail.hu",
                                    "Felhasználónév": "mark"
                                },
                                {
                                    "Név": "Horváth Márk",
                                    "Email": "márk.horváth@mail.hu",
                                    "Felhasználónév": "MARKH"
                                },
                                {
                                    "Név": "Kalacsi Márton",
                                    "Email": "marton@gmail.com",
                                    "Felhasználónév": "marton"
                                },
                                {
                                    "Név": "Koza Máté",
                                    "Email": "máté.koza@mail.hu",
                                    "Felhasználónév": "MATEK"
                                },
                                {
                                    "Név": "Botka Mátyás",
                                    "Email": "matyas2@gmail.com",
                                    "Felhasználónév": "matyas2"
                                },
                                {
                                    "Név": "Szilágyi Mátyás",
                                    "Email": "mátyás.szilágyi@mail.hu",
                                    "Felhasználónév": "MATYASS"
                                },
                                {
                                    "Név": "Juhász Mihály",
                                    "Email": "mihály.juhász@mail.hu",
                                    "Felhasználónév": "MIHALYJ"
                                },
                                {
                                    "Név": "Gondos Miklós",
                                    "Email": "miklos2@gmail.com",
                                    "Felhasználónév": "miklos2"
                                },
                                {
                                    "Név": "Balla Miklós",
                                    "Email": "miklós.balla@mail.hu",
                                    "Felhasználónév": "MIKLOSB"
                                },
                                {
                                    "Név": "Mohos Mónika",
                                    "Email": "mónika.mohos@mail.hu",
                                    "Felhasználónév": "MONIKAM"
                                },
                                {
                                    "Név": "Fő Nándor",
                                    "Email": "nándor.fő@mail.hu",
                                    "Felhasználónév": "NANDORF"
                                },
                                {
                                    "Név": "Horváth Nikolett",
                                    "Email": "nikolett3@gmail.com",
                                    "Felhasználónév": "nikolett3"
                                },
                                {
                                    "Név": "Kő Nikoletta",
                                    "Email": "nikoletta4@gmail.com",
                                    "Felhasználónév": "nikoletta4"
                                },
                                {
                                    "Név": "Tatár Nikoletta",
                                    "Email": "nikoletta.tatár@mail.hu",
                                    "Felhasználónév": "NIKOLETTAT"
                                },
                                {
                                    "Név": "Szűcs Norbert",
                                    "Email": "norbert@gmail.com",
                                    "Felhasználónév": "norbert"
                                },
                                {
                                    "Név": "Hegedűs Norbert",
                                    "Email": "norbert.hegedűs@mail.hu",
                                    "Felhasználónév": "norbert2"
                                },
                                {
                                    "Név": "Mile Norbert",
                                    "Email": "norbert4@gmail.com",
                                    "Felhasználónév": "norbert4"
                                },
                                {
                                    "Név": "Béres Norbert",
                                    "Email": "norbert5@gmail.com",
                                    "Felhasználónév": "norbert5"
                                },
                                {
                                    "Név": "Barabás Pál",
                                    "Email": "pál.barabás@mail.hu",
                                    "Felhasználónév": "pal"
                                },
                                {
                                    "Név": "Kozma Péter",
                                    "Email": "peter1@gmail.com",
                                    "Felhasználónév": "peter1"
                                },
                                {
                                    "Név": "Bozsó Péter",
                                    "Email": "peter2@gmail.com",
                                    "Felhasználónév": "peter2"
                                },
                                {
                                    "Név": "Szalai Péter",
                                    "Email": "peter3@gmail.com",
                                    "Felhasználónév": "peter3"
                                },
                                {
                                    "Név": "Bíró Péter",
                                    "Email": "péter.bíró@mail.hu",
                                    "Felhasználónév": "peter4"
                                },
                                {
                                    "Név": "Berendi Péter",
                                    "Email": "péter.berendi@mail.hu",
                                    "Felhasználónév": "PETERB"
                                },
                                {
                                    "Név": "Palágyi Polla",
                                    "Email": "polla@gmail.com",
                                    "Felhasználónév": "polla"
                                },
                                {
                                    "Név": "Rácz Rajmond",
                                    "Email": "rajmond.rácz@mail.hu",
                                    "Felhasználónév": "rajmond4"
                                },
                                {
                                    "Név": "Szikszai Réka",
                                    "Email": "réka.szikszai@mail.hu",
                                    "Felhasználónév": "reka4"
                                },
                                {
                                    "Név": "Szirmai Renáta",
                                    "Email": "RENATAS@gmail.com",
                                    "Felhasználónév": "RENATAS"
                                },
                                {
                                    "Név": "Patay Róbert",
                                    "Email": "robert2@gmail.com",
                                    "Felhasználónév": "robert2"
                                },
                                {
                                    "Név": "Iván Róbert",
                                    "Email": "róbert.iván@mail.hu",
                                    "Felhasználónév": "ROBERTI"
                                },
                                {
                                    "Név": "Tóth Roland",
                                    "Email": "roland@gmail.com",
                                    "Felhasználónév": "roland"
                                },
                                {
                                    "Név": "Ferencz Roland",
                                    "Email": "roland.ferencz@mail.hu",
                                    "Felhasználónév": "roland1"
                                },
                                {
                                    "Név": "Bucskó Róza",
                                    "Email": "roza2@gmail.com",
                                    "Felhasználónév": "roza2"
                                },
                                {
                                    "Név": "Karasz Sándor",
                                    "Email": "sandor@gmail.com",
                                    "Felhasználónév": "sandor"
                                },
                                {
                                    "Név": "Farkas Sándor",
                                    "Email": "sándor.farkas@mail.hu",
                                    "Felhasználónév": "sandor3"
                                },
                                {
                                    "Név": "Nagy Sándor",
                                    "Email": "sandor4@gmail.com",
                                    "Felhasználónév": "sandor4"
                                },
                                {
                                    "Név": "Farkas Sára",
                                    "Email": "sára.farkas@mail.hu",
                                    "Felhasználónév": "sara"
                                },
                                {
                                    "Név": "Foltényi Sebastián",
                                    "Email": "SEBASTIANF@gmail.com",
                                    "Felhasználónév": "SEBASTIANF"
                                },
                                {
                                    "Név": "Rab Sebestyén",
                                    "Email": "sebestyen@gmail.com",
                                    "Felhasználónév": "sebestyen"
                                },
                                {
                                    "Név": "Miklós Szabolcs",
                                    "Email": "szabolcs.miklós@mail.hu",
                                    "Felhasználónév": "SZABOLCSM"
                                },
                                {
                                    "Név": "Szalai Szilárd",
                                    "Email": "szilárd.szalai@mail.hu",
                                    "Felhasználónév": "SZILARDS"
                                },
                                {
                                    "Név": "Tari Szilvia",
                                    "Email": "szilvia.tari@mail.hu",
                                    "Felhasználónév": "szilvia1"
                                },
                                {
                                    "Név": "Miklós Tamara",
                                    "Email": "tamara.miklós@mail.hu",
                                    "Felhasználónév": "tamara2"
                                },
                                {
                                    "Név": "Antal Tamás",
                                    "Email": "tamás.antal@mail.hu",
                                    "Felhasználónév": "tamas"
                                },
                                {
                                    "Név": "Fényes Tamás",
                                    "Email": "TAMASF@gmail.com",
                                    "Felhasználónév": "TAMASF"
                                },
                                {
                                    "Név": "Gombos Tibor",
                                    "Email": "tibor.gombos@mail.hu",
                                    "Felhasználónév": "tibor"
                                },
                                {
                                    "Név": "Kazy Tihamér",
                                    "Email": "tihamér.kazy@mail.hu",
                                    "Felhasználónév": "tihamer"
                                },
                                {
                                    "Név": "Dusha Tímea",
                                    "Email": "tímea.dusha@mail.hu",
                                    "Felhasználónév": "timea2"
                                },
                                {
                                    "Név": "Turcsik Tünde",
                                    "Email": "tunde@gmail.com",
                                    "Felhasználónév": "tunde"
                                },
                                {
                                    "Név": "Feró Valentin",
                                    "Email": "valentin.feró@mail.hu",
                                    "Felhasználónév": "valentin"
                                },
                                {
                                    "Név": "Tankó Veronika",
                                    "Email": "veronika4@gmail.com",
                                    "Felhasználónév": "veronika4"
                                },
                                {
                                    "Név": "Boros Vivien",
                                    "Email": "vivien3@gmail.com",
                                    "Felhasználónév": "vivien3"
                                },
                                {
                                    "Név": "Fodor Zoltán",
                                    "Email": "zoltán.fodor@mail.hu",
                                    "Felhasználónév": "zoltan"
                                },
                                {
                                    "Név": "Pintér Zoltán",
                                    "Email": "zoltán.pintér@mail.hu",
                                    "Felhasználónév": "ZOLTANP"
                                },
                                {
                                    "Név": "Tóth Zoltán",
                                    "Email": "zoltán.tóth@mail.hu",
                                    "Felhasználónév": "ZOLTANT"
                                },
                                {
                                    "Név": "Molnár Zsófi",
                                    "Email": "zsofi1@gmail.com",
                                    "Felhasználónév": "zsofi1"
                                },
                                {
                                    "Név": "Józsa Zsolt",
                                    "Email": "ZSOLTJ@gmail.com",
                                    "Felhasználónév": "ZSOLTJ"
                                },
                                {
                                    "Név": "Pusztai Zsuzsanna",
                                    "Email": "zsuzsanna@gmail.com",
                                    "Felhasználónév": "zsuzsa"
                                },
                                {
                                    "Név": "Varsányi Zsuzsa",
                                    "Email": "zsuzsa.varsányi@mail.hu",
                                    "Felhasználónév": "zsuzsa3"
                                },
                                {
                                    "Név": "Barta Zsuzsanna",
                                    "Email": "zsuzsanna.barta@mail.hu",
                                    "Felhasználónév": "zsuzsanna"
                                },
                                {
                                    "Név": "Vajda Zsuzsa",
                                    "Email": "zsuzsa.vajda@mail.hu",
                                    "Felhasználónév": "ZSUZSAV"
                                }
                            ]
                        },
                        "text/html": [
                            "<table>",
                            "<tr><th>Név</th><th>Email</th><th>Felhasználónév</th></tr>",
                            "<tr><td>Kiss Ádám</td><td>ádám.kiss@mail.hu</td><td>adam1</td></tr>",
                            "<tr><td>Barkóci Ádám</td><td>adam3@gmail.com</td><td>adam3</td></tr>",
                            "<tr><td>Bieniek Ádám</td><td>ádám.bieniek@mail.hu</td><td>adam4</td></tr>",
                            "<tr><td>Lengyel Ágnes</td><td>agnes@gmail.com</td><td>agnes</td></tr>",
                            "<tr><td>Hartyánszky Ágnes</td><td>agnes3@gmail.com</td><td>agnes3</td></tr>",
                            "<tr><td>Horváth Ágnes</td><td>AGNESH@gmail.com</td><td>AGNESH</td></tr>",
                            "<tr><td>Kovács Ágnes</td><td>AGNESK@gmail.com</td><td>AGNESK</td></tr>",
                            "<tr><td>Bíró Ákos</td><td>ákos.bíró@mail.hu</td><td>akos</td></tr>",
                            "<tr><td>Dunai Aladár</td><td>aladár.dunai@mail.hu</td><td>aladar</td></tr>",
                            "<tr><td>Bagóczki Alexandra</td><td>alexandra.bagóczki@mail.hu</td><td>alexandra</td></tr>",
                            "<tr><td>Tóth András</td><td>andrás.tóth@mail.hu</td><td>andras2</td></tr>",
                            "<tr><td>Molnár András</td><td>andrás.molnár@mail.hu</td><td>andras21</td></tr>",
                            "<tr><td>Vígh András</td><td>andrás.vígh@mail.hu</td><td>andras3</td></tr>",
                            "<tr><td>Back András</td><td>andras4@gmail.com</td><td>andras4</td></tr>",
                            "<tr><td>Komjáti András</td><td>andras41@gmail.com</td><td>andras41</td></tr>",
                            "<tr><td>Kiss Andrea</td><td>andrea.kiss@mail.hu</td><td>andrea</td></tr>",
                            "<tr><td>Tornyos Andrea</td><td>ANDREAT@gmail.com</td><td>ANDREAT</td></tr>",
                            "<tr><td>Pivarcsi Anett</td><td>anett.pivarcsi@mail.hu</td><td>anett3</td></tr>",
                            "<tr><td>Tóth Anikó</td><td>aniko@gmail.com</td><td>aniko</td></tr>",
                            "<tr><td>Böröcz Anikó</td><td>aniko4@gmail.com</td><td>aniko4</td></tr>",
                            "<tr><td>Simon Anikó</td><td>ANIKOS@gmail.com</td><td>ANIKOS</td></tr>",
                            "<tr><td>Hamvay-Kovács Anita</td><td>anita.hamvay-kovács@mail.hu</td><td>anita</td></tr>",
                            "<tr><td>Szűcs Annamária</td><td>annamária.szűcs@mail.hu</td><td>annamaria1</td></tr>",
                            "<tr><td>Regős Annamária</td><td>ANNAMARIAR@gmail.com</td><td>ANNAMARIAR</td></tr>",
                            "<tr><td>Jakab Áron</td><td>aron2@gmail.com</td><td>aron2</td></tr>",
                            "<tr><td>Kelemen Áron</td><td>áron.kelemen@mail.hu</td><td>ARONK</td></tr>",
                            "<tr><td>Ötvös Árpád</td><td>árpád.ötvös@mail.hu</td><td>arpad2</td></tr>",
                            "<tr><td>Móricz Árpád</td><td>árpád.móricz@mail.hu</td><td>ARPADM</td></tr>",
                            "<tr><td>Csóti Attila</td><td>attila@gmail.com</td><td>attila</td></tr>",
                            "<tr><td>Gulyás Attila</td><td>attila.gulyás@mail.hu</td><td>attila1</td></tr>",
                            "<tr><td>Baróti Attila</td><td>attila.baróti@mail.hu</td><td>attila4</td></tr>",
                            "<tr><td>Bozsik Balázs</td><td>balázs.bozsik@mail.hu</td><td>balazs1</td></tr>",
                            "<tr><td>Szűcs Balázs</td><td>balázs.szűcs@mail.hu</td><td>balazs2</td></tr>",
                            "<tr><td>Bakódy Balázs</td><td>balazs3@gmail.com</td><td>balazs3</td></tr>",
                            "<tr><td>Horváth Bálint</td><td>balint@gmail.com</td><td>balint</td></tr>",
                            "<tr><td>Molnár Bálint</td><td>balint1@gmail.com</td><td>balint1</td></tr>",
                            "<tr><td>Vukasinovity Bálint</td><td>balint2@gmail.com</td><td>balint2</td></tr>",
                            "<tr><td>Endresz Bálint</td><td>bálint.endresz@mail.hu</td><td>balu</td></tr>",
                            "<tr><td>Bagi Beáta</td><td>beáta.bagi@mail.hu</td><td>beata4</td></tr>",
                            "<tr><td>Kerényi Beatrix</td><td>beatrix.kerényi@mail.hu</td><td>BEATRIXK</td></tr>",
                            "<tr><td>Szekendi Beatrix</td><td>beatrix.szekendi@mail.hu</td><td>BEATRIXS</td></tr>",
                            "<tr><td>Farkas Béla</td><td>BELAF@gmail.com</td><td>BELAF</td></tr>",
                            "<tr><td>Győrffy Bence</td><td>bence@gmail.com</td><td>bence</td></tr>",
                            "<tr><td>Bajusz Bence</td><td>bence.bajusz@mail.hu</td><td>BENCEB</td></tr>",
                            "<tr><td>Simon Bernadett</td><td>bernadett1@gmail.com</td><td>bernadett1</td></tr>",
                            "<tr><td>Kovács Bernadett</td><td>bernadett.kovács@mail.hu</td><td>bernadett2</td></tr>",
                            "<tr><td>Orbán Bernadett</td><td>bernadett.orbán@mail.hu</td><td>BERNADETTO</td></tr>",
                            "<tr><td>Csiger Bertalan</td><td>bertalan@gmail.com</td><td>bertalan</td></tr>",
                            "<tr><td>Székely Brigitta</td><td>brigitta.székely@mail.hu</td><td>brigitta</td></tr>",
                            "<tr><td>Nagymihály Csongor</td><td>csongor.nagymihály@mail.hu</td><td>csongor3</td></tr>",
                            "<tr><td>Vörös Dániel</td><td>daniel@gmail.com</td><td>dani</td></tr>",
                            "<tr><td>Rácz Dániel</td><td>dániel.rácz@mail.hu</td><td>daniel</td></tr>",
                            "<tr><td>Keszler Dániel</td><td>dániel.keszler@mail.hu</td><td>daniel1</td></tr>",
                            "<tr><td>Ambrus Dávid</td><td>david@gmail.com</td><td>david</td></tr>",
                            "<tr><td>Sobják Dávid</td><td>david1@gmail.com</td><td>david1</td></tr>",
                            "<tr><td>Barna Debóra</td><td>debóra.barna@mail.hu</td><td>debora</td></tr>",
                            "<tr><td>Tömböly Dénes</td><td>denes@gmail.com</td><td>denes</td></tr>",
                            "<tr><td>Bittmann Edit</td><td>edit.bittmann@mail.hu</td><td>edit</td></tr>",
                            "<tr><td>Kuruc Emese</td><td>emese.kuruc@mail.hu</td><td>emese</td></tr>",
                            "<tr><td>Balogh Eszter</td><td>eszter.balogh@mail.hu</td><td>eszter2</td></tr>",
                            "<tr><td>Fülöp Eszter</td><td>eszter.fülöp@mail.hu</td><td>eszter4</td></tr>",
                            "<tr><td>Érsek Eszter</td><td>eszter.érsek@mail.hu</td><td>ESZTERE</td></tr>",
                            "<tr><td>Enyedi Éva</td><td>eva@gmail.com</td><td>eva</td></tr>",
                            "<tr><td>Perlinger Éva</td><td>eva2@gmail.com</td><td>eva2</td></tr>",
                            "<tr><td>Viktor Éva</td><td>EVAV@gmail.com</td><td>EVAV</td></tr>",
                            "<tr><td>Orosz Ferenc</td><td>ferenc.orosz@mail.hu</td><td>ferenc1</td></tr>",
                            "<tr><td>Frank Fruzsina</td><td>fruzsina4@gmail.com</td><td>fruzsina4</td></tr>",
                            "<tr><td>Köves Gábor</td><td>gabor1@gmail.com</td><td>gabor1</td></tr>",
                            "<tr><td>Telek Gábor</td><td>gábor.telek@mail.hu</td><td>gabor4</td></tr>",
                            "<tr><td>Nagy Gabriella</td><td>gabriella1@gmail.com</td><td>gabriella1</td></tr>",
                            "<tr><td>Nyíri Georgij</td><td>georgij.nyíri@mail.hu</td><td>georgij</td></tr>",
                            "<tr><td>Bárci Gusztáv</td><td>gusztav@gmail.com</td><td>gusztav</td></tr>",
                            "<tr><td>Kornseé Gyöngyi</td><td>gyöngyi.kornseé@mail.hu</td><td>GYONGYIK</td></tr>",
                            "<tr><td>Oroszi György</td><td>GYORGYO@gmail.com</td><td>GYORGYO</td></tr>",
                            "<tr><td>Nádudvari Henrik</td><td>henrik.nádudvari@mail.hu</td><td>henrik3</td></tr>",
                            "<tr><td>Andor Ibolya</td><td>ibolya.andor@mail.hu</td><td>IBOLYAA</td></tr>",
                            "<tr><td>Bosnyák Ilona</td><td>ilona3@gmail.com</td><td>ilona3</td></tr>",
                            "<tr><td>Búza Imre</td><td>imre.búza@mail.hu</td><td>imre</td></tr>",
                            "<tr><td>Papp Imre</td><td>imre.papp@mail.hu</td><td>imre1</td></tr>",
                            "<tr><td>Soós István</td><td>istvan@gmail.com</td><td>istvan</td></tr>",
                            "<tr><td>Vizi István</td><td>istván.vizi@mail.hu</td><td>istvan1</td></tr>",
                            "<tr><td>Varga István</td><td>ISTVANV@gmail.com</td><td>ISTVANV</td></tr>",
                            "<tr><td>Harangozó János</td><td>janos3@gmail.com</td><td>janos3</td></tr>",
                            "<tr><td>Giliga János</td><td>JANOSG@gmail.com</td><td>JANOSG</td></tr>",
                            "<tr><td>Pálinkás János</td><td>JANOSP@gmail.com</td><td>JANOSP</td></tr>",
                            "<tr><td>Gergely József</td><td>jozsef@gmail.com</td><td>jozsef</td></tr>",
                            "<tr><td>Vajda József</td><td>józsef.vajda@mail.hu</td><td>jozsef2</td></tr>",
                            "<tr><td>Hídasi Judit</td><td>JUDITH@gmail.com</td><td>JUDITH</td></tr>",
                            "<tr><td>Tóth Júlia</td><td>julia@gmail.com</td><td>julia</td></tr>",
                            "<tr><td>Nagy Júlia</td><td>julia4@gmail.com</td><td>julia4</td></tr>",
                            "<tr><td>Szabó Julianna</td><td>julianna4@gmail.com</td><td>julianna4</td></tr>",
                            "<tr><td>Gondos Katalin</td><td>katalin.gondos@mail.hu</td><td>kata</td></tr>",
                            "<tr><td>Horváth Katalin</td><td>katalin.horváth@mail.hu</td><td>katalin</td></tr>",
                            "<tr><td>Kertész Katalin</td><td>katalin4@gmail.com</td><td>katalin4</td></tr>",
                            "<tr><td>Kovács Katalin</td><td>katalin.kovács@mail.hu</td><td>katka</td></tr>",
                            "<tr><td>Bakó Klaudia</td><td>klaudia.bakó@mail.hu</td><td>klaudia2</td></tr>",
                            "<tr><td>Lukács Kornél</td><td>kornél.lukács@mail.hu</td><td>kornel4</td></tr>",
                            "<tr><td>Poprádi Kristóf</td><td>kristof4@gmail.com</td><td>kristof4</td></tr>",
                            "<tr><td>Horváth Krisztina</td><td>kriszti@gmail.com</td><td>kriszti</td></tr>",
                            "<tr><td>Czérna Krisztián</td><td>krisztián.czérna@mail.hu</td><td>krisztian4</td></tr>",
                            "<tr><td>Bori Krisztina</td><td>krisztina.bori@mail.hu</td><td>krisztina1</td></tr>",
                            "<tr><td>Gyárfás Krisztina</td><td>KRISZTINAG@gmail.com</td><td>KRISZTINAG</td></tr>",
                            "<tr><td>Kiss Lajos</td><td>lajos.kiss@mail.hu</td><td>lajos</td></tr>",
                            "<tr><td>Nagymihály Lajos</td><td>lajos.nagymihály@mail.hu</td><td>lala</td></tr>",
                            "<tr><td>Móra László</td><td>lászló.móra@mail.hu</td><td>laszlo2</td></tr>",
                            "<tr><td>Antal László</td><td>lászló.antal@mail.hu</td><td>LASZLOA</td></tr>",
                            "<tr><td>Nagy László</td><td>lászló.nagy@mail.hu</td><td>LASZLON</td></tr>",
                            "<tr><td>Baráth Mária</td><td>mária.baráth@mail.hu</td><td>maria1</td></tr>",
                            "<tr><td>Kispál Márk</td><td>márk.kispál@mail.hu</td><td>mark</td></tr>",
                            "<tr><td>Horváth Márk</td><td>márk.horváth@mail.hu</td><td>MARKH</td></tr>",
                            "<tr><td>Kalacsi Márton</td><td>marton@gmail.com</td><td>marton</td></tr>",
                            "<tr><td>Koza Máté</td><td>máté.koza@mail.hu</td><td>MATEK</td></tr>",
                            "<tr><td>Botka Mátyás</td><td>matyas2@gmail.com</td><td>matyas2</td></tr>",
                            "<tr><td>Szilágyi Mátyás</td><td>mátyás.szilágyi@mail.hu</td><td>MATYASS</td></tr>",
                            "<tr><td>Juhász Mihály</td><td>mihály.juhász@mail.hu</td><td>MIHALYJ</td></tr>",
                            "<tr><td>Gondos Miklós</td><td>miklos2@gmail.com</td><td>miklos2</td></tr>",
                            "<tr><td>Balla Miklós</td><td>miklós.balla@mail.hu</td><td>MIKLOSB</td></tr>",
                            "<tr><td>Mohos Mónika</td><td>mónika.mohos@mail.hu</td><td>MONIKAM</td></tr>",
                            "<tr><td>Fő Nándor</td><td>nándor.fő@mail.hu</td><td>NANDORF</td></tr>",
                            "<tr><td>Horváth Nikolett</td><td>nikolett3@gmail.com</td><td>nikolett3</td></tr>",
                            "<tr><td>Kő Nikoletta</td><td>nikoletta4@gmail.com</td><td>nikoletta4</td></tr>",
                            "<tr><td>Tatár Nikoletta</td><td>nikoletta.tatár@mail.hu</td><td>NIKOLETTAT</td></tr>",
                            "<tr><td>Szűcs Norbert</td><td>norbert@gmail.com</td><td>norbert</td></tr>",
                            "<tr><td>Hegedűs Norbert</td><td>norbert.hegedűs@mail.hu</td><td>norbert2</td></tr>",
                            "<tr><td>Mile Norbert</td><td>norbert4@gmail.com</td><td>norbert4</td></tr>",
                            "<tr><td>Béres Norbert</td><td>norbert5@gmail.com</td><td>norbert5</td></tr>",
                            "<tr><td>Barabás Pál</td><td>pál.barabás@mail.hu</td><td>pal</td></tr>",
                            "<tr><td>Kozma Péter</td><td>peter1@gmail.com</td><td>peter1</td></tr>",
                            "<tr><td>Bozsó Péter</td><td>peter2@gmail.com</td><td>peter2</td></tr>",
                            "<tr><td>Szalai Péter</td><td>peter3@gmail.com</td><td>peter3</td></tr>",
                            "<tr><td>Bíró Péter</td><td>péter.bíró@mail.hu</td><td>peter4</td></tr>",
                            "<tr><td>Berendi Péter</td><td>péter.berendi@mail.hu</td><td>PETERB</td></tr>",
                            "<tr><td>Palágyi Polla</td><td>polla@gmail.com</td><td>polla</td></tr>",
                            "<tr><td>Rácz Rajmond</td><td>rajmond.rácz@mail.hu</td><td>rajmond4</td></tr>",
                            "<tr><td>Szikszai Réka</td><td>réka.szikszai@mail.hu</td><td>reka4</td></tr>",
                            "<tr><td>Szirmai Renáta</td><td>RENATAS@gmail.com</td><td>RENATAS</td></tr>",
                            "<tr><td>Patay Róbert</td><td>robert2@gmail.com</td><td>robert2</td></tr>",
                            "<tr><td>Iván Róbert</td><td>róbert.iván@mail.hu</td><td>ROBERTI</td></tr>",
                            "<tr><td>Tóth Roland</td><td>roland@gmail.com</td><td>roland</td></tr>",
                            "<tr><td>Ferencz Roland</td><td>roland.ferencz@mail.hu</td><td>roland1</td></tr>",
                            "<tr><td>Bucskó Róza</td><td>roza2@gmail.com</td><td>roza2</td></tr>",
                            "<tr><td>Karasz Sándor</td><td>sandor@gmail.com</td><td>sandor</td></tr>",
                            "<tr><td>Farkas Sándor</td><td>sándor.farkas@mail.hu</td><td>sandor3</td></tr>",
                            "<tr><td>Nagy Sándor</td><td>sandor4@gmail.com</td><td>sandor4</td></tr>",
                            "<tr><td>Farkas Sára</td><td>sára.farkas@mail.hu</td><td>sara</td></tr>",
                            "<tr><td>Foltényi Sebastián</td><td>SEBASTIANF@gmail.com</td><td>SEBASTIANF</td></tr>",
                            "<tr><td>Rab Sebestyén</td><td>sebestyen@gmail.com</td><td>sebestyen</td></tr>",
                            "<tr><td>Miklós Szabolcs</td><td>szabolcs.miklós@mail.hu</td><td>SZABOLCSM</td></tr>",
                            "<tr><td>Szalai Szilárd</td><td>szilárd.szalai@mail.hu</td><td>SZILARDS</td></tr>",
                            "<tr><td>Tari Szilvia</td><td>szilvia.tari@mail.hu</td><td>szilvia1</td></tr>",
                            "<tr><td>Miklós Tamara</td><td>tamara.miklós@mail.hu</td><td>tamara2</td></tr>",
                            "<tr><td>Antal Tamás</td><td>tamás.antal@mail.hu</td><td>tamas</td></tr>",
                            "<tr><td>Fényes Tamás</td><td>TAMASF@gmail.com</td><td>TAMASF</td></tr>",
                            "<tr><td>Gombos Tibor</td><td>tibor.gombos@mail.hu</td><td>tibor</td></tr>",
                            "<tr><td>Kazy Tihamér</td><td>tihamér.kazy@mail.hu</td><td>tihamer</td></tr>",
                            "<tr><td>Dusha Tímea</td><td>tímea.dusha@mail.hu</td><td>timea2</td></tr>",
                            "<tr><td>Turcsik Tünde</td><td>tunde@gmail.com</td><td>tunde</td></tr>",
                            "<tr><td>Feró Valentin</td><td>valentin.feró@mail.hu</td><td>valentin</td></tr>",
                            "<tr><td>Tankó Veronika</td><td>veronika4@gmail.com</td><td>veronika4</td></tr>",
                            "<tr><td>Boros Vivien</td><td>vivien3@gmail.com</td><td>vivien3</td></tr>",
                            "<tr><td>Fodor Zoltán</td><td>zoltán.fodor@mail.hu</td><td>zoltan</td></tr>",
                            "<tr><td>Pintér Zoltán</td><td>zoltán.pintér@mail.hu</td><td>ZOLTANP</td></tr>",
                            "<tr><td>Tóth Zoltán</td><td>zoltán.tóth@mail.hu</td><td>ZOLTANT</td></tr>",
                            "<tr><td>Molnár Zsófi</td><td>zsofi1@gmail.com</td><td>zsofi1</td></tr>",
                            "<tr><td>Józsa Zsolt</td><td>ZSOLTJ@gmail.com</td><td>ZSOLTJ</td></tr>",
                            "<tr><td>Pusztai Zsuzsanna</td><td>zsuzsanna@gmail.com</td><td>zsuzsa</td></tr>",
                            "<tr><td>Varsányi Zsuzsa</td><td>zsuzsa.varsányi@mail.hu</td><td>zsuzsa3</td></tr>",
                            "<tr><td>Barta Zsuzsanna</td><td>zsuzsanna.barta@mail.hu</td><td>zsuzsanna</td></tr>",
                            "<tr><td>Vajda Zsuzsa</td><td>zsuzsa.vajda@mail.hu</td><td>ZSUZSAV</td></tr>",
                            "</table>"
                        ]
                    }
                }
            ],
            "execution_count": 5
        },
        {
            "cell_type": "markdown",
            "source": [
                "Listázzuk azon vendégek adatait, akik a legtöbb férőhelyes szobát (vagy szobákat) már lefoglalták!\n",
                "\n",
                "- Csak klímás szoba jöhet számításba"
            ],
            "metadata": {
                "azdata_cell_guid": "7b210c55-eca4-4795-91b9-a3b44af41020"
            },
            "attachments": {}
        },
        {
            "cell_type": "code",
            "source": [
                "select  v.USERNEV,\r\n",
                "        v.NEV,\r\n",
                "        v.EMAIL,\r\n",
                "        v.SZAML_CIM,\r\n",
                "        v.SZUL_DAT\r\n",
                "from vendeg v\r\n",
                "join foglalas f on v.USERNEV = f.UGYFEL_FK\r\n",
                "join szoba sz on f.SZOBA_FK = sz.SZOBA_ID\r\n",
                "where sz.FEROHELY = (select max(ferohely) from Szoba) and sz.KLIMAS = 'i'"
            ],
            "metadata": {
                "language": "sql",
                "azdata_cell_guid": "ef7ac9c2-665f-47f5-87fd-c9f896553dc2"
            },
            "outputs": [
                {
                    "output_type": "display_data",
                    "data": {
                        "text/html": "(3 rows affected)"
                    },
                    "metadata": {}
                },
                {
                    "output_type": "display_data",
                    "data": {
                        "text/html": "Total execution time: 00:00:00.005"
                    },
                    "metadata": {}
                },
                {
                    "output_type": "execute_result",
                    "metadata": {},
                    "execution_count": 18,
                    "data": {
                        "application/vnd.dataresource+json": {
                            "schema": {
                                "fields": [
                                    {
                                        "name": "USERNEV"
                                    },
                                    {
                                        "name": "NEV"
                                    },
                                    {
                                        "name": "EMAIL"
                                    },
                                    {
                                        "name": "SZAML_CIM"
                                    },
                                    {
                                        "name": "SZUL_DAT"
                                    }
                                ]
                            },
                            "data": [
                                {
                                    "USERNEV": "JOZSEFG",
                                    "NEV": "Gyuris József",
                                    "EMAIL": "józsef.gyuris@mail.hu",
                                    "SZAML_CIM": "2660 Balassagyarmat Petőfi utca 1/2.",
                                    "SZUL_DAT": "1975-05-26"
                                },
                                {
                                    "USERNEV": "PETERB",
                                    "NEV": "Berendi Péter",
                                    "EMAIL": "péter.berendi@mail.hu",
                                    "SZAML_CIM": "3980 Sátoraljaújhely Vasút utca 4/10.",
                                    "SZUL_DAT": "1969-01-01"
                                },
                                {
                                    "USERNEV": "tunde",
                                    "NEV": "Turcsik Tünde",
                                    "EMAIL": "tunde@gmail.com",
                                    "SZAML_CIM": "7130 Tolna Fő út 122.",
                                    "SZUL_DAT": "1974-02-12"
                                }
                            ]
                        },
                        "text/html": [
                            "<table>",
                            "<tr><th>USERNEV</th><th>NEV</th><th>EMAIL</th><th>SZAML_CIM</th><th>SZUL_DAT</th></tr>",
                            "<tr><td>JOZSEFG</td><td>Gyuris József</td><td>józsef.gyuris@mail.hu</td><td>2660 Balassagyarmat Petőfi utca 1/2.</td><td>1975-05-26</td></tr>",
                            "<tr><td>PETERB</td><td>Berendi Péter</td><td>péter.berendi@mail.hu</td><td>3980 Sátoraljaújhely Vasút utca 4/10.</td><td>1969-01-01</td></tr>",
                            "<tr><td>tunde</td><td>Turcsik Tünde</td><td>tunde@gmail.com</td><td>7130 Tolna Fő út 122.</td><td>1974-02-12</td></tr>",
                            "</table>"
                        ]
                    }
                }
            ],
            "execution_count": 18
        },
        {
            "cell_type": "markdown",
            "source": [
                "Készítsen lekérdezést, amely sorszámozza a vendégeket a foglalások száma alapján\n",
                "\n",
                "- A sorszám mellett jelenjen meg a vendég azonosítója, neve és a foglalások száma is\n",
                "- A legtöbbet foglaló vendég kapja az egyes sorszámot\n",
                "- Holtverseny esetén a számozás annyit ugorjon, ahány egyforma érték van"
            ],
            "metadata": {
                "language": "sql",
                "azdata_cell_guid": "238cc945-325e-4de9-9fe8-7d830e717cf6"
            },
            "attachments": {}
        },
        {
            "cell_type": "code",
            "source": [
                "select  v.USERNEV,\r\n",
                "        v.NEV,\r\n",
                "        count(*) as 'Foglalások',\r\n",
                "        Rank() over(order by count(*) desc) as 'Sorszám'\r\n",
                "from foglalas f join vendeg v on f.UGYFEL_FK = v.USERNEV\r\n",
                "group by v.USERNEV, v.NEV"
            ],
            "metadata": {
                "language": "sql",
                "azdata_cell_guid": "995b4ffd-53f4-4d2e-a9a6-d6fce4c1e02c"
            },
            "outputs": [
                {
                    "output_type": "display_data",
                    "data": {
                        "text/html": "(195 rows affected)"
                    },
                    "metadata": {}
                },
                {
                    "output_type": "display_data",
                    "data": {
                        "text/html": "Total execution time: 00:00:00.011"
                    },
                    "metadata": {}
                },
                {
                    "output_type": "execute_result",
                    "metadata": {},
                    "execution_count": 23,
                    "data": {
                        "application/vnd.dataresource+json": {
                            "schema": {
                                "fields": [
                                    {
                                        "name": "USERNEV"
                                    },
                                    {
                                        "name": "NEV"
                                    },
                                    {
                                        "name": "Foglalások"
                                    },
                                    {
                                        "name": "Sorszám"
                                    }
                                ]
                            },
                            "data": [
                                {
                                    "USERNEV": "andras41",
                                    "NEV": "Komjáti András",
                                    "Foglalások": "13",
                                    "Sorszám": "1"
                                },
                                {
                                    "USERNEV": "ARONK",
                                    "NEV": "Kelemen Áron",
                                    "Foglalások": "13",
                                    "Sorszám": "1"
                                },
                                {
                                    "USERNEV": "krisztian4",
                                    "NEV": "Czérna Krisztián",
                                    "Foglalások": "12",
                                    "Sorszám": "3"
                                },
                                {
                                    "USERNEV": "peter4",
                                    "NEV": "Bíró Péter",
                                    "Foglalások": "12",
                                    "Sorszám": "3"
                                },
                                {
                                    "USERNEV": "sara",
                                    "NEV": "Farkas Sára",
                                    "Foglalások": "12",
                                    "Sorszám": "3"
                                },
                                {
                                    "USERNEV": "zoltan4",
                                    "NEV": "Barna Zoltán",
                                    "Foglalások": "12",
                                    "Sorszám": "3"
                                },
                                {
                                    "USERNEV": "kata",
                                    "NEV": "Gondos Katalin",
                                    "Foglalások": "10",
                                    "Sorszám": "7"
                                },
                                {
                                    "USERNEV": "akos",
                                    "NEV": "Bíró Ákos",
                                    "Foglalások": "10",
                                    "Sorszám": "7"
                                },
                                {
                                    "USERNEV": "balazs2",
                                    "NEV": "Szűcs Balázs",
                                    "Foglalások": "10",
                                    "Sorszám": "7"
                                },
                                {
                                    "USERNEV": "balint1",
                                    "NEV": "Molnár Bálint",
                                    "Foglalások": "10",
                                    "Sorszám": "7"
                                },
                                {
                                    "USERNEV": "eszter2",
                                    "NEV": "Balogh Eszter",
                                    "Foglalások": "10",
                                    "Sorszám": "7"
                                },
                                {
                                    "USERNEV": "dani",
                                    "NEV": "Vörös Dániel",
                                    "Foglalások": "9",
                                    "Sorszám": "12"
                                },
                                {
                                    "USERNEV": "daniel",
                                    "NEV": "Rácz Dániel",
                                    "Foglalások": "9",
                                    "Sorszám": "12"
                                },
                                {
                                    "USERNEV": "david",
                                    "NEV": "Ambrus Dávid",
                                    "Foglalások": "9",
                                    "Sorszám": "12"
                                },
                                {
                                    "USERNEV": "BEATRIXK",
                                    "NEV": "Kerényi Beatrix",
                                    "Foglalások": "9",
                                    "Sorszám": "12"
                                },
                                {
                                    "USERNEV": "bence",
                                    "NEV": "Győrffy Bence",
                                    "Foglalások": "9",
                                    "Sorszám": "12"
                                },
                                {
                                    "USERNEV": "ANIKOS",
                                    "NEV": "Simon Anikó",
                                    "Foglalások": "9",
                                    "Sorszám": "12"
                                },
                                {
                                    "USERNEV": "katalin",
                                    "NEV": "Horváth Katalin",
                                    "Foglalások": "9",
                                    "Sorszám": "12"
                                },
                                {
                                    "USERNEV": "katka",
                                    "NEV": "Kovács Katalin",
                                    "Foglalások": "9",
                                    "Sorszám": "12"
                                },
                                {
                                    "USERNEV": "norbert4",
                                    "NEV": "Mile Norbert",
                                    "Foglalások": "9",
                                    "Sorszám": "12"
                                },
                                {
                                    "USERNEV": "szilvia1",
                                    "NEV": "Tari Szilvia",
                                    "Foglalások": "9",
                                    "Sorszám": "12"
                                },
                                {
                                    "USERNEV": "TAMASF",
                                    "NEV": "Fényes Tamás",
                                    "Foglalások": "9",
                                    "Sorszám": "12"
                                },
                                {
                                    "USERNEV": "tunde",
                                    "NEV": "Turcsik Tünde",
                                    "Foglalások": "8",
                                    "Sorszám": "23"
                                },
                                {
                                    "USERNEV": "ROBERTI",
                                    "NEV": "Iván Róbert",
                                    "Foglalások": "8",
                                    "Sorszám": "23"
                                },
                                {
                                    "USERNEV": "MATYASS",
                                    "NEV": "Szilágyi Mátyás",
                                    "Foglalások": "8",
                                    "Sorszám": "23"
                                },
                                {
                                    "USERNEV": "krisztina",
                                    "NEV": "Szedlár Krisztina",
                                    "Foglalások": "8",
                                    "Sorszám": "23"
                                },
                                {
                                    "USERNEV": "maria1",
                                    "NEV": "Baráth Mária",
                                    "Foglalások": "8",
                                    "Sorszám": "23"
                                },
                                {
                                    "USERNEV": "fruzsina4",
                                    "NEV": "Frank Fruzsina",
                                    "Foglalások": "8",
                                    "Sorszám": "23"
                                },
                                {
                                    "USERNEV": "GYORGYO",
                                    "NEV": "Oroszi György",
                                    "Foglalások": "8",
                                    "Sorszám": "23"
                                },
                                {
                                    "USERNEV": "anett3",
                                    "NEV": "Pivarcsi Anett",
                                    "Foglalások": "8",
                                    "Sorszám": "23"
                                },
                                {
                                    "USERNEV": "andras3",
                                    "NEV": "Vígh András",
                                    "Foglalások": "8",
                                    "Sorszám": "23"
                                },
                                {
                                    "USERNEV": "bernadett2",
                                    "NEV": "Kovács Bernadett",
                                    "Foglalások": "8",
                                    "Sorszám": "23"
                                },
                                {
                                    "USERNEV": "csongor3",
                                    "NEV": "Nagymihály Csongor",
                                    "Foglalások": "8",
                                    "Sorszám": "23"
                                },
                                {
                                    "USERNEV": "daniel1",
                                    "NEV": "Keszler Dániel",
                                    "Foglalások": "7",
                                    "Sorszám": "34"
                                },
                                {
                                    "USERNEV": "edit",
                                    "NEV": "Bittmann Edit",
                                    "Foglalások": "7",
                                    "Sorszám": "34"
                                },
                                {
                                    "USERNEV": "emese",
                                    "NEV": "Kuruc Emese",
                                    "Foglalások": "7",
                                    "Sorszám": "34"
                                },
                                {
                                    "USERNEV": "BERNADETTO",
                                    "NEV": "Orbán Bernadett",
                                    "Foglalások": "7",
                                    "Sorszám": "34"
                                },
                                {
                                    "USERNEV": "bernadett1",
                                    "NEV": "Simon Bernadett",
                                    "Foglalások": "7",
                                    "Sorszám": "34"
                                },
                                {
                                    "USERNEV": "alexandra",
                                    "NEV": "Bagóczki Alexandra",
                                    "Foglalások": "7",
                                    "Sorszám": "34"
                                },
                                {
                                    "USERNEV": "andras21",
                                    "NEV": "Molnár András",
                                    "Foglalások": "7",
                                    "Sorszám": "34"
                                },
                                {
                                    "USERNEV": "arpad2",
                                    "NEV": "Ötvös Árpád",
                                    "Foglalások": "7",
                                    "Sorszám": "34"
                                },
                                {
                                    "USERNEV": "ARPADH",
                                    "NEV": "Horváth Árpád",
                                    "Foglalások": "7",
                                    "Sorszám": "34"
                                },
                                {
                                    "USERNEV": "imre1",
                                    "NEV": "Papp Imre",
                                    "Foglalások": "7",
                                    "Sorszám": "34"
                                },
                                {
                                    "USERNEV": "GYONGYIK",
                                    "NEV": "Kornseé Gyöngyi",
                                    "Foglalások": "7",
                                    "Sorszám": "34"
                                },
                                {
                                    "USERNEV": "kati",
                                    "NEV": "Zatykó Katalin",
                                    "Foglalások": "7",
                                    "Sorszám": "34"
                                },
                                {
                                    "USERNEV": "JANOSG",
                                    "NEV": "Giliga János",
                                    "Foglalások": "7",
                                    "Sorszám": "34"
                                },
                                {
                                    "USERNEV": "JOZSEFG",
                                    "NEV": "Gyuris József",
                                    "Foglalások": "7",
                                    "Sorszám": "34"
                                },
                                {
                                    "USERNEV": "marton",
                                    "NEV": "Kalacsi Márton",
                                    "Foglalások": "7",
                                    "Sorszám": "34"
                                },
                                {
                                    "USERNEV": "nikoletta4",
                                    "NEV": "Kő Nikoletta",
                                    "Foglalások": "7",
                                    "Sorszám": "34"
                                },
                                {
                                    "USERNEV": "norbert2",
                                    "NEV": "Hegedűs Norbert",
                                    "Foglalások": "7",
                                    "Sorszám": "34"
                                },
                                {
                                    "USERNEV": "SZABOLCSM",
                                    "NEV": "Miklós Szabolcs",
                                    "Foglalások": "7",
                                    "Sorszám": "34"
                                },
                                {
                                    "USERNEV": "SZILARDS",
                                    "NEV": "Szalai Szilárd",
                                    "Foglalások": "7",
                                    "Sorszám": "34"
                                },
                                {
                                    "USERNEV": "vivien3",
                                    "NEV": "Boros Vivien",
                                    "Foglalások": "7",
                                    "Sorszám": "34"
                                },
                                {
                                    "USERNEV": "ZSOLTJ",
                                    "NEV": "Józsa Zsolt",
                                    "Foglalások": "6",
                                    "Sorszám": "54"
                                },
                                {
                                    "USERNEV": "ZOLTANP",
                                    "NEV": "Pintér Zoltán",
                                    "Foglalások": "6",
                                    "Sorszám": "54"
                                },
                                {
                                    "USERNEV": "ZSUZSAV",
                                    "NEV": "Vajda Zsuzsa",
                                    "Foglalások": "6",
                                    "Sorszám": "54"
                                },
                                {
                                    "USERNEV": "veronika4",
                                    "NEV": "Tankó Veronika",
                                    "Foglalások": "6",
                                    "Sorszám": "54"
                                },
                                {
                                    "USERNEV": "tihamer",
                                    "NEV": "Kazy Tihamér",
                                    "Foglalások": "6",
                                    "Sorszám": "54"
                                },
                                {
                                    "USERNEV": "RENATAK",
                                    "NEV": "Kardos Renáta",
                                    "Foglalások": "6",
                                    "Sorszám": "54"
                                },
                                {
                                    "USERNEV": "polla",
                                    "NEV": "Palágyi Polla",
                                    "Foglalások": "6",
                                    "Sorszám": "54"
                                },
                                {
                                    "USERNEV": "peter3",
                                    "NEV": "Szalai Péter",
                                    "Foglalások": "6",
                                    "Sorszám": "54"
                                },
                                {
                                    "USERNEV": "MONIKAM",
                                    "NEV": "Mohos Mónika",
                                    "Foglalások": "6",
                                    "Sorszám": "54"
                                },
                                {
                                    "USERNEV": "kriszti",
                                    "NEV": "Horváth Krisztina",
                                    "Foglalások": "6",
                                    "Sorszám": "54"
                                },
                                {
                                    "USERNEV": "LASZLON",
                                    "NEV": "Nagy László",
                                    "Foglalások": "6",
                                    "Sorszám": "54"
                                },
                                {
                                    "USERNEV": "krisztina1",
                                    "NEV": "Bori Krisztina",
                                    "Foglalások": "6",
                                    "Sorszám": "54"
                                },
                                {
                                    "USERNEV": "KRISZTIANM",
                                    "NEV": "Mogyródi Krisztián",
                                    "Foglalások": "6",
                                    "Sorszám": "54"
                                },
                                {
                                    "USERNEV": "lala",
                                    "NEV": "Nagymihály Lajos",
                                    "Foglalások": "6",
                                    "Sorszám": "54"
                                },
                                {
                                    "USERNEV": "katalin4",
                                    "NEV": "Kertész Katalin",
                                    "Foglalások": "6",
                                    "Sorszám": "54"
                                },
                                {
                                    "USERNEV": "gabor1",
                                    "NEV": "Köves Gábor",
                                    "Foglalások": "6",
                                    "Sorszám": "54"
                                },
                                {
                                    "USERNEV": "gabriella1",
                                    "NEV": "Nagy Gabriella",
                                    "Foglalások": "6",
                                    "Sorszám": "54"
                                },
                                {
                                    "USERNEV": "ARPADM",
                                    "NEV": "Móricz Árpád",
                                    "Foglalások": "6",
                                    "Sorszám": "54"
                                },
                                {
                                    "USERNEV": "ANNAMARIAR",
                                    "NEV": "Regős Annamária",
                                    "Foglalások": "6",
                                    "Sorszám": "54"
                                },
                                {
                                    "USERNEV": "aron2",
                                    "NEV": "Jakab Áron",
                                    "Foglalások": "6",
                                    "Sorszám": "54"
                                },
                                {
                                    "USERNEV": "attila1",
                                    "NEV": "Gulyás Attila",
                                    "Foglalások": "6",
                                    "Sorszám": "54"
                                },
                                {
                                    "USERNEV": "andrea",
                                    "NEV": "Kiss Andrea",
                                    "Foglalások": "6",
                                    "Sorszám": "54"
                                },
                                {
                                    "USERNEV": "AGNESH",
                                    "NEV": "Horváth Ágnes",
                                    "Foglalások": "6",
                                    "Sorszám": "54"
                                },
                                {
                                    "USERNEV": "adam4",
                                    "NEV": "Bieniek Ádám",
                                    "Foglalások": "6",
                                    "Sorszám": "54"
                                },
                                {
                                    "USERNEV": "beata4",
                                    "NEV": "Bagi Beáta",
                                    "Foglalások": "6",
                                    "Sorszám": "54"
                                },
                                {
                                    "USERNEV": "BENCEB",
                                    "NEV": "Bajusz Bence",
                                    "Foglalások": "6",
                                    "Sorszám": "54"
                                },
                                {
                                    "USERNEV": "bertalan",
                                    "NEV": "Csiger Bertalan",
                                    "Foglalások": "6",
                                    "Sorszám": "54"
                                },
                                {
                                    "USERNEV": "BEATRIXS",
                                    "NEV": "Szekendi Beatrix",
                                    "Foglalások": "6",
                                    "Sorszám": "54"
                                },
                                {
                                    "USERNEV": "BELAF",
                                    "NEV": "Farkas Béla",
                                    "Foglalások": "6",
                                    "Sorszám": "54"
                                },
                                {
                                    "USERNEV": "balazs3",
                                    "NEV": "Bakódy Balázs",
                                    "Foglalások": "6",
                                    "Sorszám": "54"
                                },
                                {
                                    "USERNEV": "balazs1",
                                    "NEV": "Bozsik Balázs",
                                    "Foglalások": "6",
                                    "Sorszám": "54"
                                },
                                {
                                    "USERNEV": "david1",
                                    "NEV": "Sobják Dávid",
                                    "Foglalások": "6",
                                    "Sorszám": "54"
                                },
                                {
                                    "USERNEV": "denes",
                                    "NEV": "Tömböly Dénes",
                                    "Foglalások": "6",
                                    "Sorszám": "54"
                                },
                                {
                                    "USERNEV": "dora3",
                                    "NEV": "Sarodi Dóra",
                                    "Foglalások": "5",
                                    "Sorszám": "87"
                                },
                                {
                                    "USERNEV": "EVAV",
                                    "NEV": "Viktor Éva",
                                    "Foglalások": "5",
                                    "Sorszám": "87"
                                },
                                {
                                    "USERNEV": "brigitta",
                                    "NEV": "Székely Brigitta",
                                    "Foglalások": "5",
                                    "Sorszám": "87"
                                },
                                {
                                    "USERNEV": "brigitta3",
                                    "NEV": "Pataki Brigitta",
                                    "Foglalások": "5",
                                    "Sorszám": "87"
                                },
                                {
                                    "USERNEV": "agnes",
                                    "NEV": "Lengyel Ágnes",
                                    "Foglalások": "5",
                                    "Sorszám": "87"
                                },
                                {
                                    "USERNEV": "ANDRASE",
                                    "NEV": "Erdei András",
                                    "Foglalások": "5",
                                    "Sorszám": "87"
                                },
                                {
                                    "USERNEV": "andi",
                                    "NEV": "Maródi Andrea",
                                    "Foglalások": "5",
                                    "Sorszám": "87"
                                },
                                {
                                    "USERNEV": "andras2",
                                    "NEV": "Tóth András",
                                    "Foglalások": "5",
                                    "Sorszám": "87"
                                },
                                {
                                    "USERNEV": "gusztav",
                                    "NEV": "Bárci Gusztáv",
                                    "Foglalások": "5",
                                    "Sorszám": "87"
                                },
                                {
                                    "USERNEV": "julia",
                                    "NEV": "Tóth Júlia",
                                    "Foglalások": "5",
                                    "Sorszám": "87"
                                },
                                {
                                    "USERNEV": "janos3",
                                    "NEV": "Harangozó János",
                                    "Foglalások": "5",
                                    "Sorszám": "87"
                                },
                                {
                                    "USERNEV": "jozsef2",
                                    "NEV": "Vajda József",
                                    "Foglalások": "5",
                                    "Sorszám": "87"
                                },
                                {
                                    "USERNEV": "KRISZTINAG",
                                    "NEV": "Gyárfás Krisztina",
                                    "Foglalások": "5",
                                    "Sorszám": "87"
                                },
                                {
                                    "USERNEV": "laszlo2",
                                    "NEV": "Móra László",
                                    "Foglalások": "5",
                                    "Sorszám": "87"
                                },
                                {
                                    "USERNEV": "mark",
                                    "NEV": "Kispál Márk",
                                    "Foglalások": "5",
                                    "Sorszám": "87"
                                },
                                {
                                    "USERNEV": "MIHALYJ",
                                    "NEV": "Juhász Mihály",
                                    "Foglalások": "5",
                                    "Sorszám": "87"
                                },
                                {
                                    "USERNEV": "pal",
                                    "NEV": "Barabás Pál",
                                    "Foglalások": "5",
                                    "Sorszám": "87"
                                },
                                {
                                    "USERNEV": "norbert",
                                    "NEV": "Szűcs Norbert",
                                    "Foglalások": "5",
                                    "Sorszám": "87"
                                },
                                {
                                    "USERNEV": "PETERB",
                                    "NEV": "Berendi Péter",
                                    "Foglalások": "5",
                                    "Sorszám": "87"
                                },
                                {
                                    "USERNEV": "RENATAS",
                                    "NEV": "Szirmai Renáta",
                                    "Foglalások": "5",
                                    "Sorszám": "87"
                                },
                                {
                                    "USERNEV": "SEBASTIANF",
                                    "NEV": "Foltényi Sebastián",
                                    "Foglalások": "5",
                                    "Sorszám": "87"
                                },
                                {
                                    "USERNEV": "reka4",
                                    "NEV": "Szikszai Réka",
                                    "Foglalások": "5",
                                    "Sorszám": "87"
                                },
                                {
                                    "USERNEV": "timea2",
                                    "NEV": "Dusha Tímea",
                                    "Foglalások": "5",
                                    "Sorszám": "87"
                                },
                                {
                                    "USERNEV": "valentin",
                                    "NEV": "Feró Valentin",
                                    "Foglalások": "5",
                                    "Sorszám": "87"
                                },
                                {
                                    "USERNEV": "sandor3",
                                    "NEV": "Farkas Sándor",
                                    "Foglalások": "5",
                                    "Sorszám": "87"
                                },
                                {
                                    "USERNEV": "sandor4",
                                    "NEV": "Nagy Sándor",
                                    "Foglalások": "4",
                                    "Sorszám": "112"
                                },
                                {
                                    "USERNEV": "VIKTORIAU",
                                    "NEV": "Urbán Viktoria",
                                    "Foglalások": "4",
                                    "Sorszám": "112"
                                },
                                {
                                    "USERNEV": "tamas",
                                    "NEV": "Antal Tamás",
                                    "Foglalások": "4",
                                    "Sorszám": "112"
                                },
                                {
                                    "USERNEV": "sandor",
                                    "NEV": "Karasz Sándor",
                                    "Foglalások": "4",
                                    "Sorszám": "112"
                                },
                                {
                                    "USERNEV": "roland",
                                    "NEV": "Tóth Roland",
                                    "Foglalások": "4",
                                    "Sorszám": "112"
                                },
                                {
                                    "USERNEV": "roland1",
                                    "NEV": "Ferencz Roland",
                                    "Foglalások": "4",
                                    "Sorszám": "112"
                                },
                                {
                                    "USERNEV": "sebestyen",
                                    "NEV": "Rab Sebestyén",
                                    "Foglalások": "4",
                                    "Sorszám": "112"
                                },
                                {
                                    "USERNEV": "robert2",
                                    "NEV": "Patay Róbert",
                                    "Foglalások": "4",
                                    "Sorszám": "112"
                                },
                                {
                                    "USERNEV": "rajmond4",
                                    "NEV": "Rácz Rajmond",
                                    "Foglalások": "4",
                                    "Sorszám": "112"
                                },
                                {
                                    "USERNEV": "zsolt1",
                                    "NEV": "Pulai Zsolt",
                                    "Foglalások": "4",
                                    "Sorszám": "112"
                                },
                                {
                                    "USERNEV": "zsuzsa3",
                                    "NEV": "Varsányi Zsuzsa",
                                    "Foglalások": "4",
                                    "Sorszám": "112"
                                },
                                {
                                    "USERNEV": "zsuzsanna",
                                    "NEV": "Barta Zsuzsanna",
                                    "Foglalások": "4",
                                    "Sorszám": "112"
                                },
                                {
                                    "USERNEV": "nikolett3",
                                    "NEV": "Horváth Nikolett",
                                    "Foglalások": "4",
                                    "Sorszám": "112"
                                },
                                {
                                    "USERNEV": "peter1",
                                    "NEV": "Kozma Péter",
                                    "Foglalások": "4",
                                    "Sorszám": "112"
                                },
                                {
                                    "USERNEV": "peter2",
                                    "NEV": "Bozsó Péter",
                                    "Foglalások": "4",
                                    "Sorszám": "112"
                                },
                                {
                                    "USERNEV": "NIKOLETTAT",
                                    "NEV": "Tatár Nikoletta",
                                    "Foglalások": "4",
                                    "Sorszám": "112"
                                },
                                {
                                    "USERNEV": "MARKH",
                                    "NEV": "Horváth Márk",
                                    "Foglalások": "4",
                                    "Sorszám": "112"
                                },
                                {
                                    "USERNEV": "LASZLOA",
                                    "NEV": "Antal László",
                                    "Foglalások": "4",
                                    "Sorszám": "112"
                                },
                                {
                                    "USERNEV": "JANOSP",
                                    "NEV": "Pálinkás János",
                                    "Foglalások": "4",
                                    "Sorszám": "112"
                                },
                                {
                                    "USERNEV": "julianna4",
                                    "NEV": "Szabó Julianna",
                                    "Foglalások": "4",
                                    "Sorszám": "112"
                                },
                                {
                                    "USERNEV": "eva2",
                                    "NEV": "Perlinger Éva",
                                    "Foglalások": "4",
                                    "Sorszám": "112"
                                },
                                {
                                    "USERNEV": "georgij",
                                    "NEV": "Nyíri Georgij",
                                    "Foglalások": "4",
                                    "Sorszám": "112"
                                },
                                {
                                    "USERNEV": "gabor4",
                                    "NEV": "Telek Gábor",
                                    "Foglalások": "4",
                                    "Sorszám": "112"
                                },
                                {
                                    "USERNEV": "istvan1",
                                    "NEV": "Vizi István",
                                    "Foglalások": "4",
                                    "Sorszám": "112"
                                },
                                {
                                    "USERNEV": "ilona3",
                                    "NEV": "Bosnyák Ilona",
                                    "Foglalások": "4",
                                    "Sorszám": "112"
                                },
                                {
                                    "USERNEV": "aniko4",
                                    "NEV": "Böröcz Anikó",
                                    "Foglalások": "4",
                                    "Sorszám": "112"
                                },
                                {
                                    "USERNEV": "anita",
                                    "NEV": "Hamvay-Kovács Anita",
                                    "Foglalások": "4",
                                    "Sorszám": "112"
                                },
                                {
                                    "USERNEV": "andrea4",
                                    "NEV": "Neizer Andrea",
                                    "Foglalások": "4",
                                    "Sorszám": "112"
                                },
                                {
                                    "USERNEV": "ATTILAO",
                                    "NEV": "Opra Attila",
                                    "Foglalások": "4",
                                    "Sorszám": "112"
                                },
                                {
                                    "USERNEV": "ferenc1",
                                    "NEV": "Orosz Ferenc",
                                    "Foglalások": "4",
                                    "Sorszám": "112"
                                },
                                {
                                    "USERNEV": "ESZTERE",
                                    "NEV": "Érsek Eszter",
                                    "Foglalások": "4",
                                    "Sorszám": "112"
                                },
                                {
                                    "USERNEV": "eszter",
                                    "NEV": "Molnár Eszter",
                                    "Foglalások": "4",
                                    "Sorszám": "112"
                                },
                                {
                                    "USERNEV": "debora",
                                    "NEV": "Barna Debóra",
                                    "Foglalások": "4",
                                    "Sorszám": "112"
                                },
                                {
                                    "USERNEV": "eszter4",
                                    "NEV": "Fülöp Eszter",
                                    "Foglalások": "3",
                                    "Sorszám": "145"
                                },
                                {
                                    "USERNEV": "balint",
                                    "NEV": "Horváth Bálint",
                                    "Foglalások": "3",
                                    "Sorszám": "145"
                                },
                                {
                                    "USERNEV": "ANDREAT",
                                    "NEV": "Tornyos Andrea",
                                    "Foglalások": "3",
                                    "Sorszám": "145"
                                },
                                {
                                    "USERNEV": "aniko",
                                    "NEV": "Tóth Anikó",
                                    "Foglalások": "3",
                                    "Sorszám": "145"
                                },
                                {
                                    "USERNEV": "attila4",
                                    "NEV": "Baróti Attila",
                                    "Foglalások": "3",
                                    "Sorszám": "145"
                                },
                                {
                                    "USERNEV": "attila",
                                    "NEV": "Csóti Attila",
                                    "Foglalások": "3",
                                    "Sorszám": "145"
                                },
                                {
                                    "USERNEV": "andras4",
                                    "NEV": "Back András",
                                    "Foglalások": "3",
                                    "Sorszám": "145"
                                },
                                {
                                    "USERNEV": "agnes3",
                                    "NEV": "Hartyánszky Ágnes",
                                    "Foglalások": "3",
                                    "Sorszám": "145"
                                },
                                {
                                    "USERNEV": "adam1",
                                    "NEV": "Kiss Ádám",
                                    "Foglalások": "3",
                                    "Sorszám": "145"
                                },
                                {
                                    "USERNEV": "AGNESK",
                                    "NEV": "Kovács Ágnes",
                                    "Foglalások": "3",
                                    "Sorszám": "145"
                                },
                                {
                                    "USERNEV": "aladar",
                                    "NEV": "Dunai Aladár",
                                    "Foglalások": "3",
                                    "Sorszám": "145"
                                },
                                {
                                    "USERNEV": "henrik3",
                                    "NEV": "Nádudvari Henrik",
                                    "Foglalások": "3",
                                    "Sorszám": "145"
                                },
                                {
                                    "USERNEV": "IBOLYAA",
                                    "NEV": "Andor Ibolya",
                                    "Foglalások": "3",
                                    "Sorszám": "145"
                                },
                                {
                                    "USERNEV": "istvan",
                                    "NEV": "Soós István",
                                    "Foglalások": "3",
                                    "Sorszám": "145"
                                },
                                {
                                    "USERNEV": "klaudia2",
                                    "NEV": "Bakó Klaudia",
                                    "Foglalások": "3",
                                    "Sorszám": "145"
                                },
                                {
                                    "USERNEV": "kornel4",
                                    "NEV": "Lukács Kornél",
                                    "Foglalások": "3",
                                    "Sorszám": "145"
                                },
                                {
                                    "USERNEV": "jozsef",
                                    "NEV": "Gergely József",
                                    "Foglalások": "3",
                                    "Sorszám": "145"
                                },
                                {
                                    "USERNEV": "JUDITH",
                                    "NEV": "Hídasi Judit",
                                    "Foglalások": "3",
                                    "Sorszám": "145"
                                },
                                {
                                    "USERNEV": "MATEK",
                                    "NEV": "Koza Máté",
                                    "Foglalások": "3",
                                    "Sorszám": "145"
                                },
                                {
                                    "USERNEV": "lajos",
                                    "NEV": "Kiss Lajos",
                                    "Foglalások": "3",
                                    "Sorszám": "145"
                                },
                                {
                                    "USERNEV": "NANDORF",
                                    "NEV": "Fő Nándor",
                                    "Foglalások": "3",
                                    "Sorszám": "145"
                                },
                                {
                                    "USERNEV": "miklos2",
                                    "NEV": "Gondos Miklós",
                                    "Foglalások": "3",
                                    "Sorszám": "145"
                                },
                                {
                                    "USERNEV": "MIKLOSB",
                                    "NEV": "Balla Miklós",
                                    "Foglalások": "3",
                                    "Sorszám": "145"
                                },
                                {
                                    "USERNEV": "norbert5",
                                    "NEV": "Béres Norbert",
                                    "Foglalások": "3",
                                    "Sorszám": "145"
                                },
                                {
                                    "USERNEV": "ZOLTANT",
                                    "NEV": "Tóth Zoltán",
                                    "Foglalások": "3",
                                    "Sorszám": "145"
                                },
                                {
                                    "USERNEV": "zsuzsa",
                                    "NEV": "Pusztai Zsuzsanna",
                                    "Foglalások": "3",
                                    "Sorszám": "145"
                                },
                                {
                                    "USERNEV": "roza2",
                                    "NEV": "Bucskó Róza",
                                    "Foglalások": "3",
                                    "Sorszám": "145"
                                },
                                {
                                    "USERNEV": "ROBERTP",
                                    "NEV": "Pásztor Róbert",
                                    "Foglalások": "2",
                                    "Sorszám": "172"
                                },
                                {
                                    "USERNEV": "VIKTORK",
                                    "NEV": "Keresztúri Viktor",
                                    "Foglalások": "2",
                                    "Sorszám": "172"
                                },
                                {
                                    "USERNEV": "tibor",
                                    "NEV": "Gombos Tibor",
                                    "Foglalások": "2",
                                    "Sorszám": "172"
                                },
                                {
                                    "USERNEV": "tamara2",
                                    "NEV": "Miklós Tamara",
                                    "Foglalások": "2",
                                    "Sorszám": "172"
                                },
                                {
                                    "USERNEV": "zoltan",
                                    "NEV": "Fodor Zoltán",
                                    "Foglalások": "2",
                                    "Sorszám": "172"
                                },
                                {
                                    "USERNEV": "zsofi1",
                                    "NEV": "Molnár Zsófi",
                                    "Foglalások": "2",
                                    "Sorszám": "172"
                                },
                                {
                                    "USERNEV": "matyas2",
                                    "NEV": "Botka Mátyás",
                                    "Foglalások": "2",
                                    "Sorszám": "172"
                                },
                                {
                                    "USERNEV": "julia4",
                                    "NEV": "Nagy Júlia",
                                    "Foglalások": "2",
                                    "Sorszám": "172"
                                },
                                {
                                    "USERNEV": "kristof4",
                                    "NEV": "Poprádi Kristóf",
                                    "Foglalások": "2",
                                    "Sorszám": "172"
                                },
                                {
                                    "USERNEV": "ISTVANV",
                                    "NEV": "Varga István",
                                    "Foglalások": "2",
                                    "Sorszám": "172"
                                },
                                {
                                    "USERNEV": "imre",
                                    "NEV": "Búza Imre",
                                    "Foglalások": "2",
                                    "Sorszám": "172"
                                },
                                {
                                    "USERNEV": "adam3",
                                    "NEV": "Barkóci Ádám",
                                    "Foglalások": "2",
                                    "Sorszám": "172"
                                },
                                {
                                    "USERNEV": "annamaria1",
                                    "NEV": "Szűcs Annamária",
                                    "Foglalások": "2",
                                    "Sorszám": "172"
                                },
                                {
                                    "USERNEV": "balint2",
                                    "NEV": "Vukasinovity Bálint",
                                    "Foglalások": "2",
                                    "Sorszám": "172"
                                },
                                {
                                    "USERNEV": "balu",
                                    "NEV": "Endresz Bálint",
                                    "Foglalások": "2",
                                    "Sorszám": "172"
                                },
                                {
                                    "USERNEV": "eva",
                                    "NEV": "Enyedi Éva",
                                    "Foglalások": "2",
                                    "Sorszám": "172"
                                },
                                {
                                    "USERNEV": "david4",
                                    "NEV": "Berta Dávid",
                                    "Foglalások": "1",
                                    "Sorszám": "188"
                                },
                                {
                                    "USERNEV": "ANDRASN",
                                    "NEV": "Nagy András",
                                    "Foglalások": "1",
                                    "Sorszám": "188"
                                },
                                {
                                    "USERNEV": "andrea3",
                                    "NEV": "Szomor Andrea",
                                    "Foglalások": "1",
                                    "Sorszám": "188"
                                },
                                {
                                    "USERNEV": "gabriella10",
                                    "NEV": "Vida Gabriella",
                                    "Foglalások": "1",
                                    "Sorszám": "188"
                                },
                                {
                                    "USERNEV": "laszlo1",
                                    "NEV": "Farkas László",
                                    "Foglalások": "1",
                                    "Sorszám": "188"
                                },
                                {
                                    "USERNEV": "tibor2",
                                    "NEV": "Dániel Tibor",
                                    "Foglalások": "1",
                                    "Sorszám": "188"
                                },
                                {
                                    "USERNEV": "timea",
                                    "NEV": "Papós Tímea",
                                    "Foglalások": "1",
                                    "Sorszám": "188"
                                },
                                {
                                    "USERNEV": "szabolcs",
                                    "NEV": "Bodor Szabolcs",
                                    "Foglalások": "1",
                                    "Sorszám": "188"
                                }
                            ]
                        },
                        "text/html": [
                            "<table>",
                            "<tr><th>USERNEV</th><th>NEV</th><th>Foglalások</th><th>Sorszám</th></tr>",
                            "<tr><td>andras41</td><td>Komjáti András</td><td>13</td><td>1</td></tr>",
                            "<tr><td>ARONK</td><td>Kelemen Áron</td><td>13</td><td>1</td></tr>",
                            "<tr><td>krisztian4</td><td>Czérna Krisztián</td><td>12</td><td>3</td></tr>",
                            "<tr><td>peter4</td><td>Bíró Péter</td><td>12</td><td>3</td></tr>",
                            "<tr><td>sara</td><td>Farkas Sára</td><td>12</td><td>3</td></tr>",
                            "<tr><td>zoltan4</td><td>Barna Zoltán</td><td>12</td><td>3</td></tr>",
                            "<tr><td>kata</td><td>Gondos Katalin</td><td>10</td><td>7</td></tr>",
                            "<tr><td>akos</td><td>Bíró Ákos</td><td>10</td><td>7</td></tr>",
                            "<tr><td>balazs2</td><td>Szűcs Balázs</td><td>10</td><td>7</td></tr>",
                            "<tr><td>balint1</td><td>Molnár Bálint</td><td>10</td><td>7</td></tr>",
                            "<tr><td>eszter2</td><td>Balogh Eszter</td><td>10</td><td>7</td></tr>",
                            "<tr><td>dani</td><td>Vörös Dániel</td><td>9</td><td>12</td></tr>",
                            "<tr><td>daniel</td><td>Rácz Dániel</td><td>9</td><td>12</td></tr>",
                            "<tr><td>david</td><td>Ambrus Dávid</td><td>9</td><td>12</td></tr>",
                            "<tr><td>BEATRIXK</td><td>Kerényi Beatrix</td><td>9</td><td>12</td></tr>",
                            "<tr><td>bence</td><td>Győrffy Bence</td><td>9</td><td>12</td></tr>",
                            "<tr><td>ANIKOS</td><td>Simon Anikó</td><td>9</td><td>12</td></tr>",
                            "<tr><td>katalin</td><td>Horváth Katalin</td><td>9</td><td>12</td></tr>",
                            "<tr><td>katka</td><td>Kovács Katalin</td><td>9</td><td>12</td></tr>",
                            "<tr><td>norbert4</td><td>Mile Norbert</td><td>9</td><td>12</td></tr>",
                            "<tr><td>szilvia1</td><td>Tari Szilvia</td><td>9</td><td>12</td></tr>",
                            "<tr><td>TAMASF</td><td>Fényes Tamás</td><td>9</td><td>12</td></tr>",
                            "<tr><td>tunde</td><td>Turcsik Tünde</td><td>8</td><td>23</td></tr>",
                            "<tr><td>ROBERTI</td><td>Iván Róbert</td><td>8</td><td>23</td></tr>",
                            "<tr><td>MATYASS</td><td>Szilágyi Mátyás</td><td>8</td><td>23</td></tr>",
                            "<tr><td>krisztina</td><td>Szedlár Krisztina</td><td>8</td><td>23</td></tr>",
                            "<tr><td>maria1</td><td>Baráth Mária</td><td>8</td><td>23</td></tr>",
                            "<tr><td>fruzsina4</td><td>Frank Fruzsina</td><td>8</td><td>23</td></tr>",
                            "<tr><td>GYORGYO</td><td>Oroszi György</td><td>8</td><td>23</td></tr>",
                            "<tr><td>anett3</td><td>Pivarcsi Anett</td><td>8</td><td>23</td></tr>",
                            "<tr><td>andras3</td><td>Vígh András</td><td>8</td><td>23</td></tr>",
                            "<tr><td>bernadett2</td><td>Kovács Bernadett</td><td>8</td><td>23</td></tr>",
                            "<tr><td>csongor3</td><td>Nagymihály Csongor</td><td>8</td><td>23</td></tr>",
                            "<tr><td>daniel1</td><td>Keszler Dániel</td><td>7</td><td>34</td></tr>",
                            "<tr><td>edit</td><td>Bittmann Edit</td><td>7</td><td>34</td></tr>",
                            "<tr><td>emese</td><td>Kuruc Emese</td><td>7</td><td>34</td></tr>",
                            "<tr><td>BERNADETTO</td><td>Orbán Bernadett</td><td>7</td><td>34</td></tr>",
                            "<tr><td>bernadett1</td><td>Simon Bernadett</td><td>7</td><td>34</td></tr>",
                            "<tr><td>alexandra</td><td>Bagóczki Alexandra</td><td>7</td><td>34</td></tr>",
                            "<tr><td>andras21</td><td>Molnár András</td><td>7</td><td>34</td></tr>",
                            "<tr><td>arpad2</td><td>Ötvös Árpád</td><td>7</td><td>34</td></tr>",
                            "<tr><td>ARPADH</td><td>Horváth Árpád</td><td>7</td><td>34</td></tr>",
                            "<tr><td>imre1</td><td>Papp Imre</td><td>7</td><td>34</td></tr>",
                            "<tr><td>GYONGYIK</td><td>Kornseé Gyöngyi</td><td>7</td><td>34</td></tr>",
                            "<tr><td>kati</td><td>Zatykó Katalin</td><td>7</td><td>34</td></tr>",
                            "<tr><td>JANOSG</td><td>Giliga János</td><td>7</td><td>34</td></tr>",
                            "<tr><td>JOZSEFG</td><td>Gyuris József</td><td>7</td><td>34</td></tr>",
                            "<tr><td>marton</td><td>Kalacsi Márton</td><td>7</td><td>34</td></tr>",
                            "<tr><td>nikoletta4</td><td>Kő Nikoletta</td><td>7</td><td>34</td></tr>",
                            "<tr><td>norbert2</td><td>Hegedűs Norbert</td><td>7</td><td>34</td></tr>",
                            "<tr><td>SZABOLCSM</td><td>Miklós Szabolcs</td><td>7</td><td>34</td></tr>",
                            "<tr><td>SZILARDS</td><td>Szalai Szilárd</td><td>7</td><td>34</td></tr>",
                            "<tr><td>vivien3</td><td>Boros Vivien</td><td>7</td><td>34</td></tr>",
                            "<tr><td>ZSOLTJ</td><td>Józsa Zsolt</td><td>6</td><td>54</td></tr>",
                            "<tr><td>ZOLTANP</td><td>Pintér Zoltán</td><td>6</td><td>54</td></tr>",
                            "<tr><td>ZSUZSAV</td><td>Vajda Zsuzsa</td><td>6</td><td>54</td></tr>",
                            "<tr><td>veronika4</td><td>Tankó Veronika</td><td>6</td><td>54</td></tr>",
                            "<tr><td>tihamer</td><td>Kazy Tihamér</td><td>6</td><td>54</td></tr>",
                            "<tr><td>RENATAK</td><td>Kardos Renáta</td><td>6</td><td>54</td></tr>",
                            "<tr><td>polla</td><td>Palágyi Polla</td><td>6</td><td>54</td></tr>",
                            "<tr><td>peter3</td><td>Szalai Péter</td><td>6</td><td>54</td></tr>",
                            "<tr><td>MONIKAM</td><td>Mohos Mónika</td><td>6</td><td>54</td></tr>",
                            "<tr><td>kriszti</td><td>Horváth Krisztina</td><td>6</td><td>54</td></tr>",
                            "<tr><td>LASZLON</td><td>Nagy László</td><td>6</td><td>54</td></tr>",
                            "<tr><td>krisztina1</td><td>Bori Krisztina</td><td>6</td><td>54</td></tr>",
                            "<tr><td>KRISZTIANM</td><td>Mogyródi Krisztián</td><td>6</td><td>54</td></tr>",
                            "<tr><td>lala</td><td>Nagymihály Lajos</td><td>6</td><td>54</td></tr>",
                            "<tr><td>katalin4</td><td>Kertész Katalin</td><td>6</td><td>54</td></tr>",
                            "<tr><td>gabor1</td><td>Köves Gábor</td><td>6</td><td>54</td></tr>",
                            "<tr><td>gabriella1</td><td>Nagy Gabriella</td><td>6</td><td>54</td></tr>",
                            "<tr><td>ARPADM</td><td>Móricz Árpád</td><td>6</td><td>54</td></tr>",
                            "<tr><td>ANNAMARIAR</td><td>Regős Annamária</td><td>6</td><td>54</td></tr>",
                            "<tr><td>aron2</td><td>Jakab Áron</td><td>6</td><td>54</td></tr>",
                            "<tr><td>attila1</td><td>Gulyás Attila</td><td>6</td><td>54</td></tr>",
                            "<tr><td>andrea</td><td>Kiss Andrea</td><td>6</td><td>54</td></tr>",
                            "<tr><td>AGNESH</td><td>Horváth Ágnes</td><td>6</td><td>54</td></tr>",
                            "<tr><td>adam4</td><td>Bieniek Ádám</td><td>6</td><td>54</td></tr>",
                            "<tr><td>beata4</td><td>Bagi Beáta</td><td>6</td><td>54</td></tr>",
                            "<tr><td>BENCEB</td><td>Bajusz Bence</td><td>6</td><td>54</td></tr>",
                            "<tr><td>bertalan</td><td>Csiger Bertalan</td><td>6</td><td>54</td></tr>",
                            "<tr><td>BEATRIXS</td><td>Szekendi Beatrix</td><td>6</td><td>54</td></tr>",
                            "<tr><td>BELAF</td><td>Farkas Béla</td><td>6</td><td>54</td></tr>",
                            "<tr><td>balazs3</td><td>Bakódy Balázs</td><td>6</td><td>54</td></tr>",
                            "<tr><td>balazs1</td><td>Bozsik Balázs</td><td>6</td><td>54</td></tr>",
                            "<tr><td>david1</td><td>Sobják Dávid</td><td>6</td><td>54</td></tr>",
                            "<tr><td>denes</td><td>Tömböly Dénes</td><td>6</td><td>54</td></tr>",
                            "<tr><td>dora3</td><td>Sarodi Dóra</td><td>5</td><td>87</td></tr>",
                            "<tr><td>EVAV</td><td>Viktor Éva</td><td>5</td><td>87</td></tr>",
                            "<tr><td>brigitta</td><td>Székely Brigitta</td><td>5</td><td>87</td></tr>",
                            "<tr><td>brigitta3</td><td>Pataki Brigitta</td><td>5</td><td>87</td></tr>",
                            "<tr><td>agnes</td><td>Lengyel Ágnes</td><td>5</td><td>87</td></tr>",
                            "<tr><td>ANDRASE</td><td>Erdei András</td><td>5</td><td>87</td></tr>",
                            "<tr><td>andi</td><td>Maródi Andrea</td><td>5</td><td>87</td></tr>",
                            "<tr><td>andras2</td><td>Tóth András</td><td>5</td><td>87</td></tr>",
                            "<tr><td>gusztav</td><td>Bárci Gusztáv</td><td>5</td><td>87</td></tr>",
                            "<tr><td>julia</td><td>Tóth Júlia</td><td>5</td><td>87</td></tr>",
                            "<tr><td>janos3</td><td>Harangozó János</td><td>5</td><td>87</td></tr>",
                            "<tr><td>jozsef2</td><td>Vajda József</td><td>5</td><td>87</td></tr>",
                            "<tr><td>KRISZTINAG</td><td>Gyárfás Krisztina</td><td>5</td><td>87</td></tr>",
                            "<tr><td>laszlo2</td><td>Móra László</td><td>5</td><td>87</td></tr>",
                            "<tr><td>mark</td><td>Kispál Márk</td><td>5</td><td>87</td></tr>",
                            "<tr><td>MIHALYJ</td><td>Juhász Mihály</td><td>5</td><td>87</td></tr>",
                            "<tr><td>pal</td><td>Barabás Pál</td><td>5</td><td>87</td></tr>",
                            "<tr><td>norbert</td><td>Szűcs Norbert</td><td>5</td><td>87</td></tr>",
                            "<tr><td>PETERB</td><td>Berendi Péter</td><td>5</td><td>87</td></tr>",
                            "<tr><td>RENATAS</td><td>Szirmai Renáta</td><td>5</td><td>87</td></tr>",
                            "<tr><td>SEBASTIANF</td><td>Foltényi Sebastián</td><td>5</td><td>87</td></tr>",
                            "<tr><td>reka4</td><td>Szikszai Réka</td><td>5</td><td>87</td></tr>",
                            "<tr><td>timea2</td><td>Dusha Tímea</td><td>5</td><td>87</td></tr>",
                            "<tr><td>valentin</td><td>Feró Valentin</td><td>5</td><td>87</td></tr>",
                            "<tr><td>sandor3</td><td>Farkas Sándor</td><td>5</td><td>87</td></tr>",
                            "<tr><td>sandor4</td><td>Nagy Sándor</td><td>4</td><td>112</td></tr>",
                            "<tr><td>VIKTORIAU</td><td>Urbán Viktoria</td><td>4</td><td>112</td></tr>",
                            "<tr><td>tamas</td><td>Antal Tamás</td><td>4</td><td>112</td></tr>",
                            "<tr><td>sandor</td><td>Karasz Sándor</td><td>4</td><td>112</td></tr>",
                            "<tr><td>roland</td><td>Tóth Roland</td><td>4</td><td>112</td></tr>",
                            "<tr><td>roland1</td><td>Ferencz Roland</td><td>4</td><td>112</td></tr>",
                            "<tr><td>sebestyen</td><td>Rab Sebestyén</td><td>4</td><td>112</td></tr>",
                            "<tr><td>robert2</td><td>Patay Róbert</td><td>4</td><td>112</td></tr>",
                            "<tr><td>rajmond4</td><td>Rácz Rajmond</td><td>4</td><td>112</td></tr>",
                            "<tr><td>zsolt1</td><td>Pulai Zsolt</td><td>4</td><td>112</td></tr>",
                            "<tr><td>zsuzsa3</td><td>Varsányi Zsuzsa</td><td>4</td><td>112</td></tr>",
                            "<tr><td>zsuzsanna</td><td>Barta Zsuzsanna</td><td>4</td><td>112</td></tr>",
                            "<tr><td>nikolett3</td><td>Horváth Nikolett</td><td>4</td><td>112</td></tr>",
                            "<tr><td>peter1</td><td>Kozma Péter</td><td>4</td><td>112</td></tr>",
                            "<tr><td>peter2</td><td>Bozsó Péter</td><td>4</td><td>112</td></tr>",
                            "<tr><td>NIKOLETTAT</td><td>Tatár Nikoletta</td><td>4</td><td>112</td></tr>",
                            "<tr><td>MARKH</td><td>Horváth Márk</td><td>4</td><td>112</td></tr>",
                            "<tr><td>LASZLOA</td><td>Antal László</td><td>4</td><td>112</td></tr>",
                            "<tr><td>JANOSP</td><td>Pálinkás János</td><td>4</td><td>112</td></tr>",
                            "<tr><td>julianna4</td><td>Szabó Julianna</td><td>4</td><td>112</td></tr>",
                            "<tr><td>eva2</td><td>Perlinger Éva</td><td>4</td><td>112</td></tr>",
                            "<tr><td>georgij</td><td>Nyíri Georgij</td><td>4</td><td>112</td></tr>",
                            "<tr><td>gabor4</td><td>Telek Gábor</td><td>4</td><td>112</td></tr>",
                            "<tr><td>istvan1</td><td>Vizi István</td><td>4</td><td>112</td></tr>",
                            "<tr><td>ilona3</td><td>Bosnyák Ilona</td><td>4</td><td>112</td></tr>",
                            "<tr><td>aniko4</td><td>Böröcz Anikó</td><td>4</td><td>112</td></tr>",
                            "<tr><td>anita</td><td>Hamvay-Kovács Anita</td><td>4</td><td>112</td></tr>",
                            "<tr><td>andrea4</td><td>Neizer Andrea</td><td>4</td><td>112</td></tr>",
                            "<tr><td>ATTILAO</td><td>Opra Attila</td><td>4</td><td>112</td></tr>",
                            "<tr><td>ferenc1</td><td>Orosz Ferenc</td><td>4</td><td>112</td></tr>",
                            "<tr><td>ESZTERE</td><td>Érsek Eszter</td><td>4</td><td>112</td></tr>",
                            "<tr><td>eszter</td><td>Molnár Eszter</td><td>4</td><td>112</td></tr>",
                            "<tr><td>debora</td><td>Barna Debóra</td><td>4</td><td>112</td></tr>",
                            "<tr><td>eszter4</td><td>Fülöp Eszter</td><td>3</td><td>145</td></tr>",
                            "<tr><td>balint</td><td>Horváth Bálint</td><td>3</td><td>145</td></tr>",
                            "<tr><td>ANDREAT</td><td>Tornyos Andrea</td><td>3</td><td>145</td></tr>",
                            "<tr><td>aniko</td><td>Tóth Anikó</td><td>3</td><td>145</td></tr>",
                            "<tr><td>attila4</td><td>Baróti Attila</td><td>3</td><td>145</td></tr>",
                            "<tr><td>attila</td><td>Csóti Attila</td><td>3</td><td>145</td></tr>",
                            "<tr><td>andras4</td><td>Back András</td><td>3</td><td>145</td></tr>",
                            "<tr><td>agnes3</td><td>Hartyánszky Ágnes</td><td>3</td><td>145</td></tr>",
                            "<tr><td>adam1</td><td>Kiss Ádám</td><td>3</td><td>145</td></tr>",
                            "<tr><td>AGNESK</td><td>Kovács Ágnes</td><td>3</td><td>145</td></tr>",
                            "<tr><td>aladar</td><td>Dunai Aladár</td><td>3</td><td>145</td></tr>",
                            "<tr><td>henrik3</td><td>Nádudvari Henrik</td><td>3</td><td>145</td></tr>",
                            "<tr><td>IBOLYAA</td><td>Andor Ibolya</td><td>3</td><td>145</td></tr>",
                            "<tr><td>istvan</td><td>Soós István</td><td>3</td><td>145</td></tr>",
                            "<tr><td>klaudia2</td><td>Bakó Klaudia</td><td>3</td><td>145</td></tr>",
                            "<tr><td>kornel4</td><td>Lukács Kornél</td><td>3</td><td>145</td></tr>",
                            "<tr><td>jozsef</td><td>Gergely József</td><td>3</td><td>145</td></tr>",
                            "<tr><td>JUDITH</td><td>Hídasi Judit</td><td>3</td><td>145</td></tr>",
                            "<tr><td>MATEK</td><td>Koza Máté</td><td>3</td><td>145</td></tr>",
                            "<tr><td>lajos</td><td>Kiss Lajos</td><td>3</td><td>145</td></tr>",
                            "<tr><td>NANDORF</td><td>Fő Nándor</td><td>3</td><td>145</td></tr>",
                            "<tr><td>miklos2</td><td>Gondos Miklós</td><td>3</td><td>145</td></tr>",
                            "<tr><td>MIKLOSB</td><td>Balla Miklós</td><td>3</td><td>145</td></tr>",
                            "<tr><td>norbert5</td><td>Béres Norbert</td><td>3</td><td>145</td></tr>",
                            "<tr><td>ZOLTANT</td><td>Tóth Zoltán</td><td>3</td><td>145</td></tr>",
                            "<tr><td>zsuzsa</td><td>Pusztai Zsuzsanna</td><td>3</td><td>145</td></tr>",
                            "<tr><td>roza2</td><td>Bucskó Róza</td><td>3</td><td>145</td></tr>",
                            "<tr><td>ROBERTP</td><td>Pásztor Róbert</td><td>2</td><td>172</td></tr>",
                            "<tr><td>VIKTORK</td><td>Keresztúri Viktor</td><td>2</td><td>172</td></tr>",
                            "<tr><td>tibor</td><td>Gombos Tibor</td><td>2</td><td>172</td></tr>",
                            "<tr><td>tamara2</td><td>Miklós Tamara</td><td>2</td><td>172</td></tr>",
                            "<tr><td>zoltan</td><td>Fodor Zoltán</td><td>2</td><td>172</td></tr>",
                            "<tr><td>zsofi1</td><td>Molnár Zsófi</td><td>2</td><td>172</td></tr>",
                            "<tr><td>matyas2</td><td>Botka Mátyás</td><td>2</td><td>172</td></tr>",
                            "<tr><td>julia4</td><td>Nagy Júlia</td><td>2</td><td>172</td></tr>",
                            "<tr><td>kristof4</td><td>Poprádi Kristóf</td><td>2</td><td>172</td></tr>",
                            "<tr><td>ISTVANV</td><td>Varga István</td><td>2</td><td>172</td></tr>",
                            "<tr><td>imre</td><td>Búza Imre</td><td>2</td><td>172</td></tr>",
                            "<tr><td>adam3</td><td>Barkóci Ádám</td><td>2</td><td>172</td></tr>",
                            "<tr><td>annamaria1</td><td>Szűcs Annamária</td><td>2</td><td>172</td></tr>",
                            "<tr><td>balint2</td><td>Vukasinovity Bálint</td><td>2</td><td>172</td></tr>",
                            "<tr><td>balu</td><td>Endresz Bálint</td><td>2</td><td>172</td></tr>",
                            "<tr><td>eva</td><td>Enyedi Éva</td><td>2</td><td>172</td></tr>",
                            "<tr><td>david4</td><td>Berta Dávid</td><td>1</td><td>188</td></tr>",
                            "<tr><td>ANDRASN</td><td>Nagy András</td><td>1</td><td>188</td></tr>",
                            "<tr><td>andrea3</td><td>Szomor Andrea</td><td>1</td><td>188</td></tr>",
                            "<tr><td>gabriella10</td><td>Vida Gabriella</td><td>1</td><td>188</td></tr>",
                            "<tr><td>laszlo1</td><td>Farkas László</td><td>1</td><td>188</td></tr>",
                            "<tr><td>tibor2</td><td>Dániel Tibor</td><td>1</td><td>188</td></tr>",
                            "<tr><td>timea</td><td>Papós Tímea</td><td>1</td><td>188</td></tr>",
                            "<tr><td>szabolcs</td><td>Bodor Szabolcs</td><td>1</td><td>188</td></tr>",
                            "</table>"
                        ]
                    }
                }
            ],
            "execution_count": 23
        },
        {
            "cell_type": "markdown",
            "source": [
                "Készítsen lekérdezést, amely megjeleníti, hogy szálláshelyenként, azon belül a pótágyak száma szerint hány főre foglaltak összesen (felnőtt + gyermek)!\n",
                "\n",
                "- Jelenjenek meg a részösszegek és a végösszeg is!"
            ],
            "metadata": {
                "language": "sql",
                "azdata_cell_guid": "f421d5f0-baf7-4933-b828-72ae9d537936"
            },
            "attachments": {}
        },
        {
            "cell_type": "code",
            "source": [
                "select  iif(GROUPING_ID(szh.szallas_nev) = 1, 'Végösszeg', cast(szh.szallas_nev as nvarchar)) as 'Szállásnév',\r\n",
                "        case    when grouping_id(szh.szallas_nev,Potagy) = 1 then 'Részösszeg'\r\n",
                "                when grouping_id(szh.szallas_nev,potagy) = 3 then 'Végösszeg'\r\n",
                "                else cast(potagy as nvarchar)\r\n",
                "        end as 'Pótágyak',\r\n",
                "        sum(FELNOTT_SZAM + GYERMEK_SZAM) as 'Össz. foglalások'\r\n",
                "from szoba sz\r\n",
                "join foglalas f on sz.szoba_id = f.szoba_fk\r\n",
                "join szallashely szh on szh.SZALLAS_ID = sz.SZOBA_ID\r\n",
                "group by rollup(szh.szallas_nev,sz.potagy)"
            ],
            "metadata": {
                "language": "sql",
                "azdata_cell_guid": "88f90716-9095-4b3f-9069-c7b02c525a5e"
            },
            "outputs": [
                {
                    "output_type": "display_data",
                    "data": {
                        "text/html": "(40 rows affected)"
                    },
                    "metadata": {}
                },
                {
                    "output_type": "display_data",
                    "data": {
                        "text/html": "Total execution time: 00:00:00.016"
                    },
                    "metadata": {}
                },
                {
                    "output_type": "execute_result",
                    "metadata": {},
                    "execution_count": 31,
                    "data": {
                        "application/vnd.dataresource+json": {
                            "schema": {
                                "fields": [
                                    {
                                        "name": "Szállásnév"
                                    },
                                    {
                                        "name": "Pótágyak"
                                    },
                                    {
                                        "name": "Össz. foglalások"
                                    }
                                ]
                            },
                            "data": [
                                {
                                    "Szállásnév": "Bagoly Hotel",
                                    "Pótágyak": "1",
                                    "Össz. foglalások": "15"
                                },
                                {
                                    "Szállásnév": "Bagoly Hotel",
                                    "Pótágyak": "Részösszeg",
                                    "Össz. foglalások": "15"
                                },
                                {
                                    "Szállásnév": "Családi Ház",
                                    "Pótágyak": "1",
                                    "Össz. foglalások": "15"
                                },
                                {
                                    "Szállásnév": "Családi Ház",
                                    "Pótágyak": "Részösszeg",
                                    "Össz. foglalások": "15"
                                },
                                {
                                    "Szállásnév": "Fortuna Apartman",
                                    "Pótágyak": "1",
                                    "Össz. foglalások": "24"
                                },
                                {
                                    "Szállásnév": "Fortuna Apartman",
                                    "Pótágyak": "2",
                                    "Össz. foglalások": "18"
                                },
                                {
                                    "Szállásnév": "Fortuna Apartman",
                                    "Pótágyak": "Részösszeg",
                                    "Össz. foglalások": "42"
                                },
                                {
                                    "Szállásnév": "Fortuna Panzió",
                                    "Pótágyak": "0",
                                    "Össz. foglalások": "7"
                                },
                                {
                                    "Szállásnév": "Fortuna panzió",
                                    "Pótágyak": "1",
                                    "Össz. foglalások": "10"
                                },
                                {
                                    "Szállásnév": "Fortuna Panzió",
                                    "Pótágyak": "Részösszeg",
                                    "Össz. foglalások": "17"
                                },
                                {
                                    "Szállásnév": "Gold Hotel",
                                    "Pótágyak": "1",
                                    "Össz. foglalások": "20"
                                },
                                {
                                    "Szállásnév": "Gold Hotel",
                                    "Pótágyak": "Részösszeg",
                                    "Össz. foglalások": "20"
                                },
                                {
                                    "Szállásnév": "Hotel Három Hattyú",
                                    "Pótágyak": "0",
                                    "Össz. foglalások": "11"
                                },
                                {
                                    "Szállásnév": "Hotel Három Hattyú",
                                    "Pótágyak": "Részösszeg",
                                    "Össz. foglalások": "11"
                                },
                                {
                                    "Szállásnév": "Jáde panzió",
                                    "Pótágyak": "1",
                                    "Össz. foglalások": "21"
                                },
                                {
                                    "Szállásnév": "Jáde panzió",
                                    "Pótágyak": "Részösszeg",
                                    "Össz. foglalások": "21"
                                },
                                {
                                    "Szállásnév": "Kentaur Hotel",
                                    "Pótágyak": "0",
                                    "Össz. foglalások": "14"
                                },
                                {
                                    "Szállásnév": "Kentaur Hotel",
                                    "Pótágyak": "Részösszeg",
                                    "Össz. foglalások": "14"
                                },
                                {
                                    "Szállásnév": "Kollégium",
                                    "Pótágyak": "0",
                                    "Össz. foglalások": "13"
                                },
                                {
                                    "Szállásnév": "Kollégium",
                                    "Pótágyak": "Részösszeg",
                                    "Össz. foglalások": "13"
                                },
                                {
                                    "Szállásnév": "Lagúna Hotel",
                                    "Pótágyak": "0",
                                    "Össz. foglalások": "8"
                                },
                                {
                                    "Szállásnév": "Lagúna Hotel",
                                    "Pótágyak": "Részösszeg",
                                    "Össz. foglalások": "8"
                                },
                                {
                                    "Szállásnév": "Müller Vendégház",
                                    "Pótágyak": "1",
                                    "Össz. foglalások": "10"
                                },
                                {
                                    "Szállásnév": "Müller Vendégház",
                                    "Pótágyak": "Részösszeg",
                                    "Össz. foglalások": "10"
                                },
                                {
                                    "Szállásnév": "Nyárfás Vendégház",
                                    "Pótágyak": "1",
                                    "Össz. foglalások": "15"
                                },
                                {
                                    "Szállásnév": "Nyárfás Vendégház",
                                    "Pótágyak": "2",
                                    "Össz. foglalások": "11"
                                },
                                {
                                    "Szállásnév": "Nyárfás Vendégház",
                                    "Pótágyak": "Részösszeg",
                                    "Össz. foglalások": "26"
                                },
                                {
                                    "Szállásnév": "Partiszél Vendégház",
                                    "Pótágyak": "1",
                                    "Össz. foglalások": "9"
                                },
                                {
                                    "Szállásnév": "Partiszél Vendégház",
                                    "Pótágyak": "Részösszeg",
                                    "Össz. foglalások": "9"
                                },
                                {
                                    "Szállásnév": "Riviéra Panzió",
                                    "Pótágyak": "0",
                                    "Össz. foglalások": "10"
                                },
                                {
                                    "Szállásnév": "Riviéra Panzió",
                                    "Pótágyak": "Részösszeg",
                                    "Össz. foglalások": "10"
                                },
                                {
                                    "Szállásnév": "Sába-Ház",
                                    "Pótágyak": "0",
                                    "Össz. foglalások": "17"
                                },
                                {
                                    "Szállásnév": "Sába-Ház",
                                    "Pótágyak": "Részösszeg",
                                    "Össz. foglalások": "17"
                                },
                                {
                                    "Szállásnév": "Szarvas Hotel",
                                    "Pótágyak": "1",
                                    "Össz. foglalások": "17"
                                },
                                {
                                    "Szállásnév": "Szarvas Hotel",
                                    "Pótágyak": "Részösszeg",
                                    "Össz. foglalások": "17"
                                },
                                {
                                    "Szállásnév": "Szieszta Apartmanház",
                                    "Pótágyak": "0",
                                    "Össz. foglalások": "10"
                                },
                                {
                                    "Szállásnév": "Szieszta Apartmanház",
                                    "Pótágyak": "Részösszeg",
                                    "Össz. foglalások": "10"
                                },
                                {
                                    "Szállásnév": "Tímárház Panzió",
                                    "Pótágyak": "1",
                                    "Össz. foglalások": "16"
                                },
                                {
                                    "Szállásnév": "Tímárház Panzió",
                                    "Pótágyak": "Részösszeg",
                                    "Össz. foglalások": "16"
                                },
                                {
                                    "Szállásnév": "Végösszeg",
                                    "Pótágyak": "Végösszeg",
                                    "Össz. foglalások": "291"
                                }
                            ]
                        },
                        "text/html": [
                            "<table>",
                            "<tr><th>Szállásnév</th><th>Pótágyak</th><th>Össz. foglalások</th></tr>",
                            "<tr><td>Bagoly Hotel</td><td>1</td><td>15</td></tr>",
                            "<tr><td>Bagoly Hotel</td><td>Részösszeg</td><td>15</td></tr>",
                            "<tr><td>Családi Ház</td><td>1</td><td>15</td></tr>",
                            "<tr><td>Családi Ház</td><td>Részösszeg</td><td>15</td></tr>",
                            "<tr><td>Fortuna Apartman</td><td>1</td><td>24</td></tr>",
                            "<tr><td>Fortuna Apartman</td><td>2</td><td>18</td></tr>",
                            "<tr><td>Fortuna Apartman</td><td>Részösszeg</td><td>42</td></tr>",
                            "<tr><td>Fortuna Panzió</td><td>0</td><td>7</td></tr>",
                            "<tr><td>Fortuna panzió</td><td>1</td><td>10</td></tr>",
                            "<tr><td>Fortuna Panzió</td><td>Részösszeg</td><td>17</td></tr>",
                            "<tr><td>Gold Hotel</td><td>1</td><td>20</td></tr>",
                            "<tr><td>Gold Hotel</td><td>Részösszeg</td><td>20</td></tr>",
                            "<tr><td>Hotel Három Hattyú</td><td>0</td><td>11</td></tr>",
                            "<tr><td>Hotel Három Hattyú</td><td>Részösszeg</td><td>11</td></tr>",
                            "<tr><td>Jáde panzió</td><td>1</td><td>21</td></tr>",
                            "<tr><td>Jáde panzió</td><td>Részösszeg</td><td>21</td></tr>",
                            "<tr><td>Kentaur Hotel</td><td>0</td><td>14</td></tr>",
                            "<tr><td>Kentaur Hotel</td><td>Részösszeg</td><td>14</td></tr>",
                            "<tr><td>Kollégium</td><td>0</td><td>13</td></tr>",
                            "<tr><td>Kollégium</td><td>Részösszeg</td><td>13</td></tr>",
                            "<tr><td>Lagúna Hotel</td><td>0</td><td>8</td></tr>",
                            "<tr><td>Lagúna Hotel</td><td>Részösszeg</td><td>8</td></tr>",
                            "<tr><td>Müller Vendégház</td><td>1</td><td>10</td></tr>",
                            "<tr><td>Müller Vendégház</td><td>Részösszeg</td><td>10</td></tr>",
                            "<tr><td>Nyárfás Vendégház</td><td>1</td><td>15</td></tr>",
                            "<tr><td>Nyárfás Vendégház</td><td>2</td><td>11</td></tr>",
                            "<tr><td>Nyárfás Vendégház</td><td>Részösszeg</td><td>26</td></tr>",
                            "<tr><td>Partiszél Vendégház</td><td>1</td><td>9</td></tr>",
                            "<tr><td>Partiszél Vendégház</td><td>Részösszeg</td><td>9</td></tr>",
                            "<tr><td>Riviéra Panzió</td><td>0</td><td>10</td></tr>",
                            "<tr><td>Riviéra Panzió</td><td>Részösszeg</td><td>10</td></tr>",
                            "<tr><td>Sába-Ház</td><td>0</td><td>17</td></tr>",
                            "<tr><td>Sába-Ház</td><td>Részösszeg</td><td>17</td></tr>",
                            "<tr><td>Szarvas Hotel</td><td>1</td><td>17</td></tr>",
                            "<tr><td>Szarvas Hotel</td><td>Részösszeg</td><td>17</td></tr>",
                            "<tr><td>Szieszta Apartmanház</td><td>0</td><td>10</td></tr>",
                            "<tr><td>Szieszta Apartmanház</td><td>Részösszeg</td><td>10</td></tr>",
                            "<tr><td>Tímárház Panzió</td><td>1</td><td>16</td></tr>",
                            "<tr><td>Tímárház Panzió</td><td>Részösszeg</td><td>16</td></tr>",
                            "<tr><td>Végösszeg</td><td>Végösszeg</td><td>291</td></tr>",
                            "</table>"
                        ]
                    }
                }
            ],
            "execution_count": 31
        },
        {
            "cell_type": "markdown",
            "source": [
                "Készítsünk ideiglenes táblát #MASKED\\_GUEST néven, ahol \n",
                "\n",
                "- a tábla felépítése megegyezik a vendég tábláéval, DE\n",
                "- a vendégek nevének csak az első 2, és az utolsó 3 karaktere jelenjen meg, közötte X-ek legyenek!"
            ],
            "metadata": {
                "language": "sql",
                "azdata_cell_guid": "7bb25c68-9714-4a06-b89f-826061b4da42"
            },
            "attachments": {}
        },
        {
            "cell_type": "code",
            "source": [
                "create table #MASKED_GUEST\r\n",
                "(\r\n",
                "    USERNEV NVARCHAR(30) PRIMARY KEY,\r\n",
                "    NEV NVARCHAR(50) MASKED WITH (FUNCTION = 'partial(2,\"XXX\",3)'),\r\n",
                "    EMAIL NVARCHAR(50),\r\n",
                "    SZAML_CIM NVARCHAR(100),\r\n",
                "    SZUL_DAT DATE\r\n",
                ")\r\n",
                "-- remélem elég az nvarchar-ok hossza"
            ],
            "metadata": {
                "language": "sql",
                "azdata_cell_guid": "1e9095f6-1620-4a1b-8e37-dc8d28152137"
            },
            "outputs": [],
            "execution_count": null
        },
        {
            "cell_type": "markdown",
            "source": [
                "Oldja meg REDIS-ben a következő feladatokat:\n",
                "\n",
                "- hozzon létre egy string kulcsot, amely egy könyvtár nevét tartalmazza\n",
                "- hozzon létre egy hash kulcsot, amely egy könyv legalább 3 adatát tartalmazza\n",
                "- hozzon létre egy set kulcsot, amely a könyvtárban lévő könyvek műfajait tartalmazza (legalább 3)\n",
                "- hozzon létre egy list kulcsot, amely a kikölcsönzött könyvek címeit tartalmazza (legalább 3)\n",
                "- hozzon létre egy sorted set kulcsot, amely az adott könyvek címeit és a könyv kölcsönzéseinek számát tartalmazza (legalább 3)"
            ],
            "metadata": {
                "language": "sql",
                "azdata_cell_guid": "6b897b73-a704-4d2c-af36-ad27d30e3abd"
            },
            "attachments": {}
        },
        {
            "cell_type": "code",
            "source": [
                "set konyvtarnev 'Gyöngyösi Könyvtár'\r\n",
                "hset konyv:1 Cim 'A Gyűrűk Ura' Iro 'J.R.R. Tolkien' Oldalszam '420'\r\n",
                "sadd mufajok 'Dráma' 'Regény' 'Líra'\r\n",
                "rpush kolcsonzes 'Egri Csillagok' 'Csillagok Háborúja' 'A Pál utcai fiúk'\r\n",
                "zadd kolcsonzesek_szama 10 'Az ürgeöntés alapjai' 20 'Tudományos SQL' 30 'Legkomolyabb Adatbázisok'"
            ],
            "metadata": {
                "language": "sql",
                "azdata_cell_guid": "ca86b5d8-082c-4db3-9044-4679c389b6d5",
                "tags": []
            },
            "outputs": [],
            "execution_count": null
        },
        {
            "cell_type": "markdown",
            "source": [
                "Cassandra CQL Shellben hozza létre a következő táblát:\n",
                "\n",
                "STUDENT(ID, Nev, Teljesitett\\_felevek, Eredmenyek, Nyelvtudas)\n",
                "\n",
                "- Az ID legyen az elsődleges kulcs\n",
                "- A Teljesitett félévek legyen LIST, tartalma egész számok, pl: 1, 2, 3\n",
                "- Az Eredmenyek legyen MAP, tartalma, hogy melyik félévben mennyi volt az átlag, pl: 1: 3,00, 2: 4.55, 3: 4,10\n",
                "- A Nyelvtudas legyen SET, tartalma a nyelvek megnevezése\n",
                "\n",
                "Vigyen fel legalább 2 rekordot!"
            ],
            "metadata": {
                "language": "sql",
                "azdata_cell_guid": "5b03c7a7-5f55-4b16-aa96-caafc5a38117"
            },
            "attachments": {}
        },
        {
            "cell_type": "code",
            "source": [
                "token@cqlsh:gyakorlo> create table STUDENT (ID INT, Nev TEXT, Teljesitett_felevek LIST<INT>, Eredmenyek MAP<INT,FLOAT>, Nyelvtudas SET<TEXT>, primary key(ID));\r\n",
                "token@cqlsh:gyakorlo> insert into STUDENT (ID, Nev, Teljesitett_felevek, Eredmenyek, Nyelvtudas) VALUES (1, 'Dibusz Dénes', [1,2], {1:3.98, 2:4.54}, {'Angol', 'Magyar'});\r\n",
                "token@cqlsh:gyakorlo> insert into STUDENT (ID, Nev, Teljesitett_felevek, Eredmenyek, Nyelvtudas) VALUES (2, 'Lovrencsics Gergő', [1,2,3], {1:5.00, 2:4.98, 3:4.67}, {'Német', 'Magyar'});"
            ],
            "metadata": {
                "language": "sql",
                "azdata_cell_guid": "141dca35-d17e-4a77-a4ee-feaa7949bd14",
                "tags": []
            },
            "outputs": [],
            "execution_count": null
        },
        {
            "cell_type": "markdown",
            "source": [
                "![](data:image/png;base64,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)"
            ],
            "metadata": {
                "language": "sql",
                "azdata_cell_guid": "a0c944fa-81a5-4a73-ae3d-9780befcb215"
            },
            "attachments": {}
        },
        {
            "cell_type": "markdown",
            "source": [
                "A Neo4j Sandbox-ban vagy a Desktopban jelenítsük meg azon személyeket, akik egy filmben szerepeltek Tom Hanks-sel.\n",
                "\n",
                "- Egy szereplő neve csak egyszer jelenjen meg\n",
                "- Tom Hanks ne legyen benne a listában"
            ],
            "metadata": {
                "language": "sql",
                "azdata_cell_guid": "f5e5d889-a968-466d-bfda-f9f2f4b404a6"
            },
            "attachments": {}
        },
        {
            "cell_type": "code",
            "source": [
                "match (p:Person)-[:ACTED_IN]->(m:Movie)<-[:ACTED_IN]-(p2:Person)\r\n",
                "where p2.name = 'Tom Hanks' and p.name <> 'Tom Hanks'\r\n",
                "return distinct p.name\r\n",
                "\r\n",
                "-- Köszönjük a félévet Tanár Úr! Kellemes nyarat kívánunk (^.^)\r\n",
                "-- GINF23/24"
            ],
            "metadata": {
                "language": "sql",
                "azdata_cell_guid": "d172457a-fc68-4412-a77d-3e0179ed1f7b"
            },
            "outputs": [],
            "execution_count": null
        }
    ]
}
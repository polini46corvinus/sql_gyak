{
    "metadata": {
        "kernelspec": {
            "name": "SQL",
            "display_name": "SQL",
            "language": "sql"
        },
        "language_info": {
            "name": "sql",
            "version": ""
        }
    },
    "nbformat_minor": 2,
    "nbformat": 4,
    "cells": [
        {
            "cell_type": "markdown",
            "source": [
                "1. <span style=\"color: rgb(36, 41, 47); font-family: -apple-system, BlinkMacSystemFont, &quot;Segoe UI&quot;, Helvetica, Arial, sans-serif, &quot;Apple Color Emoji&quot;, &quot;Segoe UI Emoji&quot;; font-size: 16px;\">Készítsünk listát éves bontásban norbert2 azonosítójú ügyfél rendeléseinek értékéről!</span>\n",
                "\n",
                "1. A lista megfelelően jelölve tartalmazza a végösszeget is!"
            ],
            "metadata": {
                "azdata_cell_guid": "363cd270-6577-449b-9c89-d4b7c7972d52"
            },
            "attachments": {}
        },
        {
            "cell_type": "code",
            "source": [
                "select  iif(grouping_id(year(r.rend_datum))=1,'Összesen',cast(year(r.rend_datum) as nvarchar(10))), ----- isten vagyok\r\n",
                "        sum(rt.EGYSEGAR*rt.MENNYISEG)\r\n",
                "from rendeles r\r\n",
                "join rendeles_tetel rt on r.sorszam = rt.sorszam\r\n",
                "\r\n",
                "where r.LOGIN = 'norbert2'\r\n",
                "group by rollup(year(r.rend_datum))"
            ],
            "metadata": {
                "azdata_cell_guid": "6ab9f633-a3b5-48c9-a1dc-4fb8235ae85b",
                "language": "sql"
            },
            "outputs": [
                {
                    "output_type": "display_data",
                    "data": {
                        "text/html": "(3 rows affected)"
                    },
                    "metadata": {}
                },
                {
                    "output_type": "display_data",
                    "data": {
                        "text/html": "Total execution time: 00:00:00.011"
                    },
                    "metadata": {}
                },
                {
                    "output_type": "execute_result",
                    "metadata": {},
                    "execution_count": 10,
                    "data": {
                        "application/vnd.dataresource+json": {
                            "schema": {
                                "fields": [
                                    {
                                        "name": "(No column name)"
                                    },
                                    {
                                        "name": "(No column name)"
                                    }
                                ]
                            },
                            "data": [
                                {
                                    "(No column name)": "483473"
                                },
                                {
                                    "(No column name)": "614340"
                                },
                                {
                                    "(No column name)": "1097813"
                                }
                            ]
                        },
                        "text/html": [
                            "<table>",
                            "<tr><th>(No column name)</th><th>(No column name)</th></tr>",
                            "<tr><td>2015</td><td>483473</td></tr>",
                            "<tr><td>2017</td><td>614340</td></tr>",
                            "<tr><td>Összesen</td><td>1097813</td></tr>",
                            "</table>"
                        ]
                    }
                }
            ],
            "execution_count": 10
        },
        {
            "cell_type": "markdown",
            "source": [
                "2. <span style=\"color: rgb(36, 41, 47); font-family: -apple-system, BlinkMacSystemFont, &quot;Segoe UI&quot;, Helvetica, Arial, sans-serif, &quot;Apple Color Emoji&quot;, &quot;Segoe UI Emoji&quot;; font-size: 16px;\">Készítsünk listát szállítási dátumonként, azon belül szállítási módonként az egyes rendelések összmennyiségéről!</span>\n",
                "\n",
                "1. Csak azokat a termékeket vegyük figyelembe, amelyek mennyiségi egysége db!\n",
                "2. A listát szűrjük úgy, hogy az csak a részösszeg sorokat és a végösszeget tartalmazza!"
            ],
            "metadata": {
                "azdata_cell_guid": "ea75c103-911f-41a3-a32c-3d40fb3e4e4a"
            },
            "attachments": {}
        },
        {
            "cell_type": "code",
            "source": [
                "select  iif(grouping_id(r.SZALL_DATUM)=1, 'Összesen', cast(r.SZALL_DATUM as nvarchar(15))) as 'Szállítási dátum',\r\n",
                "        iif(grouping_id(r.SZALL_MOD)=1, 'Összesen', r.SZALL_MOD)  as 'Szállítási mód',\r\n",
                "        sum(rt.MENNYISEG) as 'Mennyiség'\r\n",
                "\r\n",
                "from rendeles r\r\n",
                "join rendeles_tetel rt on r.sorszam = rt.sorszam\r\n",
                "join termek t on rt.TERMEKKOD = t.TERMEKKOD\r\n",
                "\r\n",
                "where t.MEGYS = 'db'\r\n",
                "\r\n",
                "group by rollup(r.SZALL_DATUM, r.SZALL_MOD)\r\n",
                "having r.SZALL_DATUM is null or r.SZALL_MOD is null"
            ],
            "metadata": {
                "azdata_cell_guid": "222b9618-a8e8-42b4-a8e8-d002257122b7",
                "language": "sql",
                "tags": []
            },
            "outputs": [
                {
                    "output_type": "display_data",
                    "data": {
                        "text/html": "(711 rows affected)"
                    },
                    "metadata": {}
                },
                {
                    "output_type": "display_data",
                    "data": {
                        "text/html": "Total execution time: 00:00:00.249"
                    },
                    "metadata": {}
                },
                {
                    "output_type": "execute_result",
                    "metadata": {},
                    "execution_count": 27,
                    "data": {
                        "application/vnd.dataresource+json": {
                            "schema": {
                                "fields": [
                                    {
                                        "name": "Szállítási dátum"
                                    },
                                    {
                                        "name": "Szállítási mód"
                                    },
                                    {
                                        "name": "Mennyiség"
                                    }
                                ]
                            },
                            "data": [
                                {
                                    "Szállítási dátum": "2015-05-03",
                                    "Szállítási mód": "Összesen",
                                    "Mennyiség": "100"
                                },
                                {
                                    "Szállítási dátum": "2015-05-04",
                                    "Szállítási mód": "Összesen",
                                    "Mennyiség": "996"
                                },
                                {
                                    "Szállítási dátum": "2015-05-05",
                                    "Szállítási mód": "Összesen",
                                    "Mennyiség": "3152"
                                },
                                {
                                    "Szállítási dátum": "2015-05-06",
                                    "Szállítási mód": "Összesen",
                                    "Mennyiség": "5030"
                                },
                                {
                                    "Szállítási dátum": "2015-05-07",
                                    "Szállítási mód": "Összesen",
                                    "Mennyiség": "3828"
                                },
                                {
                                    "Szállítási dátum": "2015-05-08",
                                    "Szállítási mód": "Összesen",
                                    "Mennyiség": "3213"
                                },
                                {
                                    "Szállítási dátum": "2015-05-09",
                                    "Szállítási mód": "Összesen",
                                    "Mennyiség": "6665"
                                },
                                {
                                    "Szállítási dátum": "2015-05-10",
                                    "Szállítási mód": "Összesen",
                                    "Mennyiség": "6909"
                                },
                                {
                                    "Szállítási dátum": "2015-05-11",
                                    "Szállítási mód": "Összesen",
                                    "Mennyiség": "6224"
                                },
                                {
                                    "Szállítási dátum": "2015-05-12",
                                    "Szállítási mód": "Összesen",
                                    "Mennyiség": "7568"
                                },
                                {
                                    "Szállítási dátum": "2015-05-13",
                                    "Szállítási mód": "Összesen",
                                    "Mennyiség": "7985"
                                },
                                {
                                    "Szállítási dátum": "2015-05-14",
                                    "Szállítási mód": "Összesen",
                                    "Mennyiség": "9706"
                                },
                                {
                                    "Szállítási dátum": "2015-05-15",
                                    "Szállítási mód": "Összesen",
                                    "Mennyiség": "7400"
                                },
                                {
                                    "Szállítási dátum": "2015-05-16",
                                    "Szállítási mód": "Összesen",
                                    "Mennyiség": "7897"
                                },
                                {
                                    "Szállítási dátum": "2015-05-17",
                                    "Szállítási mód": "Összesen",
                                    "Mennyiség": "4572"
                                },
                                {
                                    "Szállítási dátum": "2015-05-18",
                                    "Szállítási mód": "Összesen",
                                    "Mennyiség": "8190"
                                },
                                {
                                    "Szállítási dátum": "2015-05-19",
                                    "Szállítási mód": "Összesen",
                                    "Mennyiség": "7248"
                                },
                                {
                                    "Szállítási dátum": "2015-05-20",
                                    "Szállítási mód": "Összesen",
                                    "Mennyiség": "9859"
                                },
                                {
                                    "Szállítási dátum": "2015-05-21",
                                    "Szállítási mód": "Összesen",
                                    "Mennyiség": "8041"
                                },
                                {
                                    "Szállítási dátum": "2015-05-22",
                                    "Szállítási mód": "Összesen",
                                    "Mennyiség": "8338"
                                },
                                {
                                    "Szállítási dátum": "2015-05-23",
                                    "Szállítási mód": "Összesen",
                                    "Mennyiség": "5616"
                                },
                                {
                                    "Szállítási dátum": "2015-05-24",
                                    "Szállítási mód": "Összesen",
                                    "Mennyiség": "5001"
                                },
                                {
                                    "Szállítási dátum": "2015-05-25",
                                    "Szállítási mód": "Összesen",
                                    "Mennyiség": "7611"
                                },
                                {
                                    "Szállítási dátum": "2015-05-26",
                                    "Szállítási mód": "Összesen",
                                    "Mennyiség": "7153"
                                },
                                {
                                    "Szállítási dátum": "2015-05-27",
                                    "Szállítási mód": "Összesen",
                                    "Mennyiség": "8300"
                                },
                                {
                                    "Szállítási dátum": "2015-05-28",
                                    "Szállítási mód": "Összesen",
                                    "Mennyiség": "9340"
                                },
                                {
                                    "Szállítási dátum": "2015-05-29",
                                    "Szállítási mód": "Összesen",
                                    "Mennyiség": "10784"
                                },
                                {
                                    "Szállítási dátum": "2015-05-30",
                                    "Szállítási mód": "Összesen",
                                    "Mennyiség": "7763"
                                },
                                {
                                    "Szállítási dátum": "2015-05-31",
                                    "Szállítási mód": "Összesen",
                                    "Mennyiség": "4364"
                                },
                                {
                                    "Szállítási dátum": "2015-06-01",
                                    "Szállítási mód": "Összesen",
                                    "Mennyiség": "6947"
                                },
                                {
                                    "Szállítási dátum": "2015-06-02",
                                    "Szállítási mód": "Összesen",
                                    "Mennyiség": "6241"
                                },
                                {
                                    "Szállítási dátum": "2015-06-03",
                                    "Szállítási mód": "Összesen",
                                    "Mennyiség": "9359"
                                },
                                {
                                    "Szállítási dátum": "2015-06-04",
                                    "Szállítási mód": "Összesen",
                                    "Mennyiség": "8474"
                                },
                                {
                                    "Szállítási dátum": "2015-06-05",
                                    "Szállítási mód": "Összesen",
                                    "Mennyiség": "8961"
                                },
                                {
                                    "Szállítási dátum": "2015-06-06",
                                    "Szállítási mód": "Összesen",
                                    "Mennyiség": "9510"
                                },
                                {
                                    "Szállítási dátum": "2015-06-07",
                                    "Szállítási mód": "Összesen",
                                    "Mennyiség": "7956"
                                },
                                {
                                    "Szállítási dátum": "2015-06-08",
                                    "Szállítási mód": "Összesen",
                                    "Mennyiség": "4277"
                                },
                                {
                                    "Szállítási dátum": "2015-06-09",
                                    "Szállítási mód": "Összesen",
                                    "Mennyiség": "7132"
                                },
                                {
                                    "Szállítási dátum": "2015-06-10",
                                    "Szállítási mód": "Összesen",
                                    "Mennyiség": "9346"
                                },
                                {
                                    "Szállítási dátum": "2015-06-11",
                                    "Szállítási mód": "Összesen",
                                    "Mennyiség": "5191"
                                },
                                {
                                    "Szállítási dátum": "2015-06-12",
                                    "Szállítási mód": "Összesen",
                                    "Mennyiség": "7336"
                                },
                                {
                                    "Szállítási dátum": "2015-06-13",
                                    "Szállítási mód": "Összesen",
                                    "Mennyiség": "7818"
                                },
                                {
                                    "Szállítási dátum": "2015-06-14",
                                    "Szállítási mód": "Összesen",
                                    "Mennyiség": "6484"
                                },
                                {
                                    "Szállítási dátum": "2015-06-15",
                                    "Szállítási mód": "Összesen",
                                    "Mennyiség": "7796"
                                },
                                {
                                    "Szállítási dátum": "2015-06-16",
                                    "Szállítási mód": "Összesen",
                                    "Mennyiség": "4307"
                                },
                                {
                                    "Szállítási dátum": "2015-06-17",
                                    "Szállítási mód": "Összesen",
                                    "Mennyiség": "8645"
                                },
                                {
                                    "Szállítási dátum": "2015-06-18",
                                    "Szállítási mód": "Összesen",
                                    "Mennyiség": "10077"
                                },
                                {
                                    "Szállítási dátum": "2015-06-19",
                                    "Szállítási mód": "Összesen",
                                    "Mennyiség": "5675"
                                },
                                {
                                    "Szállítási dátum": "2015-06-20",
                                    "Szállítási mód": "Összesen",
                                    "Mennyiség": "7859"
                                },
                                {
                                    "Szállítási dátum": "2015-06-21",
                                    "Szállítási mód": "Összesen",
                                    "Mennyiség": "6627"
                                },
                                {
                                    "Szállítási dátum": "2015-06-22",
                                    "Szállítási mód": "Összesen",
                                    "Mennyiség": "9084"
                                },
                                {
                                    "Szállítási dátum": "2015-06-23",
                                    "Szállítási mód": "Összesen",
                                    "Mennyiség": "8869"
                                },
                                {
                                    "Szállítási dátum": "2015-06-24",
                                    "Szállítási mód": "Összesen",
                                    "Mennyiség": "4993"
                                },
                                {
                                    "Szállítási dátum": "2015-06-25",
                                    "Szállítási mód": "Összesen",
                                    "Mennyiség": "8165"
                                },
                                {
                                    "Szállítási dátum": "2015-06-26",
                                    "Szállítási mód": "Összesen",
                                    "Mennyiség": "10834"
                                },
                                {
                                    "Szállítási dátum": "2015-06-27",
                                    "Szállítási mód": "Összesen",
                                    "Mennyiség": "6396"
                                },
                                {
                                    "Szállítási dátum": "2015-06-28",
                                    "Szállítási mód": "Összesen",
                                    "Mennyiség": "6803"
                                },
                                {
                                    "Szállítási dátum": "2015-06-29",
                                    "Szállítási mód": "Összesen",
                                    "Mennyiség": "7435"
                                },
                                {
                                    "Szállítási dátum": "2015-06-30",
                                    "Szállítási mód": "Összesen",
                                    "Mennyiség": "8526"
                                },
                                {
                                    "Szállítási dátum": "2015-07-01",
                                    "Szállítási mód": "Összesen",
                                    "Mennyiség": "6032"
                                },
                                {
                                    "Szállítási dátum": "2015-07-02",
                                    "Szállítási mód": "Összesen",
                                    "Mennyiség": "7066"
                                },
                                {
                                    "Szállítási dátum": "2015-07-03",
                                    "Szállítási mód": "Összesen",
                                    "Mennyiség": "6359"
                                },
                                {
                                    "Szállítási dátum": "2015-07-04",
                                    "Szállítási mód": "Összesen",
                                    "Mennyiség": "8739"
                                },
                                {
                                    "Szállítási dátum": "2015-07-05",
                                    "Szállítási mód": "Összesen",
                                    "Mennyiség": "8558"
                                },
                                {
                                    "Szállítási dátum": "2015-07-06",
                                    "Szállítási mód": "Összesen",
                                    "Mennyiség": "8389"
                                },
                                {
                                    "Szállítási dátum": "2015-07-07",
                                    "Szállítási mód": "Összesen",
                                    "Mennyiség": "9522"
                                },
                                {
                                    "Szállítási dátum": "2015-07-08",
                                    "Szállítási mód": "Összesen",
                                    "Mennyiség": "6395"
                                },
                                {
                                    "Szállítási dátum": "2015-07-09",
                                    "Szállítási mód": "Összesen",
                                    "Mennyiség": "7375"
                                },
                                {
                                    "Szállítási dátum": "2015-07-10",
                                    "Szállítási mód": "Összesen",
                                    "Mennyiség": "7676"
                                },
                                {
                                    "Szállítási dátum": "2015-07-11",
                                    "Szállítási mód": "Összesen",
                                    "Mennyiség": "7366"
                                },
                                {
                                    "Szállítási dátum": "2015-07-12",
                                    "Szállítási mód": "Összesen",
                                    "Mennyiség": "8638"
                                },
                                {
                                    "Szállítási dátum": "2015-07-13",
                                    "Szállítási mód": "Összesen",
                                    "Mennyiség": "8300"
                                },
                                {
                                    "Szállítási dátum": "2015-07-14",
                                    "Szállítási mód": "Összesen",
                                    "Mennyiség": "6340"
                                },
                                {
                                    "Szállítási dátum": "2015-07-15",
                                    "Szállítási mód": "Összesen",
                                    "Mennyiség": "8615"
                                },
                                {
                                    "Szállítási dátum": "2015-07-16",
                                    "Szállítási mód": "Összesen",
                                    "Mennyiség": "7041"
                                },
                                {
                                    "Szállítási dátum": "2015-07-17",
                                    "Szállítási mód": "Összesen",
                                    "Mennyiség": "7327"
                                },
                                {
                                    "Szállítási dátum": "2015-07-18",
                                    "Szállítási mód": "Összesen",
                                    "Mennyiség": "6762"
                                },
                                {
                                    "Szállítási dátum": "2015-07-19",
                                    "Szállítási mód": "Összesen",
                                    "Mennyiség": "6776"
                                },
                                {
                                    "Szállítási dátum": "2015-07-20",
                                    "Szállítási mód": "Összesen",
                                    "Mennyiség": "9748"
                                },
                                {
                                    "Szállítási dátum": "2015-07-21",
                                    "Szállítási mód": "Összesen",
                                    "Mennyiség": "9805"
                                },
                                {
                                    "Szállítási dátum": "2015-07-22",
                                    "Szállítási mód": "Összesen",
                                    "Mennyiség": "5140"
                                },
                                {
                                    "Szállítási dátum": "2015-07-23",
                                    "Szállítási mód": "Összesen",
                                    "Mennyiség": "7258"
                                },
                                {
                                    "Szállítási dátum": "2015-07-24",
                                    "Szállítási mód": "Összesen",
                                    "Mennyiség": "8697"
                                },
                                {
                                    "Szállítási dátum": "2015-07-25",
                                    "Szállítási mód": "Összesen",
                                    "Mennyiség": "8180"
                                },
                                {
                                    "Szállítási dátum": "2015-07-26",
                                    "Szállítási mód": "Összesen",
                                    "Mennyiség": "9323"
                                },
                                {
                                    "Szállítási dátum": "2015-07-27",
                                    "Szállítási mód": "Összesen",
                                    "Mennyiség": "5417"
                                },
                                {
                                    "Szállítási dátum": "2015-07-28",
                                    "Szállítási mód": "Összesen",
                                    "Mennyiség": "7825"
                                },
                                {
                                    "Szállítási dátum": "2015-07-29",
                                    "Szállítási mód": "Összesen",
                                    "Mennyiség": "6405"
                                },
                                {
                                    "Szállítási dátum": "2015-07-30",
                                    "Szállítási mód": "Összesen",
                                    "Mennyiség": "10029"
                                },
                                {
                                    "Szállítási dátum": "2015-07-31",
                                    "Szállítási mód": "Összesen",
                                    "Mennyiség": "8673"
                                },
                                {
                                    "Szállítási dátum": "2015-08-01",
                                    "Szállítási mód": "Összesen",
                                    "Mennyiség": "9957"
                                },
                                {
                                    "Szállítási dátum": "2015-08-02",
                                    "Szállítási mód": "Összesen",
                                    "Mennyiség": "7599"
                                },
                                {
                                    "Szállítási dátum": "2015-08-03",
                                    "Szállítási mód": "Összesen",
                                    "Mennyiség": "9208"
                                },
                                {
                                    "Szállítási dátum": "2015-08-04",
                                    "Szállítási mód": "Összesen",
                                    "Mennyiség": "9353"
                                },
                                {
                                    "Szállítási dátum": "2015-08-05",
                                    "Szállítási mód": "Összesen",
                                    "Mennyiség": "10342"
                                },
                                {
                                    "Szállítási dátum": "2015-08-06",
                                    "Szállítási mód": "Összesen",
                                    "Mennyiség": "5124"
                                },
                                {
                                    "Szállítási dátum": "2015-08-07",
                                    "Szállítási mód": "Összesen",
                                    "Mennyiség": "8960"
                                },
                                {
                                    "Szállítási dátum": "2015-08-08",
                                    "Szállítási mód": "Összesen",
                                    "Mennyiség": "10296"
                                },
                                {
                                    "Szállítási dátum": "2015-08-09",
                                    "Szállítási mód": "Összesen",
                                    "Mennyiség": "6026"
                                },
                                {
                                    "Szállítási dátum": "2015-08-10",
                                    "Szállítási mód": "Összesen",
                                    "Mennyiség": "7896"
                                },
                                {
                                    "Szállítási dátum": "2015-08-11",
                                    "Szállítási mód": "Összesen",
                                    "Mennyiség": "9008"
                                },
                                {
                                    "Szállítási dátum": "2015-08-12",
                                    "Szállítási mód": "Összesen",
                                    "Mennyiség": "7605"
                                },
                                {
                                    "Szállítási dátum": "2015-08-13",
                                    "Szállítási mód": "Összesen",
                                    "Mennyiség": "9380"
                                },
                                {
                                    "Szállítási dátum": "2015-08-14",
                                    "Szállítási mód": "Összesen",
                                    "Mennyiség": "9780"
                                },
                                {
                                    "Szállítási dátum": "2015-08-15",
                                    "Szállítási mód": "Összesen",
                                    "Mennyiség": "7514"
                                },
                                {
                                    "Szállítási dátum": "2015-08-16",
                                    "Szállítási mód": "Összesen",
                                    "Mennyiség": "5341"
                                },
                                {
                                    "Szállítási dátum": "2015-08-17",
                                    "Szállítási mód": "Összesen",
                                    "Mennyiség": "7162"
                                },
                                {
                                    "Szállítási dátum": "2015-08-18",
                                    "Szállítási mód": "Összesen",
                                    "Mennyiség": "6271"
                                },
                                {
                                    "Szállítási dátum": "2015-08-19",
                                    "Szállítási mód": "Összesen",
                                    "Mennyiség": "6650"
                                },
                                {
                                    "Szállítási dátum": "2015-08-20",
                                    "Szállítási mód": "Összesen",
                                    "Mennyiség": "9005"
                                },
                                {
                                    "Szállítási dátum": "2015-08-21",
                                    "Szállítási mód": "Összesen",
                                    "Mennyiség": "6874"
                                },
                                {
                                    "Szállítási dátum": "2015-08-22",
                                    "Szállítási mód": "Összesen",
                                    "Mennyiség": "10138"
                                },
                                {
                                    "Szállítási dátum": "2015-08-23",
                                    "Szállítási mód": "Összesen",
                                    "Mennyiség": "6734"
                                },
                                {
                                    "Szállítási dátum": "2015-08-24",
                                    "Szállítási mód": "Összesen",
                                    "Mennyiség": "7767"
                                },
                                {
                                    "Szállítási dátum": "2015-08-25",
                                    "Szállítási mód": "Összesen",
                                    "Mennyiség": "9206"
                                },
                                {
                                    "Szállítási dátum": "2015-08-26",
                                    "Szállítási mód": "Összesen",
                                    "Mennyiség": "11006"
                                },
                                {
                                    "Szállítási dátum": "2015-08-27",
                                    "Szállítási mód": "Összesen",
                                    "Mennyiség": "6244"
                                },
                                {
                                    "Szállítási dátum": "2015-08-28",
                                    "Szállítási mód": "Összesen",
                                    "Mennyiség": "8145"
                                },
                                {
                                    "Szállítási dátum": "2015-08-29",
                                    "Szállítási mód": "Összesen",
                                    "Mennyiség": "7380"
                                },
                                {
                                    "Szállítási dátum": "2015-08-30",
                                    "Szállítási mód": "Összesen",
                                    "Mennyiség": "9727"
                                },
                                {
                                    "Szállítási dátum": "2015-08-31",
                                    "Szállítási mód": "Összesen",
                                    "Mennyiség": "7226"
                                },
                                {
                                    "Szállítási dátum": "2015-09-01",
                                    "Szállítási mód": "Összesen",
                                    "Mennyiség": "9466"
                                },
                                {
                                    "Szállítási dátum": "2015-09-02",
                                    "Szállítási mód": "Összesen",
                                    "Mennyiség": "6179"
                                },
                                {
                                    "Szállítási dátum": "2015-09-03",
                                    "Szállítási mód": "Összesen",
                                    "Mennyiség": "9949"
                                },
                                {
                                    "Szállítási dátum": "2015-09-04",
                                    "Szállítási mód": "Összesen",
                                    "Mennyiség": "10432"
                                },
                                {
                                    "Szállítási dátum": "2015-09-05",
                                    "Szállítási mód": "Összesen",
                                    "Mennyiség": "7083"
                                },
                                {
                                    "Szállítási dátum": "2015-09-06",
                                    "Szállítási mód": "Összesen",
                                    "Mennyiség": "8378"
                                },
                                {
                                    "Szállítási dátum": "2015-09-07",
                                    "Szállítási mód": "Összesen",
                                    "Mennyiség": "8303"
                                },
                                {
                                    "Szállítási dátum": "2015-09-08",
                                    "Szállítási mód": "Összesen",
                                    "Mennyiség": "8349"
                                },
                                {
                                    "Szállítási dátum": "2015-09-09",
                                    "Szállítási mód": "Összesen",
                                    "Mennyiség": "7985"
                                },
                                {
                                    "Szállítási dátum": "2015-09-10",
                                    "Szállítási mód": "Összesen",
                                    "Mennyiség": "10353"
                                },
                                {
                                    "Szállítási dátum": "2015-09-11",
                                    "Szállítási mód": "Összesen",
                                    "Mennyiség": "9284"
                                },
                                {
                                    "Szállítási dátum": "2015-09-12",
                                    "Szállítási mód": "Összesen",
                                    "Mennyiség": "8553"
                                },
                                {
                                    "Szállítási dátum": "2015-09-13",
                                    "Szállítási mód": "Összesen",
                                    "Mennyiség": "7435"
                                },
                                {
                                    "Szállítási dátum": "2015-09-14",
                                    "Szállítási mód": "Összesen",
                                    "Mennyiség": "8232"
                                },
                                {
                                    "Szállítási dátum": "2015-09-15",
                                    "Szállítási mód": "Összesen",
                                    "Mennyiség": "4776"
                                },
                                {
                                    "Szállítási dátum": "2015-09-16",
                                    "Szállítási mód": "Összesen",
                                    "Mennyiség": "7416"
                                },
                                {
                                    "Szállítási dátum": "2015-09-17",
                                    "Szállítási mód": "Összesen",
                                    "Mennyiség": "8358"
                                },
                                {
                                    "Szállítási dátum": "2015-09-18",
                                    "Szállítási mód": "Összesen",
                                    "Mennyiség": "7210"
                                },
                                {
                                    "Szállítási dátum": "2015-09-19",
                                    "Szállítási mód": "Összesen",
                                    "Mennyiség": "8267"
                                },
                                {
                                    "Szállítási dátum": "2015-09-20",
                                    "Szállítási mód": "Összesen",
                                    "Mennyiség": "10001"
                                },
                                {
                                    "Szállítási dátum": "2015-09-21",
                                    "Szállítási mód": "Összesen",
                                    "Mennyiség": "7086"
                                },
                                {
                                    "Szállítási dátum": "2015-09-22",
                                    "Szállítási mód": "Összesen",
                                    "Mennyiség": "7424"
                                },
                                {
                                    "Szállítási dátum": "2015-09-23",
                                    "Szállítási mód": "Összesen",
                                    "Mennyiség": "8183"
                                },
                                {
                                    "Szállítási dátum": "2015-09-24",
                                    "Szállítási mód": "Összesen",
                                    "Mennyiség": "10252"
                                },
                                {
                                    "Szállítási dátum": "2015-09-25",
                                    "Szállítási mód": "Összesen",
                                    "Mennyiség": "8106"
                                },
                                {
                                    "Szállítási dátum": "2015-09-26",
                                    "Szállítási mód": "Összesen",
                                    "Mennyiség": "9451"
                                },
                                {
                                    "Szállítási dátum": "2015-09-27",
                                    "Szállítási mód": "Összesen",
                                    "Mennyiség": "8692"
                                },
                                {
                                    "Szállítási dátum": "2015-09-28",
                                    "Szállítási mód": "Összesen",
                                    "Mennyiség": "10281"
                                },
                                {
                                    "Szállítási dátum": "2015-09-29",
                                    "Szállítási mód": "Összesen",
                                    "Mennyiség": "9481"
                                },
                                {
                                    "Szállítási dátum": "2015-09-30",
                                    "Szállítási mód": "Összesen",
                                    "Mennyiség": "5900"
                                },
                                {
                                    "Szállítási dátum": "2015-10-01",
                                    "Szállítási mód": "Összesen",
                                    "Mennyiség": "9384"
                                },
                                {
                                    "Szállítási dátum": "2015-10-02",
                                    "Szállítási mód": "Összesen",
                                    "Mennyiség": "5674"
                                },
                                {
                                    "Szállítási dátum": "2015-10-03",
                                    "Szállítási mód": "Összesen",
                                    "Mennyiség": "8509"
                                },
                                {
                                    "Szállítási dátum": "2015-10-04",
                                    "Szállítási mód": "Összesen",
                                    "Mennyiség": "7645"
                                },
                                {
                                    "Szállítási dátum": "2015-10-05",
                                    "Szállítási mód": "Összesen",
                                    "Mennyiség": "8535"
                                },
                                {
                                    "Szállítási dátum": "2015-10-06",
                                    "Szállítási mód": "Összesen",
                                    "Mennyiség": "7529"
                                },
                                {
                                    "Szállítási dátum": "2015-10-07",
                                    "Szállítási mód": "Összesen",
                                    "Mennyiség": "9435"
                                },
                                {
                                    "Szállítási dátum": "2015-10-08",
                                    "Szállítási mód": "Összesen",
                                    "Mennyiség": "7319"
                                },
                                {
                                    "Szállítási dátum": "2015-10-09",
                                    "Szállítási mód": "Összesen",
                                    "Mennyiség": "8931"
                                },
                                {
                                    "Szállítási dátum": "2015-10-10",
                                    "Szállítási mód": "Összesen",
                                    "Mennyiség": "7928"
                                },
                                {
                                    "Szállítási dátum": "2015-10-11",
                                    "Szállítási mód": "Összesen",
                                    "Mennyiség": "7516"
                                },
                                {
                                    "Szállítási dátum": "2015-10-12",
                                    "Szállítási mód": "Összesen",
                                    "Mennyiség": "9355"
                                },
                                {
                                    "Szállítási dátum": "2015-10-13",
                                    "Szállítási mód": "Összesen",
                                    "Mennyiség": "6564"
                                },
                                {
                                    "Szállítási dátum": "2015-10-14",
                                    "Szállítási mód": "Összesen",
                                    "Mennyiség": "7035"
                                },
                                {
                                    "Szállítási dátum": "2015-10-15",
                                    "Szállítási mód": "Összesen",
                                    "Mennyiség": "9269"
                                },
                                {
                                    "Szállítási dátum": "2015-10-16",
                                    "Szállítási mód": "Összesen",
                                    "Mennyiség": "8427"
                                },
                                {
                                    "Szállítási dátum": "2015-10-17",
                                    "Szállítási mód": "Összesen",
                                    "Mennyiség": "6936"
                                },
                                {
                                    "Szállítási dátum": "2015-10-18",
                                    "Szállítási mód": "Összesen",
                                    "Mennyiség": "8671"
                                },
                                {
                                    "Szállítási dátum": "2015-10-19",
                                    "Szállítási mód": "Összesen",
                                    "Mennyiség": "7207"
                                },
                                {
                                    "Szállítási dátum": "2015-10-20",
                                    "Szállítási mód": "Összesen",
                                    "Mennyiség": "8613"
                                },
                                {
                                    "Szállítási dátum": "2015-10-21",
                                    "Szállítási mód": "Összesen",
                                    "Mennyiség": "7366"
                                },
                                {
                                    "Szállítási dátum": "2015-10-22",
                                    "Szállítási mód": "Összesen",
                                    "Mennyiség": "6678"
                                },
                                {
                                    "Szállítási dátum": "2015-10-23",
                                    "Szállítási mód": "Összesen",
                                    "Mennyiség": "8056"
                                },
                                {
                                    "Szállítási dátum": "2015-10-24",
                                    "Szállítási mód": "Összesen",
                                    "Mennyiség": "7233"
                                },
                                {
                                    "Szállítási dátum": "2015-10-25",
                                    "Szállítási mód": "Összesen",
                                    "Mennyiség": "9107"
                                },
                                {
                                    "Szállítási dátum": "2015-10-26",
                                    "Szállítási mód": "Összesen",
                                    "Mennyiség": "9776"
                                },
                                {
                                    "Szállítási dátum": "2015-10-27",
                                    "Szállítási mód": "Összesen",
                                    "Mennyiség": "7669"
                                },
                                {
                                    "Szállítási dátum": "2015-10-28",
                                    "Szállítási mód": "Összesen",
                                    "Mennyiség": "7522"
                                },
                                {
                                    "Szállítási dátum": "2015-10-29",
                                    "Szállítási mód": "Összesen",
                                    "Mennyiség": "6971"
                                },
                                {
                                    "Szállítási dátum": "2015-10-30",
                                    "Szállítási mód": "Összesen",
                                    "Mennyiség": "8999"
                                },
                                {
                                    "Szállítási dátum": "2015-10-31",
                                    "Szállítási mód": "Összesen",
                                    "Mennyiség": "7046"
                                },
                                {
                                    "Szállítási dátum": "2015-11-01",
                                    "Szállítási mód": "Összesen",
                                    "Mennyiség": "6171"
                                },
                                {
                                    "Szállítási dátum": "2015-11-02",
                                    "Szállítási mód": "Összesen",
                                    "Mennyiség": "7612"
                                },
                                {
                                    "Szállítási dátum": "2015-11-03",
                                    "Szállítási mód": "Összesen",
                                    "Mennyiség": "11533"
                                },
                                {
                                    "Szállítási dátum": "2015-11-04",
                                    "Szállítási mód": "Összesen",
                                    "Mennyiség": "5352"
                                },
                                {
                                    "Szállítási dátum": "2015-11-05",
                                    "Szállítási mód": "Összesen",
                                    "Mennyiség": "7183"
                                },
                                {
                                    "Szállítási dátum": "2015-11-06",
                                    "Szállítási mód": "Összesen",
                                    "Mennyiség": "8606"
                                },
                                {
                                    "Szállítási dátum": "2015-11-07",
                                    "Szállítási mód": "Összesen",
                                    "Mennyiség": "7260"
                                },
                                {
                                    "Szállítási dátum": "2015-11-08",
                                    "Szállítási mód": "Összesen",
                                    "Mennyiség": "8177"
                                },
                                {
                                    "Szállítási dátum": "2015-11-09",
                                    "Szállítási mód": "Összesen",
                                    "Mennyiség": "8431"
                                },
                                {
                                    "Szállítási dátum": "2015-11-10",
                                    "Szállítási mód": "Összesen",
                                    "Mennyiség": "8329"
                                },
                                {
                                    "Szállítási dátum": "2015-11-11",
                                    "Szállítási mód": "Összesen",
                                    "Mennyiség": "8191"
                                },
                                {
                                    "Szállítási dátum": "2015-11-12",
                                    "Szállítási mód": "Összesen",
                                    "Mennyiség": "5884"
                                },
                                {
                                    "Szállítási dátum": "2015-11-13",
                                    "Szállítási mód": "Összesen",
                                    "Mennyiség": "7359"
                                },
                                {
                                    "Szállítási dátum": "2015-11-14",
                                    "Szállítási mód": "Összesen",
                                    "Mennyiség": "7730"
                                },
                                {
                                    "Szállítási dátum": "2015-11-15",
                                    "Szállítási mód": "Összesen",
                                    "Mennyiség": "6881"
                                },
                                {
                                    "Szállítási dátum": "2015-11-16",
                                    "Szállítási mód": "Összesen",
                                    "Mennyiség": "7721"
                                },
                                {
                                    "Szállítási dátum": "2015-11-17",
                                    "Szállítási mód": "Összesen",
                                    "Mennyiség": "7234"
                                },
                                {
                                    "Szállítási dátum": "2015-11-18",
                                    "Szállítási mód": "Összesen",
                                    "Mennyiség": "8321"
                                },
                                {
                                    "Szállítási dátum": "2015-11-19",
                                    "Szállítási mód": "Összesen",
                                    "Mennyiség": "7582"
                                },
                                {
                                    "Szállítási dátum": "2015-11-20",
                                    "Szállítási mód": "Összesen",
                                    "Mennyiség": "6288"
                                },
                                {
                                    "Szállítási dátum": "2015-11-21",
                                    "Szállítási mód": "Összesen",
                                    "Mennyiség": "6657"
                                },
                                {
                                    "Szállítási dátum": "2015-11-22",
                                    "Szállítási mód": "Összesen",
                                    "Mennyiség": "8640"
                                },
                                {
                                    "Szállítási dátum": "2015-11-23",
                                    "Szállítási mód": "Összesen",
                                    "Mennyiség": "7363"
                                },
                                {
                                    "Szállítási dátum": "2015-11-24",
                                    "Szállítási mód": "Összesen",
                                    "Mennyiség": "7556"
                                },
                                {
                                    "Szállítási dátum": "2015-11-25",
                                    "Szállítási mód": "Összesen",
                                    "Mennyiség": "7103"
                                },
                                {
                                    "Szállítási dátum": "2015-11-26",
                                    "Szállítási mód": "Összesen",
                                    "Mennyiség": "8368"
                                },
                                {
                                    "Szállítási dátum": "2015-11-27",
                                    "Szállítási mód": "Összesen",
                                    "Mennyiség": "6865"
                                },
                                {
                                    "Szállítási dátum": "2015-11-28",
                                    "Szállítási mód": "Összesen",
                                    "Mennyiség": "10098"
                                },
                                {
                                    "Szállítási dátum": "2015-11-29",
                                    "Szállítási mód": "Összesen",
                                    "Mennyiség": "7636"
                                },
                                {
                                    "Szállítási dátum": "2015-11-30",
                                    "Szállítási mód": "Összesen",
                                    "Mennyiség": "7182"
                                },
                                {
                                    "Szállítási dátum": "2015-12-01",
                                    "Szállítási mód": "Összesen",
                                    "Mennyiség": "7314"
                                },
                                {
                                    "Szállítási dátum": "2015-12-02",
                                    "Szállítási mód": "Összesen",
                                    "Mennyiség": "9592"
                                },
                                {
                                    "Szállítási dátum": "2015-12-03",
                                    "Szállítási mód": "Összesen",
                                    "Mennyiség": "8829"
                                },
                                {
                                    "Szállítási dátum": "2015-12-04",
                                    "Szállítási mód": "Összesen",
                                    "Mennyiség": "8013"
                                },
                                {
                                    "Szállítási dátum": "2015-12-05",
                                    "Szállítási mód": "Összesen",
                                    "Mennyiség": "8887"
                                },
                                {
                                    "Szállítási dátum": "2015-12-06",
                                    "Szállítási mód": "Összesen",
                                    "Mennyiség": "5596"
                                },
                                {
                                    "Szállítási dátum": "2015-12-07",
                                    "Szállítási mód": "Összesen",
                                    "Mennyiség": "8825"
                                },
                                {
                                    "Szállítási dátum": "2015-12-08",
                                    "Szállítási mód": "Összesen",
                                    "Mennyiség": "7819"
                                },
                                {
                                    "Szállítási dátum": "2015-12-09",
                                    "Szállítási mód": "Összesen",
                                    "Mennyiség": "7897"
                                },
                                {
                                    "Szállítási dátum": "2015-12-10",
                                    "Szállítási mód": "Összesen",
                                    "Mennyiség": "9644"
                                },
                                {
                                    "Szállítási dátum": "2015-12-11",
                                    "Szállítási mód": "Összesen",
                                    "Mennyiség": "8093"
                                },
                                {
                                    "Szállítási dátum": "2015-12-12",
                                    "Szállítási mód": "Összesen",
                                    "Mennyiség": "8957"
                                },
                                {
                                    "Szállítási dátum": "2015-12-13",
                                    "Szállítási mód": "Összesen",
                                    "Mennyiség": "7399"
                                },
                                {
                                    "Szállítási dátum": "2015-12-14",
                                    "Szállítási mód": "Összesen",
                                    "Mennyiség": "7676"
                                },
                                {
                                    "Szállítási dátum": "2015-12-15",
                                    "Szállítási mód": "Összesen",
                                    "Mennyiség": "6863"
                                },
                                {
                                    "Szállítási dátum": "2015-12-16",
                                    "Szállítási mód": "Összesen",
                                    "Mennyiség": "7886"
                                },
                                {
                                    "Szállítási dátum": "2015-12-17",
                                    "Szállítási mód": "Összesen",
                                    "Mennyiség": "6894"
                                },
                                {
                                    "Szállítási dátum": "2015-12-18",
                                    "Szállítási mód": "Összesen",
                                    "Mennyiség": "12260"
                                },
                                {
                                    "Szállítási dátum": "2015-12-19",
                                    "Szállítási mód": "Összesen",
                                    "Mennyiség": "5788"
                                },
                                {
                                    "Szállítási dátum": "2015-12-20",
                                    "Szállítási mód": "Összesen",
                                    "Mennyiség": "8699"
                                },
                                {
                                    "Szállítási dátum": "2015-12-21",
                                    "Szállítási mód": "Összesen",
                                    "Mennyiség": "6630"
                                },
                                {
                                    "Szállítási dátum": "2015-12-22",
                                    "Szállítási mód": "Összesen",
                                    "Mennyiség": "9212"
                                },
                                {
                                    "Szállítási dátum": "2015-12-23",
                                    "Szállítási mód": "Összesen",
                                    "Mennyiség": "6676"
                                },
                                {
                                    "Szállítási dátum": "2015-12-24",
                                    "Szállítási mód": "Összesen",
                                    "Mennyiség": "8869"
                                },
                                {
                                    "Szállítási dátum": "2015-12-25",
                                    "Szállítási mód": "Összesen",
                                    "Mennyiség": "6944"
                                },
                                {
                                    "Szállítási dátum": "2015-12-26",
                                    "Szállítási mód": "Összesen",
                                    "Mennyiség": "8921"
                                },
                                {
                                    "Szállítási dátum": "2015-12-27",
                                    "Szállítási mód": "Összesen",
                                    "Mennyiség": "7648"
                                },
                                {
                                    "Szállítási dátum": "2015-12-28",
                                    "Szállítási mód": "Összesen",
                                    "Mennyiség": "8042"
                                },
                                {
                                    "Szállítási dátum": "2015-12-29",
                                    "Szállítási mód": "Összesen",
                                    "Mennyiség": "7923"
                                },
                                {
                                    "Szállítási dátum": "2015-12-30",
                                    "Szállítási mód": "Összesen",
                                    "Mennyiség": "6562"
                                },
                                {
                                    "Szállítási dátum": "2015-12-31",
                                    "Szállítási mód": "Összesen",
                                    "Mennyiség": "7021"
                                },
                                {
                                    "Szállítási dátum": "2016-01-01",
                                    "Szállítási mód": "Összesen",
                                    "Mennyiség": "8837"
                                },
                                {
                                    "Szállítási dátum": "2016-01-02",
                                    "Szállítási mód": "Összesen",
                                    "Mennyiség": "7518"
                                },
                                {
                                    "Szállítási dátum": "2016-01-03",
                                    "Szállítási mód": "Összesen",
                                    "Mennyiség": "8422"
                                },
                                {
                                    "Szállítási dátum": "2016-01-04",
                                    "Szállítási mód": "Összesen",
                                    "Mennyiség": "8813"
                                },
                                {
                                    "Szállítási dátum": "2016-01-05",
                                    "Szállítási mód": "Összesen",
                                    "Mennyiség": "6895"
                                },
                                {
                                    "Szállítási dátum": "2016-01-06",
                                    "Szállítási mód": "Összesen",
                                    "Mennyiség": "6716"
                                },
                                {
                                    "Szállítási dátum": "2016-01-07",
                                    "Szállítási mód": "Összesen",
                                    "Mennyiség": "5593"
                                },
                                {
                                    "Szállítási dátum": "2016-01-08",
                                    "Szállítási mód": "Összesen",
                                    "Mennyiség": "9534"
                                },
                                {
                                    "Szállítási dátum": "2016-01-09",
                                    "Szállítási mód": "Összesen",
                                    "Mennyiség": "7056"
                                },
                                {
                                    "Szállítási dátum": "2016-01-10",
                                    "Szállítási mód": "Összesen",
                                    "Mennyiség": "8057"
                                },
                                {
                                    "Szállítási dátum": "2016-01-11",
                                    "Szállítási mód": "Összesen",
                                    "Mennyiség": "6734"
                                },
                                {
                                    "Szállítási dátum": "2016-01-12",
                                    "Szállítási mód": "Összesen",
                                    "Mennyiség": "6949"
                                },
                                {
                                    "Szállítási dátum": "2016-01-13",
                                    "Szállítási mód": "Összesen",
                                    "Mennyiség": "7487"
                                },
                                {
                                    "Szállítási dátum": "2016-01-14",
                                    "Szállítási mód": "Összesen",
                                    "Mennyiség": "8998"
                                },
                                {
                                    "Szállítási dátum": "2016-01-15",
                                    "Szállítási mód": "Összesen",
                                    "Mennyiség": "9345"
                                },
                                {
                                    "Szállítási dátum": "2016-01-16",
                                    "Szállítási mód": "Összesen",
                                    "Mennyiség": "8068"
                                },
                                {
                                    "Szállítási dátum": "2016-01-17",
                                    "Szállítási mód": "Összesen",
                                    "Mennyiség": "6954"
                                },
                                {
                                    "Szállítási dátum": "2016-01-18",
                                    "Szállítási mód": "Összesen",
                                    "Mennyiség": "4416"
                                },
                                {
                                    "Szállítási dátum": "2016-01-19",
                                    "Szállítási mód": "Összesen",
                                    "Mennyiség": "7124"
                                },
                                {
                                    "Szállítási dátum": "2016-01-20",
                                    "Szállítási mód": "Összesen",
                                    "Mennyiség": "8568"
                                },
                                {
                                    "Szállítási dátum": "2016-01-21",
                                    "Szállítási mód": "Összesen",
                                    "Mennyiség": "10953"
                                },
                                {
                                    "Szállítási dátum": "2016-01-22",
                                    "Szállítási mód": "Összesen",
                                    "Mennyiség": "8588"
                                },
                                {
                                    "Szállítási dátum": "2016-01-23",
                                    "Szállítási mód": "Összesen",
                                    "Mennyiség": "6512"
                                },
                                {
                                    "Szállítási dátum": "2016-01-24",
                                    "Szállítási mód": "Összesen",
                                    "Mennyiség": "8898"
                                },
                                {
                                    "Szállítási dátum": "2016-01-25",
                                    "Szállítási mód": "Összesen",
                                    "Mennyiség": "5191"
                                },
                                {
                                    "Szállítási dátum": "2016-01-26",
                                    "Szállítási mód": "Összesen",
                                    "Mennyiség": "5293"
                                },
                                {
                                    "Szállítási dátum": "2016-01-27",
                                    "Szállítási mód": "Összesen",
                                    "Mennyiség": "6513"
                                },
                                {
                                    "Szállítási dátum": "2016-01-28",
                                    "Szállítási mód": "Összesen",
                                    "Mennyiség": "8119"
                                },
                                {
                                    "Szállítási dátum": "2016-01-29",
                                    "Szállítási mód": "Összesen",
                                    "Mennyiség": "6658"
                                },
                                {
                                    "Szállítási dátum": "2016-01-30",
                                    "Szállítási mód": "Összesen",
                                    "Mennyiség": "8727"
                                },
                                {
                                    "Szállítási dátum": "2016-01-31",
                                    "Szállítási mód": "Összesen",
                                    "Mennyiség": "7527"
                                },
                                {
                                    "Szállítási dátum": "2016-02-01",
                                    "Szállítási mód": "Összesen",
                                    "Mennyiség": "9120"
                                },
                                {
                                    "Szállítási dátum": "2016-02-02",
                                    "Szállítási mód": "Összesen",
                                    "Mennyiség": "8088"
                                },
                                {
                                    "Szállítási dátum": "2016-02-03",
                                    "Szállítási mód": "Összesen",
                                    "Mennyiség": "9306"
                                },
                                {
                                    "Szállítási dátum": "2016-02-04",
                                    "Szállítási mód": "Összesen",
                                    "Mennyiség": "7994"
                                },
                                {
                                    "Szállítási dátum": "2016-02-05",
                                    "Szállítási mód": "Összesen",
                                    "Mennyiség": "9703"
                                },
                                {
                                    "Szállítási dátum": "2016-02-06",
                                    "Szállítási mód": "Összesen",
                                    "Mennyiség": "9860"
                                },
                                {
                                    "Szállítási dátum": "2016-02-07",
                                    "Szállítási mód": "Összesen",
                                    "Mennyiség": "6630"
                                },
                                {
                                    "Szállítási dátum": "2016-02-08",
                                    "Szállítási mód": "Összesen",
                                    "Mennyiség": "10093"
                                },
                                {
                                    "Szállítási dátum": "2016-02-09",
                                    "Szállítási mód": "Összesen",
                                    "Mennyiség": "9706"
                                },
                                {
                                    "Szállítási dátum": "2016-02-10",
                                    "Szállítási mód": "Összesen",
                                    "Mennyiség": "8520"
                                },
                                {
                                    "Szállítási dátum": "2016-02-11",
                                    "Szállítási mód": "Összesen",
                                    "Mennyiség": "7094"
                                },
                                {
                                    "Szállítási dátum": "2016-02-12",
                                    "Szállítási mód": "Összesen",
                                    "Mennyiség": "7789"
                                },
                                {
                                    "Szállítási dátum": "2016-02-13",
                                    "Szállítási mód": "Összesen",
                                    "Mennyiség": "7991"
                                },
                                {
                                    "Szállítási dátum": "2016-02-14",
                                    "Szállítási mód": "Összesen",
                                    "Mennyiség": "8049"
                                },
                                {
                                    "Szállítási dátum": "2016-02-15",
                                    "Szállítási mód": "Összesen",
                                    "Mennyiség": "10033"
                                },
                                {
                                    "Szállítási dátum": "2016-02-16",
                                    "Szállítási mód": "Összesen",
                                    "Mennyiség": "8049"
                                },
                                {
                                    "Szállítási dátum": "2016-02-17",
                                    "Szállítási mód": "Összesen",
                                    "Mennyiség": "9586"
                                },
                                {
                                    "Szállítási dátum": "2016-02-18",
                                    "Szállítási mód": "Összesen",
                                    "Mennyiség": "5922"
                                },
                                {
                                    "Szállítási dátum": "2016-02-19",
                                    "Szállítási mód": "Összesen",
                                    "Mennyiség": "8898"
                                },
                                {
                                    "Szállítási dátum": "2016-02-20",
                                    "Szállítási mód": "Összesen",
                                    "Mennyiség": "7549"
                                },
                                {
                                    "Szállítási dátum": "2016-02-21",
                                    "Szállítási mód": "Összesen",
                                    "Mennyiség": "6531"
                                },
                                {
                                    "Szállítási dátum": "2016-02-22",
                                    "Szállítási mód": "Összesen",
                                    "Mennyiség": "8724"
                                },
                                {
                                    "Szállítási dátum": "2016-02-23",
                                    "Szállítási mód": "Összesen",
                                    "Mennyiség": "6959"
                                },
                                {
                                    "Szállítási dátum": "2016-02-24",
                                    "Szállítási mód": "Összesen",
                                    "Mennyiség": "6314"
                                },
                                {
                                    "Szállítási dátum": "2016-02-25",
                                    "Szállítási mód": "Összesen",
                                    "Mennyiség": "7324"
                                },
                                {
                                    "Szállítási dátum": "2016-02-26",
                                    "Szállítási mód": "Összesen",
                                    "Mennyiség": "8466"
                                },
                                {
                                    "Szállítási dátum": "2016-02-27",
                                    "Szállítási mód": "Összesen",
                                    "Mennyiség": "7122"
                                },
                                {
                                    "Szállítási dátum": "2016-02-28",
                                    "Szállítási mód": "Összesen",
                                    "Mennyiség": "8447"
                                },
                                {
                                    "Szállítási dátum": "2016-02-29",
                                    "Szállítási mód": "Összesen",
                                    "Mennyiség": "8516"
                                },
                                {
                                    "Szállítási dátum": "2016-03-01",
                                    "Szállítási mód": "Összesen",
                                    "Mennyiség": "9654"
                                },
                                {
                                    "Szállítási dátum": "2016-03-02",
                                    "Szállítási mód": "Összesen",
                                    "Mennyiség": "7282"
                                },
                                {
                                    "Szállítási dátum": "2016-03-03",
                                    "Szállítási mód": "Összesen",
                                    "Mennyiség": "8853"
                                },
                                {
                                    "Szállítási dátum": "2016-03-04",
                                    "Szállítási mód": "Összesen",
                                    "Mennyiség": "8549"
                                },
                                {
                                    "Szállítási dátum": "2016-03-05",
                                    "Szállítási mód": "Összesen",
                                    "Mennyiség": "9463"
                                },
                                {
                                    "Szállítási dátum": "2016-03-06",
                                    "Szállítási mód": "Összesen",
                                    "Mennyiség": "7740"
                                },
                                {
                                    "Szállítási dátum": "2016-03-07",
                                    "Szállítási mód": "Összesen",
                                    "Mennyiség": "7680"
                                },
                                {
                                    "Szállítási dátum": "2016-03-08",
                                    "Szállítási mód": "Összesen",
                                    "Mennyiség": "5849"
                                },
                                {
                                    "Szállítási dátum": "2016-03-09",
                                    "Szállítási mód": "Összesen",
                                    "Mennyiség": "9412"
                                },
                                {
                                    "Szállítási dátum": "2016-03-10",
                                    "Szállítási mód": "Összesen",
                                    "Mennyiség": "8848"
                                },
                                {
                                    "Szállítási dátum": "2016-03-11",
                                    "Szállítási mód": "Összesen",
                                    "Mennyiség": "6193"
                                },
                                {
                                    "Szállítási dátum": "2016-03-12",
                                    "Szállítási mód": "Összesen",
                                    "Mennyiség": "10487"
                                },
                                {
                                    "Szállítási dátum": "2016-03-13",
                                    "Szállítási mód": "Összesen",
                                    "Mennyiség": "5913"
                                },
                                {
                                    "Szállítási dátum": "2016-03-14",
                                    "Szállítási mód": "Összesen",
                                    "Mennyiség": "9336"
                                },
                                {
                                    "Szállítási dátum": "2016-03-15",
                                    "Szállítási mód": "Összesen",
                                    "Mennyiség": "8180"
                                },
                                {
                                    "Szállítási dátum": "2016-03-16",
                                    "Szállítási mód": "Összesen",
                                    "Mennyiség": "7448"
                                },
                                {
                                    "Szállítási dátum": "2016-03-17",
                                    "Szállítási mód": "Összesen",
                                    "Mennyiség": "7770"
                                },
                                {
                                    "Szállítási dátum": "2016-03-18",
                                    "Szállítási mód": "Összesen",
                                    "Mennyiség": "6927"
                                },
                                {
                                    "Szállítási dátum": "2016-03-19",
                                    "Szállítási mód": "Összesen",
                                    "Mennyiség": "7827"
                                },
                                {
                                    "Szállítási dátum": "2016-03-20",
                                    "Szállítási mód": "Összesen",
                                    "Mennyiség": "12190"
                                },
                                {
                                    "Szállítási dátum": "2016-03-21",
                                    "Szállítási mód": "Összesen",
                                    "Mennyiség": "11075"
                                },
                                {
                                    "Szállítási dátum": "2016-03-22",
                                    "Szállítási mód": "Összesen",
                                    "Mennyiség": "7770"
                                },
                                {
                                    "Szállítási dátum": "2016-03-23",
                                    "Szállítási mód": "Összesen",
                                    "Mennyiség": "6397"
                                },
                                {
                                    "Szállítási dátum": "2016-03-24",
                                    "Szállítási mód": "Összesen",
                                    "Mennyiség": "7220"
                                },
                                {
                                    "Szállítási dátum": "2016-03-25",
                                    "Szállítási mód": "Összesen",
                                    "Mennyiség": "8763"
                                },
                                {
                                    "Szállítási dátum": "2016-03-26",
                                    "Szállítási mód": "Összesen",
                                    "Mennyiség": "9893"
                                },
                                {
                                    "Szállítási dátum": "2016-03-27",
                                    "Szállítási mód": "Összesen",
                                    "Mennyiség": "8950"
                                },
                                {
                                    "Szállítási dátum": "2016-03-28",
                                    "Szállítási mód": "Összesen",
                                    "Mennyiség": "7552"
                                },
                                {
                                    "Szállítási dátum": "2016-03-29",
                                    "Szállítási mód": "Összesen",
                                    "Mennyiség": "7416"
                                },
                                {
                                    "Szállítási dátum": "2016-03-30",
                                    "Szállítási mód": "Összesen",
                                    "Mennyiség": "8631"
                                },
                                {
                                    "Szállítási dátum": "2016-03-31",
                                    "Szállítási mód": "Összesen",
                                    "Mennyiség": "6885"
                                },
                                {
                                    "Szállítási dátum": "2016-04-01",
                                    "Szállítási mód": "Összesen",
                                    "Mennyiség": "8756"
                                },
                                {
                                    "Szállítási dátum": "2016-04-02",
                                    "Szállítási mód": "Összesen",
                                    "Mennyiség": "8073"
                                },
                                {
                                    "Szállítási dátum": "2016-04-03",
                                    "Szállítási mód": "Összesen",
                                    "Mennyiség": "5897"
                                },
                                {
                                    "Szállítási dátum": "2016-04-04",
                                    "Szállítási mód": "Összesen",
                                    "Mennyiség": "7405"
                                },
                                {
                                    "Szállítási dátum": "2016-04-05",
                                    "Szállítási mód": "Összesen",
                                    "Mennyiség": "8092"
                                },
                                {
                                    "Szállítási dátum": "2016-04-06",
                                    "Szállítási mód": "Összesen",
                                    "Mennyiség": "7458"
                                },
                                {
                                    "Szállítási dátum": "2016-04-07",
                                    "Szállítási mód": "Összesen",
                                    "Mennyiség": "9216"
                                },
                                {
                                    "Szállítási dátum": "2016-04-08",
                                    "Szállítási mód": "Összesen",
                                    "Mennyiség": "10889"
                                },
                                {
                                    "Szállítási dátum": "2016-04-09",
                                    "Szállítási mód": "Összesen",
                                    "Mennyiség": "9754"
                                },
                                {
                                    "Szállítási dátum": "2016-04-10",
                                    "Szállítási mód": "Összesen",
                                    "Mennyiség": "9878"
                                },
                                {
                                    "Szállítási dátum": "2016-04-11",
                                    "Szállítási mód": "Összesen",
                                    "Mennyiség": "8948"
                                },
                                {
                                    "Szállítási dátum": "2016-04-12",
                                    "Szállítási mód": "Összesen",
                                    "Mennyiség": "7144"
                                },
                                {
                                    "Szállítási dátum": "2016-04-13",
                                    "Szállítási mód": "Összesen",
                                    "Mennyiség": "7728"
                                },
                                {
                                    "Szállítási dátum": "2016-04-14",
                                    "Szállítási mód": "Összesen",
                                    "Mennyiség": "8805"
                                },
                                {
                                    "Szállítási dátum": "2016-04-15",
                                    "Szállítási mód": "Összesen",
                                    "Mennyiség": "8331"
                                },
                                {
                                    "Szállítási dátum": "2016-04-16",
                                    "Szállítási mód": "Összesen",
                                    "Mennyiség": "8755"
                                },
                                {
                                    "Szállítási dátum": "2016-04-17",
                                    "Szállítási mód": "Összesen",
                                    "Mennyiség": "10267"
                                },
                                {
                                    "Szállítási dátum": "2016-04-18",
                                    "Szállítási mód": "Összesen",
                                    "Mennyiség": "7586"
                                },
                                {
                                    "Szállítási dátum": "2016-04-19",
                                    "Szállítási mód": "Összesen",
                                    "Mennyiség": "9190"
                                },
                                {
                                    "Szállítási dátum": "2016-04-20",
                                    "Szállítási mód": "Összesen",
                                    "Mennyiség": "6584"
                                },
                                {
                                    "Szállítási dátum": "2016-04-21",
                                    "Szállítási mód": "Összesen",
                                    "Mennyiség": "6628"
                                },
                                {
                                    "Szállítási dátum": "2016-04-22",
                                    "Szállítási mód": "Összesen",
                                    "Mennyiség": "6502"
                                },
                                {
                                    "Szállítási dátum": "2016-04-23",
                                    "Szállítási mód": "Összesen",
                                    "Mennyiség": "6588"
                                },
                                {
                                    "Szállítási dátum": "2016-04-24",
                                    "Szállítási mód": "Összesen",
                                    "Mennyiség": "9512"
                                },
                                {
                                    "Szállítási dátum": "2016-04-25",
                                    "Szállítási mód": "Összesen",
                                    "Mennyiség": "10177"
                                },
                                {
                                    "Szállítási dátum": "2016-04-26",
                                    "Szállítási mód": "Összesen",
                                    "Mennyiség": "7946"
                                },
                                {
                                    "Szállítási dátum": "2016-04-27",
                                    "Szállítási mód": "Összesen",
                                    "Mennyiség": "8344"
                                },
                                {
                                    "Szállítási dátum": "2016-04-28",
                                    "Szállítási mód": "Összesen",
                                    "Mennyiség": "7732"
                                },
                                {
                                    "Szállítási dátum": "2016-04-29",
                                    "Szállítási mód": "Összesen",
                                    "Mennyiség": "7870"
                                },
                                {
                                    "Szállítási dátum": "2016-04-30",
                                    "Szállítási mód": "Összesen",
                                    "Mennyiség": "7898"
                                },
                                {
                                    "Szállítási dátum": "2016-05-01",
                                    "Szállítási mód": "Összesen",
                                    "Mennyiség": "6600"
                                },
                                {
                                    "Szállítási dátum": "2016-05-02",
                                    "Szállítási mód": "Összesen",
                                    "Mennyiség": "8142"
                                },
                                {
                                    "Szállítási dátum": "2016-05-03",
                                    "Szállítási mód": "Összesen",
                                    "Mennyiség": "5084"
                                },
                                {
                                    "Szállítási dátum": "2016-05-04",
                                    "Szállítási mód": "Összesen",
                                    "Mennyiség": "9125"
                                },
                                {
                                    "Szállítási dátum": "2016-05-05",
                                    "Szállítási mód": "Összesen",
                                    "Mennyiség": "7845"
                                },
                                {
                                    "Szállítási dátum": "2016-05-06",
                                    "Szállítási mód": "Összesen",
                                    "Mennyiség": "7969"
                                },
                                {
                                    "Szállítási dátum": "2016-05-07",
                                    "Szállítási mód": "Összesen",
                                    "Mennyiség": "8896"
                                },
                                {
                                    "Szállítási dátum": "2016-05-08",
                                    "Szállítási mód": "Összesen",
                                    "Mennyiség": "7858"
                                },
                                {
                                    "Szállítási dátum": "2016-05-09",
                                    "Szállítási mód": "Összesen",
                                    "Mennyiség": "11178"
                                },
                                {
                                    "Szállítási dátum": "2016-05-10",
                                    "Szállítási mód": "Összesen",
                                    "Mennyiség": "8968"
                                },
                                {
                                    "Szállítási dátum": "2016-05-11",
                                    "Szállítási mód": "Összesen",
                                    "Mennyiség": "8132"
                                },
                                {
                                    "Szállítási dátum": "2016-05-12",
                                    "Szállítási mód": "Összesen",
                                    "Mennyiség": "8095"
                                },
                                {
                                    "Szállítási dátum": "2016-05-13",
                                    "Szállítási mód": "Összesen",
                                    "Mennyiség": "8089"
                                },
                                {
                                    "Szállítási dátum": "2016-05-14",
                                    "Szállítási mód": "Összesen",
                                    "Mennyiség": "7722"
                                },
                                {
                                    "Szállítási dátum": "2016-05-15",
                                    "Szállítási mód": "Összesen",
                                    "Mennyiség": "5490"
                                },
                                {
                                    "Szállítási dátum": "2016-05-16",
                                    "Szállítási mód": "Összesen",
                                    "Mennyiség": "7944"
                                },
                                {
                                    "Szállítási dátum": "2016-05-17",
                                    "Szállítási mód": "Összesen",
                                    "Mennyiség": "8888"
                                },
                                {
                                    "Szállítási dátum": "2016-05-18",
                                    "Szállítási mód": "Összesen",
                                    "Mennyiség": "5720"
                                },
                                {
                                    "Szállítási dátum": "2016-05-19",
                                    "Szállítási mód": "Összesen",
                                    "Mennyiség": "7578"
                                },
                                {
                                    "Szállítási dátum": "2016-05-20",
                                    "Szállítási mód": "Összesen",
                                    "Mennyiség": "8879"
                                },
                                {
                                    "Szállítási dátum": "2016-05-21",
                                    "Szállítási mód": "Összesen",
                                    "Mennyiség": "9030"
                                },
                                {
                                    "Szállítási dátum": "2016-05-22",
                                    "Szállítási mód": "Összesen",
                                    "Mennyiség": "4914"
                                },
                                {
                                    "Szállítási dátum": "2016-05-23",
                                    "Szállítási mód": "Összesen",
                                    "Mennyiség": "8577"
                                },
                                {
                                    "Szállítási dátum": "2016-05-24",
                                    "Szállítási mód": "Összesen",
                                    "Mennyiség": "8816"
                                },
                                {
                                    "Szállítási dátum": "2016-05-25",
                                    "Szállítási mód": "Összesen",
                                    "Mennyiség": "9296"
                                },
                                {
                                    "Szállítási dátum": "2016-05-26",
                                    "Szállítási mód": "Összesen",
                                    "Mennyiség": "5287"
                                },
                                {
                                    "Szállítási dátum": "2016-05-27",
                                    "Szállítási mód": "Összesen",
                                    "Mennyiség": "9701"
                                },
                                {
                                    "Szállítási dátum": "2016-05-28",
                                    "Szállítási mód": "Összesen",
                                    "Mennyiség": "6509"
                                },
                                {
                                    "Szállítási dátum": "2016-05-29",
                                    "Szállítási mód": "Összesen",
                                    "Mennyiség": "9450"
                                },
                                {
                                    "Szállítási dátum": "2016-05-30",
                                    "Szállítási mód": "Összesen",
                                    "Mennyiség": "6884"
                                },
                                {
                                    "Szállítási dátum": "2016-05-31",
                                    "Szállítási mód": "Összesen",
                                    "Mennyiség": "10007"
                                },
                                {
                                    "Szállítási dátum": "2016-06-01",
                                    "Szállítási mód": "Összesen",
                                    "Mennyiség": "8484"
                                },
                                {
                                    "Szállítási dátum": "2016-06-02",
                                    "Szállítási mód": "Összesen",
                                    "Mennyiség": "6928"
                                },
                                {
                                    "Szállítási dátum": "2016-06-03",
                                    "Szállítási mód": "Összesen",
                                    "Mennyiség": "6567"
                                },
                                {
                                    "Szállítási dátum": "2016-06-04",
                                    "Szállítási mód": "Összesen",
                                    "Mennyiség": "7904"
                                },
                                {
                                    "Szállítási dátum": "2016-06-05",
                                    "Szállítási mód": "Összesen",
                                    "Mennyiség": "5802"
                                },
                                {
                                    "Szállítási dátum": "2016-06-06",
                                    "Szállítási mód": "Összesen",
                                    "Mennyiség": "9474"
                                },
                                {
                                    "Szállítási dátum": "2016-06-07",
                                    "Szállítási mód": "Összesen",
                                    "Mennyiség": "8722"
                                },
                                {
                                    "Szállítási dátum": "2016-06-08",
                                    "Szállítási mód": "Összesen",
                                    "Mennyiség": "7019"
                                },
                                {
                                    "Szállítási dátum": "2016-06-09",
                                    "Szállítási mód": "Összesen",
                                    "Mennyiség": "7354"
                                },
                                {
                                    "Szállítási dátum": "2016-06-10",
                                    "Szállítási mód": "Összesen",
                                    "Mennyiség": "8873"
                                },
                                {
                                    "Szállítási dátum": "2016-06-11",
                                    "Szállítási mód": "Összesen",
                                    "Mennyiség": "9217"
                                },
                                {
                                    "Szállítási dátum": "2016-06-12",
                                    "Szállítási mód": "Összesen",
                                    "Mennyiség": "9418"
                                },
                                {
                                    "Szállítási dátum": "2016-06-13",
                                    "Szállítási mód": "Összesen",
                                    "Mennyiség": "6407"
                                },
                                {
                                    "Szállítási dátum": "2016-06-14",
                                    "Szállítási mód": "Összesen",
                                    "Mennyiség": "7968"
                                },
                                {
                                    "Szállítási dátum": "2016-06-15",
                                    "Szállítási mód": "Összesen",
                                    "Mennyiség": "8830"
                                },
                                {
                                    "Szállítási dátum": "2016-06-16",
                                    "Szállítási mód": "Összesen",
                                    "Mennyiség": "6462"
                                },
                                {
                                    "Szállítási dátum": "2016-06-17",
                                    "Szállítási mód": "Összesen",
                                    "Mennyiség": "9189"
                                },
                                {
                                    "Szállítási dátum": "2016-06-18",
                                    "Szállítási mód": "Összesen",
                                    "Mennyiség": "6311"
                                },
                                {
                                    "Szállítási dátum": "2016-06-19",
                                    "Szállítási mód": "Összesen",
                                    "Mennyiség": "8834"
                                },
                                {
                                    "Szállítási dátum": "2016-06-20",
                                    "Szállítási mód": "Összesen",
                                    "Mennyiség": "8005"
                                },
                                {
                                    "Szállítási dátum": "2016-06-21",
                                    "Szállítási mód": "Összesen",
                                    "Mennyiség": "6482"
                                },
                                {
                                    "Szállítási dátum": "2016-06-22",
                                    "Szállítási mód": "Összesen",
                                    "Mennyiség": "6541"
                                },
                                {
                                    "Szállítási dátum": "2016-06-23",
                                    "Szállítási mód": "Összesen",
                                    "Mennyiség": "6662"
                                },
                                {
                                    "Szállítási dátum": "2016-06-24",
                                    "Szállítási mód": "Összesen",
                                    "Mennyiség": "8530"
                                },
                                {
                                    "Szállítási dátum": "2016-06-25",
                                    "Szállítási mód": "Összesen",
                                    "Mennyiség": "8262"
                                },
                                {
                                    "Szállítási dátum": "2016-06-26",
                                    "Szállítási mód": "Összesen",
                                    "Mennyiség": "10488"
                                },
                                {
                                    "Szállítási dátum": "2016-06-27",
                                    "Szállítási mód": "Összesen",
                                    "Mennyiség": "5541"
                                },
                                {
                                    "Szállítási dátum": "2016-06-28",
                                    "Szállítási mód": "Összesen",
                                    "Mennyiség": "10267"
                                },
                                {
                                    "Szállítási dátum": "2016-06-29",
                                    "Szállítási mód": "Összesen",
                                    "Mennyiség": "9869"
                                },
                                {
                                    "Szállítási dátum": "2016-06-30",
                                    "Szállítási mód": "Összesen",
                                    "Mennyiség": "9437"
                                },
                                {
                                    "Szállítási dátum": "2016-07-01",
                                    "Szállítási mód": "Összesen",
                                    "Mennyiség": "5916"
                                },
                                {
                                    "Szállítási dátum": "2016-07-02",
                                    "Szállítási mód": "Összesen",
                                    "Mennyiség": "6710"
                                },
                                {
                                    "Szállítási dátum": "2016-07-03",
                                    "Szállítási mód": "Összesen",
                                    "Mennyiség": "9081"
                                },
                                {
                                    "Szállítási dátum": "2016-07-04",
                                    "Szállítási mód": "Összesen",
                                    "Mennyiség": "10816"
                                },
                                {
                                    "Szállítási dátum": "2016-07-05",
                                    "Szállítási mód": "Összesen",
                                    "Mennyiség": "8863"
                                },
                                {
                                    "Szállítási dátum": "2016-07-06",
                                    "Szállítási mód": "Összesen",
                                    "Mennyiség": "7283"
                                },
                                {
                                    "Szállítási dátum": "2016-07-07",
                                    "Szállítási mód": "Összesen",
                                    "Mennyiség": "5922"
                                },
                                {
                                    "Szállítási dátum": "2016-07-08",
                                    "Szállítási mód": "Összesen",
                                    "Mennyiség": "7968"
                                },
                                {
                                    "Szállítási dátum": "2016-07-09",
                                    "Szállítási mód": "Összesen",
                                    "Mennyiség": "9112"
                                },
                                {
                                    "Szállítási dátum": "2016-07-10",
                                    "Szállítási mód": "Összesen",
                                    "Mennyiség": "7494"
                                },
                                {
                                    "Szállítási dátum": "2016-07-11",
                                    "Szállítási mód": "Összesen",
                                    "Mennyiség": "10358"
                                },
                                {
                                    "Szállítási dátum": "2016-07-12",
                                    "Szállítási mód": "Összesen",
                                    "Mennyiség": "8519"
                                },
                                {
                                    "Szállítási dátum": "2016-07-13",
                                    "Szállítási mód": "Összesen",
                                    "Mennyiség": "8721"
                                },
                                {
                                    "Szállítási dátum": "2016-07-14",
                                    "Szállítási mód": "Összesen",
                                    "Mennyiség": "7363"
                                },
                                {
                                    "Szállítási dátum": "2016-07-15",
                                    "Szállítási mód": "Összesen",
                                    "Mennyiség": "7066"
                                },
                                {
                                    "Szállítási dátum": "2016-07-16",
                                    "Szállítási mód": "Összesen",
                                    "Mennyiség": "8298"
                                },
                                {
                                    "Szállítási dátum": "2016-07-17",
                                    "Szállítási mód": "Összesen",
                                    "Mennyiség": "6320"
                                },
                                {
                                    "Szállítási dátum": "2016-07-18",
                                    "Szállítási mód": "Összesen",
                                    "Mennyiség": "8573"
                                },
                                {
                                    "Szállítási dátum": "2016-07-19",
                                    "Szállítási mód": "Összesen",
                                    "Mennyiség": "9023"
                                },
                                {
                                    "Szállítási dátum": "2016-07-20",
                                    "Szállítási mód": "Összesen",
                                    "Mennyiség": "7415"
                                },
                                {
                                    "Szállítási dátum": "2016-07-21",
                                    "Szállítási mód": "Összesen",
                                    "Mennyiség": "7484"
                                },
                                {
                                    "Szállítási dátum": "2016-07-22",
                                    "Szállítási mód": "Összesen",
                                    "Mennyiség": "7412"
                                },
                                {
                                    "Szállítási dátum": "2016-07-23",
                                    "Szállítási mód": "Összesen",
                                    "Mennyiség": "6895"
                                },
                                {
                                    "Szállítási dátum": "2016-07-24",
                                    "Szállítási mód": "Összesen",
                                    "Mennyiség": "6958"
                                },
                                {
                                    "Szállítási dátum": "2016-07-25",
                                    "Szállítási mód": "Összesen",
                                    "Mennyiség": "7559"
                                },
                                {
                                    "Szállítási dátum": "2016-07-26",
                                    "Szállítási mód": "Összesen",
                                    "Mennyiség": "7020"
                                },
                                {
                                    "Szállítási dátum": "2016-07-27",
                                    "Szállítási mód": "Összesen",
                                    "Mennyiség": "9352"
                                },
                                {
                                    "Szállítási dátum": "2016-07-28",
                                    "Szállítási mód": "Összesen",
                                    "Mennyiség": "7155"
                                },
                                {
                                    "Szállítási dátum": "2016-07-29",
                                    "Szállítási mód": "Összesen",
                                    "Mennyiség": "9038"
                                },
                                {
                                    "Szállítási dátum": "2016-07-30",
                                    "Szállítási mód": "Összesen",
                                    "Mennyiség": "6288"
                                },
                                {
                                    "Szállítási dátum": "2016-07-31",
                                    "Szállítási mód": "Összesen",
                                    "Mennyiség": "9007"
                                },
                                {
                                    "Szállítási dátum": "2016-08-01",
                                    "Szállítási mód": "Összesen",
                                    "Mennyiség": "7588"
                                },
                                {
                                    "Szállítási dátum": "2016-08-02",
                                    "Szállítási mód": "Összesen",
                                    "Mennyiség": "6686"
                                },
                                {
                                    "Szállítási dátum": "2016-08-03",
                                    "Szállítási mód": "Összesen",
                                    "Mennyiség": "7884"
                                },
                                {
                                    "Szállítási dátum": "2016-08-04",
                                    "Szállítási mód": "Összesen",
                                    "Mennyiség": "6900"
                                },
                                {
                                    "Szállítási dátum": "2016-08-05",
                                    "Szállítási mód": "Összesen",
                                    "Mennyiség": "7610"
                                },
                                {
                                    "Szállítási dátum": "2016-08-06",
                                    "Szállítási mód": "Összesen",
                                    "Mennyiség": "8498"
                                },
                                {
                                    "Szállítási dátum": "2016-08-07",
                                    "Szállítási mód": "Összesen",
                                    "Mennyiség": "5511"
                                },
                                {
                                    "Szállítási dátum": "2016-08-08",
                                    "Szállítási mód": "Összesen",
                                    "Mennyiség": "5829"
                                },
                                {
                                    "Szállítási dátum": "2016-08-09",
                                    "Szállítási mód": "Összesen",
                                    "Mennyiség": "10307"
                                },
                                {
                                    "Szállítási dátum": "2016-08-10",
                                    "Szállítási mód": "Összesen",
                                    "Mennyiség": "8311"
                                },
                                {
                                    "Szállítási dátum": "2016-08-11",
                                    "Szállítási mód": "Összesen",
                                    "Mennyiség": "8232"
                                },
                                {
                                    "Szállítási dátum": "2016-08-12",
                                    "Szállítási mód": "Összesen",
                                    "Mennyiség": "8761"
                                },
                                {
                                    "Szállítási dátum": "2016-08-13",
                                    "Szállítási mód": "Összesen",
                                    "Mennyiség": "9571"
                                },
                                {
                                    "Szállítási dátum": "2016-08-14",
                                    "Szállítási mód": "Összesen",
                                    "Mennyiség": "8263"
                                },
                                {
                                    "Szállítási dátum": "2016-08-15",
                                    "Szállítási mód": "Összesen",
                                    "Mennyiség": "10966"
                                },
                                {
                                    "Szállítási dátum": "2016-08-16",
                                    "Szállítási mód": "Összesen",
                                    "Mennyiség": "7435"
                                },
                                {
                                    "Szállítási dátum": "2016-08-17",
                                    "Szállítási mód": "Összesen",
                                    "Mennyiség": "7576"
                                },
                                {
                                    "Szállítási dátum": "2016-08-18",
                                    "Szállítási mód": "Összesen",
                                    "Mennyiség": "7689"
                                },
                                {
                                    "Szállítási dátum": "2016-08-19",
                                    "Szállítási mód": "Összesen",
                                    "Mennyiség": "6974"
                                },
                                {
                                    "Szállítási dátum": "2016-08-20",
                                    "Szállítási mód": "Összesen",
                                    "Mennyiség": "9117"
                                },
                                {
                                    "Szállítási dátum": "2016-08-21",
                                    "Szállítási mód": "Összesen",
                                    "Mennyiség": "5864"
                                },
                                {
                                    "Szállítási dátum": "2016-08-22",
                                    "Szállítási mód": "Összesen",
                                    "Mennyiség": "7082"
                                },
                                {
                                    "Szállítási dátum": "2016-08-23",
                                    "Szállítási mód": "Összesen",
                                    "Mennyiség": "6153"
                                },
                                {
                                    "Szállítási dátum": "2016-08-24",
                                    "Szállítási mód": "Összesen",
                                    "Mennyiség": "8822"
                                },
                                {
                                    "Szállítási dátum": "2016-08-25",
                                    "Szállítási mód": "Összesen",
                                    "Mennyiség": "9398"
                                },
                                {
                                    "Szállítási dátum": "2016-08-26",
                                    "Szállítási mód": "Összesen",
                                    "Mennyiség": "8695"
                                },
                                {
                                    "Szállítási dátum": "2016-08-27",
                                    "Szállítási mód": "Összesen",
                                    "Mennyiség": "8120"
                                },
                                {
                                    "Szállítási dátum": "2016-08-28",
                                    "Szállítási mód": "Összesen",
                                    "Mennyiség": "8937"
                                },
                                {
                                    "Szállítási dátum": "2016-08-29",
                                    "Szállítási mód": "Összesen",
                                    "Mennyiség": "7542"
                                },
                                {
                                    "Szállítási dátum": "2016-08-30",
                                    "Szállítási mód": "Összesen",
                                    "Mennyiség": "5527"
                                },
                                {
                                    "Szállítási dátum": "2016-08-31",
                                    "Szállítási mód": "Összesen",
                                    "Mennyiség": "6069"
                                },
                                {
                                    "Szállítási dátum": "2016-09-01",
                                    "Szállítási mód": "Összesen",
                                    "Mennyiség": "6626"
                                },
                                {
                                    "Szállítási dátum": "2016-09-02",
                                    "Szállítási mód": "Összesen",
                                    "Mennyiség": "7775"
                                },
                                {
                                    "Szállítási dátum": "2016-09-03",
                                    "Szállítási mód": "Összesen",
                                    "Mennyiség": "11043"
                                },
                                {
                                    "Szállítási dátum": "2016-09-04",
                                    "Szállítási mód": "Összesen",
                                    "Mennyiség": "11369"
                                },
                                {
                                    "Szállítási dátum": "2016-09-05",
                                    "Szállítási mód": "Összesen",
                                    "Mennyiség": "6206"
                                },
                                {
                                    "Szállítási dátum": "2016-09-06",
                                    "Szállítási mód": "Összesen",
                                    "Mennyiség": "8736"
                                },
                                {
                                    "Szállítási dátum": "2016-09-07",
                                    "Szállítási mód": "Összesen",
                                    "Mennyiség": "8579"
                                },
                                {
                                    "Szállítási dátum": "2016-09-08",
                                    "Szállítási mód": "Összesen",
                                    "Mennyiség": "8561"
                                },
                                {
                                    "Szállítási dátum": "2016-09-09",
                                    "Szállítási mód": "Összesen",
                                    "Mennyiség": "8470"
                                },
                                {
                                    "Szállítási dátum": "2016-09-10",
                                    "Szállítási mód": "Összesen",
                                    "Mennyiség": "9203"
                                },
                                {
                                    "Szállítási dátum": "2016-09-11",
                                    "Szállítási mód": "Összesen",
                                    "Mennyiség": "8573"
                                },
                                {
                                    "Szállítási dátum": "2016-09-12",
                                    "Szállítási mód": "Összesen",
                                    "Mennyiség": "6264"
                                },
                                {
                                    "Szállítási dátum": "2016-09-13",
                                    "Szállítási mód": "Összesen",
                                    "Mennyiség": "8200"
                                },
                                {
                                    "Szállítási dátum": "2016-09-14",
                                    "Szállítási mód": "Összesen",
                                    "Mennyiség": "10576"
                                },
                                {
                                    "Szállítási dátum": "2016-09-15",
                                    "Szállítási mód": "Összesen",
                                    "Mennyiség": "10530"
                                },
                                {
                                    "Szállítási dátum": "2016-09-16",
                                    "Szállítási mód": "Összesen",
                                    "Mennyiség": "5621"
                                },
                                {
                                    "Szállítási dátum": "2016-09-17",
                                    "Szállítási mód": "Összesen",
                                    "Mennyiség": "7379"
                                },
                                {
                                    "Szállítási dátum": "2016-09-18",
                                    "Szállítási mód": "Összesen",
                                    "Mennyiség": "10790"
                                },
                                {
                                    "Szállítási dátum": "2016-09-19",
                                    "Szállítási mód": "Összesen",
                                    "Mennyiség": "7019"
                                },
                                {
                                    "Szállítási dátum": "2016-09-20",
                                    "Szállítási mód": "Összesen",
                                    "Mennyiség": "8544"
                                },
                                {
                                    "Szállítási dátum": "2016-09-21",
                                    "Szállítási mód": "Összesen",
                                    "Mennyiség": "5504"
                                },
                                {
                                    "Szállítási dátum": "2016-09-22",
                                    "Szállítási mód": "Összesen",
                                    "Mennyiség": "6691"
                                },
                                {
                                    "Szállítási dátum": "2016-09-23",
                                    "Szállítási mód": "Összesen",
                                    "Mennyiség": "6574"
                                },
                                {
                                    "Szállítási dátum": "2016-09-24",
                                    "Szállítási mód": "Összesen",
                                    "Mennyiség": "6220"
                                },
                                {
                                    "Szállítási dátum": "2016-09-25",
                                    "Szállítási mód": "Összesen",
                                    "Mennyiség": "6759"
                                },
                                {
                                    "Szállítási dátum": "2016-09-26",
                                    "Szállítási mód": "Összesen",
                                    "Mennyiség": "7073"
                                },
                                {
                                    "Szállítási dátum": "2016-09-27",
                                    "Szállítási mód": "Összesen",
                                    "Mennyiség": "9214"
                                },
                                {
                                    "Szállítási dátum": "2016-09-28",
                                    "Szállítási mód": "Összesen",
                                    "Mennyiség": "7948"
                                },
                                {
                                    "Szállítási dátum": "2016-09-29",
                                    "Szállítási mód": "Összesen",
                                    "Mennyiség": "5840"
                                },
                                {
                                    "Szállítási dátum": "2016-09-30",
                                    "Szállítási mód": "Összesen",
                                    "Mennyiség": "8410"
                                },
                                {
                                    "Szállítási dátum": "2016-10-01",
                                    "Szállítási mód": "Összesen",
                                    "Mennyiség": "8122"
                                },
                                {
                                    "Szállítási dátum": "2016-10-02",
                                    "Szállítási mód": "Összesen",
                                    "Mennyiség": "7206"
                                },
                                {
                                    "Szállítási dátum": "2016-10-03",
                                    "Szállítási mód": "Összesen",
                                    "Mennyiség": "6357"
                                },
                                {
                                    "Szállítási dátum": "2016-10-04",
                                    "Szállítási mód": "Összesen",
                                    "Mennyiség": "7203"
                                },
                                {
                                    "Szállítási dátum": "2016-10-05",
                                    "Szállítási mód": "Összesen",
                                    "Mennyiség": "7856"
                                },
                                {
                                    "Szállítási dátum": "2016-10-06",
                                    "Szállítási mód": "Összesen",
                                    "Mennyiség": "6682"
                                },
                                {
                                    "Szállítási dátum": "2016-10-07",
                                    "Szállítási mód": "Összesen",
                                    "Mennyiség": "6607"
                                },
                                {
                                    "Szállítási dátum": "2016-10-08",
                                    "Szállítási mód": "Összesen",
                                    "Mennyiség": "8515"
                                },
                                {
                                    "Szállítási dátum": "2016-10-09",
                                    "Szállítási mód": "Összesen",
                                    "Mennyiség": "10396"
                                },
                                {
                                    "Szállítási dátum": "2016-10-10",
                                    "Szállítási mód": "Összesen",
                                    "Mennyiség": "7117"
                                },
                                {
                                    "Szállítási dátum": "2016-10-11",
                                    "Szállítási mód": "Összesen",
                                    "Mennyiség": "9192"
                                },
                                {
                                    "Szállítási dátum": "2016-10-12",
                                    "Szállítási mód": "Összesen",
                                    "Mennyiség": "10889"
                                },
                                {
                                    "Szállítási dátum": "2016-10-13",
                                    "Szállítási mód": "Összesen",
                                    "Mennyiség": "10192"
                                },
                                {
                                    "Szállítási dátum": "2016-10-14",
                                    "Szállítási mód": "Összesen",
                                    "Mennyiség": "7397"
                                },
                                {
                                    "Szállítási dátum": "2016-10-15",
                                    "Szállítási mód": "Összesen",
                                    "Mennyiség": "7459"
                                },
                                {
                                    "Szállítási dátum": "2016-10-16",
                                    "Szállítási mód": "Összesen",
                                    "Mennyiség": "7198"
                                },
                                {
                                    "Szállítási dátum": "2016-10-17",
                                    "Szállítási mód": "Összesen",
                                    "Mennyiség": "11045"
                                },
                                {
                                    "Szállítási dátum": "2016-10-18",
                                    "Szállítási mód": "Összesen",
                                    "Mennyiség": "7033"
                                },
                                {
                                    "Szállítási dátum": "2016-10-19",
                                    "Szállítási mód": "Összesen",
                                    "Mennyiség": "9307"
                                },
                                {
                                    "Szállítási dátum": "2016-10-20",
                                    "Szállítási mód": "Összesen",
                                    "Mennyiség": "6856"
                                },
                                {
                                    "Szállítási dátum": "2016-10-21",
                                    "Szállítási mód": "Összesen",
                                    "Mennyiség": "9403"
                                },
                                {
                                    "Szállítási dátum": "2016-10-22",
                                    "Szállítási mód": "Összesen",
                                    "Mennyiség": "8356"
                                },
                                {
                                    "Szállítási dátum": "2016-10-23",
                                    "Szállítási mód": "Összesen",
                                    "Mennyiség": "9634"
                                },
                                {
                                    "Szállítási dátum": "2016-10-24",
                                    "Szállítási mód": "Összesen",
                                    "Mennyiség": "4888"
                                },
                                {
                                    "Szállítási dátum": "2016-10-25",
                                    "Szállítási mód": "Összesen",
                                    "Mennyiség": "11978"
                                },
                                {
                                    "Szállítási dátum": "2016-10-26",
                                    "Szállítási mód": "Összesen",
                                    "Mennyiség": "8070"
                                },
                                {
                                    "Szállítási dátum": "2016-10-27",
                                    "Szállítási mód": "Összesen",
                                    "Mennyiség": "7617"
                                },
                                {
                                    "Szállítási dátum": "2016-10-28",
                                    "Szállítási mód": "Összesen",
                                    "Mennyiség": "7766"
                                },
                                {
                                    "Szállítási dátum": "2016-10-29",
                                    "Szállítási mód": "Összesen",
                                    "Mennyiség": "6854"
                                },
                                {
                                    "Szállítási dátum": "2016-10-30",
                                    "Szállítási mód": "Összesen",
                                    "Mennyiség": "11718"
                                },
                                {
                                    "Szállítási dátum": "2016-10-31",
                                    "Szállítási mód": "Összesen",
                                    "Mennyiség": "8714"
                                },
                                {
                                    "Szállítási dátum": "2016-11-01",
                                    "Szállítási mód": "Összesen",
                                    "Mennyiség": "7238"
                                },
                                {
                                    "Szállítási dátum": "2016-11-02",
                                    "Szállítási mód": "Összesen",
                                    "Mennyiség": "5472"
                                },
                                {
                                    "Szállítási dátum": "2016-11-03",
                                    "Szállítási mód": "Összesen",
                                    "Mennyiség": "7739"
                                },
                                {
                                    "Szállítási dátum": "2016-11-04",
                                    "Szállítási mód": "Összesen",
                                    "Mennyiség": "6667"
                                },
                                {
                                    "Szállítási dátum": "2016-11-05",
                                    "Szállítási mód": "Összesen",
                                    "Mennyiség": "9157"
                                },
                                {
                                    "Szállítási dátum": "2016-11-06",
                                    "Szállítási mód": "Összesen",
                                    "Mennyiség": "8517"
                                },
                                {
                                    "Szállítási dátum": "2016-11-07",
                                    "Szállítási mód": "Összesen",
                                    "Mennyiség": "6691"
                                },
                                {
                                    "Szállítási dátum": "2016-11-08",
                                    "Szállítási mód": "Összesen",
                                    "Mennyiség": "8431"
                                },
                                {
                                    "Szállítási dátum": "2016-11-09",
                                    "Szállítási mód": "Összesen",
                                    "Mennyiség": "5911"
                                },
                                {
                                    "Szállítási dátum": "2016-11-10",
                                    "Szállítási mód": "Összesen",
                                    "Mennyiség": "6795"
                                },
                                {
                                    "Szállítási dátum": "2016-11-11",
                                    "Szállítási mód": "Összesen",
                                    "Mennyiség": "6940"
                                },
                                {
                                    "Szállítási dátum": "2016-11-12",
                                    "Szállítási mód": "Összesen",
                                    "Mennyiség": "10959"
                                },
                                {
                                    "Szállítási dátum": "2016-11-13",
                                    "Szállítási mód": "Összesen",
                                    "Mennyiség": "10751"
                                },
                                {
                                    "Szállítási dátum": "2016-11-14",
                                    "Szállítási mód": "Összesen",
                                    "Mennyiség": "11881"
                                },
                                {
                                    "Szállítási dátum": "2016-11-15",
                                    "Szállítási mód": "Összesen",
                                    "Mennyiség": "6736"
                                },
                                {
                                    "Szállítási dátum": "2016-11-16",
                                    "Szállítási mód": "Összesen",
                                    "Mennyiség": "8969"
                                },
                                {
                                    "Szállítási dátum": "2016-11-17",
                                    "Szállítási mód": "Összesen",
                                    "Mennyiség": "6852"
                                },
                                {
                                    "Szállítási dátum": "2016-11-18",
                                    "Szállítási mód": "Összesen",
                                    "Mennyiség": "6770"
                                },
                                {
                                    "Szállítási dátum": "2016-11-19",
                                    "Szállítási mód": "Összesen",
                                    "Mennyiség": "7451"
                                },
                                {
                                    "Szállítási dátum": "2016-11-20",
                                    "Szállítási mód": "Összesen",
                                    "Mennyiség": "7946"
                                },
                                {
                                    "Szállítási dátum": "2016-11-21",
                                    "Szállítási mód": "Összesen",
                                    "Mennyiség": "6727"
                                },
                                {
                                    "Szállítási dátum": "2016-11-22",
                                    "Szállítási mód": "Összesen",
                                    "Mennyiség": "7801"
                                },
                                {
                                    "Szállítási dátum": "2016-11-23",
                                    "Szállítási mód": "Összesen",
                                    "Mennyiség": "7435"
                                },
                                {
                                    "Szállítási dátum": "2016-11-24",
                                    "Szállítási mód": "Összesen",
                                    "Mennyiség": "5981"
                                },
                                {
                                    "Szállítási dátum": "2016-11-25",
                                    "Szállítási mód": "Összesen",
                                    "Mennyiség": "6915"
                                },
                                {
                                    "Szállítási dátum": "2016-11-26",
                                    "Szállítási mód": "Összesen",
                                    "Mennyiség": "9216"
                                },
                                {
                                    "Szállítási dátum": "2016-11-27",
                                    "Szállítási mód": "Összesen",
                                    "Mennyiség": "9893"
                                },
                                {
                                    "Szállítási dátum": "2016-11-28",
                                    "Szállítási mód": "Összesen",
                                    "Mennyiség": "9770"
                                },
                                {
                                    "Szállítási dátum": "2016-11-29",
                                    "Szállítási mód": "Összesen",
                                    "Mennyiség": "8722"
                                },
                                {
                                    "Szállítási dátum": "2016-11-30",
                                    "Szállítási mód": "Összesen",
                                    "Mennyiség": "6419"
                                },
                                {
                                    "Szállítási dátum": "2016-12-01",
                                    "Szállítási mód": "Összesen",
                                    "Mennyiség": "9940"
                                },
                                {
                                    "Szállítási dátum": "2016-12-02",
                                    "Szállítási mód": "Összesen",
                                    "Mennyiség": "4748"
                                },
                                {
                                    "Szállítási dátum": "2016-12-03",
                                    "Szállítási mód": "Összesen",
                                    "Mennyiség": "6745"
                                },
                                {
                                    "Szállítási dátum": "2016-12-04",
                                    "Szállítási mód": "Összesen",
                                    "Mennyiség": "9959"
                                },
                                {
                                    "Szállítási dátum": "2016-12-05",
                                    "Szállítási mód": "Összesen",
                                    "Mennyiség": "8225"
                                },
                                {
                                    "Szállítási dátum": "2016-12-06",
                                    "Szállítási mód": "Összesen",
                                    "Mennyiség": "7762"
                                },
                                {
                                    "Szállítási dátum": "2016-12-07",
                                    "Szállítási mód": "Összesen",
                                    "Mennyiség": "7380"
                                },
                                {
                                    "Szállítási dátum": "2016-12-08",
                                    "Szállítási mód": "Összesen",
                                    "Mennyiség": "7200"
                                },
                                {
                                    "Szállítási dátum": "2016-12-09",
                                    "Szállítási mód": "Összesen",
                                    "Mennyiség": "9724"
                                },
                                {
                                    "Szállítási dátum": "2016-12-10",
                                    "Szállítási mód": "Összesen",
                                    "Mennyiség": "7083"
                                },
                                {
                                    "Szállítási dátum": "2016-12-11",
                                    "Szállítási mód": "Összesen",
                                    "Mennyiség": "7576"
                                },
                                {
                                    "Szállítási dátum": "2016-12-12",
                                    "Szállítási mód": "Összesen",
                                    "Mennyiség": "8580"
                                },
                                {
                                    "Szállítási dátum": "2016-12-13",
                                    "Szállítási mód": "Összesen",
                                    "Mennyiség": "8233"
                                },
                                {
                                    "Szállítási dátum": "2016-12-14",
                                    "Szállítási mód": "Összesen",
                                    "Mennyiség": "6268"
                                },
                                {
                                    "Szállítási dátum": "2016-12-15",
                                    "Szállítási mód": "Összesen",
                                    "Mennyiség": "7392"
                                },
                                {
                                    "Szállítási dátum": "2016-12-16",
                                    "Szállítási mód": "Összesen",
                                    "Mennyiség": "6407"
                                },
                                {
                                    "Szállítási dátum": "2016-12-17",
                                    "Szállítási mód": "Összesen",
                                    "Mennyiség": "7555"
                                },
                                {
                                    "Szállítási dátum": "2016-12-18",
                                    "Szállítási mód": "Összesen",
                                    "Mennyiség": "6070"
                                },
                                {
                                    "Szállítási dátum": "2016-12-19",
                                    "Szállítási mód": "Összesen",
                                    "Mennyiség": "5390"
                                },
                                {
                                    "Szállítási dátum": "2016-12-20",
                                    "Szállítási mód": "Összesen",
                                    "Mennyiség": "7735"
                                },
                                {
                                    "Szállítási dátum": "2016-12-21",
                                    "Szállítási mód": "Összesen",
                                    "Mennyiség": "10434"
                                },
                                {
                                    "Szállítási dátum": "2016-12-22",
                                    "Szállítási mód": "Összesen",
                                    "Mennyiség": "5465"
                                },
                                {
                                    "Szállítási dátum": "2016-12-23",
                                    "Szállítási mód": "Összesen",
                                    "Mennyiség": "8338"
                                },
                                {
                                    "Szállítási dátum": "2016-12-24",
                                    "Szállítási mód": "Összesen",
                                    "Mennyiség": "5916"
                                },
                                {
                                    "Szállítási dátum": "2016-12-25",
                                    "Szállítási mód": "Összesen",
                                    "Mennyiség": "7345"
                                },
                                {
                                    "Szállítási dátum": "2016-12-26",
                                    "Szállítási mód": "Összesen",
                                    "Mennyiség": "9875"
                                },
                                {
                                    "Szállítási dátum": "2016-12-27",
                                    "Szállítási mód": "Összesen",
                                    "Mennyiség": "10216"
                                },
                                {
                                    "Szállítási dátum": "2016-12-28",
                                    "Szállítási mód": "Összesen",
                                    "Mennyiség": "6222"
                                },
                                {
                                    "Szállítási dátum": "2016-12-29",
                                    "Szállítási mód": "Összesen",
                                    "Mennyiség": "10046"
                                },
                                {
                                    "Szállítási dátum": "2016-12-30",
                                    "Szállítási mód": "Összesen",
                                    "Mennyiség": "7113"
                                },
                                {
                                    "Szállítási dátum": "2016-12-31",
                                    "Szállítási mód": "Összesen",
                                    "Mennyiség": "7188"
                                },
                                {
                                    "Szállítási dátum": "2017-01-01",
                                    "Szállítási mód": "Összesen",
                                    "Mennyiség": "7200"
                                },
                                {
                                    "Szállítási dátum": "2017-01-02",
                                    "Szállítási mód": "Összesen",
                                    "Mennyiség": "7425"
                                },
                                {
                                    "Szállítási dátum": "2017-01-03",
                                    "Szállítási mód": "Összesen",
                                    "Mennyiség": "6783"
                                },
                                {
                                    "Szállítási dátum": "2017-01-04",
                                    "Szállítási mód": "Összesen",
                                    "Mennyiség": "7465"
                                },
                                {
                                    "Szállítási dátum": "2017-01-05",
                                    "Szállítási mód": "Összesen",
                                    "Mennyiség": "7591"
                                },
                                {
                                    "Szállítási dátum": "2017-01-06",
                                    "Szállítási mód": "Összesen",
                                    "Mennyiség": "8298"
                                },
                                {
                                    "Szállítási dátum": "2017-01-07",
                                    "Szállítási mód": "Összesen",
                                    "Mennyiség": "8976"
                                },
                                {
                                    "Szállítási dátum": "2017-01-08",
                                    "Szállítási mód": "Összesen",
                                    "Mennyiség": "7179"
                                },
                                {
                                    "Szállítási dátum": "2017-01-09",
                                    "Szállítási mód": "Összesen",
                                    "Mennyiség": "9465"
                                },
                                {
                                    "Szállítási dátum": "2017-01-10",
                                    "Szállítási mód": "Összesen",
                                    "Mennyiség": "8667"
                                },
                                {
                                    "Szállítási dátum": "2017-01-11",
                                    "Szállítási mód": "Összesen",
                                    "Mennyiség": "9472"
                                },
                                {
                                    "Szállítási dátum": "2017-01-12",
                                    "Szállítási mód": "Összesen",
                                    "Mennyiség": "7636"
                                },
                                {
                                    "Szállítási dátum": "2017-01-13",
                                    "Szállítási mód": "Összesen",
                                    "Mennyiség": "7538"
                                },
                                {
                                    "Szállítási dátum": "2017-01-14",
                                    "Szállítási mód": "Összesen",
                                    "Mennyiség": "8920"
                                },
                                {
                                    "Szállítási dátum": "2017-01-15",
                                    "Szállítási mód": "Összesen",
                                    "Mennyiség": "7611"
                                },
                                {
                                    "Szállítási dátum": "2017-01-16",
                                    "Szállítási mód": "Összesen",
                                    "Mennyiség": "7369"
                                },
                                {
                                    "Szállítási dátum": "2017-01-17",
                                    "Szállítási mód": "Összesen",
                                    "Mennyiség": "8658"
                                },
                                {
                                    "Szállítási dátum": "2017-01-18",
                                    "Szállítási mód": "Összesen",
                                    "Mennyiség": "6558"
                                },
                                {
                                    "Szállítási dátum": "2017-01-19",
                                    "Szállítási mód": "Összesen",
                                    "Mennyiség": "6422"
                                },
                                {
                                    "Szállítási dátum": "2017-01-20",
                                    "Szállítási mód": "Összesen",
                                    "Mennyiség": "6450"
                                },
                                {
                                    "Szállítási dátum": "2017-01-21",
                                    "Szállítási mód": "Összesen",
                                    "Mennyiség": "7150"
                                },
                                {
                                    "Szállítási dátum": "2017-01-22",
                                    "Szállítási mód": "Összesen",
                                    "Mennyiség": "8199"
                                },
                                {
                                    "Szállítási dátum": "2017-01-23",
                                    "Szállítási mód": "Összesen",
                                    "Mennyiség": "8394"
                                },
                                {
                                    "Szállítási dátum": "2017-01-24",
                                    "Szállítási mód": "Összesen",
                                    "Mennyiség": "8615"
                                },
                                {
                                    "Szállítási dátum": "2017-01-25",
                                    "Szállítási mód": "Összesen",
                                    "Mennyiség": "6484"
                                },
                                {
                                    "Szállítási dátum": "2017-01-26",
                                    "Szállítási mód": "Összesen",
                                    "Mennyiség": "9426"
                                },
                                {
                                    "Szállítási dátum": "2017-01-27",
                                    "Szállítási mód": "Összesen",
                                    "Mennyiség": "5418"
                                },
                                {
                                    "Szállítási dátum": "2017-01-28",
                                    "Szállítási mód": "Összesen",
                                    "Mennyiség": "8401"
                                },
                                {
                                    "Szállítási dátum": "2017-01-29",
                                    "Szállítási mód": "Összesen",
                                    "Mennyiség": "8997"
                                },
                                {
                                    "Szállítási dátum": "2017-01-30",
                                    "Szállítási mód": "Összesen",
                                    "Mennyiség": "9661"
                                },
                                {
                                    "Szállítási dátum": "2017-01-31",
                                    "Szállítási mód": "Összesen",
                                    "Mennyiség": "6253"
                                },
                                {
                                    "Szállítási dátum": "2017-02-01",
                                    "Szállítási mód": "Összesen",
                                    "Mennyiség": "5703"
                                },
                                {
                                    "Szállítási dátum": "2017-02-02",
                                    "Szállítási mód": "Összesen",
                                    "Mennyiség": "8746"
                                },
                                {
                                    "Szállítási dátum": "2017-02-03",
                                    "Szállítási mód": "Összesen",
                                    "Mennyiség": "7840"
                                },
                                {
                                    "Szállítási dátum": "2017-02-04",
                                    "Szállítási mód": "Összesen",
                                    "Mennyiség": "6220"
                                },
                                {
                                    "Szállítási dátum": "2017-02-05",
                                    "Szállítási mód": "Összesen",
                                    "Mennyiség": "5138"
                                },
                                {
                                    "Szállítási dátum": "2017-02-06",
                                    "Szállítási mód": "Összesen",
                                    "Mennyiség": "8206"
                                },
                                {
                                    "Szállítási dátum": "2017-02-07",
                                    "Szállítási mód": "Összesen",
                                    "Mennyiség": "6846"
                                },
                                {
                                    "Szállítási dátum": "2017-02-08",
                                    "Szállítási mód": "Összesen",
                                    "Mennyiség": "10057"
                                },
                                {
                                    "Szállítási dátum": "2017-02-09",
                                    "Szállítási mód": "Összesen",
                                    "Mennyiség": "8302"
                                },
                                {
                                    "Szállítási dátum": "2017-02-10",
                                    "Szállítási mód": "Összesen",
                                    "Mennyiség": "8964"
                                },
                                {
                                    "Szállítási dátum": "2017-02-11",
                                    "Szállítási mód": "Összesen",
                                    "Mennyiség": "8790"
                                },
                                {
                                    "Szállítási dátum": "2017-02-12",
                                    "Szállítási mód": "Összesen",
                                    "Mennyiség": "6268"
                                },
                                {
                                    "Szállítási dátum": "2017-02-13",
                                    "Szállítási mód": "Összesen",
                                    "Mennyiség": "8176"
                                },
                                {
                                    "Szállítási dátum": "2017-02-14",
                                    "Szállítási mód": "Összesen",
                                    "Mennyiség": "10029"
                                },
                                {
                                    "Szállítási dátum": "2017-02-15",
                                    "Szállítási mód": "Összesen",
                                    "Mennyiség": "6443"
                                },
                                {
                                    "Szállítási dátum": "2017-02-16",
                                    "Szállítási mód": "Összesen",
                                    "Mennyiség": "8794"
                                },
                                {
                                    "Szállítási dátum": "2017-02-17",
                                    "Szállítási mód": "Összesen",
                                    "Mennyiség": "9808"
                                },
                                {
                                    "Szállítási dátum": "2017-02-18",
                                    "Szállítási mód": "Összesen",
                                    "Mennyiség": "10757"
                                },
                                {
                                    "Szállítási dátum": "2017-02-19",
                                    "Szállítási mód": "Összesen",
                                    "Mennyiség": "8284"
                                },
                                {
                                    "Szállítási dátum": "2017-02-20",
                                    "Szállítási mód": "Összesen",
                                    "Mennyiség": "5660"
                                },
                                {
                                    "Szállítási dátum": "2017-02-21",
                                    "Szállítási mód": "Összesen",
                                    "Mennyiség": "8878"
                                },
                                {
                                    "Szállítási dátum": "2017-02-22",
                                    "Szállítási mód": "Összesen",
                                    "Mennyiség": "9034"
                                },
                                {
                                    "Szállítási dátum": "2017-02-23",
                                    "Szállítási mód": "Összesen",
                                    "Mennyiség": "7574"
                                },
                                {
                                    "Szállítási dátum": "2017-02-24",
                                    "Szállítási mód": "Összesen",
                                    "Mennyiség": "6814"
                                },
                                {
                                    "Szállítási dátum": "2017-02-25",
                                    "Szállítási mód": "Összesen",
                                    "Mennyiség": "6820"
                                },
                                {
                                    "Szállítási dátum": "2017-02-26",
                                    "Szállítási mód": "Összesen",
                                    "Mennyiség": "8578"
                                },
                                {
                                    "Szállítási dátum": "2017-02-27",
                                    "Szállítási mód": "Összesen",
                                    "Mennyiség": "9185"
                                },
                                {
                                    "Szállítási dátum": "2017-02-28",
                                    "Szállítási mód": "Összesen",
                                    "Mennyiség": "11649"
                                },
                                {
                                    "Szállítási dátum": "2017-03-01",
                                    "Szállítási mód": "Összesen",
                                    "Mennyiség": "5037"
                                },
                                {
                                    "Szállítási dátum": "2017-03-02",
                                    "Szállítási mód": "Összesen",
                                    "Mennyiség": "4861"
                                },
                                {
                                    "Szállítási dátum": "2017-03-03",
                                    "Szállítási mód": "Összesen",
                                    "Mennyiség": "7585"
                                },
                                {
                                    "Szállítási dátum": "2017-03-04",
                                    "Szállítási mód": "Összesen",
                                    "Mennyiség": "5977"
                                },
                                {
                                    "Szállítási dátum": "2017-03-05",
                                    "Szállítási mód": "Összesen",
                                    "Mennyiség": "10338"
                                },
                                {
                                    "Szállítási dátum": "2017-03-06",
                                    "Szállítási mód": "Összesen",
                                    "Mennyiség": "10916"
                                },
                                {
                                    "Szállítási dátum": "2017-03-07",
                                    "Szállítási mód": "Összesen",
                                    "Mennyiség": "8747"
                                },
                                {
                                    "Szállítási dátum": "2017-03-08",
                                    "Szállítási mód": "Összesen",
                                    "Mennyiség": "6837"
                                },
                                {
                                    "Szállítási dátum": "2017-03-09",
                                    "Szállítási mód": "Összesen",
                                    "Mennyiség": "6964"
                                },
                                {
                                    "Szállítási dátum": "2017-03-10",
                                    "Szállítási mód": "Összesen",
                                    "Mennyiség": "6846"
                                },
                                {
                                    "Szállítási dátum": "2017-03-11",
                                    "Szállítási mód": "Összesen",
                                    "Mennyiség": "6885"
                                },
                                {
                                    "Szállítási dátum": "2017-03-12",
                                    "Szállítási mód": "Összesen",
                                    "Mennyiség": "5941"
                                },
                                {
                                    "Szállítási dátum": "2017-03-13",
                                    "Szállítási mód": "Összesen",
                                    "Mennyiség": "6950"
                                },
                                {
                                    "Szállítási dátum": "2017-03-14",
                                    "Szállítási mód": "Összesen",
                                    "Mennyiség": "7224"
                                },
                                {
                                    "Szállítási dátum": "2017-03-15",
                                    "Szállítási mód": "Összesen",
                                    "Mennyiség": "9718"
                                },
                                {
                                    "Szállítási dátum": "2017-03-16",
                                    "Szállítási mód": "Összesen",
                                    "Mennyiség": "9763"
                                },
                                {
                                    "Szállítási dátum": "2017-03-17",
                                    "Szállítási mód": "Összesen",
                                    "Mennyiség": "8908"
                                },
                                {
                                    "Szállítási dátum": "2017-03-18",
                                    "Szállítási mód": "Összesen",
                                    "Mennyiség": "9344"
                                },
                                {
                                    "Szállítási dátum": "2017-03-19",
                                    "Szállítási mód": "Összesen",
                                    "Mennyiség": "9937"
                                },
                                {
                                    "Szállítási dátum": "2017-03-20",
                                    "Szállítási mód": "Összesen",
                                    "Mennyiség": "7683"
                                },
                                {
                                    "Szállítási dátum": "2017-03-21",
                                    "Szállítási mód": "Összesen",
                                    "Mennyiség": "8639"
                                },
                                {
                                    "Szállítási dátum": "2017-03-22",
                                    "Szállítási mód": "Összesen",
                                    "Mennyiség": "6526"
                                },
                                {
                                    "Szállítási dátum": "2017-03-23",
                                    "Szállítási mód": "Összesen",
                                    "Mennyiség": "8799"
                                },
                                {
                                    "Szállítási dátum": "2017-03-24",
                                    "Szállítási mód": "Összesen",
                                    "Mennyiség": "7416"
                                },
                                {
                                    "Szállítási dátum": "2017-03-25",
                                    "Szállítási mód": "Összesen",
                                    "Mennyiség": "6272"
                                },
                                {
                                    "Szállítási dátum": "2017-03-26",
                                    "Szállítási mód": "Összesen",
                                    "Mennyiség": "7786"
                                },
                                {
                                    "Szállítási dátum": "2017-03-27",
                                    "Szállítási mód": "Összesen",
                                    "Mennyiség": "7715"
                                },
                                {
                                    "Szállítási dátum": "2017-03-28",
                                    "Szállítási mód": "Összesen",
                                    "Mennyiség": "8568"
                                },
                                {
                                    "Szállítási dátum": "2017-03-29",
                                    "Szállítási mód": "Összesen",
                                    "Mennyiség": "8346"
                                },
                                {
                                    "Szállítási dátum": "2017-03-30",
                                    "Szállítási mód": "Összesen",
                                    "Mennyiség": "8513"
                                },
                                {
                                    "Szállítási dátum": "2017-03-31",
                                    "Szállítási mód": "Összesen",
                                    "Mennyiség": "8598"
                                },
                                {
                                    "Szállítási dátum": "2017-04-01",
                                    "Szállítási mód": "Összesen",
                                    "Mennyiség": "7307"
                                },
                                {
                                    "Szállítási dátum": "2017-04-02",
                                    "Szállítási mód": "Összesen",
                                    "Mennyiség": "9477"
                                },
                                {
                                    "Szállítási dátum": "2017-04-03",
                                    "Szállítási mód": "Összesen",
                                    "Mennyiség": "6042"
                                },
                                {
                                    "Szállítási dátum": "2017-04-04",
                                    "Szállítási mód": "Összesen",
                                    "Mennyiség": "7493"
                                },
                                {
                                    "Szállítási dátum": "2017-04-05",
                                    "Szállítási mód": "Összesen",
                                    "Mennyiség": "7562"
                                },
                                {
                                    "Szállítási dátum": "2017-04-06",
                                    "Szállítási mód": "Összesen",
                                    "Mennyiség": "4646"
                                },
                                {
                                    "Szállítási dátum": "2017-04-07",
                                    "Szállítási mód": "Összesen",
                                    "Mennyiség": "5197"
                                },
                                {
                                    "Szállítási dátum": "2017-04-08",
                                    "Szállítási mód": "Összesen",
                                    "Mennyiség": "3057"
                                },
                                {
                                    "Szállítási dátum": "2017-04-09",
                                    "Szállítási mód": "Összesen",
                                    "Mennyiség": "3870"
                                },
                                {
                                    "Szállítási dátum": "2017-04-10",
                                    "Szállítási mód": "Összesen",
                                    "Mennyiség": "1640"
                                },
                                {
                                    "Szállítási dátum": "2017-04-11",
                                    "Szállítási mód": "Összesen",
                                    "Mennyiség": "1220"
                                },
                                {
                                    "Szállítási dátum": "Összesen",
                                    "Szállítási mód": "Összesen",
                                    "Mennyiség": "5578316"
                                }
                            ]
                        },
                        "text/html": [
                            "<table>",
                            "<tr><th>Szállítási dátum</th><th>Szállítási mód</th><th>Mennyiség</th></tr>",
                            "<tr><td>2015-05-03</td><td>Összesen</td><td>100</td></tr>",
                            "<tr><td>2015-05-04</td><td>Összesen</td><td>996</td></tr>",
                            "<tr><td>2015-05-05</td><td>Összesen</td><td>3152</td></tr>",
                            "<tr><td>2015-05-06</td><td>Összesen</td><td>5030</td></tr>",
                            "<tr><td>2015-05-07</td><td>Összesen</td><td>3828</td></tr>",
                            "<tr><td>2015-05-08</td><td>Összesen</td><td>3213</td></tr>",
                            "<tr><td>2015-05-09</td><td>Összesen</td><td>6665</td></tr>",
                            "<tr><td>2015-05-10</td><td>Összesen</td><td>6909</td></tr>",
                            "<tr><td>2015-05-11</td><td>Összesen</td><td>6224</td></tr>",
                            "<tr><td>2015-05-12</td><td>Összesen</td><td>7568</td></tr>",
                            "<tr><td>2015-05-13</td><td>Összesen</td><td>7985</td></tr>",
                            "<tr><td>2015-05-14</td><td>Összesen</td><td>9706</td></tr>",
                            "<tr><td>2015-05-15</td><td>Összesen</td><td>7400</td></tr>",
                            "<tr><td>2015-05-16</td><td>Összesen</td><td>7897</td></tr>",
                            "<tr><td>2015-05-17</td><td>Összesen</td><td>4572</td></tr>",
                            "<tr><td>2015-05-18</td><td>Összesen</td><td>8190</td></tr>",
                            "<tr><td>2015-05-19</td><td>Összesen</td><td>7248</td></tr>",
                            "<tr><td>2015-05-20</td><td>Összesen</td><td>9859</td></tr>",
                            "<tr><td>2015-05-21</td><td>Összesen</td><td>8041</td></tr>",
                            "<tr><td>2015-05-22</td><td>Összesen</td><td>8338</td></tr>",
                            "<tr><td>2015-05-23</td><td>Összesen</td><td>5616</td></tr>",
                            "<tr><td>2015-05-24</td><td>Összesen</td><td>5001</td></tr>",
                            "<tr><td>2015-05-25</td><td>Összesen</td><td>7611</td></tr>",
                            "<tr><td>2015-05-26</td><td>Összesen</td><td>7153</td></tr>",
                            "<tr><td>2015-05-27</td><td>Összesen</td><td>8300</td></tr>",
                            "<tr><td>2015-05-28</td><td>Összesen</td><td>9340</td></tr>",
                            "<tr><td>2015-05-29</td><td>Összesen</td><td>10784</td></tr>",
                            "<tr><td>2015-05-30</td><td>Összesen</td><td>7763</td></tr>",
                            "<tr><td>2015-05-31</td><td>Összesen</td><td>4364</td></tr>",
                            "<tr><td>2015-06-01</td><td>Összesen</td><td>6947</td></tr>",
                            "<tr><td>2015-06-02</td><td>Összesen</td><td>6241</td></tr>",
                            "<tr><td>2015-06-03</td><td>Összesen</td><td>9359</td></tr>",
                            "<tr><td>2015-06-04</td><td>Összesen</td><td>8474</td></tr>",
                            "<tr><td>2015-06-05</td><td>Összesen</td><td>8961</td></tr>",
                            "<tr><td>2015-06-06</td><td>Összesen</td><td>9510</td></tr>",
                            "<tr><td>2015-06-07</td><td>Összesen</td><td>7956</td></tr>",
                            "<tr><td>2015-06-08</td><td>Összesen</td><td>4277</td></tr>",
                            "<tr><td>2015-06-09</td><td>Összesen</td><td>7132</td></tr>",
                            "<tr><td>2015-06-10</td><td>Összesen</td><td>9346</td></tr>",
                            "<tr><td>2015-06-11</td><td>Összesen</td><td>5191</td></tr>",
                            "<tr><td>2015-06-12</td><td>Összesen</td><td>7336</td></tr>",
                            "<tr><td>2015-06-13</td><td>Összesen</td><td>7818</td></tr>",
                            "<tr><td>2015-06-14</td><td>Összesen</td><td>6484</td></tr>",
                            "<tr><td>2015-06-15</td><td>Összesen</td><td>7796</td></tr>",
                            "<tr><td>2015-06-16</td><td>Összesen</td><td>4307</td></tr>",
                            "<tr><td>2015-06-17</td><td>Összesen</td><td>8645</td></tr>",
                            "<tr><td>2015-06-18</td><td>Összesen</td><td>10077</td></tr>",
                            "<tr><td>2015-06-19</td><td>Összesen</td><td>5675</td></tr>",
                            "<tr><td>2015-06-20</td><td>Összesen</td><td>7859</td></tr>",
                            "<tr><td>2015-06-21</td><td>Összesen</td><td>6627</td></tr>",
                            "<tr><td>2015-06-22</td><td>Összesen</td><td>9084</td></tr>",
                            "<tr><td>2015-06-23</td><td>Összesen</td><td>8869</td></tr>",
                            "<tr><td>2015-06-24</td><td>Összesen</td><td>4993</td></tr>",
                            "<tr><td>2015-06-25</td><td>Összesen</td><td>8165</td></tr>",
                            "<tr><td>2015-06-26</td><td>Összesen</td><td>10834</td></tr>",
                            "<tr><td>2015-06-27</td><td>Összesen</td><td>6396</td></tr>",
                            "<tr><td>2015-06-28</td><td>Összesen</td><td>6803</td></tr>",
                            "<tr><td>2015-06-29</td><td>Összesen</td><td>7435</td></tr>",
                            "<tr><td>2015-06-30</td><td>Összesen</td><td>8526</td></tr>",
                            "<tr><td>2015-07-01</td><td>Összesen</td><td>6032</td></tr>",
                            "<tr><td>2015-07-02</td><td>Összesen</td><td>7066</td></tr>",
                            "<tr><td>2015-07-03</td><td>Összesen</td><td>6359</td></tr>",
                            "<tr><td>2015-07-04</td><td>Összesen</td><td>8739</td></tr>",
                            "<tr><td>2015-07-05</td><td>Összesen</td><td>8558</td></tr>",
                            "<tr><td>2015-07-06</td><td>Összesen</td><td>8389</td></tr>",
                            "<tr><td>2015-07-07</td><td>Összesen</td><td>9522</td></tr>",
                            "<tr><td>2015-07-08</td><td>Összesen</td><td>6395</td></tr>",
                            "<tr><td>2015-07-09</td><td>Összesen</td><td>7375</td></tr>",
                            "<tr><td>2015-07-10</td><td>Összesen</td><td>7676</td></tr>",
                            "<tr><td>2015-07-11</td><td>Összesen</td><td>7366</td></tr>",
                            "<tr><td>2015-07-12</td><td>Összesen</td><td>8638</td></tr>",
                            "<tr><td>2015-07-13</td><td>Összesen</td><td>8300</td></tr>",
                            "<tr><td>2015-07-14</td><td>Összesen</td><td>6340</td></tr>",
                            "<tr><td>2015-07-15</td><td>Összesen</td><td>8615</td></tr>",
                            "<tr><td>2015-07-16</td><td>Összesen</td><td>7041</td></tr>",
                            "<tr><td>2015-07-17</td><td>Összesen</td><td>7327</td></tr>",
                            "<tr><td>2015-07-18</td><td>Összesen</td><td>6762</td></tr>",
                            "<tr><td>2015-07-19</td><td>Összesen</td><td>6776</td></tr>",
                            "<tr><td>2015-07-20</td><td>Összesen</td><td>9748</td></tr>",
                            "<tr><td>2015-07-21</td><td>Összesen</td><td>9805</td></tr>",
                            "<tr><td>2015-07-22</td><td>Összesen</td><td>5140</td></tr>",
                            "<tr><td>2015-07-23</td><td>Összesen</td><td>7258</td></tr>",
                            "<tr><td>2015-07-24</td><td>Összesen</td><td>8697</td></tr>",
                            "<tr><td>2015-07-25</td><td>Összesen</td><td>8180</td></tr>",
                            "<tr><td>2015-07-26</td><td>Összesen</td><td>9323</td></tr>",
                            "<tr><td>2015-07-27</td><td>Összesen</td><td>5417</td></tr>",
                            "<tr><td>2015-07-28</td><td>Összesen</td><td>7825</td></tr>",
                            "<tr><td>2015-07-29</td><td>Összesen</td><td>6405</td></tr>",
                            "<tr><td>2015-07-30</td><td>Összesen</td><td>10029</td></tr>",
                            "<tr><td>2015-07-31</td><td>Összesen</td><td>8673</td></tr>",
                            "<tr><td>2015-08-01</td><td>Összesen</td><td>9957</td></tr>",
                            "<tr><td>2015-08-02</td><td>Összesen</td><td>7599</td></tr>",
                            "<tr><td>2015-08-03</td><td>Összesen</td><td>9208</td></tr>",
                            "<tr><td>2015-08-04</td><td>Összesen</td><td>9353</td></tr>",
                            "<tr><td>2015-08-05</td><td>Összesen</td><td>10342</td></tr>",
                            "<tr><td>2015-08-06</td><td>Összesen</td><td>5124</td></tr>",
                            "<tr><td>2015-08-07</td><td>Összesen</td><td>8960</td></tr>",
                            "<tr><td>2015-08-08</td><td>Összesen</td><td>10296</td></tr>",
                            "<tr><td>2015-08-09</td><td>Összesen</td><td>6026</td></tr>",
                            "<tr><td>2015-08-10</td><td>Összesen</td><td>7896</td></tr>",
                            "<tr><td>2015-08-11</td><td>Összesen</td><td>9008</td></tr>",
                            "<tr><td>2015-08-12</td><td>Összesen</td><td>7605</td></tr>",
                            "<tr><td>2015-08-13</td><td>Összesen</td><td>9380</td></tr>",
                            "<tr><td>2015-08-14</td><td>Összesen</td><td>9780</td></tr>",
                            "<tr><td>2015-08-15</td><td>Összesen</td><td>7514</td></tr>",
                            "<tr><td>2015-08-16</td><td>Összesen</td><td>5341</td></tr>",
                            "<tr><td>2015-08-17</td><td>Összesen</td><td>7162</td></tr>",
                            "<tr><td>2015-08-18</td><td>Összesen</td><td>6271</td></tr>",
                            "<tr><td>2015-08-19</td><td>Összesen</td><td>6650</td></tr>",
                            "<tr><td>2015-08-20</td><td>Összesen</td><td>9005</td></tr>",
                            "<tr><td>2015-08-21</td><td>Összesen</td><td>6874</td></tr>",
                            "<tr><td>2015-08-22</td><td>Összesen</td><td>10138</td></tr>",
                            "<tr><td>2015-08-23</td><td>Összesen</td><td>6734</td></tr>",
                            "<tr><td>2015-08-24</td><td>Összesen</td><td>7767</td></tr>",
                            "<tr><td>2015-08-25</td><td>Összesen</td><td>9206</td></tr>",
                            "<tr><td>2015-08-26</td><td>Összesen</td><td>11006</td></tr>",
                            "<tr><td>2015-08-27</td><td>Összesen</td><td>6244</td></tr>",
                            "<tr><td>2015-08-28</td><td>Összesen</td><td>8145</td></tr>",
                            "<tr><td>2015-08-29</td><td>Összesen</td><td>7380</td></tr>",
                            "<tr><td>2015-08-30</td><td>Összesen</td><td>9727</td></tr>",
                            "<tr><td>2015-08-31</td><td>Összesen</td><td>7226</td></tr>",
                            "<tr><td>2015-09-01</td><td>Összesen</td><td>9466</td></tr>",
                            "<tr><td>2015-09-02</td><td>Összesen</td><td>6179</td></tr>",
                            "<tr><td>2015-09-03</td><td>Összesen</td><td>9949</td></tr>",
                            "<tr><td>2015-09-04</td><td>Összesen</td><td>10432</td></tr>",
                            "<tr><td>2015-09-05</td><td>Összesen</td><td>7083</td></tr>",
                            "<tr><td>2015-09-06</td><td>Összesen</td><td>8378</td></tr>",
                            "<tr><td>2015-09-07</td><td>Összesen</td><td>8303</td></tr>",
                            "<tr><td>2015-09-08</td><td>Összesen</td><td>8349</td></tr>",
                            "<tr><td>2015-09-09</td><td>Összesen</td><td>7985</td></tr>",
                            "<tr><td>2015-09-10</td><td>Összesen</td><td>10353</td></tr>",
                            "<tr><td>2015-09-11</td><td>Összesen</td><td>9284</td></tr>",
                            "<tr><td>2015-09-12</td><td>Összesen</td><td>8553</td></tr>",
                            "<tr><td>2015-09-13</td><td>Összesen</td><td>7435</td></tr>",
                            "<tr><td>2015-09-14</td><td>Összesen</td><td>8232</td></tr>",
                            "<tr><td>2015-09-15</td><td>Összesen</td><td>4776</td></tr>",
                            "<tr><td>2015-09-16</td><td>Összesen</td><td>7416</td></tr>",
                            "<tr><td>2015-09-17</td><td>Összesen</td><td>8358</td></tr>",
                            "<tr><td>2015-09-18</td><td>Összesen</td><td>7210</td></tr>",
                            "<tr><td>2015-09-19</td><td>Összesen</td><td>8267</td></tr>",
                            "<tr><td>2015-09-20</td><td>Összesen</td><td>10001</td></tr>",
                            "<tr><td>2015-09-21</td><td>Összesen</td><td>7086</td></tr>",
                            "<tr><td>2015-09-22</td><td>Összesen</td><td>7424</td></tr>",
                            "<tr><td>2015-09-23</td><td>Összesen</td><td>8183</td></tr>",
                            "<tr><td>2015-09-24</td><td>Összesen</td><td>10252</td></tr>",
                            "<tr><td>2015-09-25</td><td>Összesen</td><td>8106</td></tr>",
                            "<tr><td>2015-09-26</td><td>Összesen</td><td>9451</td></tr>",
                            "<tr><td>2015-09-27</td><td>Összesen</td><td>8692</td></tr>",
                            "<tr><td>2015-09-28</td><td>Összesen</td><td>10281</td></tr>",
                            "<tr><td>2015-09-29</td><td>Összesen</td><td>9481</td></tr>",
                            "<tr><td>2015-09-30</td><td>Összesen</td><td>5900</td></tr>",
                            "<tr><td>2015-10-01</td><td>Összesen</td><td>9384</td></tr>",
                            "<tr><td>2015-10-02</td><td>Összesen</td><td>5674</td></tr>",
                            "<tr><td>2015-10-03</td><td>Összesen</td><td>8509</td></tr>",
                            "<tr><td>2015-10-04</td><td>Összesen</td><td>7645</td></tr>",
                            "<tr><td>2015-10-05</td><td>Összesen</td><td>8535</td></tr>",
                            "<tr><td>2015-10-06</td><td>Összesen</td><td>7529</td></tr>",
                            "<tr><td>2015-10-07</td><td>Összesen</td><td>9435</td></tr>",
                            "<tr><td>2015-10-08</td><td>Összesen</td><td>7319</td></tr>",
                            "<tr><td>2015-10-09</td><td>Összesen</td><td>8931</td></tr>",
                            "<tr><td>2015-10-10</td><td>Összesen</td><td>7928</td></tr>",
                            "<tr><td>2015-10-11</td><td>Összesen</td><td>7516</td></tr>",
                            "<tr><td>2015-10-12</td><td>Összesen</td><td>9355</td></tr>",
                            "<tr><td>2015-10-13</td><td>Összesen</td><td>6564</td></tr>",
                            "<tr><td>2015-10-14</td><td>Összesen</td><td>7035</td></tr>",
                            "<tr><td>2015-10-15</td><td>Összesen</td><td>9269</td></tr>",
                            "<tr><td>2015-10-16</td><td>Összesen</td><td>8427</td></tr>",
                            "<tr><td>2015-10-17</td><td>Összesen</td><td>6936</td></tr>",
                            "<tr><td>2015-10-18</td><td>Összesen</td><td>8671</td></tr>",
                            "<tr><td>2015-10-19</td><td>Összesen</td><td>7207</td></tr>",
                            "<tr><td>2015-10-20</td><td>Összesen</td><td>8613</td></tr>",
                            "<tr><td>2015-10-21</td><td>Összesen</td><td>7366</td></tr>",
                            "<tr><td>2015-10-22</td><td>Összesen</td><td>6678</td></tr>",
                            "<tr><td>2015-10-23</td><td>Összesen</td><td>8056</td></tr>",
                            "<tr><td>2015-10-24</td><td>Összesen</td><td>7233</td></tr>",
                            "<tr><td>2015-10-25</td><td>Összesen</td><td>9107</td></tr>",
                            "<tr><td>2015-10-26</td><td>Összesen</td><td>9776</td></tr>",
                            "<tr><td>2015-10-27</td><td>Összesen</td><td>7669</td></tr>",
                            "<tr><td>2015-10-28</td><td>Összesen</td><td>7522</td></tr>",
                            "<tr><td>2015-10-29</td><td>Összesen</td><td>6971</td></tr>",
                            "<tr><td>2015-10-30</td><td>Összesen</td><td>8999</td></tr>",
                            "<tr><td>2015-10-31</td><td>Összesen</td><td>7046</td></tr>",
                            "<tr><td>2015-11-01</td><td>Összesen</td><td>6171</td></tr>",
                            "<tr><td>2015-11-02</td><td>Összesen</td><td>7612</td></tr>",
                            "<tr><td>2015-11-03</td><td>Összesen</td><td>11533</td></tr>",
                            "<tr><td>2015-11-04</td><td>Összesen</td><td>5352</td></tr>",
                            "<tr><td>2015-11-05</td><td>Összesen</td><td>7183</td></tr>",
                            "<tr><td>2015-11-06</td><td>Összesen</td><td>8606</td></tr>",
                            "<tr><td>2015-11-07</td><td>Összesen</td><td>7260</td></tr>",
                            "<tr><td>2015-11-08</td><td>Összesen</td><td>8177</td></tr>",
                            "<tr><td>2015-11-09</td><td>Összesen</td><td>8431</td></tr>",
                            "<tr><td>2015-11-10</td><td>Összesen</td><td>8329</td></tr>",
                            "<tr><td>2015-11-11</td><td>Összesen</td><td>8191</td></tr>",
                            "<tr><td>2015-11-12</td><td>Összesen</td><td>5884</td></tr>",
                            "<tr><td>2015-11-13</td><td>Összesen</td><td>7359</td></tr>",
                            "<tr><td>2015-11-14</td><td>Összesen</td><td>7730</td></tr>",
                            "<tr><td>2015-11-15</td><td>Összesen</td><td>6881</td></tr>",
                            "<tr><td>2015-11-16</td><td>Összesen</td><td>7721</td></tr>",
                            "<tr><td>2015-11-17</td><td>Összesen</td><td>7234</td></tr>",
                            "<tr><td>2015-11-18</td><td>Összesen</td><td>8321</td></tr>",
                            "<tr><td>2015-11-19</td><td>Összesen</td><td>7582</td></tr>",
                            "<tr><td>2015-11-20</td><td>Összesen</td><td>6288</td></tr>",
                            "<tr><td>2015-11-21</td><td>Összesen</td><td>6657</td></tr>",
                            "<tr><td>2015-11-22</td><td>Összesen</td><td>8640</td></tr>",
                            "<tr><td>2015-11-23</td><td>Összesen</td><td>7363</td></tr>",
                            "<tr><td>2015-11-24</td><td>Összesen</td><td>7556</td></tr>",
                            "<tr><td>2015-11-25</td><td>Összesen</td><td>7103</td></tr>",
                            "<tr><td>2015-11-26</td><td>Összesen</td><td>8368</td></tr>",
                            "<tr><td>2015-11-27</td><td>Összesen</td><td>6865</td></tr>",
                            "<tr><td>2015-11-28</td><td>Összesen</td><td>10098</td></tr>",
                            "<tr><td>2015-11-29</td><td>Összesen</td><td>7636</td></tr>",
                            "<tr><td>2015-11-30</td><td>Összesen</td><td>7182</td></tr>",
                            "<tr><td>2015-12-01</td><td>Összesen</td><td>7314</td></tr>",
                            "<tr><td>2015-12-02</td><td>Összesen</td><td>9592</td></tr>",
                            "<tr><td>2015-12-03</td><td>Összesen</td><td>8829</td></tr>",
                            "<tr><td>2015-12-04</td><td>Összesen</td><td>8013</td></tr>",
                            "<tr><td>2015-12-05</td><td>Összesen</td><td>8887</td></tr>",
                            "<tr><td>2015-12-06</td><td>Összesen</td><td>5596</td></tr>",
                            "<tr><td>2015-12-07</td><td>Összesen</td><td>8825</td></tr>",
                            "<tr><td>2015-12-08</td><td>Összesen</td><td>7819</td></tr>",
                            "<tr><td>2015-12-09</td><td>Összesen</td><td>7897</td></tr>",
                            "<tr><td>2015-12-10</td><td>Összesen</td><td>9644</td></tr>",
                            "<tr><td>2015-12-11</td><td>Összesen</td><td>8093</td></tr>",
                            "<tr><td>2015-12-12</td><td>Összesen</td><td>8957</td></tr>",
                            "<tr><td>2015-12-13</td><td>Összesen</td><td>7399</td></tr>",
                            "<tr><td>2015-12-14</td><td>Összesen</td><td>7676</td></tr>",
                            "<tr><td>2015-12-15</td><td>Összesen</td><td>6863</td></tr>",
                            "<tr><td>2015-12-16</td><td>Összesen</td><td>7886</td></tr>",
                            "<tr><td>2015-12-17</td><td>Összesen</td><td>6894</td></tr>",
                            "<tr><td>2015-12-18</td><td>Összesen</td><td>12260</td></tr>",
                            "<tr><td>2015-12-19</td><td>Összesen</td><td>5788</td></tr>",
                            "<tr><td>2015-12-20</td><td>Összesen</td><td>8699</td></tr>",
                            "<tr><td>2015-12-21</td><td>Összesen</td><td>6630</td></tr>",
                            "<tr><td>2015-12-22</td><td>Összesen</td><td>9212</td></tr>",
                            "<tr><td>2015-12-23</td><td>Összesen</td><td>6676</td></tr>",
                            "<tr><td>2015-12-24</td><td>Összesen</td><td>8869</td></tr>",
                            "<tr><td>2015-12-25</td><td>Összesen</td><td>6944</td></tr>",
                            "<tr><td>2015-12-26</td><td>Összesen</td><td>8921</td></tr>",
                            "<tr><td>2015-12-27</td><td>Összesen</td><td>7648</td></tr>",
                            "<tr><td>2015-12-28</td><td>Összesen</td><td>8042</td></tr>",
                            "<tr><td>2015-12-29</td><td>Összesen</td><td>7923</td></tr>",
                            "<tr><td>2015-12-30</td><td>Összesen</td><td>6562</td></tr>",
                            "<tr><td>2015-12-31</td><td>Összesen</td><td>7021</td></tr>",
                            "<tr><td>2016-01-01</td><td>Összesen</td><td>8837</td></tr>",
                            "<tr><td>2016-01-02</td><td>Összesen</td><td>7518</td></tr>",
                            "<tr><td>2016-01-03</td><td>Összesen</td><td>8422</td></tr>",
                            "<tr><td>2016-01-04</td><td>Összesen</td><td>8813</td></tr>",
                            "<tr><td>2016-01-05</td><td>Összesen</td><td>6895</td></tr>",
                            "<tr><td>2016-01-06</td><td>Összesen</td><td>6716</td></tr>",
                            "<tr><td>2016-01-07</td><td>Összesen</td><td>5593</td></tr>",
                            "<tr><td>2016-01-08</td><td>Összesen</td><td>9534</td></tr>",
                            "<tr><td>2016-01-09</td><td>Összesen</td><td>7056</td></tr>",
                            "<tr><td>2016-01-10</td><td>Összesen</td><td>8057</td></tr>",
                            "<tr><td>2016-01-11</td><td>Összesen</td><td>6734</td></tr>",
                            "<tr><td>2016-01-12</td><td>Összesen</td><td>6949</td></tr>",
                            "<tr><td>2016-01-13</td><td>Összesen</td><td>7487</td></tr>",
                            "<tr><td>2016-01-14</td><td>Összesen</td><td>8998</td></tr>",
                            "<tr><td>2016-01-15</td><td>Összesen</td><td>9345</td></tr>",
                            "<tr><td>2016-01-16</td><td>Összesen</td><td>8068</td></tr>",
                            "<tr><td>2016-01-17</td><td>Összesen</td><td>6954</td></tr>",
                            "<tr><td>2016-01-18</td><td>Összesen</td><td>4416</td></tr>",
                            "<tr><td>2016-01-19</td><td>Összesen</td><td>7124</td></tr>",
                            "<tr><td>2016-01-20</td><td>Összesen</td><td>8568</td></tr>",
                            "<tr><td>2016-01-21</td><td>Összesen</td><td>10953</td></tr>",
                            "<tr><td>2016-01-22</td><td>Összesen</td><td>8588</td></tr>",
                            "<tr><td>2016-01-23</td><td>Összesen</td><td>6512</td></tr>",
                            "<tr><td>2016-01-24</td><td>Összesen</td><td>8898</td></tr>",
                            "<tr><td>2016-01-25</td><td>Összesen</td><td>5191</td></tr>",
                            "<tr><td>2016-01-26</td><td>Összesen</td><td>5293</td></tr>",
                            "<tr><td>2016-01-27</td><td>Összesen</td><td>6513</td></tr>",
                            "<tr><td>2016-01-28</td><td>Összesen</td><td>8119</td></tr>",
                            "<tr><td>2016-01-29</td><td>Összesen</td><td>6658</td></tr>",
                            "<tr><td>2016-01-30</td><td>Összesen</td><td>8727</td></tr>",
                            "<tr><td>2016-01-31</td><td>Összesen</td><td>7527</td></tr>",
                            "<tr><td>2016-02-01</td><td>Összesen</td><td>9120</td></tr>",
                            "<tr><td>2016-02-02</td><td>Összesen</td><td>8088</td></tr>",
                            "<tr><td>2016-02-03</td><td>Összesen</td><td>9306</td></tr>",
                            "<tr><td>2016-02-04</td><td>Összesen</td><td>7994</td></tr>",
                            "<tr><td>2016-02-05</td><td>Összesen</td><td>9703</td></tr>",
                            "<tr><td>2016-02-06</td><td>Összesen</td><td>9860</td></tr>",
                            "<tr><td>2016-02-07</td><td>Összesen</td><td>6630</td></tr>",
                            "<tr><td>2016-02-08</td><td>Összesen</td><td>10093</td></tr>",
                            "<tr><td>2016-02-09</td><td>Összesen</td><td>9706</td></tr>",
                            "<tr><td>2016-02-10</td><td>Összesen</td><td>8520</td></tr>",
                            "<tr><td>2016-02-11</td><td>Összesen</td><td>7094</td></tr>",
                            "<tr><td>2016-02-12</td><td>Összesen</td><td>7789</td></tr>",
                            "<tr><td>2016-02-13</td><td>Összesen</td><td>7991</td></tr>",
                            "<tr><td>2016-02-14</td><td>Összesen</td><td>8049</td></tr>",
                            "<tr><td>2016-02-15</td><td>Összesen</td><td>10033</td></tr>",
                            "<tr><td>2016-02-16</td><td>Összesen</td><td>8049</td></tr>",
                            "<tr><td>2016-02-17</td><td>Összesen</td><td>9586</td></tr>",
                            "<tr><td>2016-02-18</td><td>Összesen</td><td>5922</td></tr>",
                            "<tr><td>2016-02-19</td><td>Összesen</td><td>8898</td></tr>",
                            "<tr><td>2016-02-20</td><td>Összesen</td><td>7549</td></tr>",
                            "<tr><td>2016-02-21</td><td>Összesen</td><td>6531</td></tr>",
                            "<tr><td>2016-02-22</td><td>Összesen</td><td>8724</td></tr>",
                            "<tr><td>2016-02-23</td><td>Összesen</td><td>6959</td></tr>",
                            "<tr><td>2016-02-24</td><td>Összesen</td><td>6314</td></tr>",
                            "<tr><td>2016-02-25</td><td>Összesen</td><td>7324</td></tr>",
                            "<tr><td>2016-02-26</td><td>Összesen</td><td>8466</td></tr>",
                            "<tr><td>2016-02-27</td><td>Összesen</td><td>7122</td></tr>",
                            "<tr><td>2016-02-28</td><td>Összesen</td><td>8447</td></tr>",
                            "<tr><td>2016-02-29</td><td>Összesen</td><td>8516</td></tr>",
                            "<tr><td>2016-03-01</td><td>Összesen</td><td>9654</td></tr>",
                            "<tr><td>2016-03-02</td><td>Összesen</td><td>7282</td></tr>",
                            "<tr><td>2016-03-03</td><td>Összesen</td><td>8853</td></tr>",
                            "<tr><td>2016-03-04</td><td>Összesen</td><td>8549</td></tr>",
                            "<tr><td>2016-03-05</td><td>Összesen</td><td>9463</td></tr>",
                            "<tr><td>2016-03-06</td><td>Összesen</td><td>7740</td></tr>",
                            "<tr><td>2016-03-07</td><td>Összesen</td><td>7680</td></tr>",
                            "<tr><td>2016-03-08</td><td>Összesen</td><td>5849</td></tr>",
                            "<tr><td>2016-03-09</td><td>Összesen</td><td>9412</td></tr>",
                            "<tr><td>2016-03-10</td><td>Összesen</td><td>8848</td></tr>",
                            "<tr><td>2016-03-11</td><td>Összesen</td><td>6193</td></tr>",
                            "<tr><td>2016-03-12</td><td>Összesen</td><td>10487</td></tr>",
                            "<tr><td>2016-03-13</td><td>Összesen</td><td>5913</td></tr>",
                            "<tr><td>2016-03-14</td><td>Összesen</td><td>9336</td></tr>",
                            "<tr><td>2016-03-15</td><td>Összesen</td><td>8180</td></tr>",
                            "<tr><td>2016-03-16</td><td>Összesen</td><td>7448</td></tr>",
                            "<tr><td>2016-03-17</td><td>Összesen</td><td>7770</td></tr>",
                            "<tr><td>2016-03-18</td><td>Összesen</td><td>6927</td></tr>",
                            "<tr><td>2016-03-19</td><td>Összesen</td><td>7827</td></tr>",
                            "<tr><td>2016-03-20</td><td>Összesen</td><td>12190</td></tr>",
                            "<tr><td>2016-03-21</td><td>Összesen</td><td>11075</td></tr>",
                            "<tr><td>2016-03-22</td><td>Összesen</td><td>7770</td></tr>",
                            "<tr><td>2016-03-23</td><td>Összesen</td><td>6397</td></tr>",
                            "<tr><td>2016-03-24</td><td>Összesen</td><td>7220</td></tr>",
                            "<tr><td>2016-03-25</td><td>Összesen</td><td>8763</td></tr>",
                            "<tr><td>2016-03-26</td><td>Összesen</td><td>9893</td></tr>",
                            "<tr><td>2016-03-27</td><td>Összesen</td><td>8950</td></tr>",
                            "<tr><td>2016-03-28</td><td>Összesen</td><td>7552</td></tr>",
                            "<tr><td>2016-03-29</td><td>Összesen</td><td>7416</td></tr>",
                            "<tr><td>2016-03-30</td><td>Összesen</td><td>8631</td></tr>",
                            "<tr><td>2016-03-31</td><td>Összesen</td><td>6885</td></tr>",
                            "<tr><td>2016-04-01</td><td>Összesen</td><td>8756</td></tr>",
                            "<tr><td>2016-04-02</td><td>Összesen</td><td>8073</td></tr>",
                            "<tr><td>2016-04-03</td><td>Összesen</td><td>5897</td></tr>",
                            "<tr><td>2016-04-04</td><td>Összesen</td><td>7405</td></tr>",
                            "<tr><td>2016-04-05</td><td>Összesen</td><td>8092</td></tr>",
                            "<tr><td>2016-04-06</td><td>Összesen</td><td>7458</td></tr>",
                            "<tr><td>2016-04-07</td><td>Összesen</td><td>9216</td></tr>",
                            "<tr><td>2016-04-08</td><td>Összesen</td><td>10889</td></tr>",
                            "<tr><td>2016-04-09</td><td>Összesen</td><td>9754</td></tr>",
                            "<tr><td>2016-04-10</td><td>Összesen</td><td>9878</td></tr>",
                            "<tr><td>2016-04-11</td><td>Összesen</td><td>8948</td></tr>",
                            "<tr><td>2016-04-12</td><td>Összesen</td><td>7144</td></tr>",
                            "<tr><td>2016-04-13</td><td>Összesen</td><td>7728</td></tr>",
                            "<tr><td>2016-04-14</td><td>Összesen</td><td>8805</td></tr>",
                            "<tr><td>2016-04-15</td><td>Összesen</td><td>8331</td></tr>",
                            "<tr><td>2016-04-16</td><td>Összesen</td><td>8755</td></tr>",
                            "<tr><td>2016-04-17</td><td>Összesen</td><td>10267</td></tr>",
                            "<tr><td>2016-04-18</td><td>Összesen</td><td>7586</td></tr>",
                            "<tr><td>2016-04-19</td><td>Összesen</td><td>9190</td></tr>",
                            "<tr><td>2016-04-20</td><td>Összesen</td><td>6584</td></tr>",
                            "<tr><td>2016-04-21</td><td>Összesen</td><td>6628</td></tr>",
                            "<tr><td>2016-04-22</td><td>Összesen</td><td>6502</td></tr>",
                            "<tr><td>2016-04-23</td><td>Összesen</td><td>6588</td></tr>",
                            "<tr><td>2016-04-24</td><td>Összesen</td><td>9512</td></tr>",
                            "<tr><td>2016-04-25</td><td>Összesen</td><td>10177</td></tr>",
                            "<tr><td>2016-04-26</td><td>Összesen</td><td>7946</td></tr>",
                            "<tr><td>2016-04-27</td><td>Összesen</td><td>8344</td></tr>",
                            "<tr><td>2016-04-28</td><td>Összesen</td><td>7732</td></tr>",
                            "<tr><td>2016-04-29</td><td>Összesen</td><td>7870</td></tr>",
                            "<tr><td>2016-04-30</td><td>Összesen</td><td>7898</td></tr>",
                            "<tr><td>2016-05-01</td><td>Összesen</td><td>6600</td></tr>",
                            "<tr><td>2016-05-02</td><td>Összesen</td><td>8142</td></tr>",
                            "<tr><td>2016-05-03</td><td>Összesen</td><td>5084</td></tr>",
                            "<tr><td>2016-05-04</td><td>Összesen</td><td>9125</td></tr>",
                            "<tr><td>2016-05-05</td><td>Összesen</td><td>7845</td></tr>",
                            "<tr><td>2016-05-06</td><td>Összesen</td><td>7969</td></tr>",
                            "<tr><td>2016-05-07</td><td>Összesen</td><td>8896</td></tr>",
                            "<tr><td>2016-05-08</td><td>Összesen</td><td>7858</td></tr>",
                            "<tr><td>2016-05-09</td><td>Összesen</td><td>11178</td></tr>",
                            "<tr><td>2016-05-10</td><td>Összesen</td><td>8968</td></tr>",
                            "<tr><td>2016-05-11</td><td>Összesen</td><td>8132</td></tr>",
                            "<tr><td>2016-05-12</td><td>Összesen</td><td>8095</td></tr>",
                            "<tr><td>2016-05-13</td><td>Összesen</td><td>8089</td></tr>",
                            "<tr><td>2016-05-14</td><td>Összesen</td><td>7722</td></tr>",
                            "<tr><td>2016-05-15</td><td>Összesen</td><td>5490</td></tr>",
                            "<tr><td>2016-05-16</td><td>Összesen</td><td>7944</td></tr>",
                            "<tr><td>2016-05-17</td><td>Összesen</td><td>8888</td></tr>",
                            "<tr><td>2016-05-18</td><td>Összesen</td><td>5720</td></tr>",
                            "<tr><td>2016-05-19</td><td>Összesen</td><td>7578</td></tr>",
                            "<tr><td>2016-05-20</td><td>Összesen</td><td>8879</td></tr>",
                            "<tr><td>2016-05-21</td><td>Összesen</td><td>9030</td></tr>",
                            "<tr><td>2016-05-22</td><td>Összesen</td><td>4914</td></tr>",
                            "<tr><td>2016-05-23</td><td>Összesen</td><td>8577</td></tr>",
                            "<tr><td>2016-05-24</td><td>Összesen</td><td>8816</td></tr>",
                            "<tr><td>2016-05-25</td><td>Összesen</td><td>9296</td></tr>",
                            "<tr><td>2016-05-26</td><td>Összesen</td><td>5287</td></tr>",
                            "<tr><td>2016-05-27</td><td>Összesen</td><td>9701</td></tr>",
                            "<tr><td>2016-05-28</td><td>Összesen</td><td>6509</td></tr>",
                            "<tr><td>2016-05-29</td><td>Összesen</td><td>9450</td></tr>",
                            "<tr><td>2016-05-30</td><td>Összesen</td><td>6884</td></tr>",
                            "<tr><td>2016-05-31</td><td>Összesen</td><td>10007</td></tr>",
                            "<tr><td>2016-06-01</td><td>Összesen</td><td>8484</td></tr>",
                            "<tr><td>2016-06-02</td><td>Összesen</td><td>6928</td></tr>",
                            "<tr><td>2016-06-03</td><td>Összesen</td><td>6567</td></tr>",
                            "<tr><td>2016-06-04</td><td>Összesen</td><td>7904</td></tr>",
                            "<tr><td>2016-06-05</td><td>Összesen</td><td>5802</td></tr>",
                            "<tr><td>2016-06-06</td><td>Összesen</td><td>9474</td></tr>",
                            "<tr><td>2016-06-07</td><td>Összesen</td><td>8722</td></tr>",
                            "<tr><td>2016-06-08</td><td>Összesen</td><td>7019</td></tr>",
                            "<tr><td>2016-06-09</td><td>Összesen</td><td>7354</td></tr>",
                            "<tr><td>2016-06-10</td><td>Összesen</td><td>8873</td></tr>",
                            "<tr><td>2016-06-11</td><td>Összesen</td><td>9217</td></tr>",
                            "<tr><td>2016-06-12</td><td>Összesen</td><td>9418</td></tr>",
                            "<tr><td>2016-06-13</td><td>Összesen</td><td>6407</td></tr>",
                            "<tr><td>2016-06-14</td><td>Összesen</td><td>7968</td></tr>",
                            "<tr><td>2016-06-15</td><td>Összesen</td><td>8830</td></tr>",
                            "<tr><td>2016-06-16</td><td>Összesen</td><td>6462</td></tr>",
                            "<tr><td>2016-06-17</td><td>Összesen</td><td>9189</td></tr>",
                            "<tr><td>2016-06-18</td><td>Összesen</td><td>6311</td></tr>",
                            "<tr><td>2016-06-19</td><td>Összesen</td><td>8834</td></tr>",
                            "<tr><td>2016-06-20</td><td>Összesen</td><td>8005</td></tr>",
                            "<tr><td>2016-06-21</td><td>Összesen</td><td>6482</td></tr>",
                            "<tr><td>2016-06-22</td><td>Összesen</td><td>6541</td></tr>",
                            "<tr><td>2016-06-23</td><td>Összesen</td><td>6662</td></tr>",
                            "<tr><td>2016-06-24</td><td>Összesen</td><td>8530</td></tr>",
                            "<tr><td>2016-06-25</td><td>Összesen</td><td>8262</td></tr>",
                            "<tr><td>2016-06-26</td><td>Összesen</td><td>10488</td></tr>",
                            "<tr><td>2016-06-27</td><td>Összesen</td><td>5541</td></tr>",
                            "<tr><td>2016-06-28</td><td>Összesen</td><td>10267</td></tr>",
                            "<tr><td>2016-06-29</td><td>Összesen</td><td>9869</td></tr>",
                            "<tr><td>2016-06-30</td><td>Összesen</td><td>9437</td></tr>",
                            "<tr><td>2016-07-01</td><td>Összesen</td><td>5916</td></tr>",
                            "<tr><td>2016-07-02</td><td>Összesen</td><td>6710</td></tr>",
                            "<tr><td>2016-07-03</td><td>Összesen</td><td>9081</td></tr>",
                            "<tr><td>2016-07-04</td><td>Összesen</td><td>10816</td></tr>",
                            "<tr><td>2016-07-05</td><td>Összesen</td><td>8863</td></tr>",
                            "<tr><td>2016-07-06</td><td>Összesen</td><td>7283</td></tr>",
                            "<tr><td>2016-07-07</td><td>Összesen</td><td>5922</td></tr>",
                            "<tr><td>2016-07-08</td><td>Összesen</td><td>7968</td></tr>",
                            "<tr><td>2016-07-09</td><td>Összesen</td><td>9112</td></tr>",
                            "<tr><td>2016-07-10</td><td>Összesen</td><td>7494</td></tr>",
                            "<tr><td>2016-07-11</td><td>Összesen</td><td>10358</td></tr>",
                            "<tr><td>2016-07-12</td><td>Összesen</td><td>8519</td></tr>",
                            "<tr><td>2016-07-13</td><td>Összesen</td><td>8721</td></tr>",
                            "<tr><td>2016-07-14</td><td>Összesen</td><td>7363</td></tr>",
                            "<tr><td>2016-07-15</td><td>Összesen</td><td>7066</td></tr>",
                            "<tr><td>2016-07-16</td><td>Összesen</td><td>8298</td></tr>",
                            "<tr><td>2016-07-17</td><td>Összesen</td><td>6320</td></tr>",
                            "<tr><td>2016-07-18</td><td>Összesen</td><td>8573</td></tr>",
                            "<tr><td>2016-07-19</td><td>Összesen</td><td>9023</td></tr>",
                            "<tr><td>2016-07-20</td><td>Összesen</td><td>7415</td></tr>",
                            "<tr><td>2016-07-21</td><td>Összesen</td><td>7484</td></tr>",
                            "<tr><td>2016-07-22</td><td>Összesen</td><td>7412</td></tr>",
                            "<tr><td>2016-07-23</td><td>Összesen</td><td>6895</td></tr>",
                            "<tr><td>2016-07-24</td><td>Összesen</td><td>6958</td></tr>",
                            "<tr><td>2016-07-25</td><td>Összesen</td><td>7559</td></tr>",
                            "<tr><td>2016-07-26</td><td>Összesen</td><td>7020</td></tr>",
                            "<tr><td>2016-07-27</td><td>Összesen</td><td>9352</td></tr>",
                            "<tr><td>2016-07-28</td><td>Összesen</td><td>7155</td></tr>",
                            "<tr><td>2016-07-29</td><td>Összesen</td><td>9038</td></tr>",
                            "<tr><td>2016-07-30</td><td>Összesen</td><td>6288</td></tr>",
                            "<tr><td>2016-07-31</td><td>Összesen</td><td>9007</td></tr>",
                            "<tr><td>2016-08-01</td><td>Összesen</td><td>7588</td></tr>",
                            "<tr><td>2016-08-02</td><td>Összesen</td><td>6686</td></tr>",
                            "<tr><td>2016-08-03</td><td>Összesen</td><td>7884</td></tr>",
                            "<tr><td>2016-08-04</td><td>Összesen</td><td>6900</td></tr>",
                            "<tr><td>2016-08-05</td><td>Összesen</td><td>7610</td></tr>",
                            "<tr><td>2016-08-06</td><td>Összesen</td><td>8498</td></tr>",
                            "<tr><td>2016-08-07</td><td>Összesen</td><td>5511</td></tr>",
                            "<tr><td>2016-08-08</td><td>Összesen</td><td>5829</td></tr>",
                            "<tr><td>2016-08-09</td><td>Összesen</td><td>10307</td></tr>",
                            "<tr><td>2016-08-10</td><td>Összesen</td><td>8311</td></tr>",
                            "<tr><td>2016-08-11</td><td>Összesen</td><td>8232</td></tr>",
                            "<tr><td>2016-08-12</td><td>Összesen</td><td>8761</td></tr>",
                            "<tr><td>2016-08-13</td><td>Összesen</td><td>9571</td></tr>",
                            "<tr><td>2016-08-14</td><td>Összesen</td><td>8263</td></tr>",
                            "<tr><td>2016-08-15</td><td>Összesen</td><td>10966</td></tr>",
                            "<tr><td>2016-08-16</td><td>Összesen</td><td>7435</td></tr>",
                            "<tr><td>2016-08-17</td><td>Összesen</td><td>7576</td></tr>",
                            "<tr><td>2016-08-18</td><td>Összesen</td><td>7689</td></tr>",
                            "<tr><td>2016-08-19</td><td>Összesen</td><td>6974</td></tr>",
                            "<tr><td>2016-08-20</td><td>Összesen</td><td>9117</td></tr>",
                            "<tr><td>2016-08-21</td><td>Összesen</td><td>5864</td></tr>",
                            "<tr><td>2016-08-22</td><td>Összesen</td><td>7082</td></tr>",
                            "<tr><td>2016-08-23</td><td>Összesen</td><td>6153</td></tr>",
                            "<tr><td>2016-08-24</td><td>Összesen</td><td>8822</td></tr>",
                            "<tr><td>2016-08-25</td><td>Összesen</td><td>9398</td></tr>",
                            "<tr><td>2016-08-26</td><td>Összesen</td><td>8695</td></tr>",
                            "<tr><td>2016-08-27</td><td>Összesen</td><td>8120</td></tr>",
                            "<tr><td>2016-08-28</td><td>Összesen</td><td>8937</td></tr>",
                            "<tr><td>2016-08-29</td><td>Összesen</td><td>7542</td></tr>",
                            "<tr><td>2016-08-30</td><td>Összesen</td><td>5527</td></tr>",
                            "<tr><td>2016-08-31</td><td>Összesen</td><td>6069</td></tr>",
                            "<tr><td>2016-09-01</td><td>Összesen</td><td>6626</td></tr>",
                            "<tr><td>2016-09-02</td><td>Összesen</td><td>7775</td></tr>",
                            "<tr><td>2016-09-03</td><td>Összesen</td><td>11043</td></tr>",
                            "<tr><td>2016-09-04</td><td>Összesen</td><td>11369</td></tr>",
                            "<tr><td>2016-09-05</td><td>Összesen</td><td>6206</td></tr>",
                            "<tr><td>2016-09-06</td><td>Összesen</td><td>8736</td></tr>",
                            "<tr><td>2016-09-07</td><td>Összesen</td><td>8579</td></tr>",
                            "<tr><td>2016-09-08</td><td>Összesen</td><td>8561</td></tr>",
                            "<tr><td>2016-09-09</td><td>Összesen</td><td>8470</td></tr>",
                            "<tr><td>2016-09-10</td><td>Összesen</td><td>9203</td></tr>",
                            "<tr><td>2016-09-11</td><td>Összesen</td><td>8573</td></tr>",
                            "<tr><td>2016-09-12</td><td>Összesen</td><td>6264</td></tr>",
                            "<tr><td>2016-09-13</td><td>Összesen</td><td>8200</td></tr>",
                            "<tr><td>2016-09-14</td><td>Összesen</td><td>10576</td></tr>",
                            "<tr><td>2016-09-15</td><td>Összesen</td><td>10530</td></tr>",
                            "<tr><td>2016-09-16</td><td>Összesen</td><td>5621</td></tr>",
                            "<tr><td>2016-09-17</td><td>Összesen</td><td>7379</td></tr>",
                            "<tr><td>2016-09-18</td><td>Összesen</td><td>10790</td></tr>",
                            "<tr><td>2016-09-19</td><td>Összesen</td><td>7019</td></tr>",
                            "<tr><td>2016-09-20</td><td>Összesen</td><td>8544</td></tr>",
                            "<tr><td>2016-09-21</td><td>Összesen</td><td>5504</td></tr>",
                            "<tr><td>2016-09-22</td><td>Összesen</td><td>6691</td></tr>",
                            "<tr><td>2016-09-23</td><td>Összesen</td><td>6574</td></tr>",
                            "<tr><td>2016-09-24</td><td>Összesen</td><td>6220</td></tr>",
                            "<tr><td>2016-09-25</td><td>Összesen</td><td>6759</td></tr>",
                            "<tr><td>2016-09-26</td><td>Összesen</td><td>7073</td></tr>",
                            "<tr><td>2016-09-27</td><td>Összesen</td><td>9214</td></tr>",
                            "<tr><td>2016-09-28</td><td>Összesen</td><td>7948</td></tr>",
                            "<tr><td>2016-09-29</td><td>Összesen</td><td>5840</td></tr>",
                            "<tr><td>2016-09-30</td><td>Összesen</td><td>8410</td></tr>",
                            "<tr><td>2016-10-01</td><td>Összesen</td><td>8122</td></tr>",
                            "<tr><td>2016-10-02</td><td>Összesen</td><td>7206</td></tr>",
                            "<tr><td>2016-10-03</td><td>Összesen</td><td>6357</td></tr>",
                            "<tr><td>2016-10-04</td><td>Összesen</td><td>7203</td></tr>",
                            "<tr><td>2016-10-05</td><td>Összesen</td><td>7856</td></tr>",
                            "<tr><td>2016-10-06</td><td>Összesen</td><td>6682</td></tr>",
                            "<tr><td>2016-10-07</td><td>Összesen</td><td>6607</td></tr>",
                            "<tr><td>2016-10-08</td><td>Összesen</td><td>8515</td></tr>",
                            "<tr><td>2016-10-09</td><td>Összesen</td><td>10396</td></tr>",
                            "<tr><td>2016-10-10</td><td>Összesen</td><td>7117</td></tr>",
                            "<tr><td>2016-10-11</td><td>Összesen</td><td>9192</td></tr>",
                            "<tr><td>2016-10-12</td><td>Összesen</td><td>10889</td></tr>",
                            "<tr><td>2016-10-13</td><td>Összesen</td><td>10192</td></tr>",
                            "<tr><td>2016-10-14</td><td>Összesen</td><td>7397</td></tr>",
                            "<tr><td>2016-10-15</td><td>Összesen</td><td>7459</td></tr>",
                            "<tr><td>2016-10-16</td><td>Összesen</td><td>7198</td></tr>",
                            "<tr><td>2016-10-17</td><td>Összesen</td><td>11045</td></tr>",
                            "<tr><td>2016-10-18</td><td>Összesen</td><td>7033</td></tr>",
                            "<tr><td>2016-10-19</td><td>Összesen</td><td>9307</td></tr>",
                            "<tr><td>2016-10-20</td><td>Összesen</td><td>6856</td></tr>",
                            "<tr><td>2016-10-21</td><td>Összesen</td><td>9403</td></tr>",
                            "<tr><td>2016-10-22</td><td>Összesen</td><td>8356</td></tr>",
                            "<tr><td>2016-10-23</td><td>Összesen</td><td>9634</td></tr>",
                            "<tr><td>2016-10-24</td><td>Összesen</td><td>4888</td></tr>",
                            "<tr><td>2016-10-25</td><td>Összesen</td><td>11978</td></tr>",
                            "<tr><td>2016-10-26</td><td>Összesen</td><td>8070</td></tr>",
                            "<tr><td>2016-10-27</td><td>Összesen</td><td>7617</td></tr>",
                            "<tr><td>2016-10-28</td><td>Összesen</td><td>7766</td></tr>",
                            "<tr><td>2016-10-29</td><td>Összesen</td><td>6854</td></tr>",
                            "<tr><td>2016-10-30</td><td>Összesen</td><td>11718</td></tr>",
                            "<tr><td>2016-10-31</td><td>Összesen</td><td>8714</td></tr>",
                            "<tr><td>2016-11-01</td><td>Összesen</td><td>7238</td></tr>",
                            "<tr><td>2016-11-02</td><td>Összesen</td><td>5472</td></tr>",
                            "<tr><td>2016-11-03</td><td>Összesen</td><td>7739</td></tr>",
                            "<tr><td>2016-11-04</td><td>Összesen</td><td>6667</td></tr>",
                            "<tr><td>2016-11-05</td><td>Összesen</td><td>9157</td></tr>",
                            "<tr><td>2016-11-06</td><td>Összesen</td><td>8517</td></tr>",
                            "<tr><td>2016-11-07</td><td>Összesen</td><td>6691</td></tr>",
                            "<tr><td>2016-11-08</td><td>Összesen</td><td>8431</td></tr>",
                            "<tr><td>2016-11-09</td><td>Összesen</td><td>5911</td></tr>",
                            "<tr><td>2016-11-10</td><td>Összesen</td><td>6795</td></tr>",
                            "<tr><td>2016-11-11</td><td>Összesen</td><td>6940</td></tr>",
                            "<tr><td>2016-11-12</td><td>Összesen</td><td>10959</td></tr>",
                            "<tr><td>2016-11-13</td><td>Összesen</td><td>10751</td></tr>",
                            "<tr><td>2016-11-14</td><td>Összesen</td><td>11881</td></tr>",
                            "<tr><td>2016-11-15</td><td>Összesen</td><td>6736</td></tr>",
                            "<tr><td>2016-11-16</td><td>Összesen</td><td>8969</td></tr>",
                            "<tr><td>2016-11-17</td><td>Összesen</td><td>6852</td></tr>",
                            "<tr><td>2016-11-18</td><td>Összesen</td><td>6770</td></tr>",
                            "<tr><td>2016-11-19</td><td>Összesen</td><td>7451</td></tr>",
                            "<tr><td>2016-11-20</td><td>Összesen</td><td>7946</td></tr>",
                            "<tr><td>2016-11-21</td><td>Összesen</td><td>6727</td></tr>",
                            "<tr><td>2016-11-22</td><td>Összesen</td><td>7801</td></tr>",
                            "<tr><td>2016-11-23</td><td>Összesen</td><td>7435</td></tr>",
                            "<tr><td>2016-11-24</td><td>Összesen</td><td>5981</td></tr>",
                            "<tr><td>2016-11-25</td><td>Összesen</td><td>6915</td></tr>",
                            "<tr><td>2016-11-26</td><td>Összesen</td><td>9216</td></tr>",
                            "<tr><td>2016-11-27</td><td>Összesen</td><td>9893</td></tr>",
                            "<tr><td>2016-11-28</td><td>Összesen</td><td>9770</td></tr>",
                            "<tr><td>2016-11-29</td><td>Összesen</td><td>8722</td></tr>",
                            "<tr><td>2016-11-30</td><td>Összesen</td><td>6419</td></tr>",
                            "<tr><td>2016-12-01</td><td>Összesen</td><td>9940</td></tr>",
                            "<tr><td>2016-12-02</td><td>Összesen</td><td>4748</td></tr>",
                            "<tr><td>2016-12-03</td><td>Összesen</td><td>6745</td></tr>",
                            "<tr><td>2016-12-04</td><td>Összesen</td><td>9959</td></tr>",
                            "<tr><td>2016-12-05</td><td>Összesen</td><td>8225</td></tr>",
                            "<tr><td>2016-12-06</td><td>Összesen</td><td>7762</td></tr>",
                            "<tr><td>2016-12-07</td><td>Összesen</td><td>7380</td></tr>",
                            "<tr><td>2016-12-08</td><td>Összesen</td><td>7200</td></tr>",
                            "<tr><td>2016-12-09</td><td>Összesen</td><td>9724</td></tr>",
                            "<tr><td>2016-12-10</td><td>Összesen</td><td>7083</td></tr>",
                            "<tr><td>2016-12-11</td><td>Összesen</td><td>7576</td></tr>",
                            "<tr><td>2016-12-12</td><td>Összesen</td><td>8580</td></tr>",
                            "<tr><td>2016-12-13</td><td>Összesen</td><td>8233</td></tr>",
                            "<tr><td>2016-12-14</td><td>Összesen</td><td>6268</td></tr>",
                            "<tr><td>2016-12-15</td><td>Összesen</td><td>7392</td></tr>",
                            "<tr><td>2016-12-16</td><td>Összesen</td><td>6407</td></tr>",
                            "<tr><td>2016-12-17</td><td>Összesen</td><td>7555</td></tr>",
                            "<tr><td>2016-12-18</td><td>Összesen</td><td>6070</td></tr>",
                            "<tr><td>2016-12-19</td><td>Összesen</td><td>5390</td></tr>",
                            "<tr><td>2016-12-20</td><td>Összesen</td><td>7735</td></tr>",
                            "<tr><td>2016-12-21</td><td>Összesen</td><td>10434</td></tr>",
                            "<tr><td>2016-12-22</td><td>Összesen</td><td>5465</td></tr>",
                            "<tr><td>2016-12-23</td><td>Összesen</td><td>8338</td></tr>",
                            "<tr><td>2016-12-24</td><td>Összesen</td><td>5916</td></tr>",
                            "<tr><td>2016-12-25</td><td>Összesen</td><td>7345</td></tr>",
                            "<tr><td>2016-12-26</td><td>Összesen</td><td>9875</td></tr>",
                            "<tr><td>2016-12-27</td><td>Összesen</td><td>10216</td></tr>",
                            "<tr><td>2016-12-28</td><td>Összesen</td><td>6222</td></tr>",
                            "<tr><td>2016-12-29</td><td>Összesen</td><td>10046</td></tr>",
                            "<tr><td>2016-12-30</td><td>Összesen</td><td>7113</td></tr>",
                            "<tr><td>2016-12-31</td><td>Összesen</td><td>7188</td></tr>",
                            "<tr><td>2017-01-01</td><td>Összesen</td><td>7200</td></tr>",
                            "<tr><td>2017-01-02</td><td>Összesen</td><td>7425</td></tr>",
                            "<tr><td>2017-01-03</td><td>Összesen</td><td>6783</td></tr>",
                            "<tr><td>2017-01-04</td><td>Összesen</td><td>7465</td></tr>",
                            "<tr><td>2017-01-05</td><td>Összesen</td><td>7591</td></tr>",
                            "<tr><td>2017-01-06</td><td>Összesen</td><td>8298</td></tr>",
                            "<tr><td>2017-01-07</td><td>Összesen</td><td>8976</td></tr>",
                            "<tr><td>2017-01-08</td><td>Összesen</td><td>7179</td></tr>",
                            "<tr><td>2017-01-09</td><td>Összesen</td><td>9465</td></tr>",
                            "<tr><td>2017-01-10</td><td>Összesen</td><td>8667</td></tr>",
                            "<tr><td>2017-01-11</td><td>Összesen</td><td>9472</td></tr>",
                            "<tr><td>2017-01-12</td><td>Összesen</td><td>7636</td></tr>",
                            "<tr><td>2017-01-13</td><td>Összesen</td><td>7538</td></tr>",
                            "<tr><td>2017-01-14</td><td>Összesen</td><td>8920</td></tr>",
                            "<tr><td>2017-01-15</td><td>Összesen</td><td>7611</td></tr>",
                            "<tr><td>2017-01-16</td><td>Összesen</td><td>7369</td></tr>",
                            "<tr><td>2017-01-17</td><td>Összesen</td><td>8658</td></tr>",
                            "<tr><td>2017-01-18</td><td>Összesen</td><td>6558</td></tr>",
                            "<tr><td>2017-01-19</td><td>Összesen</td><td>6422</td></tr>",
                            "<tr><td>2017-01-20</td><td>Összesen</td><td>6450</td></tr>",
                            "<tr><td>2017-01-21</td><td>Összesen</td><td>7150</td></tr>",
                            "<tr><td>2017-01-22</td><td>Összesen</td><td>8199</td></tr>",
                            "<tr><td>2017-01-23</td><td>Összesen</td><td>8394</td></tr>",
                            "<tr><td>2017-01-24</td><td>Összesen</td><td>8615</td></tr>",
                            "<tr><td>2017-01-25</td><td>Összesen</td><td>6484</td></tr>",
                            "<tr><td>2017-01-26</td><td>Összesen</td><td>9426</td></tr>",
                            "<tr><td>2017-01-27</td><td>Összesen</td><td>5418</td></tr>",
                            "<tr><td>2017-01-28</td><td>Összesen</td><td>8401</td></tr>",
                            "<tr><td>2017-01-29</td><td>Összesen</td><td>8997</td></tr>",
                            "<tr><td>2017-01-30</td><td>Összesen</td><td>9661</td></tr>",
                            "<tr><td>2017-01-31</td><td>Összesen</td><td>6253</td></tr>",
                            "<tr><td>2017-02-01</td><td>Összesen</td><td>5703</td></tr>",
                            "<tr><td>2017-02-02</td><td>Összesen</td><td>8746</td></tr>",
                            "<tr><td>2017-02-03</td><td>Összesen</td><td>7840</td></tr>",
                            "<tr><td>2017-02-04</td><td>Összesen</td><td>6220</td></tr>",
                            "<tr><td>2017-02-05</td><td>Összesen</td><td>5138</td></tr>",
                            "<tr><td>2017-02-06</td><td>Összesen</td><td>8206</td></tr>",
                            "<tr><td>2017-02-07</td><td>Összesen</td><td>6846</td></tr>",
                            "<tr><td>2017-02-08</td><td>Összesen</td><td>10057</td></tr>",
                            "<tr><td>2017-02-09</td><td>Összesen</td><td>8302</td></tr>",
                            "<tr><td>2017-02-10</td><td>Összesen</td><td>8964</td></tr>",
                            "<tr><td>2017-02-11</td><td>Összesen</td><td>8790</td></tr>",
                            "<tr><td>2017-02-12</td><td>Összesen</td><td>6268</td></tr>",
                            "<tr><td>2017-02-13</td><td>Összesen</td><td>8176</td></tr>",
                            "<tr><td>2017-02-14</td><td>Összesen</td><td>10029</td></tr>",
                            "<tr><td>2017-02-15</td><td>Összesen</td><td>6443</td></tr>",
                            "<tr><td>2017-02-16</td><td>Összesen</td><td>8794</td></tr>",
                            "<tr><td>2017-02-17</td><td>Összesen</td><td>9808</td></tr>",
                            "<tr><td>2017-02-18</td><td>Összesen</td><td>10757</td></tr>",
                            "<tr><td>2017-02-19</td><td>Összesen</td><td>8284</td></tr>",
                            "<tr><td>2017-02-20</td><td>Összesen</td><td>5660</td></tr>",
                            "<tr><td>2017-02-21</td><td>Összesen</td><td>8878</td></tr>",
                            "<tr><td>2017-02-22</td><td>Összesen</td><td>9034</td></tr>",
                            "<tr><td>2017-02-23</td><td>Összesen</td><td>7574</td></tr>",
                            "<tr><td>2017-02-24</td><td>Összesen</td><td>6814</td></tr>",
                            "<tr><td>2017-02-25</td><td>Összesen</td><td>6820</td></tr>",
                            "<tr><td>2017-02-26</td><td>Összesen</td><td>8578</td></tr>",
                            "<tr><td>2017-02-27</td><td>Összesen</td><td>9185</td></tr>",
                            "<tr><td>2017-02-28</td><td>Összesen</td><td>11649</td></tr>",
                            "<tr><td>2017-03-01</td><td>Összesen</td><td>5037</td></tr>",
                            "<tr><td>2017-03-02</td><td>Összesen</td><td>4861</td></tr>",
                            "<tr><td>2017-03-03</td><td>Összesen</td><td>7585</td></tr>",
                            "<tr><td>2017-03-04</td><td>Összesen</td><td>5977</td></tr>",
                            "<tr><td>2017-03-05</td><td>Összesen</td><td>10338</td></tr>",
                            "<tr><td>2017-03-06</td><td>Összesen</td><td>10916</td></tr>",
                            "<tr><td>2017-03-07</td><td>Összesen</td><td>8747</td></tr>",
                            "<tr><td>2017-03-08</td><td>Összesen</td><td>6837</td></tr>",
                            "<tr><td>2017-03-09</td><td>Összesen</td><td>6964</td></tr>",
                            "<tr><td>2017-03-10</td><td>Összesen</td><td>6846</td></tr>",
                            "<tr><td>2017-03-11</td><td>Összesen</td><td>6885</td></tr>",
                            "<tr><td>2017-03-12</td><td>Összesen</td><td>5941</td></tr>",
                            "<tr><td>2017-03-13</td><td>Összesen</td><td>6950</td></tr>",
                            "<tr><td>2017-03-14</td><td>Összesen</td><td>7224</td></tr>",
                            "<tr><td>2017-03-15</td><td>Összesen</td><td>9718</td></tr>",
                            "<tr><td>2017-03-16</td><td>Összesen</td><td>9763</td></tr>",
                            "<tr><td>2017-03-17</td><td>Összesen</td><td>8908</td></tr>",
                            "<tr><td>2017-03-18</td><td>Összesen</td><td>9344</td></tr>",
                            "<tr><td>2017-03-19</td><td>Összesen</td><td>9937</td></tr>",
                            "<tr><td>2017-03-20</td><td>Összesen</td><td>7683</td></tr>",
                            "<tr><td>2017-03-21</td><td>Összesen</td><td>8639</td></tr>",
                            "<tr><td>2017-03-22</td><td>Összesen</td><td>6526</td></tr>",
                            "<tr><td>2017-03-23</td><td>Összesen</td><td>8799</td></tr>",
                            "<tr><td>2017-03-24</td><td>Összesen</td><td>7416</td></tr>",
                            "<tr><td>2017-03-25</td><td>Összesen</td><td>6272</td></tr>",
                            "<tr><td>2017-03-26</td><td>Összesen</td><td>7786</td></tr>",
                            "<tr><td>2017-03-27</td><td>Összesen</td><td>7715</td></tr>",
                            "<tr><td>2017-03-28</td><td>Összesen</td><td>8568</td></tr>",
                            "<tr><td>2017-03-29</td><td>Összesen</td><td>8346</td></tr>",
                            "<tr><td>2017-03-30</td><td>Összesen</td><td>8513</td></tr>",
                            "<tr><td>2017-03-31</td><td>Összesen</td><td>8598</td></tr>",
                            "<tr><td>2017-04-01</td><td>Összesen</td><td>7307</td></tr>",
                            "<tr><td>2017-04-02</td><td>Összesen</td><td>9477</td></tr>",
                            "<tr><td>2017-04-03</td><td>Összesen</td><td>6042</td></tr>",
                            "<tr><td>2017-04-04</td><td>Összesen</td><td>7493</td></tr>",
                            "<tr><td>2017-04-05</td><td>Összesen</td><td>7562</td></tr>",
                            "<tr><td>2017-04-06</td><td>Összesen</td><td>4646</td></tr>",
                            "<tr><td>2017-04-07</td><td>Összesen</td><td>5197</td></tr>",
                            "<tr><td>2017-04-08</td><td>Összesen</td><td>3057</td></tr>",
                            "<tr><td>2017-04-09</td><td>Összesen</td><td>3870</td></tr>",
                            "<tr><td>2017-04-10</td><td>Összesen</td><td>1640</td></tr>",
                            "<tr><td>2017-04-11</td><td>Összesen</td><td>1220</td></tr>",
                            "<tr><td>Összesen</td><td>Összesen</td><td>5578316</td></tr>",
                            "</table>"
                        ]
                    }
                }
            ],
            "execution_count": 27
        },
        {
            "cell_type": "markdown",
            "source": [
                "```\n",
                "3. Hány olyan ügyfél van, aki még nem rendelt semmit?\n",
                "```\n",
                "\n",
                "1. Csoportosítsuk őket nem szerint, azon belül életkor szerint!\n",
                "2. A lista tartalmazza a részösszegeket és a végösszeget is!\n",
                "\n",
                "![](https://moodle.uni-corvinus.hu/theme/image.php/adaptable/atto_h5p/1709548862/icon)"
            ],
            "metadata": {
                "azdata_cell_guid": "d7876bb9-76d0-4d07-baed-3cb17b2f96c3"
            },
            "attachments": {}
        },
        {
            "cell_type": "code",
            "source": [
                ""
            ],
            "metadata": {
                "azdata_cell_guid": "56ec19ce-e249-4551-b2a8-f17569765acc",
                "language": "sql"
            },
            "outputs": [],
            "execution_count": null
        },
        {
            "cell_type": "markdown",
            "source": [
                "4. <span style=\"color: rgb(36, 41, 47); font-family: -apple-system, BlinkMacSystemFont, &quot;Segoe UI&quot;, Helvetica, Arial, sans-serif, &quot;Apple Color Emoji&quot;, &quot;Segoe UI Emoji&quot;; font-size: 16px;\">Készítsünk listát a megrendelt termékek legkisebb és legnagyobb egységáráról szállítási dátum, azon belül szállítási mód szerinti bontásban!</span>\n",
                "\n",
                "1. A lista csak a 2015 májusi szállításokat tartalmazza!\n",
                "2. Jelenítsük meg a részösszegeket és a végösszeget is!"
            ],
            "metadata": {
                "azdata_cell_guid": "8e7fef82-8022-49a0-8255-fc2846c2134b"
            },
            "attachments": {}
        },
        {
            "cell_type": "code",
            "source": [
                ""
            ],
            "metadata": {
                "azdata_cell_guid": "36f7b396-4a1f-45e5-8720-2302537c91bc",
                "language": "sql"
            },
            "outputs": [],
            "execution_count": null
        },
        {
            "cell_type": "markdown",
            "source": [
                "5. <span style=\"color: rgb(36, 41, 47); font-family: -apple-system, BlinkMacSystemFont, &quot;Segoe UI&quot;, Helvetica, Arial, sans-serif, &quot;Apple Color Emoji&quot;, &quot;Segoe UI Emoji&quot;; font-size: 16px;\">Készítsünk csoportot a termékek listaára alapján a következők szerint:&nbsp;<br></span> <span style=\"color: rgb(36, 41, 47); font-family: -apple-system, BlinkMacSystemFont, &quot;Segoe UI&quot;, Helvetica, Arial, sans-serif, &quot;Apple Color Emoji&quot;, &quot;Segoe UI Emoji&quot;; font-size: 16px;\">Az \"olcsó\" termékek legyenek azok, amelyek listaára 3000 alatt van.<br>&nbsp;A \"drága\" termékek legyenek az 5000 felettiek, a többi legyen \"közepes\".</span>\n",
                "\n",
                "1. Listázzuk az egyes csoportokat, és a csoportokba tartozó termékek darabszámát!\n",
                "2. A lista jelenítse meg a végösszeget is!"
            ],
            "metadata": {
                "azdata_cell_guid": "84239ca2-6b5e-49f5-9860-d44c11d6de32"
            },
            "attachments": {}
        },
        {
            "cell_type": "code",
            "source": [
                ""
            ],
            "metadata": {
                "azdata_cell_guid": "06d9a62b-9430-424b-a135-d80e675f0eb3",
                "language": "sql"
            },
            "outputs": [],
            "execution_count": null
        },
        {
            "cell_type": "markdown",
            "source": [
                "6. <span style=\"font-weight: 600; color: rgb(36, 41, 47); font-family: -apple-system, BlinkMacSystemFont, &quot;Segoe UI&quot;, Helvetica, Arial, sans-serif, &quot;Apple Color Emoji&quot;, &quot;Segoe UI Emoji&quot;; font-size: 16px;\">Készítsünk listát az ügyfelek adatairól név szerinti sorrendben.</span>\n",
                "\n",
                "1. Minden sorban jelenjen meg a sorrend szerint előző, illetve következő ügyfél neve is.\n",
                "2. Ha nincs előző vagy következő ügyfél, akkor a 'Nincs' jelenjen meg!"
            ],
            "metadata": {
                "azdata_cell_guid": "b0d15045-3c43-4f3a-b8d4-76b4f24e5546"
            },
            "attachments": {}
        },
        {
            "cell_type": "code",
            "source": [
                ""
            ],
            "metadata": {
                "azdata_cell_guid": "f2b7400d-1255-40ac-9250-4d57f9da5357",
                "language": "sql"
            },
            "outputs": [],
            "execution_count": null
        },
        {
            "cell_type": "markdown",
            "source": [
                "7. <span style=\"font-weight: 600; color: rgb(36, 41, 47); font-family: -apple-system, BlinkMacSystemFont, &quot;Segoe UI&quot;, Helvetica, Arial, sans-serif, &quot;Apple Color Emoji&quot;, &quot;Segoe UI Emoji&quot;; font-size: 16px;\">Készítsünk lekérdezést, amely megmutatja, hogy melyik termékkategóriába hány termék tartozik. A lista a kategória nevét és a darabszámot jelenítse meg.</span>\n",
                "\n",
                "1. A lista ne tartalmazzon duplikált sorokat.\n",
                "2. A feladatot partíciók segítségével oldjuk meg!"
            ],
            "metadata": {
                "azdata_cell_guid": "7ebf7ddd-1bd2-4246-815a-be8ae37e3b5b"
            },
            "attachments": {}
        },
        {
            "cell_type": "code",
            "source": [
                ""
            ],
            "metadata": {
                "azdata_cell_guid": "84b7e896-f36e-4985-88f5-e0f706494fef",
                "language": "sql"
            },
            "outputs": [],
            "execution_count": null
        },
        {
            "cell_type": "markdown",
            "source": [
                "8. <span style=\"font-weight: 600; color: rgb(36, 41, 47); font-family: -apple-system, BlinkMacSystemFont, &quot;Segoe UI&quot;, Helvetica, Arial, sans-serif, &quot;Apple Color Emoji&quot;, &quot;Segoe UI Emoji&quot;; font-size: 16px;\">Készítsünk listát a rendelési tételekről. Az egyes rendelési tételeket termékenként soroljuk be 4 osztályba a rendelés mennyisége alapján. Jelenítsük meg ezt az információt is egy új oszlopban, az oszlop neve legyen 'Mennyiségi kategória'.</span>\n",
                "\n",
                "1. A lista csak a 100 Ft feletti egységárú rendelési tételeket vegye figyelembe!"
            ],
            "metadata": {
                "azdata_cell_guid": "27a3d3dc-eafb-4a5e-b103-9f465b9eda8f"
            },
            "attachments": {}
        },
        {
            "cell_type": "code",
            "source": [
                ""
            ],
            "metadata": {
                "azdata_cell_guid": "f09edb3f-649b-4a96-958e-9e12774ae8b7",
                "language": "sql"
            },
            "outputs": [],
            "execution_count": null
        },
        {
            "cell_type": "markdown",
            "source": [
                "9. <span style=\"font-weight: 600; color: rgb(36, 41, 47); font-family: -apple-system, BlinkMacSystemFont, &quot;Segoe UI&quot;, Helvetica, Arial, sans-serif, &quot;Apple Color Emoji&quot;, &quot;Segoe UI Emoji&quot;; font-size: 16px;\">Listázzuk a termékek kódját, megnevezését, kategóriájának nevét, és listaárát.</span>\n",
                "\n",
                "1. A listát egészítsük ki két új oszloppal, amelyek a kategória legolcsóbb, illetve legdrágább termékének árát tartalmazzák.\n",
                "2. A két új oszlop létrehozásánál partíciókkal dolgozzunk!"
            ],
            "metadata": {
                "azdata_cell_guid": "f12a331a-0e26-4d3d-9c68-812316286577"
            },
            "attachments": {}
        },
        {
            "cell_type": "code",
            "source": [
                ""
            ],
            "metadata": {
                "azdata_cell_guid": "10a77fc9-e61a-46fc-a401-59720d82bc50",
                "language": "sql"
            },
            "outputs": [],
            "execution_count": null
        },
        {
            "cell_type": "markdown",
            "source": [
                "10. <span style=\"font-weight: 600; color: rgb(36, 41, 47); font-family: -apple-system, BlinkMacSystemFont, &quot;Segoe UI&quot;, Helvetica, Arial, sans-serif, &quot;Apple Color Emoji&quot;, &quot;Segoe UI Emoji&quot;; font-size: 16px;\">Készítsünk listát a rendelésekről. A lista legyen rendezve ügyfelenként (LOGIN), azon belül a rendelés dátuma szerint. A listához készítsünk sorszámozást is. A sorszám a következő formában jelenjen meg: sorszám_év_login. Pl: 1_2015_adam1</span>\n",
                "\n",
                "1. A számozás login-onként, azon belül rendelési évenként kezdődjön újra.\n",
                "2. A sorszám oszlop neve legyen Azonosító"
            ],
            "metadata": {
                "azdata_cell_guid": "9229e2b6-e200-4499-b95b-2d0222149831"
            },
            "attachments": {}
        },
        {
            "cell_type": "code",
            "source": [
                ""
            ],
            "metadata": {
                "azdata_cell_guid": "8b49ed67-28c6-4880-82a8-cd369e5bba99",
                "language": "sql"
            },
            "outputs": [],
            "execution_count": null
        },
        {
            "cell_type": "markdown",
            "source": [
                "11. <span style=\"color: rgb(36, 41, 47); font-family: -apple-system, BlinkMacSystemFont, &quot;Segoe UI&quot;, Helvetica, Arial, sans-serif, &quot;Apple Color Emoji&quot;, &quot;Segoe UI Emoji&quot;; font-size: 16px;\">Készítsünk listát a termékek adatairól listaár szerint növekvő sorrendben! A lista jelenítse meg két új oszlopban a sorrend szerint előző, illetve következő termék listaárát is a termék saját kategóriájában és raktárában!</span>\n",
                "\n",
                "1. Ahol nincs előző vagy következő érték, ott 0 jelenjen meg!\n",
                "2. Az oszlopokat nevezzük el értelemszerűen!"
            ],
            "metadata": {
                "azdata_cell_guid": "7f5fc7a7-3b6a-4d89-b292-490830afb0c6"
            },
            "attachments": {}
        },
        {
            "cell_type": "code",
            "source": [
                ""
            ],
            "metadata": {
                "azdata_cell_guid": "4a9ece40-f782-4c0d-92cd-9c21969067ed",
                "language": "sql"
            },
            "outputs": [],
            "execution_count": null
        },
        {
            "cell_type": "markdown",
            "source": [
                "12. <span style=\"color: rgb(36, 41, 47); font-family: -apple-system, BlinkMacSystemFont, &quot;Segoe UI&quot;, Helvetica, Arial, sans-serif, &quot;Apple Color Emoji&quot;, &quot;Segoe UI Emoji&quot;; font-size: 16px;\">Listázzuk a termékek kódját, nevét és listaárát listaár szerinti sorrendben!</span>\n",
                "\n",
                "1. Vegyünk fel egy új oszlopot Mozgóátlag néven, amely minden esetben az aktuális termék, az előző, és a következő termék átlagárát tartalmazza!\n",
                "2. A mozgóátlagot kerekítsük két tizedesre!"
            ],
            "metadata": {
                "azdata_cell_guid": "5a483c52-bb98-44bb-bd03-1146d4b0abfa"
            },
            "attachments": {}
        },
        {
            "cell_type": "code",
            "source": [
                ""
            ],
            "metadata": {
                "azdata_cell_guid": "dd6e89bd-08f9-4b18-8460-03c45b503df0",
                "language": "sql"
            },
            "outputs": [],
            "execution_count": null
        },
        {
            "cell_type": "markdown",
            "source": [
                "13. <span style=\"color: rgb(36, 41, 47); font-family: -apple-system, BlinkMacSystemFont, &quot;Segoe UI&quot;, Helvetica, Arial, sans-serif, &quot;Apple Color Emoji&quot;, &quot;Segoe UI Emoji&quot;; font-size: 16px;\">Készítsünk listát, amely a rendelések sorszámát és a rendelés értékét tartalmazza. A listát egészítsük ki egy új oszloppal, amely minden rendelés esetén addigi rendelések összegét tartalmazza (az aktuálisat is beleértve)!</span>\n",
                "\n",
                "1. A listát rendezzük sorszám szerint növekvő sorrendbe.\n",
                "2. A lista ne tartalmazzon duplikált sorokat!"
            ],
            "metadata": {
                "azdata_cell_guid": "85d5cb66-96c6-42de-99cf-85ab22d08548"
            },
            "attachments": {}
        },
        {
            "cell_type": "code",
            "source": [
                ""
            ],
            "metadata": {
                "azdata_cell_guid": "cb07d64b-0eaa-498b-b4d2-0b46971e95ce",
                "language": "sql"
            },
            "outputs": [],
            "execution_count": null
        },
        {
            "cell_type": "markdown",
            "source": [
                "14. <span style=\"color: rgb(36, 41, 47); font-family: -apple-system, BlinkMacSystemFont, &quot;Segoe UI&quot;, Helvetica, Arial, sans-serif, &quot;Apple Color Emoji&quot;, &quot;Segoe UI Emoji&quot;; font-size: 16px;\">Készítsünk listát a termékek kódjáról, nevéről, kategória azonosítójáról, raktár azonosítójáról és listaáráról, valamint a termék adott szempontok szerinti rangsorokban elfoglalt helyezéseiről. (Szempontonként külön oszlopban, a helyezéseknél növekvő sorrendet feltételezve). A szempontok a következők legyenek: listaár, kategória szerinti listaár, és raktárkód szerinti listaár.</span>\n",
                "\n",
                "1. Az oszlopokat nevezzük el értelemszerűen.\n",
                "2. A helyezések egyenlőség esetén \"sűrűn\" kövessék egymást.\n",
                "3. A lista legyen rendezett kategória azonosító, azon belül listaár szerint!"
            ],
            "metadata": {
                "azdata_cell_guid": "f95ad665-a807-4099-bf06-64ed974f866f"
            },
            "attachments": {}
        },
        {
            "cell_type": "code",
            "source": [
                ""
            ],
            "metadata": {
                "azdata_cell_guid": "74c7ec8a-ae4a-4d03-b1c4-e8f6bb1be12c",
                "language": "sql"
            },
            "outputs": [],
            "execution_count": null
        },
        {
            "cell_type": "markdown",
            "source": [
                "15. <span style=\"color: rgb(36, 41, 47); font-family: -apple-system, BlinkMacSystemFont, &quot;Segoe UI&quot;, Helvetica, Arial, sans-serif, &quot;Apple Color Emoji&quot;, &quot;Segoe UI Emoji&quot;; font-size: 16px;\">Készítsünk listát a rendelési tételekről, amely minden sor esetén göngyölítve tartalmazza az ügyfél adott rendelési tételig meglévő rendelési tételeinek összértékét!</span>\n",
                "\n",
                "1. Az új oszlop neve legyen Eddigi rendelési tételek összértéke!\n",
                "2. Az ügyfél neve is jelenjen meg!"
            ],
            "metadata": {
                "azdata_cell_guid": "93552388-ffec-49ff-99e5-ae8dc8072601"
            },
            "attachments": {}
        },
        {
            "cell_type": "code",
            "source": [
                ""
            ],
            "metadata": {
                "azdata_cell_guid": "0e7f547f-7d96-4611-b1c2-0fa84a581e79",
                "language": "sql"
            },
            "outputs": [],
            "execution_count": null
        }
    ]
}